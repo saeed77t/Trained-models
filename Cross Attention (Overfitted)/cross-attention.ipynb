{
 "cells": [
  {
   "cell_type": "code",
   "execution_count": 1,
   "id": "f05a985b",
   "metadata": {
    "_cell_guid": "b1076dfc-b9ad-4769-8c92-a6c4dae69d19",
    "_uuid": "8f2839f25d086af736a60e9eeb907d3b93b6e0e5",
    "execution": {
     "iopub.execute_input": "2025-02-05T08:53:11.200968Z",
     "iopub.status.busy": "2025-02-05T08:53:11.200662Z",
     "iopub.status.idle": "2025-02-05T08:53:16.579001Z",
     "shell.execute_reply": "2025-02-05T08:53:16.578152Z"
    },
    "papermill": {
     "duration": 5.383754,
     "end_time": "2025-02-05T08:53:16.580720",
     "exception": false,
     "start_time": "2025-02-05T08:53:11.196966",
     "status": "completed"
    },
    "tags": []
   },
   "outputs": [
    {
     "name": "stdout",
     "output_type": "stream",
     "text": [
      "Collecting torch-geometric\r\n",
      "  Downloading torch_geometric-2.6.1-py3-none-any.whl.metadata (63 kB)\r\n",
      "\u001b[2K     \u001b[90m━━━━━━━━━━━━━━━━━━━━━━━━━━━━━━━━━━━━━━━━\u001b[0m \u001b[32m63.1/63.1 kB\u001b[0m \u001b[31m3.5 MB/s\u001b[0m eta \u001b[36m0:00:00\u001b[0m\r\n",
      "\u001b[?25hRequirement already satisfied: aiohttp in /usr/local/lib/python3.10/dist-packages (from torch-geometric) (3.11.10)\r\n",
      "Requirement already satisfied: fsspec in /usr/local/lib/python3.10/dist-packages (from torch-geometric) (2024.9.0)\r\n",
      "Requirement already satisfied: jinja2 in /usr/local/lib/python3.10/dist-packages (from torch-geometric) (3.1.4)\r\n",
      "Requirement already satisfied: numpy in /usr/local/lib/python3.10/dist-packages (from torch-geometric) (1.26.4)\r\n",
      "Requirement already satisfied: psutil>=5.8.0 in /usr/local/lib/python3.10/dist-packages (from torch-geometric) (5.9.5)\r\n",
      "Requirement already satisfied: pyparsing in /usr/local/lib/python3.10/dist-packages (from torch-geometric) (3.2.0)\r\n",
      "Requirement already satisfied: requests in /usr/local/lib/python3.10/dist-packages (from torch-geometric) (2.32.3)\r\n",
      "Requirement already satisfied: tqdm in /usr/local/lib/python3.10/dist-packages (from torch-geometric) (4.67.1)\r\n",
      "Requirement already satisfied: aiohappyeyeballs>=2.3.0 in /usr/local/lib/python3.10/dist-packages (from aiohttp->torch-geometric) (2.4.4)\r\n",
      "Requirement already satisfied: aiosignal>=1.1.2 in /usr/local/lib/python3.10/dist-packages (from aiohttp->torch-geometric) (1.3.2)\r\n",
      "Requirement already satisfied: async-timeout<6.0,>=4.0 in /usr/local/lib/python3.10/dist-packages (from aiohttp->torch-geometric) (4.0.3)\r\n",
      "Requirement already satisfied: attrs>=17.3.0 in /usr/local/lib/python3.10/dist-packages (from aiohttp->torch-geometric) (24.3.0)\r\n",
      "Requirement already satisfied: frozenlist>=1.1.1 in /usr/local/lib/python3.10/dist-packages (from aiohttp->torch-geometric) (1.5.0)\r\n",
      "Requirement already satisfied: multidict<7.0,>=4.5 in /usr/local/lib/python3.10/dist-packages (from aiohttp->torch-geometric) (6.1.0)\r\n",
      "Requirement already satisfied: propcache>=0.2.0 in /usr/local/lib/python3.10/dist-packages (from aiohttp->torch-geometric) (0.2.1)\r\n",
      "Requirement already satisfied: yarl<2.0,>=1.17.0 in /usr/local/lib/python3.10/dist-packages (from aiohttp->torch-geometric) (1.18.3)\r\n",
      "Requirement already satisfied: MarkupSafe>=2.0 in /usr/local/lib/python3.10/dist-packages (from jinja2->torch-geometric) (3.0.2)\r\n",
      "Requirement already satisfied: mkl_fft in /usr/local/lib/python3.10/dist-packages (from numpy->torch-geometric) (1.3.8)\r\n",
      "Requirement already satisfied: mkl_random in /usr/local/lib/python3.10/dist-packages (from numpy->torch-geometric) (1.2.4)\r\n",
      "Requirement already satisfied: mkl_umath in /usr/local/lib/python3.10/dist-packages (from numpy->torch-geometric) (0.1.1)\r\n",
      "Requirement already satisfied: mkl in /usr/local/lib/python3.10/dist-packages (from numpy->torch-geometric) (2025.0.1)\r\n",
      "Requirement already satisfied: tbb4py in /usr/local/lib/python3.10/dist-packages (from numpy->torch-geometric) (2022.0.0)\r\n",
      "Requirement already satisfied: mkl-service in /usr/local/lib/python3.10/dist-packages (from numpy->torch-geometric) (2.4.1)\r\n",
      "Requirement already satisfied: charset-normalizer<4,>=2 in /usr/local/lib/python3.10/dist-packages (from requests->torch-geometric) (3.4.0)\r\n",
      "Requirement already satisfied: idna<4,>=2.5 in /usr/local/lib/python3.10/dist-packages (from requests->torch-geometric) (3.10)\r\n",
      "Requirement already satisfied: urllib3<3,>=1.21.1 in /usr/local/lib/python3.10/dist-packages (from requests->torch-geometric) (2.2.3)\r\n",
      "Requirement already satisfied: certifi>=2017.4.17 in /usr/local/lib/python3.10/dist-packages (from requests->torch-geometric) (2024.12.14)\r\n",
      "Requirement already satisfied: typing-extensions>=4.1.0 in /usr/local/lib/python3.10/dist-packages (from multidict<7.0,>=4.5->aiohttp->torch-geometric) (4.12.2)\r\n",
      "Requirement already satisfied: intel-openmp>=2024 in /usr/local/lib/python3.10/dist-packages (from mkl->numpy->torch-geometric) (2024.2.0)\r\n",
      "Requirement already satisfied: tbb==2022.* in /usr/local/lib/python3.10/dist-packages (from mkl->numpy->torch-geometric) (2022.0.0)\r\n",
      "Requirement already satisfied: tcmlib==1.* in /usr/local/lib/python3.10/dist-packages (from tbb==2022.*->mkl->numpy->torch-geometric) (1.2.0)\r\n",
      "Requirement already satisfied: intel-cmplr-lib-rt in /usr/local/lib/python3.10/dist-packages (from mkl_umath->numpy->torch-geometric) (2024.2.0)\r\n",
      "Requirement already satisfied: intel-cmplr-lib-ur==2024.2.0 in /usr/local/lib/python3.10/dist-packages (from intel-openmp>=2024->mkl->numpy->torch-geometric) (2024.2.0)\r\n",
      "Downloading torch_geometric-2.6.1-py3-none-any.whl (1.1 MB)\r\n",
      "\u001b[2K   \u001b[90m━━━━━━━━━━━━━━━━━━━━━━━━━━━━━━━━━━━━━━━━\u001b[0m \u001b[32m1.1/1.1 MB\u001b[0m \u001b[31m38.3 MB/s\u001b[0m eta \u001b[36m0:00:00\u001b[0m\r\n",
      "\u001b[?25hInstalling collected packages: torch-geometric\r\n",
      "Successfully installed torch-geometric-2.6.1\r\n"
     ]
    }
   ],
   "source": [
    "!pip install torch-geometric"
   ]
  },
  {
   "cell_type": "code",
   "execution_count": 2,
   "id": "bd76f77d",
   "metadata": {
    "execution": {
     "iopub.execute_input": "2025-02-05T08:53:16.587228Z",
     "iopub.status.busy": "2025-02-05T08:53:16.586945Z",
     "iopub.status.idle": "2025-02-05T08:54:29.748968Z",
     "shell.execute_reply": "2025-02-05T08:54:29.748028Z"
    },
    "papermill": {
     "duration": 73.169534,
     "end_time": "2025-02-05T08:54:29.753289",
     "exception": false,
     "start_time": "2025-02-05T08:53:16.583755",
     "status": "completed"
    },
    "tags": []
   },
   "outputs": [
    {
     "name": "stderr",
     "output_type": "stream",
     "text": [
      "<ipython-input-2-c90b9d14e3c5>:16: FutureWarning: You are using `torch.load` with `weights_only=False` (the current default value), which uses the default pickle module implicitly. It is possible to construct malicious pickle data which will execute arbitrary code during unpickling (See https://github.com/pytorch/pytorch/blob/main/SECURITY.md#untrusted-models for more details). In a future release, the default value for `weights_only` will be flipped to `True`. This limits the functions that could be executed during unpickling. Arbitrary objects will no longer be allowed to be loaded via this mode unless they are explicitly allowlisted by the user via `torch.serialization.add_safe_globals`. We recommend you start setting `weights_only=True` for any use case where you don't have full control of the loaded file. Please open an issue on GitHub for any issues related to this experimental feature.\n",
      "  return torch.load(path)\n"
     ]
    },
    {
     "name": "stdout",
     "output_type": "stream",
     "text": [
      "Saved sample 0 as prepared_samples/sample_0.pt\n"
     ]
    },
    {
     "name": "stderr",
     "output_type": "stream",
     "text": [
      "<ipython-input-2-c90b9d14e3c5>:16: FutureWarning: You are using `torch.load` with `weights_only=False` (the current default value), which uses the default pickle module implicitly. It is possible to construct malicious pickle data which will execute arbitrary code during unpickling (See https://github.com/pytorch/pytorch/blob/main/SECURITY.md#untrusted-models for more details). In a future release, the default value for `weights_only` will be flipped to `True`. This limits the functions that could be executed during unpickling. Arbitrary objects will no longer be allowed to be loaded via this mode unless they are explicitly allowlisted by the user via `torch.serialization.add_safe_globals`. We recommend you start setting `weights_only=True` for any use case where you don't have full control of the loaded file. Please open an issue on GitHub for any issues related to this experimental feature.\n",
      "  return torch.load(path)\n"
     ]
    },
    {
     "name": "stdout",
     "output_type": "stream",
     "text": [
      "Saved sample 10000 as prepared_samples/sample_10000.pt\n",
      "Dataset preparation completed.\n"
     ]
    }
   ],
   "source": [
    "#create samples :\n",
    "import os\n",
    "import torch\n",
    "import pickle\n",
    "import pandas as pd\n",
    "\n",
    "def load_graph(path, is_pickle=True):\n",
    "    \"\"\"\n",
    "    Load a molecule graph (.pkl) or a protein graph (.pt).\n",
    "    If is_pickle is True, use pickle to load the file; otherwise, use torch.load.\n",
    "    \"\"\"\n",
    "    if is_pickle:\n",
    "        with open(path, 'rb') as f:\n",
    "            return pickle.load(f)\n",
    "    else:\n",
    "        return torch.load(path)\n",
    "\n",
    "def prepare_dataset_individual_save_as_pt(filtered_dataset, molecule_graph_dir, protein_graph_dir, output_dir):\n",
    "    \"\"\"\n",
    "    Incrementally prepares the dataset and saves each (molecule, protein, target) tuple as a separate .pt file.\n",
    "\n",
    "    Args:\n",
    "    - filtered_dataset: The filtered KIBA dataset (DataFrame).\n",
    "    - molecule_graph_dir: Directory where molecule graphs are stored.\n",
    "    - protein_graph_dir: Directory where protein graphs are stored.\n",
    "    - output_dir: Directory to save the prepared dataset incrementally.\n",
    "    \"\"\"\n",
    "    if not os.path.exists(output_dir):\n",
    "        os.makedirs(output_dir)\n",
    "\n",
    "    for index, row in filtered_dataset.iterrows():\n",
    "        protein_id = row['Target_ID']\n",
    "        chembl_id = row['Drug_ID']\n",
    "\n",
    "        # Load the protein graph (.pt)\n",
    "        pro_graph_path = os.path.join(protein_graph_dir, f\"{protein_id}_graph.pt\")\n",
    "        if not os.path.exists(pro_graph_path):\n",
    "            print(f\"Protein graph not found: {protein_id}\")\n",
    "            continue\n",
    "        pro_graph = load_graph(pro_graph_path, is_pickle=False)\n",
    "\n",
    "        # Load the molecule graph (.pkl)\n",
    "        mol_graph_path = os.path.join(molecule_graph_dir, f\"{chembl_id}_graph.pkl\")\n",
    "        if not os.path.exists(mol_graph_path):\n",
    "            print(f\"Molecule graph not found: {chembl_id}\")\n",
    "            continue\n",
    "        mol_graph = load_graph(mol_graph_path)\n",
    "\n",
    "        # Load target (affinity value)\n",
    "        target = torch.tensor([row['Y']], dtype=torch.float)\n",
    "\n",
    "        # Create the sample as a tuple (molecule graph, protein graph, target)\n",
    "        sample = (mol_graph, pro_graph, target)\n",
    "\n",
    "        # Save the sample as a .pt file\n",
    "        sample_path = os.path.join(output_dir, f\"sample_{index}.pt\")\n",
    "        torch.save(sample, sample_path)\n",
    "\n",
    "        if(index%10000 == 0 ):\n",
    "            print(f\"Saved sample {index} as {sample_path}\")\n",
    "\n",
    "\n",
    "\n",
    "\n",
    "# Example usage for individual saving\n",
    "molecule_graph_dir = '/kaggle/input/graphs/molecule_graphs'  # Directory where molecule graphs are stored\n",
    "protein_graph_dir = '/kaggle/input/graphs/ProteinGraphs'  # Directory where protein graphs are stored\n",
    "filtered_dataset_path = '/kaggle/input/graphs/filtered_DavisDataSet.csv'  # Path to the filtered dataset CSV\n",
    "output_dir = 'prepared_samples/'  # Directory to save individual samples\n",
    "\n",
    "# Load filtered dataset CSV\n",
    "filtered_dataset = pd.read_csv(filtered_dataset_path)\n",
    "\n",
    "# Prepare the dataset incrementally, saving each sample as a .pt file\n",
    "prepare_dataset_individual_save_as_pt(filtered_dataset, molecule_graph_dir, protein_graph_dir, output_dir)\n",
    "\n",
    "print(\"Dataset preparation completed.\")\n"
   ]
  },
  {
   "cell_type": "code",
   "execution_count": 3,
   "id": "bdbca22c",
   "metadata": {
    "execution": {
     "iopub.execute_input": "2025-02-05T08:54:29.760115Z",
     "iopub.status.busy": "2025-02-05T08:54:29.759681Z",
     "iopub.status.idle": "2025-02-05T17:49:37.320076Z",
     "shell.execute_reply": "2025-02-05T17:49:37.319200Z"
    },
    "papermill": {
     "duration": 32107.565488,
     "end_time": "2025-02-05T17:49:37.321528",
     "exception": false,
     "start_time": "2025-02-05T08:54:29.756040",
     "status": "completed"
    },
    "tags": []
   },
   "outputs": [
    {
     "name": "stdout",
     "output_type": "stream",
     "text": [
      "Running on cuda.\n",
      "Checkpoints will be saved to: /kaggle/working/TrainingModel1\n",
      "Starting fresh metrics tracking.\n",
      "GNNNet Loaded\n",
      "No existing checkpoint found; starting fresh.\n"
     ]
    },
    {
     "name": "stderr",
     "output_type": "stream",
     "text": [
      "Training:   0%|          | 0/250 [00:59<?, ?epoch/s]"
     ]
    },
    {
     "name": "stdout",
     "output_type": "stream",
     "text": [
      "[Epoch 1/250] Training Loss: 1.4235\n"
     ]
    },
    {
     "name": "stderr",
     "output_type": "stream",
     "text": [
      "Training:   0%|          | 1/250 [02:13<9:14:36, 133.64s/epoch]"
     ]
    },
    {
     "name": "stdout",
     "output_type": "stream",
     "text": [
      "  Train => MSE=0.6911, CI=0.7044, Pearson=0.4149\n",
      "  Test  => MSE=0.6491, CI=0.6935, Pearson=0.3825\n",
      "Checkpoint saved at epoch 1\n"
     ]
    },
    {
     "name": "stderr",
     "output_type": "stream",
     "text": [
      "Training:   0%|          | 1/250 [03:10<9:14:36, 133.64s/epoch]"
     ]
    },
    {
     "name": "stdout",
     "output_type": "stream",
     "text": [
      "[Epoch 2/250] Training Loss: 0.7385\n"
     ]
    },
    {
     "name": "stderr",
     "output_type": "stream",
     "text": [
      "Training:   1%|          | 2/250 [04:22<9:01:04, 130.90s/epoch]"
     ]
    },
    {
     "name": "stdout",
     "output_type": "stream",
     "text": [
      "  Train => MSE=0.6234, CI=0.7272, Pearson=0.4675\n",
      "  Test  => MSE=0.5895, CI=0.7162, Pearson=0.4460\n",
      "Checkpoint saved at epoch 2\n",
      "Deleted previous checkpoint: /kaggle/working/TrainingModel1/model_epoch1.pt\n"
     ]
    },
    {
     "name": "stderr",
     "output_type": "stream",
     "text": [
      "Training:   1%|          | 2/250 [05:19<9:01:04, 130.90s/epoch]"
     ]
    },
    {
     "name": "stdout",
     "output_type": "stream",
     "text": [
      "[Epoch 3/250] Training Loss: 0.7230\n"
     ]
    },
    {
     "name": "stderr",
     "output_type": "stream",
     "text": [
      "Training:   1%|          | 3/250 [06:31<8:54:23, 129.81s/epoch]"
     ]
    },
    {
     "name": "stdout",
     "output_type": "stream",
     "text": [
      "  Train => MSE=0.5840, CI=0.7365, Pearson=0.4899\n",
      "  Test  => MSE=0.5531, CI=0.7270, Pearson=0.4721\n",
      "Checkpoint saved at epoch 3\n",
      "Deleted previous checkpoint: /kaggle/working/TrainingModel1/model_epoch2.pt\n"
     ]
    },
    {
     "name": "stderr",
     "output_type": "stream",
     "text": [
      "Training:   1%|          | 3/250 [07:28<8:54:23, 129.81s/epoch]"
     ]
    },
    {
     "name": "stdout",
     "output_type": "stream",
     "text": [
      "[Epoch 4/250] Training Loss: 0.6869\n"
     ]
    },
    {
     "name": "stderr",
     "output_type": "stream",
     "text": [
      "Training:   2%|▏         | 4/250 [08:39<8:50:08, 129.30s/epoch]"
     ]
    },
    {
     "name": "stdout",
     "output_type": "stream",
     "text": [
      "  Train => MSE=0.5786, CI=0.7390, Pearson=0.4926\n",
      "  Test  => MSE=0.5491, CI=0.7315, Pearson=0.4742\n",
      "Checkpoint saved at epoch 4\n",
      "Deleted previous checkpoint: /kaggle/working/TrainingModel1/model_epoch3.pt\n"
     ]
    },
    {
     "name": "stderr",
     "output_type": "stream",
     "text": [
      "Training:   2%|▏         | 4/250 [09:36<8:50:08, 129.30s/epoch]"
     ]
    },
    {
     "name": "stdout",
     "output_type": "stream",
     "text": [
      "[Epoch 5/250] Training Loss: 0.6623\n"
     ]
    },
    {
     "name": "stderr",
     "output_type": "stream",
     "text": [
      "Training:   2%|▏         | 5/250 [10:48<8:46:35, 128.96s/epoch]"
     ]
    },
    {
     "name": "stdout",
     "output_type": "stream",
     "text": [
      "  Train => MSE=0.6504, CI=0.7513, Pearson=0.5146\n",
      "  Test  => MSE=0.6149, CI=0.7456, Pearson=0.4993\n",
      "Checkpoint saved at epoch 5\n",
      "Deleted previous checkpoint: /kaggle/working/TrainingModel1/model_epoch4.pt\n"
     ]
    },
    {
     "name": "stderr",
     "output_type": "stream",
     "text": [
      "Training:   2%|▏         | 5/250 [11:45<8:46:35, 128.96s/epoch]"
     ]
    },
    {
     "name": "stdout",
     "output_type": "stream",
     "text": [
      "[Epoch 6/250] Training Loss: 0.6361\n"
     ]
    },
    {
     "name": "stderr",
     "output_type": "stream",
     "text": [
      "Training:   2%|▏         | 6/250 [12:56<8:43:53, 128.83s/epoch]"
     ]
    },
    {
     "name": "stdout",
     "output_type": "stream",
     "text": [
      "  Train => MSE=0.6235, CI=0.7495, Pearson=0.5331\n",
      "  Test  => MSE=0.5885, CI=0.7425, Pearson=0.5225\n",
      "Checkpoint saved at epoch 6\n",
      "Deleted previous checkpoint: /kaggle/working/TrainingModel1/model_epoch5.pt\n"
     ]
    },
    {
     "name": "stderr",
     "output_type": "stream",
     "text": [
      "Training:   2%|▏         | 6/250 [13:53<8:43:53, 128.83s/epoch]"
     ]
    },
    {
     "name": "stdout",
     "output_type": "stream",
     "text": [
      "[Epoch 7/250] Training Loss: 0.6268\n"
     ]
    },
    {
     "name": "stderr",
     "output_type": "stream",
     "text": [
      "Training:   3%|▎         | 7/250 [15:05<8:41:19, 128.72s/epoch]"
     ]
    },
    {
     "name": "stdout",
     "output_type": "stream",
     "text": [
      "  Train => MSE=0.7683, CI=0.7649, Pearson=0.5513\n",
      "  Test  => MSE=0.7259, CI=0.7630, Pearson=0.5428\n",
      "Checkpoint saved at epoch 7\n",
      "Deleted previous checkpoint: /kaggle/working/TrainingModel1/model_epoch6.pt\n"
     ]
    },
    {
     "name": "stderr",
     "output_type": "stream",
     "text": [
      "Training:   3%|▎         | 7/250 [16:02<8:41:19, 128.72s/epoch]"
     ]
    },
    {
     "name": "stdout",
     "output_type": "stream",
     "text": [
      "[Epoch 8/250] Training Loss: 0.6290\n"
     ]
    },
    {
     "name": "stderr",
     "output_type": "stream",
     "text": [
      "Training:   3%|▎         | 8/250 [17:13<8:38:56, 128.66s/epoch]"
     ]
    },
    {
     "name": "stdout",
     "output_type": "stream",
     "text": [
      "  Train => MSE=0.6580, CI=0.7643, Pearson=0.5663\n",
      "  Test  => MSE=0.6198, CI=0.7599, Pearson=0.5624\n",
      "Checkpoint saved at epoch 8\n",
      "Deleted previous checkpoint: /kaggle/working/TrainingModel1/model_epoch7.pt\n"
     ]
    },
    {
     "name": "stderr",
     "output_type": "stream",
     "text": [
      "Training:   3%|▎         | 8/250 [18:10<8:38:56, 128.66s/epoch]"
     ]
    },
    {
     "name": "stdout",
     "output_type": "stream",
     "text": [
      "[Epoch 9/250] Training Loss: 0.6101\n"
     ]
    },
    {
     "name": "stderr",
     "output_type": "stream",
     "text": [
      "Training:   4%|▎         | 9/250 [19:21<8:36:21, 128.55s/epoch]"
     ]
    },
    {
     "name": "stdout",
     "output_type": "stream",
     "text": [
      "  Train => MSE=0.6268, CI=0.7714, Pearson=0.5724\n",
      "  Test  => MSE=0.5877, CI=0.7711, Pearson=0.5745\n",
      "Checkpoint saved at epoch 9\n",
      "Deleted previous checkpoint: /kaggle/working/TrainingModel1/model_epoch8.pt\n"
     ]
    },
    {
     "name": "stderr",
     "output_type": "stream",
     "text": [
      "Training:   4%|▎         | 9/250 [20:18<8:36:21, 128.55s/epoch]"
     ]
    },
    {
     "name": "stdout",
     "output_type": "stream",
     "text": [
      "[Epoch 10/250] Training Loss: 0.5964\n"
     ]
    },
    {
     "name": "stderr",
     "output_type": "stream",
     "text": [
      "Training:   4%|▍         | 10/250 [21:30<8:34:14, 128.56s/epoch]"
     ]
    },
    {
     "name": "stdout",
     "output_type": "stream",
     "text": [
      "  Train => MSE=0.6428, CI=0.7755, Pearson=0.5543\n",
      "  Test  => MSE=0.6102, CI=0.7729, Pearson=0.5392\n",
      "Checkpoint saved at epoch 10\n",
      "Deleted previous checkpoint: /kaggle/working/TrainingModel1/model_epoch9.pt\n"
     ]
    },
    {
     "name": "stderr",
     "output_type": "stream",
     "text": [
      "Training:   4%|▍         | 10/250 [22:27<8:34:14, 128.56s/epoch]"
     ]
    },
    {
     "name": "stdout",
     "output_type": "stream",
     "text": [
      "[Epoch 11/250] Training Loss: 0.5938\n"
     ]
    },
    {
     "name": "stderr",
     "output_type": "stream",
     "text": [
      "Training:   4%|▍         | 11/250 [23:38<8:31:45, 128.48s/epoch]"
     ]
    },
    {
     "name": "stdout",
     "output_type": "stream",
     "text": [
      "  Train => MSE=0.5774, CI=0.7830, Pearson=0.5922\n",
      "  Test  => MSE=0.5448, CI=0.7779, Pearson=0.5874\n",
      "Checkpoint saved at epoch 11\n",
      "Deleted previous checkpoint: /kaggle/working/TrainingModel1/model_epoch10.pt\n"
     ]
    },
    {
     "name": "stderr",
     "output_type": "stream",
     "text": [
      "Training:   4%|▍         | 11/250 [24:35<8:31:45, 128.48s/epoch]"
     ]
    },
    {
     "name": "stdout",
     "output_type": "stream",
     "text": [
      "[Epoch 12/250] Training Loss: 0.5862\n"
     ]
    },
    {
     "name": "stderr",
     "output_type": "stream",
     "text": [
      "Training:   5%|▍         | 12/250 [25:47<8:29:33, 128.46s/epoch]"
     ]
    },
    {
     "name": "stdout",
     "output_type": "stream",
     "text": [
      "  Train => MSE=0.5555, CI=0.7813, Pearson=0.5814\n",
      "  Test  => MSE=0.5226, CI=0.7762, Pearson=0.5777\n",
      "Checkpoint saved at epoch 12\n",
      "Deleted previous checkpoint: /kaggle/working/TrainingModel1/model_epoch11.pt\n"
     ]
    },
    {
     "name": "stderr",
     "output_type": "stream",
     "text": [
      "Training:   5%|▍         | 12/250 [26:44<8:29:33, 128.46s/epoch]"
     ]
    },
    {
     "name": "stdout",
     "output_type": "stream",
     "text": [
      "[Epoch 13/250] Training Loss: 0.5838\n"
     ]
    },
    {
     "name": "stderr",
     "output_type": "stream",
     "text": [
      "Training:   5%|▌         | 13/250 [27:55<8:27:12, 128.41s/epoch]"
     ]
    },
    {
     "name": "stdout",
     "output_type": "stream",
     "text": [
      "  Train => MSE=0.5568, CI=0.7855, Pearson=0.6014\n",
      "  Test  => MSE=0.5280, CI=0.7804, Pearson=0.5933\n",
      "Checkpoint saved at epoch 13\n",
      "Deleted previous checkpoint: /kaggle/working/TrainingModel1/model_epoch12.pt\n"
     ]
    },
    {
     "name": "stderr",
     "output_type": "stream",
     "text": [
      "Training:   5%|▌         | 13/250 [28:52<8:27:12, 128.41s/epoch]"
     ]
    },
    {
     "name": "stdout",
     "output_type": "stream",
     "text": [
      "[Epoch 14/250] Training Loss: 0.5732\n"
     ]
    },
    {
     "name": "stderr",
     "output_type": "stream",
     "text": [
      "Training:   6%|▌         | 14/250 [30:04<8:25:10, 128.43s/epoch]"
     ]
    },
    {
     "name": "stdout",
     "output_type": "stream",
     "text": [
      "  Train => MSE=0.5413, CI=0.7852, Pearson=0.5979\n",
      "  Test  => MSE=0.5113, CI=0.7790, Pearson=0.5896\n",
      "Checkpoint saved at epoch 14\n",
      "Deleted previous checkpoint: /kaggle/working/TrainingModel1/model_epoch13.pt\n"
     ]
    },
    {
     "name": "stderr",
     "output_type": "stream",
     "text": [
      "Training:   6%|▌         | 14/250 [31:00<8:25:10, 128.43s/epoch]"
     ]
    },
    {
     "name": "stdout",
     "output_type": "stream",
     "text": [
      "[Epoch 15/250] Training Loss: 0.5736\n"
     ]
    },
    {
     "name": "stderr",
     "output_type": "stream",
     "text": [
      "Training:   6%|▌         | 15/250 [32:12<8:22:43, 128.35s/epoch]"
     ]
    },
    {
     "name": "stdout",
     "output_type": "stream",
     "text": [
      "  Train => MSE=0.5269, CI=0.7860, Pearson=0.5954\n",
      "  Test  => MSE=0.4993, CI=0.7799, Pearson=0.5846\n",
      "Checkpoint saved at epoch 15\n",
      "Deleted previous checkpoint: /kaggle/working/TrainingModel1/model_epoch14.pt\n"
     ]
    },
    {
     "name": "stderr",
     "output_type": "stream",
     "text": [
      "Training:   6%|▌         | 15/250 [33:09<8:22:43, 128.35s/epoch]"
     ]
    },
    {
     "name": "stdout",
     "output_type": "stream",
     "text": [
      "[Epoch 16/250] Training Loss: 0.5662\n"
     ]
    },
    {
     "name": "stderr",
     "output_type": "stream",
     "text": [
      "Training:   6%|▋         | 16/250 [34:20<8:20:37, 128.36s/epoch]"
     ]
    },
    {
     "name": "stdout",
     "output_type": "stream",
     "text": [
      "  Train => MSE=0.5532, CI=0.7892, Pearson=0.6028\n",
      "  Test  => MSE=0.5235, CI=0.7837, Pearson=0.5954\n",
      "Checkpoint saved at epoch 16\n",
      "Deleted previous checkpoint: /kaggle/working/TrainingModel1/model_epoch15.pt\n"
     ]
    },
    {
     "name": "stderr",
     "output_type": "stream",
     "text": [
      "Training:   6%|▋         | 16/250 [35:17<8:20:37, 128.36s/epoch]"
     ]
    },
    {
     "name": "stdout",
     "output_type": "stream",
     "text": [
      "[Epoch 17/250] Training Loss: 0.5581\n"
     ]
    },
    {
     "name": "stderr",
     "output_type": "stream",
     "text": [
      "Training:   7%|▋         | 17/250 [36:29<8:18:39, 128.41s/epoch]"
     ]
    },
    {
     "name": "stdout",
     "output_type": "stream",
     "text": [
      "  Train => MSE=0.5517, CI=0.7934, Pearson=0.6129\n",
      "  Test  => MSE=0.5241, CI=0.7865, Pearson=0.6023\n",
      "Checkpoint saved at epoch 17\n",
      "Deleted previous checkpoint: /kaggle/working/TrainingModel1/model_epoch16.pt\n"
     ]
    },
    {
     "name": "stderr",
     "output_type": "stream",
     "text": [
      "Training:   7%|▋         | 17/250 [37:25<8:18:39, 128.41s/epoch]"
     ]
    },
    {
     "name": "stdout",
     "output_type": "stream",
     "text": [
      "[Epoch 18/250] Training Loss: 0.5569\n"
     ]
    },
    {
     "name": "stderr",
     "output_type": "stream",
     "text": [
      "Training:   7%|▋         | 18/250 [38:37<8:16:25, 128.39s/epoch]"
     ]
    },
    {
     "name": "stdout",
     "output_type": "stream",
     "text": [
      "  Train => MSE=0.5709, CI=0.7964, Pearson=0.6070\n",
      "  Test  => MSE=0.5386, CI=0.7889, Pearson=0.5979\n",
      "Checkpoint saved at epoch 18\n",
      "Deleted previous checkpoint: /kaggle/working/TrainingModel1/model_epoch17.pt\n"
     ]
    },
    {
     "name": "stderr",
     "output_type": "stream",
     "text": [
      "Training:   7%|▋         | 18/250 [39:34<8:16:25, 128.39s/epoch]"
     ]
    },
    {
     "name": "stdout",
     "output_type": "stream",
     "text": [
      "[Epoch 19/250] Training Loss: 0.5512\n"
     ]
    },
    {
     "name": "stderr",
     "output_type": "stream",
     "text": [
      "Training:   8%|▊         | 19/250 [40:45<8:14:00, 128.32s/epoch]"
     ]
    },
    {
     "name": "stdout",
     "output_type": "stream",
     "text": [
      "  Train => MSE=0.5138, CI=0.7993, Pearson=0.6297\n",
      "  Test  => MSE=0.4903, CI=0.7931, Pearson=0.6155\n",
      "Checkpoint saved at epoch 19\n",
      "Deleted previous checkpoint: /kaggle/working/TrainingModel1/model_epoch18.pt\n"
     ]
    },
    {
     "name": "stderr",
     "output_type": "stream",
     "text": [
      "Training:   8%|▊         | 19/250 [41:42<8:14:00, 128.32s/epoch]"
     ]
    },
    {
     "name": "stdout",
     "output_type": "stream",
     "text": [
      "[Epoch 20/250] Training Loss: 0.5468\n"
     ]
    },
    {
     "name": "stderr",
     "output_type": "stream",
     "text": [
      "Training:   8%|▊         | 20/250 [42:54<8:12:01, 128.35s/epoch]"
     ]
    },
    {
     "name": "stdout",
     "output_type": "stream",
     "text": [
      "  Train => MSE=0.5171, CI=0.7946, Pearson=0.6199\n",
      "  Test  => MSE=0.4913, CI=0.7905, Pearson=0.6074\n",
      "Checkpoint saved at epoch 20\n",
      "Deleted previous checkpoint: /kaggle/working/TrainingModel1/model_epoch19.pt\n"
     ]
    },
    {
     "name": "stderr",
     "output_type": "stream",
     "text": [
      "Training:   8%|▊         | 20/250 [43:50<8:12:01, 128.35s/epoch]"
     ]
    },
    {
     "name": "stdout",
     "output_type": "stream",
     "text": [
      "[Epoch 21/250] Training Loss: 0.5384\n"
     ]
    },
    {
     "name": "stderr",
     "output_type": "stream",
     "text": [
      "Training:   8%|▊         | 21/250 [45:02<8:09:33, 128.27s/epoch]"
     ]
    },
    {
     "name": "stdout",
     "output_type": "stream",
     "text": [
      "  Train => MSE=0.5019, CI=0.7975, Pearson=0.6193\n",
      "  Test  => MSE=0.4798, CI=0.7908, Pearson=0.6053\n",
      "Checkpoint saved at epoch 21\n",
      "Deleted previous checkpoint: /kaggle/working/TrainingModel1/model_epoch20.pt\n"
     ]
    },
    {
     "name": "stderr",
     "output_type": "stream",
     "text": [
      "Training:   8%|▊         | 21/250 [45:59<8:09:33, 128.27s/epoch]"
     ]
    },
    {
     "name": "stdout",
     "output_type": "stream",
     "text": [
      "[Epoch 22/250] Training Loss: 0.5344\n"
     ]
    },
    {
     "name": "stderr",
     "output_type": "stream",
     "text": [
      "Training:   9%|▉         | 22/250 [47:10<8:07:40, 128.33s/epoch]"
     ]
    },
    {
     "name": "stdout",
     "output_type": "stream",
     "text": [
      "  Train => MSE=0.6217, CI=0.8020, Pearson=0.6338\n",
      "  Test  => MSE=0.5996, CI=0.7946, Pearson=0.6169\n",
      "Checkpoint saved at epoch 22\n",
      "Deleted previous checkpoint: /kaggle/working/TrainingModel1/model_epoch21.pt\n"
     ]
    },
    {
     "name": "stderr",
     "output_type": "stream",
     "text": [
      "Training:   9%|▉         | 22/250 [48:07<8:07:40, 128.33s/epoch]"
     ]
    },
    {
     "name": "stdout",
     "output_type": "stream",
     "text": [
      "[Epoch 23/250] Training Loss: 0.5420\n"
     ]
    },
    {
     "name": "stderr",
     "output_type": "stream",
     "text": [
      "Training:   9%|▉         | 23/250 [49:18<8:05:16, 128.27s/epoch]"
     ]
    },
    {
     "name": "stdout",
     "output_type": "stream",
     "text": [
      "  Train => MSE=0.4789, CI=0.8005, Pearson=0.6352\n",
      "  Test  => MSE=0.4624, CI=0.7955, Pearson=0.6156\n",
      "Checkpoint saved at epoch 23\n",
      "Deleted previous checkpoint: /kaggle/working/TrainingModel1/model_epoch22.pt\n"
     ]
    },
    {
     "name": "stderr",
     "output_type": "stream",
     "text": [
      "Training:   9%|▉         | 23/250 [50:15<8:05:16, 128.27s/epoch]"
     ]
    },
    {
     "name": "stdout",
     "output_type": "stream",
     "text": [
      "[Epoch 24/250] Training Loss: 0.5369\n"
     ]
    },
    {
     "name": "stderr",
     "output_type": "stream",
     "text": [
      "Training:  10%|▉         | 24/250 [51:27<8:03:17, 128.31s/epoch]"
     ]
    },
    {
     "name": "stdout",
     "output_type": "stream",
     "text": [
      "  Train => MSE=0.5066, CI=0.8007, Pearson=0.6325\n",
      "  Test  => MSE=0.4915, CI=0.7947, Pearson=0.6114\n",
      "Checkpoint saved at epoch 24\n",
      "Deleted previous checkpoint: /kaggle/working/TrainingModel1/model_epoch23.pt\n"
     ]
    },
    {
     "name": "stderr",
     "output_type": "stream",
     "text": [
      "Training:  10%|▉         | 24/250 [52:23<8:03:17, 128.31s/epoch]"
     ]
    },
    {
     "name": "stdout",
     "output_type": "stream",
     "text": [
      "[Epoch 25/250] Training Loss: 0.5260\n"
     ]
    },
    {
     "name": "stderr",
     "output_type": "stream",
     "text": [
      "Training:  10%|█         | 25/250 [53:35<8:01:05, 128.29s/epoch]"
     ]
    },
    {
     "name": "stdout",
     "output_type": "stream",
     "text": [
      "  Train => MSE=0.4834, CI=0.8047, Pearson=0.6451\n",
      "  Test  => MSE=0.4632, CI=0.7968, Pearson=0.6262\n",
      "Checkpoint saved at epoch 25\n",
      "Deleted previous checkpoint: /kaggle/working/TrainingModel1/model_epoch24.pt\n"
     ]
    },
    {
     "name": "stderr",
     "output_type": "stream",
     "text": [
      "Training:  10%|█         | 25/250 [54:32<8:01:05, 128.29s/epoch]"
     ]
    },
    {
     "name": "stdout",
     "output_type": "stream",
     "text": [
      "[Epoch 26/250] Training Loss: 0.5323\n"
     ]
    },
    {
     "name": "stderr",
     "output_type": "stream",
     "text": [
      "Training:  10%|█         | 26/250 [55:43<7:59:01, 128.31s/epoch]"
     ]
    },
    {
     "name": "stdout",
     "output_type": "stream",
     "text": [
      "  Train => MSE=0.4461, CI=0.8048, Pearson=0.6453\n",
      "  Test  => MSE=0.4348, CI=0.7993, Pearson=0.6250\n",
      "Checkpoint saved at epoch 26\n",
      "Deleted previous checkpoint: /kaggle/working/TrainingModel1/model_epoch25.pt\n"
     ]
    },
    {
     "name": "stderr",
     "output_type": "stream",
     "text": [
      "Training:  10%|█         | 26/250 [56:40<7:59:01, 128.31s/epoch]"
     ]
    },
    {
     "name": "stdout",
     "output_type": "stream",
     "text": [
      "[Epoch 27/250] Training Loss: 0.5217\n"
     ]
    },
    {
     "name": "stderr",
     "output_type": "stream",
     "text": [
      "Training:  11%|█         | 27/250 [57:52<7:57:06, 128.37s/epoch]"
     ]
    },
    {
     "name": "stdout",
     "output_type": "stream",
     "text": [
      "  Train => MSE=0.4822, CI=0.8023, Pearson=0.6404\n",
      "  Test  => MSE=0.4769, CI=0.7956, Pearson=0.6133\n",
      "Checkpoint saved at epoch 27\n",
      "Deleted previous checkpoint: /kaggle/working/TrainingModel1/model_epoch26.pt\n"
     ]
    },
    {
     "name": "stderr",
     "output_type": "stream",
     "text": [
      "Training:  11%|█         | 27/250 [58:49<7:57:06, 128.37s/epoch]"
     ]
    },
    {
     "name": "stdout",
     "output_type": "stream",
     "text": [
      "[Epoch 28/250] Training Loss: 0.5161\n"
     ]
    },
    {
     "name": "stderr",
     "output_type": "stream",
     "text": [
      "Training:  11%|█         | 28/250 [1:00:00<7:54:48, 128.33s/epoch]"
     ]
    },
    {
     "name": "stdout",
     "output_type": "stream",
     "text": [
      "  Train => MSE=0.4620, CI=0.8034, Pearson=0.6389\n",
      "  Test  => MSE=0.4489, CI=0.7986, Pearson=0.6178\n",
      "Checkpoint saved at epoch 28\n",
      "Deleted previous checkpoint: /kaggle/working/TrainingModel1/model_epoch27.pt\n"
     ]
    },
    {
     "name": "stderr",
     "output_type": "stream",
     "text": [
      "Training:  11%|█         | 28/250 [1:00:57<7:54:48, 128.33s/epoch]"
     ]
    },
    {
     "name": "stdout",
     "output_type": "stream",
     "text": [
      "[Epoch 29/250] Training Loss: 0.4986\n"
     ]
    },
    {
     "name": "stderr",
     "output_type": "stream",
     "text": [
      "Training:  12%|█▏        | 29/250 [1:02:08<7:52:36, 128.31s/epoch]"
     ]
    },
    {
     "name": "stdout",
     "output_type": "stream",
     "text": [
      "  Train => MSE=0.4878, CI=0.8039, Pearson=0.6532\n",
      "  Test  => MSE=0.4736, CI=0.8013, Pearson=0.6325\n",
      "Checkpoint saved at epoch 29\n",
      "Deleted previous checkpoint: /kaggle/working/TrainingModel1/model_epoch28.pt\n"
     ]
    },
    {
     "name": "stderr",
     "output_type": "stream",
     "text": [
      "Training:  12%|█▏        | 29/250 [1:03:05<7:52:36, 128.31s/epoch]"
     ]
    },
    {
     "name": "stdout",
     "output_type": "stream",
     "text": [
      "[Epoch 30/250] Training Loss: 0.4995\n"
     ]
    },
    {
     "name": "stderr",
     "output_type": "stream",
     "text": [
      "Training:  12%|█▏        | 30/250 [1:04:16<7:50:27, 128.31s/epoch]"
     ]
    },
    {
     "name": "stdout",
     "output_type": "stream",
     "text": [
      "  Train => MSE=0.4736, CI=0.8076, Pearson=0.6533\n",
      "  Test  => MSE=0.4692, CI=0.8006, Pearson=0.6234\n",
      "Checkpoint saved at epoch 30\n",
      "Deleted previous checkpoint: /kaggle/working/TrainingModel1/model_epoch29.pt\n"
     ]
    },
    {
     "name": "stderr",
     "output_type": "stream",
     "text": [
      "Training:  12%|█▏        | 30/250 [1:05:13<7:50:27, 128.31s/epoch]"
     ]
    },
    {
     "name": "stdout",
     "output_type": "stream",
     "text": [
      "[Epoch 31/250] Training Loss: 0.5093\n"
     ]
    },
    {
     "name": "stderr",
     "output_type": "stream",
     "text": [
      "Training:  12%|█▏        | 31/250 [1:06:25<7:48:03, 128.23s/epoch]"
     ]
    },
    {
     "name": "stdout",
     "output_type": "stream",
     "text": [
      "  Train => MSE=0.4826, CI=0.8004, Pearson=0.6492\n",
      "  Test  => MSE=0.4755, CI=0.7942, Pearson=0.6251\n",
      "Checkpoint saved at epoch 31\n",
      "Deleted previous checkpoint: /kaggle/working/TrainingModel1/model_epoch30.pt\n"
     ]
    },
    {
     "name": "stderr",
     "output_type": "stream",
     "text": [
      "Training:  12%|█▏        | 31/250 [1:07:21<7:48:03, 128.23s/epoch]"
     ]
    },
    {
     "name": "stdout",
     "output_type": "stream",
     "text": [
      "[Epoch 32/250] Training Loss: 0.4932\n"
     ]
    },
    {
     "name": "stderr",
     "output_type": "stream",
     "text": [
      "Training:  13%|█▎        | 32/250 [1:08:33<7:46:00, 128.26s/epoch]"
     ]
    },
    {
     "name": "stdout",
     "output_type": "stream",
     "text": [
      "  Train => MSE=0.4953, CI=0.7992, Pearson=0.6650\n",
      "  Test  => MSE=0.4910, CI=0.7891, Pearson=0.6320\n",
      "Checkpoint saved at epoch 32\n",
      "Deleted previous checkpoint: /kaggle/working/TrainingModel1/model_epoch31.pt\n"
     ]
    },
    {
     "name": "stderr",
     "output_type": "stream",
     "text": [
      "Training:  13%|█▎        | 32/250 [1:09:30<7:46:00, 128.26s/epoch]"
     ]
    },
    {
     "name": "stdout",
     "output_type": "stream",
     "text": [
      "[Epoch 33/250] Training Loss: 0.5002\n"
     ]
    },
    {
     "name": "stderr",
     "output_type": "stream",
     "text": [
      "Training:  13%|█▎        | 33/250 [1:10:41<7:43:40, 128.21s/epoch]"
     ]
    },
    {
     "name": "stdout",
     "output_type": "stream",
     "text": [
      "  Train => MSE=0.4185, CI=0.8091, Pearson=0.6716\n",
      "  Test  => MSE=0.4163, CI=0.8028, Pearson=0.6435\n",
      "Checkpoint saved at epoch 33\n",
      "Deleted previous checkpoint: /kaggle/working/TrainingModel1/model_epoch32.pt\n"
     ]
    },
    {
     "name": "stderr",
     "output_type": "stream",
     "text": [
      "Training:  13%|█▎        | 33/250 [1:11:38<7:43:40, 128.21s/epoch]"
     ]
    },
    {
     "name": "stdout",
     "output_type": "stream",
     "text": [
      "[Epoch 34/250] Training Loss: 0.4877\n"
     ]
    },
    {
     "name": "stderr",
     "output_type": "stream",
     "text": [
      "Training:  14%|█▎        | 34/250 [1:12:49<7:41:45, 128.27s/epoch]"
     ]
    },
    {
     "name": "stdout",
     "output_type": "stream",
     "text": [
      "  Train => MSE=0.4542, CI=0.7978, Pearson=0.6427\n",
      "  Test  => MSE=0.4574, CI=0.7898, Pearson=0.6080\n",
      "Checkpoint saved at epoch 34\n",
      "Deleted previous checkpoint: /kaggle/working/TrainingModel1/model_epoch33.pt\n"
     ]
    },
    {
     "name": "stderr",
     "output_type": "stream",
     "text": [
      "Training:  14%|█▎        | 34/250 [1:13:46<7:41:45, 128.27s/epoch]"
     ]
    },
    {
     "name": "stdout",
     "output_type": "stream",
     "text": [
      "[Epoch 35/250] Training Loss: 0.4842\n"
     ]
    },
    {
     "name": "stderr",
     "output_type": "stream",
     "text": [
      "Training:  14%|█▍        | 35/250 [1:14:57<7:39:26, 128.22s/epoch]"
     ]
    },
    {
     "name": "stdout",
     "output_type": "stream",
     "text": [
      "  Train => MSE=0.4444, CI=0.8113, Pearson=0.6618\n",
      "  Test  => MSE=0.4431, CI=0.8058, Pearson=0.6290\n",
      "Checkpoint saved at epoch 35\n",
      "Deleted previous checkpoint: /kaggle/working/TrainingModel1/model_epoch34.pt\n"
     ]
    },
    {
     "name": "stderr",
     "output_type": "stream",
     "text": [
      "Training:  14%|█▍        | 35/250 [1:15:54<7:39:26, 128.22s/epoch]"
     ]
    },
    {
     "name": "stdout",
     "output_type": "stream",
     "text": [
      "[Epoch 36/250] Training Loss: 0.4845\n"
     ]
    },
    {
     "name": "stderr",
     "output_type": "stream",
     "text": [
      "Training:  14%|█▍        | 36/250 [1:17:06<7:37:18, 128.22s/epoch]"
     ]
    },
    {
     "name": "stdout",
     "output_type": "stream",
     "text": [
      "  Train => MSE=0.4588, CI=0.8137, Pearson=0.6659\n",
      "  Test  => MSE=0.4608, CI=0.8063, Pearson=0.6272\n",
      "Checkpoint saved at epoch 36\n",
      "Deleted previous checkpoint: /kaggle/working/TrainingModel1/model_epoch35.pt\n"
     ]
    },
    {
     "name": "stderr",
     "output_type": "stream",
     "text": [
      "Training:  14%|█▍        | 36/250 [1:18:03<7:37:18, 128.22s/epoch]"
     ]
    },
    {
     "name": "stdout",
     "output_type": "stream",
     "text": [
      "[Epoch 37/250] Training Loss: 0.4774\n"
     ]
    },
    {
     "name": "stderr",
     "output_type": "stream",
     "text": [
      "Training:  15%|█▍        | 37/250 [1:19:14<7:35:10, 128.22s/epoch]"
     ]
    },
    {
     "name": "stdout",
     "output_type": "stream",
     "text": [
      "  Train => MSE=0.4389, CI=0.8023, Pearson=0.6644\n",
      "  Test  => MSE=0.4496, CI=0.7960, Pearson=0.6261\n",
      "Checkpoint saved at epoch 37\n",
      "Deleted previous checkpoint: /kaggle/working/TrainingModel1/model_epoch36.pt\n"
     ]
    },
    {
     "name": "stderr",
     "output_type": "stream",
     "text": [
      "Training:  15%|█▍        | 37/250 [1:20:11<7:35:10, 128.22s/epoch]"
     ]
    },
    {
     "name": "stdout",
     "output_type": "stream",
     "text": [
      "[Epoch 38/250] Training Loss: 0.4741\n"
     ]
    },
    {
     "name": "stderr",
     "output_type": "stream",
     "text": [
      "Training:  15%|█▌        | 38/250 [1:21:22<7:33:08, 128.25s/epoch]"
     ]
    },
    {
     "name": "stdout",
     "output_type": "stream",
     "text": [
      "  Train => MSE=0.4182, CI=0.8103, Pearson=0.6766\n",
      "  Test  => MSE=0.4297, CI=0.8044, Pearson=0.6399\n",
      "Checkpoint saved at epoch 38\n",
      "Deleted previous checkpoint: /kaggle/working/TrainingModel1/model_epoch37.pt\n"
     ]
    },
    {
     "name": "stderr",
     "output_type": "stream",
     "text": [
      "Training:  15%|█▌        | 38/250 [1:22:19<7:33:08, 128.25s/epoch]"
     ]
    },
    {
     "name": "stdout",
     "output_type": "stream",
     "text": [
      "[Epoch 39/250] Training Loss: 0.4730\n"
     ]
    },
    {
     "name": "stderr",
     "output_type": "stream",
     "text": [
      "Training:  16%|█▌        | 39/250 [1:23:30<7:30:57, 128.24s/epoch]"
     ]
    },
    {
     "name": "stdout",
     "output_type": "stream",
     "text": [
      "  Train => MSE=0.4389, CI=0.8056, Pearson=0.6721\n",
      "  Test  => MSE=0.4522, CI=0.7982, Pearson=0.6370\n",
      "Checkpoint saved at epoch 39\n",
      "Deleted previous checkpoint: /kaggle/working/TrainingModel1/model_epoch38.pt\n"
     ]
    },
    {
     "name": "stderr",
     "output_type": "stream",
     "text": [
      "Training:  16%|█▌        | 39/250 [1:24:27<7:30:57, 128.24s/epoch]"
     ]
    },
    {
     "name": "stdout",
     "output_type": "stream",
     "text": [
      "[Epoch 40/250] Training Loss: 0.4665\n"
     ]
    },
    {
     "name": "stderr",
     "output_type": "stream",
     "text": [
      "Training:  16%|█▌        | 40/250 [1:25:39<7:28:48, 128.23s/epoch]"
     ]
    },
    {
     "name": "stdout",
     "output_type": "stream",
     "text": [
      "  Train => MSE=0.4041, CI=0.8097, Pearson=0.6892\n",
      "  Test  => MSE=0.4135, CI=0.8009, Pearson=0.6547\n",
      "Checkpoint saved at epoch 40\n",
      "Deleted previous checkpoint: /kaggle/working/TrainingModel1/model_epoch39.pt\n"
     ]
    },
    {
     "name": "stderr",
     "output_type": "stream",
     "text": [
      "Training:  16%|█▌        | 40/250 [1:26:35<7:28:48, 128.23s/epoch]"
     ]
    },
    {
     "name": "stdout",
     "output_type": "stream",
     "text": [
      "[Epoch 41/250] Training Loss: 0.4655\n"
     ]
    },
    {
     "name": "stderr",
     "output_type": "stream",
     "text": [
      "Training:  16%|█▋        | 41/250 [1:27:47<7:26:26, 128.17s/epoch]"
     ]
    },
    {
     "name": "stdout",
     "output_type": "stream",
     "text": [
      "  Train => MSE=0.4029, CI=0.8110, Pearson=0.6930\n",
      "  Test  => MSE=0.4147, CI=0.8042, Pearson=0.6588\n",
      "Checkpoint saved at epoch 41\n",
      "Deleted previous checkpoint: /kaggle/working/TrainingModel1/model_epoch40.pt\n"
     ]
    },
    {
     "name": "stderr",
     "output_type": "stream",
     "text": [
      "Training:  16%|█▋        | 41/250 [1:28:43<7:26:26, 128.17s/epoch]"
     ]
    },
    {
     "name": "stdout",
     "output_type": "stream",
     "text": [
      "[Epoch 42/250] Training Loss: 0.4526\n"
     ]
    },
    {
     "name": "stderr",
     "output_type": "stream",
     "text": [
      "Training:  17%|█▋        | 42/250 [1:29:55<7:24:25, 128.20s/epoch]"
     ]
    },
    {
     "name": "stdout",
     "output_type": "stream",
     "text": [
      "  Train => MSE=0.4222, CI=0.8106, Pearson=0.6800\n",
      "  Test  => MSE=0.4346, CI=0.8052, Pearson=0.6433\n",
      "Checkpoint saved at epoch 42\n",
      "Deleted previous checkpoint: /kaggle/working/TrainingModel1/model_epoch41.pt\n"
     ]
    },
    {
     "name": "stderr",
     "output_type": "stream",
     "text": [
      "Training:  17%|█▋        | 42/250 [1:30:52<7:24:25, 128.20s/epoch]"
     ]
    },
    {
     "name": "stdout",
     "output_type": "stream",
     "text": [
      "[Epoch 43/250] Training Loss: 0.4621\n"
     ]
    },
    {
     "name": "stderr",
     "output_type": "stream",
     "text": [
      "Training:  17%|█▋        | 43/250 [1:32:03<7:22:21, 128.22s/epoch]"
     ]
    },
    {
     "name": "stdout",
     "output_type": "stream",
     "text": [
      "  Train => MSE=0.4065, CI=0.8118, Pearson=0.6937\n",
      "  Test  => MSE=0.4175, CI=0.8021, Pearson=0.6610\n",
      "Checkpoint saved at epoch 43\n",
      "Deleted previous checkpoint: /kaggle/working/TrainingModel1/model_epoch42.pt\n"
     ]
    },
    {
     "name": "stderr",
     "output_type": "stream",
     "text": [
      "Training:  17%|█▋        | 43/250 [1:33:00<7:22:21, 128.22s/epoch]"
     ]
    },
    {
     "name": "stdout",
     "output_type": "stream",
     "text": [
      "[Epoch 44/250] Training Loss: 0.4513\n"
     ]
    },
    {
     "name": "stderr",
     "output_type": "stream",
     "text": [
      "Training:  18%|█▊        | 44/250 [1:34:11<7:20:17, 128.24s/epoch]"
     ]
    },
    {
     "name": "stdout",
     "output_type": "stream",
     "text": [
      "  Train => MSE=0.4252, CI=0.8009, Pearson=0.6828\n",
      "  Test  => MSE=0.4424, CI=0.7896, Pearson=0.6456\n",
      "Checkpoint saved at epoch 44\n",
      "Deleted previous checkpoint: /kaggle/working/TrainingModel1/model_epoch43.pt\n"
     ]
    },
    {
     "name": "stderr",
     "output_type": "stream",
     "text": [
      "Training:  18%|█▊        | 44/250 [1:35:08<7:20:17, 128.24s/epoch]"
     ]
    },
    {
     "name": "stdout",
     "output_type": "stream",
     "text": [
      "[Epoch 45/250] Training Loss: 0.4407\n"
     ]
    },
    {
     "name": "stderr",
     "output_type": "stream",
     "text": [
      "Training:  18%|█▊        | 45/250 [1:36:20<7:17:57, 128.18s/epoch]"
     ]
    },
    {
     "name": "stdout",
     "output_type": "stream",
     "text": [
      "  Train => MSE=0.4210, CI=0.8135, Pearson=0.6917\n",
      "  Test  => MSE=0.4377, CI=0.8043, Pearson=0.6560\n",
      "Checkpoint saved at epoch 45\n",
      "Deleted previous checkpoint: /kaggle/working/TrainingModel1/model_epoch44.pt\n"
     ]
    },
    {
     "name": "stderr",
     "output_type": "stream",
     "text": [
      "Training:  18%|█▊        | 45/250 [1:37:16<7:17:57, 128.18s/epoch]"
     ]
    },
    {
     "name": "stdout",
     "output_type": "stream",
     "text": [
      "[Epoch 46/250] Training Loss: 0.4460\n"
     ]
    },
    {
     "name": "stderr",
     "output_type": "stream",
     "text": [
      "Training:  18%|█▊        | 46/250 [1:38:28<7:15:51, 128.19s/epoch]"
     ]
    },
    {
     "name": "stdout",
     "output_type": "stream",
     "text": [
      "  Train => MSE=0.4092, CI=0.8096, Pearson=0.6912\n",
      "  Test  => MSE=0.4309, CI=0.7988, Pearson=0.6492\n",
      "Checkpoint saved at epoch 46\n",
      "Deleted previous checkpoint: /kaggle/working/TrainingModel1/model_epoch45.pt\n"
     ]
    },
    {
     "name": "stderr",
     "output_type": "stream",
     "text": [
      "Training:  18%|█▊        | 46/250 [1:39:25<7:15:51, 128.19s/epoch]"
     ]
    },
    {
     "name": "stdout",
     "output_type": "stream",
     "text": [
      "[Epoch 47/250] Training Loss: 0.4384\n"
     ]
    },
    {
     "name": "stderr",
     "output_type": "stream",
     "text": [
      "Training:  19%|█▉        | 47/250 [1:40:36<7:13:44, 128.20s/epoch]"
     ]
    },
    {
     "name": "stdout",
     "output_type": "stream",
     "text": [
      "  Train => MSE=0.3949, CI=0.8165, Pearson=0.7070\n",
      "  Test  => MSE=0.4229, CI=0.8059, Pearson=0.6612\n",
      "Checkpoint saved at epoch 47\n",
      "Deleted previous checkpoint: /kaggle/working/TrainingModel1/model_epoch46.pt\n"
     ]
    },
    {
     "name": "stderr",
     "output_type": "stream",
     "text": [
      "Training:  19%|█▉        | 47/250 [1:41:33<7:13:44, 128.20s/epoch]"
     ]
    },
    {
     "name": "stdout",
     "output_type": "stream",
     "text": [
      "[Epoch 48/250] Training Loss: 0.4309\n"
     ]
    },
    {
     "name": "stderr",
     "output_type": "stream",
     "text": [
      "Training:  19%|█▉        | 48/250 [1:42:44<7:11:40, 128.22s/epoch]"
     ]
    },
    {
     "name": "stdout",
     "output_type": "stream",
     "text": [
      "  Train => MSE=0.4208, CI=0.8158, Pearson=0.6884\n",
      "  Test  => MSE=0.4443, CI=0.8064, Pearson=0.6453\n",
      "Checkpoint saved at epoch 48\n",
      "Deleted previous checkpoint: /kaggle/working/TrainingModel1/model_epoch47.pt\n"
     ]
    },
    {
     "name": "stderr",
     "output_type": "stream",
     "text": [
      "Training:  19%|█▉        | 48/250 [1:43:41<7:11:40, 128.22s/epoch]"
     ]
    },
    {
     "name": "stdout",
     "output_type": "stream",
     "text": [
      "[Epoch 49/250] Training Loss: 0.4256\n"
     ]
    },
    {
     "name": "stderr",
     "output_type": "stream",
     "text": [
      "Training:  20%|█▉        | 49/250 [1:44:52<7:09:15, 128.14s/epoch]"
     ]
    },
    {
     "name": "stdout",
     "output_type": "stream",
     "text": [
      "  Train => MSE=0.4317, CI=0.8191, Pearson=0.7023\n",
      "  Test  => MSE=0.4447, CI=0.8133, Pearson=0.6679\n",
      "Checkpoint saved at epoch 49\n",
      "Deleted previous checkpoint: /kaggle/working/TrainingModel1/model_epoch48.pt\n"
     ]
    },
    {
     "name": "stderr",
     "output_type": "stream",
     "text": [
      "Training:  20%|█▉        | 49/250 [1:45:49<7:09:15, 128.14s/epoch]"
     ]
    },
    {
     "name": "stdout",
     "output_type": "stream",
     "text": [
      "[Epoch 50/250] Training Loss: 0.4340\n"
     ]
    },
    {
     "name": "stderr",
     "output_type": "stream",
     "text": [
      "Training:  20%|██        | 50/250 [1:47:00<7:07:09, 128.15s/epoch]"
     ]
    },
    {
     "name": "stdout",
     "output_type": "stream",
     "text": [
      "  Train => MSE=0.3634, CI=0.8270, Pearson=0.7242\n",
      "  Test  => MSE=0.3754, CI=0.8208, Pearson=0.6908\n",
      "Checkpoint saved at epoch 50\n",
      "Deleted previous checkpoint: /kaggle/working/TrainingModel1/model_epoch49.pt\n"
     ]
    },
    {
     "name": "stderr",
     "output_type": "stream",
     "text": [
      "Training:  20%|██        | 50/250 [1:47:57<7:07:09, 128.15s/epoch]"
     ]
    },
    {
     "name": "stdout",
     "output_type": "stream",
     "text": [
      "[Epoch 51/250] Training Loss: 0.4196\n"
     ]
    },
    {
     "name": "stderr",
     "output_type": "stream",
     "text": [
      "Training:  20%|██        | 51/250 [1:49:08<7:04:47, 128.08s/epoch]"
     ]
    },
    {
     "name": "stdout",
     "output_type": "stream",
     "text": [
      "  Train => MSE=0.3614, CI=0.8280, Pearson=0.7253\n",
      "  Test  => MSE=0.3772, CI=0.8202, Pearson=0.6885\n",
      "Checkpoint saved at epoch 51\n",
      "Deleted previous checkpoint: /kaggle/working/TrainingModel1/model_epoch50.pt\n"
     ]
    },
    {
     "name": "stderr",
     "output_type": "stream",
     "text": [
      "Training:  20%|██        | 51/250 [1:50:05<7:04:47, 128.08s/epoch]"
     ]
    },
    {
     "name": "stdout",
     "output_type": "stream",
     "text": [
      "[Epoch 52/250] Training Loss: 0.4138\n"
     ]
    },
    {
     "name": "stderr",
     "output_type": "stream",
     "text": [
      "Training:  21%|██        | 52/250 [1:51:16<7:02:46, 128.11s/epoch]"
     ]
    },
    {
     "name": "stdout",
     "output_type": "stream",
     "text": [
      "  Train => MSE=0.3977, CI=0.8179, Pearson=0.7001\n",
      "  Test  => MSE=0.4204, CI=0.8047, Pearson=0.6550\n",
      "Checkpoint saved at epoch 52\n",
      "Deleted previous checkpoint: /kaggle/working/TrainingModel1/model_epoch51.pt\n"
     ]
    },
    {
     "name": "stderr",
     "output_type": "stream",
     "text": [
      "Training:  21%|██        | 52/250 [1:52:13<7:02:46, 128.11s/epoch]"
     ]
    },
    {
     "name": "stdout",
     "output_type": "stream",
     "text": [
      "[Epoch 53/250] Training Loss: 0.4012\n"
     ]
    },
    {
     "name": "stderr",
     "output_type": "stream",
     "text": [
      "Training:  21%|██        | 53/250 [1:53:25<7:00:39, 128.12s/epoch]"
     ]
    },
    {
     "name": "stdout",
     "output_type": "stream",
     "text": [
      "  Train => MSE=0.3538, CI=0.8286, Pearson=0.7306\n",
      "  Test  => MSE=0.3668, CI=0.8217, Pearson=0.6954\n",
      "Checkpoint saved at epoch 53\n",
      "Deleted previous checkpoint: /kaggle/working/TrainingModel1/model_epoch52.pt\n"
     ]
    },
    {
     "name": "stderr",
     "output_type": "stream",
     "text": [
      "Training:  21%|██        | 53/250 [1:54:22<7:00:39, 128.12s/epoch]"
     ]
    },
    {
     "name": "stdout",
     "output_type": "stream",
     "text": [
      "[Epoch 54/250] Training Loss: 0.3993\n"
     ]
    },
    {
     "name": "stderr",
     "output_type": "stream",
     "text": [
      "Training:  22%|██▏       | 54/250 [1:55:33<6:58:33, 128.13s/epoch]"
     ]
    },
    {
     "name": "stdout",
     "output_type": "stream",
     "text": [
      "  Train => MSE=0.3735, CI=0.8242, Pearson=0.7140\n",
      "  Test  => MSE=0.3952, CI=0.8139, Pearson=0.6690\n",
      "Checkpoint saved at epoch 54\n",
      "Deleted previous checkpoint: /kaggle/working/TrainingModel1/model_epoch53.pt\n"
     ]
    },
    {
     "name": "stderr",
     "output_type": "stream",
     "text": [
      "Training:  22%|██▏       | 54/250 [1:56:29<6:58:33, 128.13s/epoch]"
     ]
    },
    {
     "name": "stdout",
     "output_type": "stream",
     "text": [
      "[Epoch 55/250] Training Loss: 0.4040\n"
     ]
    },
    {
     "name": "stderr",
     "output_type": "stream",
     "text": [
      "Training:  22%|██▏       | 55/250 [1:57:41<6:56:11, 128.06s/epoch]"
     ]
    },
    {
     "name": "stdout",
     "output_type": "stream",
     "text": [
      "  Train => MSE=0.3547, CI=0.8240, Pearson=0.7300\n",
      "  Test  => MSE=0.3735, CI=0.8145, Pearson=0.6882\n",
      "Checkpoint saved at epoch 55\n",
      "Deleted previous checkpoint: /kaggle/working/TrainingModel1/model_epoch54.pt\n"
     ]
    },
    {
     "name": "stderr",
     "output_type": "stream",
     "text": [
      "Training:  22%|██▏       | 55/250 [1:58:38<6:56:11, 128.06s/epoch]"
     ]
    },
    {
     "name": "stdout",
     "output_type": "stream",
     "text": [
      "[Epoch 56/250] Training Loss: 0.4013\n"
     ]
    },
    {
     "name": "stderr",
     "output_type": "stream",
     "text": [
      "Training:  22%|██▏       | 56/250 [1:59:49<6:54:07, 128.08s/epoch]"
     ]
    },
    {
     "name": "stdout",
     "output_type": "stream",
     "text": [
      "  Train => MSE=0.3672, CI=0.8206, Pearson=0.7193\n",
      "  Test  => MSE=0.3964, CI=0.8069, Pearson=0.6680\n",
      "Checkpoint saved at epoch 56\n",
      "Deleted previous checkpoint: /kaggle/working/TrainingModel1/model_epoch55.pt\n"
     ]
    },
    {
     "name": "stderr",
     "output_type": "stream",
     "text": [
      "Training:  22%|██▏       | 56/250 [2:00:46<6:54:07, 128.08s/epoch]"
     ]
    },
    {
     "name": "stdout",
     "output_type": "stream",
     "text": [
      "[Epoch 57/250] Training Loss: 0.3953\n"
     ]
    },
    {
     "name": "stderr",
     "output_type": "stream",
     "text": [
      "Training:  23%|██▎       | 57/250 [2:01:57<6:52:04, 128.10s/epoch]"
     ]
    },
    {
     "name": "stdout",
     "output_type": "stream",
     "text": [
      "  Train => MSE=0.3480, CI=0.8274, Pearson=0.7372\n",
      "  Test  => MSE=0.3700, CI=0.8148, Pearson=0.6937\n",
      "Checkpoint saved at epoch 57\n",
      "Deleted previous checkpoint: /kaggle/working/TrainingModel1/model_epoch56.pt\n"
     ]
    },
    {
     "name": "stderr",
     "output_type": "stream",
     "text": [
      "Training:  23%|██▎       | 57/250 [2:02:54<6:52:04, 128.10s/epoch]"
     ]
    },
    {
     "name": "stdout",
     "output_type": "stream",
     "text": [
      "[Epoch 58/250] Training Loss: 0.3906\n"
     ]
    },
    {
     "name": "stderr",
     "output_type": "stream",
     "text": [
      "Training:  23%|██▎       | 58/250 [2:04:05<6:50:02, 128.14s/epoch]"
     ]
    },
    {
     "name": "stdout",
     "output_type": "stream",
     "text": [
      "  Train => MSE=0.3622, CI=0.8227, Pearson=0.7289\n",
      "  Test  => MSE=0.3862, CI=0.8070, Pearson=0.6847\n",
      "Checkpoint saved at epoch 58\n",
      "Deleted previous checkpoint: /kaggle/working/TrainingModel1/model_epoch57.pt\n"
     ]
    },
    {
     "name": "stderr",
     "output_type": "stream",
     "text": [
      "Training:  23%|██▎       | 58/250 [2:05:02<6:50:02, 128.14s/epoch]"
     ]
    },
    {
     "name": "stdout",
     "output_type": "stream",
     "text": [
      "[Epoch 59/250] Training Loss: 0.3917\n"
     ]
    },
    {
     "name": "stderr",
     "output_type": "stream",
     "text": [
      "Training:  24%|██▎       | 59/250 [2:06:13<6:47:46, 128.10s/epoch]"
     ]
    },
    {
     "name": "stdout",
     "output_type": "stream",
     "text": [
      "  Train => MSE=0.3947, CI=0.8193, Pearson=0.7005\n",
      "  Test  => MSE=0.4154, CI=0.8033, Pearson=0.6472\n",
      "Checkpoint saved at epoch 59\n",
      "Deleted previous checkpoint: /kaggle/working/TrainingModel1/model_epoch58.pt\n"
     ]
    },
    {
     "name": "stderr",
     "output_type": "stream",
     "text": [
      "Training:  24%|██▎       | 59/250 [2:07:10<6:47:46, 128.10s/epoch]"
     ]
    },
    {
     "name": "stdout",
     "output_type": "stream",
     "text": [
      "[Epoch 60/250] Training Loss: 0.3919\n"
     ]
    },
    {
     "name": "stderr",
     "output_type": "stream",
     "text": [
      "Training:  24%|██▍       | 60/250 [2:08:21<6:45:45, 128.13s/epoch]"
     ]
    },
    {
     "name": "stdout",
     "output_type": "stream",
     "text": [
      "  Train => MSE=0.3447, CI=0.8332, Pearson=0.7452\n",
      "  Test  => MSE=0.3619, CI=0.8202, Pearson=0.7052\n",
      "Checkpoint saved at epoch 60\n",
      "Deleted previous checkpoint: /kaggle/working/TrainingModel1/model_epoch59.pt\n"
     ]
    },
    {
     "name": "stderr",
     "output_type": "stream",
     "text": [
      "Training:  24%|██▍       | 60/250 [2:09:18<6:45:45, 128.13s/epoch]"
     ]
    },
    {
     "name": "stdout",
     "output_type": "stream",
     "text": [
      "[Epoch 61/250] Training Loss: 0.3799\n"
     ]
    },
    {
     "name": "stderr",
     "output_type": "stream",
     "text": [
      "Training:  24%|██▍       | 61/250 [2:10:29<6:43:33, 128.12s/epoch]"
     ]
    },
    {
     "name": "stdout",
     "output_type": "stream",
     "text": [
      "  Train => MSE=0.3468, CI=0.8302, Pearson=0.7388\n",
      "  Test  => MSE=0.3766, CI=0.8123, Pearson=0.6873\n",
      "Checkpoint saved at epoch 61\n",
      "Deleted previous checkpoint: /kaggle/working/TrainingModel1/model_epoch60.pt\n"
     ]
    },
    {
     "name": "stderr",
     "output_type": "stream",
     "text": [
      "Training:  24%|██▍       | 61/250 [2:11:26<6:43:33, 128.12s/epoch]"
     ]
    },
    {
     "name": "stdout",
     "output_type": "stream",
     "text": [
      "[Epoch 62/250] Training Loss: 0.3768\n"
     ]
    },
    {
     "name": "stderr",
     "output_type": "stream",
     "text": [
      "Training:  25%|██▍       | 62/250 [2:12:38<6:41:25, 128.12s/epoch]"
     ]
    },
    {
     "name": "stdout",
     "output_type": "stream",
     "text": [
      "  Train => MSE=0.3405, CI=0.8330, Pearson=0.7490\n",
      "  Test  => MSE=0.3637, CI=0.8221, Pearson=0.7056\n",
      "Checkpoint saved at epoch 62\n",
      "Deleted previous checkpoint: /kaggle/working/TrainingModel1/model_epoch61.pt\n"
     ]
    },
    {
     "name": "stderr",
     "output_type": "stream",
     "text": [
      "Training:  25%|██▍       | 62/250 [2:13:34<6:41:25, 128.12s/epoch]"
     ]
    },
    {
     "name": "stdout",
     "output_type": "stream",
     "text": [
      "[Epoch 63/250] Training Loss: 0.3775\n"
     ]
    },
    {
     "name": "stderr",
     "output_type": "stream",
     "text": [
      "Training:  25%|██▌       | 63/250 [2:14:46<6:39:09, 128.07s/epoch]"
     ]
    },
    {
     "name": "stdout",
     "output_type": "stream",
     "text": [
      "  Train => MSE=0.3606, CI=0.8297, Pearson=0.7320\n",
      "  Test  => MSE=0.3825, CI=0.8164, Pearson=0.6840\n",
      "Checkpoint saved at epoch 63\n",
      "Deleted previous checkpoint: /kaggle/working/TrainingModel1/model_epoch62.pt\n"
     ]
    },
    {
     "name": "stderr",
     "output_type": "stream",
     "text": [
      "Training:  25%|██▌       | 63/250 [2:15:42<6:39:09, 128.07s/epoch]"
     ]
    },
    {
     "name": "stdout",
     "output_type": "stream",
     "text": [
      "[Epoch 64/250] Training Loss: 0.3784\n"
     ]
    },
    {
     "name": "stderr",
     "output_type": "stream",
     "text": [
      "Training:  26%|██▌       | 64/250 [2:16:54<6:36:59, 128.06s/epoch]"
     ]
    },
    {
     "name": "stdout",
     "output_type": "stream",
     "text": [
      "  Train => MSE=0.3382, CI=0.8311, Pearson=0.7452\n",
      "  Test  => MSE=0.3566, CI=0.8188, Pearson=0.7039\n",
      "Checkpoint saved at epoch 64\n",
      "Deleted previous checkpoint: /kaggle/working/TrainingModel1/model_epoch63.pt\n"
     ]
    },
    {
     "name": "stderr",
     "output_type": "stream",
     "text": [
      "Training:  26%|██▌       | 64/250 [2:17:50<6:36:59, 128.06s/epoch]"
     ]
    },
    {
     "name": "stdout",
     "output_type": "stream",
     "text": [
      "[Epoch 65/250] Training Loss: 0.3770\n"
     ]
    },
    {
     "name": "stderr",
     "output_type": "stream",
     "text": [
      "Training:  26%|██▌       | 65/250 [2:19:02<6:34:46, 128.03s/epoch]"
     ]
    },
    {
     "name": "stdout",
     "output_type": "stream",
     "text": [
      "  Train => MSE=0.3552, CI=0.8320, Pearson=0.7339\n",
      "  Test  => MSE=0.3837, CI=0.8192, Pearson=0.6903\n",
      "Checkpoint saved at epoch 65\n",
      "Deleted previous checkpoint: /kaggle/working/TrainingModel1/model_epoch64.pt\n"
     ]
    },
    {
     "name": "stderr",
     "output_type": "stream",
     "text": [
      "Training:  26%|██▌       | 65/250 [2:19:58<6:34:46, 128.03s/epoch]"
     ]
    },
    {
     "name": "stdout",
     "output_type": "stream",
     "text": [
      "[Epoch 66/250] Training Loss: 0.3737\n"
     ]
    },
    {
     "name": "stderr",
     "output_type": "stream",
     "text": [
      "Training:  26%|██▋       | 66/250 [2:21:10<6:32:45, 128.07s/epoch]"
     ]
    },
    {
     "name": "stdout",
     "output_type": "stream",
     "text": [
      "  Train => MSE=0.3418, CI=0.8285, Pearson=0.7412\n",
      "  Test  => MSE=0.3669, CI=0.8180, Pearson=0.6981\n",
      "Checkpoint saved at epoch 66\n",
      "Deleted previous checkpoint: /kaggle/working/TrainingModel1/model_epoch65.pt\n"
     ]
    },
    {
     "name": "stderr",
     "output_type": "stream",
     "text": [
      "Training:  26%|██▋       | 66/250 [2:22:07<6:32:45, 128.07s/epoch]"
     ]
    },
    {
     "name": "stdout",
     "output_type": "stream",
     "text": [
      "[Epoch 67/250] Training Loss: 0.3633\n"
     ]
    },
    {
     "name": "stderr",
     "output_type": "stream",
     "text": [
      "Training:  27%|██▋       | 67/250 [2:23:18<6:30:39, 128.08s/epoch]"
     ]
    },
    {
     "name": "stdout",
     "output_type": "stream",
     "text": [
      "  Train => MSE=0.3656, CI=0.8308, Pearson=0.7374\n",
      "  Test  => MSE=0.4030, CI=0.8137, Pearson=0.6798\n",
      "Checkpoint saved at epoch 67\n",
      "Deleted previous checkpoint: /kaggle/working/TrainingModel1/model_epoch66.pt\n"
     ]
    },
    {
     "name": "stderr",
     "output_type": "stream",
     "text": [
      "Training:  27%|██▋       | 67/250 [2:24:15<6:30:39, 128.08s/epoch]"
     ]
    },
    {
     "name": "stdout",
     "output_type": "stream",
     "text": [
      "[Epoch 68/250] Training Loss: 0.3682\n"
     ]
    },
    {
     "name": "stderr",
     "output_type": "stream",
     "text": [
      "Training:  27%|██▋       | 68/250 [2:25:26<6:28:35, 128.11s/epoch]"
     ]
    },
    {
     "name": "stdout",
     "output_type": "stream",
     "text": [
      "  Train => MSE=0.3458, CI=0.8309, Pearson=0.7436\n",
      "  Test  => MSE=0.3685, CI=0.8152, Pearson=0.6989\n",
      "Checkpoint saved at epoch 68\n",
      "Deleted previous checkpoint: /kaggle/working/TrainingModel1/model_epoch67.pt\n"
     ]
    },
    {
     "name": "stderr",
     "output_type": "stream",
     "text": [
      "Training:  27%|██▋       | 68/250 [2:26:23<6:28:35, 128.11s/epoch]"
     ]
    },
    {
     "name": "stdout",
     "output_type": "stream",
     "text": [
      "[Epoch 69/250] Training Loss: 0.3646\n"
     ]
    },
    {
     "name": "stderr",
     "output_type": "stream",
     "text": [
      "Training:  28%|██▊       | 69/250 [2:27:34<6:26:14, 128.03s/epoch]"
     ]
    },
    {
     "name": "stdout",
     "output_type": "stream",
     "text": [
      "  Train => MSE=0.3323, CI=0.8340, Pearson=0.7512\n",
      "  Test  => MSE=0.3484, CI=0.8217, Pearson=0.7129\n",
      "Checkpoint saved at epoch 69\n",
      "Deleted previous checkpoint: /kaggle/working/TrainingModel1/model_epoch68.pt\n"
     ]
    },
    {
     "name": "stderr",
     "output_type": "stream",
     "text": [
      "Training:  28%|██▊       | 69/250 [2:28:31<6:26:14, 128.03s/epoch]"
     ]
    },
    {
     "name": "stdout",
     "output_type": "stream",
     "text": [
      "[Epoch 70/250] Training Loss: 0.3662\n"
     ]
    },
    {
     "name": "stderr",
     "output_type": "stream",
     "text": [
      "Training:  28%|██▊       | 70/250 [2:29:42<6:24:17, 128.10s/epoch]"
     ]
    },
    {
     "name": "stdout",
     "output_type": "stream",
     "text": [
      "  Train => MSE=0.3669, CI=0.8297, Pearson=0.7248\n",
      "  Test  => MSE=0.4008, CI=0.8127, Pearson=0.6784\n",
      "Checkpoint saved at epoch 70\n",
      "Deleted previous checkpoint: /kaggle/working/TrainingModel1/model_epoch69.pt\n"
     ]
    },
    {
     "name": "stderr",
     "output_type": "stream",
     "text": [
      "Training:  28%|██▊       | 70/250 [2:30:39<6:24:17, 128.10s/epoch]"
     ]
    },
    {
     "name": "stdout",
     "output_type": "stream",
     "text": [
      "[Epoch 71/250] Training Loss: 0.3612\n"
     ]
    },
    {
     "name": "stderr",
     "output_type": "stream",
     "text": [
      "Training:  28%|██▊       | 71/250 [2:31:50<6:22:01, 128.05s/epoch]"
     ]
    },
    {
     "name": "stdout",
     "output_type": "stream",
     "text": [
      "  Train => MSE=0.3283, CI=0.8349, Pearson=0.7565\n",
      "  Test  => MSE=0.3698, CI=0.8210, Pearson=0.7049\n",
      "Checkpoint saved at epoch 71\n",
      "Deleted previous checkpoint: /kaggle/working/TrainingModel1/model_epoch70.pt\n"
     ]
    },
    {
     "name": "stderr",
     "output_type": "stream",
     "text": [
      "Training:  28%|██▊       | 71/250 [2:32:47<6:22:01, 128.05s/epoch]"
     ]
    },
    {
     "name": "stdout",
     "output_type": "stream",
     "text": [
      "[Epoch 72/250] Training Loss: 0.3703\n"
     ]
    },
    {
     "name": "stderr",
     "output_type": "stream",
     "text": [
      "Training:  29%|██▉       | 72/250 [2:33:58<6:19:54, 128.06s/epoch]"
     ]
    },
    {
     "name": "stdout",
     "output_type": "stream",
     "text": [
      "  Train => MSE=0.3349, CI=0.8395, Pearson=0.7590\n",
      "  Test  => MSE=0.3609, CI=0.8227, Pearson=0.7147\n",
      "Checkpoint saved at epoch 72\n",
      "Deleted previous checkpoint: /kaggle/working/TrainingModel1/model_epoch71.pt\n"
     ]
    },
    {
     "name": "stderr",
     "output_type": "stream",
     "text": [
      "Training:  29%|██▉       | 72/250 [2:34:55<6:19:54, 128.06s/epoch]"
     ]
    },
    {
     "name": "stdout",
     "output_type": "stream",
     "text": [
      "[Epoch 73/250] Training Loss: 0.3563\n"
     ]
    },
    {
     "name": "stderr",
     "output_type": "stream",
     "text": [
      "Training:  29%|██▉       | 73/250 [2:36:06<6:17:34, 127.99s/epoch]"
     ]
    },
    {
     "name": "stdout",
     "output_type": "stream",
     "text": [
      "  Train => MSE=0.3485, CI=0.8370, Pearson=0.7420\n",
      "  Test  => MSE=0.3732, CI=0.8214, Pearson=0.6959\n",
      "Checkpoint saved at epoch 73\n",
      "Deleted previous checkpoint: /kaggle/working/TrainingModel1/model_epoch72.pt\n"
     ]
    },
    {
     "name": "stderr",
     "output_type": "stream",
     "text": [
      "Training:  29%|██▉       | 73/250 [2:37:03<6:17:34, 127.99s/epoch]"
     ]
    },
    {
     "name": "stdout",
     "output_type": "stream",
     "text": [
      "[Epoch 74/250] Training Loss: 0.3540\n"
     ]
    },
    {
     "name": "stderr",
     "output_type": "stream",
     "text": [
      "Training:  30%|██▉       | 74/250 [2:38:14<6:15:33, 128.03s/epoch]"
     ]
    },
    {
     "name": "stdout",
     "output_type": "stream",
     "text": [
      "  Train => MSE=0.3273, CI=0.8402, Pearson=0.7593\n",
      "  Test  => MSE=0.3591, CI=0.8220, Pearson=0.7105\n",
      "Checkpoint saved at epoch 74\n",
      "Deleted previous checkpoint: /kaggle/working/TrainingModel1/model_epoch73.pt\n"
     ]
    },
    {
     "name": "stderr",
     "output_type": "stream",
     "text": [
      "Training:  30%|██▉       | 74/250 [2:39:11<6:15:33, 128.03s/epoch]"
     ]
    },
    {
     "name": "stdout",
     "output_type": "stream",
     "text": [
      "[Epoch 75/250] Training Loss: 0.3512\n"
     ]
    },
    {
     "name": "stderr",
     "output_type": "stream",
     "text": [
      "Training:  30%|███       | 75/250 [2:40:22<6:13:15, 127.98s/epoch]"
     ]
    },
    {
     "name": "stdout",
     "output_type": "stream",
     "text": [
      "  Train => MSE=0.3316, CI=0.8405, Pearson=0.7594\n",
      "  Test  => MSE=0.3633, CI=0.8199, Pearson=0.7038\n",
      "Checkpoint saved at epoch 75\n",
      "Deleted previous checkpoint: /kaggle/working/TrainingModel1/model_epoch74.pt\n"
     ]
    },
    {
     "name": "stderr",
     "output_type": "stream",
     "text": [
      "Training:  30%|███       | 75/250 [2:41:19<6:13:15, 127.98s/epoch]"
     ]
    },
    {
     "name": "stdout",
     "output_type": "stream",
     "text": [
      "[Epoch 76/250] Training Loss: 0.3533\n"
     ]
    },
    {
     "name": "stderr",
     "output_type": "stream",
     "text": [
      "Training:  30%|███       | 76/250 [2:42:30<6:11:07, 127.97s/epoch]"
     ]
    },
    {
     "name": "stdout",
     "output_type": "stream",
     "text": [
      "  Train => MSE=0.3377, CI=0.8399, Pearson=0.7624\n",
      "  Test  => MSE=0.3601, CI=0.8212, Pearson=0.7118\n",
      "Checkpoint saved at epoch 76\n",
      "Deleted previous checkpoint: /kaggle/working/TrainingModel1/model_epoch75.pt\n"
     ]
    },
    {
     "name": "stderr",
     "output_type": "stream",
     "text": [
      "Training:  30%|███       | 76/250 [2:43:27<6:11:07, 127.97s/epoch]"
     ]
    },
    {
     "name": "stdout",
     "output_type": "stream",
     "text": [
      "[Epoch 77/250] Training Loss: 0.3483\n"
     ]
    },
    {
     "name": "stderr",
     "output_type": "stream",
     "text": [
      "Training:  31%|███       | 77/250 [2:44:38<6:09:05, 128.01s/epoch]"
     ]
    },
    {
     "name": "stdout",
     "output_type": "stream",
     "text": [
      "  Train => MSE=0.3400, CI=0.8419, Pearson=0.7588\n",
      "  Test  => MSE=0.3743, CI=0.8232, Pearson=0.7048\n",
      "Checkpoint saved at epoch 77\n",
      "Deleted previous checkpoint: /kaggle/working/TrainingModel1/model_epoch76.pt\n"
     ]
    },
    {
     "name": "stderr",
     "output_type": "stream",
     "text": [
      "Training:  31%|███       | 77/250 [2:45:35<6:09:05, 128.01s/epoch]"
     ]
    },
    {
     "name": "stdout",
     "output_type": "stream",
     "text": [
      "[Epoch 78/250] Training Loss: 0.3467\n"
     ]
    },
    {
     "name": "stderr",
     "output_type": "stream",
     "text": [
      "Training:  31%|███       | 78/250 [2:46:46<6:07:00, 128.03s/epoch]"
     ]
    },
    {
     "name": "stdout",
     "output_type": "stream",
     "text": [
      "  Train => MSE=0.3220, CI=0.8387, Pearson=0.7641\n",
      "  Test  => MSE=0.3556, CI=0.8247, Pearson=0.7125\n",
      "Checkpoint saved at epoch 78\n",
      "Deleted previous checkpoint: /kaggle/working/TrainingModel1/model_epoch77.pt\n"
     ]
    },
    {
     "name": "stderr",
     "output_type": "stream",
     "text": [
      "Training:  31%|███       | 78/250 [2:47:43<6:07:00, 128.03s/epoch]"
     ]
    },
    {
     "name": "stdout",
     "output_type": "stream",
     "text": [
      "[Epoch 79/250] Training Loss: 0.3473\n"
     ]
    },
    {
     "name": "stderr",
     "output_type": "stream",
     "text": [
      "Training:  32%|███▏      | 79/250 [2:48:54<6:04:39, 127.95s/epoch]"
     ]
    },
    {
     "name": "stdout",
     "output_type": "stream",
     "text": [
      "  Train => MSE=0.3077, CI=0.8428, Pearson=0.7760\n",
      "  Test  => MSE=0.3531, CI=0.8246, Pearson=0.7224\n",
      "Checkpoint saved at epoch 79\n",
      "Deleted previous checkpoint: /kaggle/working/TrainingModel1/model_epoch78.pt\n"
     ]
    },
    {
     "name": "stderr",
     "output_type": "stream",
     "text": [
      "Training:  32%|███▏      | 79/250 [2:49:51<6:04:39, 127.95s/epoch]"
     ]
    },
    {
     "name": "stdout",
     "output_type": "stream",
     "text": [
      "[Epoch 80/250] Training Loss: 0.3536\n"
     ]
    },
    {
     "name": "stderr",
     "output_type": "stream",
     "text": [
      "Training:  32%|███▏      | 80/250 [2:51:02<6:02:38, 127.99s/epoch]"
     ]
    },
    {
     "name": "stdout",
     "output_type": "stream",
     "text": [
      "  Train => MSE=0.3506, CI=0.8412, Pearson=0.7588\n",
      "  Test  => MSE=0.3931, CI=0.8151, Pearson=0.6900\n",
      "Checkpoint saved at epoch 80\n",
      "Deleted previous checkpoint: /kaggle/working/TrainingModel1/model_epoch79.pt\n"
     ]
    },
    {
     "name": "stderr",
     "output_type": "stream",
     "text": [
      "Training:  32%|███▏      | 80/250 [2:51:59<6:02:38, 127.99s/epoch]"
     ]
    },
    {
     "name": "stdout",
     "output_type": "stream",
     "text": [
      "[Epoch 81/250] Training Loss: 0.3507\n"
     ]
    },
    {
     "name": "stderr",
     "output_type": "stream",
     "text": [
      "Training:  32%|███▏      | 81/250 [2:53:10<6:00:29, 127.98s/epoch]"
     ]
    },
    {
     "name": "stdout",
     "output_type": "stream",
     "text": [
      "  Train => MSE=0.3284, CI=0.8381, Pearson=0.7635\n",
      "  Test  => MSE=0.3637, CI=0.8202, Pearson=0.7103\n",
      "Checkpoint saved at epoch 81\n",
      "Deleted previous checkpoint: /kaggle/working/TrainingModel1/model_epoch80.pt\n"
     ]
    },
    {
     "name": "stderr",
     "output_type": "stream",
     "text": [
      "Training:  32%|███▏      | 81/250 [2:54:07<6:00:29, 127.98s/epoch]"
     ]
    },
    {
     "name": "stdout",
     "output_type": "stream",
     "text": [
      "[Epoch 82/250] Training Loss: 0.3447\n"
     ]
    },
    {
     "name": "stderr",
     "output_type": "stream",
     "text": [
      "Training:  33%|███▎      | 82/250 [2:55:18<5:58:19, 127.98s/epoch]"
     ]
    },
    {
     "name": "stdout",
     "output_type": "stream",
     "text": [
      "  Train => MSE=0.3354, CI=0.8382, Pearson=0.7655\n",
      "  Test  => MSE=0.3782, CI=0.8209, Pearson=0.7016\n",
      "Checkpoint saved at epoch 82\n",
      "Deleted previous checkpoint: /kaggle/working/TrainingModel1/model_epoch81.pt\n"
     ]
    },
    {
     "name": "stderr",
     "output_type": "stream",
     "text": [
      "Training:  33%|███▎      | 82/250 [2:56:15<5:58:19, 127.98s/epoch]"
     ]
    },
    {
     "name": "stdout",
     "output_type": "stream",
     "text": [
      "[Epoch 83/250] Training Loss: 0.3425\n"
     ]
    },
    {
     "name": "stderr",
     "output_type": "stream",
     "text": [
      "Training:  33%|███▎      | 83/250 [2:57:26<5:56:13, 127.99s/epoch]"
     ]
    },
    {
     "name": "stdout",
     "output_type": "stream",
     "text": [
      "  Train => MSE=0.3168, CI=0.8394, Pearson=0.7724\n",
      "  Test  => MSE=0.3591, CI=0.8191, Pearson=0.7125\n",
      "Checkpoint saved at epoch 83\n",
      "Deleted previous checkpoint: /kaggle/working/TrainingModel1/model_epoch82.pt\n"
     ]
    },
    {
     "name": "stderr",
     "output_type": "stream",
     "text": [
      "Training:  33%|███▎      | 83/250 [2:58:23<5:56:13, 127.99s/epoch]"
     ]
    },
    {
     "name": "stdout",
     "output_type": "stream",
     "text": [
      "[Epoch 84/250] Training Loss: 0.3402\n"
     ]
    },
    {
     "name": "stderr",
     "output_type": "stream",
     "text": [
      "Training:  34%|███▎      | 84/250 [2:59:34<5:54:14, 128.04s/epoch]"
     ]
    },
    {
     "name": "stdout",
     "output_type": "stream",
     "text": [
      "  Train => MSE=0.3385, CI=0.8350, Pearson=0.7558\n",
      "  Test  => MSE=0.3818, CI=0.8194, Pearson=0.6916\n",
      "Checkpoint saved at epoch 84\n",
      "Deleted previous checkpoint: /kaggle/working/TrainingModel1/model_epoch83.pt\n"
     ]
    },
    {
     "name": "stderr",
     "output_type": "stream",
     "text": [
      "Training:  34%|███▎      | 84/250 [3:00:31<5:54:14, 128.04s/epoch]"
     ]
    },
    {
     "name": "stdout",
     "output_type": "stream",
     "text": [
      "[Epoch 85/250] Training Loss: 0.3348\n"
     ]
    },
    {
     "name": "stderr",
     "output_type": "stream",
     "text": [
      "Training:  34%|███▍      | 85/250 [3:01:42<5:52:18, 128.11s/epoch]"
     ]
    },
    {
     "name": "stdout",
     "output_type": "stream",
     "text": [
      "  Train => MSE=0.3119, CI=0.8422, Pearson=0.7747\n",
      "  Test  => MSE=0.3449, CI=0.8216, Pearson=0.7189\n",
      "Checkpoint saved at epoch 85\n",
      "Deleted previous checkpoint: /kaggle/working/TrainingModel1/model_epoch84.pt\n"
     ]
    },
    {
     "name": "stderr",
     "output_type": "stream",
     "text": [
      "Training:  34%|███▍      | 85/250 [3:02:39<5:52:18, 128.11s/epoch]"
     ]
    },
    {
     "name": "stdout",
     "output_type": "stream",
     "text": [
      "[Epoch 86/250] Training Loss: 0.3352\n"
     ]
    },
    {
     "name": "stderr",
     "output_type": "stream",
     "text": [
      "Training:  34%|███▍      | 86/250 [3:03:50<5:50:01, 128.06s/epoch]"
     ]
    },
    {
     "name": "stdout",
     "output_type": "stream",
     "text": [
      "  Train => MSE=0.3158, CI=0.8417, Pearson=0.7733\n",
      "  Test  => MSE=0.3599, CI=0.8195, Pearson=0.7076\n",
      "Checkpoint saved at epoch 86\n",
      "Deleted previous checkpoint: /kaggle/working/TrainingModel1/model_epoch85.pt\n"
     ]
    },
    {
     "name": "stderr",
     "output_type": "stream",
     "text": [
      "Training:  34%|███▍      | 86/250 [3:04:47<5:50:01, 128.06s/epoch]"
     ]
    },
    {
     "name": "stdout",
     "output_type": "stream",
     "text": [
      "[Epoch 87/250] Training Loss: 0.3386\n"
     ]
    },
    {
     "name": "stderr",
     "output_type": "stream",
     "text": [
      "Training:  35%|███▍      | 87/250 [3:05:59<5:48:06, 128.14s/epoch]"
     ]
    },
    {
     "name": "stdout",
     "output_type": "stream",
     "text": [
      "  Train => MSE=0.3006, CI=0.8450, Pearson=0.7801\n",
      "  Test  => MSE=0.3613, CI=0.8214, Pearson=0.7137\n",
      "Checkpoint saved at epoch 87\n",
      "Deleted previous checkpoint: /kaggle/working/TrainingModel1/model_epoch86.pt\n"
     ]
    },
    {
     "name": "stderr",
     "output_type": "stream",
     "text": [
      "Training:  35%|███▍      | 87/250 [3:06:55<5:48:06, 128.14s/epoch]"
     ]
    },
    {
     "name": "stdout",
     "output_type": "stream",
     "text": [
      "[Epoch 88/250] Training Loss: 0.3270\n"
     ]
    },
    {
     "name": "stderr",
     "output_type": "stream",
     "text": [
      "Training:  35%|███▌      | 88/250 [3:08:06<5:45:49, 128.08s/epoch]"
     ]
    },
    {
     "name": "stdout",
     "output_type": "stream",
     "text": [
      "  Train => MSE=0.3043, CI=0.8453, Pearson=0.7824\n",
      "  Test  => MSE=0.3466, CI=0.8250, Pearson=0.7231\n",
      "Checkpoint saved at epoch 88\n",
      "Deleted previous checkpoint: /kaggle/working/TrainingModel1/model_epoch87.pt\n"
     ]
    },
    {
     "name": "stderr",
     "output_type": "stream",
     "text": [
      "Training:  35%|███▌      | 88/250 [3:09:03<5:45:49, 128.08s/epoch]"
     ]
    },
    {
     "name": "stdout",
     "output_type": "stream",
     "text": [
      "[Epoch 89/250] Training Loss: 0.3326\n"
     ]
    },
    {
     "name": "stderr",
     "output_type": "stream",
     "text": [
      "Training:  36%|███▌      | 89/250 [3:10:15<5:43:46, 128.11s/epoch]"
     ]
    },
    {
     "name": "stdout",
     "output_type": "stream",
     "text": [
      "  Train => MSE=0.3386, CI=0.8415, Pearson=0.7666\n",
      "  Test  => MSE=0.3726, CI=0.8209, Pearson=0.7082\n",
      "Checkpoint saved at epoch 89\n",
      "Deleted previous checkpoint: /kaggle/working/TrainingModel1/model_epoch88.pt\n"
     ]
    },
    {
     "name": "stderr",
     "output_type": "stream",
     "text": [
      "Training:  36%|███▌      | 89/250 [3:11:12<5:43:46, 128.11s/epoch]"
     ]
    },
    {
     "name": "stdout",
     "output_type": "stream",
     "text": [
      "[Epoch 90/250] Training Loss: 0.3320\n"
     ]
    },
    {
     "name": "stderr",
     "output_type": "stream",
     "text": [
      "Training:  36%|███▌      | 90/250 [3:12:23<5:41:35, 128.10s/epoch]"
     ]
    },
    {
     "name": "stdout",
     "output_type": "stream",
     "text": [
      "  Train => MSE=0.3247, CI=0.8382, Pearson=0.7769\n",
      "  Test  => MSE=0.3623, CI=0.8164, Pearson=0.7147\n",
      "Checkpoint saved at epoch 90\n",
      "Deleted previous checkpoint: /kaggle/working/TrainingModel1/model_epoch89.pt\n"
     ]
    },
    {
     "name": "stderr",
     "output_type": "stream",
     "text": [
      "Training:  36%|███▌      | 90/250 [3:13:19<5:41:35, 128.10s/epoch]"
     ]
    },
    {
     "name": "stdout",
     "output_type": "stream",
     "text": [
      "[Epoch 91/250] Training Loss: 0.3239\n"
     ]
    },
    {
     "name": "stderr",
     "output_type": "stream",
     "text": [
      "Training:  36%|███▋      | 91/250 [3:14:31<5:39:17, 128.03s/epoch]"
     ]
    },
    {
     "name": "stdout",
     "output_type": "stream",
     "text": [
      "  Train => MSE=0.3273, CI=0.8392, Pearson=0.7736\n",
      "  Test  => MSE=0.3561, CI=0.8156, Pearson=0.7190\n",
      "Checkpoint saved at epoch 91\n",
      "Deleted previous checkpoint: /kaggle/working/TrainingModel1/model_epoch90.pt\n"
     ]
    },
    {
     "name": "stderr",
     "output_type": "stream",
     "text": [
      "Training:  36%|███▋      | 91/250 [3:15:28<5:39:17, 128.03s/epoch]"
     ]
    },
    {
     "name": "stdout",
     "output_type": "stream",
     "text": [
      "[Epoch 92/250] Training Loss: 0.3325\n"
     ]
    },
    {
     "name": "stderr",
     "output_type": "stream",
     "text": [
      "Training:  37%|███▋      | 92/250 [3:16:39<5:37:16, 128.08s/epoch]"
     ]
    },
    {
     "name": "stdout",
     "output_type": "stream",
     "text": [
      "  Train => MSE=0.3172, CI=0.8406, Pearson=0.7771\n",
      "  Test  => MSE=0.3601, CI=0.8132, Pearson=0.7129\n",
      "Checkpoint saved at epoch 92\n",
      "Deleted previous checkpoint: /kaggle/working/TrainingModel1/model_epoch91.pt\n"
     ]
    },
    {
     "name": "stderr",
     "output_type": "stream",
     "text": [
      "Training:  37%|███▋      | 92/250 [3:17:35<5:37:16, 128.08s/epoch]"
     ]
    },
    {
     "name": "stdout",
     "output_type": "stream",
     "text": [
      "[Epoch 93/250] Training Loss: 0.3224\n"
     ]
    },
    {
     "name": "stderr",
     "output_type": "stream",
     "text": [
      "Training:  37%|███▋      | 93/250 [3:18:47<5:35:16, 128.13s/epoch]"
     ]
    },
    {
     "name": "stdout",
     "output_type": "stream",
     "text": [
      "  Train => MSE=0.3114, CI=0.8422, Pearson=0.7747\n",
      "  Test  => MSE=0.3575, CI=0.8185, Pearson=0.7129\n",
      "Checkpoint saved at epoch 93\n",
      "Deleted previous checkpoint: /kaggle/working/TrainingModel1/model_epoch92.pt\n"
     ]
    },
    {
     "name": "stderr",
     "output_type": "stream",
     "text": [
      "Training:  37%|███▋      | 93/250 [3:19:44<5:35:16, 128.13s/epoch]"
     ]
    },
    {
     "name": "stdout",
     "output_type": "stream",
     "text": [
      "[Epoch 94/250] Training Loss: 0.3231\n"
     ]
    },
    {
     "name": "stderr",
     "output_type": "stream",
     "text": [
      "Training:  38%|███▊      | 94/250 [3:20:55<5:33:04, 128.11s/epoch]"
     ]
    },
    {
     "name": "stdout",
     "output_type": "stream",
     "text": [
      "  Train => MSE=0.3127, CI=0.8437, Pearson=0.7758\n",
      "  Test  => MSE=0.3614, CI=0.8222, Pearson=0.7137\n",
      "Checkpoint saved at epoch 94\n",
      "Deleted previous checkpoint: /kaggle/working/TrainingModel1/model_epoch93.pt\n"
     ]
    },
    {
     "name": "stderr",
     "output_type": "stream",
     "text": [
      "Training:  38%|███▊      | 94/250 [3:21:52<5:33:04, 128.11s/epoch]"
     ]
    },
    {
     "name": "stdout",
     "output_type": "stream",
     "text": [
      "[Epoch 95/250] Training Loss: 0.3347\n"
     ]
    },
    {
     "name": "stderr",
     "output_type": "stream",
     "text": [
      "Training:  38%|███▊      | 95/250 [3:23:03<5:31:05, 128.17s/epoch]"
     ]
    },
    {
     "name": "stdout",
     "output_type": "stream",
     "text": [
      "  Train => MSE=0.3065, CI=0.8469, Pearson=0.7812\n",
      "  Test  => MSE=0.3458, CI=0.8271, Pearson=0.7215\n",
      "Checkpoint saved at epoch 95\n",
      "Deleted previous checkpoint: /kaggle/working/TrainingModel1/model_epoch94.pt\n"
     ]
    },
    {
     "name": "stderr",
     "output_type": "stream",
     "text": [
      "Training:  38%|███▊      | 95/250 [3:24:00<5:31:05, 128.17s/epoch]"
     ]
    },
    {
     "name": "stdout",
     "output_type": "stream",
     "text": [
      "[Epoch 96/250] Training Loss: 0.3261\n"
     ]
    },
    {
     "name": "stderr",
     "output_type": "stream",
     "text": [
      "Training:  38%|███▊      | 96/250 [3:25:11<5:28:50, 128.12s/epoch]"
     ]
    },
    {
     "name": "stdout",
     "output_type": "stream",
     "text": [
      "  Train => MSE=0.3051, CI=0.8468, Pearson=0.7910\n",
      "  Test  => MSE=0.3542, CI=0.8184, Pearson=0.7223\n",
      "Checkpoint saved at epoch 96\n",
      "Deleted previous checkpoint: /kaggle/working/TrainingModel1/model_epoch95.pt\n"
     ]
    },
    {
     "name": "stderr",
     "output_type": "stream",
     "text": [
      "Training:  38%|███▊      | 96/250 [3:26:08<5:28:50, 128.12s/epoch]"
     ]
    },
    {
     "name": "stdout",
     "output_type": "stream",
     "text": [
      "[Epoch 97/250] Training Loss: 0.3233\n"
     ]
    },
    {
     "name": "stderr",
     "output_type": "stream",
     "text": [
      "Training:  39%|███▉      | 97/250 [3:27:20<5:26:53, 128.19s/epoch]"
     ]
    },
    {
     "name": "stdout",
     "output_type": "stream",
     "text": [
      "  Train => MSE=0.3031, CI=0.8435, Pearson=0.7833\n",
      "  Test  => MSE=0.3574, CI=0.8225, Pearson=0.7154\n",
      "Checkpoint saved at epoch 97\n",
      "Deleted previous checkpoint: /kaggle/working/TrainingModel1/model_epoch96.pt\n"
     ]
    },
    {
     "name": "stderr",
     "output_type": "stream",
     "text": [
      "Training:  39%|███▉      | 97/250 [3:28:17<5:26:53, 128.19s/epoch]"
     ]
    },
    {
     "name": "stdout",
     "output_type": "stream",
     "text": [
      "[Epoch 98/250] Training Loss: 0.3176\n"
     ]
    },
    {
     "name": "stderr",
     "output_type": "stream",
     "text": [
      "Training:  39%|███▉      | 98/250 [3:29:28<5:24:38, 128.15s/epoch]"
     ]
    },
    {
     "name": "stdout",
     "output_type": "stream",
     "text": [
      "  Train => MSE=0.3054, CI=0.8402, Pearson=0.7843\n",
      "  Test  => MSE=0.3543, CI=0.8175, Pearson=0.7151\n",
      "Checkpoint saved at epoch 98\n",
      "Deleted previous checkpoint: /kaggle/working/TrainingModel1/model_epoch97.pt\n"
     ]
    },
    {
     "name": "stderr",
     "output_type": "stream",
     "text": [
      "Training:  39%|███▉      | 98/250 [3:30:25<5:24:38, 128.15s/epoch]"
     ]
    },
    {
     "name": "stdout",
     "output_type": "stream",
     "text": [
      "[Epoch 99/250] Training Loss: 0.3163\n"
     ]
    },
    {
     "name": "stderr",
     "output_type": "stream",
     "text": [
      "Training:  40%|███▉      | 99/250 [3:31:36<5:22:30, 128.15s/epoch]"
     ]
    },
    {
     "name": "stdout",
     "output_type": "stream",
     "text": [
      "  Train => MSE=0.2900, CI=0.8458, Pearson=0.7905\n",
      "  Test  => MSE=0.3456, CI=0.8206, Pearson=0.7156\n",
      "Checkpoint saved at epoch 99\n",
      "Deleted previous checkpoint: /kaggle/working/TrainingModel1/model_epoch98.pt\n"
     ]
    },
    {
     "name": "stderr",
     "output_type": "stream",
     "text": [
      "Training:  40%|███▉      | 99/250 [3:32:33<5:22:30, 128.15s/epoch]"
     ]
    },
    {
     "name": "stdout",
     "output_type": "stream",
     "text": [
      "[Epoch 100/250] Training Loss: 0.3146\n"
     ]
    },
    {
     "name": "stderr",
     "output_type": "stream",
     "text": [
      "Training:  40%|████      | 100/250 [3:33:44<5:20:13, 128.09s/epoch]"
     ]
    },
    {
     "name": "stdout",
     "output_type": "stream",
     "text": [
      "  Train => MSE=0.3386, CI=0.8396, Pearson=0.7830\n",
      "  Test  => MSE=0.3772, CI=0.8158, Pearson=0.7158\n",
      "Checkpoint saved at epoch 100\n",
      "Deleted previous checkpoint: /kaggle/working/TrainingModel1/model_epoch99.pt\n"
     ]
    },
    {
     "name": "stderr",
     "output_type": "stream",
     "text": [
      "Training:  40%|████      | 100/250 [3:34:41<5:20:13, 128.09s/epoch]"
     ]
    },
    {
     "name": "stdout",
     "output_type": "stream",
     "text": [
      "[Epoch 101/250] Training Loss: 0.3161\n"
     ]
    },
    {
     "name": "stderr",
     "output_type": "stream",
     "text": [
      "Training:  40%|████      | 101/250 [3:35:52<5:18:14, 128.15s/epoch]"
     ]
    },
    {
     "name": "stdout",
     "output_type": "stream",
     "text": [
      "  Train => MSE=0.3048, CI=0.8395, Pearson=0.7784\n",
      "  Test  => MSE=0.3601, CI=0.8100, Pearson=0.7058\n",
      "Checkpoint saved at epoch 101\n",
      "Deleted previous checkpoint: /kaggle/working/TrainingModel1/model_epoch100.pt\n"
     ]
    },
    {
     "name": "stderr",
     "output_type": "stream",
     "text": [
      "Training:  40%|████      | 101/250 [3:36:49<5:18:14, 128.15s/epoch]"
     ]
    },
    {
     "name": "stdout",
     "output_type": "stream",
     "text": [
      "[Epoch 102/250] Training Loss: 0.3180\n"
     ]
    },
    {
     "name": "stderr",
     "output_type": "stream",
     "text": [
      "Training:  41%|████      | 102/250 [3:38:00<5:16:10, 128.18s/epoch]"
     ]
    },
    {
     "name": "stdout",
     "output_type": "stream",
     "text": [
      "  Train => MSE=0.3111, CI=0.8453, Pearson=0.7922\n",
      "  Test  => MSE=0.3637, CI=0.8218, Pearson=0.7211\n",
      "Checkpoint saved at epoch 102\n",
      "Deleted previous checkpoint: /kaggle/working/TrainingModel1/model_epoch101.pt\n"
     ]
    },
    {
     "name": "stderr",
     "output_type": "stream",
     "text": [
      "Training:  41%|████      | 102/250 [3:38:57<5:16:10, 128.18s/epoch]"
     ]
    },
    {
     "name": "stdout",
     "output_type": "stream",
     "text": [
      "[Epoch 103/250] Training Loss: 0.3202\n"
     ]
    },
    {
     "name": "stderr",
     "output_type": "stream",
     "text": [
      "Training:  41%|████      | 103/250 [3:40:09<5:14:05, 128.20s/epoch]"
     ]
    },
    {
     "name": "stdout",
     "output_type": "stream",
     "text": [
      "  Train => MSE=0.3160, CI=0.8376, Pearson=0.7829\n",
      "  Test  => MSE=0.3585, CI=0.8139, Pearson=0.7143\n",
      "Checkpoint saved at epoch 103\n",
      "Deleted previous checkpoint: /kaggle/working/TrainingModel1/model_epoch102.pt\n"
     ]
    },
    {
     "name": "stderr",
     "output_type": "stream",
     "text": [
      "Training:  41%|████      | 103/250 [3:41:05<5:14:05, 128.20s/epoch]"
     ]
    },
    {
     "name": "stdout",
     "output_type": "stream",
     "text": [
      "[Epoch 104/250] Training Loss: 0.3092\n"
     ]
    },
    {
     "name": "stderr",
     "output_type": "stream",
     "text": [
      "Training:  42%|████▏     | 104/250 [3:42:17<5:11:46, 128.13s/epoch]"
     ]
    },
    {
     "name": "stdout",
     "output_type": "stream",
     "text": [
      "  Train => MSE=0.2815, CI=0.8496, Pearson=0.7979\n",
      "  Test  => MSE=0.3500, CI=0.8257, Pearson=0.7265\n",
      "Checkpoint saved at epoch 104\n",
      "Deleted previous checkpoint: /kaggle/working/TrainingModel1/model_epoch103.pt\n"
     ]
    },
    {
     "name": "stderr",
     "output_type": "stream",
     "text": [
      "Training:  42%|████▏     | 104/250 [3:43:13<5:11:46, 128.13s/epoch]"
     ]
    },
    {
     "name": "stdout",
     "output_type": "stream",
     "text": [
      "[Epoch 105/250] Training Loss: 0.3010\n"
     ]
    },
    {
     "name": "stderr",
     "output_type": "stream",
     "text": [
      "Training:  42%|████▏     | 105/250 [3:44:25<5:09:40, 128.14s/epoch]"
     ]
    },
    {
     "name": "stdout",
     "output_type": "stream",
     "text": [
      "  Train => MSE=0.3120, CI=0.8379, Pearson=0.7783\n",
      "  Test  => MSE=0.3655, CI=0.8145, Pearson=0.7102\n",
      "Checkpoint saved at epoch 105\n",
      "Deleted previous checkpoint: /kaggle/working/TrainingModel1/model_epoch104.pt\n"
     ]
    },
    {
     "name": "stderr",
     "output_type": "stream",
     "text": [
      "Training:  42%|████▏     | 105/250 [3:45:21<5:09:40, 128.14s/epoch]"
     ]
    },
    {
     "name": "stdout",
     "output_type": "stream",
     "text": [
      "[Epoch 106/250] Training Loss: 0.3115\n"
     ]
    },
    {
     "name": "stderr",
     "output_type": "stream",
     "text": [
      "Training:  42%|████▏     | 106/250 [3:46:33<5:07:23, 128.08s/epoch]"
     ]
    },
    {
     "name": "stdout",
     "output_type": "stream",
     "text": [
      "  Train => MSE=0.2859, CI=0.8461, Pearson=0.7946\n",
      "  Test  => MSE=0.3561, CI=0.8197, Pearson=0.7165\n",
      "Checkpoint saved at epoch 106\n",
      "Deleted previous checkpoint: /kaggle/working/TrainingModel1/model_epoch105.pt\n"
     ]
    },
    {
     "name": "stderr",
     "output_type": "stream",
     "text": [
      "Training:  42%|████▏     | 106/250 [3:47:30<5:07:23, 128.08s/epoch]"
     ]
    },
    {
     "name": "stdout",
     "output_type": "stream",
     "text": [
      "[Epoch 107/250] Training Loss: 0.3111\n"
     ]
    },
    {
     "name": "stderr",
     "output_type": "stream",
     "text": [
      "Training:  43%|████▎     | 107/250 [3:48:41<5:05:24, 128.14s/epoch]"
     ]
    },
    {
     "name": "stdout",
     "output_type": "stream",
     "text": [
      "  Train => MSE=0.2775, CI=0.8518, Pearson=0.7975\n",
      "  Test  => MSE=0.3423, CI=0.8257, Pearson=0.7256\n",
      "Checkpoint saved at epoch 107\n",
      "Deleted previous checkpoint: /kaggle/working/TrainingModel1/model_epoch106.pt\n"
     ]
    },
    {
     "name": "stderr",
     "output_type": "stream",
     "text": [
      "Training:  43%|████▎     | 107/250 [3:49:38<5:05:24, 128.14s/epoch]"
     ]
    },
    {
     "name": "stdout",
     "output_type": "stream",
     "text": [
      "[Epoch 108/250] Training Loss: 0.3043\n"
     ]
    },
    {
     "name": "stderr",
     "output_type": "stream",
     "text": [
      "Training:  43%|████▎     | 108/250 [3:50:49<5:03:01, 128.04s/epoch]"
     ]
    },
    {
     "name": "stdout",
     "output_type": "stream",
     "text": [
      "  Train => MSE=0.2796, CI=0.8497, Pearson=0.7942\n",
      "  Test  => MSE=0.3410, CI=0.8220, Pearson=0.7211\n",
      "Checkpoint saved at epoch 108\n",
      "Deleted previous checkpoint: /kaggle/working/TrainingModel1/model_epoch107.pt\n"
     ]
    },
    {
     "name": "stderr",
     "output_type": "stream",
     "text": [
      "Training:  43%|████▎     | 108/250 [3:51:46<5:03:01, 128.04s/epoch]"
     ]
    },
    {
     "name": "stdout",
     "output_type": "stream",
     "text": [
      "[Epoch 109/250] Training Loss: 0.3016\n"
     ]
    },
    {
     "name": "stderr",
     "output_type": "stream",
     "text": [
      "Training:  44%|████▎     | 109/250 [3:52:57<5:01:01, 128.10s/epoch]"
     ]
    },
    {
     "name": "stdout",
     "output_type": "stream",
     "text": [
      "  Train => MSE=0.2839, CI=0.8460, Pearson=0.7946\n",
      "  Test  => MSE=0.3511, CI=0.8216, Pearson=0.7231\n",
      "Checkpoint saved at epoch 109\n",
      "Deleted previous checkpoint: /kaggle/working/TrainingModel1/model_epoch108.pt\n"
     ]
    },
    {
     "name": "stderr",
     "output_type": "stream",
     "text": [
      "Training:  44%|████▎     | 109/250 [3:53:54<5:01:01, 128.10s/epoch]"
     ]
    },
    {
     "name": "stdout",
     "output_type": "stream",
     "text": [
      "[Epoch 110/250] Training Loss: 0.2978\n"
     ]
    },
    {
     "name": "stderr",
     "output_type": "stream",
     "text": [
      "Training:  44%|████▍     | 110/250 [3:55:05<4:58:49, 128.06s/epoch]"
     ]
    },
    {
     "name": "stdout",
     "output_type": "stream",
     "text": [
      "  Train => MSE=0.3261, CI=0.8465, Pearson=0.7976\n",
      "  Test  => MSE=0.3779, CI=0.8241, Pearson=0.7181\n",
      "Checkpoint saved at epoch 110\n",
      "Deleted previous checkpoint: /kaggle/working/TrainingModel1/model_epoch109.pt\n"
     ]
    },
    {
     "name": "stderr",
     "output_type": "stream",
     "text": [
      "Training:  44%|████▍     | 110/250 [3:56:02<4:58:49, 128.06s/epoch]"
     ]
    },
    {
     "name": "stdout",
     "output_type": "stream",
     "text": [
      "[Epoch 111/250] Training Loss: 0.3034\n"
     ]
    },
    {
     "name": "stderr",
     "output_type": "stream",
     "text": [
      "Training:  44%|████▍     | 111/250 [3:57:13<4:56:44, 128.09s/epoch]"
     ]
    },
    {
     "name": "stdout",
     "output_type": "stream",
     "text": [
      "  Train => MSE=0.2972, CI=0.8415, Pearson=0.7864\n",
      "  Test  => MSE=0.3446, CI=0.8168, Pearson=0.7176\n",
      "Checkpoint saved at epoch 111\n",
      "Deleted previous checkpoint: /kaggle/working/TrainingModel1/model_epoch110.pt\n"
     ]
    },
    {
     "name": "stderr",
     "output_type": "stream",
     "text": [
      "Training:  44%|████▍     | 111/250 [3:58:10<4:56:44, 128.09s/epoch]"
     ]
    },
    {
     "name": "stdout",
     "output_type": "stream",
     "text": [
      "[Epoch 112/250] Training Loss: 0.3079\n"
     ]
    },
    {
     "name": "stderr",
     "output_type": "stream",
     "text": [
      "Training:  45%|████▍     | 112/250 [3:59:21<4:54:37, 128.10s/epoch]"
     ]
    },
    {
     "name": "stdout",
     "output_type": "stream",
     "text": [
      "  Train => MSE=0.2780, CI=0.8491, Pearson=0.7966\n",
      "  Test  => MSE=0.3357, CI=0.8242, Pearson=0.7272\n",
      "Checkpoint saved at epoch 112\n",
      "Deleted previous checkpoint: /kaggle/working/TrainingModel1/model_epoch111.pt\n"
     ]
    },
    {
     "name": "stderr",
     "output_type": "stream",
     "text": [
      "Training:  45%|████▍     | 112/250 [4:00:18<4:54:37, 128.10s/epoch]"
     ]
    },
    {
     "name": "stdout",
     "output_type": "stream",
     "text": [
      "[Epoch 113/250] Training Loss: 0.3049\n"
     ]
    },
    {
     "name": "stderr",
     "output_type": "stream",
     "text": [
      "Training:  45%|████▌     | 113/250 [4:01:30<4:52:35, 128.14s/epoch]"
     ]
    },
    {
     "name": "stdout",
     "output_type": "stream",
     "text": [
      "  Train => MSE=0.2992, CI=0.8429, Pearson=0.7960\n",
      "  Test  => MSE=0.3483, CI=0.8122, Pearson=0.7233\n",
      "Checkpoint saved at epoch 113\n",
      "Deleted previous checkpoint: /kaggle/working/TrainingModel1/model_epoch112.pt\n"
     ]
    },
    {
     "name": "stderr",
     "output_type": "stream",
     "text": [
      "Training:  45%|████▌     | 113/250 [4:02:26<4:52:35, 128.14s/epoch]"
     ]
    },
    {
     "name": "stdout",
     "output_type": "stream",
     "text": [
      "[Epoch 114/250] Training Loss: 0.2973\n"
     ]
    },
    {
     "name": "stderr",
     "output_type": "stream",
     "text": [
      "Training:  46%|████▌     | 114/250 [4:03:38<4:50:23, 128.11s/epoch]"
     ]
    },
    {
     "name": "stdout",
     "output_type": "stream",
     "text": [
      "  Train => MSE=0.2820, CI=0.8460, Pearson=0.8042\n",
      "  Test  => MSE=0.3449, CI=0.8189, Pearson=0.7224\n",
      "Checkpoint saved at epoch 114\n",
      "Deleted previous checkpoint: /kaggle/working/TrainingModel1/model_epoch113.pt\n"
     ]
    },
    {
     "name": "stderr",
     "output_type": "stream",
     "text": [
      "Training:  46%|████▌     | 114/250 [4:04:34<4:50:23, 128.11s/epoch]"
     ]
    },
    {
     "name": "stdout",
     "output_type": "stream",
     "text": [
      "[Epoch 115/250] Training Loss: 0.2918\n"
     ]
    },
    {
     "name": "stderr",
     "output_type": "stream",
     "text": [
      "Training:  46%|████▌     | 115/250 [4:05:46<4:48:16, 128.12s/epoch]"
     ]
    },
    {
     "name": "stdout",
     "output_type": "stream",
     "text": [
      "  Train => MSE=0.2662, CI=0.8498, Pearson=0.8119\n",
      "  Test  => MSE=0.3390, CI=0.8173, Pearson=0.7253\n",
      "Checkpoint saved at epoch 115\n",
      "Deleted previous checkpoint: /kaggle/working/TrainingModel1/model_epoch114.pt\n"
     ]
    },
    {
     "name": "stderr",
     "output_type": "stream",
     "text": [
      "Training:  46%|████▌     | 115/250 [4:06:42<4:48:16, 128.12s/epoch]"
     ]
    },
    {
     "name": "stdout",
     "output_type": "stream",
     "text": [
      "[Epoch 116/250] Training Loss: 0.2952\n"
     ]
    },
    {
     "name": "stderr",
     "output_type": "stream",
     "text": [
      "Training:  46%|████▋     | 116/250 [4:07:54<4:46:10, 128.14s/epoch]"
     ]
    },
    {
     "name": "stdout",
     "output_type": "stream",
     "text": [
      "  Train => MSE=0.2781, CI=0.8490, Pearson=0.8065\n",
      "  Test  => MSE=0.3459, CI=0.8212, Pearson=0.7272\n",
      "Checkpoint saved at epoch 116\n",
      "Deleted previous checkpoint: /kaggle/working/TrainingModel1/model_epoch115.pt\n"
     ]
    },
    {
     "name": "stderr",
     "output_type": "stream",
     "text": [
      "Training:  46%|████▋     | 116/250 [4:08:51<4:46:10, 128.14s/epoch]"
     ]
    },
    {
     "name": "stdout",
     "output_type": "stream",
     "text": [
      "[Epoch 117/250] Training Loss: 0.2905\n"
     ]
    },
    {
     "name": "stderr",
     "output_type": "stream",
     "text": [
      "Training:  47%|████▋     | 117/250 [4:10:02<4:44:07, 128.17s/epoch]"
     ]
    },
    {
     "name": "stdout",
     "output_type": "stream",
     "text": [
      "  Train => MSE=0.2668, CI=0.8504, Pearson=0.8061\n",
      "  Test  => MSE=0.3297, CI=0.8217, Pearson=0.7312\n",
      "Checkpoint saved at epoch 117\n",
      "Deleted previous checkpoint: /kaggle/working/TrainingModel1/model_epoch116.pt\n"
     ]
    },
    {
     "name": "stderr",
     "output_type": "stream",
     "text": [
      "Training:  47%|████▋     | 117/250 [4:10:59<4:44:07, 128.17s/epoch]"
     ]
    },
    {
     "name": "stdout",
     "output_type": "stream",
     "text": [
      "[Epoch 118/250] Training Loss: 0.2945\n"
     ]
    },
    {
     "name": "stderr",
     "output_type": "stream",
     "text": [
      "Training:  47%|████▋     | 118/250 [4:12:10<4:41:58, 128.17s/epoch]"
     ]
    },
    {
     "name": "stdout",
     "output_type": "stream",
     "text": [
      "  Train => MSE=0.3315, CI=0.8402, Pearson=0.7911\n",
      "  Test  => MSE=0.3859, CI=0.8126, Pearson=0.7039\n",
      "Checkpoint saved at epoch 118\n",
      "Deleted previous checkpoint: /kaggle/working/TrainingModel1/model_epoch117.pt\n"
     ]
    },
    {
     "name": "stderr",
     "output_type": "stream",
     "text": [
      "Training:  47%|████▋     | 118/250 [4:13:07<4:41:58, 128.17s/epoch]"
     ]
    },
    {
     "name": "stdout",
     "output_type": "stream",
     "text": [
      "[Epoch 119/250] Training Loss: 0.3039\n"
     ]
    },
    {
     "name": "stderr",
     "output_type": "stream",
     "text": [
      "Training:  48%|████▊     | 119/250 [4:14:19<4:39:51, 128.18s/epoch]"
     ]
    },
    {
     "name": "stdout",
     "output_type": "stream",
     "text": [
      "  Train => MSE=0.2801, CI=0.8478, Pearson=0.8009\n",
      "  Test  => MSE=0.3544, CI=0.8122, Pearson=0.7097\n",
      "Checkpoint saved at epoch 119\n",
      "Deleted previous checkpoint: /kaggle/working/TrainingModel1/model_epoch118.pt\n"
     ]
    },
    {
     "name": "stderr",
     "output_type": "stream",
     "text": [
      "Training:  48%|████▊     | 119/250 [4:15:15<4:39:51, 128.18s/epoch]"
     ]
    },
    {
     "name": "stdout",
     "output_type": "stream",
     "text": [
      "[Epoch 120/250] Training Loss: 0.2939\n"
     ]
    },
    {
     "name": "stderr",
     "output_type": "stream",
     "text": [
      "Training:  48%|████▊     | 120/250 [4:16:27<4:37:41, 128.16s/epoch]"
     ]
    },
    {
     "name": "stdout",
     "output_type": "stream",
     "text": [
      "  Train => MSE=0.2742, CI=0.8467, Pearson=0.8083\n",
      "  Test  => MSE=0.3469, CI=0.8167, Pearson=0.7215\n",
      "Checkpoint saved at epoch 120\n",
      "Deleted previous checkpoint: /kaggle/working/TrainingModel1/model_epoch119.pt\n"
     ]
    },
    {
     "name": "stderr",
     "output_type": "stream",
     "text": [
      "Training:  48%|████▊     | 120/250 [4:17:24<4:37:41, 128.16s/epoch]"
     ]
    },
    {
     "name": "stdout",
     "output_type": "stream",
     "text": [
      "[Epoch 121/250] Training Loss: 0.2887\n"
     ]
    },
    {
     "name": "stderr",
     "output_type": "stream",
     "text": [
      "Training:  48%|████▊     | 121/250 [4:18:35<4:35:40, 128.22s/epoch]"
     ]
    },
    {
     "name": "stdout",
     "output_type": "stream",
     "text": [
      "  Train => MSE=0.2637, CI=0.8500, Pearson=0.8112\n",
      "  Test  => MSE=0.3291, CI=0.8219, Pearson=0.7296\n",
      "Checkpoint saved at epoch 121\n",
      "Deleted previous checkpoint: /kaggle/working/TrainingModel1/model_epoch120.pt\n"
     ]
    },
    {
     "name": "stderr",
     "output_type": "stream",
     "text": [
      "Training:  48%|████▊     | 121/250 [4:19:32<4:35:40, 128.22s/epoch]"
     ]
    },
    {
     "name": "stdout",
     "output_type": "stream",
     "text": [
      "[Epoch 122/250] Training Loss: 0.2845\n"
     ]
    },
    {
     "name": "stderr",
     "output_type": "stream",
     "text": [
      "Training:  49%|████▉     | 122/250 [4:20:43<4:33:34, 128.24s/epoch]"
     ]
    },
    {
     "name": "stdout",
     "output_type": "stream",
     "text": [
      "  Train => MSE=0.2640, CI=0.8529, Pearson=0.8081\n",
      "  Test  => MSE=0.3597, CI=0.8228, Pearson=0.7114\n",
      "Checkpoint saved at epoch 122\n",
      "Deleted previous checkpoint: /kaggle/working/TrainingModel1/model_epoch121.pt\n"
     ]
    },
    {
     "name": "stderr",
     "output_type": "stream",
     "text": [
      "Training:  49%|████▉     | 122/250 [4:21:40<4:33:34, 128.24s/epoch]"
     ]
    },
    {
     "name": "stdout",
     "output_type": "stream",
     "text": [
      "[Epoch 123/250] Training Loss: 0.2854\n"
     ]
    },
    {
     "name": "stderr",
     "output_type": "stream",
     "text": [
      "Training:  49%|████▉     | 123/250 [4:22:52<4:31:24, 128.22s/epoch]"
     ]
    },
    {
     "name": "stdout",
     "output_type": "stream",
     "text": [
      "  Train => MSE=0.2690, CI=0.8509, Pearson=0.8104\n",
      "  Test  => MSE=0.3429, CI=0.8162, Pearson=0.7220\n",
      "Checkpoint saved at epoch 123\n",
      "Deleted previous checkpoint: /kaggle/working/TrainingModel1/model_epoch122.pt\n"
     ]
    },
    {
     "name": "stderr",
     "output_type": "stream",
     "text": [
      "Training:  49%|████▉     | 123/250 [4:23:48<4:31:24, 128.22s/epoch]"
     ]
    },
    {
     "name": "stdout",
     "output_type": "stream",
     "text": [
      "[Epoch 124/250] Training Loss: 0.2928\n"
     ]
    },
    {
     "name": "stderr",
     "output_type": "stream",
     "text": [
      "Training:  50%|████▉     | 124/250 [4:25:00<4:29:09, 128.17s/epoch]"
     ]
    },
    {
     "name": "stdout",
     "output_type": "stream",
     "text": [
      "  Train => MSE=0.2857, CI=0.8396, Pearson=0.8014\n",
      "  Test  => MSE=0.3478, CI=0.8069, Pearson=0.7165\n",
      "Checkpoint saved at epoch 124\n",
      "Deleted previous checkpoint: /kaggle/working/TrainingModel1/model_epoch123.pt\n"
     ]
    },
    {
     "name": "stderr",
     "output_type": "stream",
     "text": [
      "Training:  50%|████▉     | 124/250 [4:25:56<4:29:09, 128.17s/epoch]"
     ]
    },
    {
     "name": "stdout",
     "output_type": "stream",
     "text": [
      "[Epoch 125/250] Training Loss: 0.2891\n"
     ]
    },
    {
     "name": "stderr",
     "output_type": "stream",
     "text": [
      "Training:  50%|█████     | 125/250 [4:27:08<4:27:02, 128.18s/epoch]"
     ]
    },
    {
     "name": "stdout",
     "output_type": "stream",
     "text": [
      "  Train => MSE=0.3007, CI=0.8383, Pearson=0.7789\n",
      "  Test  => MSE=0.3591, CI=0.8095, Pearson=0.7009\n",
      "Checkpoint saved at epoch 125\n",
      "Deleted previous checkpoint: /kaggle/working/TrainingModel1/model_epoch124.pt\n"
     ]
    },
    {
     "name": "stderr",
     "output_type": "stream",
     "text": [
      "Training:  50%|█████     | 125/250 [4:28:04<4:27:02, 128.18s/epoch]"
     ]
    },
    {
     "name": "stdout",
     "output_type": "stream",
     "text": [
      "[Epoch 126/250] Training Loss: 0.2866\n"
     ]
    },
    {
     "name": "stderr",
     "output_type": "stream",
     "text": [
      "Training:  50%|█████     | 126/250 [4:29:16<4:24:48, 128.13s/epoch]"
     ]
    },
    {
     "name": "stdout",
     "output_type": "stream",
     "text": [
      "  Train => MSE=0.2608, CI=0.8480, Pearson=0.8113\n",
      "  Test  => MSE=0.3347, CI=0.8192, Pearson=0.7260\n",
      "Checkpoint saved at epoch 126\n",
      "Deleted previous checkpoint: /kaggle/working/TrainingModel1/model_epoch125.pt\n"
     ]
    },
    {
     "name": "stderr",
     "output_type": "stream",
     "text": [
      "Training:  50%|█████     | 126/250 [4:30:13<4:24:48, 128.13s/epoch]"
     ]
    },
    {
     "name": "stdout",
     "output_type": "stream",
     "text": [
      "[Epoch 127/250] Training Loss: 0.2779\n"
     ]
    },
    {
     "name": "stderr",
     "output_type": "stream",
     "text": [
      "Training:  51%|█████     | 127/250 [4:31:24<4:22:38, 128.12s/epoch]"
     ]
    },
    {
     "name": "stdout",
     "output_type": "stream",
     "text": [
      "  Train => MSE=0.2832, CI=0.8389, Pearson=0.7971\n",
      "  Test  => MSE=0.3527, CI=0.8033, Pearson=0.7072\n",
      "Checkpoint saved at epoch 127\n",
      "Deleted previous checkpoint: /kaggle/working/TrainingModel1/model_epoch126.pt\n"
     ]
    },
    {
     "name": "stderr",
     "output_type": "stream",
     "text": [
      "Training:  51%|█████     | 127/250 [4:32:21<4:22:38, 128.12s/epoch]"
     ]
    },
    {
     "name": "stdout",
     "output_type": "stream",
     "text": [
      "[Epoch 128/250] Training Loss: 0.2826\n"
     ]
    },
    {
     "name": "stderr",
     "output_type": "stream",
     "text": [
      "Training:  51%|█████     | 128/250 [4:33:32<4:20:26, 128.09s/epoch]"
     ]
    },
    {
     "name": "stdout",
     "output_type": "stream",
     "text": [
      "  Train => MSE=0.2631, CI=0.8479, Pearson=0.8132\n",
      "  Test  => MSE=0.3307, CI=0.8166, Pearson=0.7312\n",
      "Checkpoint saved at epoch 128\n",
      "Deleted previous checkpoint: /kaggle/working/TrainingModel1/model_epoch127.pt\n"
     ]
    },
    {
     "name": "stderr",
     "output_type": "stream",
     "text": [
      "Training:  51%|█████     | 128/250 [4:34:29<4:20:26, 128.09s/epoch]"
     ]
    },
    {
     "name": "stdout",
     "output_type": "stream",
     "text": [
      "[Epoch 129/250] Training Loss: 0.2836\n"
     ]
    },
    {
     "name": "stderr",
     "output_type": "stream",
     "text": [
      "Training:  52%|█████▏    | 129/250 [4:35:40<4:18:27, 128.16s/epoch]"
     ]
    },
    {
     "name": "stdout",
     "output_type": "stream",
     "text": [
      "  Train => MSE=0.2910, CI=0.8438, Pearson=0.7978\n",
      "  Test  => MSE=0.3580, CI=0.8146, Pearson=0.7108\n",
      "Checkpoint saved at epoch 129\n",
      "Deleted previous checkpoint: /kaggle/working/TrainingModel1/model_epoch128.pt\n"
     ]
    },
    {
     "name": "stderr",
     "output_type": "stream",
     "text": [
      "Training:  52%|█████▏    | 129/250 [4:36:37<4:18:27, 128.16s/epoch]"
     ]
    },
    {
     "name": "stdout",
     "output_type": "stream",
     "text": [
      "[Epoch 130/250] Training Loss: 0.2809\n"
     ]
    },
    {
     "name": "stderr",
     "output_type": "stream",
     "text": [
      "Training:  52%|█████▏    | 130/250 [4:37:49<4:16:25, 128.21s/epoch]"
     ]
    },
    {
     "name": "stdout",
     "output_type": "stream",
     "text": [
      "  Train => MSE=0.2620, CI=0.8473, Pearson=0.8145\n",
      "  Test  => MSE=0.3418, CI=0.8153, Pearson=0.7174\n",
      "Checkpoint saved at epoch 130\n",
      "Deleted previous checkpoint: /kaggle/working/TrainingModel1/model_epoch129.pt\n"
     ]
    },
    {
     "name": "stderr",
     "output_type": "stream",
     "text": [
      "Training:  52%|█████▏    | 130/250 [4:38:46<4:16:25, 128.21s/epoch]"
     ]
    },
    {
     "name": "stdout",
     "output_type": "stream",
     "text": [
      "[Epoch 131/250] Training Loss: 0.2803\n"
     ]
    },
    {
     "name": "stderr",
     "output_type": "stream",
     "text": [
      "Training:  52%|█████▏    | 131/250 [4:39:57<4:14:22, 128.26s/epoch]"
     ]
    },
    {
     "name": "stdout",
     "output_type": "stream",
     "text": [
      "  Train => MSE=0.2885, CI=0.8440, Pearson=0.7983\n",
      "  Test  => MSE=0.3509, CI=0.8149, Pearson=0.7121\n",
      "Checkpoint saved at epoch 131\n",
      "Deleted previous checkpoint: /kaggle/working/TrainingModel1/model_epoch130.pt\n"
     ]
    },
    {
     "name": "stderr",
     "output_type": "stream",
     "text": [
      "Training:  52%|█████▏    | 131/250 [4:40:54<4:14:22, 128.26s/epoch]"
     ]
    },
    {
     "name": "stdout",
     "output_type": "stream",
     "text": [
      "[Epoch 132/250] Training Loss: 0.2820\n"
     ]
    },
    {
     "name": "stderr",
     "output_type": "stream",
     "text": [
      "Training:  53%|█████▎    | 132/250 [4:42:05<4:12:13, 128.25s/epoch]"
     ]
    },
    {
     "name": "stdout",
     "output_type": "stream",
     "text": [
      "  Train => MSE=0.3034, CI=0.8403, Pearson=0.7909\n",
      "  Test  => MSE=0.3676, CI=0.8092, Pearson=0.6965\n",
      "Checkpoint saved at epoch 132\n",
      "Deleted previous checkpoint: /kaggle/working/TrainingModel1/model_epoch131.pt\n"
     ]
    },
    {
     "name": "stderr",
     "output_type": "stream",
     "text": [
      "Training:  53%|█████▎    | 132/250 [4:43:02<4:12:13, 128.25s/epoch]"
     ]
    },
    {
     "name": "stdout",
     "output_type": "stream",
     "text": [
      "[Epoch 133/250] Training Loss: 0.2757\n"
     ]
    },
    {
     "name": "stderr",
     "output_type": "stream",
     "text": [
      "Training:  53%|█████▎    | 133/250 [4:44:13<4:10:03, 128.24s/epoch]"
     ]
    },
    {
     "name": "stdout",
     "output_type": "stream",
     "text": [
      "  Train => MSE=0.2864, CI=0.8518, Pearson=0.8051\n",
      "  Test  => MSE=0.3588, CI=0.8112, Pearson=0.7106\n",
      "Checkpoint saved at epoch 133\n",
      "Deleted previous checkpoint: /kaggle/working/TrainingModel1/model_epoch132.pt\n"
     ]
    },
    {
     "name": "stderr",
     "output_type": "stream",
     "text": [
      "Training:  53%|█████▎    | 133/250 [4:45:10<4:10:03, 128.24s/epoch]"
     ]
    },
    {
     "name": "stdout",
     "output_type": "stream",
     "text": [
      "[Epoch 134/250] Training Loss: 0.2709\n"
     ]
    },
    {
     "name": "stderr",
     "output_type": "stream",
     "text": [
      "Training:  54%|█████▎    | 134/250 [4:46:22<4:07:55, 128.23s/epoch]"
     ]
    },
    {
     "name": "stdout",
     "output_type": "stream",
     "text": [
      "  Train => MSE=0.2640, CI=0.8529, Pearson=0.8133\n",
      "  Test  => MSE=0.3477, CI=0.8138, Pearson=0.7154\n",
      "Checkpoint saved at epoch 134\n",
      "Deleted previous checkpoint: /kaggle/working/TrainingModel1/model_epoch133.pt\n"
     ]
    },
    {
     "name": "stderr",
     "output_type": "stream",
     "text": [
      "Training:  54%|█████▎    | 134/250 [4:47:18<4:07:55, 128.23s/epoch]"
     ]
    },
    {
     "name": "stdout",
     "output_type": "stream",
     "text": [
      "[Epoch 135/250] Training Loss: 0.2748\n"
     ]
    },
    {
     "name": "stderr",
     "output_type": "stream",
     "text": [
      "Training:  54%|█████▍    | 135/250 [4:48:30<4:05:50, 128.27s/epoch]"
     ]
    },
    {
     "name": "stdout",
     "output_type": "stream",
     "text": [
      "  Train => MSE=0.2881, CI=0.8461, Pearson=0.7998\n",
      "  Test  => MSE=0.3610, CI=0.8096, Pearson=0.6987\n",
      "Checkpoint saved at epoch 135\n",
      "Deleted previous checkpoint: /kaggle/working/TrainingModel1/model_epoch134.pt\n"
     ]
    },
    {
     "name": "stderr",
     "output_type": "stream",
     "text": [
      "Training:  54%|█████▍    | 135/250 [4:49:27<4:05:50, 128.27s/epoch]"
     ]
    },
    {
     "name": "stdout",
     "output_type": "stream",
     "text": [
      "[Epoch 136/250] Training Loss: 0.2656\n"
     ]
    },
    {
     "name": "stderr",
     "output_type": "stream",
     "text": [
      "Training:  54%|█████▍    | 136/250 [4:50:38<4:03:37, 128.23s/epoch]"
     ]
    },
    {
     "name": "stdout",
     "output_type": "stream",
     "text": [
      "  Train => MSE=0.3011, CI=0.8490, Pearson=0.8172\n",
      "  Test  => MSE=0.3624, CI=0.8185, Pearson=0.7203\n",
      "Checkpoint saved at epoch 136\n",
      "Deleted previous checkpoint: /kaggle/working/TrainingModel1/model_epoch135.pt\n"
     ]
    },
    {
     "name": "stderr",
     "output_type": "stream",
     "text": [
      "Training:  54%|█████▍    | 136/250 [4:51:35<4:03:37, 128.23s/epoch]"
     ]
    },
    {
     "name": "stdout",
     "output_type": "stream",
     "text": [
      "[Epoch 137/250] Training Loss: 0.2695\n"
     ]
    },
    {
     "name": "stderr",
     "output_type": "stream",
     "text": [
      "Training:  55%|█████▍    | 137/250 [4:52:46<4:01:32, 128.26s/epoch]"
     ]
    },
    {
     "name": "stdout",
     "output_type": "stream",
     "text": [
      "  Train => MSE=0.2460, CI=0.8575, Pearson=0.8280\n",
      "  Test  => MSE=0.3412, CI=0.8210, Pearson=0.7218\n",
      "Checkpoint saved at epoch 137\n",
      "Deleted previous checkpoint: /kaggle/working/TrainingModel1/model_epoch136.pt\n"
     ]
    },
    {
     "name": "stderr",
     "output_type": "stream",
     "text": [
      "Training:  55%|█████▍    | 137/250 [4:53:43<4:01:32, 128.26s/epoch]"
     ]
    },
    {
     "name": "stdout",
     "output_type": "stream",
     "text": [
      "[Epoch 138/250] Training Loss: 0.2745\n"
     ]
    },
    {
     "name": "stderr",
     "output_type": "stream",
     "text": [
      "Training:  55%|█████▌    | 138/250 [4:54:55<3:59:20, 128.22s/epoch]"
     ]
    },
    {
     "name": "stdout",
     "output_type": "stream",
     "text": [
      "  Train => MSE=0.3125, CI=0.8455, Pearson=0.7966\n",
      "  Test  => MSE=0.3812, CI=0.8126, Pearson=0.6973\n",
      "Checkpoint saved at epoch 138\n",
      "Deleted previous checkpoint: /kaggle/working/TrainingModel1/model_epoch137.pt\n"
     ]
    },
    {
     "name": "stderr",
     "output_type": "stream",
     "text": [
      "Training:  55%|█████▌    | 138/250 [4:55:52<3:59:20, 128.22s/epoch]"
     ]
    },
    {
     "name": "stdout",
     "output_type": "stream",
     "text": [
      "[Epoch 139/250] Training Loss: 0.2722\n"
     ]
    },
    {
     "name": "stderr",
     "output_type": "stream",
     "text": [
      "Training:  56%|█████▌    | 139/250 [4:57:03<3:57:14, 128.24s/epoch]"
     ]
    },
    {
     "name": "stdout",
     "output_type": "stream",
     "text": [
      "  Train => MSE=0.2597, CI=0.8545, Pearson=0.8194\n",
      "  Test  => MSE=0.3446, CI=0.8250, Pearson=0.7156\n",
      "Checkpoint saved at epoch 139\n",
      "Deleted previous checkpoint: /kaggle/working/TrainingModel1/model_epoch138.pt\n"
     ]
    },
    {
     "name": "stderr",
     "output_type": "stream",
     "text": [
      "Training:  56%|█████▌    | 139/250 [4:58:00<3:57:14, 128.24s/epoch]"
     ]
    },
    {
     "name": "stdout",
     "output_type": "stream",
     "text": [
      "[Epoch 140/250] Training Loss: 0.2694\n"
     ]
    },
    {
     "name": "stderr",
     "output_type": "stream",
     "text": [
      "Training:  56%|█████▌    | 140/250 [4:59:11<3:55:01, 128.19s/epoch]"
     ]
    },
    {
     "name": "stdout",
     "output_type": "stream",
     "text": [
      "  Train => MSE=0.2432, CI=0.8561, Pearson=0.8281\n",
      "  Test  => MSE=0.3378, CI=0.8243, Pearson=0.7284\n",
      "Checkpoint saved at epoch 140\n",
      "Deleted previous checkpoint: /kaggle/working/TrainingModel1/model_epoch139.pt\n"
     ]
    },
    {
     "name": "stderr",
     "output_type": "stream",
     "text": [
      "Training:  56%|█████▌    | 140/250 [5:00:08<3:55:01, 128.19s/epoch]"
     ]
    },
    {
     "name": "stdout",
     "output_type": "stream",
     "text": [
      "[Epoch 141/250] Training Loss: 0.2682\n"
     ]
    },
    {
     "name": "stderr",
     "output_type": "stream",
     "text": [
      "Training:  56%|█████▋    | 141/250 [5:01:19<3:52:57, 128.24s/epoch]"
     ]
    },
    {
     "name": "stdout",
     "output_type": "stream",
     "text": [
      "  Train => MSE=0.2442, CI=0.8638, Pearson=0.8284\n",
      "  Test  => MSE=0.3383, CI=0.8316, Pearson=0.7329\n",
      "Checkpoint saved at epoch 141\n",
      "Deleted previous checkpoint: /kaggle/working/TrainingModel1/model_epoch140.pt\n"
     ]
    },
    {
     "name": "stderr",
     "output_type": "stream",
     "text": [
      "Training:  56%|█████▋    | 141/250 [5:02:16<3:52:57, 128.24s/epoch]"
     ]
    },
    {
     "name": "stdout",
     "output_type": "stream",
     "text": [
      "[Epoch 142/250] Training Loss: 0.2703\n"
     ]
    },
    {
     "name": "stderr",
     "output_type": "stream",
     "text": [
      "Training:  57%|█████▋    | 142/250 [5:03:27<3:50:47, 128.21s/epoch]"
     ]
    },
    {
     "name": "stdout",
     "output_type": "stream",
     "text": [
      "  Train => MSE=0.2759, CI=0.8502, Pearson=0.8044\n",
      "  Test  => MSE=0.3571, CI=0.8180, Pearson=0.7041\n",
      "Checkpoint saved at epoch 142\n",
      "Deleted previous checkpoint: /kaggle/working/TrainingModel1/model_epoch141.pt\n"
     ]
    },
    {
     "name": "stderr",
     "output_type": "stream",
     "text": [
      "Training:  57%|█████▋    | 142/250 [5:04:24<3:50:47, 128.21s/epoch]"
     ]
    },
    {
     "name": "stdout",
     "output_type": "stream",
     "text": [
      "[Epoch 143/250] Training Loss: 0.2582\n"
     ]
    },
    {
     "name": "stderr",
     "output_type": "stream",
     "text": [
      "Training:  57%|█████▋    | 143/250 [5:05:36<3:48:44, 128.27s/epoch]"
     ]
    },
    {
     "name": "stdout",
     "output_type": "stream",
     "text": [
      "  Train => MSE=0.2839, CI=0.8522, Pearson=0.8106\n",
      "  Test  => MSE=0.3584, CI=0.8201, Pearson=0.7128\n",
      "Checkpoint saved at epoch 143\n",
      "Deleted previous checkpoint: /kaggle/working/TrainingModel1/model_epoch142.pt\n"
     ]
    },
    {
     "name": "stderr",
     "output_type": "stream",
     "text": [
      "Training:  57%|█████▋    | 143/250 [5:06:33<3:48:44, 128.27s/epoch]"
     ]
    },
    {
     "name": "stdout",
     "output_type": "stream",
     "text": [
      "[Epoch 144/250] Training Loss: 0.2561\n"
     ]
    },
    {
     "name": "stderr",
     "output_type": "stream",
     "text": [
      "Training:  58%|█████▊    | 144/250 [5:07:44<3:46:31, 128.23s/epoch]"
     ]
    },
    {
     "name": "stdout",
     "output_type": "stream",
     "text": [
      "  Train => MSE=0.2546, CI=0.8519, Pearson=0.8194\n",
      "  Test  => MSE=0.3509, CI=0.8170, Pearson=0.7127\n",
      "Checkpoint saved at epoch 144\n",
      "Deleted previous checkpoint: /kaggle/working/TrainingModel1/model_epoch143.pt\n"
     ]
    },
    {
     "name": "stderr",
     "output_type": "stream",
     "text": [
      "Training:  58%|█████▊    | 144/250 [5:08:41<3:46:31, 128.23s/epoch]"
     ]
    },
    {
     "name": "stdout",
     "output_type": "stream",
     "text": [
      "[Epoch 145/250] Training Loss: 0.2646\n"
     ]
    },
    {
     "name": "stderr",
     "output_type": "stream",
     "text": [
      "Training:  58%|█████▊    | 145/250 [5:09:52<3:44:29, 128.28s/epoch]"
     ]
    },
    {
     "name": "stdout",
     "output_type": "stream",
     "text": [
      "  Train => MSE=0.3108, CI=0.8390, Pearson=0.7860\n",
      "  Test  => MSE=0.3942, CI=0.8077, Pearson=0.6784\n",
      "Checkpoint saved at epoch 145\n",
      "Deleted previous checkpoint: /kaggle/working/TrainingModel1/model_epoch144.pt\n"
     ]
    },
    {
     "name": "stderr",
     "output_type": "stream",
     "text": [
      "Training:  58%|█████▊    | 145/250 [5:10:49<3:44:29, 128.28s/epoch]"
     ]
    },
    {
     "name": "stdout",
     "output_type": "stream",
     "text": [
      "[Epoch 146/250] Training Loss: 0.2533\n"
     ]
    },
    {
     "name": "stderr",
     "output_type": "stream",
     "text": [
      "Training:  58%|█████▊    | 146/250 [5:12:00<3:42:13, 128.21s/epoch]"
     ]
    },
    {
     "name": "stdout",
     "output_type": "stream",
     "text": [
      "  Train => MSE=0.2514, CI=0.8578, Pearson=0.8244\n",
      "  Test  => MSE=0.3489, CI=0.8230, Pearson=0.7164\n",
      "Checkpoint saved at epoch 146\n",
      "Deleted previous checkpoint: /kaggle/working/TrainingModel1/model_epoch145.pt\n"
     ]
    },
    {
     "name": "stderr",
     "output_type": "stream",
     "text": [
      "Training:  58%|█████▊    | 146/250 [5:12:57<3:42:13, 128.21s/epoch]"
     ]
    },
    {
     "name": "stdout",
     "output_type": "stream",
     "text": [
      "[Epoch 147/250] Training Loss: 0.2644\n"
     ]
    },
    {
     "name": "stderr",
     "output_type": "stream",
     "text": [
      "Training:  59%|█████▉    | 147/250 [5:14:08<3:40:02, 128.18s/epoch]"
     ]
    },
    {
     "name": "stdout",
     "output_type": "stream",
     "text": [
      "  Train => MSE=0.2667, CI=0.8548, Pearson=0.8184\n",
      "  Test  => MSE=0.3516, CI=0.8236, Pearson=0.7167\n",
      "Checkpoint saved at epoch 147\n",
      "Deleted previous checkpoint: /kaggle/working/TrainingModel1/model_epoch146.pt\n"
     ]
    },
    {
     "name": "stderr",
     "output_type": "stream",
     "text": [
      "Training:  59%|█████▉    | 147/250 [5:15:05<3:40:02, 128.18s/epoch]"
     ]
    },
    {
     "name": "stdout",
     "output_type": "stream",
     "text": [
      "[Epoch 148/250] Training Loss: 0.2615\n"
     ]
    },
    {
     "name": "stderr",
     "output_type": "stream",
     "text": [
      "Training:  59%|█████▉    | 148/250 [5:16:17<3:38:04, 128.28s/epoch]"
     ]
    },
    {
     "name": "stdout",
     "output_type": "stream",
     "text": [
      "  Train => MSE=0.2558, CI=0.8534, Pearson=0.8262\n",
      "  Test  => MSE=0.3448, CI=0.8194, Pearson=0.7218\n",
      "Checkpoint saved at epoch 148\n",
      "Deleted previous checkpoint: /kaggle/working/TrainingModel1/model_epoch147.pt\n"
     ]
    },
    {
     "name": "stderr",
     "output_type": "stream",
     "text": [
      "Training:  59%|█████▉    | 148/250 [5:17:14<3:38:04, 128.28s/epoch]"
     ]
    },
    {
     "name": "stdout",
     "output_type": "stream",
     "text": [
      "[Epoch 149/250] Training Loss: 0.2526\n"
     ]
    },
    {
     "name": "stderr",
     "output_type": "stream",
     "text": [
      "Training:  60%|█████▉    | 149/250 [5:18:26<3:36:03, 128.35s/epoch]"
     ]
    },
    {
     "name": "stdout",
     "output_type": "stream",
     "text": [
      "  Train => MSE=0.2606, CI=0.8487, Pearson=0.8132\n",
      "  Test  => MSE=0.3531, CI=0.8131, Pearson=0.7107\n",
      "Checkpoint saved at epoch 149\n",
      "Deleted previous checkpoint: /kaggle/working/TrainingModel1/model_epoch148.pt\n"
     ]
    },
    {
     "name": "stderr",
     "output_type": "stream",
     "text": [
      "Training:  60%|█████▉    | 149/250 [5:19:22<3:36:03, 128.35s/epoch]"
     ]
    },
    {
     "name": "stdout",
     "output_type": "stream",
     "text": [
      "[Epoch 150/250] Training Loss: 0.2578\n"
     ]
    },
    {
     "name": "stderr",
     "output_type": "stream",
     "text": [
      "Training:  60%|██████    | 150/250 [5:20:33<3:33:43, 128.24s/epoch]"
     ]
    },
    {
     "name": "stdout",
     "output_type": "stream",
     "text": [
      "  Train => MSE=0.2572, CI=0.8583, Pearson=0.8260\n",
      "  Test  => MSE=0.3537, CI=0.8212, Pearson=0.7111\n",
      "Checkpoint saved at epoch 150\n",
      "Deleted previous checkpoint: /kaggle/working/TrainingModel1/model_epoch149.pt\n"
     ]
    },
    {
     "name": "stderr",
     "output_type": "stream",
     "text": [
      "Training:  60%|██████    | 150/250 [5:21:30<3:33:43, 128.24s/epoch]"
     ]
    },
    {
     "name": "stdout",
     "output_type": "stream",
     "text": [
      "[Epoch 151/250] Training Loss: 0.2584\n"
     ]
    },
    {
     "name": "stderr",
     "output_type": "stream",
     "text": [
      "Training:  60%|██████    | 151/250 [5:22:42<3:31:37, 128.26s/epoch]"
     ]
    },
    {
     "name": "stdout",
     "output_type": "stream",
     "text": [
      "  Train => MSE=0.3178, CI=0.8363, Pearson=0.7976\n",
      "  Test  => MSE=0.3904, CI=0.8040, Pearson=0.6948\n",
      "Checkpoint saved at epoch 151\n",
      "Deleted previous checkpoint: /kaggle/working/TrainingModel1/model_epoch150.pt\n"
     ]
    },
    {
     "name": "stderr",
     "output_type": "stream",
     "text": [
      "Training:  60%|██████    | 151/250 [5:23:39<3:31:37, 128.26s/epoch]"
     ]
    },
    {
     "name": "stdout",
     "output_type": "stream",
     "text": [
      "[Epoch 152/250] Training Loss: 0.2670\n"
     ]
    },
    {
     "name": "stderr",
     "output_type": "stream",
     "text": [
      "Training:  61%|██████    | 152/250 [5:24:50<3:29:35, 128.32s/epoch]"
     ]
    },
    {
     "name": "stdout",
     "output_type": "stream",
     "text": [
      "  Train => MSE=0.2559, CI=0.8604, Pearson=0.8319\n",
      "  Test  => MSE=0.3492, CI=0.8232, Pearson=0.7173\n",
      "Checkpoint saved at epoch 152\n",
      "Deleted previous checkpoint: /kaggle/working/TrainingModel1/model_epoch151.pt\n"
     ]
    },
    {
     "name": "stderr",
     "output_type": "stream",
     "text": [
      "Training:  61%|██████    | 152/250 [5:25:47<3:29:35, 128.32s/epoch]"
     ]
    },
    {
     "name": "stdout",
     "output_type": "stream",
     "text": [
      "[Epoch 153/250] Training Loss: 0.2580\n"
     ]
    },
    {
     "name": "stderr",
     "output_type": "stream",
     "text": [
      "Training:  61%|██████    | 153/250 [5:26:59<3:27:33, 128.39s/epoch]"
     ]
    },
    {
     "name": "stdout",
     "output_type": "stream",
     "text": [
      "  Train => MSE=0.2590, CI=0.8591, Pearson=0.8316\n",
      "  Test  => MSE=0.3401, CI=0.8248, Pearson=0.7256\n",
      "Checkpoint saved at epoch 153\n",
      "Deleted previous checkpoint: /kaggle/working/TrainingModel1/model_epoch152.pt\n"
     ]
    },
    {
     "name": "stderr",
     "output_type": "stream",
     "text": [
      "Training:  61%|██████    | 153/250 [5:27:56<3:27:33, 128.39s/epoch]"
     ]
    },
    {
     "name": "stdout",
     "output_type": "stream",
     "text": [
      "[Epoch 154/250] Training Loss: 0.2591\n"
     ]
    },
    {
     "name": "stderr",
     "output_type": "stream",
     "text": [
      "Training:  62%|██████▏   | 154/250 [5:29:07<3:25:15, 128.29s/epoch]"
     ]
    },
    {
     "name": "stdout",
     "output_type": "stream",
     "text": [
      "  Train => MSE=0.2753, CI=0.8467, Pearson=0.8276\n",
      "  Test  => MSE=0.3767, CI=0.8051, Pearson=0.7004\n",
      "Checkpoint saved at epoch 154\n",
      "Deleted previous checkpoint: /kaggle/working/TrainingModel1/model_epoch153.pt\n"
     ]
    },
    {
     "name": "stderr",
     "output_type": "stream",
     "text": [
      "Training:  62%|██████▏   | 154/250 [5:30:04<3:25:15, 128.29s/epoch]"
     ]
    },
    {
     "name": "stdout",
     "output_type": "stream",
     "text": [
      "[Epoch 155/250] Training Loss: 0.2508\n"
     ]
    },
    {
     "name": "stderr",
     "output_type": "stream",
     "text": [
      "Training:  62%|██████▏   | 155/250 [5:31:15<3:23:02, 128.24s/epoch]"
     ]
    },
    {
     "name": "stdout",
     "output_type": "stream",
     "text": [
      "  Train => MSE=0.2611, CI=0.8481, Pearson=0.8231\n",
      "  Test  => MSE=0.3488, CI=0.8151, Pearson=0.7205\n",
      "Checkpoint saved at epoch 155\n",
      "Deleted previous checkpoint: /kaggle/working/TrainingModel1/model_epoch154.pt\n"
     ]
    },
    {
     "name": "stderr",
     "output_type": "stream",
     "text": [
      "Training:  62%|██████▏   | 155/250 [5:32:12<3:23:02, 128.24s/epoch]"
     ]
    },
    {
     "name": "stdout",
     "output_type": "stream",
     "text": [
      "[Epoch 156/250] Training Loss: 0.2523\n"
     ]
    },
    {
     "name": "stderr",
     "output_type": "stream",
     "text": [
      "Training:  62%|██████▏   | 156/250 [5:33:23<3:20:45, 128.14s/epoch]"
     ]
    },
    {
     "name": "stdout",
     "output_type": "stream",
     "text": [
      "  Train => MSE=0.2714, CI=0.8337, Pearson=0.8091\n",
      "  Test  => MSE=0.3639, CI=0.7999, Pearson=0.7040\n",
      "Checkpoint saved at epoch 156\n",
      "Deleted previous checkpoint: /kaggle/working/TrainingModel1/model_epoch155.pt\n"
     ]
    },
    {
     "name": "stderr",
     "output_type": "stream",
     "text": [
      "Training:  62%|██████▏   | 156/250 [5:34:20<3:20:45, 128.14s/epoch]"
     ]
    },
    {
     "name": "stdout",
     "output_type": "stream",
     "text": [
      "[Epoch 157/250] Training Loss: 0.2503\n"
     ]
    },
    {
     "name": "stderr",
     "output_type": "stream",
     "text": [
      "Training:  63%|██████▎   | 157/250 [5:35:31<3:18:38, 128.15s/epoch]"
     ]
    },
    {
     "name": "stdout",
     "output_type": "stream",
     "text": [
      "  Train => MSE=0.2673, CI=0.8502, Pearson=0.8318\n",
      "  Test  => MSE=0.3616, CI=0.8128, Pearson=0.7182\n",
      "Checkpoint saved at epoch 157\n",
      "Deleted previous checkpoint: /kaggle/working/TrainingModel1/model_epoch156.pt\n"
     ]
    },
    {
     "name": "stderr",
     "output_type": "stream",
     "text": [
      "Training:  63%|██████▎   | 157/250 [5:36:28<3:18:38, 128.15s/epoch]"
     ]
    },
    {
     "name": "stdout",
     "output_type": "stream",
     "text": [
      "[Epoch 158/250] Training Loss: 0.2518\n"
     ]
    },
    {
     "name": "stderr",
     "output_type": "stream",
     "text": [
      "Training:  63%|██████▎   | 158/250 [5:37:39<3:16:25, 128.10s/epoch]"
     ]
    },
    {
     "name": "stdout",
     "output_type": "stream",
     "text": [
      "  Train => MSE=0.2971, CI=0.8442, Pearson=0.8090\n",
      "  Test  => MSE=0.3840, CI=0.8129, Pearson=0.6969\n",
      "Checkpoint saved at epoch 158\n",
      "Deleted previous checkpoint: /kaggle/working/TrainingModel1/model_epoch157.pt\n"
     ]
    },
    {
     "name": "stderr",
     "output_type": "stream",
     "text": [
      "Training:  63%|██████▎   | 158/250 [5:38:36<3:16:25, 128.10s/epoch]"
     ]
    },
    {
     "name": "stdout",
     "output_type": "stream",
     "text": [
      "[Epoch 159/250] Training Loss: 0.2533\n"
     ]
    },
    {
     "name": "stderr",
     "output_type": "stream",
     "text": [
      "Training:  64%|██████▎   | 159/250 [5:39:47<3:14:23, 128.17s/epoch]"
     ]
    },
    {
     "name": "stdout",
     "output_type": "stream",
     "text": [
      "  Train => MSE=0.2403, CI=0.8542, Pearson=0.8342\n",
      "  Test  => MSE=0.3469, CI=0.8178, Pearson=0.7189\n",
      "Checkpoint saved at epoch 159\n",
      "Deleted previous checkpoint: /kaggle/working/TrainingModel1/model_epoch158.pt\n"
     ]
    },
    {
     "name": "stderr",
     "output_type": "stream",
     "text": [
      "Training:  64%|██████▎   | 159/250 [5:40:44<3:14:23, 128.17s/epoch]"
     ]
    },
    {
     "name": "stdout",
     "output_type": "stream",
     "text": [
      "[Epoch 160/250] Training Loss: 0.2452\n"
     ]
    },
    {
     "name": "stderr",
     "output_type": "stream",
     "text": [
      "Training:  64%|██████▍   | 160/250 [5:41:56<3:12:15, 128.18s/epoch]"
     ]
    },
    {
     "name": "stdout",
     "output_type": "stream",
     "text": [
      "  Train => MSE=0.2386, CI=0.8627, Pearson=0.8323\n",
      "  Test  => MSE=0.3609, CI=0.8226, Pearson=0.7077\n",
      "Checkpoint saved at epoch 160\n",
      "Deleted previous checkpoint: /kaggle/working/TrainingModel1/model_epoch159.pt\n"
     ]
    },
    {
     "name": "stderr",
     "output_type": "stream",
     "text": [
      "Training:  64%|██████▍   | 160/250 [5:42:53<3:12:15, 128.18s/epoch]"
     ]
    },
    {
     "name": "stdout",
     "output_type": "stream",
     "text": [
      "[Epoch 161/250] Training Loss: 0.2472\n"
     ]
    },
    {
     "name": "stderr",
     "output_type": "stream",
     "text": [
      "Training:  64%|██████▍   | 161/250 [5:44:04<3:10:06, 128.16s/epoch]"
     ]
    },
    {
     "name": "stdout",
     "output_type": "stream",
     "text": [
      "  Train => MSE=0.2349, CI=0.8618, Pearson=0.8388\n",
      "  Test  => MSE=0.3504, CI=0.8245, Pearson=0.7150\n",
      "Checkpoint saved at epoch 161\n",
      "Deleted previous checkpoint: /kaggle/working/TrainingModel1/model_epoch160.pt\n"
     ]
    },
    {
     "name": "stderr",
     "output_type": "stream",
     "text": [
      "Training:  64%|██████▍   | 161/250 [5:45:01<3:10:06, 128.16s/epoch]"
     ]
    },
    {
     "name": "stdout",
     "output_type": "stream",
     "text": [
      "[Epoch 162/250] Training Loss: 0.2515\n"
     ]
    },
    {
     "name": "stderr",
     "output_type": "stream",
     "text": [
      "Training:  65%|██████▍   | 162/250 [5:46:12<3:08:03, 128.22s/epoch]"
     ]
    },
    {
     "name": "stdout",
     "output_type": "stream",
     "text": [
      "  Train => MSE=0.2518, CI=0.8638, Pearson=0.8320\n",
      "  Test  => MSE=0.3552, CI=0.8253, Pearson=0.7175\n",
      "Checkpoint saved at epoch 162\n",
      "Deleted previous checkpoint: /kaggle/working/TrainingModel1/model_epoch161.pt\n"
     ]
    },
    {
     "name": "stderr",
     "output_type": "stream",
     "text": [
      "Training:  65%|██████▍   | 162/250 [5:47:09<3:08:03, 128.22s/epoch]"
     ]
    },
    {
     "name": "stdout",
     "output_type": "stream",
     "text": [
      "[Epoch 163/250] Training Loss: 0.2388\n"
     ]
    },
    {
     "name": "stderr",
     "output_type": "stream",
     "text": [
      "Training:  65%|██████▌   | 163/250 [5:48:20<3:05:53, 128.20s/epoch]"
     ]
    },
    {
     "name": "stdout",
     "output_type": "stream",
     "text": [
      "  Train => MSE=0.2374, CI=0.8524, Pearson=0.8319\n",
      "  Test  => MSE=0.3561, CI=0.8126, Pearson=0.7134\n",
      "Checkpoint saved at epoch 163\n",
      "Deleted previous checkpoint: /kaggle/working/TrainingModel1/model_epoch162.pt\n"
     ]
    },
    {
     "name": "stderr",
     "output_type": "stream",
     "text": [
      "Training:  65%|██████▌   | 163/250 [5:49:17<3:05:53, 128.20s/epoch]"
     ]
    },
    {
     "name": "stdout",
     "output_type": "stream",
     "text": [
      "[Epoch 164/250] Training Loss: 0.2350\n"
     ]
    },
    {
     "name": "stderr",
     "output_type": "stream",
     "text": [
      "Training:  66%|██████▌   | 164/250 [5:50:28<3:03:41, 128.15s/epoch]"
     ]
    },
    {
     "name": "stdout",
     "output_type": "stream",
     "text": [
      "  Train => MSE=0.2514, CI=0.8638, Pearson=0.8381\n",
      "  Test  => MSE=0.3605, CI=0.8181, Pearson=0.7146\n",
      "Checkpoint saved at epoch 164\n",
      "Deleted previous checkpoint: /kaggle/working/TrainingModel1/model_epoch163.pt\n"
     ]
    },
    {
     "name": "stderr",
     "output_type": "stream",
     "text": [
      "Training:  66%|██████▌   | 164/250 [5:51:25<3:03:41, 128.15s/epoch]"
     ]
    },
    {
     "name": "stdout",
     "output_type": "stream",
     "text": [
      "[Epoch 165/250] Training Loss: 0.2398\n"
     ]
    },
    {
     "name": "stderr",
     "output_type": "stream",
     "text": [
      "Training:  66%|██████▌   | 165/250 [5:52:36<3:01:32, 128.14s/epoch]"
     ]
    },
    {
     "name": "stdout",
     "output_type": "stream",
     "text": [
      "  Train => MSE=0.2340, CI=0.8569, Pearson=0.8344\n",
      "  Test  => MSE=0.3569, CI=0.8173, Pearson=0.7076\n",
      "Checkpoint saved at epoch 165\n",
      "Deleted previous checkpoint: /kaggle/working/TrainingModel1/model_epoch164.pt\n"
     ]
    },
    {
     "name": "stderr",
     "output_type": "stream",
     "text": [
      "Training:  66%|██████▌   | 165/250 [5:53:33<3:01:32, 128.14s/epoch]"
     ]
    },
    {
     "name": "stdout",
     "output_type": "stream",
     "text": [
      "[Epoch 166/250] Training Loss: 0.2412\n"
     ]
    },
    {
     "name": "stderr",
     "output_type": "stream",
     "text": [
      "Training:  66%|██████▋   | 166/250 [5:54:44<2:59:21, 128.11s/epoch]"
     ]
    },
    {
     "name": "stdout",
     "output_type": "stream",
     "text": [
      "  Train => MSE=0.2590, CI=0.8571, Pearson=0.8331\n",
      "  Test  => MSE=0.3799, CI=0.8102, Pearson=0.6958\n",
      "Checkpoint saved at epoch 166\n",
      "Deleted previous checkpoint: /kaggle/working/TrainingModel1/model_epoch165.pt\n"
     ]
    },
    {
     "name": "stderr",
     "output_type": "stream",
     "text": [
      "Training:  66%|██████▋   | 166/250 [5:55:41<2:59:21, 128.11s/epoch]"
     ]
    },
    {
     "name": "stdout",
     "output_type": "stream",
     "text": [
      "[Epoch 167/250] Training Loss: 0.2404\n"
     ]
    },
    {
     "name": "stderr",
     "output_type": "stream",
     "text": [
      "Training:  67%|██████▋   | 167/250 [5:56:53<2:57:20, 128.20s/epoch]"
     ]
    },
    {
     "name": "stdout",
     "output_type": "stream",
     "text": [
      "  Train => MSE=0.2584, CI=0.8651, Pearson=0.8422\n",
      "  Test  => MSE=0.3581, CI=0.8268, Pearson=0.7244\n",
      "Checkpoint saved at epoch 167\n",
      "Deleted previous checkpoint: /kaggle/working/TrainingModel1/model_epoch166.pt\n"
     ]
    },
    {
     "name": "stderr",
     "output_type": "stream",
     "text": [
      "Training:  67%|██████▋   | 167/250 [5:57:50<2:57:20, 128.20s/epoch]"
     ]
    },
    {
     "name": "stdout",
     "output_type": "stream",
     "text": [
      "[Epoch 168/250] Training Loss: 0.2321\n"
     ]
    },
    {
     "name": "stderr",
     "output_type": "stream",
     "text": [
      "Training:  67%|██████▋   | 168/250 [5:59:01<2:55:10, 128.18s/epoch]"
     ]
    },
    {
     "name": "stdout",
     "output_type": "stream",
     "text": [
      "  Train => MSE=0.2452, CI=0.8686, Pearson=0.8448\n",
      "  Test  => MSE=0.3619, CI=0.8310, Pearson=0.7144\n",
      "Checkpoint saved at epoch 168\n",
      "Deleted previous checkpoint: /kaggle/working/TrainingModel1/model_epoch167.pt\n"
     ]
    },
    {
     "name": "stderr",
     "output_type": "stream",
     "text": [
      "Training:  67%|██████▋   | 168/250 [5:59:58<2:55:10, 128.18s/epoch]"
     ]
    },
    {
     "name": "stdout",
     "output_type": "stream",
     "text": [
      "[Epoch 169/250] Training Loss: 0.2292\n"
     ]
    },
    {
     "name": "stderr",
     "output_type": "stream",
     "text": [
      "Training:  68%|██████▊   | 169/250 [6:01:09<2:53:04, 128.21s/epoch]"
     ]
    },
    {
     "name": "stdout",
     "output_type": "stream",
     "text": [
      "  Train => MSE=0.2476, CI=0.8512, Pearson=0.8352\n",
      "  Test  => MSE=0.3463, CI=0.8131, Pearson=0.7264\n",
      "Checkpoint saved at epoch 169\n",
      "Deleted previous checkpoint: /kaggle/working/TrainingModel1/model_epoch168.pt\n"
     ]
    },
    {
     "name": "stderr",
     "output_type": "stream",
     "text": [
      "Training:  68%|██████▊   | 169/250 [6:02:06<2:53:04, 128.21s/epoch]"
     ]
    },
    {
     "name": "stdout",
     "output_type": "stream",
     "text": [
      "[Epoch 170/250] Training Loss: 0.2386\n"
     ]
    },
    {
     "name": "stderr",
     "output_type": "stream",
     "text": [
      "Training:  68%|██████▊   | 170/250 [6:03:17<2:50:53, 128.17s/epoch]"
     ]
    },
    {
     "name": "stdout",
     "output_type": "stream",
     "text": [
      "  Train => MSE=0.2253, CI=0.8652, Pearson=0.8437\n",
      "  Test  => MSE=0.3404, CI=0.8286, Pearson=0.7245\n",
      "Checkpoint saved at epoch 170\n",
      "Deleted previous checkpoint: /kaggle/working/TrainingModel1/model_epoch169.pt\n"
     ]
    },
    {
     "name": "stderr",
     "output_type": "stream",
     "text": [
      "Training:  68%|██████▊   | 170/250 [6:04:14<2:50:53, 128.17s/epoch]"
     ]
    },
    {
     "name": "stdout",
     "output_type": "stream",
     "text": [
      "[Epoch 171/250] Training Loss: 0.2514\n"
     ]
    },
    {
     "name": "stderr",
     "output_type": "stream",
     "text": [
      "Training:  68%|██████▊   | 171/250 [6:05:26<2:48:49, 128.23s/epoch]"
     ]
    },
    {
     "name": "stdout",
     "output_type": "stream",
     "text": [
      "  Train => MSE=0.2504, CI=0.8591, Pearson=0.8208\n",
      "  Test  => MSE=0.3519, CI=0.8240, Pearson=0.7099\n",
      "Checkpoint saved at epoch 171\n",
      "Deleted previous checkpoint: /kaggle/working/TrainingModel1/model_epoch170.pt\n"
     ]
    },
    {
     "name": "stderr",
     "output_type": "stream",
     "text": [
      "Training:  68%|██████▊   | 171/250 [6:06:23<2:48:49, 128.23s/epoch]"
     ]
    },
    {
     "name": "stdout",
     "output_type": "stream",
     "text": [
      "[Epoch 172/250] Training Loss: 0.2407\n"
     ]
    },
    {
     "name": "stderr",
     "output_type": "stream",
     "text": [
      "Training:  69%|██████▉   | 172/250 [6:07:34<2:46:43, 128.25s/epoch]"
     ]
    },
    {
     "name": "stdout",
     "output_type": "stream",
     "text": [
      "  Train => MSE=0.2608, CI=0.8622, Pearson=0.8361\n",
      "  Test  => MSE=0.3766, CI=0.8253, Pearson=0.7030\n",
      "Checkpoint saved at epoch 172\n",
      "Deleted previous checkpoint: /kaggle/working/TrainingModel1/model_epoch171.pt\n"
     ]
    },
    {
     "name": "stderr",
     "output_type": "stream",
     "text": [
      "Training:  69%|██████▉   | 172/250 [6:08:31<2:46:43, 128.25s/epoch]"
     ]
    },
    {
     "name": "stdout",
     "output_type": "stream",
     "text": [
      "[Epoch 173/250] Training Loss: 0.2269\n"
     ]
    },
    {
     "name": "stderr",
     "output_type": "stream",
     "text": [
      "Training:  69%|██████▉   | 173/250 [6:09:42<2:44:35, 128.26s/epoch]"
     ]
    },
    {
     "name": "stdout",
     "output_type": "stream",
     "text": [
      "  Train => MSE=0.2418, CI=0.8625, Pearson=0.8426\n",
      "  Test  => MSE=0.3614, CI=0.8156, Pearson=0.7125\n",
      "Checkpoint saved at epoch 173\n",
      "Deleted previous checkpoint: /kaggle/working/TrainingModel1/model_epoch172.pt\n"
     ]
    },
    {
     "name": "stderr",
     "output_type": "stream",
     "text": [
      "Training:  69%|██████▉   | 173/250 [6:10:39<2:44:35, 128.26s/epoch]"
     ]
    },
    {
     "name": "stdout",
     "output_type": "stream",
     "text": [
      "[Epoch 174/250] Training Loss: 0.2265\n"
     ]
    },
    {
     "name": "stderr",
     "output_type": "stream",
     "text": [
      "Training:  70%|██████▉   | 174/250 [6:11:50<2:42:26, 128.24s/epoch]"
     ]
    },
    {
     "name": "stdout",
     "output_type": "stream",
     "text": [
      "  Train => MSE=0.2322, CI=0.8673, Pearson=0.8498\n",
      "  Test  => MSE=0.3540, CI=0.8224, Pearson=0.7124\n",
      "Checkpoint saved at epoch 174\n",
      "Deleted previous checkpoint: /kaggle/working/TrainingModel1/model_epoch173.pt\n"
     ]
    },
    {
     "name": "stderr",
     "output_type": "stream",
     "text": [
      "Training:  70%|██████▉   | 174/250 [6:12:47<2:42:26, 128.24s/epoch]"
     ]
    },
    {
     "name": "stdout",
     "output_type": "stream",
     "text": [
      "[Epoch 175/250] Training Loss: 0.2263\n"
     ]
    },
    {
     "name": "stderr",
     "output_type": "stream",
     "text": [
      "Training:  70%|███████   | 175/250 [6:13:59<2:40:19, 128.26s/epoch]"
     ]
    },
    {
     "name": "stdout",
     "output_type": "stream",
     "text": [
      "  Train => MSE=0.2478, CI=0.8594, Pearson=0.8426\n",
      "  Test  => MSE=0.3793, CI=0.8166, Pearson=0.7041\n",
      "Checkpoint saved at epoch 175\n",
      "Deleted previous checkpoint: /kaggle/working/TrainingModel1/model_epoch174.pt\n"
     ]
    },
    {
     "name": "stderr",
     "output_type": "stream",
     "text": [
      "Training:  70%|███████   | 175/250 [6:14:55<2:40:19, 128.26s/epoch]"
     ]
    },
    {
     "name": "stdout",
     "output_type": "stream",
     "text": [
      "[Epoch 176/250] Training Loss: 0.2280\n"
     ]
    },
    {
     "name": "stderr",
     "output_type": "stream",
     "text": [
      "Training:  70%|███████   | 176/250 [6:16:07<2:38:06, 128.20s/epoch]"
     ]
    },
    {
     "name": "stdout",
     "output_type": "stream",
     "text": [
      "  Train => MSE=0.2443, CI=0.8397, Pearson=0.8334\n",
      "  Test  => MSE=0.3699, CI=0.7933, Pearson=0.7026\n",
      "Checkpoint saved at epoch 176\n",
      "Deleted previous checkpoint: /kaggle/working/TrainingModel1/model_epoch175.pt\n"
     ]
    },
    {
     "name": "stderr",
     "output_type": "stream",
     "text": [
      "Training:  70%|███████   | 176/250 [6:17:04<2:38:06, 128.20s/epoch]"
     ]
    },
    {
     "name": "stdout",
     "output_type": "stream",
     "text": [
      "[Epoch 177/250] Training Loss: 0.2230\n"
     ]
    },
    {
     "name": "stderr",
     "output_type": "stream",
     "text": [
      "Training:  71%|███████   | 177/250 [6:18:15<2:35:57, 128.19s/epoch]"
     ]
    },
    {
     "name": "stdout",
     "output_type": "stream",
     "text": [
      "  Train => MSE=0.2364, CI=0.8625, Pearson=0.8466\n",
      "  Test  => MSE=0.3538, CI=0.8164, Pearson=0.7239\n",
      "Checkpoint saved at epoch 177\n",
      "Deleted previous checkpoint: /kaggle/working/TrainingModel1/model_epoch176.pt\n"
     ]
    },
    {
     "name": "stderr",
     "output_type": "stream",
     "text": [
      "Training:  71%|███████   | 177/250 [6:19:12<2:35:57, 128.19s/epoch]"
     ]
    },
    {
     "name": "stdout",
     "output_type": "stream",
     "text": [
      "[Epoch 178/250] Training Loss: 0.2199\n"
     ]
    },
    {
     "name": "stderr",
     "output_type": "stream",
     "text": [
      "Training:  71%|███████   | 178/250 [6:20:23<2:33:45, 128.13s/epoch]"
     ]
    },
    {
     "name": "stdout",
     "output_type": "stream",
     "text": [
      "  Train => MSE=0.2387, CI=0.8658, Pearson=0.8466\n",
      "  Test  => MSE=0.3697, CI=0.8217, Pearson=0.7152\n",
      "Checkpoint saved at epoch 178\n",
      "Deleted previous checkpoint: /kaggle/working/TrainingModel1/model_epoch177.pt\n"
     ]
    },
    {
     "name": "stderr",
     "output_type": "stream",
     "text": [
      "Training:  71%|███████   | 178/250 [6:21:20<2:33:45, 128.13s/epoch]"
     ]
    },
    {
     "name": "stdout",
     "output_type": "stream",
     "text": [
      "[Epoch 179/250] Training Loss: 0.2176\n"
     ]
    },
    {
     "name": "stderr",
     "output_type": "stream",
     "text": [
      "Training:  72%|███████▏  | 179/250 [6:22:31<2:31:42, 128.21s/epoch]"
     ]
    },
    {
     "name": "stdout",
     "output_type": "stream",
     "text": [
      "  Train => MSE=0.2247, CI=0.8640, Pearson=0.8412\n",
      "  Test  => MSE=0.3506, CI=0.8237, Pearson=0.7166\n",
      "Checkpoint saved at epoch 179\n",
      "Deleted previous checkpoint: /kaggle/working/TrainingModel1/model_epoch178.pt\n"
     ]
    },
    {
     "name": "stderr",
     "output_type": "stream",
     "text": [
      "Training:  72%|███████▏  | 179/250 [6:23:28<2:31:42, 128.21s/epoch]"
     ]
    },
    {
     "name": "stdout",
     "output_type": "stream",
     "text": [
      "[Epoch 180/250] Training Loss: 0.2232\n"
     ]
    },
    {
     "name": "stderr",
     "output_type": "stream",
     "text": [
      "Training:  72%|███████▏  | 180/250 [6:24:39<2:29:31, 128.16s/epoch]"
     ]
    },
    {
     "name": "stdout",
     "output_type": "stream",
     "text": [
      "  Train => MSE=0.2391, CI=0.8658, Pearson=0.8457\n",
      "  Test  => MSE=0.3871, CI=0.8203, Pearson=0.6967\n",
      "Checkpoint saved at epoch 180\n",
      "Deleted previous checkpoint: /kaggle/working/TrainingModel1/model_epoch179.pt\n"
     ]
    },
    {
     "name": "stderr",
     "output_type": "stream",
     "text": [
      "Training:  72%|███████▏  | 180/250 [6:25:36<2:29:31, 128.16s/epoch]"
     ]
    },
    {
     "name": "stdout",
     "output_type": "stream",
     "text": [
      "[Epoch 181/250] Training Loss: 0.2246\n"
     ]
    },
    {
     "name": "stderr",
     "output_type": "stream",
     "text": [
      "Training:  72%|███████▏  | 181/250 [6:26:48<2:27:26, 128.21s/epoch]"
     ]
    },
    {
     "name": "stdout",
     "output_type": "stream",
     "text": [
      "  Train => MSE=0.2505, CI=0.8560, Pearson=0.8401\n",
      "  Test  => MSE=0.3666, CI=0.8138, Pearson=0.7165\n",
      "Checkpoint saved at epoch 181\n",
      "Deleted previous checkpoint: /kaggle/working/TrainingModel1/model_epoch180.pt\n"
     ]
    },
    {
     "name": "stderr",
     "output_type": "stream",
     "text": [
      "Training:  72%|███████▏  | 181/250 [6:27:45<2:27:26, 128.21s/epoch]"
     ]
    },
    {
     "name": "stdout",
     "output_type": "stream",
     "text": [
      "[Epoch 182/250] Training Loss: 0.2175\n"
     ]
    },
    {
     "name": "stderr",
     "output_type": "stream",
     "text": [
      "Training:  73%|███████▎  | 182/250 [6:28:56<2:25:18, 128.21s/epoch]"
     ]
    },
    {
     "name": "stdout",
     "output_type": "stream",
     "text": [
      "  Train => MSE=0.2310, CI=0.8641, Pearson=0.8429\n",
      "  Test  => MSE=0.3554, CI=0.8209, Pearson=0.7182\n",
      "Checkpoint saved at epoch 182\n",
      "Deleted previous checkpoint: /kaggle/working/TrainingModel1/model_epoch181.pt\n"
     ]
    },
    {
     "name": "stderr",
     "output_type": "stream",
     "text": [
      "Training:  73%|███████▎  | 182/250 [6:29:53<2:25:18, 128.21s/epoch]"
     ]
    },
    {
     "name": "stdout",
     "output_type": "stream",
     "text": [
      "[Epoch 183/250] Training Loss: 0.2164\n"
     ]
    },
    {
     "name": "stderr",
     "output_type": "stream",
     "text": [
      "Training:  73%|███████▎  | 183/250 [6:31:04<2:23:10, 128.22s/epoch]"
     ]
    },
    {
     "name": "stdout",
     "output_type": "stream",
     "text": [
      "  Train => MSE=0.2537, CI=0.8546, Pearson=0.8421\n",
      "  Test  => MSE=0.3777, CI=0.8095, Pearson=0.7066\n",
      "Checkpoint saved at epoch 183\n",
      "Deleted previous checkpoint: /kaggle/working/TrainingModel1/model_epoch182.pt\n"
     ]
    },
    {
     "name": "stderr",
     "output_type": "stream",
     "text": [
      "Training:  73%|███████▎  | 183/250 [6:32:01<2:23:10, 128.22s/epoch]"
     ]
    },
    {
     "name": "stdout",
     "output_type": "stream",
     "text": [
      "[Epoch 184/250] Training Loss: 0.2118\n"
     ]
    },
    {
     "name": "stderr",
     "output_type": "stream",
     "text": [
      "Training:  74%|███████▎  | 184/250 [6:33:12<2:21:02, 128.21s/epoch]"
     ]
    },
    {
     "name": "stdout",
     "output_type": "stream",
     "text": [
      "  Train => MSE=0.2591, CI=0.8622, Pearson=0.8465\n",
      "  Test  => MSE=0.3863, CI=0.8114, Pearson=0.7055\n",
      "Checkpoint saved at epoch 184\n",
      "Deleted previous checkpoint: /kaggle/working/TrainingModel1/model_epoch183.pt\n"
     ]
    },
    {
     "name": "stderr",
     "output_type": "stream",
     "text": [
      "Training:  74%|███████▎  | 184/250 [6:34:09<2:21:02, 128.21s/epoch]"
     ]
    },
    {
     "name": "stdout",
     "output_type": "stream",
     "text": [
      "[Epoch 185/250] Training Loss: 0.2279\n"
     ]
    },
    {
     "name": "stderr",
     "output_type": "stream",
     "text": [
      "Training:  74%|███████▍  | 185/250 [6:35:21<2:18:56, 128.26s/epoch]"
     ]
    },
    {
     "name": "stdout",
     "output_type": "stream",
     "text": [
      "  Train => MSE=0.2517, CI=0.8584, Pearson=0.8379\n",
      "  Test  => MSE=0.3570, CI=0.8153, Pearson=0.7182\n",
      "Checkpoint saved at epoch 185\n",
      "Deleted previous checkpoint: /kaggle/working/TrainingModel1/model_epoch184.pt\n"
     ]
    },
    {
     "name": "stderr",
     "output_type": "stream",
     "text": [
      "Training:  74%|███████▍  | 185/250 [6:36:17<2:18:56, 128.26s/epoch]"
     ]
    },
    {
     "name": "stdout",
     "output_type": "stream",
     "text": [
      "[Epoch 186/250] Training Loss: 0.2189\n"
     ]
    },
    {
     "name": "stderr",
     "output_type": "stream",
     "text": [
      "Training:  74%|███████▍  | 186/250 [6:37:29<2:16:47, 128.24s/epoch]"
     ]
    },
    {
     "name": "stdout",
     "output_type": "stream",
     "text": [
      "  Train => MSE=0.2413, CI=0.8596, Pearson=0.8484\n",
      "  Test  => MSE=0.3565, CI=0.8098, Pearson=0.7195\n",
      "Checkpoint saved at epoch 186\n",
      "Deleted previous checkpoint: /kaggle/working/TrainingModel1/model_epoch185.pt\n"
     ]
    },
    {
     "name": "stderr",
     "output_type": "stream",
     "text": [
      "Training:  74%|███████▍  | 186/250 [6:38:26<2:16:47, 128.24s/epoch]"
     ]
    },
    {
     "name": "stdout",
     "output_type": "stream",
     "text": [
      "[Epoch 187/250] Training Loss: 0.2094\n"
     ]
    },
    {
     "name": "stderr",
     "output_type": "stream",
     "text": [
      "Training:  75%|███████▍  | 187/250 [6:39:37<2:14:44, 128.32s/epoch]"
     ]
    },
    {
     "name": "stdout",
     "output_type": "stream",
     "text": [
      "  Train => MSE=0.2375, CI=0.8709, Pearson=0.8636\n",
      "  Test  => MSE=0.3832, CI=0.8230, Pearson=0.7125\n",
      "Checkpoint saved at epoch 187\n",
      "Deleted previous checkpoint: /kaggle/working/TrainingModel1/model_epoch186.pt\n"
     ]
    },
    {
     "name": "stderr",
     "output_type": "stream",
     "text": [
      "Training:  75%|███████▍  | 187/250 [6:40:34<2:14:44, 128.32s/epoch]"
     ]
    },
    {
     "name": "stdout",
     "output_type": "stream",
     "text": [
      "[Epoch 188/250] Training Loss: 0.2134\n"
     ]
    },
    {
     "name": "stderr",
     "output_type": "stream",
     "text": [
      "Training:  75%|███████▌  | 188/250 [6:41:46<2:12:33, 128.28s/epoch]"
     ]
    },
    {
     "name": "stdout",
     "output_type": "stream",
     "text": [
      "  Train => MSE=0.2242, CI=0.8684, Pearson=0.8510\n",
      "  Test  => MSE=0.3639, CI=0.8200, Pearson=0.7103\n",
      "Checkpoint saved at epoch 188\n",
      "Deleted previous checkpoint: /kaggle/working/TrainingModel1/model_epoch187.pt\n"
     ]
    },
    {
     "name": "stderr",
     "output_type": "stream",
     "text": [
      "Training:  75%|███████▌  | 188/250 [6:42:43<2:12:33, 128.28s/epoch]"
     ]
    },
    {
     "name": "stdout",
     "output_type": "stream",
     "text": [
      "[Epoch 189/250] Training Loss: 0.2215\n"
     ]
    },
    {
     "name": "stderr",
     "output_type": "stream",
     "text": [
      "Training:  76%|███████▌  | 189/250 [6:43:54<2:10:25, 128.28s/epoch]"
     ]
    },
    {
     "name": "stdout",
     "output_type": "stream",
     "text": [
      "  Train => MSE=0.2691, CI=0.8626, Pearson=0.8396\n",
      "  Test  => MSE=0.3719, CI=0.8156, Pearson=0.7115\n",
      "Checkpoint saved at epoch 189\n",
      "Deleted previous checkpoint: /kaggle/working/TrainingModel1/model_epoch188.pt\n"
     ]
    },
    {
     "name": "stderr",
     "output_type": "stream",
     "text": [
      "Training:  76%|███████▌  | 189/250 [6:44:51<2:10:25, 128.28s/epoch]"
     ]
    },
    {
     "name": "stdout",
     "output_type": "stream",
     "text": [
      "[Epoch 190/250] Training Loss: 0.2231\n"
     ]
    },
    {
     "name": "stderr",
     "output_type": "stream",
     "text": [
      "Training:  76%|███████▌  | 190/250 [6:46:02<2:08:13, 128.22s/epoch]"
     ]
    },
    {
     "name": "stdout",
     "output_type": "stream",
     "text": [
      "  Train => MSE=0.2976, CI=0.8600, Pearson=0.8325\n",
      "  Test  => MSE=0.3875, CI=0.8168, Pearson=0.7156\n",
      "Checkpoint saved at epoch 190\n",
      "Deleted previous checkpoint: /kaggle/working/TrainingModel1/model_epoch189.pt\n"
     ]
    },
    {
     "name": "stderr",
     "output_type": "stream",
     "text": [
      "Training:  76%|███████▌  | 190/250 [6:46:59<2:08:13, 128.22s/epoch]"
     ]
    },
    {
     "name": "stdout",
     "output_type": "stream",
     "text": [
      "[Epoch 191/250] Training Loss: 0.2145\n"
     ]
    },
    {
     "name": "stderr",
     "output_type": "stream",
     "text": [
      "Training:  76%|███████▋  | 191/250 [6:48:10<2:06:06, 128.25s/epoch]"
     ]
    },
    {
     "name": "stdout",
     "output_type": "stream",
     "text": [
      "  Train => MSE=0.2932, CI=0.8515, Pearson=0.8168\n",
      "  Test  => MSE=0.4027, CI=0.8098, Pearson=0.6859\n",
      "Checkpoint saved at epoch 191\n",
      "Deleted previous checkpoint: /kaggle/working/TrainingModel1/model_epoch190.pt\n"
     ]
    },
    {
     "name": "stderr",
     "output_type": "stream",
     "text": [
      "Training:  76%|███████▋  | 191/250 [6:49:07<2:06:06, 128.25s/epoch]"
     ]
    },
    {
     "name": "stdout",
     "output_type": "stream",
     "text": [
      "[Epoch 192/250] Training Loss: 0.2230\n"
     ]
    },
    {
     "name": "stderr",
     "output_type": "stream",
     "text": [
      "Training:  77%|███████▋  | 192/250 [6:50:19<2:03:57, 128.24s/epoch]"
     ]
    },
    {
     "name": "stdout",
     "output_type": "stream",
     "text": [
      "  Train => MSE=0.2443, CI=0.8639, Pearson=0.8538\n",
      "  Test  => MSE=0.3662, CI=0.8147, Pearson=0.7265\n",
      "Checkpoint saved at epoch 192\n",
      "Deleted previous checkpoint: /kaggle/working/TrainingModel1/model_epoch191.pt\n"
     ]
    },
    {
     "name": "stderr",
     "output_type": "stream",
     "text": [
      "Training:  77%|███████▋  | 192/250 [6:51:15<2:03:57, 128.24s/epoch]"
     ]
    },
    {
     "name": "stdout",
     "output_type": "stream",
     "text": [
      "[Epoch 193/250] Training Loss: 0.2094\n"
     ]
    },
    {
     "name": "stderr",
     "output_type": "stream",
     "text": [
      "Training:  77%|███████▋  | 193/250 [6:52:27<2:01:50, 128.25s/epoch]"
     ]
    },
    {
     "name": "stdout",
     "output_type": "stream",
     "text": [
      "  Train => MSE=0.2360, CI=0.8680, Pearson=0.8585\n",
      "  Test  => MSE=0.3636, CI=0.8256, Pearson=0.7192\n",
      "Checkpoint saved at epoch 193\n",
      "Deleted previous checkpoint: /kaggle/working/TrainingModel1/model_epoch192.pt\n"
     ]
    },
    {
     "name": "stderr",
     "output_type": "stream",
     "text": [
      "Training:  77%|███████▋  | 193/250 [6:53:24<2:01:50, 128.25s/epoch]"
     ]
    },
    {
     "name": "stdout",
     "output_type": "stream",
     "text": [
      "[Epoch 194/250] Training Loss: 0.2052\n"
     ]
    },
    {
     "name": "stderr",
     "output_type": "stream",
     "text": [
      "Training:  78%|███████▊  | 194/250 [6:54:35<1:59:37, 128.17s/epoch]"
     ]
    },
    {
     "name": "stdout",
     "output_type": "stream",
     "text": [
      "  Train => MSE=0.2557, CI=0.8664, Pearson=0.8511\n",
      "  Test  => MSE=0.3682, CI=0.8264, Pearson=0.7222\n",
      "Checkpoint saved at epoch 194\n",
      "Deleted previous checkpoint: /kaggle/working/TrainingModel1/model_epoch193.pt\n"
     ]
    },
    {
     "name": "stderr",
     "output_type": "stream",
     "text": [
      "Training:  78%|███████▊  | 194/250 [6:55:32<1:59:37, 128.17s/epoch]"
     ]
    },
    {
     "name": "stdout",
     "output_type": "stream",
     "text": [
      "[Epoch 195/250] Training Loss: 0.2031\n"
     ]
    },
    {
     "name": "stderr",
     "output_type": "stream",
     "text": [
      "Training:  78%|███████▊  | 195/250 [6:56:43<1:57:30, 128.19s/epoch]"
     ]
    },
    {
     "name": "stdout",
     "output_type": "stream",
     "text": [
      "  Train => MSE=0.2362, CI=0.8695, Pearson=0.8598\n",
      "  Test  => MSE=0.3753, CI=0.8183, Pearson=0.7135\n",
      "Checkpoint saved at epoch 195\n",
      "Deleted previous checkpoint: /kaggle/working/TrainingModel1/model_epoch194.pt\n"
     ]
    },
    {
     "name": "stderr",
     "output_type": "stream",
     "text": [
      "Training:  78%|███████▊  | 195/250 [6:57:40<1:57:30, 128.19s/epoch]"
     ]
    },
    {
     "name": "stdout",
     "output_type": "stream",
     "text": [
      "[Epoch 196/250] Training Loss: 0.2064\n"
     ]
    },
    {
     "name": "stderr",
     "output_type": "stream",
     "text": [
      "Training:  78%|███████▊  | 196/250 [6:58:51<1:55:19, 128.15s/epoch]"
     ]
    },
    {
     "name": "stdout",
     "output_type": "stream",
     "text": [
      "  Train => MSE=0.2406, CI=0.8663, Pearson=0.8594\n",
      "  Test  => MSE=0.3573, CI=0.8245, Pearson=0.7235\n",
      "Checkpoint saved at epoch 196\n",
      "Deleted previous checkpoint: /kaggle/working/TrainingModel1/model_epoch195.pt\n"
     ]
    },
    {
     "name": "stderr",
     "output_type": "stream",
     "text": [
      "Training:  78%|███████▊  | 196/250 [6:59:48<1:55:19, 128.15s/epoch]"
     ]
    },
    {
     "name": "stdout",
     "output_type": "stream",
     "text": [
      "[Epoch 197/250] Training Loss: 0.1979\n"
     ]
    },
    {
     "name": "stderr",
     "output_type": "stream",
     "text": [
      "Training:  79%|███████▉  | 197/250 [7:00:59<1:53:11, 128.15s/epoch]"
     ]
    },
    {
     "name": "stdout",
     "output_type": "stream",
     "text": [
      "  Train => MSE=0.2229, CI=0.8738, Pearson=0.8567\n",
      "  Test  => MSE=0.3572, CI=0.8255, Pearson=0.7202\n",
      "Checkpoint saved at epoch 197\n",
      "Deleted previous checkpoint: /kaggle/working/TrainingModel1/model_epoch196.pt\n"
     ]
    },
    {
     "name": "stderr",
     "output_type": "stream",
     "text": [
      "Training:  79%|███████▉  | 197/250 [7:01:56<1:53:11, 128.15s/epoch]"
     ]
    },
    {
     "name": "stdout",
     "output_type": "stream",
     "text": [
      "[Epoch 198/250] Training Loss: 0.1986\n"
     ]
    },
    {
     "name": "stderr",
     "output_type": "stream",
     "text": [
      "Training:  79%|███████▉  | 198/250 [7:03:07<1:51:03, 128.15s/epoch]"
     ]
    },
    {
     "name": "stdout",
     "output_type": "stream",
     "text": [
      "  Train => MSE=0.2413, CI=0.8734, Pearson=0.8619\n",
      "  Test  => MSE=0.3679, CI=0.8268, Pearson=0.7247\n",
      "Checkpoint saved at epoch 198\n",
      "Deleted previous checkpoint: /kaggle/working/TrainingModel1/model_epoch197.pt\n"
     ]
    },
    {
     "name": "stderr",
     "output_type": "stream",
     "text": [
      "Training:  79%|███████▉  | 198/250 [7:04:04<1:51:03, 128.15s/epoch]"
     ]
    },
    {
     "name": "stdout",
     "output_type": "stream",
     "text": [
      "[Epoch 199/250] Training Loss: 0.2058\n"
     ]
    },
    {
     "name": "stderr",
     "output_type": "stream",
     "text": [
      "Training:  80%|███████▉  | 199/250 [7:05:16<1:48:56, 128.16s/epoch]"
     ]
    },
    {
     "name": "stdout",
     "output_type": "stream",
     "text": [
      "  Train => MSE=0.2249, CI=0.8740, Pearson=0.8596\n",
      "  Test  => MSE=0.3446, CI=0.8325, Pearson=0.7278\n",
      "Checkpoint saved at epoch 199\n",
      "Deleted previous checkpoint: /kaggle/working/TrainingModel1/model_epoch198.pt\n"
     ]
    },
    {
     "name": "stderr",
     "output_type": "stream",
     "text": [
      "Training:  80%|███████▉  | 199/250 [7:06:12<1:48:56, 128.16s/epoch]"
     ]
    },
    {
     "name": "stdout",
     "output_type": "stream",
     "text": [
      "[Epoch 200/250] Training Loss: 0.2216\n"
     ]
    },
    {
     "name": "stderr",
     "output_type": "stream",
     "text": [
      "Training:  80%|████████  | 200/250 [7:07:24<1:46:46, 128.14s/epoch]"
     ]
    },
    {
     "name": "stdout",
     "output_type": "stream",
     "text": [
      "  Train => MSE=0.2734, CI=0.8608, Pearson=0.8402\n",
      "  Test  => MSE=0.3894, CI=0.8222, Pearson=0.7010\n",
      "Checkpoint saved at epoch 200\n",
      "Deleted previous checkpoint: /kaggle/working/TrainingModel1/model_epoch199.pt\n"
     ]
    },
    {
     "name": "stderr",
     "output_type": "stream",
     "text": [
      "Training:  80%|████████  | 200/250 [7:08:21<1:46:46, 128.14s/epoch]"
     ]
    },
    {
     "name": "stdout",
     "output_type": "stream",
     "text": [
      "[Epoch 201/250] Training Loss: 0.2080\n"
     ]
    },
    {
     "name": "stderr",
     "output_type": "stream",
     "text": [
      "Training:  80%|████████  | 201/250 [7:09:32<1:44:40, 128.16s/epoch]"
     ]
    },
    {
     "name": "stdout",
     "output_type": "stream",
     "text": [
      "  Train => MSE=0.2447, CI=0.8467, Pearson=0.8474\n",
      "  Test  => MSE=0.3676, CI=0.8007, Pearson=0.7177\n",
      "Checkpoint saved at epoch 201\n",
      "Deleted previous checkpoint: /kaggle/working/TrainingModel1/model_epoch200.pt\n"
     ]
    },
    {
     "name": "stderr",
     "output_type": "stream",
     "text": [
      "Training:  80%|████████  | 201/250 [7:10:29<1:44:40, 128.16s/epoch]"
     ]
    },
    {
     "name": "stdout",
     "output_type": "stream",
     "text": [
      "[Epoch 202/250] Training Loss: 0.2022\n"
     ]
    },
    {
     "name": "stderr",
     "output_type": "stream",
     "text": [
      "Training:  81%|████████  | 202/250 [7:11:40<1:42:38, 128.31s/epoch]"
     ]
    },
    {
     "name": "stdout",
     "output_type": "stream",
     "text": [
      "  Train => MSE=0.2228, CI=0.8616, Pearson=0.8606\n",
      "  Test  => MSE=0.3473, CI=0.8178, Pearson=0.7307\n",
      "Checkpoint saved at epoch 202\n",
      "Deleted previous checkpoint: /kaggle/working/TrainingModel1/model_epoch201.pt\n"
     ]
    },
    {
     "name": "stderr",
     "output_type": "stream",
     "text": [
      "Training:  81%|████████  | 202/250 [7:12:37<1:42:38, 128.31s/epoch]"
     ]
    },
    {
     "name": "stdout",
     "output_type": "stream",
     "text": [
      "[Epoch 203/250] Training Loss: 0.1988\n"
     ]
    },
    {
     "name": "stderr",
     "output_type": "stream",
     "text": [
      "Training:  81%|████████  | 203/250 [7:13:49<1:40:31, 128.32s/epoch]"
     ]
    },
    {
     "name": "stdout",
     "output_type": "stream",
     "text": [
      "  Train => MSE=0.2267, CI=0.8638, Pearson=0.8599\n",
      "  Test  => MSE=0.3512, CI=0.8176, Pearson=0.7247\n",
      "Checkpoint saved at epoch 203\n",
      "Deleted previous checkpoint: /kaggle/working/TrainingModel1/model_epoch202.pt\n"
     ]
    },
    {
     "name": "stderr",
     "output_type": "stream",
     "text": [
      "Training:  81%|████████  | 203/250 [7:14:46<1:40:31, 128.32s/epoch]"
     ]
    },
    {
     "name": "stdout",
     "output_type": "stream",
     "text": [
      "[Epoch 204/250] Training Loss: 0.1959\n"
     ]
    },
    {
     "name": "stderr",
     "output_type": "stream",
     "text": [
      "Training:  82%|████████▏ | 204/250 [7:15:57<1:38:18, 128.24s/epoch]"
     ]
    },
    {
     "name": "stdout",
     "output_type": "stream",
     "text": [
      "  Train => MSE=0.2623, CI=0.8647, Pearson=0.8609\n",
      "  Test  => MSE=0.3885, CI=0.8117, Pearson=0.7186\n",
      "Checkpoint saved at epoch 204\n",
      "Deleted previous checkpoint: /kaggle/working/TrainingModel1/model_epoch203.pt\n"
     ]
    },
    {
     "name": "stderr",
     "output_type": "stream",
     "text": [
      "Training:  82%|████████▏ | 204/250 [7:16:54<1:38:18, 128.24s/epoch]"
     ]
    },
    {
     "name": "stdout",
     "output_type": "stream",
     "text": [
      "[Epoch 205/250] Training Loss: 0.1938\n"
     ]
    },
    {
     "name": "stderr",
     "output_type": "stream",
     "text": [
      "Training:  82%|████████▏ | 205/250 [7:18:05<1:36:08, 128.19s/epoch]"
     ]
    },
    {
     "name": "stdout",
     "output_type": "stream",
     "text": [
      "  Train => MSE=0.2701, CI=0.8594, Pearson=0.8488\n",
      "  Test  => MSE=0.3910, CI=0.8230, Pearson=0.7118\n",
      "Checkpoint saved at epoch 205\n",
      "Deleted previous checkpoint: /kaggle/working/TrainingModel1/model_epoch204.pt\n"
     ]
    },
    {
     "name": "stderr",
     "output_type": "stream",
     "text": [
      "Training:  82%|████████▏ | 205/250 [7:19:02<1:36:08, 128.19s/epoch]"
     ]
    },
    {
     "name": "stdout",
     "output_type": "stream",
     "text": [
      "[Epoch 206/250] Training Loss: 0.1986\n"
     ]
    },
    {
     "name": "stderr",
     "output_type": "stream",
     "text": [
      "Training:  82%|████████▏ | 206/250 [7:20:13<1:33:56, 128.11s/epoch]"
     ]
    },
    {
     "name": "stdout",
     "output_type": "stream",
     "text": [
      "  Train => MSE=0.3056, CI=0.8700, Pearson=0.8554\n",
      "  Test  => MSE=0.4294, CI=0.8226, Pearson=0.7116\n",
      "Checkpoint saved at epoch 206\n",
      "Deleted previous checkpoint: /kaggle/working/TrainingModel1/model_epoch205.pt\n"
     ]
    },
    {
     "name": "stderr",
     "output_type": "stream",
     "text": [
      "Training:  82%|████████▏ | 206/250 [7:21:10<1:33:56, 128.11s/epoch]"
     ]
    },
    {
     "name": "stdout",
     "output_type": "stream",
     "text": [
      "[Epoch 207/250] Training Loss: 0.2012\n"
     ]
    },
    {
     "name": "stderr",
     "output_type": "stream",
     "text": [
      "Training:  83%|████████▎ | 207/250 [7:22:21<1:31:51, 128.17s/epoch]"
     ]
    },
    {
     "name": "stdout",
     "output_type": "stream",
     "text": [
      "  Train => MSE=0.2985, CI=0.8658, Pearson=0.8537\n",
      "  Test  => MSE=0.4135, CI=0.8240, Pearson=0.7156\n",
      "Checkpoint saved at epoch 207\n",
      "Deleted previous checkpoint: /kaggle/working/TrainingModel1/model_epoch206.pt\n"
     ]
    },
    {
     "name": "stderr",
     "output_type": "stream",
     "text": [
      "Training:  83%|████████▎ | 207/250 [7:23:18<1:31:51, 128.17s/epoch]"
     ]
    },
    {
     "name": "stdout",
     "output_type": "stream",
     "text": [
      "[Epoch 208/250] Training Loss: 0.2026\n"
     ]
    },
    {
     "name": "stderr",
     "output_type": "stream",
     "text": [
      "Training:  83%|████████▎ | 208/250 [7:24:29<1:29:44, 128.19s/epoch]"
     ]
    },
    {
     "name": "stdout",
     "output_type": "stream",
     "text": [
      "  Train => MSE=0.2511, CI=0.8624, Pearson=0.8669\n",
      "  Test  => MSE=0.3756, CI=0.8220, Pearson=0.7269\n",
      "Checkpoint saved at epoch 208\n",
      "Deleted previous checkpoint: /kaggle/working/TrainingModel1/model_epoch207.pt\n"
     ]
    },
    {
     "name": "stderr",
     "output_type": "stream",
     "text": [
      "Training:  83%|████████▎ | 208/250 [7:25:26<1:29:44, 128.19s/epoch]"
     ]
    },
    {
     "name": "stdout",
     "output_type": "stream",
     "text": [
      "[Epoch 209/250] Training Loss: 0.1919\n"
     ]
    },
    {
     "name": "stderr",
     "output_type": "stream",
     "text": [
      "Training:  84%|████████▎ | 209/250 [7:26:38<1:27:35, 128.18s/epoch]"
     ]
    },
    {
     "name": "stdout",
     "output_type": "stream",
     "text": [
      "  Train => MSE=0.2669, CI=0.8749, Pearson=0.8617\n",
      "  Test  => MSE=0.3877, CI=0.8310, Pearson=0.7307\n",
      "Checkpoint saved at epoch 209\n",
      "Deleted previous checkpoint: /kaggle/working/TrainingModel1/model_epoch208.pt\n"
     ]
    },
    {
     "name": "stderr",
     "output_type": "stream",
     "text": [
      "Training:  84%|████████▎ | 209/250 [7:27:34<1:27:35, 128.18s/epoch]"
     ]
    },
    {
     "name": "stdout",
     "output_type": "stream",
     "text": [
      "[Epoch 210/250] Training Loss: 0.1891\n"
     ]
    },
    {
     "name": "stderr",
     "output_type": "stream",
     "text": [
      "Training:  84%|████████▍ | 210/250 [7:28:45<1:25:23, 128.09s/epoch]"
     ]
    },
    {
     "name": "stdout",
     "output_type": "stream",
     "text": [
      "  Train => MSE=0.2367, CI=0.8771, Pearson=0.8648\n",
      "  Test  => MSE=0.3687, CI=0.8284, Pearson=0.7261\n",
      "Checkpoint saved at epoch 210\n",
      "Deleted previous checkpoint: /kaggle/working/TrainingModel1/model_epoch209.pt\n"
     ]
    },
    {
     "name": "stderr",
     "output_type": "stream",
     "text": [
      "Training:  84%|████████▍ | 210/250 [7:29:42<1:25:23, 128.09s/epoch]"
     ]
    },
    {
     "name": "stdout",
     "output_type": "stream",
     "text": [
      "[Epoch 211/250] Training Loss: 0.1893\n"
     ]
    },
    {
     "name": "stderr",
     "output_type": "stream",
     "text": [
      "Training:  84%|████████▍ | 211/250 [7:30:54<1:23:17, 128.13s/epoch]"
     ]
    },
    {
     "name": "stdout",
     "output_type": "stream",
     "text": [
      "  Train => MSE=0.2277, CI=0.8686, Pearson=0.8588\n",
      "  Test  => MSE=0.3602, CI=0.8247, Pearson=0.7235\n",
      "Checkpoint saved at epoch 211\n",
      "Deleted previous checkpoint: /kaggle/working/TrainingModel1/model_epoch210.pt\n"
     ]
    },
    {
     "name": "stderr",
     "output_type": "stream",
     "text": [
      "Training:  84%|████████▍ | 211/250 [7:31:51<1:23:17, 128.13s/epoch]"
     ]
    },
    {
     "name": "stdout",
     "output_type": "stream",
     "text": [
      "[Epoch 212/250] Training Loss: 0.1841\n"
     ]
    },
    {
     "name": "stderr",
     "output_type": "stream",
     "text": [
      "Training:  85%|████████▍ | 212/250 [7:33:02<1:21:10, 128.17s/epoch]"
     ]
    },
    {
     "name": "stdout",
     "output_type": "stream",
     "text": [
      "  Train => MSE=0.2489, CI=0.8711, Pearson=0.8473\n",
      "  Test  => MSE=0.3739, CI=0.8284, Pearson=0.7107\n",
      "Checkpoint saved at epoch 212\n",
      "Deleted previous checkpoint: /kaggle/working/TrainingModel1/model_epoch211.pt\n"
     ]
    },
    {
     "name": "stderr",
     "output_type": "stream",
     "text": [
      "Training:  85%|████████▍ | 212/250 [7:33:59<1:21:10, 128.17s/epoch]"
     ]
    },
    {
     "name": "stdout",
     "output_type": "stream",
     "text": [
      "[Epoch 213/250] Training Loss: 0.1901\n"
     ]
    },
    {
     "name": "stderr",
     "output_type": "stream",
     "text": [
      "Training:  85%|████████▌ | 213/250 [7:35:10<1:19:02, 128.17s/epoch]"
     ]
    },
    {
     "name": "stdout",
     "output_type": "stream",
     "text": [
      "  Train => MSE=0.2376, CI=0.8793, Pearson=0.8759\n",
      "  Test  => MSE=0.3741, CI=0.8321, Pearson=0.7320\n",
      "Checkpoint saved at epoch 213\n",
      "Deleted previous checkpoint: /kaggle/working/TrainingModel1/model_epoch212.pt\n"
     ]
    },
    {
     "name": "stderr",
     "output_type": "stream",
     "text": [
      "Training:  85%|████████▌ | 213/250 [7:36:07<1:19:02, 128.17s/epoch]"
     ]
    },
    {
     "name": "stdout",
     "output_type": "stream",
     "text": [
      "[Epoch 214/250] Training Loss: 0.1896\n"
     ]
    },
    {
     "name": "stderr",
     "output_type": "stream",
     "text": [
      "Training:  86%|████████▌ | 214/250 [7:37:18<1:16:52, 128.14s/epoch]"
     ]
    },
    {
     "name": "stdout",
     "output_type": "stream",
     "text": [
      "  Train => MSE=0.2023, CI=0.8754, Pearson=0.8698\n",
      "  Test  => MSE=0.3504, CI=0.8274, Pearson=0.7279\n",
      "Checkpoint saved at epoch 214\n",
      "Deleted previous checkpoint: /kaggle/working/TrainingModel1/model_epoch213.pt\n"
     ]
    },
    {
     "name": "stderr",
     "output_type": "stream",
     "text": [
      "Training:  86%|████████▌ | 214/250 [7:38:15<1:16:52, 128.14s/epoch]"
     ]
    },
    {
     "name": "stdout",
     "output_type": "stream",
     "text": [
      "[Epoch 215/250] Training Loss: 0.1813\n"
     ]
    },
    {
     "name": "stderr",
     "output_type": "stream",
     "text": [
      "Training:  86%|████████▌ | 215/250 [7:39:26<1:14:46, 128.18s/epoch]"
     ]
    },
    {
     "name": "stdout",
     "output_type": "stream",
     "text": [
      "  Train => MSE=0.2202, CI=0.8811, Pearson=0.8710\n",
      "  Test  => MSE=0.3612, CI=0.8362, Pearson=0.7287\n",
      "Checkpoint saved at epoch 215\n",
      "Deleted previous checkpoint: /kaggle/working/TrainingModel1/model_epoch214.pt\n"
     ]
    },
    {
     "name": "stderr",
     "output_type": "stream",
     "text": [
      "Training:  86%|████████▌ | 215/250 [7:40:23<1:14:46, 128.18s/epoch]"
     ]
    },
    {
     "name": "stdout",
     "output_type": "stream",
     "text": [
      "[Epoch 216/250] Training Loss: 0.1955\n"
     ]
    },
    {
     "name": "stderr",
     "output_type": "stream",
     "text": [
      "Training:  86%|████████▋ | 216/250 [7:41:34<1:12:35, 128.12s/epoch]"
     ]
    },
    {
     "name": "stdout",
     "output_type": "stream",
     "text": [
      "  Train => MSE=0.2227, CI=0.8770, Pearson=0.8526\n",
      "  Test  => MSE=0.3431, CI=0.8348, Pearson=0.7276\n",
      "Checkpoint saved at epoch 216\n",
      "Deleted previous checkpoint: /kaggle/working/TrainingModel1/model_epoch215.pt\n"
     ]
    },
    {
     "name": "stderr",
     "output_type": "stream",
     "text": [
      "Training:  86%|████████▋ | 216/250 [7:42:31<1:12:35, 128.12s/epoch]"
     ]
    },
    {
     "name": "stdout",
     "output_type": "stream",
     "text": [
      "[Epoch 217/250] Training Loss: 0.1989\n"
     ]
    },
    {
     "name": "stderr",
     "output_type": "stream",
     "text": [
      "Training:  87%|████████▋ | 217/250 [7:43:43<1:10:27, 128.12s/epoch]"
     ]
    },
    {
     "name": "stdout",
     "output_type": "stream",
     "text": [
      "  Train => MSE=0.2648, CI=0.8763, Pearson=0.8568\n",
      "  Test  => MSE=0.3929, CI=0.8286, Pearson=0.7133\n",
      "Checkpoint saved at epoch 217\n",
      "Deleted previous checkpoint: /kaggle/working/TrainingModel1/model_epoch216.pt\n"
     ]
    },
    {
     "name": "stderr",
     "output_type": "stream",
     "text": [
      "Training:  87%|████████▋ | 217/250 [7:44:39<1:10:27, 128.12s/epoch]"
     ]
    },
    {
     "name": "stdout",
     "output_type": "stream",
     "text": [
      "[Epoch 218/250] Training Loss: 0.1974\n"
     ]
    },
    {
     "name": "stderr",
     "output_type": "stream",
     "text": [
      "Training:  87%|████████▋ | 218/250 [7:45:50<1:08:16, 128.01s/epoch]"
     ]
    },
    {
     "name": "stdout",
     "output_type": "stream",
     "text": [
      "  Train => MSE=0.2316, CI=0.8743, Pearson=0.8705\n",
      "  Test  => MSE=0.3754, CI=0.8201, Pearson=0.7237\n",
      "Checkpoint saved at epoch 218\n",
      "Deleted previous checkpoint: /kaggle/working/TrainingModel1/model_epoch217.pt\n"
     ]
    },
    {
     "name": "stderr",
     "output_type": "stream",
     "text": [
      "Training:  87%|████████▋ | 218/250 [7:46:47<1:08:16, 128.01s/epoch]"
     ]
    },
    {
     "name": "stdout",
     "output_type": "stream",
     "text": [
      "[Epoch 219/250] Training Loss: 0.1768\n"
     ]
    },
    {
     "name": "stderr",
     "output_type": "stream",
     "text": [
      "Training:  88%|████████▊ | 219/250 [7:47:58<1:06:05, 127.92s/epoch]"
     ]
    },
    {
     "name": "stdout",
     "output_type": "stream",
     "text": [
      "  Train => MSE=0.2589, CI=0.8762, Pearson=0.8773\n",
      "  Test  => MSE=0.4092, CI=0.8210, Pearson=0.7142\n",
      "Checkpoint saved at epoch 219\n",
      "Deleted previous checkpoint: /kaggle/working/TrainingModel1/model_epoch218.pt\n"
     ]
    },
    {
     "name": "stderr",
     "output_type": "stream",
     "text": [
      "Training:  88%|████████▊ | 219/250 [7:48:55<1:06:05, 127.92s/epoch]"
     ]
    },
    {
     "name": "stdout",
     "output_type": "stream",
     "text": [
      "[Epoch 220/250] Training Loss: 0.1823\n"
     ]
    },
    {
     "name": "stderr",
     "output_type": "stream",
     "text": [
      "Training:  88%|████████▊ | 220/250 [7:50:06<1:03:55, 127.84s/epoch]"
     ]
    },
    {
     "name": "stdout",
     "output_type": "stream",
     "text": [
      "  Train => MSE=0.2402, CI=0.8704, Pearson=0.8546\n",
      "  Test  => MSE=0.3653, CI=0.8300, Pearson=0.7231\n",
      "Checkpoint saved at epoch 220\n",
      "Deleted previous checkpoint: /kaggle/working/TrainingModel1/model_epoch219.pt\n"
     ]
    },
    {
     "name": "stderr",
     "output_type": "stream",
     "text": [
      "Training:  88%|████████▊ | 220/250 [7:51:02<1:03:55, 127.84s/epoch]"
     ]
    },
    {
     "name": "stdout",
     "output_type": "stream",
     "text": [
      "[Epoch 221/250] Training Loss: 0.1830\n"
     ]
    },
    {
     "name": "stderr",
     "output_type": "stream",
     "text": [
      "Training:  88%|████████▊ | 221/250 [7:52:13<1:01:45, 127.79s/epoch]"
     ]
    },
    {
     "name": "stdout",
     "output_type": "stream",
     "text": [
      "  Train => MSE=0.2636, CI=0.8726, Pearson=0.8547\n",
      "  Test  => MSE=0.3883, CI=0.8271, Pearson=0.7156\n",
      "Checkpoint saved at epoch 221\n",
      "Deleted previous checkpoint: /kaggle/working/TrainingModel1/model_epoch220.pt\n"
     ]
    },
    {
     "name": "stderr",
     "output_type": "stream",
     "text": [
      "Training:  88%|████████▊ | 221/250 [7:53:10<1:01:45, 127.79s/epoch]"
     ]
    },
    {
     "name": "stdout",
     "output_type": "stream",
     "text": [
      "[Epoch 222/250] Training Loss: 0.1802\n"
     ]
    },
    {
     "name": "stderr",
     "output_type": "stream",
     "text": [
      "Training:  89%|████████▉ | 222/250 [7:54:21<59:37, 127.76s/epoch]  "
     ]
    },
    {
     "name": "stdout",
     "output_type": "stream",
     "text": [
      "  Train => MSE=0.2640, CI=0.8719, Pearson=0.8567\n",
      "  Test  => MSE=0.3940, CI=0.8240, Pearson=0.7141\n",
      "Checkpoint saved at epoch 222\n",
      "Deleted previous checkpoint: /kaggle/working/TrainingModel1/model_epoch221.pt\n"
     ]
    },
    {
     "name": "stderr",
     "output_type": "stream",
     "text": [
      "Training:  89%|████████▉ | 222/250 [7:55:18<59:37, 127.76s/epoch]"
     ]
    },
    {
     "name": "stdout",
     "output_type": "stream",
     "text": [
      "[Epoch 223/250] Training Loss: 0.1820\n"
     ]
    },
    {
     "name": "stderr",
     "output_type": "stream",
     "text": [
      "Training:  89%|████████▉ | 223/250 [7:56:29<57:31, 127.85s/epoch]"
     ]
    },
    {
     "name": "stdout",
     "output_type": "stream",
     "text": [
      "  Train => MSE=0.2886, CI=0.8745, Pearson=0.8584\n",
      "  Test  => MSE=0.4050, CI=0.8295, Pearson=0.7226\n",
      "Checkpoint saved at epoch 223\n",
      "Deleted previous checkpoint: /kaggle/working/TrainingModel1/model_epoch222.pt\n"
     ]
    },
    {
     "name": "stderr",
     "output_type": "stream",
     "text": [
      "Training:  89%|████████▉ | 223/250 [7:57:26<57:31, 127.85s/epoch]"
     ]
    },
    {
     "name": "stdout",
     "output_type": "stream",
     "text": [
      "[Epoch 224/250] Training Loss: 0.1756\n"
     ]
    },
    {
     "name": "stderr",
     "output_type": "stream",
     "text": [
      "Training:  90%|████████▉ | 224/250 [7:58:37<55:22, 127.80s/epoch]"
     ]
    },
    {
     "name": "stdout",
     "output_type": "stream",
     "text": [
      "  Train => MSE=0.2830, CI=0.8731, Pearson=0.8553\n",
      "  Test  => MSE=0.4034, CI=0.8279, Pearson=0.7162\n",
      "Checkpoint saved at epoch 224\n",
      "Deleted previous checkpoint: /kaggle/working/TrainingModel1/model_epoch223.pt\n"
     ]
    },
    {
     "name": "stderr",
     "output_type": "stream",
     "text": [
      "Training:  90%|████████▉ | 224/250 [7:59:33<55:22, 127.80s/epoch]"
     ]
    },
    {
     "name": "stdout",
     "output_type": "stream",
     "text": [
      "[Epoch 225/250] Training Loss: 0.1876\n"
     ]
    },
    {
     "name": "stderr",
     "output_type": "stream",
     "text": [
      "Training:  90%|█████████ | 225/250 [8:00:44<53:13, 127.73s/epoch]"
     ]
    },
    {
     "name": "stdout",
     "output_type": "stream",
     "text": [
      "  Train => MSE=0.2762, CI=0.8760, Pearson=0.8611\n",
      "  Test  => MSE=0.4016, CI=0.8325, Pearson=0.7252\n",
      "Checkpoint saved at epoch 225\n",
      "Deleted previous checkpoint: /kaggle/working/TrainingModel1/model_epoch224.pt\n"
     ]
    },
    {
     "name": "stderr",
     "output_type": "stream",
     "text": [
      "Training:  90%|█████████ | 225/250 [8:01:41<53:13, 127.73s/epoch]"
     ]
    },
    {
     "name": "stdout",
     "output_type": "stream",
     "text": [
      "[Epoch 226/250] Training Loss: 0.1794\n"
     ]
    },
    {
     "name": "stderr",
     "output_type": "stream",
     "text": [
      "Training:  90%|█████████ | 226/250 [8:02:52<51:02, 127.60s/epoch]"
     ]
    },
    {
     "name": "stdout",
     "output_type": "stream",
     "text": [
      "  Train => MSE=0.2790, CI=0.8725, Pearson=0.8586\n",
      "  Test  => MSE=0.4086, CI=0.8221, Pearson=0.7123\n",
      "Checkpoint saved at epoch 226\n",
      "Deleted previous checkpoint: /kaggle/working/TrainingModel1/model_epoch225.pt\n"
     ]
    },
    {
     "name": "stderr",
     "output_type": "stream",
     "text": [
      "Training:  90%|█████████ | 226/250 [8:03:48<51:02, 127.60s/epoch]"
     ]
    },
    {
     "name": "stdout",
     "output_type": "stream",
     "text": [
      "[Epoch 227/250] Training Loss: 0.1849\n"
     ]
    },
    {
     "name": "stderr",
     "output_type": "stream",
     "text": [
      "Training:  91%|█████████ | 227/250 [8:05:00<48:56, 127.68s/epoch]"
     ]
    },
    {
     "name": "stdout",
     "output_type": "stream",
     "text": [
      "  Train => MSE=0.2203, CI=0.8838, Pearson=0.8788\n",
      "  Test  => MSE=0.3621, CI=0.8344, Pearson=0.7326\n",
      "Checkpoint saved at epoch 227\n",
      "Deleted previous checkpoint: /kaggle/working/TrainingModel1/model_epoch226.pt\n"
     ]
    },
    {
     "name": "stderr",
     "output_type": "stream",
     "text": [
      "Training:  91%|█████████ | 227/250 [8:05:56<48:56, 127.68s/epoch]"
     ]
    },
    {
     "name": "stdout",
     "output_type": "stream",
     "text": [
      "[Epoch 228/250] Training Loss: 0.1719\n"
     ]
    },
    {
     "name": "stderr",
     "output_type": "stream",
     "text": [
      "Training:  91%|█████████ | 228/250 [8:07:07<46:48, 127.64s/epoch]"
     ]
    },
    {
     "name": "stdout",
     "output_type": "stream",
     "text": [
      "  Train => MSE=0.2676, CI=0.8742, Pearson=0.8499\n",
      "  Test  => MSE=0.3999, CI=0.8215, Pearson=0.7058\n",
      "Checkpoint saved at epoch 228\n",
      "Deleted previous checkpoint: /kaggle/working/TrainingModel1/model_epoch227.pt\n"
     ]
    },
    {
     "name": "stderr",
     "output_type": "stream",
     "text": [
      "Training:  91%|█████████ | 228/250 [8:08:04<46:48, 127.64s/epoch]"
     ]
    },
    {
     "name": "stdout",
     "output_type": "stream",
     "text": [
      "[Epoch 229/250] Training Loss: 0.1849\n"
     ]
    },
    {
     "name": "stderr",
     "output_type": "stream",
     "text": [
      "Training:  92%|█████████▏| 229/250 [8:09:15<44:40, 127.64s/epoch]"
     ]
    },
    {
     "name": "stdout",
     "output_type": "stream",
     "text": [
      "  Train => MSE=0.2676, CI=0.8813, Pearson=0.8715\n",
      "  Test  => MSE=0.4064, CI=0.8225, Pearson=0.7189\n",
      "Checkpoint saved at epoch 229\n",
      "Deleted previous checkpoint: /kaggle/working/TrainingModel1/model_epoch228.pt\n"
     ]
    },
    {
     "name": "stderr",
     "output_type": "stream",
     "text": [
      "Training:  92%|█████████▏| 229/250 [8:10:11<44:40, 127.64s/epoch]"
     ]
    },
    {
     "name": "stdout",
     "output_type": "stream",
     "text": [
      "[Epoch 230/250] Training Loss: 0.1754\n"
     ]
    },
    {
     "name": "stderr",
     "output_type": "stream",
     "text": [
      "Training:  92%|█████████▏| 230/250 [8:11:22<42:32, 127.61s/epoch]"
     ]
    },
    {
     "name": "stdout",
     "output_type": "stream",
     "text": [
      "  Train => MSE=0.2533, CI=0.8766, Pearson=0.8700\n",
      "  Test  => MSE=0.3943, CI=0.8238, Pearson=0.7186\n",
      "Checkpoint saved at epoch 230\n",
      "Deleted previous checkpoint: /kaggle/working/TrainingModel1/model_epoch229.pt\n"
     ]
    },
    {
     "name": "stderr",
     "output_type": "stream",
     "text": [
      "Training:  92%|█████████▏| 230/250 [8:12:19<42:32, 127.61s/epoch]"
     ]
    },
    {
     "name": "stdout",
     "output_type": "stream",
     "text": [
      "[Epoch 231/250] Training Loss: 0.1766\n"
     ]
    },
    {
     "name": "stderr",
     "output_type": "stream",
     "text": [
      "Training:  92%|█████████▏| 231/250 [8:13:30<40:24, 127.62s/epoch]"
     ]
    },
    {
     "name": "stdout",
     "output_type": "stream",
     "text": [
      "  Train => MSE=0.2267, CI=0.8798, Pearson=0.8692\n",
      "  Test  => MSE=0.3717, CI=0.8306, Pearson=0.7197\n",
      "Checkpoint saved at epoch 231\n",
      "Deleted previous checkpoint: /kaggle/working/TrainingModel1/model_epoch230.pt\n"
     ]
    },
    {
     "name": "stderr",
     "output_type": "stream",
     "text": [
      "Training:  92%|█████████▏| 231/250 [8:14:26<40:24, 127.62s/epoch]"
     ]
    },
    {
     "name": "stdout",
     "output_type": "stream",
     "text": [
      "[Epoch 232/250] Training Loss: 0.1751\n"
     ]
    },
    {
     "name": "stderr",
     "output_type": "stream",
     "text": [
      "Training:  93%|█████████▎| 232/250 [8:15:38<38:17, 127.63s/epoch]"
     ]
    },
    {
     "name": "stdout",
     "output_type": "stream",
     "text": [
      "  Train => MSE=0.2536, CI=0.8767, Pearson=0.8713\n",
      "  Test  => MSE=0.3791, CI=0.8273, Pearson=0.7303\n",
      "Checkpoint saved at epoch 232\n",
      "Deleted previous checkpoint: /kaggle/working/TrainingModel1/model_epoch231.pt\n"
     ]
    },
    {
     "name": "stderr",
     "output_type": "stream",
     "text": [
      "Training:  93%|█████████▎| 232/250 [8:16:34<38:17, 127.63s/epoch]"
     ]
    },
    {
     "name": "stdout",
     "output_type": "stream",
     "text": [
      "[Epoch 233/250] Training Loss: 0.1759\n"
     ]
    },
    {
     "name": "stderr",
     "output_type": "stream",
     "text": [
      "Training:  93%|█████████▎| 233/250 [8:17:45<36:09, 127.61s/epoch]"
     ]
    },
    {
     "name": "stdout",
     "output_type": "stream",
     "text": [
      "  Train => MSE=0.2243, CI=0.8790, Pearson=0.8684\n",
      "  Test  => MSE=0.3663, CI=0.8237, Pearson=0.7218\n",
      "Checkpoint saved at epoch 233\n",
      "Deleted previous checkpoint: /kaggle/working/TrainingModel1/model_epoch232.pt\n"
     ]
    },
    {
     "name": "stderr",
     "output_type": "stream",
     "text": [
      "Training:  93%|█████████▎| 233/250 [8:18:41<36:09, 127.61s/epoch]"
     ]
    },
    {
     "name": "stdout",
     "output_type": "stream",
     "text": [
      "[Epoch 234/250] Training Loss: 0.1769\n"
     ]
    },
    {
     "name": "stderr",
     "output_type": "stream",
     "text": [
      "Training:  94%|█████████▎| 234/250 [8:19:52<34:00, 127.54s/epoch]"
     ]
    },
    {
     "name": "stdout",
     "output_type": "stream",
     "text": [
      "  Train => MSE=0.2316, CI=0.8853, Pearson=0.8716\n",
      "  Test  => MSE=0.3760, CI=0.8332, Pearson=0.7220\n",
      "Checkpoint saved at epoch 234\n",
      "Deleted previous checkpoint: /kaggle/working/TrainingModel1/model_epoch233.pt\n"
     ]
    },
    {
     "name": "stderr",
     "output_type": "stream",
     "text": [
      "Training:  94%|█████████▎| 234/250 [8:20:49<34:00, 127.54s/epoch]"
     ]
    },
    {
     "name": "stdout",
     "output_type": "stream",
     "text": [
      "[Epoch 235/250] Training Loss: 0.1715\n"
     ]
    },
    {
     "name": "stderr",
     "output_type": "stream",
     "text": [
      "Training:  94%|█████████▍| 235/250 [8:22:00<31:52, 127.53s/epoch]"
     ]
    },
    {
     "name": "stdout",
     "output_type": "stream",
     "text": [
      "  Train => MSE=0.2192, CI=0.8834, Pearson=0.8824\n",
      "  Test  => MSE=0.3710, CI=0.8325, Pearson=0.7184\n",
      "Checkpoint saved at epoch 235\n",
      "Deleted previous checkpoint: /kaggle/working/TrainingModel1/model_epoch234.pt\n"
     ]
    },
    {
     "name": "stderr",
     "output_type": "stream",
     "text": [
      "Training:  94%|█████████▍| 235/250 [8:22:56<31:52, 127.53s/epoch]"
     ]
    },
    {
     "name": "stdout",
     "output_type": "stream",
     "text": [
      "[Epoch 236/250] Training Loss: 0.1673\n"
     ]
    },
    {
     "name": "stderr",
     "output_type": "stream",
     "text": [
      "Training:  94%|█████████▍| 236/250 [8:24:07<29:44, 127.50s/epoch]"
     ]
    },
    {
     "name": "stdout",
     "output_type": "stream",
     "text": [
      "  Train => MSE=0.2204, CI=0.8750, Pearson=0.8726\n",
      "  Test  => MSE=0.3612, CI=0.8233, Pearson=0.7243\n",
      "Checkpoint saved at epoch 236\n",
      "Deleted previous checkpoint: /kaggle/working/TrainingModel1/model_epoch235.pt\n"
     ]
    },
    {
     "name": "stderr",
     "output_type": "stream",
     "text": [
      "Training:  94%|█████████▍| 236/250 [8:25:04<29:44, 127.50s/epoch]"
     ]
    },
    {
     "name": "stdout",
     "output_type": "stream",
     "text": [
      "[Epoch 237/250] Training Loss: 0.1685\n"
     ]
    },
    {
     "name": "stderr",
     "output_type": "stream",
     "text": [
      "Training:  95%|█████████▍| 237/250 [8:26:15<27:38, 127.59s/epoch]"
     ]
    },
    {
     "name": "stdout",
     "output_type": "stream",
     "text": [
      "  Train => MSE=0.2299, CI=0.8710, Pearson=0.8699\n",
      "  Test  => MSE=0.3675, CI=0.8173, Pearson=0.7259\n",
      "Checkpoint saved at epoch 237\n",
      "Deleted previous checkpoint: /kaggle/working/TrainingModel1/model_epoch236.pt\n"
     ]
    },
    {
     "name": "stderr",
     "output_type": "stream",
     "text": [
      "Training:  95%|█████████▍| 237/250 [8:27:12<27:38, 127.59s/epoch]"
     ]
    },
    {
     "name": "stdout",
     "output_type": "stream",
     "text": [
      "[Epoch 238/250] Training Loss: 0.1682\n"
     ]
    },
    {
     "name": "stderr",
     "output_type": "stream",
     "text": [
      "Training:  95%|█████████▌| 238/250 [8:28:23<25:30, 127.54s/epoch]"
     ]
    },
    {
     "name": "stdout",
     "output_type": "stream",
     "text": [
      "  Train => MSE=0.2235, CI=0.8783, Pearson=0.8797\n",
      "  Test  => MSE=0.3704, CI=0.8256, Pearson=0.7251\n",
      "Checkpoint saved at epoch 238\n",
      "Deleted previous checkpoint: /kaggle/working/TrainingModel1/model_epoch237.pt\n"
     ]
    },
    {
     "name": "stderr",
     "output_type": "stream",
     "text": [
      "Training:  95%|█████████▌| 238/250 [8:29:19<25:30, 127.54s/epoch]"
     ]
    },
    {
     "name": "stdout",
     "output_type": "stream",
     "text": [
      "[Epoch 239/250] Training Loss: 0.1716\n"
     ]
    },
    {
     "name": "stderr",
     "output_type": "stream",
     "text": [
      "Training:  96%|█████████▌| 239/250 [8:30:30<23:22, 127.53s/epoch]"
     ]
    },
    {
     "name": "stdout",
     "output_type": "stream",
     "text": [
      "  Train => MSE=0.2197, CI=0.8761, Pearson=0.8814\n",
      "  Test  => MSE=0.3783, CI=0.8205, Pearson=0.7200\n",
      "Checkpoint saved at epoch 239\n",
      "Deleted previous checkpoint: /kaggle/working/TrainingModel1/model_epoch238.pt\n"
     ]
    },
    {
     "name": "stderr",
     "output_type": "stream",
     "text": [
      "Training:  96%|█████████▌| 239/250 [8:31:26<23:22, 127.53s/epoch]"
     ]
    },
    {
     "name": "stdout",
     "output_type": "stream",
     "text": [
      "[Epoch 240/250] Training Loss: 0.1731\n"
     ]
    },
    {
     "name": "stderr",
     "output_type": "stream",
     "text": [
      "Training:  96%|█████████▌| 240/250 [8:32:38<21:14, 127.48s/epoch]"
     ]
    },
    {
     "name": "stdout",
     "output_type": "stream",
     "text": [
      "  Train => MSE=0.2478, CI=0.8797, Pearson=0.8785\n",
      "  Test  => MSE=0.3917, CI=0.8245, Pearson=0.7216\n",
      "Checkpoint saved at epoch 240\n",
      "Deleted previous checkpoint: /kaggle/working/TrainingModel1/model_epoch239.pt\n"
     ]
    },
    {
     "name": "stderr",
     "output_type": "stream",
     "text": [
      "Training:  96%|█████████▌| 240/250 [8:33:34<21:14, 127.48s/epoch]"
     ]
    },
    {
     "name": "stdout",
     "output_type": "stream",
     "text": [
      "[Epoch 241/250] Training Loss: 0.1793\n"
     ]
    },
    {
     "name": "stderr",
     "output_type": "stream",
     "text": [
      "Training:  96%|█████████▋| 241/250 [8:34:45<19:07, 127.51s/epoch]"
     ]
    },
    {
     "name": "stdout",
     "output_type": "stream",
     "text": [
      "  Train => MSE=0.1914, CI=0.8835, Pearson=0.8723\n",
      "  Test  => MSE=0.3394, CI=0.8351, Pearson=0.7293\n",
      "Checkpoint saved at epoch 241\n",
      "Deleted previous checkpoint: /kaggle/working/TrainingModel1/model_epoch240.pt\n"
     ]
    },
    {
     "name": "stderr",
     "output_type": "stream",
     "text": [
      "Training:  96%|█████████▋| 241/250 [8:35:42<19:07, 127.51s/epoch]"
     ]
    },
    {
     "name": "stdout",
     "output_type": "stream",
     "text": [
      "[Epoch 242/250] Training Loss: 0.1708\n"
     ]
    },
    {
     "name": "stderr",
     "output_type": "stream",
     "text": [
      "Training:  97%|█████████▋| 242/250 [8:36:53<17:00, 127.56s/epoch]"
     ]
    },
    {
     "name": "stdout",
     "output_type": "stream",
     "text": [
      "  Train => MSE=0.2450, CI=0.8644, Pearson=0.8543\n",
      "  Test  => MSE=0.3845, CI=0.8156, Pearson=0.7072\n",
      "Checkpoint saved at epoch 242\n",
      "Deleted previous checkpoint: /kaggle/working/TrainingModel1/model_epoch241.pt\n"
     ]
    },
    {
     "name": "stderr",
     "output_type": "stream",
     "text": [
      "Training:  97%|█████████▋| 242/250 [8:37:49<17:00, 127.56s/epoch]"
     ]
    },
    {
     "name": "stdout",
     "output_type": "stream",
     "text": [
      "[Epoch 243/250] Training Loss: 0.1716\n"
     ]
    },
    {
     "name": "stderr",
     "output_type": "stream",
     "text": [
      "Training:  97%|█████████▋| 243/250 [8:39:00<14:53, 127.61s/epoch]"
     ]
    },
    {
     "name": "stdout",
     "output_type": "stream",
     "text": [
      "  Train => MSE=0.2029, CI=0.8777, Pearson=0.8750\n",
      "  Test  => MSE=0.3551, CI=0.8248, Pearson=0.7227\n",
      "Checkpoint saved at epoch 243\n",
      "Deleted previous checkpoint: /kaggle/working/TrainingModel1/model_epoch242.pt\n"
     ]
    },
    {
     "name": "stderr",
     "output_type": "stream",
     "text": [
      "Training:  97%|█████████▋| 243/250 [8:39:57<14:53, 127.61s/epoch]"
     ]
    },
    {
     "name": "stdout",
     "output_type": "stream",
     "text": [
      "[Epoch 244/250] Training Loss: 0.1685\n"
     ]
    },
    {
     "name": "stderr",
     "output_type": "stream",
     "text": [
      "Training:  98%|█████████▊| 244/250 [8:41:08<12:45, 127.58s/epoch]"
     ]
    },
    {
     "name": "stdout",
     "output_type": "stream",
     "text": [
      "  Train => MSE=0.2072, CI=0.8842, Pearson=0.8822\n",
      "  Test  => MSE=0.3509, CI=0.8348, Pearson=0.7378\n",
      "Checkpoint saved at epoch 244\n",
      "Deleted previous checkpoint: /kaggle/working/TrainingModel1/model_epoch243.pt\n"
     ]
    },
    {
     "name": "stderr",
     "output_type": "stream",
     "text": [
      "Training:  98%|█████████▊| 244/250 [8:42:04<12:45, 127.58s/epoch]"
     ]
    },
    {
     "name": "stdout",
     "output_type": "stream",
     "text": [
      "[Epoch 245/250] Training Loss: 0.1705\n"
     ]
    },
    {
     "name": "stderr",
     "output_type": "stream",
     "text": [
      "Training:  98%|█████████▊| 245/250 [8:43:16<10:38, 127.61s/epoch]"
     ]
    },
    {
     "name": "stdout",
     "output_type": "stream",
     "text": [
      "  Train => MSE=0.2331, CI=0.8731, Pearson=0.8831\n",
      "  Test  => MSE=0.3610, CI=0.8199, Pearson=0.7399\n",
      "Checkpoint saved at epoch 245\n",
      "Deleted previous checkpoint: /kaggle/working/TrainingModel1/model_epoch244.pt\n"
     ]
    },
    {
     "name": "stderr",
     "output_type": "stream",
     "text": [
      "Training:  98%|█████████▊| 245/250 [8:44:12<10:38, 127.61s/epoch]"
     ]
    },
    {
     "name": "stdout",
     "output_type": "stream",
     "text": [
      "[Epoch 246/250] Training Loss: 0.1709\n"
     ]
    },
    {
     "name": "stderr",
     "output_type": "stream",
     "text": [
      "Training:  98%|█████████▊| 246/250 [8:45:23<08:30, 127.56s/epoch]"
     ]
    },
    {
     "name": "stdout",
     "output_type": "stream",
     "text": [
      "  Train => MSE=0.1890, CI=0.8842, Pearson=0.8823\n",
      "  Test  => MSE=0.3377, CI=0.8329, Pearson=0.7354\n",
      "Checkpoint saved at epoch 246\n",
      "Deleted previous checkpoint: /kaggle/working/TrainingModel1/model_epoch245.pt\n"
     ]
    },
    {
     "name": "stderr",
     "output_type": "stream",
     "text": [
      "Training:  98%|█████████▊| 246/250 [8:46:20<08:30, 127.56s/epoch]"
     ]
    },
    {
     "name": "stdout",
     "output_type": "stream",
     "text": [
      "[Epoch 247/250] Training Loss: 0.1647\n"
     ]
    },
    {
     "name": "stderr",
     "output_type": "stream",
     "text": [
      "Training:  99%|█████████▉| 247/250 [8:47:31<06:22, 127.60s/epoch]"
     ]
    },
    {
     "name": "stdout",
     "output_type": "stream",
     "text": [
      "  Train => MSE=0.2514, CI=0.8768, Pearson=0.8755\n",
      "  Test  => MSE=0.3821, CI=0.8232, Pearson=0.7264\n",
      "Checkpoint saved at epoch 247\n",
      "Deleted previous checkpoint: /kaggle/working/TrainingModel1/model_epoch246.pt\n"
     ]
    },
    {
     "name": "stderr",
     "output_type": "stream",
     "text": [
      "Training:  99%|█████████▉| 247/250 [8:48:27<06:22, 127.60s/epoch]"
     ]
    },
    {
     "name": "stdout",
     "output_type": "stream",
     "text": [
      "[Epoch 248/250] Training Loss: 0.1663\n"
     ]
    },
    {
     "name": "stderr",
     "output_type": "stream",
     "text": [
      "Training:  99%|█████████▉| 248/250 [8:49:38<04:15, 127.54s/epoch]"
     ]
    },
    {
     "name": "stdout",
     "output_type": "stream",
     "text": [
      "  Train => MSE=0.1999, CI=0.8843, Pearson=0.8736\n",
      "  Test  => MSE=0.3578, CI=0.8375, Pearson=0.7237\n",
      "Checkpoint saved at epoch 248\n",
      "Deleted previous checkpoint: /kaggle/working/TrainingModel1/model_epoch247.pt\n"
     ]
    },
    {
     "name": "stderr",
     "output_type": "stream",
     "text": [
      "Training:  99%|█████████▉| 248/250 [8:50:35<04:15, 127.54s/epoch]"
     ]
    },
    {
     "name": "stdout",
     "output_type": "stream",
     "text": [
      "[Epoch 249/250] Training Loss: 0.1670\n"
     ]
    },
    {
     "name": "stderr",
     "output_type": "stream",
     "text": [
      "Training: 100%|█████████▉| 249/250 [8:51:46<02:07, 127.58s/epoch]"
     ]
    },
    {
     "name": "stdout",
     "output_type": "stream",
     "text": [
      "  Train => MSE=0.1757, CI=0.8881, Pearson=0.8931\n",
      "  Test  => MSE=0.3407, CI=0.8380, Pearson=0.7358\n",
      "Checkpoint saved at epoch 249\n",
      "Deleted previous checkpoint: /kaggle/working/TrainingModel1/model_epoch248.pt\n"
     ]
    },
    {
     "name": "stderr",
     "output_type": "stream",
     "text": [
      "Training: 100%|█████████▉| 249/250 [8:52:42<02:07, 127.58s/epoch]"
     ]
    },
    {
     "name": "stdout",
     "output_type": "stream",
     "text": [
      "[Epoch 250/250] Training Loss: 0.1542\n"
     ]
    },
    {
     "name": "stderr",
     "output_type": "stream",
     "text": [
      "Training: 100%|██████████| 250/250 [8:53:53<00:00, 128.14s/epoch]\n"
     ]
    },
    {
     "name": "stdout",
     "output_type": "stream",
     "text": [
      "  Train => MSE=0.2093, CI=0.8848, Pearson=0.8877\n",
      "  Test  => MSE=0.3579, CI=0.8413, Pearson=0.7338\n",
      "Checkpoint saved at epoch 250\n",
      "Deleted previous checkpoint: /kaggle/working/TrainingModel1/model_epoch249.pt\n",
      "\n",
      "Final Train => MSE=0.2093, CI=0.8848, Pearson=0.8877\n",
      "Final Test  => MSE=0.3579, CI=0.8413, Pearson=0.7338\n",
      "Metrics saved to /kaggle/working/TrainingModel1/training_metrics.pt\n"
     ]
    },
    {
     "data": {
      "image/png": "[encoded data removed]",
      "text/plain": [
       "<Figure size 800x600 with 1 Axes>"
      ]
     },
     "metadata": {},
     "output_type": "display_data"
    },
    {
     "data": {
      "image/png": "[encoded data removed]",
      "text/plain": [
       "<Figure size 800x600 with 1 Axes>"
      ]
     },
     "metadata": {},
     "output_type": "display_data"
    },
    {
     "data": {
      "image/png": "[encoded data removed]",
      "text/plain": [
       "<Figure size 800x600 with 1 Axes>"
      ]
     },
     "metadata": {},
     "output_type": "display_data"
    }
   ],
   "source": [
    "#model 1\n",
    "import os\n",
    "import warnings\n",
    "import torch\n",
    "import torch.nn as nn\n",
    "import torch.nn.functional as F\n",
    "import torch.optim as optim\n",
    "from torch.nn import MSELoss\n",
    "from torch_geometric.nn import GCNConv, global_mean_pool as gep\n",
    "from torch_geometric.data import Data, Batch\n",
    "from sklearn.model_selection import train_test_split\n",
    "from tqdm import tqdm\n",
    "import numpy as np\n",
    "\n",
    "# Optional, for plotting:\n",
    "import matplotlib.pyplot as plt\n",
    "\n",
    "##############################################################################\n",
    "#                               1. METRICS\n",
    "##############################################################################\n",
    "\n",
    "@torch.no_grad()\n",
    "def ci_vectorized(preds: torch.Tensor, targets: torch.Tensor) -> float:\n",
    "    \"\"\"\n",
    "    Naive O(N^2) Concordance Index using vectorized GPU operations.\n",
    "    preds, targets: (N,) on the same device (e.g. cuda).\n",
    "    \"\"\"\n",
    "    # (N, N) differences\n",
    "    p_diff = preds.unsqueeze(1) - preds.unsqueeze(0)\n",
    "    t_diff = targets.unsqueeze(1) - targets.unsqueeze(0)\n",
    "    # mask out pairs where targets are identical\n",
    "    mask = (t_diff != 0)\n",
    "    # sign of product => +1 (concordant), 0 (tie), -1 (discordant)\n",
    "    sign_mat = torch.sign(p_diff * t_diff)\n",
    "    # step function h(x): 1 if x>0, 0.5 if x=0, 0 if x<0\n",
    "    h = (sign_mat == 1).float() + 0.5 * (sign_mat == 0).float()\n",
    "    # apply mask\n",
    "    h_masked = h * mask.float()\n",
    "    c = h_masked.sum()\n",
    "    s = mask.sum().float()\n",
    "    return (c / s).item() if s > 0 else 0.0\n",
    "\n",
    "@torch.no_grad()\n",
    "def mse_torch(preds: torch.Tensor, targets: torch.Tensor) -> float:\n",
    "    \"\"\"\n",
    "    GPU-friendly MSE using torch's built-in mean squared error.\n",
    "    \"\"\"\n",
    "    return F.mse_loss(preds, targets, reduction='mean').item()\n",
    "\n",
    "@torch.no_grad()\n",
    "def pearson_torch(preds: torch.Tensor, targets: torch.Tensor) -> float:\n",
    "    \"\"\"\n",
    "    Pearson correlation coefficient in PyTorch (GPU-friendly).\n",
    "    preds, targets: (N,) on the same device\n",
    "    \"\"\"\n",
    "    p_centered = preds - preds.mean()\n",
    "    t_centered = targets - targets.mean()\n",
    "    cov = (p_centered * t_centered).sum()\n",
    "    denom = torch.sqrt((p_centered**2).sum()) * torch.sqrt((t_centered**2).sum())\n",
    "    eps = 1e-8\n",
    "    return (cov / (denom + eps)).item()\n",
    "\n",
    "##############################################################################\n",
    "#                       2. GNN MODEL DEFINITION\n",
    "##############################################################################\n",
    "\n",
    "import torch\n",
    "import torch.nn as nn\n",
    "import torch.nn.functional as F\n",
    "from torch_geometric.nn import GCNConv, global_mean_pool as gep\n",
    "\n",
    "\n",
    "class BidirectionalCrossAttention(nn.Module):\n",
    "    def __init__(self, embed_dim=128, num_heads=4, chunk_size=2048):\n",
    "        super().__init__()\n",
    "        \"\"\"\n",
    "        Bidirectional Cross-Attention Formulas:\n",
    "        \n",
    "        For Graph A → Graph B:\n",
    "            Q_A = X_A W_Q_A, K_B = X_B W_K_A, V_B = X_B W_V_A\n",
    "            Z_A = softmax(Q_A K_B^T / √d) V_B\n",
    "            \n",
    "        For Graph B → Graph A:\n",
    "            Q_B = X_B W_Q_B, K_A = X_A W_K_B, V_A = X_A W_V_B\n",
    "            Z_B = softmax(Q_B K_A^T / √d) V_A\n",
    "        \"\"\"\n",
    "        self.embed_dim = embed_dim\n",
    "        self.chunk_size = chunk_size  # Adjust this value to control memory usage\n",
    "        \n",
    "        # Graph A → Graph B weights\n",
    "        self.W_Q_A = nn.Linear(embed_dim, embed_dim)\n",
    "        self.W_K_A = nn.Linear(embed_dim, embed_dim)\n",
    "        self.W_V_A = nn.Linear(embed_dim, embed_dim)\n",
    "        \n",
    "        # Graph B → Graph A weights\n",
    "        self.W_Q_B = nn.Linear(embed_dim, embed_dim)\n",
    "        self.W_K_B = nn.Linear(embed_dim, embed_dim)\n",
    "        self.W_V_B = nn.Linear(embed_dim, embed_dim)\n",
    "        \n",
    "        self.scale = 1.0 / torch.sqrt(torch.tensor(embed_dim, dtype=torch.float32))\n",
    "\n",
    "    def forward(self, X_A, X_B, batch_A, batch_B):\n",
    "        \"\"\"\n",
    "        Args:\n",
    "            X_A: Graph A node embeddings [total_A_nodes, embed_dim]\n",
    "            X_B: Graph B node embeddings [total_B_nodes, embed_dim]\n",
    "            batch_A: Batch indices for Graph A [total_A_nodes]\n",
    "            batch_B: Batch indices for Graph B [total_B_nodes]\n",
    "        Returns:\n",
    "            Z_A: Updated embeddings for Graph A (same shape as X_A)\n",
    "            Z_B: Updated embeddings for Graph B (same shape as X_B)\n",
    "        \"\"\"\n",
    "        # Compute linear projections for both directions\n",
    "        Q_A = self.W_Q_A(X_A)  # [N_A, embed_dim]\n",
    "        K_B = self.W_K_A(X_B)  # [N_B, embed_dim]\n",
    "        V_B = self.W_V_A(X_B)  # [N_B, embed_dim]\n",
    "        \n",
    "        Q_B = self.W_Q_B(X_B)  # [N_B, embed_dim]\n",
    "        K_A = self.W_K_B(X_A)  # [N_A, embed_dim]\n",
    "        V_A = self.W_V_B(X_A)  # [N_A, embed_dim]\n",
    "        \n",
    "        # Create mask so that only nodes from the same sample attend to each other\n",
    "        mask_AB = self._create_mask(batch_A, batch_B)  # [N_A, N_B]\n",
    "        mask_BA = mask_AB.T  # [N_B, N_A]\n",
    "        \n",
    "        # Compute Z_A in chunks to reduce memory usage\n",
    "        Z_A_chunks = []\n",
    "        for i in range(0, Q_A.size(0), self.chunk_size):\n",
    "            Q_A_chunk = Q_A[i:i+self.chunk_size]  # [chunk_size, embed_dim]\n",
    "            # Compute attention scores for this chunk: [chunk_size, N_B]\n",
    "            scores_chunk = (Q_A_chunk @ K_B.T) * self.scale\n",
    "            mask_chunk = mask_AB[i:i+self.chunk_size]  # [chunk_size, N_B]\n",
    "            scores_chunk = scores_chunk.masked_fill(~mask_chunk, -1e9)\n",
    "            attn_chunk = F.softmax(scores_chunk, dim=-1)\n",
    "            Z_A_chunk = attn_chunk @ V_B  # [chunk_size, embed_dim]\n",
    "            Z_A_chunks.append(Z_A_chunk)\n",
    "        Z_A = torch.cat(Z_A_chunks, dim=0)\n",
    "        \n",
    "        # Similarly, compute Z_B in chunks along the query dimension of Graph B\n",
    "        Z_B_chunks = []\n",
    "        for i in range(0, Q_B.size(0), self.chunk_size):\n",
    "            Q_B_chunk = Q_B[i:i+self.chunk_size]  # [chunk_size, embed_dim]\n",
    "            scores_chunk = (Q_B_chunk @ K_A.T) * self.scale  # [chunk_size, N_A]\n",
    "            mask_chunk = mask_BA[i:i+self.chunk_size]  # [chunk_size, N_A]\n",
    "            scores_chunk = scores_chunk.masked_fill(~mask_chunk, -1e9)\n",
    "            attn_chunk = F.softmax(scores_chunk, dim=-1)\n",
    "            Z_B_chunk = attn_chunk @ V_A  # [chunk_size, embed_dim]\n",
    "            Z_B_chunks.append(Z_B_chunk)\n",
    "        Z_B = torch.cat(Z_B_chunks, dim=0)\n",
    "        \n",
    "        return Z_A, Z_B\n",
    "\n",
    "    def _create_mask(self, batch_A, batch_B):\n",
    "        \"\"\"Creates a mask [N_A, N_B] so that nodes only attend to nodes from the same sample.\"\"\"\n",
    "        return batch_A.unsqueeze(1) == batch_B.unsqueeze(0)\n",
    "\n",
    "\n",
    "#############################################\n",
    "# Updated GNN Model with Cross-Attention (No Extra Projection)\n",
    "#############################################\n",
    "class GNNNet(torch.nn.Module):\n",
    "    def __init__(self, n_output=1, num_features_pro=54, num_features_mol=78, output_dim=128, dropout=0.2):\n",
    "        super(GNNNet, self).__init__()\n",
    "        print('GNNNet Loaded')\n",
    "        self.n_output = n_output\n",
    "        \n",
    "        # --- Molecule branch GCN layers ---\n",
    "        self.mol_conv1 = GCNConv(num_features_mol, num_features_mol)\n",
    "        # Set GCN2 to output 'output_dim' so that both branches share the same dimension.\n",
    "        self.mol_conv2 = GCNConv(num_features_mol, 156)\n",
    "        # GCN3 will process the updated features; input dim = output_dim.\n",
    "        self.mol_conv3 = GCNConv(156, num_features_mol*4)\n",
    "        \n",
    "        self.mol_fc_g1 = nn.Linear(num_features_mol*4, 1024)\n",
    "        self.mol_fc_g2 = nn.Linear(1024, output_dim)\n",
    "        \n",
    "        # --- Protein branch GCN layers ---\n",
    "        self.pro_conv1 = GCNConv(num_features_pro, num_features_pro)\n",
    "        self.pro_conv2 = GCNConv(num_features_pro, 156)\n",
    "        self.pro_conv3 = GCNConv(156, num_features_pro*4)\n",
    "        \n",
    "        self.pro_fc_g1 = nn.Linear(num_features_pro*4, 1024)\n",
    "        self.pro_fc_g2 = nn.Linear(1024, output_dim)\n",
    "        \n",
    "        self.relu = nn.ReLU()\n",
    "        self.dropout = nn.Dropout(dropout)\n",
    "        \n",
    "        # --- Bidirectional Cross-Attention ---\n",
    "        # Now the node features from both branches are already in R^(output_dim)\n",
    "        self.cross_attn = BidirectionalCrossAttention(embed_dim=156, num_heads=4)\n",
    "        \n",
    "        # --- Combined FC layers ---\n",
    "        self.fc1 = nn.Linear(2 * output_dim, 1024)\n",
    "        self.fc2 = nn.Linear(1024, 512)\n",
    "        self.out = nn.Linear(512, self.n_output)\n",
    "\n",
    "    def forward(self, data_mol, data_pro):\n",
    "        # Unpack molecule graph data\n",
    "        mol_x, mol_edge_index, mol_batch = data_mol.x, data_mol.edge_index, data_mol.batch\n",
    "        # Unpack protein graph data\n",
    "        target_x, target_edge_index, target_batch = data_pro.x, data_pro.edge_index, data_pro.batch\n",
    "\n",
    "        # --- Molecule branch: GCN1 -> GCN2 ---\n",
    "        x = self.mol_conv1(mol_x, mol_edge_index)\n",
    "        x = self.relu(x)\n",
    "        x = self.mol_conv2(x, mol_edge_index)\n",
    "        x = self.relu(x)\n",
    "        # x now has shape: [total_mol_nodes, output_dim]\n",
    "        \n",
    "        # --- Protein branch: GCN1 -> GCN2 ---\n",
    "        xt = self.pro_conv1(target_x, target_edge_index)\n",
    "        xt = self.relu(xt)\n",
    "        xt = self.pro_conv2(xt, target_edge_index)\n",
    "        xt = self.relu(xt)\n",
    "        # xt now has shape: [total_pro_nodes, output_dim]\n",
    "        \n",
    "        # --- Apply bidirectional cross-attention ---\n",
    "        # The cross-attention module uses batch indices to ensure nodes only attend to nodes from the same sample.\n",
    "        Xnew, XtNew = self.cross_attn(x, xt, mol_batch, target_batch)\n",
    "        \n",
    "        # --- Continue with third GCN layer using the updated features ---\n",
    "        x_updated = self.mol_conv3(Xnew, mol_edge_index)\n",
    "        x_updated = self.relu(x_updated)\n",
    "        x_pooled = gep(x_updated, mol_batch)  # Global pooling for molecule graphs\n",
    "        \n",
    "        xt_updated = self.pro_conv3(XtNew, target_edge_index)\n",
    "        xt_updated = self.relu(xt_updated)\n",
    "        xt_pooled = gep(xt_updated, target_batch)  # Global pooling for protein graphs\n",
    "        \n",
    "        # --- Flatten branch outputs through FC layers ---\n",
    "        x_final = self.mol_fc_g2(self.relu(self.mol_fc_g1(x_pooled)))\n",
    "        x_final = self.dropout(x_final)\n",
    "        xt_final = self.pro_fc_g2(self.relu(self.pro_fc_g1(xt_pooled)))\n",
    "        xt_final = self.dropout(xt_final)\n",
    "        \n",
    "        # --- Concatenate and apply combined FC layers ---\n",
    "        xc = torch.cat((x_final, xt_final), dim=1)\n",
    "        xc = self.fc1(xc)\n",
    "        xc = self.relu(xc)\n",
    "        xc = self.dropout(xc)\n",
    "        xc = self.fc2(xc)\n",
    "        xc = self.relu(xc)\n",
    "        xc = self.dropout(xc)\n",
    "        out = self.out(xc)\n",
    "        \n",
    "        return out\n",
    "\n",
    "##############################################################################\n",
    "#                   3. DATA LOADING HELPERS\n",
    "##############################################################################\n",
    "\n",
    "warnings.filterwarnings('ignore', category=FutureWarning)\n",
    "\n",
    "def load_sample(path):\n",
    "    \"\"\"\n",
    "    Load a .pt sample, fix up 'x' and 'edge_index', return (mol_data, pro_data, target).\n",
    "    \"\"\"\n",
    "    sample = torch.load(path)\n",
    "    mol_data, pro_data, target = sample[0], sample[1], sample[2]\n",
    "\n",
    "    # Convert dict to Data if needed\n",
    "    if isinstance(mol_data, dict):\n",
    "        mol_data = Data(**mol_data)\n",
    "    if isinstance(pro_data, dict):\n",
    "        pro_data = Data(**pro_data)\n",
    "\n",
    "    # Fix x\n",
    "    if not hasattr(mol_data, 'x') or mol_data.x is None:\n",
    "        if hasattr(mol_data, 'features'):\n",
    "            mol_data.x = mol_data.features\n",
    "            del mol_data.features\n",
    "        else:\n",
    "            raise ValueError(\"mol_data missing 'x' or 'features'\")\n",
    "    if not hasattr(pro_data, 'x') or pro_data.x is None:\n",
    "        if hasattr(pro_data, 'features'):\n",
    "            pro_data.x = pro_data.features\n",
    "            del pro_data.features\n",
    "        else:\n",
    "            raise ValueError(\"pro_data missing 'x' or 'features'\")\n",
    "\n",
    "    mol_data.x = torch.as_tensor(mol_data.x, dtype=torch.float32)\n",
    "    pro_data.x = torch.as_tensor(pro_data.x, dtype=torch.float32)\n",
    "\n",
    "    # Fix edge_index\n",
    "    def fix_edge_index(d):\n",
    "        if not isinstance(d.edge_index, torch.Tensor):\n",
    "            d.edge_index = torch.tensor(d.edge_index, dtype=torch.long)\n",
    "        else:\n",
    "            d.edge_index = d.edge_index.long()\n",
    "        if d.edge_index.shape[0] != 2:\n",
    "            d.edge_index = d.edge_index.t()\n",
    "        d.num_nodes = d.x.size(0)\n",
    "\n",
    "    fix_edge_index(mol_data)\n",
    "    fix_edge_index(pro_data)\n",
    "\n",
    "    return (mol_data, pro_data, target)\n",
    "\n",
    "def batch_loader(file_list, sample_dir, batch_size):\n",
    "    \"\"\"\n",
    "    Yields batches of (mol_data, pro_data, target) from file_list.\n",
    "    \"\"\"\n",
    "    batch = []\n",
    "    for file_name in file_list:\n",
    "        path = os.path.join(sample_dir, file_name)\n",
    "        sample = load_sample(path)\n",
    "        batch.append(sample)\n",
    "        if len(batch) == batch_size:\n",
    "            yield batch\n",
    "            batch = []\n",
    "    if batch:\n",
    "        yield batch\n",
    "\n",
    "##############################################################################\n",
    "#              4. TRAINING / EVALUATION WITH METRICS EACH EPOCH\n",
    "##############################################################################\n",
    "\n",
    "import os\n",
    "import torch\n",
    "\n",
    "def train_and_evaluate(sample_dir, num_epochs=10, test_size=0.2, lr=0.001):\n",
    "    \"\"\"\n",
    "    Trains the GNN model, evaluates on train & test each epoch, saves metrics + checkpoints.\n",
    "    \"\"\"\n",
    "    device = torch.device('cuda' if torch.cuda.is_available() else 'cpu')\n",
    "    print(f\"Running on {device}.\")\n",
    "\n",
    "    # Gather samples\n",
    "    sample_files = [f for f in os.listdir(sample_dir) if f.endswith('.pt')]\n",
    "    assert len(sample_files) > 0, \"No .pt files found in sample_dir!\"\n",
    "\n",
    "    # Split\n",
    "    train_files, test_files = train_test_split(sample_files, test_size=test_size, random_state=42)\n",
    "\n",
    "    # Make checkpoint dir\n",
    "    training_model_dir = os.path.join(os.getcwd(), 'TrainingModel1')\n",
    "    os.makedirs(training_model_dir, exist_ok=True)\n",
    "    print(f\"Checkpoints will be saved to: {training_model_dir}\")\n",
    "\n",
    "    metrics_path = os.path.join(training_model_dir, \"training_metrics.pt\")\n",
    "\n",
    "    # Load existing metrics if available (Ensures metrics continue from previous runs)\n",
    "    if os.path.exists(metrics_path):\n",
    "        saved_metrics = torch.load(metrics_path)\n",
    "        train_metrics = saved_metrics['train_metrics']\n",
    "        test_metrics = saved_metrics['test_metrics']\n",
    "        print(\"Loaded previous training metrics!\")\n",
    "    else:\n",
    "        train_metrics = {'epoch': [], 'mse': [], 'ci': [], 'pearson': []}\n",
    "        test_metrics = {'epoch': [], 'mse': [], 'ci': [], 'pearson': []}\n",
    "        print(\"Starting fresh metrics tracking.\")\n",
    "\n",
    "    # Infer input dims from one sample\n",
    "    sample0 = load_sample(os.path.join(sample_dir, train_files[0]))\n",
    "    mol_data0, pro_data0 = sample0[0], sample0[1]\n",
    "    num_features_mol = mol_data0.x.size(1)\n",
    "    num_features_pro = pro_data0.x.size(1)\n",
    "\n",
    "    # Initialize model\n",
    "    model = GNNNet(num_features_mol=num_features_mol,\n",
    "                   num_features_pro=num_features_pro).to(device)\n",
    "    optimizer = optim.Adam(model.parameters(), lr=lr)\n",
    "    loss_fn = MSELoss()\n",
    "\n",
    "    # Possibly resume from checkpoint\n",
    "    start_epoch = 1\n",
    "    existing_checkpoints = [\n",
    "        f for f in os.listdir(training_model_dir)\n",
    "        if f.endswith('.pt') and f.startswith('model_epoch')\n",
    "    ]\n",
    "    last_ckpt_path = None  # Track previous checkpoint for deletion\n",
    "\n",
    "    if existing_checkpoints:\n",
    "        latest_ckpt = max(existing_checkpoints, key=lambda x: int(x.split('_epoch')[1].split('.pt')[0]))\n",
    "        ckpt_path = os.path.join(training_model_dir, latest_ckpt)\n",
    "        print(f\"Loading checkpoint from {ckpt_path}\")\n",
    "        ckpt = torch.load(ckpt_path, map_location=device)\n",
    "        model.load_state_dict(ckpt['model_state_dict'])\n",
    "        optimizer.load_state_dict(ckpt['optimizer_state_dict'])\n",
    "        loaded_epoch = ckpt['epoch']\n",
    "        start_epoch = loaded_epoch + 1\n",
    "        last_ckpt_path = ckpt_path  # Store last checkpoint path for deletion\n",
    "        print(f\"Resuming from epoch {start_epoch}\")\n",
    "    else:\n",
    "        print(\"No existing checkpoint found; starting fresh.\")\n",
    "\n",
    "    @torch.no_grad()\n",
    "    def evaluate(files):\n",
    "        model.eval()\n",
    "        all_preds = []\n",
    "        all_targets = []\n",
    "        batch_eval_size = 200\n",
    "        for batch_samples in batch_loader(files, sample_dir, batch_eval_size):\n",
    "            mol_list, pro_list, tgt_list = [], [], []\n",
    "            for (md, pd, t) in batch_samples:\n",
    "                mol_list.append(md)\n",
    "                pro_list.append(pd)\n",
    "                tgt_list.append(t)\n",
    "\n",
    "            mol_batch = Batch.from_data_list(mol_list).to(device)\n",
    "            pro_batch = Batch.from_data_list(pro_list).to(device)\n",
    "            t_tensor = torch.tensor(tgt_list, dtype=torch.float32, device=device)\n",
    "\n",
    "            out = model(mol_batch, pro_batch).view(-1)\n",
    "            all_preds.append(out)\n",
    "            all_targets.append(t_tensor)\n",
    "\n",
    "        all_preds = torch.cat(all_preds, dim=0)\n",
    "        all_targets = torch.cat(all_targets, dim=0)\n",
    "\n",
    "        mse_val = mse_torch(all_preds, all_targets)\n",
    "        ci_val = ci_vectorized(all_preds, all_targets)\n",
    "        pearson_val = pearson_torch(all_preds, all_targets)\n",
    "        return mse_val, ci_val, pearson_val\n",
    "\n",
    "    # Training loop\n",
    "    batch_size = 60\n",
    "    for epoch in tqdm(range(start_epoch, num_epochs + 1), desc=\"Training\", unit=\"epoch\"):\n",
    "        model.train()\n",
    "        running_loss = 0.0\n",
    "\n",
    "        for batch_samples in batch_loader(train_files, sample_dir, batch_size):\n",
    "            mol_list, pro_list, tgt_list = [], [], []\n",
    "            for (md, pd, t) in batch_samples:\n",
    "                mol_list.append(md)\n",
    "                pro_list.append(pd)\n",
    "                tgt_list.append(t)\n",
    "\n",
    "            mol_batch = Batch.from_data_list(mol_list).to(device)\n",
    "            pro_batch = Batch.from_data_list(pro_list).to(device)\n",
    "            t_tensor = torch.tensor(tgt_list, dtype=torch.float32, device=device).view(-1)\n",
    "\n",
    "            optimizer.zero_grad()\n",
    "            out = model(mol_batch, pro_batch).view(-1)\n",
    "            loss = loss_fn(out, t_tensor)\n",
    "            loss.backward()\n",
    "            optimizer.step()\n",
    "\n",
    "            running_loss += loss.item() * len(batch_samples)\n",
    "\n",
    "        avg_loss = running_loss / len(train_files)\n",
    "        tqdm.write(f\"[Epoch {epoch}/{num_epochs}] Training Loss: {avg_loss:.4f}\")\n",
    "\n",
    "        # Evaluate on train & test\n",
    "        train_mse, train_ci, train_pearson = evaluate(train_files)\n",
    "        test_mse, test_ci, test_pearson = evaluate(test_files)\n",
    "\n",
    "        train_metrics['epoch'].append(epoch)\n",
    "        train_metrics['mse'].append(train_mse)\n",
    "        train_metrics['ci'].append(train_ci)\n",
    "        train_metrics['pearson'].append(train_pearson)\n",
    "\n",
    "        test_metrics['epoch'].append(epoch)\n",
    "        test_metrics['mse'].append(test_mse)\n",
    "        test_metrics['ci'].append(test_ci)\n",
    "        test_metrics['pearson'].append(test_pearson)\n",
    "\n",
    "        tqdm.write(f\"  Train => MSE={train_mse:.4f}, CI={train_ci:.4f}, Pearson={train_pearson:.4f}\")\n",
    "        tqdm.write(f\"  Test  => MSE={test_mse:.4f}, CI={test_ci:.4f}, Pearson={test_pearson:.4f}\")\n",
    "\n",
    "        # Save new checkpoint\n",
    "        ckpt_name = f\"model_epoch{epoch}.pt\"\n",
    "        ckpt_path = os.path.join(training_model_dir, ckpt_name)\n",
    "        torch.save({\n",
    "            'epoch': epoch,\n",
    "            'model_state_dict': model.state_dict(),\n",
    "            'optimizer_state_dict': optimizer.state_dict(),\n",
    "        }, ckpt_path)\n",
    "        tqdm.write(f\"Checkpoint saved at epoch {epoch}\")\n",
    "\n",
    "        # Delete the previous checkpoint after saving the new one\n",
    "        if last_ckpt_path and os.path.exists(last_ckpt_path):\n",
    "            os.remove(last_ckpt_path)\n",
    "            tqdm.write(f\"Deleted previous checkpoint: {last_ckpt_path}\")\n",
    "\n",
    "        # Update last checkpoint path\n",
    "        last_ckpt_path = ckpt_path\n",
    "\n",
    "        # Save/Update the metrics after each epoch\n",
    "        torch.save({\n",
    "            'train_metrics': train_metrics,\n",
    "            'test_metrics': test_metrics\n",
    "        }, metrics_path)\n",
    "\n",
    "    # Final evaluations\n",
    "    final_train_mse, final_train_ci, final_train_pearson = evaluate(train_files)\n",
    "    final_test_mse, final_test_ci, final_test_pearson = evaluate(test_files)\n",
    "    print(f\"\\nFinal Train => MSE={final_train_mse:.4f}, CI={final_train_ci:.4f}, Pearson={final_train_pearson:.4f}\")\n",
    "    print(f\"Final Test  => MSE={final_test_mse:.4f}, CI={final_test_ci:.4f}, Pearson={final_test_pearson:.4f}\")\n",
    "\n",
    "    # Save final metrics\n",
    "    torch.save({\n",
    "        'train_metrics': train_metrics,\n",
    "        'test_metrics': test_metrics\n",
    "    }, metrics_path)\n",
    "    print(f\"Metrics saved to {metrics_path}\")\n",
    "\n",
    "    return train_metrics, test_metrics\n",
    "\n",
    "\n",
    "##############################################################################\n",
    "#               5. OPTIONAL: PLOT THE SAVED METRICS\n",
    "##############################################################################\n",
    "\n",
    "def plot_metrics(checkpoint_dir='TrainingModel1'):\n",
    "    \"\"\"\n",
    "    Load training_metrics.pt from the checkpoint_dir and plot MSE, CI, Pearson over epochs.\n",
    "    \"\"\"\n",
    "    metrics_path = os.path.join(checkpoint_dir, \"training_metrics.pt\")\n",
    "    if not os.path.exists(metrics_path):\n",
    "        print(f\"No metrics file found at {metrics_path}!\")\n",
    "        return\n",
    "\n",
    "    saved_data = torch.load(metrics_path)\n",
    "    train_metrics = saved_data['train_metrics']\n",
    "    test_metrics = saved_data['test_metrics']\n",
    "    epochs = train_metrics['epoch']\n",
    "\n",
    "    # Plot MSE\n",
    "    plt.figure(figsize=(8, 6))\n",
    "    plt.plot(epochs, train_metrics['mse'], 'o-', label='Train MSE')\n",
    "    plt.plot(epochs, test_metrics['mse'], 'o-', label='Test MSE')\n",
    "    plt.xlabel('Epoch')\n",
    "    plt.ylabel('MSE')\n",
    "    plt.title('Mean Squared Error over Epochs')\n",
    "    plt.legend()\n",
    "    plt.savefig(os.path.join(checkpoint_dir, \"MSE_plot.png\"))  \n",
    "    plt.show()\n",
    "\n",
    "    # Plot CI\n",
    "    plt.figure(figsize=(8, 6))\n",
    "    plt.plot(epochs, train_metrics['ci'], 'o-', label='Train CI')\n",
    "    plt.plot(epochs, test_metrics['ci'], 'o-', label='Test CI')\n",
    "    plt.xlabel('Epoch')\n",
    "    plt.ylabel('Concordance Index')\n",
    "    plt.title('CI over Epochs')\n",
    "    plt.legend()\n",
    "    plt.savefig(os.path.join(checkpoint_dir, \"CI_plot.png\"))  \n",
    "    plt.show()\n",
    "\n",
    "    # Plot Pearson\n",
    "    plt.figure(figsize=(8, 6))\n",
    "    plt.plot(epochs, train_metrics['pearson'], 'o-', label='Train Pearson')\n",
    "    plt.plot(epochs, test_metrics['pearson'], 'o-', label='Test Pearson')\n",
    "    plt.xlabel('Epoch')\n",
    "    plt.ylabel('Pearson Correlation')\n",
    "    plt.title('Pearson Correlation over Epochs')\n",
    "    plt.legend()\n",
    "    plt.savefig(os.path.join(checkpoint_dir, \"PEARSON_plot.png\"))  \n",
    "    plt.show()\n",
    "\n",
    "##############################################################################\n",
    "#                                 MAIN\n",
    "##############################################################################\n",
    "\n",
    "if __name__ == \"__main__\":\n",
    "    # Adjust the paths/parameters as needed\n",
    "    SAMPLE_DIR = \"prepared_samples\"   # Directory with your .pt samples\n",
    "    NUM_EPOCHS = 250\n",
    "    TEST_SPLIT = 0.2\n",
    "    LR = 0.001\n",
    "\n",
    "    # 1) Train and evaluate\n",
    "    train_metrics, test_metrics = train_and_evaluate(\n",
    "        sample_dir=SAMPLE_DIR,\n",
    "        num_epochs=NUM_EPOCHS,\n",
    "        test_size=TEST_SPLIT,\n",
    "        lr=LR\n",
    "    )\n",
    "\n",
    "    # 2) Plot the metrics\n",
    "    plot_metrics('TrainingModel1')\n",
    "\n"
   ]
  },
  {
   "cell_type": "code",
   "execution_count": null,
   "id": "dca672b6",
   "metadata": {
    "papermill": {
     "duration": 0.201336,
     "end_time": "2025-02-05T17:49:37.727000",
     "exception": false,
     "start_time": "2025-02-05T17:49:37.525664",
     "status": "completed"
    },
    "tags": []
   },
   "outputs": [],
   "source": []
  }
 ],
 "metadata": {
  "kaggle": {
   "accelerator": "gpu",
   "dataSources": [
    {
     "datasetId": 6585052,
     "sourceId": 10635698,
     "sourceType": "datasetVersion"
    },
    {
     "datasetId": 6590451,
     "sourceId": 10643825,
     "sourceType": "datasetVersion"
    },
    {
     "datasetId": 6590542,
     "sourceId": 10643954,
     "sourceType": "datasetVersion"
    },
    {
     "datasetId": 6604534,
     "sourceId": 10664136,
     "sourceType": "datasetVersion"
    }
   ],
   "dockerImageVersionId": 30840,
   "isGpuEnabled": true,
   "isInternetEnabled": true,
   "language": "python",
   "sourceType": "notebook"
  },
  "kernelspec": {
   "display_name": "Python 3 (ipykernel)",
   "language": "python",
   "name": "python3"
  },
  "language_info": {
   "codemirror_mode": {
    "name": "ipython",
    "version": 3
   },
   "file_extension": ".py",
   "mimetype": "text/x-python",
   "name": "python",
   "nbconvert_exporter": "python",
   "pygments_lexer": "ipython3",
   "version": "3.12.4"
  },
  "papermill": {
   "default_parameters": {},
   "duration": 32191.291517,
   "end_time": "2025-02-05T17:49:39.881495",
   "environment_variables": {},
   "exception": null,
   "input_path": "__notebook__.ipynb",
   "output_path": "__notebook__.ipynb",
   "parameters": {},
   "start_time": "2025-02-05T08:53:08.589978",
   "version": "2.6.0"
  }
 },
 "nbformat": 4,
 "nbformat_minor": 5
}
