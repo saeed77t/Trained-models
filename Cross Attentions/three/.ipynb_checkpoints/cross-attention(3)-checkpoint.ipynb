{
 "cells": [
  {
   "cell_type": "code",
   "execution_count": 1,
   "id": "11c0f6e3",
   "metadata": {
    "_cell_guid": "b1076dfc-b9ad-4769-8c92-a6c4dae69d19",
    "_uuid": "8f2839f25d086af736a60e9eeb907d3b93b6e0e5",
    "execution": {
     "iopub.execute_input": "2025-02-05T21:08:04.751850Z",
     "iopub.status.busy": "2025-02-05T21:08:04.751501Z",
     "iopub.status.idle": "2025-02-05T21:08:10.275137Z",
     "shell.execute_reply": "2025-02-05T21:08:10.274242Z"
    },
    "papermill": {
     "duration": 5.529083,
     "end_time": "2025-02-05T21:08:10.276922",
     "exception": false,
     "start_time": "2025-02-05T21:08:04.747839",
     "status": "completed"
    },
    "tags": []
   },
   "outputs": [
    {
     "name": "stdout",
     "output_type": "stream",
     "text": [
      "Collecting torch-geometric\r\n",
      "  Downloading torch_geometric-2.6.1-py3-none-any.whl.metadata (63 kB)\r\n",
      "\u001b[2K     \u001b[90m━━━━━━━━━━━━━━━━━━━━━━━━━━━━━━━━━━━━━━━━\u001b[0m \u001b[32m63.1/63.1 kB\u001b[0m \u001b[31m2.2 MB/s\u001b[0m eta \u001b[36m0:00:00\u001b[0m\r\n",
      "\u001b[?25hRequirement already satisfied: aiohttp in /usr/local/lib/python3.10/dist-packages (from torch-geometric) (3.11.10)\r\n",
      "Requirement already satisfied: fsspec in /usr/local/lib/python3.10/dist-packages (from torch-geometric) (2024.9.0)\r\n",
      "Requirement already satisfied: jinja2 in /usr/local/lib/python3.10/dist-packages (from torch-geometric) (3.1.4)\r\n",
      "Requirement already satisfied: numpy in /usr/local/lib/python3.10/dist-packages (from torch-geometric) (1.26.4)\r\n",
      "Requirement already satisfied: psutil>=5.8.0 in /usr/local/lib/python3.10/dist-packages (from torch-geometric) (5.9.5)\r\n",
      "Requirement already satisfied: pyparsing in /usr/local/lib/python3.10/dist-packages (from torch-geometric) (3.2.0)\r\n",
      "Requirement already satisfied: requests in /usr/local/lib/python3.10/dist-packages (from torch-geometric) (2.32.3)\r\n",
      "Requirement already satisfied: tqdm in /usr/local/lib/python3.10/dist-packages (from torch-geometric) (4.67.1)\r\n",
      "Requirement already satisfied: aiohappyeyeballs>=2.3.0 in /usr/local/lib/python3.10/dist-packages (from aiohttp->torch-geometric) (2.4.4)\r\n",
      "Requirement already satisfied: aiosignal>=1.1.2 in /usr/local/lib/python3.10/dist-packages (from aiohttp->torch-geometric) (1.3.2)\r\n",
      "Requirement already satisfied: async-timeout<6.0,>=4.0 in /usr/local/lib/python3.10/dist-packages (from aiohttp->torch-geometric) (4.0.3)\r\n",
      "Requirement already satisfied: attrs>=17.3.0 in /usr/local/lib/python3.10/dist-packages (from aiohttp->torch-geometric) (24.3.0)\r\n",
      "Requirement already satisfied: frozenlist>=1.1.1 in /usr/local/lib/python3.10/dist-packages (from aiohttp->torch-geometric) (1.5.0)\r\n",
      "Requirement already satisfied: multidict<7.0,>=4.5 in /usr/local/lib/python3.10/dist-packages (from aiohttp->torch-geometric) (6.1.0)\r\n",
      "Requirement already satisfied: propcache>=0.2.0 in /usr/local/lib/python3.10/dist-packages (from aiohttp->torch-geometric) (0.2.1)\r\n",
      "Requirement already satisfied: yarl<2.0,>=1.17.0 in /usr/local/lib/python3.10/dist-packages (from aiohttp->torch-geometric) (1.18.3)\r\n",
      "Requirement already satisfied: MarkupSafe>=2.0 in /usr/local/lib/python3.10/dist-packages (from jinja2->torch-geometric) (3.0.2)\r\n",
      "Requirement already satisfied: mkl_fft in /usr/local/lib/python3.10/dist-packages (from numpy->torch-geometric) (1.3.8)\r\n",
      "Requirement already satisfied: mkl_random in /usr/local/lib/python3.10/dist-packages (from numpy->torch-geometric) (1.2.4)\r\n",
      "Requirement already satisfied: mkl_umath in /usr/local/lib/python3.10/dist-packages (from numpy->torch-geometric) (0.1.1)\r\n",
      "Requirement already satisfied: mkl in /usr/local/lib/python3.10/dist-packages (from numpy->torch-geometric) (2025.0.1)\r\n",
      "Requirement already satisfied: tbb4py in /usr/local/lib/python3.10/dist-packages (from numpy->torch-geometric) (2022.0.0)\r\n",
      "Requirement already satisfied: mkl-service in /usr/local/lib/python3.10/dist-packages (from numpy->torch-geometric) (2.4.1)\r\n",
      "Requirement already satisfied: charset-normalizer<4,>=2 in /usr/local/lib/python3.10/dist-packages (from requests->torch-geometric) (3.4.0)\r\n",
      "Requirement already satisfied: idna<4,>=2.5 in /usr/local/lib/python3.10/dist-packages (from requests->torch-geometric) (3.10)\r\n",
      "Requirement already satisfied: urllib3<3,>=1.21.1 in /usr/local/lib/python3.10/dist-packages (from requests->torch-geometric) (2.2.3)\r\n",
      "Requirement already satisfied: certifi>=2017.4.17 in /usr/local/lib/python3.10/dist-packages (from requests->torch-geometric) (2024.12.14)\r\n",
      "Requirement already satisfied: typing-extensions>=4.1.0 in /usr/local/lib/python3.10/dist-packages (from multidict<7.0,>=4.5->aiohttp->torch-geometric) (4.12.2)\r\n",
      "Requirement already satisfied: intel-openmp>=2024 in /usr/local/lib/python3.10/dist-packages (from mkl->numpy->torch-geometric) (2024.2.0)\r\n",
      "Requirement already satisfied: tbb==2022.* in /usr/local/lib/python3.10/dist-packages (from mkl->numpy->torch-geometric) (2022.0.0)\r\n",
      "Requirement already satisfied: tcmlib==1.* in /usr/local/lib/python3.10/dist-packages (from tbb==2022.*->mkl->numpy->torch-geometric) (1.2.0)\r\n",
      "Requirement already satisfied: intel-cmplr-lib-rt in /usr/local/lib/python3.10/dist-packages (from mkl_umath->numpy->torch-geometric) (2024.2.0)\r\n",
      "Requirement already satisfied: intel-cmplr-lib-ur==2024.2.0 in /usr/local/lib/python3.10/dist-packages (from intel-openmp>=2024->mkl->numpy->torch-geometric) (2024.2.0)\r\n",
      "Downloading torch_geometric-2.6.1-py3-none-any.whl (1.1 MB)\r\n",
      "\u001b[2K   \u001b[90m━━━━━━━━━━━━━━━━━━━━━━━━━━━━━━━━━━━━━━━━\u001b[0m \u001b[32m1.1/1.1 MB\u001b[0m \u001b[31m20.7 MB/s\u001b[0m eta \u001b[36m0:00:00\u001b[0m\r\n",
      "\u001b[?25hInstalling collected packages: torch-geometric\r\n",
      "Successfully installed torch-geometric-2.6.1\r\n"
     ]
    }
   ],
   "source": [
    "!pip install torch-geometric"
   ]
  },
  {
   "cell_type": "code",
   "execution_count": 2,
   "id": "9f71c146",
   "metadata": {
    "execution": {
     "iopub.execute_input": "2025-02-05T21:08:10.284152Z",
     "iopub.status.busy": "2025-02-05T21:08:10.283903Z",
     "iopub.status.idle": "2025-02-05T21:09:26.461203Z",
     "shell.execute_reply": "2025-02-05T21:09:26.459931Z"
    },
    "papermill": {
     "duration": 76.182691,
     "end_time": "2025-02-05T21:09:26.462997",
     "exception": false,
     "start_time": "2025-02-05T21:08:10.280306",
     "status": "completed"
    },
    "tags": []
   },
   "outputs": [
    {
     "name": "stderr",
     "output_type": "stream",
     "text": [
      "<ipython-input-2-c90b9d14e3c5>:16: FutureWarning: You are using `torch.load` with `weights_only=False` (the current default value), which uses the default pickle module implicitly. It is possible to construct malicious pickle data which will execute arbitrary code during unpickling (See https://github.com/pytorch/pytorch/blob/main/SECURITY.md#untrusted-models for more details). In a future release, the default value for `weights_only` will be flipped to `True`. This limits the functions that could be executed during unpickling. Arbitrary objects will no longer be allowed to be loaded via this mode unless they are explicitly allowlisted by the user via `torch.serialization.add_safe_globals`. We recommend you start setting `weights_only=True` for any use case where you don't have full control of the loaded file. Please open an issue on GitHub for any issues related to this experimental feature.\n",
      "  return torch.load(path)\n"
     ]
    },
    {
     "name": "stdout",
     "output_type": "stream",
     "text": [
      "Saved sample 0 as prepared_samples/sample_0.pt\n"
     ]
    },
    {
     "name": "stderr",
     "output_type": "stream",
     "text": [
      "<ipython-input-2-c90b9d14e3c5>:16: FutureWarning: You are using `torch.load` with `weights_only=False` (the current default value), which uses the default pickle module implicitly. It is possible to construct malicious pickle data which will execute arbitrary code during unpickling (See https://github.com/pytorch/pytorch/blob/main/SECURITY.md#untrusted-models for more details). In a future release, the default value for `weights_only` will be flipped to `True`. This limits the functions that could be executed during unpickling. Arbitrary objects will no longer be allowed to be loaded via this mode unless they are explicitly allowlisted by the user via `torch.serialization.add_safe_globals`. We recommend you start setting `weights_only=True` for any use case where you don't have full control of the loaded file. Please open an issue on GitHub for any issues related to this experimental feature.\n",
      "  return torch.load(path)\n"
     ]
    },
    {
     "name": "stdout",
     "output_type": "stream",
     "text": [
      "Saved sample 10000 as prepared_samples/sample_10000.pt\n",
      "Dataset preparation completed.\n"
     ]
    }
   ],
   "source": [
    "#create samples :\n",
    "import os\n",
    "import torch\n",
    "import pickle\n",
    "import pandas as pd\n",
    "\n",
    "def load_graph(path, is_pickle=True):\n",
    "    \"\"\"\n",
    "    Load a molecule graph (.pkl) or a protein graph (.pt).\n",
    "    If is_pickle is True, use pickle to load the file; otherwise, use torch.load.\n",
    "    \"\"\"\n",
    "    if is_pickle:\n",
    "        with open(path, 'rb') as f:\n",
    "            return pickle.load(f)\n",
    "    else:\n",
    "        return torch.load(path)\n",
    "\n",
    "def prepare_dataset_individual_save_as_pt(filtered_dataset, molecule_graph_dir, protein_graph_dir, output_dir):\n",
    "    \"\"\"\n",
    "    Incrementally prepares the dataset and saves each (molecule, protein, target) tuple as a separate .pt file.\n",
    "\n",
    "    Args:\n",
    "    - filtered_dataset: The filtered KIBA dataset (DataFrame).\n",
    "    - molecule_graph_dir: Directory where molecule graphs are stored.\n",
    "    - protein_graph_dir: Directory where protein graphs are stored.\n",
    "    - output_dir: Directory to save the prepared dataset incrementally.\n",
    "    \"\"\"\n",
    "    if not os.path.exists(output_dir):\n",
    "        os.makedirs(output_dir)\n",
    "\n",
    "    for index, row in filtered_dataset.iterrows():\n",
    "        protein_id = row['Target_ID']\n",
    "        chembl_id = row['Drug_ID']\n",
    "\n",
    "        # Load the protein graph (.pt)\n",
    "        pro_graph_path = os.path.join(protein_graph_dir, f\"{protein_id}_graph.pt\")\n",
    "        if not os.path.exists(pro_graph_path):\n",
    "            print(f\"Protein graph not found: {protein_id}\")\n",
    "            continue\n",
    "        pro_graph = load_graph(pro_graph_path, is_pickle=False)\n",
    "\n",
    "        # Load the molecule graph (.pkl)\n",
    "        mol_graph_path = os.path.join(molecule_graph_dir, f\"{chembl_id}_graph.pkl\")\n",
    "        if not os.path.exists(mol_graph_path):\n",
    "            print(f\"Molecule graph not found: {chembl_id}\")\n",
    "            continue\n",
    "        mol_graph = load_graph(mol_graph_path)\n",
    "\n",
    "        # Load target (affinity value)\n",
    "        target = torch.tensor([row['Y']], dtype=torch.float)\n",
    "\n",
    "        # Create the sample as a tuple (molecule graph, protein graph, target)\n",
    "        sample = (mol_graph, pro_graph, target)\n",
    "\n",
    "        # Save the sample as a .pt file\n",
    "        sample_path = os.path.join(output_dir, f\"sample_{index}.pt\")\n",
    "        torch.save(sample, sample_path)\n",
    "\n",
    "        if(index%10000 == 0 ):\n",
    "            print(f\"Saved sample {index} as {sample_path}\")\n",
    "\n",
    "\n",
    "\n",
    "\n",
    "# Example usage for individual saving\n",
    "molecule_graph_dir = '/kaggle/input/graphs/molecule_graphs'  # Directory where molecule graphs are stored\n",
    "protein_graph_dir = '/kaggle/input/graphs/ProteinGraphs'  # Directory where protein graphs are stored\n",
    "filtered_dataset_path = '/kaggle/input/graphs/filtered_DavisDataSet.csv'  # Path to the filtered dataset CSV\n",
    "output_dir = 'prepared_samples/'  # Directory to save individual samples\n",
    "\n",
    "# Load filtered dataset CSV\n",
    "filtered_dataset = pd.read_csv(filtered_dataset_path)\n",
    "\n",
    "# Prepare the dataset incrementally, saving each sample as a .pt file\n",
    "prepare_dataset_individual_save_as_pt(filtered_dataset, molecule_graph_dir, protein_graph_dir, output_dir)\n",
    "\n",
    "print(\"Dataset preparation completed.\")\n"
   ]
  },
  {
   "cell_type": "code",
   "execution_count": 3,
   "id": "bfdc2526",
   "metadata": {
    "execution": {
     "iopub.execute_input": "2025-02-05T21:09:26.475444Z",
     "iopub.status.busy": "2025-02-05T21:09:26.475002Z",
     "iopub.status.idle": "2025-02-06T05:55:23.845107Z",
     "shell.execute_reply": "2025-02-06T05:55:23.844127Z"
    },
    "papermill": {
     "duration": 31557.378414,
     "end_time": "2025-02-06T05:55:23.846804",
     "exception": false,
     "start_time": "2025-02-05T21:09:26.468390",
     "status": "completed"
    },
    "tags": []
   },
   "outputs": [
    {
     "name": "stdout",
     "output_type": "stream",
     "text": [
      "Running on cuda.\n",
      "Checkpoints will be saved to: /kaggle/working/TrainingModel1\n",
      "Starting fresh metrics tracking.\n",
      "GNNNet Loaded\n",
      "No existing checkpoint found; starting fresh.\n"
     ]
    },
    {
     "name": "stderr",
     "output_type": "stream",
     "text": [
      "Training:   0%|          | 0/250 [00:57<?, ?epoch/s]"
     ]
    },
    {
     "name": "stdout",
     "output_type": "stream",
     "text": [
      "[Epoch 1/250] Training Loss: 1.3372\n"
     ]
    },
    {
     "name": "stderr",
     "output_type": "stream",
     "text": [
      "Training:   0%|          | 1/250 [02:12<9:10:54, 132.75s/epoch]"
     ]
    },
    {
     "name": "stdout",
     "output_type": "stream",
     "text": [
      "  Train => MSE=0.6555, CI=0.6889, Pearson=0.3890\n",
      "  Test  => MSE=0.6226, CI=0.6763, Pearson=0.3228\n",
      "Checkpoint saved at epoch 1\n"
     ]
    },
    {
     "name": "stderr",
     "output_type": "stream",
     "text": [
      "Training:   0%|          | 1/250 [03:07<9:10:54, 132.75s/epoch]"
     ]
    },
    {
     "name": "stdout",
     "output_type": "stream",
     "text": [
      "[Epoch 2/250] Training Loss: 0.7744\n"
     ]
    },
    {
     "name": "stderr",
     "output_type": "stream",
     "text": [
      "Training:   1%|          | 2/250 [04:20<8:56:34, 129.81s/epoch]"
     ]
    },
    {
     "name": "stdout",
     "output_type": "stream",
     "text": [
      "  Train => MSE=0.6153, CI=0.7196, Pearson=0.4381\n",
      "  Test  => MSE=0.5997, CI=0.7041, Pearson=0.3622\n",
      "Checkpoint saved at epoch 2\n",
      "Deleted previous checkpoint: /kaggle/working/TrainingModel1/model_epoch1.pt\n"
     ]
    },
    {
     "name": "stderr",
     "output_type": "stream",
     "text": [
      "Training:   1%|          | 2/250 [05:14<8:56:34, 129.81s/epoch]"
     ]
    },
    {
     "name": "stdout",
     "output_type": "stream",
     "text": [
      "[Epoch 3/250] Training Loss: 0.7100\n"
     ]
    },
    {
     "name": "stderr",
     "output_type": "stream",
     "text": [
      "Training:   1%|          | 3/250 [06:26<8:47:43, 128.19s/epoch]"
     ]
    },
    {
     "name": "stdout",
     "output_type": "stream",
     "text": [
      "  Train => MSE=0.6020, CI=0.7383, Pearson=0.4661\n",
      "  Test  => MSE=0.5847, CI=0.7216, Pearson=0.3924\n",
      "Checkpoint saved at epoch 3\n",
      "Deleted previous checkpoint: /kaggle/working/TrainingModel1/model_epoch2.pt\n"
     ]
    },
    {
     "name": "stderr",
     "output_type": "stream",
     "text": [
      "Training:   1%|          | 3/250 [07:20<8:47:43, 128.19s/epoch]"
     ]
    },
    {
     "name": "stdout",
     "output_type": "stream",
     "text": [
      "[Epoch 4/250] Training Loss: 0.6910\n"
     ]
    },
    {
     "name": "stderr",
     "output_type": "stream",
     "text": [
      "Training:   2%|▏         | 4/250 [08:32<8:41:39, 127.23s/epoch]"
     ]
    },
    {
     "name": "stdout",
     "output_type": "stream",
     "text": [
      "  Train => MSE=0.5606, CI=0.7465, Pearson=0.5136\n",
      "  Test  => MSE=0.5494, CI=0.7304, Pearson=0.4510\n",
      "Checkpoint saved at epoch 4\n",
      "Deleted previous checkpoint: /kaggle/working/TrainingModel1/model_epoch3.pt\n"
     ]
    },
    {
     "name": "stderr",
     "output_type": "stream",
     "text": [
      "Training:   2%|▏         | 4/250 [09:26<8:41:39, 127.23s/epoch]"
     ]
    },
    {
     "name": "stdout",
     "output_type": "stream",
     "text": [
      "[Epoch 5/250] Training Loss: 0.6467\n"
     ]
    },
    {
     "name": "stderr",
     "output_type": "stream",
     "text": [
      "Training:   2%|▏         | 5/250 [10:38<8:37:09, 126.65s/epoch]"
     ]
    },
    {
     "name": "stdout",
     "output_type": "stream",
     "text": [
      "  Train => MSE=0.5663, CI=0.7507, Pearson=0.5123\n",
      "  Test  => MSE=0.5526, CI=0.7360, Pearson=0.4481\n",
      "Checkpoint saved at epoch 5\n",
      "Deleted previous checkpoint: /kaggle/working/TrainingModel1/model_epoch4.pt\n"
     ]
    },
    {
     "name": "stderr",
     "output_type": "stream",
     "text": [
      "Training:   2%|▏         | 5/250 [11:32<8:37:09, 126.65s/epoch]"
     ]
    },
    {
     "name": "stdout",
     "output_type": "stream",
     "text": [
      "[Epoch 6/250] Training Loss: 0.6500\n"
     ]
    },
    {
     "name": "stderr",
     "output_type": "stream",
     "text": [
      "Training:   2%|▏         | 6/250 [12:44<8:33:56, 126.38s/epoch]"
     ]
    },
    {
     "name": "stdout",
     "output_type": "stream",
     "text": [
      "  Train => MSE=0.5733, CI=0.7404, Pearson=0.5057\n",
      "  Test  => MSE=0.5600, CI=0.7238, Pearson=0.4368\n",
      "Checkpoint saved at epoch 6\n",
      "Deleted previous checkpoint: /kaggle/working/TrainingModel1/model_epoch5.pt\n"
     ]
    },
    {
     "name": "stderr",
     "output_type": "stream",
     "text": [
      "Training:   2%|▏         | 6/250 [13:38<8:33:56, 126.38s/epoch]"
     ]
    },
    {
     "name": "stdout",
     "output_type": "stream",
     "text": [
      "[Epoch 7/250] Training Loss: 0.6225\n"
     ]
    },
    {
     "name": "stderr",
     "output_type": "stream",
     "text": [
      "Training:   3%|▎         | 7/250 [14:49<8:30:54, 126.15s/epoch]"
     ]
    },
    {
     "name": "stdout",
     "output_type": "stream",
     "text": [
      "  Train => MSE=0.5616, CI=0.7532, Pearson=0.5252\n",
      "  Test  => MSE=0.5477, CI=0.7428, Pearson=0.4643\n",
      "Checkpoint saved at epoch 7\n",
      "Deleted previous checkpoint: /kaggle/working/TrainingModel1/model_epoch6.pt\n"
     ]
    },
    {
     "name": "stderr",
     "output_type": "stream",
     "text": [
      "Training:   3%|▎         | 7/250 [15:43<8:30:54, 126.15s/epoch]"
     ]
    },
    {
     "name": "stdout",
     "output_type": "stream",
     "text": [
      "[Epoch 8/250] Training Loss: 0.6212\n"
     ]
    },
    {
     "name": "stderr",
     "output_type": "stream",
     "text": [
      "Training:   3%|▎         | 8/250 [16:55<8:28:27, 126.07s/epoch]"
     ]
    },
    {
     "name": "stdout",
     "output_type": "stream",
     "text": [
      "  Train => MSE=0.5474, CI=0.7607, Pearson=0.5535\n",
      "  Test  => MSE=0.5312, CI=0.7471, Pearson=0.5022\n",
      "Checkpoint saved at epoch 8\n",
      "Deleted previous checkpoint: /kaggle/working/TrainingModel1/model_epoch7.pt\n"
     ]
    },
    {
     "name": "stderr",
     "output_type": "stream",
     "text": [
      "Training:   3%|▎         | 8/250 [17:49<8:28:27, 126.07s/epoch]"
     ]
    },
    {
     "name": "stdout",
     "output_type": "stream",
     "text": [
      "[Epoch 9/250] Training Loss: 0.6055\n"
     ]
    },
    {
     "name": "stderr",
     "output_type": "stream",
     "text": [
      "Training:   4%|▎         | 9/250 [19:01<8:25:47, 125.92s/epoch]"
     ]
    },
    {
     "name": "stdout",
     "output_type": "stream",
     "text": [
      "  Train => MSE=0.5803, CI=0.7680, Pearson=0.5387\n",
      "  Test  => MSE=0.5591, CI=0.7499, Pearson=0.4812\n",
      "Checkpoint saved at epoch 9\n",
      "Deleted previous checkpoint: /kaggle/working/TrainingModel1/model_epoch8.pt\n"
     ]
    },
    {
     "name": "stderr",
     "output_type": "stream",
     "text": [
      "Training:   4%|▎         | 9/250 [19:55<8:25:47, 125.92s/epoch]"
     ]
    },
    {
     "name": "stdout",
     "output_type": "stream",
     "text": [
      "[Epoch 10/250] Training Loss: 0.6060\n"
     ]
    },
    {
     "name": "stderr",
     "output_type": "stream",
     "text": [
      "Training:   4%|▍         | 10/250 [21:07<8:24:12, 126.05s/epoch]"
     ]
    },
    {
     "name": "stdout",
     "output_type": "stream",
     "text": [
      "  Train => MSE=0.5352, CI=0.7716, Pearson=0.5490\n",
      "  Test  => MSE=0.5245, CI=0.7526, Pearson=0.4921\n",
      "Checkpoint saved at epoch 10\n",
      "Deleted previous checkpoint: /kaggle/working/TrainingModel1/model_epoch9.pt\n"
     ]
    },
    {
     "name": "stderr",
     "output_type": "stream",
     "text": [
      "Training:   4%|▍         | 10/250 [22:01<8:24:12, 126.05s/epoch]"
     ]
    },
    {
     "name": "stdout",
     "output_type": "stream",
     "text": [
      "[Epoch 11/250] Training Loss: 0.5980\n"
     ]
    },
    {
     "name": "stderr",
     "output_type": "stream",
     "text": [
      "Training:   4%|▍         | 11/250 [23:13<8:21:38, 125.94s/epoch]"
     ]
    },
    {
     "name": "stdout",
     "output_type": "stream",
     "text": [
      "  Train => MSE=0.5670, CI=0.7682, Pearson=0.5681\n",
      "  Test  => MSE=0.5507, CI=0.7427, Pearson=0.5107\n",
      "Checkpoint saved at epoch 11\n",
      "Deleted previous checkpoint: /kaggle/working/TrainingModel1/model_epoch10.pt\n"
     ]
    },
    {
     "name": "stderr",
     "output_type": "stream",
     "text": [
      "Training:   4%|▍         | 11/250 [24:07<8:21:38, 125.94s/epoch]"
     ]
    },
    {
     "name": "stdout",
     "output_type": "stream",
     "text": [
      "[Epoch 12/250] Training Loss: 0.5813\n"
     ]
    },
    {
     "name": "stderr",
     "output_type": "stream",
     "text": [
      "Training:   5%|▍         | 12/250 [25:18<8:19:09, 125.84s/epoch]"
     ]
    },
    {
     "name": "stdout",
     "output_type": "stream",
     "text": [
      "  Train => MSE=0.5336, CI=0.7813, Pearson=0.5928\n",
      "  Test  => MSE=0.5233, CI=0.7637, Pearson=0.5399\n",
      "Checkpoint saved at epoch 12\n",
      "Deleted previous checkpoint: /kaggle/working/TrainingModel1/model_epoch11.pt\n"
     ]
    },
    {
     "name": "stderr",
     "output_type": "stream",
     "text": [
      "Training:   5%|▍         | 12/250 [26:12<8:19:09, 125.84s/epoch]"
     ]
    },
    {
     "name": "stdout",
     "output_type": "stream",
     "text": [
      "[Epoch 13/250] Training Loss: 0.5962\n"
     ]
    },
    {
     "name": "stderr",
     "output_type": "stream",
     "text": [
      "Training:   5%|▌         | 13/250 [27:24<8:16:56, 125.81s/epoch]"
     ]
    },
    {
     "name": "stdout",
     "output_type": "stream",
     "text": [
      "  Train => MSE=0.5663, CI=0.7810, Pearson=0.5685\n",
      "  Test  => MSE=0.5546, CI=0.7602, Pearson=0.5089\n",
      "Checkpoint saved at epoch 13\n",
      "Deleted previous checkpoint: /kaggle/working/TrainingModel1/model_epoch12.pt\n"
     ]
    },
    {
     "name": "stderr",
     "output_type": "stream",
     "text": [
      "Training:   5%|▌         | 13/250 [28:18<8:16:56, 125.81s/epoch]"
     ]
    },
    {
     "name": "stdout",
     "output_type": "stream",
     "text": [
      "[Epoch 14/250] Training Loss: 0.5847\n"
     ]
    },
    {
     "name": "stderr",
     "output_type": "stream",
     "text": [
      "Training:   6%|▌         | 14/250 [29:30<8:14:35, 125.75s/epoch]"
     ]
    },
    {
     "name": "stdout",
     "output_type": "stream",
     "text": [
      "  Train => MSE=0.5098, CI=0.7844, Pearson=0.5821\n",
      "  Test  => MSE=0.5011, CI=0.7704, Pearson=0.5263\n",
      "Checkpoint saved at epoch 14\n",
      "Deleted previous checkpoint: /kaggle/working/TrainingModel1/model_epoch13.pt\n"
     ]
    },
    {
     "name": "stderr",
     "output_type": "stream",
     "text": [
      "Training:   6%|▌         | 14/250 [30:24<8:14:35, 125.75s/epoch]"
     ]
    },
    {
     "name": "stdout",
     "output_type": "stream",
     "text": [
      "[Epoch 15/250] Training Loss: 0.5648\n"
     ]
    },
    {
     "name": "stderr",
     "output_type": "stream",
     "text": [
      "Training:   6%|▌         | 15/250 [31:35<8:12:22, 125.71s/epoch]"
     ]
    },
    {
     "name": "stdout",
     "output_type": "stream",
     "text": [
      "  Train => MSE=0.5163, CI=0.7875, Pearson=0.6012\n",
      "  Test  => MSE=0.5113, CI=0.7766, Pearson=0.5501\n",
      "Checkpoint saved at epoch 15\n",
      "Deleted previous checkpoint: /kaggle/working/TrainingModel1/model_epoch14.pt\n"
     ]
    },
    {
     "name": "stderr",
     "output_type": "stream",
     "text": [
      "Training:   6%|▌         | 15/250 [32:29<8:12:22, 125.71s/epoch]"
     ]
    },
    {
     "name": "stdout",
     "output_type": "stream",
     "text": [
      "[Epoch 16/250] Training Loss: 0.5661\n"
     ]
    },
    {
     "name": "stderr",
     "output_type": "stream",
     "text": [
      "Training:   6%|▌         | 15/250 [33:41<8:12:22, 125.71s/epoch]"
     ]
    },
    {
     "name": "stdout",
     "output_type": "stream",
     "text": [
      "  Train => MSE=0.4944, CI=0.7912, Pearson=0.6004\n",
      "  Test  => MSE=0.4881, CI=0.7782, Pearson=0.5482\n"
     ]
    },
    {
     "name": "stderr",
     "output_type": "stream",
     "text": [
      "Training:   6%|▋         | 16/250 [33:41<8:10:08, 125.68s/epoch]"
     ]
    },
    {
     "name": "stdout",
     "output_type": "stream",
     "text": [
      "Checkpoint saved at epoch 16\n",
      "Deleted previous checkpoint: /kaggle/working/TrainingModel1/model_epoch15.pt\n"
     ]
    },
    {
     "name": "stderr",
     "output_type": "stream",
     "text": [
      "Training:   6%|▋         | 16/250 [34:35<8:10:08, 125.68s/epoch]"
     ]
    },
    {
     "name": "stdout",
     "output_type": "stream",
     "text": [
      "[Epoch 17/250] Training Loss: 0.5570\n"
     ]
    },
    {
     "name": "stderr",
     "output_type": "stream",
     "text": [
      "Training:   7%|▋         | 17/250 [35:46<8:07:35, 125.56s/epoch]"
     ]
    },
    {
     "name": "stdout",
     "output_type": "stream",
     "text": [
      "  Train => MSE=0.5185, CI=0.7910, Pearson=0.5960\n",
      "  Test  => MSE=0.5149, CI=0.7731, Pearson=0.5370\n",
      "Checkpoint saved at epoch 17\n",
      "Deleted previous checkpoint: /kaggle/working/TrainingModel1/model_epoch16.pt\n"
     ]
    },
    {
     "name": "stderr",
     "output_type": "stream",
     "text": [
      "Training:   7%|▋         | 17/250 [36:40<8:07:35, 125.56s/epoch]"
     ]
    },
    {
     "name": "stdout",
     "output_type": "stream",
     "text": [
      "[Epoch 18/250] Training Loss: 0.5492\n"
     ]
    },
    {
     "name": "stderr",
     "output_type": "stream",
     "text": [
      "Training:   7%|▋         | 18/250 [37:51<8:05:10, 125.47s/epoch]"
     ]
    },
    {
     "name": "stdout",
     "output_type": "stream",
     "text": [
      "  Train => MSE=0.6106, CI=0.7844, Pearson=0.5982\n",
      "  Test  => MSE=0.6007, CI=0.7729, Pearson=0.5411\n",
      "Checkpoint saved at epoch 18\n",
      "Deleted previous checkpoint: /kaggle/working/TrainingModel1/model_epoch17.pt\n"
     ]
    },
    {
     "name": "stderr",
     "output_type": "stream",
     "text": [
      "Training:   7%|▋         | 18/250 [38:45<8:05:10, 125.47s/epoch]"
     ]
    },
    {
     "name": "stdout",
     "output_type": "stream",
     "text": [
      "[Epoch 19/250] Training Loss: 0.5418\n"
     ]
    },
    {
     "name": "stderr",
     "output_type": "stream",
     "text": [
      "Training:   8%|▊         | 19/250 [39:57<8:03:26, 125.57s/epoch]"
     ]
    },
    {
     "name": "stdout",
     "output_type": "stream",
     "text": [
      "  Train => MSE=0.4791, CI=0.7969, Pearson=0.6311\n",
      "  Test  => MSE=0.4773, CI=0.7828, Pearson=0.5773\n",
      "Checkpoint saved at epoch 19\n",
      "Deleted previous checkpoint: /kaggle/working/TrainingModel1/model_epoch18.pt\n"
     ]
    },
    {
     "name": "stderr",
     "output_type": "stream",
     "text": [
      "Training:   8%|▊         | 19/250 [40:51<8:03:26, 125.57s/epoch]"
     ]
    },
    {
     "name": "stdout",
     "output_type": "stream",
     "text": [
      "[Epoch 20/250] Training Loss: 0.5434\n"
     ]
    },
    {
     "name": "stderr",
     "output_type": "stream",
     "text": [
      "Training:   8%|▊         | 20/250 [42:03<8:01:31, 125.62s/epoch]"
     ]
    },
    {
     "name": "stdout",
     "output_type": "stream",
     "text": [
      "  Train => MSE=0.4802, CI=0.7980, Pearson=0.6195\n",
      "  Test  => MSE=0.4832, CI=0.7814, Pearson=0.5598\n",
      "Checkpoint saved at epoch 20\n",
      "Deleted previous checkpoint: /kaggle/working/TrainingModel1/model_epoch19.pt\n"
     ]
    },
    {
     "name": "stderr",
     "output_type": "stream",
     "text": [
      "Training:   8%|▊         | 20/250 [42:57<8:01:31, 125.62s/epoch]"
     ]
    },
    {
     "name": "stdout",
     "output_type": "stream",
     "text": [
      "[Epoch 21/250] Training Loss: 0.5204\n"
     ]
    },
    {
     "name": "stderr",
     "output_type": "stream",
     "text": [
      "Training:   8%|▊         | 21/250 [44:09<7:59:43, 125.69s/epoch]"
     ]
    },
    {
     "name": "stdout",
     "output_type": "stream",
     "text": [
      "  Train => MSE=0.4968, CI=0.7949, Pearson=0.6301\n",
      "  Test  => MSE=0.5007, CI=0.7773, Pearson=0.5706\n",
      "Checkpoint saved at epoch 21\n",
      "Deleted previous checkpoint: /kaggle/working/TrainingModel1/model_epoch20.pt\n"
     ]
    },
    {
     "name": "stderr",
     "output_type": "stream",
     "text": [
      "Training:   8%|▊         | 21/250 [45:03<7:59:43, 125.69s/epoch]"
     ]
    },
    {
     "name": "stdout",
     "output_type": "stream",
     "text": [
      "[Epoch 22/250] Training Loss: 0.5252\n"
     ]
    },
    {
     "name": "stderr",
     "output_type": "stream",
     "text": [
      "Training:   9%|▉         | 22/250 [46:15<7:57:46, 125.73s/epoch]"
     ]
    },
    {
     "name": "stdout",
     "output_type": "stream",
     "text": [
      "  Train => MSE=0.4695, CI=0.7988, Pearson=0.6293\n",
      "  Test  => MSE=0.4754, CI=0.7815, Pearson=0.5688\n",
      "Checkpoint saved at epoch 22\n",
      "Deleted previous checkpoint: /kaggle/working/TrainingModel1/model_epoch21.pt\n"
     ]
    },
    {
     "name": "stderr",
     "output_type": "stream",
     "text": [
      "Training:   9%|▉         | 22/250 [47:08<7:57:46, 125.73s/epoch]"
     ]
    },
    {
     "name": "stdout",
     "output_type": "stream",
     "text": [
      "[Epoch 23/250] Training Loss: 0.5261\n"
     ]
    },
    {
     "name": "stderr",
     "output_type": "stream",
     "text": [
      "Training:   9%|▉         | 23/250 [48:20<7:55:35, 125.71s/epoch]"
     ]
    },
    {
     "name": "stdout",
     "output_type": "stream",
     "text": [
      "  Train => MSE=0.4583, CI=0.8013, Pearson=0.6428\n",
      "  Test  => MSE=0.4674, CI=0.7807, Pearson=0.5781\n",
      "Checkpoint saved at epoch 23\n",
      "Deleted previous checkpoint: /kaggle/working/TrainingModel1/model_epoch22.pt\n"
     ]
    },
    {
     "name": "stderr",
     "output_type": "stream",
     "text": [
      "Training:   9%|▉         | 23/250 [49:14<7:55:35, 125.71s/epoch]"
     ]
    },
    {
     "name": "stdout",
     "output_type": "stream",
     "text": [
      "[Epoch 24/250] Training Loss: 0.5136\n"
     ]
    },
    {
     "name": "stderr",
     "output_type": "stream",
     "text": [
      "Training:  10%|▉         | 24/250 [50:26<7:53:53, 125.81s/epoch]"
     ]
    },
    {
     "name": "stdout",
     "output_type": "stream",
     "text": [
      "  Train => MSE=0.4696, CI=0.8023, Pearson=0.6328\n",
      "  Test  => MSE=0.4798, CI=0.7803, Pearson=0.5641\n",
      "Checkpoint saved at epoch 24\n",
      "Deleted previous checkpoint: /kaggle/working/TrainingModel1/model_epoch23.pt\n"
     ]
    },
    {
     "name": "stderr",
     "output_type": "stream",
     "text": [
      "Training:  10%|▉         | 24/250 [51:20<7:53:53, 125.81s/epoch]"
     ]
    },
    {
     "name": "stdout",
     "output_type": "stream",
     "text": [
      "[Epoch 25/250] Training Loss: 0.5033\n"
     ]
    },
    {
     "name": "stderr",
     "output_type": "stream",
     "text": [
      "Training:  10%|█         | 25/250 [52:32<7:51:46, 125.81s/epoch]"
     ]
    },
    {
     "name": "stdout",
     "output_type": "stream",
     "text": [
      "  Train => MSE=0.4573, CI=0.7975, Pearson=0.6488\n",
      "  Test  => MSE=0.4690, CI=0.7774, Pearson=0.5799\n",
      "Checkpoint saved at epoch 25\n",
      "Deleted previous checkpoint: /kaggle/working/TrainingModel1/model_epoch24.pt\n"
     ]
    },
    {
     "name": "stderr",
     "output_type": "stream",
     "text": [
      "Training:  10%|█         | 25/250 [53:26<7:51:46, 125.81s/epoch]"
     ]
    },
    {
     "name": "stdout",
     "output_type": "stream",
     "text": [
      "[Epoch 26/250] Training Loss: 0.5014\n"
     ]
    },
    {
     "name": "stderr",
     "output_type": "stream",
     "text": [
      "Training:  10%|█         | 26/250 [54:38<7:49:42, 125.82s/epoch]"
     ]
    },
    {
     "name": "stdout",
     "output_type": "stream",
     "text": [
      "  Train => MSE=0.4660, CI=0.8022, Pearson=0.6468\n",
      "  Test  => MSE=0.4769, CI=0.7817, Pearson=0.5778\n",
      "Checkpoint saved at epoch 26\n",
      "Deleted previous checkpoint: /kaggle/working/TrainingModel1/model_epoch25.pt\n"
     ]
    },
    {
     "name": "stderr",
     "output_type": "stream",
     "text": [
      "Training:  10%|█         | 26/250 [55:32<7:49:42, 125.82s/epoch]"
     ]
    },
    {
     "name": "stdout",
     "output_type": "stream",
     "text": [
      "[Epoch 27/250] Training Loss: 0.4912\n"
     ]
    },
    {
     "name": "stderr",
     "output_type": "stream",
     "text": [
      "Training:  11%|█         | 27/250 [56:44<7:48:09, 125.96s/epoch]"
     ]
    },
    {
     "name": "stdout",
     "output_type": "stream",
     "text": [
      "  Train => MSE=0.4986, CI=0.8130, Pearson=0.6685\n",
      "  Test  => MSE=0.5097, CI=0.7922, Pearson=0.6037\n",
      "Checkpoint saved at epoch 27\n",
      "Deleted previous checkpoint: /kaggle/working/TrainingModel1/model_epoch26.pt\n"
     ]
    },
    {
     "name": "stderr",
     "output_type": "stream",
     "text": [
      "Training:  11%|█         | 27/250 [57:39<7:48:09, 125.96s/epoch]"
     ]
    },
    {
     "name": "stdout",
     "output_type": "stream",
     "text": [
      "[Epoch 28/250] Training Loss: 0.4878\n"
     ]
    },
    {
     "name": "stderr",
     "output_type": "stream",
     "text": [
      "Training:  11%|█         | 28/250 [58:50<7:46:17, 126.03s/epoch]"
     ]
    },
    {
     "name": "stdout",
     "output_type": "stream",
     "text": [
      "  Train => MSE=0.4184, CI=0.8131, Pearson=0.6849\n",
      "  Test  => MSE=0.4359, CI=0.7954, Pearson=0.6194\n",
      "Checkpoint saved at epoch 28\n",
      "Deleted previous checkpoint: /kaggle/working/TrainingModel1/model_epoch27.pt\n"
     ]
    },
    {
     "name": "stderr",
     "output_type": "stream",
     "text": [
      "Training:  11%|█         | 28/250 [59:45<7:46:17, 126.03s/epoch]"
     ]
    },
    {
     "name": "stdout",
     "output_type": "stream",
     "text": [
      "[Epoch 29/250] Training Loss: 0.4838\n"
     ]
    },
    {
     "name": "stderr",
     "output_type": "stream",
     "text": [
      "Training:  11%|█         | 28/250 [1:00:56<7:46:17, 126.03s/epoch]"
     ]
    },
    {
     "name": "stdout",
     "output_type": "stream",
     "text": [
      "  Train => MSE=0.4213, CI=0.8146, Pearson=0.6829\n",
      "  Test  => MSE=0.4361, CI=0.7930, Pearson=0.6177\n"
     ]
    },
    {
     "name": "stderr",
     "output_type": "stream",
     "text": [
      "Training:  12%|█▏        | 29/250 [1:00:57<7:44:20, 126.07s/epoch]"
     ]
    },
    {
     "name": "stdout",
     "output_type": "stream",
     "text": [
      "Checkpoint saved at epoch 29\n",
      "Deleted previous checkpoint: /kaggle/working/TrainingModel1/model_epoch28.pt\n"
     ]
    },
    {
     "name": "stderr",
     "output_type": "stream",
     "text": [
      "Training:  12%|█▏        | 29/250 [1:01:51<7:44:20, 126.07s/epoch]"
     ]
    },
    {
     "name": "stdout",
     "output_type": "stream",
     "text": [
      "[Epoch 30/250] Training Loss: 0.4879\n"
     ]
    },
    {
     "name": "stderr",
     "output_type": "stream",
     "text": [
      "Training:  12%|█▏        | 30/250 [1:03:03<7:42:18, 126.09s/epoch]"
     ]
    },
    {
     "name": "stdout",
     "output_type": "stream",
     "text": [
      "  Train => MSE=0.4372, CI=0.8164, Pearson=0.6770\n",
      "  Test  => MSE=0.4463, CI=0.7939, Pearson=0.6192\n",
      "Checkpoint saved at epoch 30\n",
      "Deleted previous checkpoint: /kaggle/working/TrainingModel1/model_epoch29.pt\n"
     ]
    },
    {
     "name": "stderr",
     "output_type": "stream",
     "text": [
      "Training:  12%|█▏        | 30/250 [1:03:57<7:42:18, 126.09s/epoch]"
     ]
    },
    {
     "name": "stdout",
     "output_type": "stream",
     "text": [
      "[Epoch 31/250] Training Loss: 0.4737\n"
     ]
    },
    {
     "name": "stderr",
     "output_type": "stream",
     "text": [
      "Training:  12%|█▏        | 31/250 [1:05:09<7:40:16, 126.10s/epoch]"
     ]
    },
    {
     "name": "stdout",
     "output_type": "stream",
     "text": [
      "  Train => MSE=0.3955, CI=0.8211, Pearson=0.6951\n",
      "  Test  => MSE=0.4176, CI=0.8018, Pearson=0.6296\n",
      "Checkpoint saved at epoch 31\n",
      "Deleted previous checkpoint: /kaggle/working/TrainingModel1/model_epoch30.pt\n"
     ]
    },
    {
     "name": "stderr",
     "output_type": "stream",
     "text": [
      "Training:  12%|█▏        | 31/250 [1:06:03<7:40:16, 126.10s/epoch]"
     ]
    },
    {
     "name": "stdout",
     "output_type": "stream",
     "text": [
      "[Epoch 32/250] Training Loss: 0.4747\n"
     ]
    },
    {
     "name": "stderr",
     "output_type": "stream",
     "text": [
      "Training:  13%|█▎        | 32/250 [1:07:15<7:38:14, 126.12s/epoch]"
     ]
    },
    {
     "name": "stdout",
     "output_type": "stream",
     "text": [
      "  Train => MSE=0.4205, CI=0.8138, Pearson=0.6964\n",
      "  Test  => MSE=0.4331, CI=0.7958, Pearson=0.6360\n",
      "Checkpoint saved at epoch 32\n",
      "Deleted previous checkpoint: /kaggle/working/TrainingModel1/model_epoch31.pt\n"
     ]
    },
    {
     "name": "stderr",
     "output_type": "stream",
     "text": [
      "Training:  13%|█▎        | 32/250 [1:08:09<7:38:14, 126.12s/epoch]"
     ]
    },
    {
     "name": "stdout",
     "output_type": "stream",
     "text": [
      "[Epoch 33/250] Training Loss: 0.4653\n"
     ]
    },
    {
     "name": "stderr",
     "output_type": "stream",
     "text": [
      "Training:  13%|█▎        | 33/250 [1:09:21<7:35:55, 126.06s/epoch]"
     ]
    },
    {
     "name": "stdout",
     "output_type": "stream",
     "text": [
      "  Train => MSE=0.4219, CI=0.8084, Pearson=0.6824\n",
      "  Test  => MSE=0.4352, CI=0.7903, Pearson=0.6200\n",
      "Checkpoint saved at epoch 33\n",
      "Deleted previous checkpoint: /kaggle/working/TrainingModel1/model_epoch32.pt\n"
     ]
    },
    {
     "name": "stderr",
     "output_type": "stream",
     "text": [
      "Training:  13%|█▎        | 33/250 [1:10:15<7:35:55, 126.06s/epoch]"
     ]
    },
    {
     "name": "stdout",
     "output_type": "stream",
     "text": [
      "[Epoch 34/250] Training Loss: 0.4610\n"
     ]
    },
    {
     "name": "stderr",
     "output_type": "stream",
     "text": [
      "Training:  14%|█▎        | 34/250 [1:11:27<7:33:51, 126.07s/epoch]"
     ]
    },
    {
     "name": "stdout",
     "output_type": "stream",
     "text": [
      "  Train => MSE=0.4554, CI=0.8175, Pearson=0.7058\n",
      "  Test  => MSE=0.4734, CI=0.7988, Pearson=0.6377\n",
      "Checkpoint saved at epoch 34\n",
      "Deleted previous checkpoint: /kaggle/working/TrainingModel1/model_epoch33.pt\n"
     ]
    },
    {
     "name": "stderr",
     "output_type": "stream",
     "text": [
      "Training:  14%|█▎        | 34/250 [1:12:21<7:33:51, 126.07s/epoch]"
     ]
    },
    {
     "name": "stdout",
     "output_type": "stream",
     "text": [
      "[Epoch 35/250] Training Loss: 0.4575\n"
     ]
    },
    {
     "name": "stderr",
     "output_type": "stream",
     "text": [
      "Training:  14%|█▍        | 35/250 [1:13:33<7:31:42, 126.06s/epoch]"
     ]
    },
    {
     "name": "stdout",
     "output_type": "stream",
     "text": [
      "  Train => MSE=0.4287, CI=0.8170, Pearson=0.6903\n",
      "  Test  => MSE=0.4520, CI=0.7949, Pearson=0.6173\n",
      "Checkpoint saved at epoch 35\n",
      "Deleted previous checkpoint: /kaggle/working/TrainingModel1/model_epoch34.pt\n"
     ]
    },
    {
     "name": "stderr",
     "output_type": "stream",
     "text": [
      "Training:  14%|█▍        | 35/250 [1:14:27<7:31:42, 126.06s/epoch]"
     ]
    },
    {
     "name": "stdout",
     "output_type": "stream",
     "text": [
      "[Epoch 36/250] Training Loss: 0.4483\n"
     ]
    },
    {
     "name": "stderr",
     "output_type": "stream",
     "text": [
      "Training:  14%|█▍        | 36/250 [1:15:39<7:29:27, 126.02s/epoch]"
     ]
    },
    {
     "name": "stdout",
     "output_type": "stream",
     "text": [
      "  Train => MSE=0.4679, CI=0.8175, Pearson=0.6879\n",
      "  Test  => MSE=0.4860, CI=0.7943, Pearson=0.6253\n",
      "Checkpoint saved at epoch 36\n",
      "Deleted previous checkpoint: /kaggle/working/TrainingModel1/model_epoch35.pt\n"
     ]
    },
    {
     "name": "stderr",
     "output_type": "stream",
     "text": [
      "Training:  14%|█▍        | 36/250 [1:16:33<7:29:27, 126.02s/epoch]"
     ]
    },
    {
     "name": "stdout",
     "output_type": "stream",
     "text": [
      "[Epoch 37/250] Training Loss: 0.4461\n"
     ]
    },
    {
     "name": "stderr",
     "output_type": "stream",
     "text": [
      "Training:  15%|█▍        | 37/250 [1:17:45<7:27:38, 126.09s/epoch]"
     ]
    },
    {
     "name": "stdout",
     "output_type": "stream",
     "text": [
      "  Train => MSE=0.4217, CI=0.8089, Pearson=0.6974\n",
      "  Test  => MSE=0.4420, CI=0.7885, Pearson=0.6260\n",
      "Checkpoint saved at epoch 37\n",
      "Deleted previous checkpoint: /kaggle/working/TrainingModel1/model_epoch36.pt\n"
     ]
    },
    {
     "name": "stderr",
     "output_type": "stream",
     "text": [
      "Training:  15%|█▍        | 37/250 [1:18:40<7:27:38, 126.09s/epoch]"
     ]
    },
    {
     "name": "stdout",
     "output_type": "stream",
     "text": [
      "[Epoch 38/250] Training Loss: 0.4392\n"
     ]
    },
    {
     "name": "stderr",
     "output_type": "stream",
     "text": [
      "Training:  15%|█▌        | 38/250 [1:19:52<7:25:41, 126.14s/epoch]"
     ]
    },
    {
     "name": "stdout",
     "output_type": "stream",
     "text": [
      "  Train => MSE=0.4100, CI=0.8214, Pearson=0.7023\n",
      "  Test  => MSE=0.4303, CI=0.8021, Pearson=0.6336\n",
      "Checkpoint saved at epoch 38\n",
      "Deleted previous checkpoint: /kaggle/working/TrainingModel1/model_epoch37.pt\n"
     ]
    },
    {
     "name": "stderr",
     "output_type": "stream",
     "text": [
      "Training:  15%|█▌        | 38/250 [1:20:46<7:25:41, 126.14s/epoch]"
     ]
    },
    {
     "name": "stdout",
     "output_type": "stream",
     "text": [
      "[Epoch 39/250] Training Loss: 0.4312\n"
     ]
    },
    {
     "name": "stderr",
     "output_type": "stream",
     "text": [
      "Training:  16%|█▌        | 39/250 [1:21:58<7:23:37, 126.15s/epoch]"
     ]
    },
    {
     "name": "stdout",
     "output_type": "stream",
     "text": [
      "  Train => MSE=0.4013, CI=0.8177, Pearson=0.7032\n",
      "  Test  => MSE=0.4293, CI=0.7969, Pearson=0.6300\n",
      "Checkpoint saved at epoch 39\n",
      "Deleted previous checkpoint: /kaggle/working/TrainingModel1/model_epoch38.pt\n"
     ]
    },
    {
     "name": "stderr",
     "output_type": "stream",
     "text": [
      "Training:  16%|█▌        | 39/250 [1:22:52<7:23:37, 126.15s/epoch]"
     ]
    },
    {
     "name": "stdout",
     "output_type": "stream",
     "text": [
      "[Epoch 40/250] Training Loss: 0.4305\n"
     ]
    },
    {
     "name": "stderr",
     "output_type": "stream",
     "text": [
      "Training:  16%|█▌        | 40/250 [1:24:03<7:20:58, 125.99s/epoch]"
     ]
    },
    {
     "name": "stdout",
     "output_type": "stream",
     "text": [
      "  Train => MSE=0.3709, CI=0.8261, Pearson=0.7257\n",
      "  Test  => MSE=0.3980, CI=0.8047, Pearson=0.6578\n",
      "Checkpoint saved at epoch 40\n",
      "Deleted previous checkpoint: /kaggle/working/TrainingModel1/model_epoch39.pt\n"
     ]
    },
    {
     "name": "stderr",
     "output_type": "stream",
     "text": [
      "Training:  16%|█▌        | 40/250 [1:24:57<7:20:58, 125.99s/epoch]"
     ]
    },
    {
     "name": "stdout",
     "output_type": "stream",
     "text": [
      "[Epoch 41/250] Training Loss: 0.4193\n"
     ]
    },
    {
     "name": "stderr",
     "output_type": "stream",
     "text": [
      "Training:  16%|█▋        | 41/250 [1:26:09<7:18:33, 125.90s/epoch]"
     ]
    },
    {
     "name": "stdout",
     "output_type": "stream",
     "text": [
      "  Train => MSE=0.3733, CI=0.8282, Pearson=0.7140\n",
      "  Test  => MSE=0.4029, CI=0.8018, Pearson=0.6449\n",
      "Checkpoint saved at epoch 41\n",
      "Deleted previous checkpoint: /kaggle/working/TrainingModel1/model_epoch40.pt\n"
     ]
    },
    {
     "name": "stderr",
     "output_type": "stream",
     "text": [
      "Training:  16%|█▋        | 41/250 [1:27:04<7:18:33, 125.90s/epoch]"
     ]
    },
    {
     "name": "stdout",
     "output_type": "stream",
     "text": [
      "[Epoch 42/250] Training Loss: 0.4365\n"
     ]
    },
    {
     "name": "stderr",
     "output_type": "stream",
     "text": [
      "Training:  16%|█▋        | 41/250 [1:28:16<7:18:33, 125.90s/epoch]"
     ]
    },
    {
     "name": "stdout",
     "output_type": "stream",
     "text": [
      "  Train => MSE=0.3780, CI=0.8287, Pearson=0.7216\n",
      "  Test  => MSE=0.4046, CI=0.8065, Pearson=0.6529\n"
     ]
    },
    {
     "name": "stderr",
     "output_type": "stream",
     "text": [
      "Training:  17%|█▋        | 42/250 [1:28:16<7:17:38, 126.24s/epoch]"
     ]
    },
    {
     "name": "stdout",
     "output_type": "stream",
     "text": [
      "Checkpoint saved at epoch 42\n",
      "Deleted previous checkpoint: /kaggle/working/TrainingModel1/model_epoch41.pt\n"
     ]
    },
    {
     "name": "stderr",
     "output_type": "stream",
     "text": [
      "Training:  17%|█▋        | 42/250 [1:29:10<7:17:38, 126.24s/epoch]"
     ]
    },
    {
     "name": "stdout",
     "output_type": "stream",
     "text": [
      "[Epoch 43/250] Training Loss: 0.4231\n"
     ]
    },
    {
     "name": "stderr",
     "output_type": "stream",
     "text": [
      "Training:  17%|█▋        | 43/250 [1:30:22<7:14:42, 126.00s/epoch]"
     ]
    },
    {
     "name": "stdout",
     "output_type": "stream",
     "text": [
      "  Train => MSE=0.3567, CI=0.8307, Pearson=0.7301\n",
      "  Test  => MSE=0.3916, CI=0.8089, Pearson=0.6592\n",
      "Checkpoint saved at epoch 43\n",
      "Deleted previous checkpoint: /kaggle/working/TrainingModel1/model_epoch42.pt\n"
     ]
    },
    {
     "name": "stderr",
     "output_type": "stream",
     "text": [
      "Training:  17%|█▋        | 43/250 [1:31:15<7:14:42, 126.00s/epoch]"
     ]
    },
    {
     "name": "stdout",
     "output_type": "stream",
     "text": [
      "[Epoch 44/250] Training Loss: 0.4175\n"
     ]
    },
    {
     "name": "stderr",
     "output_type": "stream",
     "text": [
      "Training:  18%|█▊        | 44/250 [1:32:27<7:11:57, 125.81s/epoch]"
     ]
    },
    {
     "name": "stdout",
     "output_type": "stream",
     "text": [
      "  Train => MSE=0.3716, CI=0.8243, Pearson=0.7190\n",
      "  Test  => MSE=0.4060, CI=0.7997, Pearson=0.6448\n",
      "Checkpoint saved at epoch 44\n",
      "Deleted previous checkpoint: /kaggle/working/TrainingModel1/model_epoch43.pt\n"
     ]
    },
    {
     "name": "stderr",
     "output_type": "stream",
     "text": [
      "Training:  18%|█▊        | 44/250 [1:33:21<7:11:57, 125.81s/epoch]"
     ]
    },
    {
     "name": "stdout",
     "output_type": "stream",
     "text": [
      "[Epoch 45/250] Training Loss: 0.4099\n"
     ]
    },
    {
     "name": "stderr",
     "output_type": "stream",
     "text": [
      "Training:  18%|█▊        | 45/250 [1:34:33<7:09:55, 125.83s/epoch]"
     ]
    },
    {
     "name": "stdout",
     "output_type": "stream",
     "text": [
      "  Train => MSE=0.3812, CI=0.8220, Pearson=0.7105\n",
      "  Test  => MSE=0.4151, CI=0.7983, Pearson=0.6381\n",
      "Checkpoint saved at epoch 45\n",
      "Deleted previous checkpoint: /kaggle/working/TrainingModel1/model_epoch44.pt\n"
     ]
    },
    {
     "name": "stderr",
     "output_type": "stream",
     "text": [
      "Training:  18%|█▊        | 45/250 [1:35:27<7:09:55, 125.83s/epoch]"
     ]
    },
    {
     "name": "stdout",
     "output_type": "stream",
     "text": [
      "[Epoch 46/250] Training Loss: 0.4191\n"
     ]
    },
    {
     "name": "stderr",
     "output_type": "stream",
     "text": [
      "Training:  18%|█▊        | 46/250 [1:36:39<7:07:46, 125.81s/epoch]"
     ]
    },
    {
     "name": "stdout",
     "output_type": "stream",
     "text": [
      "  Train => MSE=0.3677, CI=0.8321, Pearson=0.7265\n",
      "  Test  => MSE=0.3872, CI=0.8132, Pearson=0.6686\n",
      "Checkpoint saved at epoch 46\n",
      "Deleted previous checkpoint: /kaggle/working/TrainingModel1/model_epoch45.pt\n"
     ]
    },
    {
     "name": "stderr",
     "output_type": "stream",
     "text": [
      "Training:  18%|█▊        | 46/250 [1:37:33<7:07:46, 125.81s/epoch]"
     ]
    },
    {
     "name": "stdout",
     "output_type": "stream",
     "text": [
      "[Epoch 47/250] Training Loss: 0.4030\n"
     ]
    },
    {
     "name": "stderr",
     "output_type": "stream",
     "text": [
      "Training:  19%|█▉        | 47/250 [1:38:45<7:05:53, 125.88s/epoch]"
     ]
    },
    {
     "name": "stdout",
     "output_type": "stream",
     "text": [
      "  Train => MSE=0.3644, CI=0.8283, Pearson=0.7306\n",
      "  Test  => MSE=0.4059, CI=0.8066, Pearson=0.6590\n",
      "Checkpoint saved at epoch 47\n",
      "Deleted previous checkpoint: /kaggle/working/TrainingModel1/model_epoch46.pt\n"
     ]
    },
    {
     "name": "stderr",
     "output_type": "stream",
     "text": [
      "Training:  19%|█▉        | 47/250 [1:39:39<7:05:53, 125.88s/epoch]"
     ]
    },
    {
     "name": "stdout",
     "output_type": "stream",
     "text": [
      "[Epoch 48/250] Training Loss: 0.4205\n"
     ]
    },
    {
     "name": "stderr",
     "output_type": "stream",
     "text": [
      "Training:  19%|█▉        | 48/250 [1:40:51<7:04:11, 126.00s/epoch]"
     ]
    },
    {
     "name": "stdout",
     "output_type": "stream",
     "text": [
      "  Train => MSE=0.3539, CI=0.8312, Pearson=0.7328\n",
      "  Test  => MSE=0.3922, CI=0.8053, Pearson=0.6579\n",
      "Checkpoint saved at epoch 48\n",
      "Deleted previous checkpoint: /kaggle/working/TrainingModel1/model_epoch47.pt\n"
     ]
    },
    {
     "name": "stderr",
     "output_type": "stream",
     "text": [
      "Training:  19%|█▉        | 48/250 [1:41:45<7:04:11, 126.00s/epoch]"
     ]
    },
    {
     "name": "stdout",
     "output_type": "stream",
     "text": [
      "[Epoch 49/250] Training Loss: 0.4075\n"
     ]
    },
    {
     "name": "stderr",
     "output_type": "stream",
     "text": [
      "Training:  20%|█▉        | 49/250 [1:42:57<7:02:16, 126.05s/epoch]"
     ]
    },
    {
     "name": "stdout",
     "output_type": "stream",
     "text": [
      "  Train => MSE=0.3526, CI=0.8287, Pearson=0.7330\n",
      "  Test  => MSE=0.3940, CI=0.8054, Pearson=0.6558\n",
      "Checkpoint saved at epoch 49\n",
      "Deleted previous checkpoint: /kaggle/working/TrainingModel1/model_epoch48.pt\n"
     ]
    },
    {
     "name": "stderr",
     "output_type": "stream",
     "text": [
      "Training:  20%|█▉        | 49/250 [1:43:51<7:02:16, 126.05s/epoch]"
     ]
    },
    {
     "name": "stdout",
     "output_type": "stream",
     "text": [
      "[Epoch 50/250] Training Loss: 0.4004\n"
     ]
    },
    {
     "name": "stderr",
     "output_type": "stream",
     "text": [
      "Training:  20%|██        | 50/250 [1:45:03<6:59:51, 125.96s/epoch]"
     ]
    },
    {
     "name": "stdout",
     "output_type": "stream",
     "text": [
      "  Train => MSE=0.3547, CI=0.8286, Pearson=0.7309\n",
      "  Test  => MSE=0.3863, CI=0.8099, Pearson=0.6637\n",
      "Checkpoint saved at epoch 50\n",
      "Deleted previous checkpoint: /kaggle/working/TrainingModel1/model_epoch49.pt\n"
     ]
    },
    {
     "name": "stderr",
     "output_type": "stream",
     "text": [
      "Training:  20%|██        | 50/250 [1:45:57<6:59:51, 125.96s/epoch]"
     ]
    },
    {
     "name": "stdout",
     "output_type": "stream",
     "text": [
      "[Epoch 51/250] Training Loss: 0.3905\n"
     ]
    },
    {
     "name": "stderr",
     "output_type": "stream",
     "text": [
      "Training:  20%|██        | 51/250 [1:47:08<6:57:27, 125.87s/epoch]"
     ]
    },
    {
     "name": "stdout",
     "output_type": "stream",
     "text": [
      "  Train => MSE=0.3375, CI=0.8316, Pearson=0.7461\n",
      "  Test  => MSE=0.3865, CI=0.8062, Pearson=0.6638\n",
      "Checkpoint saved at epoch 51\n",
      "Deleted previous checkpoint: /kaggle/working/TrainingModel1/model_epoch50.pt\n"
     ]
    },
    {
     "name": "stderr",
     "output_type": "stream",
     "text": [
      "Training:  20%|██        | 51/250 [1:48:03<6:57:27, 125.87s/epoch]"
     ]
    },
    {
     "name": "stdout",
     "output_type": "stream",
     "text": [
      "[Epoch 52/250] Training Loss: 0.4042\n"
     ]
    },
    {
     "name": "stderr",
     "output_type": "stream",
     "text": [
      "Training:  21%|██        | 52/250 [1:49:14<6:55:32, 125.92s/epoch]"
     ]
    },
    {
     "name": "stdout",
     "output_type": "stream",
     "text": [
      "  Train => MSE=0.4117, CI=0.8182, Pearson=0.6971\n",
      "  Test  => MSE=0.4459, CI=0.7925, Pearson=0.6109\n",
      "Checkpoint saved at epoch 52\n",
      "Deleted previous checkpoint: /kaggle/working/TrainingModel1/model_epoch51.pt\n"
     ]
    },
    {
     "name": "stderr",
     "output_type": "stream",
     "text": [
      "Training:  21%|██        | 52/250 [1:50:09<6:55:32, 125.92s/epoch]"
     ]
    },
    {
     "name": "stdout",
     "output_type": "stream",
     "text": [
      "[Epoch 53/250] Training Loss: 0.4068\n"
     ]
    },
    {
     "name": "stderr",
     "output_type": "stream",
     "text": [
      "Training:  21%|██        | 53/250 [1:51:20<6:53:16, 125.87s/epoch]"
     ]
    },
    {
     "name": "stdout",
     "output_type": "stream",
     "text": [
      "  Train => MSE=0.3375, CI=0.8348, Pearson=0.7479\n",
      "  Test  => MSE=0.3825, CI=0.8134, Pearson=0.6726\n",
      "Checkpoint saved at epoch 53\n",
      "Deleted previous checkpoint: /kaggle/working/TrainingModel1/model_epoch52.pt\n"
     ]
    },
    {
     "name": "stderr",
     "output_type": "stream",
     "text": [
      "Training:  21%|██        | 53/250 [1:52:15<6:53:16, 125.87s/epoch]"
     ]
    },
    {
     "name": "stdout",
     "output_type": "stream",
     "text": [
      "[Epoch 54/250] Training Loss: 0.3887\n"
     ]
    },
    {
     "name": "stderr",
     "output_type": "stream",
     "text": [
      "Training:  22%|██▏       | 54/250 [1:53:27<6:51:48, 126.06s/epoch]"
     ]
    },
    {
     "name": "stdout",
     "output_type": "stream",
     "text": [
      "  Train => MSE=0.3279, CI=0.8398, Pearson=0.7595\n",
      "  Test  => MSE=0.3755, CI=0.8183, Pearson=0.6837\n",
      "Checkpoint saved at epoch 54\n",
      "Deleted previous checkpoint: /kaggle/working/TrainingModel1/model_epoch53.pt\n"
     ]
    },
    {
     "name": "stderr",
     "output_type": "stream",
     "text": [
      "Training:  22%|██▏       | 54/250 [1:54:21<6:51:48, 126.06s/epoch]"
     ]
    },
    {
     "name": "stdout",
     "output_type": "stream",
     "text": [
      "[Epoch 55/250] Training Loss: 0.3935\n"
     ]
    },
    {
     "name": "stderr",
     "output_type": "stream",
     "text": [
      "Training:  22%|██▏       | 54/250 [1:55:32<6:51:48, 126.06s/epoch]"
     ]
    },
    {
     "name": "stdout",
     "output_type": "stream",
     "text": [
      "  Train => MSE=0.3252, CI=0.8371, Pearson=0.7566\n",
      "  Test  => MSE=0.3762, CI=0.8122, Pearson=0.6765\n"
     ]
    },
    {
     "name": "stderr",
     "output_type": "stream",
     "text": [
      "Training:  22%|██▏       | 55/250 [1:55:33<6:49:36, 126.03s/epoch]"
     ]
    },
    {
     "name": "stdout",
     "output_type": "stream",
     "text": [
      "Checkpoint saved at epoch 55\n",
      "Deleted previous checkpoint: /kaggle/working/TrainingModel1/model_epoch54.pt\n"
     ]
    },
    {
     "name": "stderr",
     "output_type": "stream",
     "text": [
      "Training:  22%|██▏       | 55/250 [1:56:26<6:49:36, 126.03s/epoch]"
     ]
    },
    {
     "name": "stdout",
     "output_type": "stream",
     "text": [
      "[Epoch 56/250] Training Loss: 0.3841\n"
     ]
    },
    {
     "name": "stderr",
     "output_type": "stream",
     "text": [
      "Training:  22%|██▏       | 56/250 [1:57:38<6:46:42, 125.79s/epoch]"
     ]
    },
    {
     "name": "stdout",
     "output_type": "stream",
     "text": [
      "  Train => MSE=0.3313, CI=0.8337, Pearson=0.7554\n",
      "  Test  => MSE=0.3801, CI=0.8124, Pearson=0.6769\n",
      "Checkpoint saved at epoch 56\n",
      "Deleted previous checkpoint: /kaggle/working/TrainingModel1/model_epoch55.pt\n"
     ]
    },
    {
     "name": "stderr",
     "output_type": "stream",
     "text": [
      "Training:  22%|██▏       | 56/250 [1:58:32<6:46:42, 125.79s/epoch]"
     ]
    },
    {
     "name": "stdout",
     "output_type": "stream",
     "text": [
      "[Epoch 57/250] Training Loss: 0.3812\n"
     ]
    },
    {
     "name": "stderr",
     "output_type": "stream",
     "text": [
      "Training:  23%|██▎       | 57/250 [1:59:44<6:44:46, 125.84s/epoch]"
     ]
    },
    {
     "name": "stdout",
     "output_type": "stream",
     "text": [
      "  Train => MSE=0.3554, CI=0.8353, Pearson=0.7432\n",
      "  Test  => MSE=0.3914, CI=0.8140, Pearson=0.6710\n",
      "Checkpoint saved at epoch 57\n",
      "Deleted previous checkpoint: /kaggle/working/TrainingModel1/model_epoch56.pt\n"
     ]
    },
    {
     "name": "stderr",
     "output_type": "stream",
     "text": [
      "Training:  23%|██▎       | 57/250 [2:00:38<6:44:46, 125.84s/epoch]"
     ]
    },
    {
     "name": "stdout",
     "output_type": "stream",
     "text": [
      "[Epoch 58/250] Training Loss: 0.3932\n"
     ]
    },
    {
     "name": "stderr",
     "output_type": "stream",
     "text": [
      "Training:  23%|██▎       | 58/250 [2:01:50<6:42:40, 125.84s/epoch]"
     ]
    },
    {
     "name": "stdout",
     "output_type": "stream",
     "text": [
      "  Train => MSE=0.3214, CI=0.8398, Pearson=0.7601\n",
      "  Test  => MSE=0.3687, CI=0.8176, Pearson=0.6832\n",
      "Checkpoint saved at epoch 58\n",
      "Deleted previous checkpoint: /kaggle/working/TrainingModel1/model_epoch57.pt\n"
     ]
    },
    {
     "name": "stderr",
     "output_type": "stream",
     "text": [
      "Training:  23%|██▎       | 58/250 [2:02:44<6:42:40, 125.84s/epoch]"
     ]
    },
    {
     "name": "stdout",
     "output_type": "stream",
     "text": [
      "[Epoch 59/250] Training Loss: 0.3871\n"
     ]
    },
    {
     "name": "stderr",
     "output_type": "stream",
     "text": [
      "Training:  24%|██▎       | 59/250 [2:03:56<6:40:36, 125.84s/epoch]"
     ]
    },
    {
     "name": "stdout",
     "output_type": "stream",
     "text": [
      "  Train => MSE=0.3304, CI=0.8421, Pearson=0.7619\n",
      "  Test  => MSE=0.3762, CI=0.8213, Pearson=0.6905\n",
      "Checkpoint saved at epoch 59\n",
      "Deleted previous checkpoint: /kaggle/working/TrainingModel1/model_epoch58.pt\n"
     ]
    },
    {
     "name": "stderr",
     "output_type": "stream",
     "text": [
      "Training:  24%|██▎       | 59/250 [2:04:50<6:40:36, 125.84s/epoch]"
     ]
    },
    {
     "name": "stdout",
     "output_type": "stream",
     "text": [
      "[Epoch 60/250] Training Loss: 0.3729\n"
     ]
    },
    {
     "name": "stderr",
     "output_type": "stream",
     "text": [
      "Training:  24%|██▍       | 60/250 [2:06:01<6:38:30, 125.84s/epoch]"
     ]
    },
    {
     "name": "stdout",
     "output_type": "stream",
     "text": [
      "  Train => MSE=0.3203, CI=0.8418, Pearson=0.7663\n",
      "  Test  => MSE=0.3789, CI=0.8177, Pearson=0.6825\n",
      "Checkpoint saved at epoch 60\n",
      "Deleted previous checkpoint: /kaggle/working/TrainingModel1/model_epoch59.pt\n"
     ]
    },
    {
     "name": "stderr",
     "output_type": "stream",
     "text": [
      "Training:  24%|██▍       | 60/250 [2:06:55<6:38:30, 125.84s/epoch]"
     ]
    },
    {
     "name": "stdout",
     "output_type": "stream",
     "text": [
      "[Epoch 61/250] Training Loss: 0.3842\n"
     ]
    },
    {
     "name": "stderr",
     "output_type": "stream",
     "text": [
      "Training:  24%|██▍       | 61/250 [2:08:07<6:36:06, 125.75s/epoch]"
     ]
    },
    {
     "name": "stdout",
     "output_type": "stream",
     "text": [
      "  Train => MSE=0.3273, CI=0.8374, Pearson=0.7627\n",
      "  Test  => MSE=0.3764, CI=0.8177, Pearson=0.6865\n",
      "Checkpoint saved at epoch 61\n",
      "Deleted previous checkpoint: /kaggle/working/TrainingModel1/model_epoch60.pt\n"
     ]
    },
    {
     "name": "stderr",
     "output_type": "stream",
     "text": [
      "Training:  24%|██▍       | 61/250 [2:09:01<6:36:06, 125.75s/epoch]"
     ]
    },
    {
     "name": "stdout",
     "output_type": "stream",
     "text": [
      "[Epoch 62/250] Training Loss: 0.3718\n"
     ]
    },
    {
     "name": "stderr",
     "output_type": "stream",
     "text": [
      "Training:  25%|██▍       | 62/250 [2:10:13<6:34:04, 125.77s/epoch]"
     ]
    },
    {
     "name": "stdout",
     "output_type": "stream",
     "text": [
      "  Train => MSE=0.3354, CI=0.8360, Pearson=0.7538\n",
      "  Test  => MSE=0.3777, CI=0.8172, Pearson=0.6832\n",
      "Checkpoint saved at epoch 62\n",
      "Deleted previous checkpoint: /kaggle/working/TrainingModel1/model_epoch61.pt\n"
     ]
    },
    {
     "name": "stderr",
     "output_type": "stream",
     "text": [
      "Training:  25%|██▍       | 62/250 [2:11:07<6:34:04, 125.77s/epoch]"
     ]
    },
    {
     "name": "stdout",
     "output_type": "stream",
     "text": [
      "[Epoch 63/250] Training Loss: 0.3733\n"
     ]
    },
    {
     "name": "stderr",
     "output_type": "stream",
     "text": [
      "Training:  25%|██▌       | 63/250 [2:12:18<6:31:52, 125.73s/epoch]"
     ]
    },
    {
     "name": "stdout",
     "output_type": "stream",
     "text": [
      "  Train => MSE=0.3163, CI=0.8395, Pearson=0.7680\n",
      "  Test  => MSE=0.3600, CI=0.8198, Pearson=0.6921\n",
      "Checkpoint saved at epoch 63\n",
      "Deleted previous checkpoint: /kaggle/working/TrainingModel1/model_epoch62.pt\n"
     ]
    },
    {
     "name": "stderr",
     "output_type": "stream",
     "text": [
      "Training:  25%|██▌       | 63/250 [2:13:12<6:31:52, 125.73s/epoch]"
     ]
    },
    {
     "name": "stdout",
     "output_type": "stream",
     "text": [
      "[Epoch 64/250] Training Loss: 0.3742\n"
     ]
    },
    {
     "name": "stderr",
     "output_type": "stream",
     "text": [
      "Training:  26%|██▌       | 64/250 [2:14:24<6:29:29, 125.64s/epoch]"
     ]
    },
    {
     "name": "stdout",
     "output_type": "stream",
     "text": [
      "  Train => MSE=0.3121, CI=0.8467, Pearson=0.7722\n",
      "  Test  => MSE=0.3558, CI=0.8260, Pearson=0.7025\n",
      "Checkpoint saved at epoch 64\n",
      "Deleted previous checkpoint: /kaggle/working/TrainingModel1/model_epoch63.pt\n"
     ]
    },
    {
     "name": "stderr",
     "output_type": "stream",
     "text": [
      "Training:  26%|██▌       | 64/250 [2:15:18<6:29:29, 125.64s/epoch]"
     ]
    },
    {
     "name": "stdout",
     "output_type": "stream",
     "text": [
      "[Epoch 65/250] Training Loss: 0.3708\n"
     ]
    },
    {
     "name": "stderr",
     "output_type": "stream",
     "text": [
      "Training:  26%|██▌       | 65/250 [2:16:29<6:27:07, 125.56s/epoch]"
     ]
    },
    {
     "name": "stdout",
     "output_type": "stream",
     "text": [
      "  Train => MSE=0.3670, CI=0.8264, Pearson=0.7456\n",
      "  Test  => MSE=0.4137, CI=0.8054, Pearson=0.6701\n",
      "Checkpoint saved at epoch 65\n",
      "Deleted previous checkpoint: /kaggle/working/TrainingModel1/model_epoch64.pt\n"
     ]
    },
    {
     "name": "stderr",
     "output_type": "stream",
     "text": [
      "Training:  26%|██▌       | 65/250 [2:17:23<6:27:07, 125.56s/epoch]"
     ]
    },
    {
     "name": "stdout",
     "output_type": "stream",
     "text": [
      "[Epoch 66/250] Training Loss: 0.3669\n"
     ]
    },
    {
     "name": "stderr",
     "output_type": "stream",
     "text": [
      "Training:  26%|██▋       | 66/250 [2:18:35<6:25:01, 125.55s/epoch]"
     ]
    },
    {
     "name": "stdout",
     "output_type": "stream",
     "text": [
      "  Train => MSE=0.3168, CI=0.8360, Pearson=0.7653\n",
      "  Test  => MSE=0.3672, CI=0.8149, Pearson=0.6903\n",
      "Checkpoint saved at epoch 66\n",
      "Deleted previous checkpoint: /kaggle/working/TrainingModel1/model_epoch65.pt\n"
     ]
    },
    {
     "name": "stderr",
     "output_type": "stream",
     "text": [
      "Training:  26%|██▋       | 66/250 [2:19:29<6:25:01, 125.55s/epoch]"
     ]
    },
    {
     "name": "stdout",
     "output_type": "stream",
     "text": [
      "[Epoch 67/250] Training Loss: 0.3755\n"
     ]
    },
    {
     "name": "stderr",
     "output_type": "stream",
     "text": [
      "Training:  27%|██▋       | 67/250 [2:20:40<6:22:59, 125.57s/epoch]"
     ]
    },
    {
     "name": "stdout",
     "output_type": "stream",
     "text": [
      "  Train => MSE=0.3268, CI=0.8460, Pearson=0.7724\n",
      "  Test  => MSE=0.3724, CI=0.8297, Pearson=0.7040\n",
      "Checkpoint saved at epoch 67\n",
      "Deleted previous checkpoint: /kaggle/working/TrainingModel1/model_epoch66.pt\n"
     ]
    },
    {
     "name": "stderr",
     "output_type": "stream",
     "text": [
      "Training:  27%|██▋       | 67/250 [2:21:34<6:22:59, 125.57s/epoch]"
     ]
    },
    {
     "name": "stdout",
     "output_type": "stream",
     "text": [
      "[Epoch 68/250] Training Loss: 0.3693\n"
     ]
    },
    {
     "name": "stderr",
     "output_type": "stream",
     "text": [
      "Training:  27%|██▋       | 67/250 [2:22:46<6:22:59, 125.57s/epoch]"
     ]
    },
    {
     "name": "stdout",
     "output_type": "stream",
     "text": [
      "  Train => MSE=0.3140, CI=0.8452, Pearson=0.7782\n",
      "  Test  => MSE=0.3714, CI=0.8232, Pearson=0.6975\n"
     ]
    },
    {
     "name": "stderr",
     "output_type": "stream",
     "text": [
      "Training:  27%|██▋       | 68/250 [2:22:46<6:21:01, 125.61s/epoch]"
     ]
    },
    {
     "name": "stdout",
     "output_type": "stream",
     "text": [
      "Checkpoint saved at epoch 68\n",
      "Deleted previous checkpoint: /kaggle/working/TrainingModel1/model_epoch67.pt\n"
     ]
    },
    {
     "name": "stderr",
     "output_type": "stream",
     "text": [
      "Training:  27%|██▋       | 68/250 [2:23:40<6:21:01, 125.61s/epoch]"
     ]
    },
    {
     "name": "stdout",
     "output_type": "stream",
     "text": [
      "[Epoch 69/250] Training Loss: 0.3691\n"
     ]
    },
    {
     "name": "stderr",
     "output_type": "stream",
     "text": [
      "Training:  28%|██▊       | 69/250 [2:24:51<6:18:42, 125.54s/epoch]"
     ]
    },
    {
     "name": "stdout",
     "output_type": "stream",
     "text": [
      "  Train => MSE=0.3400, CI=0.8442, Pearson=0.7761\n",
      "  Test  => MSE=0.4009, CI=0.8233, Pearson=0.6961\n",
      "Checkpoint saved at epoch 69\n",
      "Deleted previous checkpoint: /kaggle/working/TrainingModel1/model_epoch68.pt\n"
     ]
    },
    {
     "name": "stderr",
     "output_type": "stream",
     "text": [
      "Training:  28%|██▊       | 69/250 [2:25:45<6:18:42, 125.54s/epoch]"
     ]
    },
    {
     "name": "stdout",
     "output_type": "stream",
     "text": [
      "[Epoch 70/250] Training Loss: 0.3549\n"
     ]
    },
    {
     "name": "stderr",
     "output_type": "stream",
     "text": [
      "Training:  28%|██▊       | 70/250 [2:26:57<6:16:29, 125.50s/epoch]"
     ]
    },
    {
     "name": "stdout",
     "output_type": "stream",
     "text": [
      "  Train => MSE=0.3153, CI=0.8370, Pearson=0.7676\n",
      "  Test  => MSE=0.3726, CI=0.8118, Pearson=0.6827\n",
      "Checkpoint saved at epoch 70\n",
      "Deleted previous checkpoint: /kaggle/working/TrainingModel1/model_epoch69.pt\n"
     ]
    },
    {
     "name": "stderr",
     "output_type": "stream",
     "text": [
      "Training:  28%|██▊       | 70/250 [2:27:51<6:16:29, 125.50s/epoch]"
     ]
    },
    {
     "name": "stdout",
     "output_type": "stream",
     "text": [
      "[Epoch 71/250] Training Loss: 0.3628\n"
     ]
    },
    {
     "name": "stderr",
     "output_type": "stream",
     "text": [
      "Training:  28%|██▊       | 71/250 [2:29:02<6:14:29, 125.53s/epoch]"
     ]
    },
    {
     "name": "stdout",
     "output_type": "stream",
     "text": [
      "  Train => MSE=0.3298, CI=0.8404, Pearson=0.7772\n",
      "  Test  => MSE=0.3933, CI=0.8185, Pearson=0.6918\n",
      "Checkpoint saved at epoch 71\n",
      "Deleted previous checkpoint: /kaggle/working/TrainingModel1/model_epoch70.pt\n"
     ]
    },
    {
     "name": "stderr",
     "output_type": "stream",
     "text": [
      "Training:  28%|██▊       | 71/250 [2:29:56<6:14:29, 125.53s/epoch]"
     ]
    },
    {
     "name": "stdout",
     "output_type": "stream",
     "text": [
      "[Epoch 72/250] Training Loss: 0.3574\n"
     ]
    },
    {
     "name": "stderr",
     "output_type": "stream",
     "text": [
      "Training:  29%|██▉       | 72/250 [2:31:08<6:12:08, 125.44s/epoch]"
     ]
    },
    {
     "name": "stdout",
     "output_type": "stream",
     "text": [
      "  Train => MSE=0.3185, CI=0.8442, Pearson=0.7764\n",
      "  Test  => MSE=0.3816, CI=0.8212, Pearson=0.6914\n",
      "Checkpoint saved at epoch 72\n",
      "Deleted previous checkpoint: /kaggle/working/TrainingModel1/model_epoch71.pt\n"
     ]
    },
    {
     "name": "stderr",
     "output_type": "stream",
     "text": [
      "Training:  29%|██▉       | 72/250 [2:32:02<6:12:08, 125.44s/epoch]"
     ]
    },
    {
     "name": "stdout",
     "output_type": "stream",
     "text": [
      "[Epoch 73/250] Training Loss: 0.3560\n"
     ]
    },
    {
     "name": "stderr",
     "output_type": "stream",
     "text": [
      "Training:  29%|██▉       | 73/250 [2:33:13<6:10:18, 125.53s/epoch]"
     ]
    },
    {
     "name": "stdout",
     "output_type": "stream",
     "text": [
      "  Train => MSE=0.3192, CI=0.8368, Pearson=0.7625\n",
      "  Test  => MSE=0.3756, CI=0.8127, Pearson=0.6752\n",
      "Checkpoint saved at epoch 73\n",
      "Deleted previous checkpoint: /kaggle/working/TrainingModel1/model_epoch72.pt\n"
     ]
    },
    {
     "name": "stderr",
     "output_type": "stream",
     "text": [
      "Training:  29%|██▉       | 73/250 [2:34:07<6:10:18, 125.53s/epoch]"
     ]
    },
    {
     "name": "stdout",
     "output_type": "stream",
     "text": [
      "[Epoch 74/250] Training Loss: 0.3605\n"
     ]
    },
    {
     "name": "stderr",
     "output_type": "stream",
     "text": [
      "Training:  30%|██▉       | 74/250 [2:35:19<6:08:04, 125.48s/epoch]"
     ]
    },
    {
     "name": "stdout",
     "output_type": "stream",
     "text": [
      "  Train => MSE=0.3034, CI=0.8439, Pearson=0.7772\n",
      "  Test  => MSE=0.3646, CI=0.8224, Pearson=0.6924\n",
      "Checkpoint saved at epoch 74\n",
      "Deleted previous checkpoint: /kaggle/working/TrainingModel1/model_epoch73.pt\n"
     ]
    },
    {
     "name": "stderr",
     "output_type": "stream",
     "text": [
      "Training:  30%|██▉       | 74/250 [2:36:12<6:08:04, 125.48s/epoch]"
     ]
    },
    {
     "name": "stdout",
     "output_type": "stream",
     "text": [
      "[Epoch 75/250] Training Loss: 0.3527\n"
     ]
    },
    {
     "name": "stderr",
     "output_type": "stream",
     "text": [
      "Training:  30%|███       | 75/250 [2:37:24<6:05:51, 125.44s/epoch]"
     ]
    },
    {
     "name": "stdout",
     "output_type": "stream",
     "text": [
      "  Train => MSE=0.3044, CI=0.8418, Pearson=0.7765\n",
      "  Test  => MSE=0.3524, CI=0.8192, Pearson=0.7059\n",
      "Checkpoint saved at epoch 75\n",
      "Deleted previous checkpoint: /kaggle/working/TrainingModel1/model_epoch74.pt\n"
     ]
    },
    {
     "name": "stderr",
     "output_type": "stream",
     "text": [
      "Training:  30%|███       | 75/250 [2:38:18<6:05:51, 125.44s/epoch]"
     ]
    },
    {
     "name": "stdout",
     "output_type": "stream",
     "text": [
      "[Epoch 76/250] Training Loss: 0.3548\n"
     ]
    },
    {
     "name": "stderr",
     "output_type": "stream",
     "text": [
      "Training:  30%|███       | 76/250 [2:39:30<6:03:59, 125.52s/epoch]"
     ]
    },
    {
     "name": "stdout",
     "output_type": "stream",
     "text": [
      "  Train => MSE=0.3069, CI=0.8422, Pearson=0.7729\n",
      "  Test  => MSE=0.3590, CI=0.8196, Pearson=0.6957\n",
      "Checkpoint saved at epoch 76\n",
      "Deleted previous checkpoint: /kaggle/working/TrainingModel1/model_epoch75.pt\n"
     ]
    },
    {
     "name": "stderr",
     "output_type": "stream",
     "text": [
      "Training:  30%|███       | 76/250 [2:40:24<6:03:59, 125.52s/epoch]"
     ]
    },
    {
     "name": "stdout",
     "output_type": "stream",
     "text": [
      "[Epoch 77/250] Training Loss: 0.3569\n"
     ]
    },
    {
     "name": "stderr",
     "output_type": "stream",
     "text": [
      "Training:  31%|███       | 77/250 [2:41:35<6:02:00, 125.55s/epoch]"
     ]
    },
    {
     "name": "stdout",
     "output_type": "stream",
     "text": [
      "  Train => MSE=0.3159, CI=0.8455, Pearson=0.7789\n",
      "  Test  => MSE=0.3707, CI=0.8207, Pearson=0.6982\n",
      "Checkpoint saved at epoch 77\n",
      "Deleted previous checkpoint: /kaggle/working/TrainingModel1/model_epoch76.pt\n"
     ]
    },
    {
     "name": "stderr",
     "output_type": "stream",
     "text": [
      "Training:  31%|███       | 77/250 [2:42:29<6:02:00, 125.55s/epoch]"
     ]
    },
    {
     "name": "stdout",
     "output_type": "stream",
     "text": [
      "[Epoch 78/250] Training Loss: 0.3537\n"
     ]
    },
    {
     "name": "stderr",
     "output_type": "stream",
     "text": [
      "Training:  31%|███       | 78/250 [2:43:41<6:00:20, 125.70s/epoch]"
     ]
    },
    {
     "name": "stdout",
     "output_type": "stream",
     "text": [
      "  Train => MSE=0.3176, CI=0.8401, Pearson=0.7694\n",
      "  Test  => MSE=0.3714, CI=0.8209, Pearson=0.6929\n",
      "Checkpoint saved at epoch 78\n",
      "Deleted previous checkpoint: /kaggle/working/TrainingModel1/model_epoch77.pt\n"
     ]
    },
    {
     "name": "stderr",
     "output_type": "stream",
     "text": [
      "Training:  31%|███       | 78/250 [2:44:35<6:00:20, 125.70s/epoch]"
     ]
    },
    {
     "name": "stdout",
     "output_type": "stream",
     "text": [
      "[Epoch 79/250] Training Loss: 0.3534\n"
     ]
    },
    {
     "name": "stderr",
     "output_type": "stream",
     "text": [
      "Training:  32%|███▏      | 79/250 [2:45:47<5:58:11, 125.68s/epoch]"
     ]
    },
    {
     "name": "stdout",
     "output_type": "stream",
     "text": [
      "  Train => MSE=0.3172, CI=0.8456, Pearson=0.7723\n",
      "  Test  => MSE=0.3609, CI=0.8281, Pearson=0.7071\n",
      "Checkpoint saved at epoch 79\n",
      "Deleted previous checkpoint: /kaggle/working/TrainingModel1/model_epoch78.pt\n"
     ]
    },
    {
     "name": "stderr",
     "output_type": "stream",
     "text": [
      "Training:  32%|███▏      | 79/250 [2:46:41<5:58:11, 125.68s/epoch]"
     ]
    },
    {
     "name": "stdout",
     "output_type": "stream",
     "text": [
      "[Epoch 80/250] Training Loss: 0.3478\n"
     ]
    },
    {
     "name": "stderr",
     "output_type": "stream",
     "text": [
      "Training:  32%|███▏      | 80/250 [2:47:53<5:56:17, 125.75s/epoch]"
     ]
    },
    {
     "name": "stdout",
     "output_type": "stream",
     "text": [
      "  Train => MSE=0.2978, CI=0.8503, Pearson=0.7910\n",
      "  Test  => MSE=0.3512, CI=0.8301, Pearson=0.7138\n",
      "Checkpoint saved at epoch 80\n",
      "Deleted previous checkpoint: /kaggle/working/TrainingModel1/model_epoch79.pt\n"
     ]
    },
    {
     "name": "stderr",
     "output_type": "stream",
     "text": [
      "Training:  32%|███▏      | 80/250 [2:48:47<5:56:17, 125.75s/epoch]"
     ]
    },
    {
     "name": "stdout",
     "output_type": "stream",
     "text": [
      "[Epoch 81/250] Training Loss: 0.3476\n"
     ]
    },
    {
     "name": "stderr",
     "output_type": "stream",
     "text": [
      "Training:  32%|███▏      | 80/250 [2:49:59<5:56:17, 125.75s/epoch]"
     ]
    },
    {
     "name": "stdout",
     "output_type": "stream",
     "text": [
      "  Train => MSE=0.3071, CI=0.8483, Pearson=0.7765\n",
      "  Test  => MSE=0.3604, CI=0.8273, Pearson=0.6983\n"
     ]
    },
    {
     "name": "stderr",
     "output_type": "stream",
     "text": [
      "Training:  32%|███▏      | 81/250 [2:49:59<5:54:17, 125.78s/epoch]"
     ]
    },
    {
     "name": "stdout",
     "output_type": "stream",
     "text": [
      "Checkpoint saved at epoch 81\n",
      "Deleted previous checkpoint: /kaggle/working/TrainingModel1/model_epoch80.pt\n"
     ]
    },
    {
     "name": "stderr",
     "output_type": "stream",
     "text": [
      "Training:  32%|███▏      | 81/250 [2:50:53<5:54:17, 125.78s/epoch]"
     ]
    },
    {
     "name": "stdout",
     "output_type": "stream",
     "text": [
      "[Epoch 82/250] Training Loss: 0.3334\n"
     ]
    },
    {
     "name": "stderr",
     "output_type": "stream",
     "text": [
      "Training:  33%|███▎      | 82/250 [2:52:04<5:51:50, 125.66s/epoch]"
     ]
    },
    {
     "name": "stdout",
     "output_type": "stream",
     "text": [
      "  Train => MSE=0.3358, CI=0.8470, Pearson=0.7875\n",
      "  Test  => MSE=0.3863, CI=0.8269, Pearson=0.7151\n",
      "Checkpoint saved at epoch 82\n",
      "Deleted previous checkpoint: /kaggle/working/TrainingModel1/model_epoch81.pt\n"
     ]
    },
    {
     "name": "stderr",
     "output_type": "stream",
     "text": [
      "Training:  33%|███▎      | 82/250 [2:52:58<5:51:50, 125.66s/epoch]"
     ]
    },
    {
     "name": "stdout",
     "output_type": "stream",
     "text": [
      "[Epoch 83/250] Training Loss: 0.3361\n"
     ]
    },
    {
     "name": "stderr",
     "output_type": "stream",
     "text": [
      "Training:  33%|███▎      | 83/250 [2:54:10<5:49:47, 125.68s/epoch]"
     ]
    },
    {
     "name": "stdout",
     "output_type": "stream",
     "text": [
      "  Train => MSE=0.3120, CI=0.8458, Pearson=0.7807\n",
      "  Test  => MSE=0.3603, CI=0.8222, Pearson=0.7062\n",
      "Checkpoint saved at epoch 83\n",
      "Deleted previous checkpoint: /kaggle/working/TrainingModel1/model_epoch82.pt\n"
     ]
    },
    {
     "name": "stderr",
     "output_type": "stream",
     "text": [
      "Training:  33%|███▎      | 83/250 [2:55:04<5:49:47, 125.68s/epoch]"
     ]
    },
    {
     "name": "stdout",
     "output_type": "stream",
     "text": [
      "[Epoch 84/250] Training Loss: 0.3382\n"
     ]
    },
    {
     "name": "stderr",
     "output_type": "stream",
     "text": [
      "Training:  34%|███▎      | 84/250 [2:56:16<5:48:03, 125.80s/epoch]"
     ]
    },
    {
     "name": "stdout",
     "output_type": "stream",
     "text": [
      "  Train => MSE=0.2941, CI=0.8486, Pearson=0.7933\n",
      "  Test  => MSE=0.3550, CI=0.8257, Pearson=0.7144\n",
      "Checkpoint saved at epoch 84\n",
      "Deleted previous checkpoint: /kaggle/working/TrainingModel1/model_epoch83.pt\n"
     ]
    },
    {
     "name": "stderr",
     "output_type": "stream",
     "text": [
      "Training:  34%|███▎      | 84/250 [2:57:10<5:48:03, 125.80s/epoch]"
     ]
    },
    {
     "name": "stdout",
     "output_type": "stream",
     "text": [
      "[Epoch 85/250] Training Loss: 0.3456\n"
     ]
    },
    {
     "name": "stderr",
     "output_type": "stream",
     "text": [
      "Training:  34%|███▍      | 85/250 [2:58:22<5:45:51, 125.76s/epoch]"
     ]
    },
    {
     "name": "stdout",
     "output_type": "stream",
     "text": [
      "  Train => MSE=0.3234, CI=0.8471, Pearson=0.7848\n",
      "  Test  => MSE=0.3841, CI=0.8268, Pearson=0.7087\n",
      "Checkpoint saved at epoch 85\n",
      "Deleted previous checkpoint: /kaggle/working/TrainingModel1/model_epoch84.pt\n"
     ]
    },
    {
     "name": "stderr",
     "output_type": "stream",
     "text": [
      "Training:  34%|███▍      | 85/250 [2:59:16<5:45:51, 125.76s/epoch]"
     ]
    },
    {
     "name": "stdout",
     "output_type": "stream",
     "text": [
      "[Epoch 86/250] Training Loss: 0.3432\n"
     ]
    },
    {
     "name": "stderr",
     "output_type": "stream",
     "text": [
      "Training:  34%|███▍      | 86/250 [3:00:27<5:43:36, 125.71s/epoch]"
     ]
    },
    {
     "name": "stdout",
     "output_type": "stream",
     "text": [
      "  Train => MSE=0.3033, CI=0.8399, Pearson=0.7847\n",
      "  Test  => MSE=0.3674, CI=0.8141, Pearson=0.6952\n",
      "Checkpoint saved at epoch 86\n",
      "Deleted previous checkpoint: /kaggle/working/TrainingModel1/model_epoch85.pt\n"
     ]
    },
    {
     "name": "stderr",
     "output_type": "stream",
     "text": [
      "Training:  34%|███▍      | 86/250 [3:01:21<5:43:36, 125.71s/epoch]"
     ]
    },
    {
     "name": "stdout",
     "output_type": "stream",
     "text": [
      "[Epoch 87/250] Training Loss: 0.3402\n"
     ]
    },
    {
     "name": "stderr",
     "output_type": "stream",
     "text": [
      "Training:  35%|███▍      | 87/250 [3:02:33<5:41:24, 125.67s/epoch]"
     ]
    },
    {
     "name": "stdout",
     "output_type": "stream",
     "text": [
      "  Train => MSE=0.3304, CI=0.8413, Pearson=0.7628\n",
      "  Test  => MSE=0.3852, CI=0.8177, Pearson=0.6787\n",
      "Checkpoint saved at epoch 87\n",
      "Deleted previous checkpoint: /kaggle/working/TrainingModel1/model_epoch86.pt\n"
     ]
    },
    {
     "name": "stderr",
     "output_type": "stream",
     "text": [
      "Training:  35%|███▍      | 87/250 [3:03:27<5:41:24, 125.67s/epoch]"
     ]
    },
    {
     "name": "stdout",
     "output_type": "stream",
     "text": [
      "[Epoch 88/250] Training Loss: 0.3382\n"
     ]
    },
    {
     "name": "stderr",
     "output_type": "stream",
     "text": [
      "Training:  35%|███▌      | 88/250 [3:04:38<5:39:14, 125.64s/epoch]"
     ]
    },
    {
     "name": "stdout",
     "output_type": "stream",
     "text": [
      "  Train => MSE=0.3251, CI=0.8435, Pearson=0.7744\n",
      "  Test  => MSE=0.3918, CI=0.8176, Pearson=0.6815\n",
      "Checkpoint saved at epoch 88\n",
      "Deleted previous checkpoint: /kaggle/working/TrainingModel1/model_epoch87.pt\n"
     ]
    },
    {
     "name": "stderr",
     "output_type": "stream",
     "text": [
      "Training:  35%|███▌      | 88/250 [3:05:33<5:39:14, 125.64s/epoch]"
     ]
    },
    {
     "name": "stdout",
     "output_type": "stream",
     "text": [
      "[Epoch 89/250] Training Loss: 0.3391\n"
     ]
    },
    {
     "name": "stderr",
     "output_type": "stream",
     "text": [
      "Training:  36%|███▌      | 89/250 [3:06:44<5:37:27, 125.76s/epoch]"
     ]
    },
    {
     "name": "stdout",
     "output_type": "stream",
     "text": [
      "  Train => MSE=0.3168, CI=0.8512, Pearson=0.7973\n",
      "  Test  => MSE=0.3776, CI=0.8307, Pearson=0.7200\n",
      "Checkpoint saved at epoch 89\n",
      "Deleted previous checkpoint: /kaggle/working/TrainingModel1/model_epoch88.pt\n"
     ]
    },
    {
     "name": "stderr",
     "output_type": "stream",
     "text": [
      "Training:  36%|███▌      | 89/250 [3:07:38<5:37:27, 125.76s/epoch]"
     ]
    },
    {
     "name": "stdout",
     "output_type": "stream",
     "text": [
      "[Epoch 90/250] Training Loss: 0.3379\n"
     ]
    },
    {
     "name": "stderr",
     "output_type": "stream",
     "text": [
      "Training:  36%|███▌      | 90/250 [3:08:50<5:35:09, 125.68s/epoch]"
     ]
    },
    {
     "name": "stdout",
     "output_type": "stream",
     "text": [
      "  Train => MSE=0.3114, CI=0.8493, Pearson=0.7857\n",
      "  Test  => MSE=0.3789, CI=0.8255, Pearson=0.6955\n",
      "Checkpoint saved at epoch 90\n",
      "Deleted previous checkpoint: /kaggle/working/TrainingModel1/model_epoch89.pt\n"
     ]
    },
    {
     "name": "stderr",
     "output_type": "stream",
     "text": [
      "Training:  36%|███▌      | 90/250 [3:09:44<5:35:09, 125.68s/epoch]"
     ]
    },
    {
     "name": "stdout",
     "output_type": "stream",
     "text": [
      "[Epoch 91/250] Training Loss: 0.3284\n"
     ]
    },
    {
     "name": "stderr",
     "output_type": "stream",
     "text": [
      "Training:  36%|███▋      | 91/250 [3:10:56<5:33:10, 125.73s/epoch]"
     ]
    },
    {
     "name": "stdout",
     "output_type": "stream",
     "text": [
      "  Train => MSE=0.2930, CI=0.8484, Pearson=0.7884\n",
      "  Test  => MSE=0.3406, CI=0.8272, Pearson=0.7185\n",
      "Checkpoint saved at epoch 91\n",
      "Deleted previous checkpoint: /kaggle/working/TrainingModel1/model_epoch90.pt\n"
     ]
    },
    {
     "name": "stderr",
     "output_type": "stream",
     "text": [
      "Training:  36%|███▋      | 91/250 [3:11:50<5:33:10, 125.73s/epoch]"
     ]
    },
    {
     "name": "stdout",
     "output_type": "stream",
     "text": [
      "[Epoch 92/250] Training Loss: 0.3388\n"
     ]
    },
    {
     "name": "stderr",
     "output_type": "stream",
     "text": [
      "Training:  37%|███▋      | 92/250 [3:13:02<5:31:03, 125.72s/epoch]"
     ]
    },
    {
     "name": "stdout",
     "output_type": "stream",
     "text": [
      "  Train => MSE=0.3029, CI=0.8502, Pearson=0.7940\n",
      "  Test  => MSE=0.3509, CI=0.8289, Pearson=0.7252\n",
      "Checkpoint saved at epoch 92\n",
      "Deleted previous checkpoint: /kaggle/working/TrainingModel1/model_epoch91.pt\n"
     ]
    },
    {
     "name": "stderr",
     "output_type": "stream",
     "text": [
      "Training:  37%|███▋      | 92/250 [3:13:56<5:31:03, 125.72s/epoch]"
     ]
    },
    {
     "name": "stdout",
     "output_type": "stream",
     "text": [
      "[Epoch 93/250] Training Loss: 0.3324\n"
     ]
    },
    {
     "name": "stderr",
     "output_type": "stream",
     "text": [
      "Training:  37%|███▋      | 93/250 [3:15:07<5:28:58, 125.72s/epoch]"
     ]
    },
    {
     "name": "stdout",
     "output_type": "stream",
     "text": [
      "  Train => MSE=0.2904, CI=0.8486, Pearson=0.7946\n",
      "  Test  => MSE=0.3434, CI=0.8281, Pearson=0.7213\n",
      "Checkpoint saved at epoch 93\n",
      "Deleted previous checkpoint: /kaggle/working/TrainingModel1/model_epoch92.pt\n"
     ]
    },
    {
     "name": "stderr",
     "output_type": "stream",
     "text": [
      "Training:  37%|███▋      | 93/250 [3:16:01<5:28:58, 125.72s/epoch]"
     ]
    },
    {
     "name": "stdout",
     "output_type": "stream",
     "text": [
      "[Epoch 94/250] Training Loss: 0.3240\n"
     ]
    },
    {
     "name": "stderr",
     "output_type": "stream",
     "text": [
      "Training:  37%|███▋      | 93/250 [3:17:13<5:28:58, 125.72s/epoch]"
     ]
    },
    {
     "name": "stdout",
     "output_type": "stream",
     "text": [
      "  Train => MSE=0.3040, CI=0.8461, Pearson=0.7848\n",
      "  Test  => MSE=0.3608, CI=0.8216, Pearson=0.7036\n"
     ]
    },
    {
     "name": "stderr",
     "output_type": "stream",
     "text": [
      "Training:  38%|███▊      | 94/250 [3:17:13<5:27:04, 125.80s/epoch]"
     ]
    },
    {
     "name": "stdout",
     "output_type": "stream",
     "text": [
      "Checkpoint saved at epoch 94\n",
      "Deleted previous checkpoint: /kaggle/working/TrainingModel1/model_epoch93.pt\n"
     ]
    },
    {
     "name": "stderr",
     "output_type": "stream",
     "text": [
      "Training:  38%|███▊      | 94/250 [3:18:07<5:27:04, 125.80s/epoch]"
     ]
    },
    {
     "name": "stdout",
     "output_type": "stream",
     "text": [
      "[Epoch 95/250] Training Loss: 0.3237\n"
     ]
    },
    {
     "name": "stderr",
     "output_type": "stream",
     "text": [
      "Training:  38%|███▊      | 95/250 [3:19:19<5:24:57, 125.79s/epoch]"
     ]
    },
    {
     "name": "stdout",
     "output_type": "stream",
     "text": [
      "  Train => MSE=0.3061, CI=0.8460, Pearson=0.7836\n",
      "  Test  => MSE=0.3581, CI=0.8265, Pearson=0.7067\n",
      "Checkpoint saved at epoch 95\n",
      "Deleted previous checkpoint: /kaggle/working/TrainingModel1/model_epoch94.pt\n"
     ]
    },
    {
     "name": "stderr",
     "output_type": "stream",
     "text": [
      "Training:  38%|███▊      | 95/250 [3:20:13<5:24:57, 125.79s/epoch]"
     ]
    },
    {
     "name": "stdout",
     "output_type": "stream",
     "text": [
      "[Epoch 96/250] Training Loss: 0.3210\n"
     ]
    },
    {
     "name": "stderr",
     "output_type": "stream",
     "text": [
      "Training:  38%|███▊      | 96/250 [3:21:25<5:23:02, 125.86s/epoch]"
     ]
    },
    {
     "name": "stdout",
     "output_type": "stream",
     "text": [
      "  Train => MSE=0.3200, CI=0.8432, Pearson=0.7673\n",
      "  Test  => MSE=0.3759, CI=0.8194, Pearson=0.6828\n",
      "Checkpoint saved at epoch 96\n",
      "Deleted previous checkpoint: /kaggle/working/TrainingModel1/model_epoch95.pt\n"
     ]
    },
    {
     "name": "stderr",
     "output_type": "stream",
     "text": [
      "Training:  38%|███▊      | 96/250 [3:22:19<5:23:02, 125.86s/epoch]"
     ]
    },
    {
     "name": "stdout",
     "output_type": "stream",
     "text": [
      "[Epoch 97/250] Training Loss: 0.3283\n"
     ]
    },
    {
     "name": "stderr",
     "output_type": "stream",
     "text": [
      "Training:  39%|███▉      | 97/250 [3:23:31<5:20:50, 125.82s/epoch]"
     ]
    },
    {
     "name": "stdout",
     "output_type": "stream",
     "text": [
      "  Train => MSE=0.2958, CI=0.8476, Pearson=0.7926\n",
      "  Test  => MSE=0.3484, CI=0.8277, Pearson=0.7181\n",
      "Checkpoint saved at epoch 97\n",
      "Deleted previous checkpoint: /kaggle/working/TrainingModel1/model_epoch96.pt\n"
     ]
    },
    {
     "name": "stderr",
     "output_type": "stream",
     "text": [
      "Training:  39%|███▉      | 97/250 [3:24:25<5:20:50, 125.82s/epoch]"
     ]
    },
    {
     "name": "stdout",
     "output_type": "stream",
     "text": [
      "[Epoch 98/250] Training Loss: 0.3232\n"
     ]
    },
    {
     "name": "stderr",
     "output_type": "stream",
     "text": [
      "Training:  39%|███▉      | 98/250 [3:25:36<5:18:32, 125.74s/epoch]"
     ]
    },
    {
     "name": "stdout",
     "output_type": "stream",
     "text": [
      "  Train => MSE=0.2841, CI=0.8453, Pearson=0.7930\n",
      "  Test  => MSE=0.3477, CI=0.8198, Pearson=0.7086\n",
      "Checkpoint saved at epoch 98\n",
      "Deleted previous checkpoint: /kaggle/working/TrainingModel1/model_epoch97.pt\n"
     ]
    },
    {
     "name": "stderr",
     "output_type": "stream",
     "text": [
      "Training:  39%|███▉      | 98/250 [3:26:30<5:18:32, 125.74s/epoch]"
     ]
    },
    {
     "name": "stdout",
     "output_type": "stream",
     "text": [
      "[Epoch 99/250] Training Loss: 0.3199\n"
     ]
    },
    {
     "name": "stderr",
     "output_type": "stream",
     "text": [
      "Training:  40%|███▉      | 99/250 [3:27:42<5:16:25, 125.73s/epoch]"
     ]
    },
    {
     "name": "stdout",
     "output_type": "stream",
     "text": [
      "  Train => MSE=0.2835, CI=0.8481, Pearson=0.7921\n",
      "  Test  => MSE=0.3398, CI=0.8215, Pearson=0.7151\n",
      "Checkpoint saved at epoch 99\n",
      "Deleted previous checkpoint: /kaggle/working/TrainingModel1/model_epoch98.pt\n"
     ]
    },
    {
     "name": "stderr",
     "output_type": "stream",
     "text": [
      "Training:  40%|███▉      | 99/250 [3:28:36<5:16:25, 125.73s/epoch]"
     ]
    },
    {
     "name": "stdout",
     "output_type": "stream",
     "text": [
      "[Epoch 100/250] Training Loss: 0.3232\n"
     ]
    },
    {
     "name": "stderr",
     "output_type": "stream",
     "text": [
      "Training:  40%|████      | 100/250 [3:29:48<5:14:27, 125.78s/epoch]"
     ]
    },
    {
     "name": "stdout",
     "output_type": "stream",
     "text": [
      "  Train => MSE=0.2921, CI=0.8487, Pearson=0.7906\n",
      "  Test  => MSE=0.3494, CI=0.8239, Pearson=0.7074\n",
      "Checkpoint saved at epoch 100\n",
      "Deleted previous checkpoint: /kaggle/working/TrainingModel1/model_epoch99.pt\n"
     ]
    },
    {
     "name": "stderr",
     "output_type": "stream",
     "text": [
      "Training:  40%|████      | 100/250 [3:30:42<5:14:27, 125.78s/epoch]"
     ]
    },
    {
     "name": "stdout",
     "output_type": "stream",
     "text": [
      "[Epoch 101/250] Training Loss: 0.3229\n"
     ]
    },
    {
     "name": "stderr",
     "output_type": "stream",
     "text": [
      "Training:  40%|████      | 101/250 [3:31:54<5:12:15, 125.74s/epoch]"
     ]
    },
    {
     "name": "stdout",
     "output_type": "stream",
     "text": [
      "  Train => MSE=0.2766, CI=0.8522, Pearson=0.8034\n",
      "  Test  => MSE=0.3334, CI=0.8286, Pearson=0.7200\n",
      "Checkpoint saved at epoch 101\n",
      "Deleted previous checkpoint: /kaggle/working/TrainingModel1/model_epoch100.pt\n"
     ]
    },
    {
     "name": "stderr",
     "output_type": "stream",
     "text": [
      "Training:  40%|████      | 101/250 [3:32:47<5:12:15, 125.74s/epoch]"
     ]
    },
    {
     "name": "stdout",
     "output_type": "stream",
     "text": [
      "[Epoch 102/250] Training Loss: 0.3178\n"
     ]
    },
    {
     "name": "stderr",
     "output_type": "stream",
     "text": [
      "Training:  41%|████      | 102/250 [3:33:59<5:09:59, 125.67s/epoch]"
     ]
    },
    {
     "name": "stdout",
     "output_type": "stream",
     "text": [
      "  Train => MSE=0.2894, CI=0.8489, Pearson=0.7988\n",
      "  Test  => MSE=0.3645, CI=0.8215, Pearson=0.7075\n",
      "Checkpoint saved at epoch 102\n",
      "Deleted previous checkpoint: /kaggle/working/TrainingModel1/model_epoch101.pt\n"
     ]
    },
    {
     "name": "stderr",
     "output_type": "stream",
     "text": [
      "Training:  41%|████      | 102/250 [3:34:53<5:09:59, 125.67s/epoch]"
     ]
    },
    {
     "name": "stdout",
     "output_type": "stream",
     "text": [
      "[Epoch 103/250] Training Loss: 0.3236\n"
     ]
    },
    {
     "name": "stderr",
     "output_type": "stream",
     "text": [
      "Training:  41%|████      | 103/250 [3:36:04<5:07:37, 125.56s/epoch]"
     ]
    },
    {
     "name": "stdout",
     "output_type": "stream",
     "text": [
      "  Train => MSE=0.3002, CI=0.8455, Pearson=0.7929\n",
      "  Test  => MSE=0.3679, CI=0.8185, Pearson=0.7056\n",
      "Checkpoint saved at epoch 103\n",
      "Deleted previous checkpoint: /kaggle/working/TrainingModel1/model_epoch102.pt\n"
     ]
    },
    {
     "name": "stderr",
     "output_type": "stream",
     "text": [
      "Training:  41%|████      | 103/250 [3:36:58<5:07:37, 125.56s/epoch]"
     ]
    },
    {
     "name": "stdout",
     "output_type": "stream",
     "text": [
      "[Epoch 104/250] Training Loss: 0.3197\n"
     ]
    },
    {
     "name": "stderr",
     "output_type": "stream",
     "text": [
      "Training:  42%|████▏     | 104/250 [3:38:10<5:05:34, 125.58s/epoch]"
     ]
    },
    {
     "name": "stdout",
     "output_type": "stream",
     "text": [
      "  Train => MSE=0.3007, CI=0.8514, Pearson=0.7970\n",
      "  Test  => MSE=0.3595, CI=0.8276, Pearson=0.7143\n",
      "Checkpoint saved at epoch 104\n",
      "Deleted previous checkpoint: /kaggle/working/TrainingModel1/model_epoch103.pt\n"
     ]
    },
    {
     "name": "stderr",
     "output_type": "stream",
     "text": [
      "Training:  42%|████▏     | 104/250 [3:39:04<5:05:34, 125.58s/epoch]"
     ]
    },
    {
     "name": "stdout",
     "output_type": "stream",
     "text": [
      "[Epoch 105/250] Training Loss: 0.3201\n"
     ]
    },
    {
     "name": "stderr",
     "output_type": "stream",
     "text": [
      "Training:  42%|████▏     | 105/250 [3:40:15<5:03:22, 125.54s/epoch]"
     ]
    },
    {
     "name": "stdout",
     "output_type": "stream",
     "text": [
      "  Train => MSE=0.2795, CI=0.8499, Pearson=0.7996\n",
      "  Test  => MSE=0.3478, CI=0.8206, Pearson=0.7087\n",
      "Checkpoint saved at epoch 105\n",
      "Deleted previous checkpoint: /kaggle/working/TrainingModel1/model_epoch104.pt\n"
     ]
    },
    {
     "name": "stderr",
     "output_type": "stream",
     "text": [
      "Training:  42%|████▏     | 105/250 [3:41:09<5:03:22, 125.54s/epoch]"
     ]
    },
    {
     "name": "stdout",
     "output_type": "stream",
     "text": [
      "[Epoch 106/250] Training Loss: 0.3084\n"
     ]
    },
    {
     "name": "stderr",
     "output_type": "stream",
     "text": [
      "Training:  42%|████▏     | 106/250 [3:42:22<5:01:39, 125.69s/epoch]"
     ]
    },
    {
     "name": "stdout",
     "output_type": "stream",
     "text": [
      "  Train => MSE=0.2760, CI=0.8542, Pearson=0.8065\n",
      "  Test  => MSE=0.3451, CI=0.8267, Pearson=0.7158\n",
      "Checkpoint saved at epoch 106\n",
      "Deleted previous checkpoint: /kaggle/working/TrainingModel1/model_epoch105.pt\n"
     ]
    },
    {
     "name": "stderr",
     "output_type": "stream",
     "text": [
      "Training:  42%|████▏     | 106/250 [3:43:15<5:01:39, 125.69s/epoch]"
     ]
    },
    {
     "name": "stdout",
     "output_type": "stream",
     "text": [
      "[Epoch 107/250] Training Loss: 0.3092\n"
     ]
    },
    {
     "name": "stderr",
     "output_type": "stream",
     "text": [
      "Training:  42%|████▏     | 106/250 [3:44:27<5:01:39, 125.69s/epoch]"
     ]
    },
    {
     "name": "stdout",
     "output_type": "stream",
     "text": [
      "  Train => MSE=0.3047, CI=0.8452, Pearson=0.7967\n",
      "  Test  => MSE=0.3771, CI=0.8227, Pearson=0.7039\n"
     ]
    },
    {
     "name": "stderr",
     "output_type": "stream",
     "text": [
      "Training:  43%|████▎     | 107/250 [3:44:27<4:59:15, 125.57s/epoch]"
     ]
    },
    {
     "name": "stdout",
     "output_type": "stream",
     "text": [
      "Checkpoint saved at epoch 107\n",
      "Deleted previous checkpoint: /kaggle/working/TrainingModel1/model_epoch106.pt\n"
     ]
    },
    {
     "name": "stderr",
     "output_type": "stream",
     "text": [
      "Training:  43%|████▎     | 107/250 [3:45:21<4:59:15, 125.57s/epoch]"
     ]
    },
    {
     "name": "stdout",
     "output_type": "stream",
     "text": [
      "[Epoch 108/250] Training Loss: 0.3181\n"
     ]
    },
    {
     "name": "stderr",
     "output_type": "stream",
     "text": [
      "Training:  43%|████▎     | 108/250 [3:46:32<4:56:57, 125.48s/epoch]"
     ]
    },
    {
     "name": "stdout",
     "output_type": "stream",
     "text": [
      "  Train => MSE=0.3108, CI=0.8467, Pearson=0.7885\n",
      "  Test  => MSE=0.3841, CI=0.8141, Pearson=0.6945\n",
      "Checkpoint saved at epoch 108\n",
      "Deleted previous checkpoint: /kaggle/working/TrainingModel1/model_epoch107.pt\n"
     ]
    },
    {
     "name": "stderr",
     "output_type": "stream",
     "text": [
      "Training:  43%|████▎     | 108/250 [3:47:26<4:56:57, 125.48s/epoch]"
     ]
    },
    {
     "name": "stdout",
     "output_type": "stream",
     "text": [
      "[Epoch 109/250] Training Loss: 0.3145\n"
     ]
    },
    {
     "name": "stderr",
     "output_type": "stream",
     "text": [
      "Training:  44%|████▎     | 109/250 [3:48:37<4:54:49, 125.46s/epoch]"
     ]
    },
    {
     "name": "stdout",
     "output_type": "stream",
     "text": [
      "  Train => MSE=0.2647, CI=0.8532, Pearson=0.8139\n",
      "  Test  => MSE=0.3361, CI=0.8264, Pearson=0.7256\n",
      "Checkpoint saved at epoch 109\n",
      "Deleted previous checkpoint: /kaggle/working/TrainingModel1/model_epoch108.pt\n"
     ]
    },
    {
     "name": "stderr",
     "output_type": "stream",
     "text": [
      "Training:  44%|████▎     | 109/250 [3:49:31<4:54:49, 125.46s/epoch]"
     ]
    },
    {
     "name": "stdout",
     "output_type": "stream",
     "text": [
      "[Epoch 110/250] Training Loss: 0.3077\n"
     ]
    },
    {
     "name": "stderr",
     "output_type": "stream",
     "text": [
      "Training:  44%|████▍     | 110/250 [3:50:43<4:52:41, 125.44s/epoch]"
     ]
    },
    {
     "name": "stdout",
     "output_type": "stream",
     "text": [
      "  Train => MSE=0.2855, CI=0.8497, Pearson=0.7971\n",
      "  Test  => MSE=0.3546, CI=0.8225, Pearson=0.7062\n",
      "Checkpoint saved at epoch 110\n",
      "Deleted previous checkpoint: /kaggle/working/TrainingModel1/model_epoch109.pt\n"
     ]
    },
    {
     "name": "stderr",
     "output_type": "stream",
     "text": [
      "Training:  44%|████▍     | 110/250 [3:51:37<4:52:41, 125.44s/epoch]"
     ]
    },
    {
     "name": "stdout",
     "output_type": "stream",
     "text": [
      "[Epoch 111/250] Training Loss: 0.3051\n"
     ]
    },
    {
     "name": "stderr",
     "output_type": "stream",
     "text": [
      "Training:  44%|████▍     | 111/250 [3:52:48<4:50:40, 125.47s/epoch]"
     ]
    },
    {
     "name": "stdout",
     "output_type": "stream",
     "text": [
      "  Train => MSE=0.2887, CI=0.8546, Pearson=0.8049\n",
      "  Test  => MSE=0.3493, CI=0.8296, Pearson=0.7209\n",
      "Checkpoint saved at epoch 111\n",
      "Deleted previous checkpoint: /kaggle/working/TrainingModel1/model_epoch110.pt\n"
     ]
    },
    {
     "name": "stderr",
     "output_type": "stream",
     "text": [
      "Training:  44%|████▍     | 111/250 [3:53:42<4:50:40, 125.47s/epoch]"
     ]
    },
    {
     "name": "stdout",
     "output_type": "stream",
     "text": [
      "[Epoch 112/250] Training Loss: 0.3120\n"
     ]
    },
    {
     "name": "stderr",
     "output_type": "stream",
     "text": [
      "Training:  45%|████▍     | 112/250 [3:54:54<4:48:46, 125.55s/epoch]"
     ]
    },
    {
     "name": "stdout",
     "output_type": "stream",
     "text": [
      "  Train => MSE=0.2878, CI=0.8560, Pearson=0.8075\n",
      "  Test  => MSE=0.3668, CI=0.8298, Pearson=0.7145\n",
      "Checkpoint saved at epoch 112\n",
      "Deleted previous checkpoint: /kaggle/working/TrainingModel1/model_epoch111.pt\n"
     ]
    },
    {
     "name": "stderr",
     "output_type": "stream",
     "text": [
      "Training:  45%|████▍     | 112/250 [3:55:48<4:48:46, 125.55s/epoch]"
     ]
    },
    {
     "name": "stdout",
     "output_type": "stream",
     "text": [
      "[Epoch 113/250] Training Loss: 0.3100\n"
     ]
    },
    {
     "name": "stderr",
     "output_type": "stream",
     "text": [
      "Training:  45%|████▌     | 113/250 [3:56:59<4:46:30, 125.48s/epoch]"
     ]
    },
    {
     "name": "stdout",
     "output_type": "stream",
     "text": [
      "  Train => MSE=0.2961, CI=0.8514, Pearson=0.7996\n",
      "  Test  => MSE=0.3582, CI=0.8273, Pearson=0.7149\n",
      "Checkpoint saved at epoch 113\n",
      "Deleted previous checkpoint: /kaggle/working/TrainingModel1/model_epoch112.pt\n"
     ]
    },
    {
     "name": "stderr",
     "output_type": "stream",
     "text": [
      "Training:  45%|████▌     | 113/250 [3:57:53<4:46:30, 125.48s/epoch]"
     ]
    },
    {
     "name": "stdout",
     "output_type": "stream",
     "text": [
      "[Epoch 114/250] Training Loss: 0.3079\n"
     ]
    },
    {
     "name": "stderr",
     "output_type": "stream",
     "text": [
      "Training:  46%|████▌     | 114/250 [3:59:05<4:44:29, 125.51s/epoch]"
     ]
    },
    {
     "name": "stdout",
     "output_type": "stream",
     "text": [
      "  Train => MSE=0.2955, CI=0.8535, Pearson=0.8068\n",
      "  Test  => MSE=0.3595, CI=0.8250, Pearson=0.7251\n",
      "Checkpoint saved at epoch 114\n",
      "Deleted previous checkpoint: /kaggle/working/TrainingModel1/model_epoch113.pt\n"
     ]
    },
    {
     "name": "stderr",
     "output_type": "stream",
     "text": [
      "Training:  46%|████▌     | 114/250 [3:59:59<4:44:29, 125.51s/epoch]"
     ]
    },
    {
     "name": "stdout",
     "output_type": "stream",
     "text": [
      "[Epoch 115/250] Training Loss: 0.3000\n"
     ]
    },
    {
     "name": "stderr",
     "output_type": "stream",
     "text": [
      "Training:  46%|████▌     | 115/250 [4:01:10<4:42:21, 125.49s/epoch]"
     ]
    },
    {
     "name": "stdout",
     "output_type": "stream",
     "text": [
      "  Train => MSE=0.3115, CI=0.8504, Pearson=0.7958\n",
      "  Test  => MSE=0.3991, CI=0.8234, Pearson=0.6895\n",
      "Checkpoint saved at epoch 115\n",
      "Deleted previous checkpoint: /kaggle/working/TrainingModel1/model_epoch114.pt\n"
     ]
    },
    {
     "name": "stderr",
     "output_type": "stream",
     "text": [
      "Training:  46%|████▌     | 115/250 [4:02:05<4:42:21, 125.49s/epoch]"
     ]
    },
    {
     "name": "stdout",
     "output_type": "stream",
     "text": [
      "[Epoch 116/250] Training Loss: 0.3123\n"
     ]
    },
    {
     "name": "stderr",
     "output_type": "stream",
     "text": [
      "Training:  46%|████▋     | 116/250 [4:03:17<4:40:39, 125.67s/epoch]"
     ]
    },
    {
     "name": "stdout",
     "output_type": "stream",
     "text": [
      "  Train => MSE=0.2721, CI=0.8471, Pearson=0.8017\n",
      "  Test  => MSE=0.3454, CI=0.8123, Pearson=0.7073\n",
      "Checkpoint saved at epoch 116\n",
      "Deleted previous checkpoint: /kaggle/working/TrainingModel1/model_epoch115.pt\n"
     ]
    },
    {
     "name": "stderr",
     "output_type": "stream",
     "text": [
      "Training:  46%|████▋     | 116/250 [4:04:11<4:40:39, 125.67s/epoch]"
     ]
    },
    {
     "name": "stdout",
     "output_type": "stream",
     "text": [
      "[Epoch 117/250] Training Loss: 0.2997\n"
     ]
    },
    {
     "name": "stderr",
     "output_type": "stream",
     "text": [
      "Training:  47%|████▋     | 117/250 [4:05:23<4:38:56, 125.84s/epoch]"
     ]
    },
    {
     "name": "stdout",
     "output_type": "stream",
     "text": [
      "  Train => MSE=0.2865, CI=0.8581, Pearson=0.8105\n",
      "  Test  => MSE=0.3609, CI=0.8282, Pearson=0.7178\n",
      "Checkpoint saved at epoch 117\n",
      "Deleted previous checkpoint: /kaggle/working/TrainingModel1/model_epoch116.pt\n"
     ]
    },
    {
     "name": "stderr",
     "output_type": "stream",
     "text": [
      "Training:  47%|████▋     | 117/250 [4:06:17<4:38:56, 125.84s/epoch]"
     ]
    },
    {
     "name": "stdout",
     "output_type": "stream",
     "text": [
      "[Epoch 118/250] Training Loss: 0.3026\n"
     ]
    },
    {
     "name": "stderr",
     "output_type": "stream",
     "text": [
      "Training:  47%|████▋     | 118/250 [4:07:29<4:36:56, 125.88s/epoch]"
     ]
    },
    {
     "name": "stdout",
     "output_type": "stream",
     "text": [
      "  Train => MSE=0.2663, CI=0.8553, Pearson=0.8098\n",
      "  Test  => MSE=0.3329, CI=0.8305, Pearson=0.7250\n",
      "Checkpoint saved at epoch 118\n",
      "Deleted previous checkpoint: /kaggle/working/TrainingModel1/model_epoch117.pt\n"
     ]
    },
    {
     "name": "stderr",
     "output_type": "stream",
     "text": [
      "Training:  47%|████▋     | 118/250 [4:08:23<4:36:56, 125.88s/epoch]"
     ]
    },
    {
     "name": "stdout",
     "output_type": "stream",
     "text": [
      "[Epoch 119/250] Training Loss: 0.2981\n"
     ]
    },
    {
     "name": "stderr",
     "output_type": "stream",
     "text": [
      "Training:  48%|████▊     | 119/250 [4:09:35<4:35:09, 126.03s/epoch]"
     ]
    },
    {
     "name": "stdout",
     "output_type": "stream",
     "text": [
      "  Train => MSE=0.2906, CI=0.8549, Pearson=0.8101\n",
      "  Test  => MSE=0.3643, CI=0.8287, Pearson=0.7166\n",
      "Checkpoint saved at epoch 119\n",
      "Deleted previous checkpoint: /kaggle/working/TrainingModel1/model_epoch118.pt\n"
     ]
    },
    {
     "name": "stderr",
     "output_type": "stream",
     "text": [
      "Training:  48%|████▊     | 119/250 [4:10:30<4:35:09, 126.03s/epoch]"
     ]
    },
    {
     "name": "stdout",
     "output_type": "stream",
     "text": [
      "[Epoch 120/250] Training Loss: 0.3051\n"
     ]
    },
    {
     "name": "stderr",
     "output_type": "stream",
     "text": [
      "Training:  48%|████▊     | 119/250 [4:11:42<4:35:09, 126.03s/epoch]"
     ]
    },
    {
     "name": "stdout",
     "output_type": "stream",
     "text": [
      "  Train => MSE=0.2752, CI=0.8503, Pearson=0.8132\n",
      "  Test  => MSE=0.3543, CI=0.8220, Pearson=0.7174\n"
     ]
    },
    {
     "name": "stderr",
     "output_type": "stream",
     "text": [
      "Training:  48%|████▊     | 120/250 [4:11:42<4:33:25, 126.20s/epoch]"
     ]
    },
    {
     "name": "stdout",
     "output_type": "stream",
     "text": [
      "Checkpoint saved at epoch 120\n",
      "Deleted previous checkpoint: /kaggle/working/TrainingModel1/model_epoch119.pt\n"
     ]
    },
    {
     "name": "stderr",
     "output_type": "stream",
     "text": [
      "Training:  48%|████▊     | 120/250 [4:12:36<4:33:25, 126.20s/epoch]"
     ]
    },
    {
     "name": "stdout",
     "output_type": "stream",
     "text": [
      "[Epoch 121/250] Training Loss: 0.3012\n"
     ]
    },
    {
     "name": "stderr",
     "output_type": "stream",
     "text": [
      "Training:  48%|████▊     | 121/250 [4:13:48<4:31:05, 126.09s/epoch]"
     ]
    },
    {
     "name": "stdout",
     "output_type": "stream",
     "text": [
      "  Train => MSE=0.2768, CI=0.8531, Pearson=0.8019\n",
      "  Test  => MSE=0.3438, CI=0.8277, Pearson=0.7140\n",
      "Checkpoint saved at epoch 121\n",
      "Deleted previous checkpoint: /kaggle/working/TrainingModel1/model_epoch120.pt\n"
     ]
    },
    {
     "name": "stderr",
     "output_type": "stream",
     "text": [
      "Training:  48%|████▊     | 121/250 [4:14:42<4:31:05, 126.09s/epoch]"
     ]
    },
    {
     "name": "stdout",
     "output_type": "stream",
     "text": [
      "[Epoch 122/250] Training Loss: 0.3017\n"
     ]
    },
    {
     "name": "stderr",
     "output_type": "stream",
     "text": [
      "Training:  49%|████▉     | 122/250 [4:15:54<4:29:12, 126.19s/epoch]"
     ]
    },
    {
     "name": "stdout",
     "output_type": "stream",
     "text": [
      "  Train => MSE=0.2904, CI=0.8539, Pearson=0.8091\n",
      "  Test  => MSE=0.3697, CI=0.8254, Pearson=0.7133\n",
      "Checkpoint saved at epoch 122\n",
      "Deleted previous checkpoint: /kaggle/working/TrainingModel1/model_epoch121.pt\n"
     ]
    },
    {
     "name": "stderr",
     "output_type": "stream",
     "text": [
      "Training:  49%|████▉     | 122/250 [4:16:48<4:29:12, 126.19s/epoch]"
     ]
    },
    {
     "name": "stdout",
     "output_type": "stream",
     "text": [
      "[Epoch 123/250] Training Loss: 0.2991\n"
     ]
    },
    {
     "name": "stderr",
     "output_type": "stream",
     "text": [
      "Training:  49%|████▉     | 123/250 [4:18:00<4:27:17, 126.28s/epoch]"
     ]
    },
    {
     "name": "stdout",
     "output_type": "stream",
     "text": [
      "  Train => MSE=0.2838, CI=0.8559, Pearson=0.8119\n",
      "  Test  => MSE=0.3565, CI=0.8258, Pearson=0.7199\n",
      "Checkpoint saved at epoch 123\n",
      "Deleted previous checkpoint: /kaggle/working/TrainingModel1/model_epoch122.pt\n"
     ]
    },
    {
     "name": "stderr",
     "output_type": "stream",
     "text": [
      "Training:  49%|████▉     | 123/250 [4:18:55<4:27:17, 126.28s/epoch]"
     ]
    },
    {
     "name": "stdout",
     "output_type": "stream",
     "text": [
      "[Epoch 124/250] Training Loss: 0.2936\n"
     ]
    },
    {
     "name": "stderr",
     "output_type": "stream",
     "text": [
      "Training:  50%|████▉     | 124/250 [4:20:06<4:24:50, 126.12s/epoch]"
     ]
    },
    {
     "name": "stdout",
     "output_type": "stream",
     "text": [
      "  Train => MSE=0.2687, CI=0.8542, Pearson=0.8100\n",
      "  Test  => MSE=0.3342, CI=0.8279, Pearson=0.7248\n",
      "Checkpoint saved at epoch 124\n",
      "Deleted previous checkpoint: /kaggle/working/TrainingModel1/model_epoch123.pt\n"
     ]
    },
    {
     "name": "stderr",
     "output_type": "stream",
     "text": [
      "Training:  50%|████▉     | 124/250 [4:21:01<4:24:50, 126.12s/epoch]"
     ]
    },
    {
     "name": "stdout",
     "output_type": "stream",
     "text": [
      "[Epoch 125/250] Training Loss: 0.2935\n"
     ]
    },
    {
     "name": "stderr",
     "output_type": "stream",
     "text": [
      "Training:  50%|█████     | 125/250 [4:22:13<4:23:01, 126.26s/epoch]"
     ]
    },
    {
     "name": "stdout",
     "output_type": "stream",
     "text": [
      "  Train => MSE=0.2540, CI=0.8596, Pearson=0.8254\n",
      "  Test  => MSE=0.3325, CI=0.8290, Pearson=0.7343\n",
      "Checkpoint saved at epoch 125\n",
      "Deleted previous checkpoint: /kaggle/working/TrainingModel1/model_epoch124.pt\n"
     ]
    },
    {
     "name": "stderr",
     "output_type": "stream",
     "text": [
      "Training:  50%|█████     | 125/250 [4:23:07<4:23:01, 126.26s/epoch]"
     ]
    },
    {
     "name": "stdout",
     "output_type": "stream",
     "text": [
      "[Epoch 126/250] Training Loss: 0.2886\n"
     ]
    },
    {
     "name": "stderr",
     "output_type": "stream",
     "text": [
      "Training:  50%|█████     | 126/250 [4:24:19<4:20:53, 126.24s/epoch]"
     ]
    },
    {
     "name": "stdout",
     "output_type": "stream",
     "text": [
      "  Train => MSE=0.2771, CI=0.8562, Pearson=0.8044\n",
      "  Test  => MSE=0.3551, CI=0.8261, Pearson=0.7064\n",
      "Checkpoint saved at epoch 126\n",
      "Deleted previous checkpoint: /kaggle/working/TrainingModel1/model_epoch125.pt\n"
     ]
    },
    {
     "name": "stderr",
     "output_type": "stream",
     "text": [
      "Training:  50%|█████     | 126/250 [4:25:13<4:20:53, 126.24s/epoch]"
     ]
    },
    {
     "name": "stdout",
     "output_type": "stream",
     "text": [
      "[Epoch 127/250] Training Loss: 0.2835\n"
     ]
    },
    {
     "name": "stderr",
     "output_type": "stream",
     "text": [
      "Training:  51%|█████     | 127/250 [4:26:25<4:18:24, 126.06s/epoch]"
     ]
    },
    {
     "name": "stdout",
     "output_type": "stream",
     "text": [
      "  Train => MSE=0.2619, CI=0.8528, Pearson=0.8148\n",
      "  Test  => MSE=0.3417, CI=0.8243, Pearson=0.7171\n",
      "Checkpoint saved at epoch 127\n",
      "Deleted previous checkpoint: /kaggle/working/TrainingModel1/model_epoch126.pt\n"
     ]
    },
    {
     "name": "stderr",
     "output_type": "stream",
     "text": [
      "Training:  51%|█████     | 127/250 [4:27:19<4:18:24, 126.06s/epoch]"
     ]
    },
    {
     "name": "stdout",
     "output_type": "stream",
     "text": [
      "[Epoch 128/250] Training Loss: 0.2951\n"
     ]
    },
    {
     "name": "stderr",
     "output_type": "stream",
     "text": [
      "Training:  51%|█████     | 128/250 [4:28:31<4:16:12, 126.01s/epoch]"
     ]
    },
    {
     "name": "stdout",
     "output_type": "stream",
     "text": [
      "  Train => MSE=0.2569, CI=0.8597, Pearson=0.8189\n",
      "  Test  => MSE=0.3419, CI=0.8263, Pearson=0.7171\n",
      "Checkpoint saved at epoch 128\n",
      "Deleted previous checkpoint: /kaggle/working/TrainingModel1/model_epoch127.pt\n"
     ]
    },
    {
     "name": "stderr",
     "output_type": "stream",
     "text": [
      "Training:  51%|█████     | 128/250 [4:29:25<4:16:12, 126.01s/epoch]"
     ]
    },
    {
     "name": "stdout",
     "output_type": "stream",
     "text": [
      "[Epoch 129/250] Training Loss: 0.2922\n"
     ]
    },
    {
     "name": "stderr",
     "output_type": "stream",
     "text": [
      "Training:  52%|█████▏    | 129/250 [4:30:36<4:14:00, 125.95s/epoch]"
     ]
    },
    {
     "name": "stdout",
     "output_type": "stream",
     "text": [
      "  Train => MSE=0.2769, CI=0.8542, Pearson=0.8115\n",
      "  Test  => MSE=0.3639, CI=0.8209, Pearson=0.7093\n",
      "Checkpoint saved at epoch 129\n",
      "Deleted previous checkpoint: /kaggle/working/TrainingModel1/model_epoch128.pt\n"
     ]
    },
    {
     "name": "stderr",
     "output_type": "stream",
     "text": [
      "Training:  52%|█████▏    | 129/250 [4:31:30<4:14:00, 125.95s/epoch]"
     ]
    },
    {
     "name": "stdout",
     "output_type": "stream",
     "text": [
      "[Epoch 130/250] Training Loss: 0.2846\n"
     ]
    },
    {
     "name": "stderr",
     "output_type": "stream",
     "text": [
      "Training:  52%|█████▏    | 130/250 [4:32:42<4:11:47, 125.90s/epoch]"
     ]
    },
    {
     "name": "stdout",
     "output_type": "stream",
     "text": [
      "  Train => MSE=0.2772, CI=0.8598, Pearson=0.8159\n",
      "  Test  => MSE=0.3545, CI=0.8307, Pearson=0.7224\n",
      "Checkpoint saved at epoch 130\n",
      "Deleted previous checkpoint: /kaggle/working/TrainingModel1/model_epoch129.pt\n"
     ]
    },
    {
     "name": "stderr",
     "output_type": "stream",
     "text": [
      "Training:  52%|█████▏    | 130/250 [4:33:36<4:11:47, 125.90s/epoch]"
     ]
    },
    {
     "name": "stdout",
     "output_type": "stream",
     "text": [
      "[Epoch 131/250] Training Loss: 0.2894\n"
     ]
    },
    {
     "name": "stderr",
     "output_type": "stream",
     "text": [
      "Training:  52%|█████▏    | 131/250 [4:34:48<4:09:25, 125.76s/epoch]"
     ]
    },
    {
     "name": "stdout",
     "output_type": "stream",
     "text": [
      "  Train => MSE=0.2883, CI=0.8512, Pearson=0.8031\n",
      "  Test  => MSE=0.3663, CI=0.8201, Pearson=0.7052\n",
      "Checkpoint saved at epoch 131\n",
      "Deleted previous checkpoint: /kaggle/working/TrainingModel1/model_epoch130.pt\n"
     ]
    },
    {
     "name": "stderr",
     "output_type": "stream",
     "text": [
      "Training:  52%|█████▏    | 131/250 [4:35:41<4:09:25, 125.76s/epoch]"
     ]
    },
    {
     "name": "stdout",
     "output_type": "stream",
     "text": [
      "[Epoch 132/250] Training Loss: 0.2844\n"
     ]
    },
    {
     "name": "stderr",
     "output_type": "stream",
     "text": [
      "Training:  53%|█████▎    | 132/250 [4:36:53<4:07:06, 125.65s/epoch]"
     ]
    },
    {
     "name": "stdout",
     "output_type": "stream",
     "text": [
      "  Train => MSE=0.2730, CI=0.8592, Pearson=0.8178\n",
      "  Test  => MSE=0.3564, CI=0.8287, Pearson=0.7206\n",
      "Checkpoint saved at epoch 132\n",
      "Deleted previous checkpoint: /kaggle/working/TrainingModel1/model_epoch131.pt\n"
     ]
    },
    {
     "name": "stderr",
     "output_type": "stream",
     "text": [
      "Training:  53%|█████▎    | 132/250 [4:37:47<4:07:06, 125.65s/epoch]"
     ]
    },
    {
     "name": "stdout",
     "output_type": "stream",
     "text": [
      "[Epoch 133/250] Training Loss: 0.2828\n"
     ]
    },
    {
     "name": "stderr",
     "output_type": "stream",
     "text": [
      "Training:  53%|█████▎    | 132/250 [4:38:58<4:07:06, 125.65s/epoch]"
     ]
    },
    {
     "name": "stdout",
     "output_type": "stream",
     "text": [
      "  Train => MSE=0.2755, CI=0.8551, Pearson=0.8055\n",
      "  Test  => MSE=0.3546, CI=0.8239, Pearson=0.7034\n"
     ]
    },
    {
     "name": "stderr",
     "output_type": "stream",
     "text": [
      "Training:  53%|█████▎    | 133/250 [4:38:59<4:05:04, 125.68s/epoch]"
     ]
    },
    {
     "name": "stdout",
     "output_type": "stream",
     "text": [
      "Checkpoint saved at epoch 133\n",
      "Deleted previous checkpoint: /kaggle/working/TrainingModel1/model_epoch132.pt\n"
     ]
    },
    {
     "name": "stderr",
     "output_type": "stream",
     "text": [
      "Training:  53%|█████▎    | 133/250 [4:39:53<4:05:04, 125.68s/epoch]"
     ]
    },
    {
     "name": "stdout",
     "output_type": "stream",
     "text": [
      "[Epoch 134/250] Training Loss: 0.2865\n"
     ]
    },
    {
     "name": "stderr",
     "output_type": "stream",
     "text": [
      "Training:  54%|█████▎    | 134/250 [4:41:05<4:03:03, 125.72s/epoch]"
     ]
    },
    {
     "name": "stdout",
     "output_type": "stream",
     "text": [
      "  Train => MSE=0.2908, CI=0.8567, Pearson=0.8193\n",
      "  Test  => MSE=0.3697, CI=0.8290, Pearson=0.7261\n",
      "Checkpoint saved at epoch 134\n",
      "Deleted previous checkpoint: /kaggle/working/TrainingModel1/model_epoch133.pt\n"
     ]
    },
    {
     "name": "stderr",
     "output_type": "stream",
     "text": [
      "Training:  54%|█████▎    | 134/250 [4:41:59<4:03:03, 125.72s/epoch]"
     ]
    },
    {
     "name": "stdout",
     "output_type": "stream",
     "text": [
      "[Epoch 135/250] Training Loss: 0.2862\n"
     ]
    },
    {
     "name": "stderr",
     "output_type": "stream",
     "text": [
      "Training:  54%|█████▍    | 135/250 [4:43:10<4:01:05, 125.78s/epoch]"
     ]
    },
    {
     "name": "stdout",
     "output_type": "stream",
     "text": [
      "  Train => MSE=0.2645, CI=0.8562, Pearson=0.8111\n",
      "  Test  => MSE=0.3483, CI=0.8226, Pearson=0.7082\n",
      "Checkpoint saved at epoch 135\n",
      "Deleted previous checkpoint: /kaggle/working/TrainingModel1/model_epoch134.pt\n"
     ]
    },
    {
     "name": "stderr",
     "output_type": "stream",
     "text": [
      "Training:  54%|█████▍    | 135/250 [4:44:04<4:01:05, 125.78s/epoch]"
     ]
    },
    {
     "name": "stdout",
     "output_type": "stream",
     "text": [
      "[Epoch 136/250] Training Loss: 0.2854\n"
     ]
    },
    {
     "name": "stderr",
     "output_type": "stream",
     "text": [
      "Training:  54%|█████▍    | 136/250 [4:45:17<3:59:10, 125.88s/epoch]"
     ]
    },
    {
     "name": "stdout",
     "output_type": "stream",
     "text": [
      "  Train => MSE=0.2756, CI=0.8587, Pearson=0.8053\n",
      "  Test  => MSE=0.3602, CI=0.8288, Pearson=0.7066\n",
      "Checkpoint saved at epoch 136\n",
      "Deleted previous checkpoint: /kaggle/working/TrainingModel1/model_epoch135.pt\n"
     ]
    },
    {
     "name": "stderr",
     "output_type": "stream",
     "text": [
      "Training:  54%|█████▍    | 136/250 [4:46:11<3:59:10, 125.88s/epoch]"
     ]
    },
    {
     "name": "stdout",
     "output_type": "stream",
     "text": [
      "[Epoch 137/250] Training Loss: 0.2816\n"
     ]
    },
    {
     "name": "stderr",
     "output_type": "stream",
     "text": [
      "Training:  55%|█████▍    | 137/250 [4:47:23<3:57:09, 125.93s/epoch]"
     ]
    },
    {
     "name": "stdout",
     "output_type": "stream",
     "text": [
      "  Train => MSE=0.2638, CI=0.8565, Pearson=0.8139\n",
      "  Test  => MSE=0.3386, CI=0.8276, Pearson=0.7209\n",
      "Checkpoint saved at epoch 137\n",
      "Deleted previous checkpoint: /kaggle/working/TrainingModel1/model_epoch136.pt\n"
     ]
    },
    {
     "name": "stderr",
     "output_type": "stream",
     "text": [
      "Training:  55%|█████▍    | 137/250 [4:48:17<3:57:09, 125.93s/epoch]"
     ]
    },
    {
     "name": "stdout",
     "output_type": "stream",
     "text": [
      "[Epoch 138/250] Training Loss: 0.2785\n"
     ]
    },
    {
     "name": "stderr",
     "output_type": "stream",
     "text": [
      "Training:  55%|█████▌    | 138/250 [4:49:29<3:55:13, 126.01s/epoch]"
     ]
    },
    {
     "name": "stdout",
     "output_type": "stream",
     "text": [
      "  Train => MSE=0.3126, CI=0.8553, Pearson=0.8029\n",
      "  Test  => MSE=0.4000, CI=0.8259, Pearson=0.6994\n",
      "Checkpoint saved at epoch 138\n",
      "Deleted previous checkpoint: /kaggle/working/TrainingModel1/model_epoch137.pt\n"
     ]
    },
    {
     "name": "stderr",
     "output_type": "stream",
     "text": [
      "Training:  55%|█████▌    | 138/250 [4:50:23<3:55:13, 126.01s/epoch]"
     ]
    },
    {
     "name": "stdout",
     "output_type": "stream",
     "text": [
      "[Epoch 139/250] Training Loss: 0.2841\n"
     ]
    },
    {
     "name": "stderr",
     "output_type": "stream",
     "text": [
      "Training:  56%|█████▌    | 139/250 [4:51:35<3:53:08, 126.03s/epoch]"
     ]
    },
    {
     "name": "stdout",
     "output_type": "stream",
     "text": [
      "  Train => MSE=0.2605, CI=0.8625, Pearson=0.8247\n",
      "  Test  => MSE=0.3466, CI=0.8312, Pearson=0.7222\n",
      "Checkpoint saved at epoch 139\n",
      "Deleted previous checkpoint: /kaggle/working/TrainingModel1/model_epoch138.pt\n"
     ]
    },
    {
     "name": "stderr",
     "output_type": "stream",
     "text": [
      "Training:  56%|█████▌    | 139/250 [4:52:29<3:53:08, 126.03s/epoch]"
     ]
    },
    {
     "name": "stdout",
     "output_type": "stream",
     "text": [
      "[Epoch 140/250] Training Loss: 0.2753\n"
     ]
    },
    {
     "name": "stderr",
     "output_type": "stream",
     "text": [
      "Training:  56%|█████▌    | 140/250 [4:53:41<3:51:12, 126.12s/epoch]"
     ]
    },
    {
     "name": "stdout",
     "output_type": "stream",
     "text": [
      "  Train => MSE=0.2438, CI=0.8641, Pearson=0.8329\n",
      "  Test  => MSE=0.3290, CI=0.8300, Pearson=0.7310\n",
      "Checkpoint saved at epoch 140\n",
      "Deleted previous checkpoint: /kaggle/working/TrainingModel1/model_epoch139.pt\n"
     ]
    },
    {
     "name": "stderr",
     "output_type": "stream",
     "text": [
      "Training:  56%|█████▌    | 140/250 [4:54:36<3:51:12, 126.12s/epoch]"
     ]
    },
    {
     "name": "stdout",
     "output_type": "stream",
     "text": [
      "[Epoch 141/250] Training Loss: 0.2790\n"
     ]
    },
    {
     "name": "stderr",
     "output_type": "stream",
     "text": [
      "Training:  56%|█████▋    | 141/250 [4:55:48<3:49:31, 126.34s/epoch]"
     ]
    },
    {
     "name": "stdout",
     "output_type": "stream",
     "text": [
      "  Train => MSE=0.2835, CI=0.8530, Pearson=0.8036\n",
      "  Test  => MSE=0.3680, CI=0.8167, Pearson=0.6919\n",
      "Checkpoint saved at epoch 141\n",
      "Deleted previous checkpoint: /kaggle/working/TrainingModel1/model_epoch140.pt\n"
     ]
    },
    {
     "name": "stderr",
     "output_type": "stream",
     "text": [
      "Training:  56%|█████▋    | 141/250 [4:56:43<3:49:31, 126.34s/epoch]"
     ]
    },
    {
     "name": "stdout",
     "output_type": "stream",
     "text": [
      "[Epoch 142/250] Training Loss: 0.2946\n"
     ]
    },
    {
     "name": "stderr",
     "output_type": "stream",
     "text": [
      "Training:  57%|█████▋    | 142/250 [4:57:54<3:47:24, 126.34s/epoch]"
     ]
    },
    {
     "name": "stdout",
     "output_type": "stream",
     "text": [
      "  Train => MSE=0.2507, CI=0.8621, Pearson=0.8285\n",
      "  Test  => MSE=0.3282, CI=0.8323, Pearson=0.7309\n",
      "Checkpoint saved at epoch 142\n",
      "Deleted previous checkpoint: /kaggle/working/TrainingModel1/model_epoch141.pt\n"
     ]
    },
    {
     "name": "stderr",
     "output_type": "stream",
     "text": [
      "Training:  57%|█████▋    | 142/250 [4:58:49<3:47:24, 126.34s/epoch]"
     ]
    },
    {
     "name": "stdout",
     "output_type": "stream",
     "text": [
      "[Epoch 143/250] Training Loss: 0.2730\n"
     ]
    },
    {
     "name": "stderr",
     "output_type": "stream",
     "text": [
      "Training:  57%|█████▋    | 143/250 [5:00:01<3:45:35, 126.50s/epoch]"
     ]
    },
    {
     "name": "stdout",
     "output_type": "stream",
     "text": [
      "  Train => MSE=0.2505, CI=0.8596, Pearson=0.8227\n",
      "  Test  => MSE=0.3335, CI=0.8230, Pearson=0.7201\n",
      "Checkpoint saved at epoch 143\n",
      "Deleted previous checkpoint: /kaggle/working/TrainingModel1/model_epoch142.pt\n"
     ]
    },
    {
     "name": "stderr",
     "output_type": "stream",
     "text": [
      "Training:  57%|█████▋    | 143/250 [5:00:56<3:45:35, 126.50s/epoch]"
     ]
    },
    {
     "name": "stdout",
     "output_type": "stream",
     "text": [
      "[Epoch 144/250] Training Loss: 0.2777\n"
     ]
    },
    {
     "name": "stderr",
     "output_type": "stream",
     "text": [
      "Training:  58%|█████▊    | 144/250 [5:02:08<3:43:29, 126.50s/epoch]"
     ]
    },
    {
     "name": "stdout",
     "output_type": "stream",
     "text": [
      "  Train => MSE=0.2457, CI=0.8643, Pearson=0.8313\n",
      "  Test  => MSE=0.3234, CI=0.8347, Pearson=0.7402\n",
      "Checkpoint saved at epoch 144\n",
      "Deleted previous checkpoint: /kaggle/working/TrainingModel1/model_epoch143.pt\n"
     ]
    },
    {
     "name": "stderr",
     "output_type": "stream",
     "text": [
      "Training:  58%|█████▊    | 144/250 [5:03:02<3:43:29, 126.50s/epoch]"
     ]
    },
    {
     "name": "stdout",
     "output_type": "stream",
     "text": [
      "[Epoch 145/250] Training Loss: 0.2695\n"
     ]
    },
    {
     "name": "stderr",
     "output_type": "stream",
     "text": [
      "Training:  58%|█████▊    | 145/250 [5:04:14<3:41:19, 126.47s/epoch]"
     ]
    },
    {
     "name": "stdout",
     "output_type": "stream",
     "text": [
      "  Train => MSE=0.2550, CI=0.8638, Pearson=0.8303\n",
      "  Test  => MSE=0.3535, CI=0.8284, Pearson=0.7220\n",
      "Checkpoint saved at epoch 145\n",
      "Deleted previous checkpoint: /kaggle/working/TrainingModel1/model_epoch144.pt\n"
     ]
    },
    {
     "name": "stderr",
     "output_type": "stream",
     "text": [
      "Training:  58%|█████▊    | 145/250 [5:05:09<3:41:19, 126.47s/epoch]"
     ]
    },
    {
     "name": "stdout",
     "output_type": "stream",
     "text": [
      "[Epoch 146/250] Training Loss: 0.2758\n"
     ]
    },
    {
     "name": "stderr",
     "output_type": "stream",
     "text": [
      "Training:  58%|█████▊    | 145/250 [5:06:21<3:41:19, 126.47s/epoch]"
     ]
    },
    {
     "name": "stdout",
     "output_type": "stream",
     "text": [
      "  Train => MSE=0.2747, CI=0.8567, Pearson=0.8143\n",
      "  Test  => MSE=0.3668, CI=0.8260, Pearson=0.7018\n"
     ]
    },
    {
     "name": "stderr",
     "output_type": "stream",
     "text": [
      "Training:  58%|█████▊    | 146/250 [5:06:21<3:39:22, 126.56s/epoch]"
     ]
    },
    {
     "name": "stdout",
     "output_type": "stream",
     "text": [
      "Checkpoint saved at epoch 146\n",
      "Deleted previous checkpoint: /kaggle/working/TrainingModel1/model_epoch145.pt\n"
     ]
    },
    {
     "name": "stderr",
     "output_type": "stream",
     "text": [
      "Training:  58%|█████▊    | 146/250 [5:07:15<3:39:22, 126.56s/epoch]"
     ]
    },
    {
     "name": "stdout",
     "output_type": "stream",
     "text": [
      "[Epoch 147/250] Training Loss: 0.2724\n"
     ]
    },
    {
     "name": "stderr",
     "output_type": "stream",
     "text": [
      "Training:  59%|█████▉    | 147/250 [5:08:27<3:37:03, 126.44s/epoch]"
     ]
    },
    {
     "name": "stdout",
     "output_type": "stream",
     "text": [
      "  Train => MSE=0.2548, CI=0.8652, Pearson=0.8314\n",
      "  Test  => MSE=0.3427, CI=0.8330, Pearson=0.7281\n",
      "Checkpoint saved at epoch 147\n",
      "Deleted previous checkpoint: /kaggle/working/TrainingModel1/model_epoch146.pt\n"
     ]
    },
    {
     "name": "stderr",
     "output_type": "stream",
     "text": [
      "Training:  59%|█████▉    | 147/250 [5:09:22<3:37:03, 126.44s/epoch]"
     ]
    },
    {
     "name": "stdout",
     "output_type": "stream",
     "text": [
      "[Epoch 148/250] Training Loss: 0.2678\n"
     ]
    },
    {
     "name": "stderr",
     "output_type": "stream",
     "text": [
      "Training:  59%|█████▉    | 148/250 [5:10:33<3:34:54, 126.41s/epoch]"
     ]
    },
    {
     "name": "stdout",
     "output_type": "stream",
     "text": [
      "  Train => MSE=0.2518, CI=0.8586, Pearson=0.8214\n",
      "  Test  => MSE=0.3433, CI=0.8267, Pearson=0.7133\n",
      "Checkpoint saved at epoch 148\n",
      "Deleted previous checkpoint: /kaggle/working/TrainingModel1/model_epoch147.pt\n"
     ]
    },
    {
     "name": "stderr",
     "output_type": "stream",
     "text": [
      "Training:  59%|█████▉    | 148/250 [5:11:28<3:34:54, 126.41s/epoch]"
     ]
    },
    {
     "name": "stdout",
     "output_type": "stream",
     "text": [
      "[Epoch 149/250] Training Loss: 0.2746\n"
     ]
    },
    {
     "name": "stderr",
     "output_type": "stream",
     "text": [
      "Training:  60%|█████▉    | 149/250 [5:12:40<3:32:38, 126.32s/epoch]"
     ]
    },
    {
     "name": "stdout",
     "output_type": "stream",
     "text": [
      "  Train => MSE=0.2510, CI=0.8615, Pearson=0.8225\n",
      "  Test  => MSE=0.3402, CI=0.8283, Pearson=0.7183\n",
      "Checkpoint saved at epoch 149\n",
      "Deleted previous checkpoint: /kaggle/working/TrainingModel1/model_epoch148.pt\n"
     ]
    },
    {
     "name": "stderr",
     "output_type": "stream",
     "text": [
      "Training:  60%|█████▉    | 149/250 [5:13:34<3:32:38, 126.32s/epoch]"
     ]
    },
    {
     "name": "stdout",
     "output_type": "stream",
     "text": [
      "[Epoch 150/250] Training Loss: 0.2739\n"
     ]
    },
    {
     "name": "stderr",
     "output_type": "stream",
     "text": [
      "Training:  60%|██████    | 150/250 [5:14:46<3:30:27, 126.27s/epoch]"
     ]
    },
    {
     "name": "stdout",
     "output_type": "stream",
     "text": [
      "  Train => MSE=0.2344, CI=0.8666, Pearson=0.8380\n",
      "  Test  => MSE=0.3235, CI=0.8319, Pearson=0.7362\n",
      "Checkpoint saved at epoch 150\n",
      "Deleted previous checkpoint: /kaggle/working/TrainingModel1/model_epoch149.pt\n"
     ]
    },
    {
     "name": "stderr",
     "output_type": "stream",
     "text": [
      "Training:  60%|██████    | 150/250 [5:15:40<3:30:27, 126.27s/epoch]"
     ]
    },
    {
     "name": "stdout",
     "output_type": "stream",
     "text": [
      "[Epoch 151/250] Training Loss: 0.2680\n"
     ]
    },
    {
     "name": "stderr",
     "output_type": "stream",
     "text": [
      "Training:  60%|██████    | 151/250 [5:16:52<3:28:14, 126.21s/epoch]"
     ]
    },
    {
     "name": "stdout",
     "output_type": "stream",
     "text": [
      "  Train => MSE=0.2350, CI=0.8673, Pearson=0.8364\n",
      "  Test  => MSE=0.3255, CI=0.8329, Pearson=0.7303\n",
      "Checkpoint saved at epoch 151\n",
      "Deleted previous checkpoint: /kaggle/working/TrainingModel1/model_epoch150.pt\n"
     ]
    },
    {
     "name": "stderr",
     "output_type": "stream",
     "text": [
      "Training:  60%|██████    | 151/250 [5:17:46<3:28:14, 126.21s/epoch]"
     ]
    },
    {
     "name": "stdout",
     "output_type": "stream",
     "text": [
      "[Epoch 152/250] Training Loss: 0.2623\n"
     ]
    },
    {
     "name": "stderr",
     "output_type": "stream",
     "text": [
      "Training:  61%|██████    | 152/250 [5:18:58<3:25:57, 126.10s/epoch]"
     ]
    },
    {
     "name": "stdout",
     "output_type": "stream",
     "text": [
      "  Train => MSE=0.2478, CI=0.8654, Pearson=0.8278\n",
      "  Test  => MSE=0.3311, CI=0.8355, Pearson=0.7277\n",
      "Checkpoint saved at epoch 152\n",
      "Deleted previous checkpoint: /kaggle/working/TrainingModel1/model_epoch151.pt\n"
     ]
    },
    {
     "name": "stderr",
     "output_type": "stream",
     "text": [
      "Training:  61%|██████    | 152/250 [5:19:52<3:25:57, 126.10s/epoch]"
     ]
    },
    {
     "name": "stdout",
     "output_type": "stream",
     "text": [
      "[Epoch 153/250] Training Loss: 0.2677\n"
     ]
    },
    {
     "name": "stderr",
     "output_type": "stream",
     "text": [
      "Training:  61%|██████    | 153/250 [5:21:03<3:23:44, 126.03s/epoch]"
     ]
    },
    {
     "name": "stdout",
     "output_type": "stream",
     "text": [
      "  Train => MSE=0.2394, CI=0.8642, Pearson=0.8319\n",
      "  Test  => MSE=0.3303, CI=0.8321, Pearson=0.7241\n",
      "Checkpoint saved at epoch 153\n",
      "Deleted previous checkpoint: /kaggle/working/TrainingModel1/model_epoch152.pt\n"
     ]
    },
    {
     "name": "stderr",
     "output_type": "stream",
     "text": [
      "Training:  61%|██████    | 153/250 [5:21:58<3:23:44, 126.03s/epoch]"
     ]
    },
    {
     "name": "stdout",
     "output_type": "stream",
     "text": [
      "[Epoch 154/250] Training Loss: 0.2631\n"
     ]
    },
    {
     "name": "stderr",
     "output_type": "stream",
     "text": [
      "Training:  62%|██████▏   | 154/250 [5:23:10<3:21:51, 126.16s/epoch]"
     ]
    },
    {
     "name": "stdout",
     "output_type": "stream",
     "text": [
      "  Train => MSE=0.2365, CI=0.8669, Pearson=0.8342\n",
      "  Test  => MSE=0.3233, CI=0.8343, Pearson=0.7319\n",
      "Checkpoint saved at epoch 154\n",
      "Deleted previous checkpoint: /kaggle/working/TrainingModel1/model_epoch153.pt\n"
     ]
    },
    {
     "name": "stderr",
     "output_type": "stream",
     "text": [
      "Training:  62%|██████▏   | 154/250 [5:24:05<3:21:51, 126.16s/epoch]"
     ]
    },
    {
     "name": "stdout",
     "output_type": "stream",
     "text": [
      "[Epoch 155/250] Training Loss: 0.2657\n"
     ]
    },
    {
     "name": "stderr",
     "output_type": "stream",
     "text": [
      "Training:  62%|██████▏   | 155/250 [5:25:16<3:19:53, 126.25s/epoch]"
     ]
    },
    {
     "name": "stdout",
     "output_type": "stream",
     "text": [
      "  Train => MSE=0.2362, CI=0.8651, Pearson=0.8331\n",
      "  Test  => MSE=0.3181, CI=0.8332, Pearson=0.7377\n",
      "Checkpoint saved at epoch 155\n",
      "Deleted previous checkpoint: /kaggle/working/TrainingModel1/model_epoch154.pt\n"
     ]
    },
    {
     "name": "stderr",
     "output_type": "stream",
     "text": [
      "Training:  62%|██████▏   | 155/250 [5:26:11<3:19:53, 126.25s/epoch]"
     ]
    },
    {
     "name": "stdout",
     "output_type": "stream",
     "text": [
      "[Epoch 156/250] Training Loss: 0.2588\n"
     ]
    },
    {
     "name": "stderr",
     "output_type": "stream",
     "text": [
      "Training:  62%|██████▏   | 156/250 [5:27:22<3:17:41, 126.19s/epoch]"
     ]
    },
    {
     "name": "stdout",
     "output_type": "stream",
     "text": [
      "  Train => MSE=0.2287, CI=0.8681, Pearson=0.8383\n",
      "  Test  => MSE=0.3149, CI=0.8362, Pearson=0.7384\n",
      "Checkpoint saved at epoch 156\n",
      "Deleted previous checkpoint: /kaggle/working/TrainingModel1/model_epoch155.pt\n"
     ]
    },
    {
     "name": "stderr",
     "output_type": "stream",
     "text": [
      "Training:  62%|██████▏   | 156/250 [5:28:17<3:17:41, 126.19s/epoch]"
     ]
    },
    {
     "name": "stdout",
     "output_type": "stream",
     "text": [
      "[Epoch 157/250] Training Loss: 0.2626\n"
     ]
    },
    {
     "name": "stderr",
     "output_type": "stream",
     "text": [
      "Training:  63%|██████▎   | 157/250 [5:29:28<3:15:27, 126.10s/epoch]"
     ]
    },
    {
     "name": "stdout",
     "output_type": "stream",
     "text": [
      "  Train => MSE=0.2454, CI=0.8617, Pearson=0.8295\n",
      "  Test  => MSE=0.3406, CI=0.8224, Pearson=0.7143\n",
      "Checkpoint saved at epoch 157\n",
      "Deleted previous checkpoint: /kaggle/working/TrainingModel1/model_epoch156.pt\n"
     ]
    },
    {
     "name": "stderr",
     "output_type": "stream",
     "text": [
      "Training:  63%|██████▎   | 157/250 [5:30:22<3:15:27, 126.10s/epoch]"
     ]
    },
    {
     "name": "stdout",
     "output_type": "stream",
     "text": [
      "[Epoch 158/250] Training Loss: 0.2632\n"
     ]
    },
    {
     "name": "stderr",
     "output_type": "stream",
     "text": [
      "Training:  63%|██████▎   | 158/250 [5:31:34<3:13:08, 125.96s/epoch]"
     ]
    },
    {
     "name": "stdout",
     "output_type": "stream",
     "text": [
      "  Train => MSE=0.2407, CI=0.8651, Pearson=0.8296\n",
      "  Test  => MSE=0.3284, CI=0.8330, Pearson=0.7246\n",
      "Checkpoint saved at epoch 158\n",
      "Deleted previous checkpoint: /kaggle/working/TrainingModel1/model_epoch157.pt\n"
     ]
    },
    {
     "name": "stderr",
     "output_type": "stream",
     "text": [
      "Training:  63%|██████▎   | 158/250 [5:32:28<3:13:08, 125.96s/epoch]"
     ]
    },
    {
     "name": "stdout",
     "output_type": "stream",
     "text": [
      "[Epoch 159/250] Training Loss: 0.2601\n"
     ]
    },
    {
     "name": "stderr",
     "output_type": "stream",
     "text": [
      "Training:  63%|██████▎   | 158/250 [5:33:40<3:13:08, 125.96s/epoch]"
     ]
    },
    {
     "name": "stdout",
     "output_type": "stream",
     "text": [
      "  Train => MSE=0.2548, CI=0.8645, Pearson=0.8366\n",
      "  Test  => MSE=0.3540, CI=0.8332, Pearson=0.7280\n"
     ]
    },
    {
     "name": "stderr",
     "output_type": "stream",
     "text": [
      "Training:  64%|██████▎   | 159/250 [5:33:40<3:10:59, 125.93s/epoch]"
     ]
    },
    {
     "name": "stdout",
     "output_type": "stream",
     "text": [
      "Checkpoint saved at epoch 159\n",
      "Deleted previous checkpoint: /kaggle/working/TrainingModel1/model_epoch158.pt\n"
     ]
    },
    {
     "name": "stderr",
     "output_type": "stream",
     "text": [
      "Training:  64%|██████▎   | 159/250 [5:34:34<3:10:59, 125.93s/epoch]"
     ]
    },
    {
     "name": "stdout",
     "output_type": "stream",
     "text": [
      "[Epoch 160/250] Training Loss: 0.2587\n"
     ]
    },
    {
     "name": "stderr",
     "output_type": "stream",
     "text": [
      "Training:  64%|██████▍   | 160/250 [5:35:46<3:08:54, 125.94s/epoch]"
     ]
    },
    {
     "name": "stdout",
     "output_type": "stream",
     "text": [
      "  Train => MSE=0.2288, CI=0.8688, Pearson=0.8435\n",
      "  Test  => MSE=0.3183, CI=0.8357, Pearson=0.7407\n",
      "Checkpoint saved at epoch 160\n",
      "Deleted previous checkpoint: /kaggle/working/TrainingModel1/model_epoch159.pt\n"
     ]
    },
    {
     "name": "stderr",
     "output_type": "stream",
     "text": [
      "Training:  64%|██████▍   | 160/250 [5:36:40<3:08:54, 125.94s/epoch]"
     ]
    },
    {
     "name": "stdout",
     "output_type": "stream",
     "text": [
      "[Epoch 161/250] Training Loss: 0.2569\n"
     ]
    },
    {
     "name": "stderr",
     "output_type": "stream",
     "text": [
      "Training:  64%|██████▍   | 161/250 [5:37:51<3:06:41, 125.86s/epoch]"
     ]
    },
    {
     "name": "stdout",
     "output_type": "stream",
     "text": [
      "  Train => MSE=0.2782, CI=0.8671, Pearson=0.8376\n",
      "  Test  => MSE=0.3676, CI=0.8347, Pearson=0.7363\n",
      "Checkpoint saved at epoch 161\n",
      "Deleted previous checkpoint: /kaggle/working/TrainingModel1/model_epoch160.pt\n"
     ]
    },
    {
     "name": "stderr",
     "output_type": "stream",
     "text": [
      "Training:  64%|██████▍   | 161/250 [5:38:46<3:06:41, 125.86s/epoch]"
     ]
    },
    {
     "name": "stdout",
     "output_type": "stream",
     "text": [
      "[Epoch 162/250] Training Loss: 0.2577\n"
     ]
    },
    {
     "name": "stderr",
     "output_type": "stream",
     "text": [
      "Training:  65%|██████▍   | 162/250 [5:39:58<3:04:43, 125.95s/epoch]"
     ]
    },
    {
     "name": "stdout",
     "output_type": "stream",
     "text": [
      "  Train => MSE=0.2636, CI=0.8667, Pearson=0.8358\n",
      "  Test  => MSE=0.3624, CI=0.8334, Pearson=0.7336\n",
      "Checkpoint saved at epoch 162\n",
      "Deleted previous checkpoint: /kaggle/working/TrainingModel1/model_epoch161.pt\n"
     ]
    },
    {
     "name": "stderr",
     "output_type": "stream",
     "text": [
      "Training:  65%|██████▍   | 162/250 [5:40:52<3:04:43, 125.95s/epoch]"
     ]
    },
    {
     "name": "stdout",
     "output_type": "stream",
     "text": [
      "[Epoch 163/250] Training Loss: 0.2590\n"
     ]
    },
    {
     "name": "stderr",
     "output_type": "stream",
     "text": [
      "Training:  65%|██████▌   | 163/250 [5:42:04<3:02:40, 125.98s/epoch]"
     ]
    },
    {
     "name": "stdout",
     "output_type": "stream",
     "text": [
      "  Train => MSE=0.2422, CI=0.8676, Pearson=0.8337\n",
      "  Test  => MSE=0.3294, CI=0.8307, Pearson=0.7307\n",
      "Checkpoint saved at epoch 163\n",
      "Deleted previous checkpoint: /kaggle/working/TrainingModel1/model_epoch162.pt\n"
     ]
    },
    {
     "name": "stderr",
     "output_type": "stream",
     "text": [
      "Training:  65%|██████▌   | 163/250 [5:42:58<3:02:40, 125.98s/epoch]"
     ]
    },
    {
     "name": "stdout",
     "output_type": "stream",
     "text": [
      "[Epoch 164/250] Training Loss: 0.2580\n"
     ]
    },
    {
     "name": "stderr",
     "output_type": "stream",
     "text": [
      "Training:  66%|██████▌   | 164/250 [5:44:10<3:00:35, 125.99s/epoch]"
     ]
    },
    {
     "name": "stdout",
     "output_type": "stream",
     "text": [
      "  Train => MSE=0.2376, CI=0.8660, Pearson=0.8409\n",
      "  Test  => MSE=0.3296, CI=0.8344, Pearson=0.7357\n",
      "Checkpoint saved at epoch 164\n",
      "Deleted previous checkpoint: /kaggle/working/TrainingModel1/model_epoch163.pt\n"
     ]
    },
    {
     "name": "stderr",
     "output_type": "stream",
     "text": [
      "Training:  66%|██████▌   | 164/250 [5:45:04<3:00:35, 125.99s/epoch]"
     ]
    },
    {
     "name": "stdout",
     "output_type": "stream",
     "text": [
      "[Epoch 165/250] Training Loss: 0.2530\n"
     ]
    },
    {
     "name": "stderr",
     "output_type": "stream",
     "text": [
      "Training:  66%|██████▌   | 165/250 [5:46:16<2:58:25, 125.94s/epoch]"
     ]
    },
    {
     "name": "stdout",
     "output_type": "stream",
     "text": [
      "  Train => MSE=0.2174, CI=0.8714, Pearson=0.8479\n",
      "  Test  => MSE=0.3056, CI=0.8401, Pearson=0.7477\n",
      "Checkpoint saved at epoch 165\n",
      "Deleted previous checkpoint: /kaggle/working/TrainingModel1/model_epoch164.pt\n"
     ]
    },
    {
     "name": "stderr",
     "output_type": "stream",
     "text": [
      "Training:  66%|██████▌   | 165/250 [5:47:10<2:58:25, 125.94s/epoch]"
     ]
    },
    {
     "name": "stdout",
     "output_type": "stream",
     "text": [
      "[Epoch 166/250] Training Loss: 0.2501\n"
     ]
    },
    {
     "name": "stderr",
     "output_type": "stream",
     "text": [
      "Training:  66%|██████▋   | 166/250 [5:48:21<2:56:14, 125.89s/epoch]"
     ]
    },
    {
     "name": "stdout",
     "output_type": "stream",
     "text": [
      "  Train => MSE=0.2313, CI=0.8669, Pearson=0.8403\n",
      "  Test  => MSE=0.3217, CI=0.8343, Pearson=0.7375\n",
      "Checkpoint saved at epoch 166\n",
      "Deleted previous checkpoint: /kaggle/working/TrainingModel1/model_epoch165.pt\n"
     ]
    },
    {
     "name": "stderr",
     "output_type": "stream",
     "text": [
      "Training:  66%|██████▋   | 166/250 [5:49:16<2:56:14, 125.89s/epoch]"
     ]
    },
    {
     "name": "stdout",
     "output_type": "stream",
     "text": [
      "[Epoch 167/250] Training Loss: 0.2527\n"
     ]
    },
    {
     "name": "stderr",
     "output_type": "stream",
     "text": [
      "Training:  67%|██████▋   | 167/250 [5:50:27<2:54:11, 125.92s/epoch]"
     ]
    },
    {
     "name": "stdout",
     "output_type": "stream",
     "text": [
      "  Train => MSE=0.2588, CI=0.8651, Pearson=0.8235\n",
      "  Test  => MSE=0.3393, CI=0.8305, Pearson=0.7252\n",
      "Checkpoint saved at epoch 167\n",
      "Deleted previous checkpoint: /kaggle/working/TrainingModel1/model_epoch166.pt\n"
     ]
    },
    {
     "name": "stderr",
     "output_type": "stream",
     "text": [
      "Training:  67%|██████▋   | 167/250 [5:51:21<2:54:11, 125.92s/epoch]"
     ]
    },
    {
     "name": "stdout",
     "output_type": "stream",
     "text": [
      "[Epoch 168/250] Training Loss: 0.2558\n"
     ]
    },
    {
     "name": "stderr",
     "output_type": "stream",
     "text": [
      "Training:  67%|██████▋   | 168/250 [5:52:33<2:52:03, 125.90s/epoch]"
     ]
    },
    {
     "name": "stdout",
     "output_type": "stream",
     "text": [
      "  Train => MSE=0.2299, CI=0.8678, Pearson=0.8435\n",
      "  Test  => MSE=0.3149, CI=0.8315, Pearson=0.7400\n",
      "Checkpoint saved at epoch 168\n",
      "Deleted previous checkpoint: /kaggle/working/TrainingModel1/model_epoch167.pt\n"
     ]
    },
    {
     "name": "stderr",
     "output_type": "stream",
     "text": [
      "Training:  67%|██████▋   | 168/250 [5:53:28<2:52:03, 125.90s/epoch]"
     ]
    },
    {
     "name": "stdout",
     "output_type": "stream",
     "text": [
      "[Epoch 169/250] Training Loss: 0.2462\n"
     ]
    },
    {
     "name": "stderr",
     "output_type": "stream",
     "text": [
      "Training:  68%|██████▊   | 169/250 [5:54:40<2:50:09, 126.05s/epoch]"
     ]
    },
    {
     "name": "stdout",
     "output_type": "stream",
     "text": [
      "  Train => MSE=0.2308, CI=0.8692, Pearson=0.8423\n",
      "  Test  => MSE=0.3270, CI=0.8347, Pearson=0.7354\n",
      "Checkpoint saved at epoch 169\n",
      "Deleted previous checkpoint: /kaggle/working/TrainingModel1/model_epoch168.pt\n"
     ]
    },
    {
     "name": "stderr",
     "output_type": "stream",
     "text": [
      "Training:  68%|██████▊   | 169/250 [5:55:34<2:50:09, 126.05s/epoch]"
     ]
    },
    {
     "name": "stdout",
     "output_type": "stream",
     "text": [
      "[Epoch 170/250] Training Loss: 0.2496\n"
     ]
    },
    {
     "name": "stderr",
     "output_type": "stream",
     "text": [
      "Training:  68%|██████▊   | 170/250 [5:56:46<2:48:04, 126.05s/epoch]"
     ]
    },
    {
     "name": "stdout",
     "output_type": "stream",
     "text": [
      "  Train => MSE=0.2181, CI=0.8750, Pearson=0.8509\n",
      "  Test  => MSE=0.3144, CI=0.8419, Pearson=0.7461\n",
      "Checkpoint saved at epoch 170\n",
      "Deleted previous checkpoint: /kaggle/working/TrainingModel1/model_epoch169.pt\n"
     ]
    },
    {
     "name": "stderr",
     "output_type": "stream",
     "text": [
      "Training:  68%|██████▊   | 170/250 [5:57:40<2:48:04, 126.05s/epoch]"
     ]
    },
    {
     "name": "stdout",
     "output_type": "stream",
     "text": [
      "[Epoch 171/250] Training Loss: 0.2483\n"
     ]
    },
    {
     "name": "stderr",
     "output_type": "stream",
     "text": [
      "Training:  68%|██████▊   | 171/250 [5:58:51<2:45:52, 125.98s/epoch]"
     ]
    },
    {
     "name": "stdout",
     "output_type": "stream",
     "text": [
      "  Train => MSE=0.2524, CI=0.8742, Pearson=0.8390\n",
      "  Test  => MSE=0.3474, CI=0.8421, Pearson=0.7333\n",
      "Checkpoint saved at epoch 171\n",
      "Deleted previous checkpoint: /kaggle/working/TrainingModel1/model_epoch170.pt\n"
     ]
    },
    {
     "name": "stderr",
     "output_type": "stream",
     "text": [
      "Training:  68%|██████▊   | 171/250 [5:59:46<2:45:52, 125.98s/epoch]"
     ]
    },
    {
     "name": "stdout",
     "output_type": "stream",
     "text": [
      "[Epoch 172/250] Training Loss: 0.2505\n"
     ]
    },
    {
     "name": "stderr",
     "output_type": "stream",
     "text": [
      "Training:  68%|██████▊   | 171/250 [6:00:57<2:45:52, 125.98s/epoch]"
     ]
    },
    {
     "name": "stdout",
     "output_type": "stream",
     "text": [
      "  Train => MSE=0.2430, CI=0.8686, Pearson=0.8389\n",
      "  Test  => MSE=0.3330, CI=0.8324, Pearson=0.7309\n"
     ]
    },
    {
     "name": "stderr",
     "output_type": "stream",
     "text": [
      "Training:  69%|██████▉   | 172/250 [6:00:57<2:43:42, 125.93s/epoch]"
     ]
    },
    {
     "name": "stdout",
     "output_type": "stream",
     "text": [
      "Checkpoint saved at epoch 172\n",
      "Deleted previous checkpoint: /kaggle/working/TrainingModel1/model_epoch171.pt\n"
     ]
    },
    {
     "name": "stderr",
     "output_type": "stream",
     "text": [
      "Training:  69%|██████▉   | 172/250 [6:01:51<2:43:42, 125.93s/epoch]"
     ]
    },
    {
     "name": "stdout",
     "output_type": "stream",
     "text": [
      "[Epoch 173/250] Training Loss: 0.2508\n"
     ]
    },
    {
     "name": "stderr",
     "output_type": "stream",
     "text": [
      "Training:  69%|██████▉   | 173/250 [6:03:03<2:41:33, 125.89s/epoch]"
     ]
    },
    {
     "name": "stdout",
     "output_type": "stream",
     "text": [
      "  Train => MSE=0.2697, CI=0.8677, Pearson=0.8231\n",
      "  Test  => MSE=0.3581, CI=0.8347, Pearson=0.7154\n",
      "Checkpoint saved at epoch 173\n",
      "Deleted previous checkpoint: /kaggle/working/TrainingModel1/model_epoch172.pt\n"
     ]
    },
    {
     "name": "stderr",
     "output_type": "stream",
     "text": [
      "Training:  69%|██████▉   | 173/250 [6:03:57<2:41:33, 125.89s/epoch]"
     ]
    },
    {
     "name": "stdout",
     "output_type": "stream",
     "text": [
      "[Epoch 174/250] Training Loss: 0.2552\n"
     ]
    },
    {
     "name": "stderr",
     "output_type": "stream",
     "text": [
      "Training:  70%|██████▉   | 174/250 [6:05:09<2:39:36, 126.01s/epoch]"
     ]
    },
    {
     "name": "stdout",
     "output_type": "stream",
     "text": [
      "  Train => MSE=0.2291, CI=0.8752, Pearson=0.8553\n",
      "  Test  => MSE=0.3337, CI=0.8414, Pearson=0.7438\n",
      "Checkpoint saved at epoch 174\n",
      "Deleted previous checkpoint: /kaggle/working/TrainingModel1/model_epoch173.pt\n"
     ]
    },
    {
     "name": "stderr",
     "output_type": "stream",
     "text": [
      "Training:  70%|██████▉   | 174/250 [6:06:04<2:39:36, 126.01s/epoch]"
     ]
    },
    {
     "name": "stdout",
     "output_type": "stream",
     "text": [
      "[Epoch 175/250] Training Loss: 0.2487\n"
     ]
    },
    {
     "name": "stderr",
     "output_type": "stream",
     "text": [
      "Training:  70%|███████   | 175/250 [6:07:16<2:37:46, 126.22s/epoch]"
     ]
    },
    {
     "name": "stdout",
     "output_type": "stream",
     "text": [
      "  Train => MSE=0.2112, CI=0.8758, Pearson=0.8540\n",
      "  Test  => MSE=0.3111, CI=0.8419, Pearson=0.7427\n",
      "Checkpoint saved at epoch 175\n",
      "Deleted previous checkpoint: /kaggle/working/TrainingModel1/model_epoch174.pt\n"
     ]
    },
    {
     "name": "stderr",
     "output_type": "stream",
     "text": [
      "Training:  70%|███████   | 175/250 [6:08:11<2:37:46, 126.22s/epoch]"
     ]
    },
    {
     "name": "stdout",
     "output_type": "stream",
     "text": [
      "[Epoch 176/250] Training Loss: 0.2353\n"
     ]
    },
    {
     "name": "stderr",
     "output_type": "stream",
     "text": [
      "Training:  70%|███████   | 176/250 [6:09:23<2:35:49, 126.35s/epoch]"
     ]
    },
    {
     "name": "stdout",
     "output_type": "stream",
     "text": [
      "  Train => MSE=0.2139, CI=0.8713, Pearson=0.8506\n",
      "  Test  => MSE=0.3130, CI=0.8382, Pearson=0.7406\n",
      "Checkpoint saved at epoch 176\n",
      "Deleted previous checkpoint: /kaggle/working/TrainingModel1/model_epoch175.pt\n"
     ]
    },
    {
     "name": "stderr",
     "output_type": "stream",
     "text": [
      "Training:  70%|███████   | 176/250 [6:10:17<2:35:49, 126.35s/epoch]"
     ]
    },
    {
     "name": "stdout",
     "output_type": "stream",
     "text": [
      "[Epoch 177/250] Training Loss: 0.2485\n"
     ]
    },
    {
     "name": "stderr",
     "output_type": "stream",
     "text": [
      "Training:  71%|███████   | 177/250 [6:11:29<2:33:35, 126.24s/epoch]"
     ]
    },
    {
     "name": "stdout",
     "output_type": "stream",
     "text": [
      "  Train => MSE=0.2348, CI=0.8719, Pearson=0.8411\n",
      "  Test  => MSE=0.3172, CI=0.8386, Pearson=0.7369\n",
      "Checkpoint saved at epoch 177\n",
      "Deleted previous checkpoint: /kaggle/working/TrainingModel1/model_epoch176.pt\n"
     ]
    },
    {
     "name": "stderr",
     "output_type": "stream",
     "text": [
      "Training:  71%|███████   | 177/250 [6:12:23<2:33:35, 126.24s/epoch]"
     ]
    },
    {
     "name": "stdout",
     "output_type": "stream",
     "text": [
      "[Epoch 178/250] Training Loss: 0.2436\n"
     ]
    },
    {
     "name": "stderr",
     "output_type": "stream",
     "text": [
      "Training:  71%|███████   | 178/250 [6:13:35<2:31:37, 126.36s/epoch]"
     ]
    },
    {
     "name": "stdout",
     "output_type": "stream",
     "text": [
      "  Train => MSE=0.2121, CI=0.8707, Pearson=0.8509\n",
      "  Test  => MSE=0.3137, CI=0.8335, Pearson=0.7388\n",
      "Checkpoint saved at epoch 178\n",
      "Deleted previous checkpoint: /kaggle/working/TrainingModel1/model_epoch177.pt\n"
     ]
    },
    {
     "name": "stderr",
     "output_type": "stream",
     "text": [
      "Training:  71%|███████   | 178/250 [6:14:30<2:31:37, 126.36s/epoch]"
     ]
    },
    {
     "name": "stdout",
     "output_type": "stream",
     "text": [
      "[Epoch 179/250] Training Loss: 0.2401\n"
     ]
    },
    {
     "name": "stderr",
     "output_type": "stream",
     "text": [
      "Training:  72%|███████▏  | 179/250 [6:15:41<2:29:19, 126.20s/epoch]"
     ]
    },
    {
     "name": "stdout",
     "output_type": "stream",
     "text": [
      "  Train => MSE=0.2226, CI=0.8742, Pearson=0.8511\n",
      "  Test  => MSE=0.3256, CI=0.8375, Pearson=0.7410\n",
      "Checkpoint saved at epoch 179\n",
      "Deleted previous checkpoint: /kaggle/working/TrainingModel1/model_epoch178.pt\n"
     ]
    },
    {
     "name": "stderr",
     "output_type": "stream",
     "text": [
      "Training:  72%|███████▏  | 179/250 [6:16:35<2:29:19, 126.20s/epoch]"
     ]
    },
    {
     "name": "stdout",
     "output_type": "stream",
     "text": [
      "[Epoch 180/250] Training Loss: 0.2450\n"
     ]
    },
    {
     "name": "stderr",
     "output_type": "stream",
     "text": [
      "Training:  72%|███████▏  | 180/250 [6:17:47<2:27:01, 126.02s/epoch]"
     ]
    },
    {
     "name": "stdout",
     "output_type": "stream",
     "text": [
      "  Train => MSE=0.2167, CI=0.8699, Pearson=0.8549\n",
      "  Test  => MSE=0.3182, CI=0.8374, Pearson=0.7479\n",
      "Checkpoint saved at epoch 180\n",
      "Deleted previous checkpoint: /kaggle/working/TrainingModel1/model_epoch179.pt\n"
     ]
    },
    {
     "name": "stderr",
     "output_type": "stream",
     "text": [
      "Training:  72%|███████▏  | 180/250 [6:18:41<2:27:01, 126.02s/epoch]"
     ]
    },
    {
     "name": "stdout",
     "output_type": "stream",
     "text": [
      "[Epoch 181/250] Training Loss: 0.2411\n"
     ]
    },
    {
     "name": "stderr",
     "output_type": "stream",
     "text": [
      "Training:  72%|███████▏  | 181/250 [6:19:52<2:24:44, 125.86s/epoch]"
     ]
    },
    {
     "name": "stdout",
     "output_type": "stream",
     "text": [
      "  Train => MSE=0.2132, CI=0.8751, Pearson=0.8520\n",
      "  Test  => MSE=0.3115, CI=0.8417, Pearson=0.7431\n",
      "Checkpoint saved at epoch 181\n",
      "Deleted previous checkpoint: /kaggle/working/TrainingModel1/model_epoch180.pt\n"
     ]
    },
    {
     "name": "stderr",
     "output_type": "stream",
     "text": [
      "Training:  72%|███████▏  | 181/250 [6:20:46<2:24:44, 125.86s/epoch]"
     ]
    },
    {
     "name": "stdout",
     "output_type": "stream",
     "text": [
      "[Epoch 182/250] Training Loss: 0.2395\n"
     ]
    },
    {
     "name": "stderr",
     "output_type": "stream",
     "text": [
      "Training:  73%|███████▎  | 182/250 [6:21:58<2:22:36, 125.83s/epoch]"
     ]
    },
    {
     "name": "stdout",
     "output_type": "stream",
     "text": [
      "  Train => MSE=0.2185, CI=0.8755, Pearson=0.8477\n",
      "  Test  => MSE=0.3184, CI=0.8406, Pearson=0.7366\n",
      "Checkpoint saved at epoch 182\n",
      "Deleted previous checkpoint: /kaggle/working/TrainingModel1/model_epoch181.pt\n"
     ]
    },
    {
     "name": "stderr",
     "output_type": "stream",
     "text": [
      "Training:  73%|███████▎  | 182/250 [6:22:52<2:22:36, 125.83s/epoch]"
     ]
    },
    {
     "name": "stdout",
     "output_type": "stream",
     "text": [
      "[Epoch 183/250] Training Loss: 0.2437\n"
     ]
    },
    {
     "name": "stderr",
     "output_type": "stream",
     "text": [
      "Training:  73%|███████▎  | 183/250 [6:24:04<2:20:25, 125.76s/epoch]"
     ]
    },
    {
     "name": "stdout",
     "output_type": "stream",
     "text": [
      "  Train => MSE=0.2117, CI=0.8768, Pearson=0.8578\n",
      "  Test  => MSE=0.3120, CI=0.8440, Pearson=0.7498\n",
      "Checkpoint saved at epoch 183\n",
      "Deleted previous checkpoint: /kaggle/working/TrainingModel1/model_epoch182.pt\n"
     ]
    },
    {
     "name": "stderr",
     "output_type": "stream",
     "text": [
      "Training:  73%|███████▎  | 183/250 [6:24:57<2:20:25, 125.76s/epoch]"
     ]
    },
    {
     "name": "stdout",
     "output_type": "stream",
     "text": [
      "[Epoch 184/250] Training Loss: 0.2406\n"
     ]
    },
    {
     "name": "stderr",
     "output_type": "stream",
     "text": [
      "Training:  74%|███████▎  | 184/250 [6:26:09<2:18:13, 125.65s/epoch]"
     ]
    },
    {
     "name": "stdout",
     "output_type": "stream",
     "text": [
      "  Train => MSE=0.2183, CI=0.8701, Pearson=0.8512\n",
      "  Test  => MSE=0.3212, CI=0.8344, Pearson=0.7411\n",
      "Checkpoint saved at epoch 184\n",
      "Deleted previous checkpoint: /kaggle/working/TrainingModel1/model_epoch183.pt\n"
     ]
    },
    {
     "name": "stderr",
     "output_type": "stream",
     "text": [
      "Training:  74%|███████▎  | 184/250 [6:27:03<2:18:13, 125.65s/epoch]"
     ]
    },
    {
     "name": "stdout",
     "output_type": "stream",
     "text": [
      "[Epoch 185/250] Training Loss: 0.2473\n"
     ]
    },
    {
     "name": "stderr",
     "output_type": "stream",
     "text": [
      "Training:  74%|███████▎  | 184/250 [6:28:15<2:18:13, 125.65s/epoch]"
     ]
    },
    {
     "name": "stdout",
     "output_type": "stream",
     "text": [
      "  Train => MSE=0.2667, CI=0.8680, Pearson=0.8258\n",
      "  Test  => MSE=0.3754, CI=0.8325, Pearson=0.7074\n"
     ]
    },
    {
     "name": "stderr",
     "output_type": "stream",
     "text": [
      "Training:  74%|███████▍  | 185/250 [6:28:15<2:16:14, 125.76s/epoch]"
     ]
    },
    {
     "name": "stdout",
     "output_type": "stream",
     "text": [
      "Checkpoint saved at epoch 185\n",
      "Deleted previous checkpoint: /kaggle/working/TrainingModel1/model_epoch184.pt\n"
     ]
    },
    {
     "name": "stderr",
     "output_type": "stream",
     "text": [
      "Training:  74%|███████▍  | 185/250 [6:29:09<2:16:14, 125.76s/epoch]"
     ]
    },
    {
     "name": "stdout",
     "output_type": "stream",
     "text": [
      "[Epoch 186/250] Training Loss: 0.2409\n"
     ]
    },
    {
     "name": "stderr",
     "output_type": "stream",
     "text": [
      "Training:  74%|███████▍  | 186/250 [6:30:21<2:14:13, 125.84s/epoch]"
     ]
    },
    {
     "name": "stdout",
     "output_type": "stream",
     "text": [
      "  Train => MSE=0.2333, CI=0.8687, Pearson=0.8368\n",
      "  Test  => MSE=0.3262, CI=0.8401, Pearson=0.7330\n",
      "Checkpoint saved at epoch 186\n",
      "Deleted previous checkpoint: /kaggle/working/TrainingModel1/model_epoch185.pt\n"
     ]
    },
    {
     "name": "stderr",
     "output_type": "stream",
     "text": [
      "Training:  74%|███████▍  | 186/250 [6:31:15<2:14:13, 125.84s/epoch]"
     ]
    },
    {
     "name": "stdout",
     "output_type": "stream",
     "text": [
      "[Epoch 187/250] Training Loss: 0.2339\n"
     ]
    },
    {
     "name": "stderr",
     "output_type": "stream",
     "text": [
      "Training:  75%|███████▍  | 187/250 [6:32:27<2:12:06, 125.82s/epoch]"
     ]
    },
    {
     "name": "stdout",
     "output_type": "stream",
     "text": [
      "  Train => MSE=0.2128, CI=0.8761, Pearson=0.8568\n",
      "  Test  => MSE=0.3153, CI=0.8368, Pearson=0.7397\n",
      "Checkpoint saved at epoch 187\n",
      "Deleted previous checkpoint: /kaggle/working/TrainingModel1/model_epoch186.pt\n"
     ]
    },
    {
     "name": "stderr",
     "output_type": "stream",
     "text": [
      "Training:  75%|███████▍  | 187/250 [6:33:21<2:12:06, 125.82s/epoch]"
     ]
    },
    {
     "name": "stdout",
     "output_type": "stream",
     "text": [
      "[Epoch 188/250] Training Loss: 0.2401\n"
     ]
    },
    {
     "name": "stderr",
     "output_type": "stream",
     "text": [
      "Training:  75%|███████▌  | 188/250 [6:34:33<2:10:11, 126.00s/epoch]"
     ]
    },
    {
     "name": "stdout",
     "output_type": "stream",
     "text": [
      "  Train => MSE=0.2166, CI=0.8788, Pearson=0.8514\n",
      "  Test  => MSE=0.3214, CI=0.8389, Pearson=0.7371\n",
      "Checkpoint saved at epoch 188\n",
      "Deleted previous checkpoint: /kaggle/working/TrainingModel1/model_epoch187.pt\n"
     ]
    },
    {
     "name": "stderr",
     "output_type": "stream",
     "text": [
      "Training:  75%|███████▌  | 188/250 [6:35:28<2:10:11, 126.00s/epoch]"
     ]
    },
    {
     "name": "stdout",
     "output_type": "stream",
     "text": [
      "[Epoch 189/250] Training Loss: 0.2387\n"
     ]
    },
    {
     "name": "stderr",
     "output_type": "stream",
     "text": [
      "Training:  76%|███████▌  | 189/250 [6:36:39<2:08:07, 126.02s/epoch]"
     ]
    },
    {
     "name": "stdout",
     "output_type": "stream",
     "text": [
      "  Train => MSE=0.2137, CI=0.8753, Pearson=0.8512\n",
      "  Test  => MSE=0.3084, CI=0.8389, Pearson=0.7437\n",
      "Checkpoint saved at epoch 189\n",
      "Deleted previous checkpoint: /kaggle/working/TrainingModel1/model_epoch188.pt\n"
     ]
    },
    {
     "name": "stderr",
     "output_type": "stream",
     "text": [
      "Training:  76%|███████▌  | 189/250 [6:37:33<2:08:07, 126.02s/epoch]"
     ]
    },
    {
     "name": "stdout",
     "output_type": "stream",
     "text": [
      "[Epoch 190/250] Training Loss: 0.2287\n"
     ]
    },
    {
     "name": "stderr",
     "output_type": "stream",
     "text": [
      "Training:  76%|███████▌  | 190/250 [6:38:45<2:05:56, 125.95s/epoch]"
     ]
    },
    {
     "name": "stdout",
     "output_type": "stream",
     "text": [
      "  Train => MSE=0.2479, CI=0.8746, Pearson=0.8515\n",
      "  Test  => MSE=0.3399, CI=0.8408, Pearson=0.7464\n",
      "Checkpoint saved at epoch 190\n",
      "Deleted previous checkpoint: /kaggle/working/TrainingModel1/model_epoch189.pt\n"
     ]
    },
    {
     "name": "stderr",
     "output_type": "stream",
     "text": [
      "Training:  76%|███████▌  | 190/250 [6:39:39<2:05:56, 125.95s/epoch]"
     ]
    },
    {
     "name": "stdout",
     "output_type": "stream",
     "text": [
      "[Epoch 191/250] Training Loss: 0.2349\n"
     ]
    },
    {
     "name": "stderr",
     "output_type": "stream",
     "text": [
      "Training:  76%|███████▋  | 191/250 [6:40:51<2:03:48, 125.91s/epoch]"
     ]
    },
    {
     "name": "stdout",
     "output_type": "stream",
     "text": [
      "  Train => MSE=0.2013, CI=0.8793, Pearson=0.8648\n",
      "  Test  => MSE=0.2977, CI=0.8428, Pearson=0.7567\n",
      "Checkpoint saved at epoch 191\n",
      "Deleted previous checkpoint: /kaggle/working/TrainingModel1/model_epoch190.pt\n"
     ]
    },
    {
     "name": "stderr",
     "output_type": "stream",
     "text": [
      "Training:  76%|███████▋  | 191/250 [6:41:45<2:03:48, 125.91s/epoch]"
     ]
    },
    {
     "name": "stdout",
     "output_type": "stream",
     "text": [
      "[Epoch 192/250] Training Loss: 0.2354\n"
     ]
    },
    {
     "name": "stderr",
     "output_type": "stream",
     "text": [
      "Training:  77%|███████▋  | 192/250 [6:42:57<2:01:41, 125.88s/epoch]"
     ]
    },
    {
     "name": "stdout",
     "output_type": "stream",
     "text": [
      "  Train => MSE=0.2276, CI=0.8673, Pearson=0.8451\n",
      "  Test  => MSE=0.3388, CI=0.8313, Pearson=0.7289\n",
      "Checkpoint saved at epoch 192\n",
      "Deleted previous checkpoint: /kaggle/working/TrainingModel1/model_epoch191.pt\n"
     ]
    },
    {
     "name": "stderr",
     "output_type": "stream",
     "text": [
      "Training:  77%|███████▋  | 192/250 [6:43:51<2:01:41, 125.88s/epoch]"
     ]
    },
    {
     "name": "stdout",
     "output_type": "stream",
     "text": [
      "[Epoch 193/250] Training Loss: 0.2384\n"
     ]
    },
    {
     "name": "stderr",
     "output_type": "stream",
     "text": [
      "Training:  77%|███████▋  | 193/250 [6:45:03<1:59:34, 125.87s/epoch]"
     ]
    },
    {
     "name": "stdout",
     "output_type": "stream",
     "text": [
      "  Train => MSE=0.2117, CI=0.8746, Pearson=0.8529\n",
      "  Test  => MSE=0.3095, CI=0.8419, Pearson=0.7430\n",
      "Checkpoint saved at epoch 193\n",
      "Deleted previous checkpoint: /kaggle/working/TrainingModel1/model_epoch192.pt\n"
     ]
    },
    {
     "name": "stderr",
     "output_type": "stream",
     "text": [
      "Training:  77%|███████▋  | 193/250 [6:45:56<1:59:34, 125.87s/epoch]"
     ]
    },
    {
     "name": "stdout",
     "output_type": "stream",
     "text": [
      "[Epoch 194/250] Training Loss: 0.2322\n"
     ]
    },
    {
     "name": "stderr",
     "output_type": "stream",
     "text": [
      "Training:  78%|███████▊  | 194/250 [6:47:08<1:57:21, 125.74s/epoch]"
     ]
    },
    {
     "name": "stdout",
     "output_type": "stream",
     "text": [
      "  Train => MSE=0.2109, CI=0.8723, Pearson=0.8536\n",
      "  Test  => MSE=0.3178, CI=0.8364, Pearson=0.7374\n",
      "Checkpoint saved at epoch 194\n",
      "Deleted previous checkpoint: /kaggle/working/TrainingModel1/model_epoch193.pt\n"
     ]
    },
    {
     "name": "stderr",
     "output_type": "stream",
     "text": [
      "Training:  78%|███████▊  | 194/250 [6:48:02<1:57:21, 125.74s/epoch]"
     ]
    },
    {
     "name": "stdout",
     "output_type": "stream",
     "text": [
      "[Epoch 195/250] Training Loss: 0.2322\n"
     ]
    },
    {
     "name": "stderr",
     "output_type": "stream",
     "text": [
      "Training:  78%|███████▊  | 195/250 [6:49:14<1:55:19, 125.82s/epoch]"
     ]
    },
    {
     "name": "stdout",
     "output_type": "stream",
     "text": [
      "  Train => MSE=0.2073, CI=0.8766, Pearson=0.8600\n",
      "  Test  => MSE=0.3111, CI=0.8397, Pearson=0.7453\n",
      "Checkpoint saved at epoch 195\n",
      "Deleted previous checkpoint: /kaggle/working/TrainingModel1/model_epoch194.pt\n"
     ]
    },
    {
     "name": "stderr",
     "output_type": "stream",
     "text": [
      "Training:  78%|███████▊  | 195/250 [6:50:08<1:55:19, 125.82s/epoch]"
     ]
    },
    {
     "name": "stdout",
     "output_type": "stream",
     "text": [
      "[Epoch 196/250] Training Loss: 0.2265\n"
     ]
    },
    {
     "name": "stderr",
     "output_type": "stream",
     "text": [
      "Training:  78%|███████▊  | 196/250 [6:51:20<1:53:12, 125.78s/epoch]"
     ]
    },
    {
     "name": "stdout",
     "output_type": "stream",
     "text": [
      "  Train => MSE=0.2114, CI=0.8711, Pearson=0.8509\n",
      "  Test  => MSE=0.3193, CI=0.8359, Pearson=0.7366\n",
      "Checkpoint saved at epoch 196\n",
      "Deleted previous checkpoint: /kaggle/working/TrainingModel1/model_epoch195.pt\n"
     ]
    },
    {
     "name": "stderr",
     "output_type": "stream",
     "text": [
      "Training:  78%|███████▊  | 196/250 [6:52:14<1:53:12, 125.78s/epoch]"
     ]
    },
    {
     "name": "stdout",
     "output_type": "stream",
     "text": [
      "[Epoch 197/250] Training Loss: 0.2261\n"
     ]
    },
    {
     "name": "stderr",
     "output_type": "stream",
     "text": [
      "Training:  79%|███████▉  | 197/250 [6:53:26<1:51:07, 125.80s/epoch]"
     ]
    },
    {
     "name": "stdout",
     "output_type": "stream",
     "text": [
      "  Train => MSE=0.2019, CI=0.8734, Pearson=0.8578\n",
      "  Test  => MSE=0.3174, CI=0.8350, Pearson=0.7377\n",
      "Checkpoint saved at epoch 197\n",
      "Deleted previous checkpoint: /kaggle/working/TrainingModel1/model_epoch196.pt\n"
     ]
    },
    {
     "name": "stderr",
     "output_type": "stream",
     "text": [
      "Training:  79%|███████▉  | 197/250 [6:54:20<1:51:07, 125.80s/epoch]"
     ]
    },
    {
     "name": "stdout",
     "output_type": "stream",
     "text": [
      "[Epoch 198/250] Training Loss: 0.2340\n"
     ]
    },
    {
     "name": "stderr",
     "output_type": "stream",
     "text": [
      "Training:  79%|███████▉  | 197/250 [6:55:31<1:51:07, 125.80s/epoch]"
     ]
    },
    {
     "name": "stdout",
     "output_type": "stream",
     "text": [
      "  Train => MSE=0.2116, CI=0.8798, Pearson=0.8635\n",
      "  Test  => MSE=0.3292, CI=0.8410, Pearson=0.7455\n"
     ]
    },
    {
     "name": "stderr",
     "output_type": "stream",
     "text": [
      "Training:  79%|███████▉  | 198/250 [6:55:32<1:49:06, 125.89s/epoch]"
     ]
    },
    {
     "name": "stdout",
     "output_type": "stream",
     "text": [
      "Checkpoint saved at epoch 198\n",
      "Deleted previous checkpoint: /kaggle/working/TrainingModel1/model_epoch197.pt\n"
     ]
    },
    {
     "name": "stderr",
     "output_type": "stream",
     "text": [
      "Training:  79%|███████▉  | 198/250 [6:56:25<1:49:06, 125.89s/epoch]"
     ]
    },
    {
     "name": "stdout",
     "output_type": "stream",
     "text": [
      "[Epoch 199/250] Training Loss: 0.2292\n"
     ]
    },
    {
     "name": "stderr",
     "output_type": "stream",
     "text": [
      "Training:  80%|███████▉  | 199/250 [6:57:37<1:46:53, 125.75s/epoch]"
     ]
    },
    {
     "name": "stdout",
     "output_type": "stream",
     "text": [
      "  Train => MSE=0.2068, CI=0.8746, Pearson=0.8538\n",
      "  Test  => MSE=0.3123, CI=0.8442, Pearson=0.7415\n",
      "Checkpoint saved at epoch 199\n",
      "Deleted previous checkpoint: /kaggle/working/TrainingModel1/model_epoch198.pt\n"
     ]
    },
    {
     "name": "stderr",
     "output_type": "stream",
     "text": [
      "Training:  80%|███████▉  | 199/250 [6:58:31<1:46:53, 125.75s/epoch]"
     ]
    },
    {
     "name": "stdout",
     "output_type": "stream",
     "text": [
      "[Epoch 200/250] Training Loss: 0.2232\n"
     ]
    },
    {
     "name": "stderr",
     "output_type": "stream",
     "text": [
      "Training:  80%|████████  | 200/250 [6:59:43<1:44:53, 125.86s/epoch]"
     ]
    },
    {
     "name": "stdout",
     "output_type": "stream",
     "text": [
      "  Train => MSE=0.2216, CI=0.8752, Pearson=0.8535\n",
      "  Test  => MSE=0.3314, CI=0.8372, Pearson=0.7356\n",
      "Checkpoint saved at epoch 200\n",
      "Deleted previous checkpoint: /kaggle/working/TrainingModel1/model_epoch199.pt\n"
     ]
    },
    {
     "name": "stderr",
     "output_type": "stream",
     "text": [
      "Training:  80%|████████  | 200/250 [7:00:37<1:44:53, 125.86s/epoch]"
     ]
    },
    {
     "name": "stdout",
     "output_type": "stream",
     "text": [
      "[Epoch 201/250] Training Loss: 0.2268\n"
     ]
    },
    {
     "name": "stderr",
     "output_type": "stream",
     "text": [
      "Training:  80%|████████  | 201/250 [7:01:49<1:42:49, 125.90s/epoch]"
     ]
    },
    {
     "name": "stdout",
     "output_type": "stream",
     "text": [
      "  Train => MSE=0.2039, CI=0.8775, Pearson=0.8579\n",
      "  Test  => MSE=0.3134, CI=0.8393, Pearson=0.7396\n",
      "Checkpoint saved at epoch 201\n",
      "Deleted previous checkpoint: /kaggle/working/TrainingModel1/model_epoch200.pt\n"
     ]
    },
    {
     "name": "stderr",
     "output_type": "stream",
     "text": [
      "Training:  80%|████████  | 201/250 [7:02:43<1:42:49, 125.90s/epoch]"
     ]
    },
    {
     "name": "stdout",
     "output_type": "stream",
     "text": [
      "[Epoch 202/250] Training Loss: 0.2276\n"
     ]
    },
    {
     "name": "stderr",
     "output_type": "stream",
     "text": [
      "Training:  81%|████████  | 202/250 [7:03:55<1:40:46, 125.96s/epoch]"
     ]
    },
    {
     "name": "stdout",
     "output_type": "stream",
     "text": [
      "  Train => MSE=0.2018, CI=0.8763, Pearson=0.8597\n",
      "  Test  => MSE=0.3177, CI=0.8361, Pearson=0.7403\n",
      "Checkpoint saved at epoch 202\n",
      "Deleted previous checkpoint: /kaggle/working/TrainingModel1/model_epoch201.pt\n"
     ]
    },
    {
     "name": "stderr",
     "output_type": "stream",
     "text": [
      "Training:  81%|████████  | 202/250 [7:04:49<1:40:46, 125.96s/epoch]"
     ]
    },
    {
     "name": "stdout",
     "output_type": "stream",
     "text": [
      "[Epoch 203/250] Training Loss: 0.2198\n"
     ]
    },
    {
     "name": "stderr",
     "output_type": "stream",
     "text": [
      "Training:  81%|████████  | 203/250 [7:06:02<1:38:46, 126.09s/epoch]"
     ]
    },
    {
     "name": "stdout",
     "output_type": "stream",
     "text": [
      "  Train => MSE=0.1895, CI=0.8774, Pearson=0.8698\n",
      "  Test  => MSE=0.3133, CI=0.8398, Pearson=0.7452\n",
      "Checkpoint saved at epoch 203\n",
      "Deleted previous checkpoint: /kaggle/working/TrainingModel1/model_epoch202.pt\n"
     ]
    },
    {
     "name": "stderr",
     "output_type": "stream",
     "text": [
      "Training:  81%|████████  | 203/250 [7:06:56<1:38:46, 126.09s/epoch]"
     ]
    },
    {
     "name": "stdout",
     "output_type": "stream",
     "text": [
      "[Epoch 204/250] Training Loss: 0.2219\n"
     ]
    },
    {
     "name": "stderr",
     "output_type": "stream",
     "text": [
      "Training:  82%|████████▏ | 204/250 [7:08:08<1:36:40, 126.09s/epoch]"
     ]
    },
    {
     "name": "stdout",
     "output_type": "stream",
     "text": [
      "  Train => MSE=0.2095, CI=0.8788, Pearson=0.8641\n",
      "  Test  => MSE=0.3407, CI=0.8384, Pearson=0.7342\n",
      "Checkpoint saved at epoch 204\n",
      "Deleted previous checkpoint: /kaggle/working/TrainingModel1/model_epoch203.pt\n"
     ]
    },
    {
     "name": "stderr",
     "output_type": "stream",
     "text": [
      "Training:  82%|████████▏ | 204/250 [7:09:02<1:36:40, 126.09s/epoch]"
     ]
    },
    {
     "name": "stdout",
     "output_type": "stream",
     "text": [
      "[Epoch 205/250] Training Loss: 0.2210\n"
     ]
    },
    {
     "name": "stderr",
     "output_type": "stream",
     "text": [
      "Training:  82%|████████▏ | 205/250 [7:10:14<1:34:31, 126.03s/epoch]"
     ]
    },
    {
     "name": "stdout",
     "output_type": "stream",
     "text": [
      "  Train => MSE=0.1895, CI=0.8809, Pearson=0.8675\n",
      "  Test  => MSE=0.3135, CI=0.8421, Pearson=0.7409\n",
      "Checkpoint saved at epoch 205\n",
      "Deleted previous checkpoint: /kaggle/working/TrainingModel1/model_epoch204.pt\n"
     ]
    },
    {
     "name": "stderr",
     "output_type": "stream",
     "text": [
      "Training:  82%|████████▏ | 205/250 [7:11:08<1:34:31, 126.03s/epoch]"
     ]
    },
    {
     "name": "stdout",
     "output_type": "stream",
     "text": [
      "[Epoch 206/250] Training Loss: 0.2220\n"
     ]
    },
    {
     "name": "stderr",
     "output_type": "stream",
     "text": [
      "Training:  82%|████████▏ | 206/250 [7:12:20<1:32:27, 126.08s/epoch]"
     ]
    },
    {
     "name": "stdout",
     "output_type": "stream",
     "text": [
      "  Train => MSE=0.2076, CI=0.8763, Pearson=0.8603\n",
      "  Test  => MSE=0.3167, CI=0.8370, Pearson=0.7441\n",
      "Checkpoint saved at epoch 206\n",
      "Deleted previous checkpoint: /kaggle/working/TrainingModel1/model_epoch205.pt\n"
     ]
    },
    {
     "name": "stderr",
     "output_type": "stream",
     "text": [
      "Training:  82%|████████▏ | 206/250 [7:13:14<1:32:27, 126.08s/epoch]"
     ]
    },
    {
     "name": "stdout",
     "output_type": "stream",
     "text": [
      "[Epoch 207/250] Training Loss: 0.2274\n"
     ]
    },
    {
     "name": "stderr",
     "output_type": "stream",
     "text": [
      "Training:  83%|████████▎ | 207/250 [7:14:26<1:30:20, 126.05s/epoch]"
     ]
    },
    {
     "name": "stdout",
     "output_type": "stream",
     "text": [
      "  Train => MSE=0.2209, CI=0.8717, Pearson=0.8527\n",
      "  Test  => MSE=0.3382, CI=0.8333, Pearson=0.7307\n",
      "Checkpoint saved at epoch 207\n",
      "Deleted previous checkpoint: /kaggle/working/TrainingModel1/model_epoch206.pt\n"
     ]
    },
    {
     "name": "stderr",
     "output_type": "stream",
     "text": [
      "Training:  83%|████████▎ | 207/250 [7:15:20<1:30:20, 126.05s/epoch]"
     ]
    },
    {
     "name": "stdout",
     "output_type": "stream",
     "text": [
      "[Epoch 208/250] Training Loss: 0.2275\n"
     ]
    },
    {
     "name": "stderr",
     "output_type": "stream",
     "text": [
      "Training:  83%|████████▎ | 208/250 [7:16:32<1:28:16, 126.11s/epoch]"
     ]
    },
    {
     "name": "stdout",
     "output_type": "stream",
     "text": [
      "  Train => MSE=0.1888, CI=0.8823, Pearson=0.8684\n",
      "  Test  => MSE=0.3047, CI=0.8425, Pearson=0.7476\n",
      "Checkpoint saved at epoch 208\n",
      "Deleted previous checkpoint: /kaggle/working/TrainingModel1/model_epoch207.pt\n"
     ]
    },
    {
     "name": "stderr",
     "output_type": "stream",
     "text": [
      "Training:  83%|████████▎ | 208/250 [7:17:26<1:28:16, 126.11s/epoch]"
     ]
    },
    {
     "name": "stdout",
     "output_type": "stream",
     "text": [
      "[Epoch 209/250] Training Loss: 0.2172\n"
     ]
    },
    {
     "name": "stderr",
     "output_type": "stream",
     "text": [
      "Training:  84%|████████▎ | 209/250 [7:18:38<1:26:07, 126.05s/epoch]"
     ]
    },
    {
     "name": "stdout",
     "output_type": "stream",
     "text": [
      "  Train => MSE=0.1840, CI=0.8792, Pearson=0.8722\n",
      "  Test  => MSE=0.3055, CI=0.8407, Pearson=0.7503\n",
      "Checkpoint saved at epoch 209\n",
      "Deleted previous checkpoint: /kaggle/working/TrainingModel1/model_epoch208.pt\n"
     ]
    },
    {
     "name": "stderr",
     "output_type": "stream",
     "text": [
      "Training:  84%|████████▎ | 209/250 [7:19:32<1:26:07, 126.05s/epoch]"
     ]
    },
    {
     "name": "stdout",
     "output_type": "stream",
     "text": [
      "[Epoch 210/250] Training Loss: 0.2186\n"
     ]
    },
    {
     "name": "stderr",
     "output_type": "stream",
     "text": [
      "Training:  84%|████████▍ | 210/250 [7:20:44<1:23:59, 125.99s/epoch]"
     ]
    },
    {
     "name": "stdout",
     "output_type": "stream",
     "text": [
      "  Train => MSE=0.1798, CI=0.8835, Pearson=0.8788\n",
      "  Test  => MSE=0.3119, CI=0.8428, Pearson=0.7502\n",
      "Checkpoint saved at epoch 210\n",
      "Deleted previous checkpoint: /kaggle/working/TrainingModel1/model_epoch209.pt\n"
     ]
    },
    {
     "name": "stderr",
     "output_type": "stream",
     "text": [
      "Training:  84%|████████▍ | 210/250 [7:21:38<1:23:59, 125.99s/epoch]"
     ]
    },
    {
     "name": "stdout",
     "output_type": "stream",
     "text": [
      "[Epoch 211/250] Training Loss: 0.2176\n"
     ]
    },
    {
     "name": "stderr",
     "output_type": "stream",
     "text": [
      "Training:  84%|████████▍ | 210/250 [7:22:50<1:23:59, 125.99s/epoch]"
     ]
    },
    {
     "name": "stdout",
     "output_type": "stream",
     "text": [
      "  Train => MSE=0.2062, CI=0.8776, Pearson=0.8592\n",
      "  Test  => MSE=0.3234, CI=0.8369, Pearson=0.7341\n"
     ]
    },
    {
     "name": "stderr",
     "output_type": "stream",
     "text": [
      "Training:  84%|████████▍ | 211/250 [7:22:50<1:21:54, 126.02s/epoch]"
     ]
    },
    {
     "name": "stdout",
     "output_type": "stream",
     "text": [
      "Checkpoint saved at epoch 211\n",
      "Deleted previous checkpoint: /kaggle/working/TrainingModel1/model_epoch210.pt\n"
     ]
    },
    {
     "name": "stderr",
     "output_type": "stream",
     "text": [
      "Training:  84%|████████▍ | 211/250 [7:23:44<1:21:54, 126.02s/epoch]"
     ]
    },
    {
     "name": "stdout",
     "output_type": "stream",
     "text": [
      "[Epoch 212/250] Training Loss: 0.2095\n"
     ]
    },
    {
     "name": "stderr",
     "output_type": "stream",
     "text": [
      "Training:  85%|████████▍ | 212/250 [7:24:56<1:19:47, 125.99s/epoch]"
     ]
    },
    {
     "name": "stdout",
     "output_type": "stream",
     "text": [
      "  Train => MSE=0.1855, CI=0.8831, Pearson=0.8717\n",
      "  Test  => MSE=0.3113, CI=0.8416, Pearson=0.7453\n",
      "Checkpoint saved at epoch 212\n",
      "Deleted previous checkpoint: /kaggle/working/TrainingModel1/model_epoch211.pt\n"
     ]
    },
    {
     "name": "stderr",
     "output_type": "stream",
     "text": [
      "Training:  85%|████████▍ | 212/250 [7:25:50<1:19:47, 125.99s/epoch]"
     ]
    },
    {
     "name": "stdout",
     "output_type": "stream",
     "text": [
      "[Epoch 213/250] Training Loss: 0.2148\n"
     ]
    },
    {
     "name": "stderr",
     "output_type": "stream",
     "text": [
      "Training:  85%|████████▌ | 213/250 [7:27:02<1:17:42, 126.00s/epoch]"
     ]
    },
    {
     "name": "stdout",
     "output_type": "stream",
     "text": [
      "  Train => MSE=0.1833, CI=0.8793, Pearson=0.8735\n",
      "  Test  => MSE=0.3052, CI=0.8400, Pearson=0.7495\n",
      "Checkpoint saved at epoch 213\n",
      "Deleted previous checkpoint: /kaggle/working/TrainingModel1/model_epoch212.pt\n"
     ]
    },
    {
     "name": "stderr",
     "output_type": "stream",
     "text": [
      "Training:  85%|████████▌ | 213/250 [7:27:56<1:17:42, 126.00s/epoch]"
     ]
    },
    {
     "name": "stdout",
     "output_type": "stream",
     "text": [
      "[Epoch 214/250] Training Loss: 0.2224\n"
     ]
    },
    {
     "name": "stderr",
     "output_type": "stream",
     "text": [
      "Training:  86%|████████▌ | 214/250 [7:29:08<1:15:37, 126.05s/epoch]"
     ]
    },
    {
     "name": "stdout",
     "output_type": "stream",
     "text": [
      "  Train => MSE=0.1908, CI=0.8811, Pearson=0.8714\n",
      "  Test  => MSE=0.3120, CI=0.8392, Pearson=0.7449\n",
      "Checkpoint saved at epoch 214\n",
      "Deleted previous checkpoint: /kaggle/working/TrainingModel1/model_epoch213.pt\n"
     ]
    },
    {
     "name": "stderr",
     "output_type": "stream",
     "text": [
      "Training:  86%|████████▌ | 214/250 [7:30:02<1:15:37, 126.05s/epoch]"
     ]
    },
    {
     "name": "stdout",
     "output_type": "stream",
     "text": [
      "[Epoch 215/250] Training Loss: 0.2129\n"
     ]
    },
    {
     "name": "stderr",
     "output_type": "stream",
     "text": [
      "Training:  86%|████████▌ | 215/250 [7:31:14<1:13:28, 125.96s/epoch]"
     ]
    },
    {
     "name": "stdout",
     "output_type": "stream",
     "text": [
      "  Train => MSE=0.1815, CI=0.8808, Pearson=0.8747\n",
      "  Test  => MSE=0.3088, CI=0.8399, Pearson=0.7458\n",
      "Checkpoint saved at epoch 215\n",
      "Deleted previous checkpoint: /kaggle/working/TrainingModel1/model_epoch214.pt\n"
     ]
    },
    {
     "name": "stderr",
     "output_type": "stream",
     "text": [
      "Training:  86%|████████▌ | 215/250 [7:32:08<1:13:28, 125.96s/epoch]"
     ]
    },
    {
     "name": "stdout",
     "output_type": "stream",
     "text": [
      "[Epoch 216/250] Training Loss: 0.2144\n"
     ]
    },
    {
     "name": "stderr",
     "output_type": "stream",
     "text": [
      "Training:  86%|████████▋ | 216/250 [7:33:20<1:11:25, 126.03s/epoch]"
     ]
    },
    {
     "name": "stdout",
     "output_type": "stream",
     "text": [
      "  Train => MSE=0.1875, CI=0.8816, Pearson=0.8721\n",
      "  Test  => MSE=0.3070, CI=0.8385, Pearson=0.7484\n",
      "Checkpoint saved at epoch 216\n",
      "Deleted previous checkpoint: /kaggle/working/TrainingModel1/model_epoch215.pt\n"
     ]
    },
    {
     "name": "stderr",
     "output_type": "stream",
     "text": [
      "Training:  86%|████████▋ | 216/250 [7:34:14<1:11:25, 126.03s/epoch]"
     ]
    },
    {
     "name": "stdout",
     "output_type": "stream",
     "text": [
      "[Epoch 217/250] Training Loss: 0.2186\n"
     ]
    },
    {
     "name": "stderr",
     "output_type": "stream",
     "text": [
      "Training:  87%|████████▋ | 217/250 [7:35:26<1:09:15, 125.93s/epoch]"
     ]
    },
    {
     "name": "stdout",
     "output_type": "stream",
     "text": [
      "  Train => MSE=0.1985, CI=0.8829, Pearson=0.8716\n",
      "  Test  => MSE=0.3228, CI=0.8426, Pearson=0.7408\n",
      "Checkpoint saved at epoch 217\n",
      "Deleted previous checkpoint: /kaggle/working/TrainingModel1/model_epoch216.pt\n"
     ]
    },
    {
     "name": "stderr",
     "output_type": "stream",
     "text": [
      "Training:  87%|████████▋ | 217/250 [7:36:20<1:09:15, 125.93s/epoch]"
     ]
    },
    {
     "name": "stdout",
     "output_type": "stream",
     "text": [
      "[Epoch 218/250] Training Loss: 0.2173\n"
     ]
    },
    {
     "name": "stderr",
     "output_type": "stream",
     "text": [
      "Training:  87%|████████▋ | 218/250 [7:37:31<1:07:08, 125.89s/epoch]"
     ]
    },
    {
     "name": "stdout",
     "output_type": "stream",
     "text": [
      "  Train => MSE=0.1850, CI=0.8803, Pearson=0.8735\n",
      "  Test  => MSE=0.2954, CI=0.8398, Pearson=0.7561\n",
      "Checkpoint saved at epoch 218\n",
      "Deleted previous checkpoint: /kaggle/working/TrainingModel1/model_epoch217.pt\n"
     ]
    },
    {
     "name": "stderr",
     "output_type": "stream",
     "text": [
      "Training:  87%|████████▋ | 218/250 [7:38:26<1:07:08, 125.89s/epoch]"
     ]
    },
    {
     "name": "stdout",
     "output_type": "stream",
     "text": [
      "[Epoch 219/250] Training Loss: 0.2121\n"
     ]
    },
    {
     "name": "stderr",
     "output_type": "stream",
     "text": [
      "Training:  88%|████████▊ | 219/250 [7:39:37<1:05:03, 125.91s/epoch]"
     ]
    },
    {
     "name": "stdout",
     "output_type": "stream",
     "text": [
      "  Train => MSE=0.2135, CI=0.8806, Pearson=0.8645\n",
      "  Test  => MSE=0.3320, CI=0.8406, Pearson=0.7428\n",
      "Checkpoint saved at epoch 219\n",
      "Deleted previous checkpoint: /kaggle/working/TrainingModel1/model_epoch218.pt\n"
     ]
    },
    {
     "name": "stderr",
     "output_type": "stream",
     "text": [
      "Training:  88%|████████▊ | 219/250 [7:40:32<1:05:03, 125.91s/epoch]"
     ]
    },
    {
     "name": "stdout",
     "output_type": "stream",
     "text": [
      "[Epoch 220/250] Training Loss: 0.2084\n"
     ]
    },
    {
     "name": "stderr",
     "output_type": "stream",
     "text": [
      "Training:  88%|████████▊ | 220/250 [7:41:44<1:02:59, 125.99s/epoch]"
     ]
    },
    {
     "name": "stdout",
     "output_type": "stream",
     "text": [
      "  Train => MSE=0.1916, CI=0.8757, Pearson=0.8689\n",
      "  Test  => MSE=0.2925, CI=0.8362, Pearson=0.7593\n",
      "Checkpoint saved at epoch 220\n",
      "Deleted previous checkpoint: /kaggle/working/TrainingModel1/model_epoch219.pt\n"
     ]
    },
    {
     "name": "stderr",
     "output_type": "stream",
     "text": [
      "Training:  88%|████████▊ | 220/250 [7:42:38<1:02:59, 125.99s/epoch]"
     ]
    },
    {
     "name": "stdout",
     "output_type": "stream",
     "text": [
      "[Epoch 221/250] Training Loss: 0.2098\n"
     ]
    },
    {
     "name": "stderr",
     "output_type": "stream",
     "text": [
      "Training:  88%|████████▊ | 221/250 [7:43:51<1:01:02, 126.28s/epoch]"
     ]
    },
    {
     "name": "stdout",
     "output_type": "stream",
     "text": [
      "  Train => MSE=0.1923, CI=0.8858, Pearson=0.8799\n",
      "  Test  => MSE=0.3103, CI=0.8443, Pearson=0.7608\n",
      "Checkpoint saved at epoch 221\n",
      "Deleted previous checkpoint: /kaggle/working/TrainingModel1/model_epoch220.pt\n"
     ]
    },
    {
     "name": "stderr",
     "output_type": "stream",
     "text": [
      "Training:  88%|████████▊ | 221/250 [7:44:45<1:01:02, 126.28s/epoch]"
     ]
    },
    {
     "name": "stdout",
     "output_type": "stream",
     "text": [
      "[Epoch 222/250] Training Loss: 0.2096\n"
     ]
    },
    {
     "name": "stderr",
     "output_type": "stream",
     "text": [
      "Training:  89%|████████▉ | 222/250 [7:45:57<58:53, 126.21s/epoch]  "
     ]
    },
    {
     "name": "stdout",
     "output_type": "stream",
     "text": [
      "  Train => MSE=0.1856, CI=0.8801, Pearson=0.8708\n",
      "  Test  => MSE=0.3106, CI=0.8384, Pearson=0.7480\n",
      "Checkpoint saved at epoch 222\n",
      "Deleted previous checkpoint: /kaggle/working/TrainingModel1/model_epoch221.pt\n"
     ]
    },
    {
     "name": "stderr",
     "output_type": "stream",
     "text": [
      "Training:  89%|████████▉ | 222/250 [7:46:51<58:53, 126.21s/epoch]"
     ]
    },
    {
     "name": "stdout",
     "output_type": "stream",
     "text": [
      "[Epoch 223/250] Training Loss: 0.2107\n"
     ]
    },
    {
     "name": "stderr",
     "output_type": "stream",
     "text": [
      "Training:  89%|████████▉ | 223/250 [7:48:03<56:46, 126.16s/epoch]"
     ]
    },
    {
     "name": "stdout",
     "output_type": "stream",
     "text": [
      "  Train => MSE=0.1847, CI=0.8870, Pearson=0.8808\n",
      "  Test  => MSE=0.3050, CI=0.8450, Pearson=0.7600\n",
      "Checkpoint saved at epoch 223\n",
      "Deleted previous checkpoint: /kaggle/working/TrainingModel1/model_epoch222.pt\n"
     ]
    },
    {
     "name": "stderr",
     "output_type": "stream",
     "text": [
      "Training:  89%|████████▉ | 223/250 [7:48:57<56:46, 126.16s/epoch]"
     ]
    },
    {
     "name": "stdout",
     "output_type": "stream",
     "text": [
      "[Epoch 224/250] Training Loss: 0.2082\n"
     ]
    },
    {
     "name": "stderr",
     "output_type": "stream",
     "text": [
      "Training:  89%|████████▉ | 223/250 [7:50:09<56:46, 126.16s/epoch]"
     ]
    },
    {
     "name": "stdout",
     "output_type": "stream",
     "text": [
      "  Train => MSE=0.2064, CI=0.8698, Pearson=0.8565\n",
      "  Test  => MSE=0.3141, CI=0.8247, Pearson=0.7385\n"
     ]
    },
    {
     "name": "stderr",
     "output_type": "stream",
     "text": [
      "Training:  90%|████████▉ | 224/250 [7:50:09<54:43, 126.29s/epoch]"
     ]
    },
    {
     "name": "stdout",
     "output_type": "stream",
     "text": [
      "Checkpoint saved at epoch 224\n",
      "Deleted previous checkpoint: /kaggle/working/TrainingModel1/model_epoch223.pt\n"
     ]
    },
    {
     "name": "stderr",
     "output_type": "stream",
     "text": [
      "Training:  90%|████████▉ | 224/250 [7:51:03<54:43, 126.29s/epoch]"
     ]
    },
    {
     "name": "stdout",
     "output_type": "stream",
     "text": [
      "[Epoch 225/250] Training Loss: 0.2066\n"
     ]
    },
    {
     "name": "stderr",
     "output_type": "stream",
     "text": [
      "Training:  90%|█████████ | 225/250 [7:52:15<52:34, 126.18s/epoch]"
     ]
    },
    {
     "name": "stdout",
     "output_type": "stream",
     "text": [
      "  Train => MSE=0.1895, CI=0.8790, Pearson=0.8678\n",
      "  Test  => MSE=0.3106, CI=0.8431, Pearson=0.7446\n",
      "Checkpoint saved at epoch 225\n",
      "Deleted previous checkpoint: /kaggle/working/TrainingModel1/model_epoch224.pt\n"
     ]
    },
    {
     "name": "stderr",
     "output_type": "stream",
     "text": [
      "Training:  90%|█████████ | 225/250 [7:53:09<52:34, 126.18s/epoch]"
     ]
    },
    {
     "name": "stdout",
     "output_type": "stream",
     "text": [
      "[Epoch 226/250] Training Loss: 0.2108\n"
     ]
    },
    {
     "name": "stderr",
     "output_type": "stream",
     "text": [
      "Training:  90%|█████████ | 226/250 [7:54:21<50:27, 126.13s/epoch]"
     ]
    },
    {
     "name": "stdout",
     "output_type": "stream",
     "text": [
      "  Train => MSE=0.1879, CI=0.8814, Pearson=0.8833\n",
      "  Test  => MSE=0.3034, CI=0.8412, Pearson=0.7575\n",
      "Checkpoint saved at epoch 226\n",
      "Deleted previous checkpoint: /kaggle/working/TrainingModel1/model_epoch225.pt\n"
     ]
    },
    {
     "name": "stderr",
     "output_type": "stream",
     "text": [
      "Training:  90%|█████████ | 226/250 [7:55:15<50:27, 126.13s/epoch]"
     ]
    },
    {
     "name": "stdout",
     "output_type": "stream",
     "text": [
      "[Epoch 227/250] Training Loss: 0.2050\n"
     ]
    },
    {
     "name": "stderr",
     "output_type": "stream",
     "text": [
      "Training:  91%|█████████ | 227/250 [7:56:27<48:19, 126.09s/epoch]"
     ]
    },
    {
     "name": "stdout",
     "output_type": "stream",
     "text": [
      "  Train => MSE=0.1765, CI=0.8868, Pearson=0.8825\n",
      "  Test  => MSE=0.2925, CI=0.8498, Pearson=0.7642\n",
      "Checkpoint saved at epoch 227\n",
      "Deleted previous checkpoint: /kaggle/working/TrainingModel1/model_epoch226.pt\n"
     ]
    },
    {
     "name": "stderr",
     "output_type": "stream",
     "text": [
      "Training:  91%|█████████ | 227/250 [7:57:21<48:19, 126.09s/epoch]"
     ]
    },
    {
     "name": "stdout",
     "output_type": "stream",
     "text": [
      "[Epoch 228/250] Training Loss: 0.2050\n"
     ]
    },
    {
     "name": "stderr",
     "output_type": "stream",
     "text": [
      "Training:  91%|█████████ | 228/250 [7:58:33<46:09, 125.88s/epoch]"
     ]
    },
    {
     "name": "stdout",
     "output_type": "stream",
     "text": [
      "  Train => MSE=0.1993, CI=0.8771, Pearson=0.8647\n",
      "  Test  => MSE=0.3115, CI=0.8388, Pearson=0.7497\n",
      "Checkpoint saved at epoch 228\n",
      "Deleted previous checkpoint: /kaggle/working/TrainingModel1/model_epoch227.pt\n"
     ]
    },
    {
     "name": "stderr",
     "output_type": "stream",
     "text": [
      "Training:  91%|█████████ | 228/250 [7:59:27<46:09, 125.88s/epoch]"
     ]
    },
    {
     "name": "stdout",
     "output_type": "stream",
     "text": [
      "[Epoch 229/250] Training Loss: 0.2060\n"
     ]
    },
    {
     "name": "stderr",
     "output_type": "stream",
     "text": [
      "Training:  92%|█████████▏| 229/250 [8:00:39<44:06, 126.04s/epoch]"
     ]
    },
    {
     "name": "stdout",
     "output_type": "stream",
     "text": [
      "  Train => MSE=0.2128, CI=0.8748, Pearson=0.8534\n",
      "  Test  => MSE=0.3087, CI=0.8396, Pearson=0.7486\n",
      "Checkpoint saved at epoch 229\n",
      "Deleted previous checkpoint: /kaggle/working/TrainingModel1/model_epoch228.pt\n"
     ]
    },
    {
     "name": "stderr",
     "output_type": "stream",
     "text": [
      "Training:  92%|█████████▏| 229/250 [8:01:33<44:06, 126.04s/epoch]"
     ]
    },
    {
     "name": "stdout",
     "output_type": "stream",
     "text": [
      "[Epoch 230/250] Training Loss: 0.2126\n"
     ]
    },
    {
     "name": "stderr",
     "output_type": "stream",
     "text": [
      "Training:  92%|█████████▏| 230/250 [8:02:44<41:56, 125.81s/epoch]"
     ]
    },
    {
     "name": "stdout",
     "output_type": "stream",
     "text": [
      "  Train => MSE=0.1683, CI=0.8860, Pearson=0.8888\n",
      "  Test  => MSE=0.2928, CI=0.8448, Pearson=0.7618\n",
      "Checkpoint saved at epoch 230\n",
      "Deleted previous checkpoint: /kaggle/working/TrainingModel1/model_epoch229.pt\n"
     ]
    },
    {
     "name": "stderr",
     "output_type": "stream",
     "text": [
      "Training:  92%|█████████▏| 230/250 [8:03:38<41:56, 125.81s/epoch]"
     ]
    },
    {
     "name": "stdout",
     "output_type": "stream",
     "text": [
      "[Epoch 231/250] Training Loss: 0.2021\n"
     ]
    },
    {
     "name": "stderr",
     "output_type": "stream",
     "text": [
      "Training:  92%|█████████▏| 231/250 [8:04:50<39:48, 125.70s/epoch]"
     ]
    },
    {
     "name": "stdout",
     "output_type": "stream",
     "text": [
      "  Train => MSE=0.1650, CI=0.8841, Pearson=0.8870\n",
      "  Test  => MSE=0.2922, CI=0.8436, Pearson=0.7634\n",
      "Checkpoint saved at epoch 231\n",
      "Deleted previous checkpoint: /kaggle/working/TrainingModel1/model_epoch230.pt\n"
     ]
    },
    {
     "name": "stderr",
     "output_type": "stream",
     "text": [
      "Training:  92%|█████████▏| 231/250 [8:05:44<39:48, 125.70s/epoch]"
     ]
    },
    {
     "name": "stdout",
     "output_type": "stream",
     "text": [
      "[Epoch 232/250] Training Loss: 0.2003\n"
     ]
    },
    {
     "name": "stderr",
     "output_type": "stream",
     "text": [
      "Training:  93%|█████████▎| 232/250 [8:06:56<37:43, 125.77s/epoch]"
     ]
    },
    {
     "name": "stdout",
     "output_type": "stream",
     "text": [
      "  Train => MSE=0.2012, CI=0.8764, Pearson=0.8628\n",
      "  Test  => MSE=0.3105, CI=0.8383, Pearson=0.7464\n",
      "Checkpoint saved at epoch 232\n",
      "Deleted previous checkpoint: /kaggle/working/TrainingModel1/model_epoch231.pt\n"
     ]
    },
    {
     "name": "stderr",
     "output_type": "stream",
     "text": [
      "Training:  93%|█████████▎| 232/250 [8:07:49<37:43, 125.77s/epoch]"
     ]
    },
    {
     "name": "stdout",
     "output_type": "stream",
     "text": [
      "[Epoch 233/250] Training Loss: 0.2041\n"
     ]
    },
    {
     "name": "stderr",
     "output_type": "stream",
     "text": [
      "Training:  93%|█████████▎| 233/250 [8:09:01<35:37, 125.76s/epoch]"
     ]
    },
    {
     "name": "stdout",
     "output_type": "stream",
     "text": [
      "  Train => MSE=0.1943, CI=0.8808, Pearson=0.8703\n",
      "  Test  => MSE=0.3064, CI=0.8462, Pearson=0.7553\n",
      "Checkpoint saved at epoch 233\n",
      "Deleted previous checkpoint: /kaggle/working/TrainingModel1/model_epoch232.pt\n"
     ]
    },
    {
     "name": "stderr",
     "output_type": "stream",
     "text": [
      "Training:  93%|█████████▎| 233/250 [8:09:55<35:37, 125.76s/epoch]"
     ]
    },
    {
     "name": "stdout",
     "output_type": "stream",
     "text": [
      "[Epoch 234/250] Training Loss: 0.2020\n"
     ]
    },
    {
     "name": "stderr",
     "output_type": "stream",
     "text": [
      "Training:  94%|█████████▎| 234/250 [8:11:07<33:32, 125.77s/epoch]"
     ]
    },
    {
     "name": "stdout",
     "output_type": "stream",
     "text": [
      "  Train => MSE=0.1791, CI=0.8842, Pearson=0.8801\n",
      "  Test  => MSE=0.2983, CI=0.8416, Pearson=0.7612\n",
      "Checkpoint saved at epoch 234\n",
      "Deleted previous checkpoint: /kaggle/working/TrainingModel1/model_epoch233.pt\n"
     ]
    },
    {
     "name": "stderr",
     "output_type": "stream",
     "text": [
      "Training:  94%|█████████▎| 234/250 [8:12:01<33:32, 125.77s/epoch]"
     ]
    },
    {
     "name": "stdout",
     "output_type": "stream",
     "text": [
      "[Epoch 235/250] Training Loss: 0.1992\n"
     ]
    },
    {
     "name": "stderr",
     "output_type": "stream",
     "text": [
      "Training:  94%|█████████▍| 235/250 [8:13:13<31:27, 125.84s/epoch]"
     ]
    },
    {
     "name": "stdout",
     "output_type": "stream",
     "text": [
      "  Train => MSE=0.1767, CI=0.8853, Pearson=0.8791\n",
      "  Test  => MSE=0.2863, CI=0.8462, Pearson=0.7654\n",
      "Checkpoint saved at epoch 235\n",
      "Deleted previous checkpoint: /kaggle/working/TrainingModel1/model_epoch234.pt\n"
     ]
    },
    {
     "name": "stderr",
     "output_type": "stream",
     "text": [
      "Training:  94%|█████████▍| 235/250 [8:14:08<31:27, 125.84s/epoch]"
     ]
    },
    {
     "name": "stdout",
     "output_type": "stream",
     "text": [
      "[Epoch 236/250] Training Loss: 0.1956\n"
     ]
    },
    {
     "name": "stderr",
     "output_type": "stream",
     "text": [
      "Training:  94%|█████████▍| 236/250 [8:15:19<29:23, 125.98s/epoch]"
     ]
    },
    {
     "name": "stdout",
     "output_type": "stream",
     "text": [
      "  Train => MSE=0.1796, CI=0.8802, Pearson=0.8759\n",
      "  Test  => MSE=0.3016, CI=0.8389, Pearson=0.7516\n",
      "Checkpoint saved at epoch 236\n",
      "Deleted previous checkpoint: /kaggle/working/TrainingModel1/model_epoch235.pt\n"
     ]
    },
    {
     "name": "stderr",
     "output_type": "stream",
     "text": [
      "Training:  94%|█████████▍| 236/250 [8:16:14<29:23, 125.98s/epoch]"
     ]
    },
    {
     "name": "stdout",
     "output_type": "stream",
     "text": [
      "[Epoch 237/250] Training Loss: 0.1967\n"
     ]
    },
    {
     "name": "stderr",
     "output_type": "stream",
     "text": [
      "Training:  94%|█████████▍| 236/250 [8:17:25<29:23, 125.98s/epoch]"
     ]
    },
    {
     "name": "stdout",
     "output_type": "stream",
     "text": [
      "  Train => MSE=0.1818, CI=0.8806, Pearson=0.8729\n",
      "  Test  => MSE=0.3019, CI=0.8432, Pearson=0.7517\n"
     ]
    },
    {
     "name": "stderr",
     "output_type": "stream",
     "text": [
      "Training:  95%|█████████▍| 237/250 [8:17:25<27:17, 125.99s/epoch]"
     ]
    },
    {
     "name": "stdout",
     "output_type": "stream",
     "text": [
      "Checkpoint saved at epoch 237\n",
      "Deleted previous checkpoint: /kaggle/working/TrainingModel1/model_epoch236.pt\n"
     ]
    },
    {
     "name": "stderr",
     "output_type": "stream",
     "text": [
      "Training:  95%|█████████▍| 237/250 [8:18:20<27:17, 125.99s/epoch]"
     ]
    },
    {
     "name": "stdout",
     "output_type": "stream",
     "text": [
      "[Epoch 238/250] Training Loss: 0.1997\n"
     ]
    },
    {
     "name": "stderr",
     "output_type": "stream",
     "text": [
      "Training:  95%|█████████▌| 238/250 [8:19:32<25:12, 126.04s/epoch]"
     ]
    },
    {
     "name": "stdout",
     "output_type": "stream",
     "text": [
      "  Train => MSE=0.1676, CI=0.8791, Pearson=0.8855\n",
      "  Test  => MSE=0.2930, CI=0.8375, Pearson=0.7624\n",
      "Checkpoint saved at epoch 238\n",
      "Deleted previous checkpoint: /kaggle/working/TrainingModel1/model_epoch237.pt\n"
     ]
    },
    {
     "name": "stderr",
     "output_type": "stream",
     "text": [
      "Training:  95%|█████████▌| 238/250 [8:20:26<25:12, 126.04s/epoch]"
     ]
    },
    {
     "name": "stdout",
     "output_type": "stream",
     "text": [
      "[Epoch 239/250] Training Loss: 0.2027\n"
     ]
    },
    {
     "name": "stderr",
     "output_type": "stream",
     "text": [
      "Training:  96%|█████████▌| 239/250 [8:21:37<23:05, 125.96s/epoch]"
     ]
    },
    {
     "name": "stdout",
     "output_type": "stream",
     "text": [
      "  Train => MSE=0.1773, CI=0.8818, Pearson=0.8777\n",
      "  Test  => MSE=0.2902, CI=0.8441, Pearson=0.7611\n",
      "Checkpoint saved at epoch 239\n",
      "Deleted previous checkpoint: /kaggle/working/TrainingModel1/model_epoch238.pt\n"
     ]
    },
    {
     "name": "stderr",
     "output_type": "stream",
     "text": [
      "Training:  96%|█████████▌| 239/250 [8:22:32<23:05, 125.96s/epoch]"
     ]
    },
    {
     "name": "stdout",
     "output_type": "stream",
     "text": [
      "[Epoch 240/250] Training Loss: 0.1985\n"
     ]
    },
    {
     "name": "stderr",
     "output_type": "stream",
     "text": [
      "Training:  96%|█████████▌| 240/250 [8:23:43<20:59, 125.98s/epoch]"
     ]
    },
    {
     "name": "stdout",
     "output_type": "stream",
     "text": [
      "  Train => MSE=0.1749, CI=0.8834, Pearson=0.8824\n",
      "  Test  => MSE=0.2920, CI=0.8410, Pearson=0.7607\n",
      "Checkpoint saved at epoch 240\n",
      "Deleted previous checkpoint: /kaggle/working/TrainingModel1/model_epoch239.pt\n"
     ]
    },
    {
     "name": "stderr",
     "output_type": "stream",
     "text": [
      "Training:  96%|█████████▌| 240/250 [8:24:38<20:59, 125.98s/epoch]"
     ]
    },
    {
     "name": "stdout",
     "output_type": "stream",
     "text": [
      "[Epoch 241/250] Training Loss: 0.1972\n"
     ]
    },
    {
     "name": "stderr",
     "output_type": "stream",
     "text": [
      "Training:  96%|█████████▋| 241/250 [8:25:49<18:53, 125.98s/epoch]"
     ]
    },
    {
     "name": "stdout",
     "output_type": "stream",
     "text": [
      "  Train => MSE=0.1763, CI=0.8831, Pearson=0.8780\n",
      "  Test  => MSE=0.2949, CI=0.8423, Pearson=0.7581\n",
      "Checkpoint saved at epoch 241\n",
      "Deleted previous checkpoint: /kaggle/working/TrainingModel1/model_epoch240.pt\n"
     ]
    },
    {
     "name": "stderr",
     "output_type": "stream",
     "text": [
      "Training:  96%|█████████▋| 241/250 [8:26:43<18:53, 125.98s/epoch]"
     ]
    },
    {
     "name": "stdout",
     "output_type": "stream",
     "text": [
      "[Epoch 242/250] Training Loss: 0.1932\n"
     ]
    },
    {
     "name": "stderr",
     "output_type": "stream",
     "text": [
      "Training:  97%|█████████▋| 242/250 [8:27:55<16:47, 125.96s/epoch]"
     ]
    },
    {
     "name": "stdout",
     "output_type": "stream",
     "text": [
      "  Train => MSE=0.1694, CI=0.8876, Pearson=0.8827\n",
      "  Test  => MSE=0.2855, CI=0.8469, Pearson=0.7664\n",
      "Checkpoint saved at epoch 242\n",
      "Deleted previous checkpoint: /kaggle/working/TrainingModel1/model_epoch241.pt\n"
     ]
    },
    {
     "name": "stderr",
     "output_type": "stream",
     "text": [
      "Training:  97%|█████████▋| 242/250 [8:28:49<16:47, 125.96s/epoch]"
     ]
    },
    {
     "name": "stdout",
     "output_type": "stream",
     "text": [
      "[Epoch 243/250] Training Loss: 0.1982\n"
     ]
    },
    {
     "name": "stderr",
     "output_type": "stream",
     "text": [
      "Training:  97%|█████████▋| 243/250 [8:30:01<14:41, 125.99s/epoch]"
     ]
    },
    {
     "name": "stdout",
     "output_type": "stream",
     "text": [
      "  Train => MSE=0.1922, CI=0.8823, Pearson=0.8753\n",
      "  Test  => MSE=0.3201, CI=0.8409, Pearson=0.7503\n",
      "Checkpoint saved at epoch 243\n",
      "Deleted previous checkpoint: /kaggle/working/TrainingModel1/model_epoch242.pt\n"
     ]
    },
    {
     "name": "stderr",
     "output_type": "stream",
     "text": [
      "Training:  97%|█████████▋| 243/250 [8:30:55<14:41, 125.99s/epoch]"
     ]
    },
    {
     "name": "stdout",
     "output_type": "stream",
     "text": [
      "[Epoch 244/250] Training Loss: 0.1984\n"
     ]
    },
    {
     "name": "stderr",
     "output_type": "stream",
     "text": [
      "Training:  98%|█████████▊| 244/250 [8:32:07<12:35, 125.90s/epoch]"
     ]
    },
    {
     "name": "stdout",
     "output_type": "stream",
     "text": [
      "  Train => MSE=0.1763, CI=0.8834, Pearson=0.8777\n",
      "  Test  => MSE=0.2927, CI=0.8474, Pearson=0.7601\n",
      "Checkpoint saved at epoch 244\n",
      "Deleted previous checkpoint: /kaggle/working/TrainingModel1/model_epoch243.pt\n"
     ]
    },
    {
     "name": "stderr",
     "output_type": "stream",
     "text": [
      "Training:  98%|█████████▊| 244/250 [8:33:01<12:35, 125.90s/epoch]"
     ]
    },
    {
     "name": "stdout",
     "output_type": "stream",
     "text": [
      "[Epoch 245/250] Training Loss: 0.2092\n"
     ]
    },
    {
     "name": "stderr",
     "output_type": "stream",
     "text": [
      "Training:  98%|█████████▊| 245/250 [8:34:13<10:29, 125.86s/epoch]"
     ]
    },
    {
     "name": "stdout",
     "output_type": "stream",
     "text": [
      "  Train => MSE=0.1648, CI=0.8880, Pearson=0.8864\n",
      "  Test  => MSE=0.2942, CI=0.8512, Pearson=0.7598\n",
      "Checkpoint saved at epoch 245\n",
      "Deleted previous checkpoint: /kaggle/working/TrainingModel1/model_epoch244.pt\n"
     ]
    },
    {
     "name": "stderr",
     "output_type": "stream",
     "text": [
      "Training:  98%|█████████▊| 245/250 [8:35:07<10:29, 125.86s/epoch]"
     ]
    },
    {
     "name": "stdout",
     "output_type": "stream",
     "text": [
      "[Epoch 246/250] Training Loss: 0.1954\n"
     ]
    },
    {
     "name": "stderr",
     "output_type": "stream",
     "text": [
      "Training:  98%|█████████▊| 246/250 [8:36:18<08:23, 125.76s/epoch]"
     ]
    },
    {
     "name": "stdout",
     "output_type": "stream",
     "text": [
      "  Train => MSE=0.1883, CI=0.8887, Pearson=0.8849\n",
      "  Test  => MSE=0.3173, CI=0.8496, Pearson=0.7651\n",
      "Checkpoint saved at epoch 246\n",
      "Deleted previous checkpoint: /kaggle/working/TrainingModel1/model_epoch245.pt\n"
     ]
    },
    {
     "name": "stderr",
     "output_type": "stream",
     "text": [
      "Training:  98%|█████████▊| 246/250 [8:37:12<08:23, 125.76s/epoch]"
     ]
    },
    {
     "name": "stdout",
     "output_type": "stream",
     "text": [
      "[Epoch 247/250] Training Loss: 0.1941\n"
     ]
    },
    {
     "name": "stderr",
     "output_type": "stream",
     "text": [
      "Training:  99%|█████████▉| 247/250 [8:38:24<06:17, 125.81s/epoch]"
     ]
    },
    {
     "name": "stdout",
     "output_type": "stream",
     "text": [
      "  Train => MSE=0.1611, CI=0.8907, Pearson=0.8934\n",
      "  Test  => MSE=0.2921, CI=0.8506, Pearson=0.7741\n",
      "Checkpoint saved at epoch 247\n",
      "Deleted previous checkpoint: /kaggle/working/TrainingModel1/model_epoch246.pt\n"
     ]
    },
    {
     "name": "stderr",
     "output_type": "stream",
     "text": [
      "Training:  99%|█████████▉| 247/250 [8:39:18<06:17, 125.81s/epoch]"
     ]
    },
    {
     "name": "stdout",
     "output_type": "stream",
     "text": [
      "[Epoch 248/250] Training Loss: 0.1960\n"
     ]
    },
    {
     "name": "stderr",
     "output_type": "stream",
     "text": [
      "Training:  99%|█████████▉| 248/250 [8:40:30<04:11, 125.82s/epoch]"
     ]
    },
    {
     "name": "stdout",
     "output_type": "stream",
     "text": [
      "  Train => MSE=0.1650, CI=0.8887, Pearson=0.8891\n",
      "  Test  => MSE=0.2827, CI=0.8489, Pearson=0.7733\n",
      "Checkpoint saved at epoch 248\n",
      "Deleted previous checkpoint: /kaggle/working/TrainingModel1/model_epoch247.pt\n"
     ]
    },
    {
     "name": "stderr",
     "output_type": "stream",
     "text": [
      "Training:  99%|█████████▉| 248/250 [8:41:24<04:11, 125.82s/epoch]"
     ]
    },
    {
     "name": "stdout",
     "output_type": "stream",
     "text": [
      "[Epoch 249/250] Training Loss: 0.1933\n"
     ]
    },
    {
     "name": "stderr",
     "output_type": "stream",
     "text": [
      "Training: 100%|█████████▉| 249/250 [8:42:36<02:05, 125.84s/epoch]"
     ]
    },
    {
     "name": "stdout",
     "output_type": "stream",
     "text": [
      "  Train => MSE=0.1742, CI=0.8913, Pearson=0.8889\n",
      "  Test  => MSE=0.3077, CI=0.8482, Pearson=0.7627\n",
      "Checkpoint saved at epoch 249\n",
      "Deleted previous checkpoint: /kaggle/working/TrainingModel1/model_epoch248.pt\n"
     ]
    },
    {
     "name": "stderr",
     "output_type": "stream",
     "text": [
      "Training: 100%|█████████▉| 249/250 [8:43:30<02:05, 125.84s/epoch]"
     ]
    },
    {
     "name": "stdout",
     "output_type": "stream",
     "text": [
      "[Epoch 250/250] Training Loss: 0.1919\n"
     ]
    },
    {
     "name": "stderr",
     "output_type": "stream",
     "text": [
      "Training: 100%|█████████▉| 249/250 [8:44:42<02:05, 125.84s/epoch]"
     ]
    },
    {
     "name": "stdout",
     "output_type": "stream",
     "text": [
      "  Train => MSE=0.1778, CI=0.8873, Pearson=0.8807\n",
      "  Test  => MSE=0.2990, CI=0.8469, Pearson=0.7527\n"
     ]
    },
    {
     "name": "stderr",
     "output_type": "stream",
     "text": [
      "Training: 100%|██████████| 250/250 [8:44:42<00:00, 125.93s/epoch]\n"
     ]
    },
    {
     "name": "stdout",
     "output_type": "stream",
     "text": [
      "Checkpoint saved at epoch 250\n",
      "Deleted previous checkpoint: /kaggle/working/TrainingModel1/model_epoch249.pt\n",
      "\n",
      "Final Train => MSE=0.1778, CI=0.8873, Pearson=0.8807\n",
      "Final Test  => MSE=0.2990, CI=0.8469, Pearson=0.7527\n",
      "Metrics saved to /kaggle/working/TrainingModel1/training_metrics.pt\n"
     ]
    },
    {
     "data": {
      "image/png": "[encoded data removed]",
      "text/plain": [
       "<Figure size 800x600 with 1 Axes>"
      ]
     },
     "metadata": {},
     "output_type": "display_data"
    },
    {
     "data": {
      "image/png": "[encoded data removed]",
      "text/plain": [
       "<Figure size 800x600 with 1 Axes>"
      ]
     },
     "metadata": {},
     "output_type": "display_data"
    },
    {
     "data": {
      "image/png": "[encoded data removed]",
      "text/plain": [
       "<Figure size 800x600 with 1 Axes>"
      ]
     },
     "metadata": {},
     "output_type": "display_data"
    }
   ],
   "source": [
    "#model 1\n",
    "import os\n",
    "import warnings\n",
    "import torch\n",
    "import torch.nn as nn\n",
    "import torch.nn.functional as F\n",
    "import torch.optim as optim\n",
    "from torch.nn import MSELoss\n",
    "from torch_geometric.nn import GCNConv, global_mean_pool as gep\n",
    "from torch_geometric.data import Data, Batch\n",
    "from sklearn.model_selection import train_test_split\n",
    "from tqdm import tqdm\n",
    "import numpy as np\n",
    "\n",
    "# Optional, for plotting:\n",
    "import matplotlib.pyplot as plt\n",
    "\n",
    "##############################################################################\n",
    "#                               1. METRICS\n",
    "##############################################################################\n",
    "\n",
    "@torch.no_grad()\n",
    "def ci_vectorized(preds: torch.Tensor, targets: torch.Tensor) -> float:\n",
    "    \"\"\"\n",
    "    Naive O(N^2) Concordance Index using vectorized GPU operations.\n",
    "    preds, targets: (N,) on the same device (e.g. cuda).\n",
    "    \"\"\"\n",
    "    # (N, N) differences\n",
    "    p_diff = preds.unsqueeze(1) - preds.unsqueeze(0)\n",
    "    t_diff = targets.unsqueeze(1) - targets.unsqueeze(0)\n",
    "    # mask out pairs where targets are identical\n",
    "    mask = (t_diff != 0)\n",
    "    # sign of product => +1 (concordant), 0 (tie), -1 (discordant)\n",
    "    sign_mat = torch.sign(p_diff * t_diff)\n",
    "    # step function h(x): 1 if x>0, 0.5 if x=0, 0 if x<0\n",
    "    h = (sign_mat == 1).float() + 0.5 * (sign_mat == 0).float()\n",
    "    # apply mask\n",
    "    h_masked = h * mask.float()\n",
    "    c = h_masked.sum()\n",
    "    s = mask.sum().float()\n",
    "    return (c / s).item() if s > 0 else 0.0\n",
    "\n",
    "@torch.no_grad()\n",
    "def mse_torch(preds: torch.Tensor, targets: torch.Tensor) -> float:\n",
    "    \"\"\"\n",
    "    GPU-friendly MSE using torch's built-in mean squared error.\n",
    "    \"\"\"\n",
    "    return F.mse_loss(preds, targets, reduction='mean').item()\n",
    "\n",
    "@torch.no_grad()\n",
    "def pearson_torch(preds: torch.Tensor, targets: torch.Tensor) -> float:\n",
    "    \"\"\"\n",
    "    Pearson correlation coefficient in PyTorch (GPU-friendly).\n",
    "    preds, targets: (N,) on the same device\n",
    "    \"\"\"\n",
    "    p_centered = preds - preds.mean()\n",
    "    t_centered = targets - targets.mean()\n",
    "    cov = (p_centered * t_centered).sum()\n",
    "    denom = torch.sqrt((p_centered**2).sum()) * torch.sqrt((t_centered**2).sum())\n",
    "    eps = 1e-8\n",
    "    return (cov / (denom + eps)).item()\n",
    "\n",
    "##############################################################################\n",
    "#                       2. GNN MODEL DEFINITION\n",
    "##############################################################################\n",
    "\n",
    "import torch\n",
    "import torch.nn as nn\n",
    "import torch.nn.functional as F\n",
    "from torch_geometric.nn import GCNConv, global_mean_pool as gep\n",
    "\n",
    "\n",
    "class BidirectionalCrossAttention(nn.Module):\n",
    "    def __init__(self, embed_dim=128, num_heads=4, chunk_size=2048):\n",
    "        super().__init__()\n",
    "        \"\"\"\n",
    "        Bidirectional Cross-Attention Formulas:\n",
    "        \n",
    "        For Graph A → Graph B:\n",
    "            Q_A = X_A W_Q_A, K_B = X_B W_K_A, V_B = X_B W_V_A\n",
    "            Z_A = softmax(Q_A K_B^T / √d) V_B\n",
    "            \n",
    "        For Graph B → Graph A:\n",
    "            Q_B = X_B W_Q_B, K_A = X_A W_K_B, V_A = X_A W_V_B\n",
    "            Z_B = softmax(Q_B K_A^T / √d) V_A\n",
    "        \"\"\"\n",
    "        self.embed_dim = embed_dim\n",
    "        self.chunk_size = chunk_size  # Adjust this value to control memory usage\n",
    "        \n",
    "        # Graph A → Graph B weights\n",
    "        self.W_Q_A = nn.Linear(embed_dim, embed_dim)\n",
    "        self.W_K_A = nn.Linear(embed_dim, embed_dim)\n",
    "        self.W_V_A = nn.Linear(embed_dim, embed_dim)\n",
    "        \n",
    "        # Graph B → Graph A weights\n",
    "        self.W_Q_B = nn.Linear(embed_dim, embed_dim)\n",
    "        self.W_K_B = nn.Linear(embed_dim, embed_dim)\n",
    "        self.W_V_B = nn.Linear(embed_dim, embed_dim)\n",
    "        \n",
    "        self.scale = 1.0 / torch.sqrt(torch.tensor(embed_dim, dtype=torch.float32))\n",
    "\n",
    "    def forward(self, X_A, X_B, batch_A, batch_B):\n",
    "        \"\"\"\n",
    "        Args:\n",
    "            X_A: Graph A node embeddings [total_A_nodes, embed_dim]\n",
    "            X_B: Graph B node embeddings [total_B_nodes, embed_dim]\n",
    "            batch_A: Batch indices for Graph A [total_A_nodes]\n",
    "            batch_B: Batch indices for Graph B [total_B_nodes]\n",
    "        Returns:\n",
    "            Z_A: Updated embeddings for Graph A (same shape as X_A)\n",
    "            Z_B: Updated embeddings for Graph B (same shape as X_B)\n",
    "        \"\"\"\n",
    "        # Compute linear projections for both directions\n",
    "        Q_A = self.W_Q_A(X_A)  # [N_A, embed_dim]\n",
    "        K_B = self.W_K_A(X_B)  # [N_B, embed_dim]\n",
    "        V_B = self.W_V_A(X_B)  # [N_B, embed_dim]\n",
    "        \n",
    "        Q_B = self.W_Q_B(X_B)  # [N_B, embed_dim]\n",
    "        K_A = self.W_K_B(X_A)  # [N_A, embed_dim]\n",
    "        V_A = self.W_V_B(X_A)  # [N_A, embed_dim]\n",
    "        \n",
    "        # Create mask so that only nodes from the same sample attend to each other\n",
    "        mask_AB = self._create_mask(batch_A, batch_B)  # [N_A, N_B]\n",
    "        mask_BA = mask_AB.T  # [N_B, N_A]\n",
    "        \n",
    "        # Compute Z_A in chunks to reduce memory usage\n",
    "        Z_A_chunks = []\n",
    "        for i in range(0, Q_A.size(0), self.chunk_size):\n",
    "            Q_A_chunk = Q_A[i:i+self.chunk_size]  # [chunk_size, embed_dim]\n",
    "            # Compute attention scores for this chunk: [chunk_size, N_B]\n",
    "            scores_chunk = (Q_A_chunk @ K_B.T) * self.scale\n",
    "            mask_chunk = mask_AB[i:i+self.chunk_size]  # [chunk_size, N_B]\n",
    "            scores_chunk = scores_chunk.masked_fill(~mask_chunk, -1e9)\n",
    "            attn_chunk = F.softmax(scores_chunk, dim=-1)\n",
    "            Z_A_chunk = attn_chunk @ V_B  # [chunk_size, embed_dim]\n",
    "            Z_A_chunks.append(Z_A_chunk)\n",
    "        Z_A = torch.cat(Z_A_chunks, dim=0)\n",
    "        \n",
    "        # Similarly, compute Z_B in chunks along the query dimension of Graph B\n",
    "        Z_B_chunks = []\n",
    "        for i in range(0, Q_B.size(0), self.chunk_size):\n",
    "            Q_B_chunk = Q_B[i:i+self.chunk_size]  # [chunk_size, embed_dim]\n",
    "            scores_chunk = (Q_B_chunk @ K_A.T) * self.scale  # [chunk_size, N_A]\n",
    "            mask_chunk = mask_BA[i:i+self.chunk_size]  # [chunk_size, N_A]\n",
    "            scores_chunk = scores_chunk.masked_fill(~mask_chunk, -1e9)\n",
    "            attn_chunk = F.softmax(scores_chunk, dim=-1)\n",
    "            Z_B_chunk = attn_chunk @ V_A  # [chunk_size, embed_dim]\n",
    "            Z_B_chunks.append(Z_B_chunk)\n",
    "        Z_B = torch.cat(Z_B_chunks, dim=0)\n",
    "        \n",
    "        return Z_A, Z_B\n",
    "\n",
    "    def _create_mask(self, batch_A, batch_B):\n",
    "        \"\"\"Creates a mask [N_A, N_B] so that nodes only attend to nodes from the same sample.\"\"\"\n",
    "        return batch_A.unsqueeze(1) == batch_B.unsqueeze(0)\n",
    "\n",
    "\n",
    "#############################################\n",
    "# Updated GNN Model with Cross-Attention (No Extra Projection)\n",
    "#############################################\n",
    "\n",
    "# def apply_stochastic_depth(layer_fn, x, y, survival_prob, training):\n",
    "#     \"\"\"\n",
    "#     Applies stochastic depth to a module.\n",
    "    \n",
    "#     Args:\n",
    "#         layer_fn: a function (or module) that computes the layer output.\n",
    "#         x: input from branch A.\n",
    "#         y: input from branch B.\n",
    "#         survival_prob (float): Probability of using the layer.\n",
    "#         training (bool): Whether we are in training mode.\n",
    "    \n",
    "#     Returns:\n",
    "#         The outputs (Xnew, XtNew) computed by the layer or skipped.\n",
    "#     \"\"\"\n",
    "#     # In evaluation mode, always use the layer.\n",
    "#     if not training:\n",
    "#         return layer_fn(x, y)\n",
    "    \n",
    "#     # In training, decide randomly.\n",
    "#     if torch.rand(1).item() < survival_prob:\n",
    "#         # Use the layer normally.\n",
    "#         return layer_fn(x, y)\n",
    "#     else:\n",
    "#         # Skip the layer: simply return the inputs (i.e. bypass cross-attention)\n",
    "#         return x, y\n",
    "\n",
    "class GNNNet(torch.nn.Module):\n",
    "    def __init__(self, n_output=1, num_features_pro=54, num_features_mol=78, output_dim=128, dropout=0.2):\n",
    "        super(GNNNet, self).__init__()\n",
    "        print('GNNNet Loaded')\n",
    "        self.n_output = n_output\n",
    "        \n",
    "        # --- Molecule branch GCN layers ---\n",
    "        self.mol_conv1 = GCNConv(num_features_mol, num_features_mol)\n",
    "        # Set GCN2 to output 'output_dim' so that both branches share the same dimension.\n",
    "        self.mol_conv2 = GCNConv(num_features_mol, 156)\n",
    "        # GCN3 will process the updated features; input dim = output_dim.\n",
    "        self.mol_conv3 = GCNConv(156, num_features_mol*4)\n",
    "        \n",
    "        self.mol_fc_g1 = nn.Linear(num_features_mol*4, 1024)\n",
    "        self.mol_fc_g2 = nn.Linear(1024, output_dim)\n",
    "        \n",
    "        # --- Protein branch GCN layers ---\n",
    "        self.pro_conv1 = GCNConv(num_features_pro, num_features_pro)\n",
    "        self.pro_conv2 = GCNConv(num_features_pro, 156)\n",
    "        self.pro_conv3 = GCNConv(156, num_features_pro*4)\n",
    "        \n",
    "        self.pro_fc_g1 = nn.Linear(num_features_pro*4, 1024)\n",
    "        self.pro_fc_g2 = nn.Linear(1024, output_dim)\n",
    "        \n",
    "        self.relu = nn.ReLU()\n",
    "        self.dropout = nn.Dropout(dropout)\n",
    "        self.dropout2 = nn.Dropout(0.3)\n",
    "        self.dropout3 = nn.Dropout(0.5)\n",
    "        \n",
    "        # --- Bidirectional Cross-Attention ---\n",
    "        # Now the node features from both branches are already in R^(output_dim)\n",
    "        self.cross_attn = BidirectionalCrossAttention(embed_dim=156, num_heads=4)\n",
    "        \n",
    "        # --- Combined FC layers ---\n",
    "        self.fc1 = nn.Linear(2 * output_dim, 1024)\n",
    "        self.fc2 = nn.Linear(1024, 512)\n",
    "        self.out = nn.Linear(512, self.n_output)\n",
    "\n",
    "        self.survival_prob = 0.8\n",
    "\n",
    "    def forward(self, data_mol, data_pro):\n",
    "        # Unpack molecule graph data\n",
    "        mol_x, mol_edge_index, mol_batch = data_mol.x, data_mol.edge_index, data_mol.batch\n",
    "        # Unpack protein graph data\n",
    "        target_x, target_edge_index, target_batch = data_pro.x, data_pro.edge_index, data_pro.batch\n",
    "\n",
    "        # --- Molecule branch: GCN1 -> GCN2 ---\n",
    "        x = self.mol_conv1(mol_x, mol_edge_index)\n",
    "        x = self.relu(x)\n",
    "        x = self.mol_conv2(x, mol_edge_index)\n",
    "        x = self.relu(x)\n",
    "        x = self.dropout(x)\n",
    "        # x now has shape: [total_mol_nodes, output_dim]\n",
    "        \n",
    "        # --- Protein branch: GCN1 -> GCN2 ---\n",
    "        xt = self.pro_conv1(target_x, target_edge_index)\n",
    "        xt = self.relu(xt)\n",
    "        xt = self.pro_conv2(xt, target_edge_index)\n",
    "        xt = self.relu(xt)\n",
    "        xt = self.dropout(xt)\n",
    "        # xt now has shape: [total_pro_nodes, output_dim]\n",
    "        \n",
    "        # # --- Apply bidirectional cross-attention ---\n",
    "        # def cross_attn_fn(a, b):\n",
    "        #     # This function just calls the cross-attention layer.\n",
    "        #     return self.cross_attn(a, b, mol_batch, target_batch)\n",
    "        # The cross-attention module uses batch indices to ensure nodes only attend to nodes from the same sample.\n",
    "        Xnew, XtNew = self.cross_attn(x, xt, mol_batch, target_batch)\n",
    "        # Xnew, XtNew = apply_stochastic_depth(cross_attn_fn, x, xt, self.survival_prob, self.training)\n",
    "        Xnew = self.dropout2(Xnew)\n",
    "        XtNew = self.dropout2(XtNew)\n",
    "        \n",
    "        # --- Continue with third GCN layer using the updated features ---\n",
    "        x_updated = self.mol_conv3(Xnew, mol_edge_index)\n",
    "        x_updated = self.relu(x_updated)\n",
    "        x_pooled = gep(x_updated, mol_batch)  # Global pooling for molecule graphs\n",
    "        \n",
    "        xt_updated = self.pro_conv3(XtNew, target_edge_index)\n",
    "        xt_updated = self.relu(xt_updated)\n",
    "        xt_pooled = gep(xt_updated, target_batch)  # Global pooling for protein graphs\n",
    "        \n",
    "        # --- Flatten branch outputs through FC layers ---\n",
    "        x_final = self.mol_fc_g2(self.relu(self.mol_fc_g1(x_pooled)))\n",
    "        x_final = self.dropout(x_final)\n",
    "        xt_final = self.pro_fc_g2(self.relu(self.pro_fc_g1(xt_pooled)))\n",
    "        xt_final = self.dropout(xt_final)\n",
    "        \n",
    "        # --- Concatenate and apply combined FC layers ---\n",
    "        xc = torch.cat((x_final, xt_final), dim=1)\n",
    "        xc = self.fc1(xc)\n",
    "        xc = self.relu(xc)\n",
    "        xc = self.dropout(xc)\n",
    "        xc = self.fc2(xc)\n",
    "        xc = self.relu(xc)\n",
    "        xc = self.dropout(xc)\n",
    "        out = self.out(xc)\n",
    "        \n",
    "        return out\n",
    "\n",
    "##############################################################################\n",
    "#                   3. DATA LOADING HELPERS\n",
    "##############################################################################\n",
    "\n",
    "warnings.filterwarnings('ignore', category=FutureWarning)\n",
    "\n",
    "def load_sample(path):\n",
    "    \"\"\"\n",
    "    Load a .pt sample, fix up 'x' and 'edge_index', return (mol_data, pro_data, target).\n",
    "    \"\"\"\n",
    "    sample = torch.load(path)\n",
    "    mol_data, pro_data, target = sample[0], sample[1], sample[2]\n",
    "\n",
    "    # Convert dict to Data if needed\n",
    "    if isinstance(mol_data, dict):\n",
    "        mol_data = Data(**mol_data)\n",
    "    if isinstance(pro_data, dict):\n",
    "        pro_data = Data(**pro_data)\n",
    "\n",
    "    # Fix x\n",
    "    if not hasattr(mol_data, 'x') or mol_data.x is None:\n",
    "        if hasattr(mol_data, 'features'):\n",
    "            mol_data.x = mol_data.features\n",
    "            del mol_data.features\n",
    "        else:\n",
    "            raise ValueError(\"mol_data missing 'x' or 'features'\")\n",
    "    if not hasattr(pro_data, 'x') or pro_data.x is None:\n",
    "        if hasattr(pro_data, 'features'):\n",
    "            pro_data.x = pro_data.features\n",
    "            del pro_data.features\n",
    "        else:\n",
    "            raise ValueError(\"pro_data missing 'x' or 'features'\")\n",
    "\n",
    "    mol_data.x = torch.as_tensor(mol_data.x, dtype=torch.float32)\n",
    "    pro_data.x = torch.as_tensor(pro_data.x, dtype=torch.float32)\n",
    "\n",
    "    # Fix edge_index\n",
    "    def fix_edge_index(d):\n",
    "        if not isinstance(d.edge_index, torch.Tensor):\n",
    "            d.edge_index = torch.tensor(d.edge_index, dtype=torch.long)\n",
    "        else:\n",
    "            d.edge_index = d.edge_index.long()\n",
    "        if d.edge_index.shape[0] != 2:\n",
    "            d.edge_index = d.edge_index.t()\n",
    "        d.num_nodes = d.x.size(0)\n",
    "\n",
    "    fix_edge_index(mol_data)\n",
    "    fix_edge_index(pro_data)\n",
    "\n",
    "    return (mol_data, pro_data, target)\n",
    "\n",
    "def batch_loader(file_list, sample_dir, batch_size):\n",
    "    \"\"\"\n",
    "    Yields batches of (mol_data, pro_data, target) from file_list.\n",
    "    \"\"\"\n",
    "    batch = []\n",
    "    for file_name in file_list:\n",
    "        path = os.path.join(sample_dir, file_name)\n",
    "        sample = load_sample(path)\n",
    "        batch.append(sample)\n",
    "        if len(batch) == batch_size:\n",
    "            yield batch\n",
    "            batch = []\n",
    "    if batch:\n",
    "        yield batch\n",
    "\n",
    "##############################################################################\n",
    "#              4. TRAINING / EVALUATION WITH METRICS EACH EPOCH\n",
    "##############################################################################\n",
    "\n",
    "import os\n",
    "import torch\n",
    "\n",
    "def train_and_evaluate(sample_dir, num_epochs=10, test_size=0.2, lr=0.001):\n",
    "    \"\"\"\n",
    "    Trains the GNN model, evaluates on train & test each epoch, saves metrics + checkpoints.\n",
    "    \"\"\"\n",
    "    device = torch.device('cuda' if torch.cuda.is_available() else 'cpu')\n",
    "    print(f\"Running on {device}.\")\n",
    "\n",
    "    # Gather samples\n",
    "    sample_files = [f for f in os.listdir(sample_dir) if f.endswith('.pt')]\n",
    "    assert len(sample_files) > 0, \"No .pt files found in sample_dir!\"\n",
    "\n",
    "    # Split\n",
    "    train_files, test_files = train_test_split(sample_files, test_size=test_size, random_state=42)\n",
    "\n",
    "    # Make checkpoint dir\n",
    "    training_model_dir = os.path.join(os.getcwd(), 'TrainingModel1')\n",
    "    os.makedirs(training_model_dir, exist_ok=True)\n",
    "    print(f\"Checkpoints will be saved to: {training_model_dir}\")\n",
    "\n",
    "    metrics_path = os.path.join(training_model_dir, \"training_metrics.pt\")\n",
    "\n",
    "    # Load existing metrics if available (Ensures metrics continue from previous runs)\n",
    "    if os.path.exists(metrics_path):\n",
    "        saved_metrics = torch.load(metrics_path)\n",
    "        train_metrics = saved_metrics['train_metrics']\n",
    "        test_metrics = saved_metrics['test_metrics']\n",
    "        print(\"Loaded previous training metrics!\")\n",
    "    else:\n",
    "        train_metrics = {'epoch': [], 'mse': [], 'ci': [], 'pearson': []}\n",
    "        test_metrics = {'epoch': [], 'mse': [], 'ci': [], 'pearson': []}\n",
    "        print(\"Starting fresh metrics tracking.\")\n",
    "\n",
    "    # Infer input dims from one sample\n",
    "    sample0 = load_sample(os.path.join(sample_dir, train_files[0]))\n",
    "    mol_data0, pro_data0 = sample0[0], sample0[1]\n",
    "    num_features_mol = mol_data0.x.size(1)\n",
    "    num_features_pro = pro_data0.x.size(1)\n",
    "\n",
    "    # Initialize model\n",
    "    model = GNNNet(num_features_mol=num_features_mol,\n",
    "                   num_features_pro=num_features_pro).to(device)\n",
    "    optimizer = optim.Adam(model.parameters(), lr=lr)\n",
    "    loss_fn = MSELoss()\n",
    "\n",
    "    # Possibly resume from checkpoint\n",
    "    start_epoch = 1\n",
    "    existing_checkpoints = [\n",
    "        f for f in os.listdir(training_model_dir)\n",
    "        if f.endswith('.pt') and f.startswith('model_epoch')\n",
    "    ]\n",
    "    last_ckpt_path = None  # Track previous checkpoint for deletion\n",
    "\n",
    "    if existing_checkpoints:\n",
    "        latest_ckpt = max(existing_checkpoints, key=lambda x: int(x.split('_epoch')[1].split('.pt')[0]))\n",
    "        ckpt_path = os.path.join(training_model_dir, latest_ckpt)\n",
    "        print(f\"Loading checkpoint from {ckpt_path}\")\n",
    "        ckpt = torch.load(ckpt_path, map_location=device)\n",
    "        model.load_state_dict(ckpt['model_state_dict'])\n",
    "        optimizer.load_state_dict(ckpt['optimizer_state_dict'])\n",
    "        loaded_epoch = ckpt['epoch']\n",
    "        start_epoch = loaded_epoch + 1\n",
    "        last_ckpt_path = ckpt_path  # Store last checkpoint path for deletion\n",
    "        print(f\"Resuming from epoch {start_epoch}\")\n",
    "    else:\n",
    "        print(\"No existing checkpoint found; starting fresh.\")\n",
    "\n",
    "    @torch.no_grad()\n",
    "    def evaluate(files):\n",
    "        model.eval()\n",
    "        all_preds = []\n",
    "        all_targets = []\n",
    "        batch_eval_size = 200\n",
    "        for batch_samples in batch_loader(files, sample_dir, batch_eval_size):\n",
    "            mol_list, pro_list, tgt_list = [], [], []\n",
    "            for (md, pd, t) in batch_samples:\n",
    "                mol_list.append(md)\n",
    "                pro_list.append(pd)\n",
    "                tgt_list.append(t)\n",
    "\n",
    "            mol_batch = Batch.from_data_list(mol_list).to(device)\n",
    "            pro_batch = Batch.from_data_list(pro_list).to(device)\n",
    "            t_tensor = torch.tensor(tgt_list, dtype=torch.float32, device=device)\n",
    "\n",
    "            out = model(mol_batch, pro_batch).view(-1)\n",
    "            all_preds.append(out)\n",
    "            all_targets.append(t_tensor)\n",
    "\n",
    "        all_preds = torch.cat(all_preds, dim=0)\n",
    "        all_targets = torch.cat(all_targets, dim=0)\n",
    "\n",
    "        mse_val = mse_torch(all_preds, all_targets)\n",
    "        ci_val = ci_vectorized(all_preds, all_targets)\n",
    "        pearson_val = pearson_torch(all_preds, all_targets)\n",
    "        return mse_val, ci_val, pearson_val\n",
    "\n",
    "    # Training loop\n",
    "    batch_size = 50\n",
    "    for epoch in tqdm(range(start_epoch, num_epochs + 1), desc=\"Training\", unit=\"epoch\"):\n",
    "        model.train()\n",
    "        running_loss = 0.0\n",
    "\n",
    "        for batch_samples in batch_loader(train_files, sample_dir, batch_size):\n",
    "            mol_list, pro_list, tgt_list = [], [], []\n",
    "            for (md, pd, t) in batch_samples:\n",
    "                mol_list.append(md)\n",
    "                pro_list.append(pd)\n",
    "                tgt_list.append(t)\n",
    "\n",
    "            mol_batch = Batch.from_data_list(mol_list).to(device)\n",
    "            pro_batch = Batch.from_data_list(pro_list).to(device)\n",
    "            t_tensor = torch.tensor(tgt_list, dtype=torch.float32, device=device).view(-1)\n",
    "\n",
    "            optimizer.zero_grad()\n",
    "            out = model(mol_batch, pro_batch).view(-1)\n",
    "            loss = loss_fn(out, t_tensor)\n",
    "            loss.backward()\n",
    "            optimizer.step()\n",
    "\n",
    "            running_loss += loss.item() * len(batch_samples)\n",
    "\n",
    "        avg_loss = running_loss / len(train_files)\n",
    "        tqdm.write(f\"[Epoch {epoch}/{num_epochs}] Training Loss: {avg_loss:.4f}\")\n",
    "\n",
    "        # Evaluate on train & test\n",
    "        train_mse, train_ci, train_pearson = evaluate(train_files)\n",
    "        test_mse, test_ci, test_pearson = evaluate(test_files)\n",
    "\n",
    "        train_metrics['epoch'].append(epoch)\n",
    "        train_metrics['mse'].append(train_mse)\n",
    "        train_metrics['ci'].append(train_ci)\n",
    "        train_metrics['pearson'].append(train_pearson)\n",
    "\n",
    "        test_metrics['epoch'].append(epoch)\n",
    "        test_metrics['mse'].append(test_mse)\n",
    "        test_metrics['ci'].append(test_ci)\n",
    "        test_metrics['pearson'].append(test_pearson)\n",
    "\n",
    "        tqdm.write(f\"  Train => MSE={train_mse:.4f}, CI={train_ci:.4f}, Pearson={train_pearson:.4f}\")\n",
    "        tqdm.write(f\"  Test  => MSE={test_mse:.4f}, CI={test_ci:.4f}, Pearson={test_pearson:.4f}\")\n",
    "\n",
    "        # Save new checkpoint\n",
    "        ckpt_name = f\"model_epoch{epoch}.pt\"\n",
    "        ckpt_path = os.path.join(training_model_dir, ckpt_name)\n",
    "        torch.save({\n",
    "            'epoch': epoch,\n",
    "            'model_state_dict': model.state_dict(),\n",
    "            'optimizer_state_dict': optimizer.state_dict(),\n",
    "        }, ckpt_path)\n",
    "        tqdm.write(f\"Checkpoint saved at epoch {epoch}\")\n",
    "\n",
    "        # Delete the previous checkpoint after saving the new one\n",
    "        if last_ckpt_path and os.path.exists(last_ckpt_path):\n",
    "            os.remove(last_ckpt_path)\n",
    "            tqdm.write(f\"Deleted previous checkpoint: {last_ckpt_path}\")\n",
    "\n",
    "        # Update last checkpoint path\n",
    "        last_ckpt_path = ckpt_path\n",
    "\n",
    "        # Save/Update the metrics after each epoch\n",
    "        torch.save({\n",
    "            'train_metrics': train_metrics,\n",
    "            'test_metrics': test_metrics\n",
    "        }, metrics_path)\n",
    "\n",
    "    # Final evaluations\n",
    "    final_train_mse, final_train_ci, final_train_pearson = evaluate(train_files)\n",
    "    final_test_mse, final_test_ci, final_test_pearson = evaluate(test_files)\n",
    "    print(f\"\\nFinal Train => MSE={final_train_mse:.4f}, CI={final_train_ci:.4f}, Pearson={final_train_pearson:.4f}\")\n",
    "    print(f\"Final Test  => MSE={final_test_mse:.4f}, CI={final_test_ci:.4f}, Pearson={final_test_pearson:.4f}\")\n",
    "\n",
    "    # Save final metrics\n",
    "    torch.save({\n",
    "        'train_metrics': train_metrics,\n",
    "        'test_metrics': test_metrics\n",
    "    }, metrics_path)\n",
    "    print(f\"Metrics saved to {metrics_path}\")\n",
    "\n",
    "    return train_metrics, test_metrics\n",
    "\n",
    "\n",
    "##############################################################################\n",
    "#               5. OPTIONAL: PLOT THE SAVED METRICS\n",
    "##############################################################################\n",
    "\n",
    "def plot_metrics(checkpoint_dir='TrainingModel1'):\n",
    "    \"\"\"\n",
    "    Load training_metrics.pt from the checkpoint_dir and plot MSE, CI, Pearson over epochs.\n",
    "    \"\"\"\n",
    "    metrics_path = os.path.join(checkpoint_dir, \"training_metrics.pt\")\n",
    "    if not os.path.exists(metrics_path):\n",
    "        print(f\"No metrics file found at {metrics_path}!\")\n",
    "        return\n",
    "\n",
    "    saved_data = torch.load(metrics_path)\n",
    "    train_metrics = saved_data['train_metrics']\n",
    "    test_metrics = saved_data['test_metrics']\n",
    "    epochs = train_metrics['epoch']\n",
    "\n",
    "    # Plot MSE\n",
    "    plt.figure(figsize=(8, 6))\n",
    "    plt.plot(epochs, train_metrics['mse'], 'o-', label='Train MSE')\n",
    "    plt.plot(epochs, test_metrics['mse'], 'o-', label='Test MSE')\n",
    "    plt.xlabel('Epoch')\n",
    "    plt.ylabel('MSE')\n",
    "    plt.title('Mean Squared Error over Epochs')\n",
    "    plt.legend()\n",
    "    plt.savefig(os.path.join(checkpoint_dir, \"MSE_plot.png\"))  \n",
    "    plt.show()\n",
    "\n",
    "    # Plot CI\n",
    "    plt.figure(figsize=(8, 6))\n",
    "    plt.plot(epochs, train_metrics['ci'], 'o-', label='Train CI')\n",
    "    plt.plot(epochs, test_metrics['ci'], 'o-', label='Test CI')\n",
    "    plt.xlabel('Epoch')\n",
    "    plt.ylabel('Concordance Index')\n",
    "    plt.title('CI over Epochs')\n",
    "    plt.legend()\n",
    "    plt.savefig(os.path.join(checkpoint_dir, \"CI_plot.png\"))  \n",
    "    plt.show()\n",
    "\n",
    "    # Plot Pearson\n",
    "    plt.figure(figsize=(8, 6))\n",
    "    plt.plot(epochs, train_metrics['pearson'], 'o-', label='Train Pearson')\n",
    "    plt.plot(epochs, test_metrics['pearson'], 'o-', label='Test Pearson')\n",
    "    plt.xlabel('Epoch')\n",
    "    plt.ylabel('Pearson Correlation')\n",
    "    plt.title('Pearson Correlation over Epochs')\n",
    "    plt.legend()\n",
    "    plt.savefig(os.path.join(checkpoint_dir, \"PEARSON_plot.png\"))  \n",
    "    plt.show()\n",
    "\n",
    "##############################################################################\n",
    "#                                 MAIN\n",
    "##############################################################################\n",
    "\n",
    "if __name__ == \"__main__\":\n",
    "    # Adjust the paths/parameters as needed\n",
    "    SAMPLE_DIR = \"prepared_samples\"   # Directory with your .pt samples\n",
    "    NUM_EPOCHS = 250\n",
    "    TEST_SPLIT = 0.2\n",
    "    LR = 0.001\n",
    "\n",
    "    # 1) Train and evaluate\n",
    "    train_metrics, test_metrics = train_and_evaluate(\n",
    "        sample_dir=SAMPLE_DIR,\n",
    "        num_epochs=NUM_EPOCHS,\n",
    "        test_size=TEST_SPLIT,\n",
    "        lr=LR\n",
    "    )\n",
    "\n",
    "    # 2) Plot the metrics\n",
    "    plot_metrics('TrainingModel1')\n",
    "\n"
   ]
  },
  {
   "cell_type": "code",
   "execution_count": null,
   "id": "3d12809c",
   "metadata": {
    "papermill": {
     "duration": 0.294546,
     "end_time": "2025-02-06T05:55:24.358750",
     "exception": false,
     "start_time": "2025-02-06T05:55:24.064204",
     "status": "completed"
    },
    "tags": []
   },
   "outputs": [],
   "source": []
  }
 ],
 "metadata": {
  "kaggle": {
   "accelerator": "gpu",
   "dataSources": [
    {
     "datasetId": 6585052,
     "sourceId": 10635698,
     "sourceType": "datasetVersion"
    },
    {
     "datasetId": 6590451,
     "sourceId": 10643825,
     "sourceType": "datasetVersion"
    },
    {
     "datasetId": 6590542,
     "sourceId": 10643954,
     "sourceType": "datasetVersion"
    },
    {
     "datasetId": 6604534,
     "sourceId": 10664136,
     "sourceType": "datasetVersion"
    }
   ],
   "dockerImageVersionId": 30840,
   "isGpuEnabled": true,
   "isInternetEnabled": true,
   "language": "python",
   "sourceType": "notebook"
  },
  "kernelspec": {
   "display_name": "Python 3",
   "language": "python",
   "name": "python3"
  },
  "language_info": {
   "codemirror_mode": {
    "name": "ipython",
    "version": 3
   },
   "file_extension": ".py",
   "mimetype": "text/x-python",
   "name": "python",
   "nbconvert_exporter": "python",
   "pygments_lexer": "ipython3",
   "version": "3.10.12"
  },
  "papermill": {
   "default_parameters": {},
   "duration": 31644.362674,
   "end_time": "2025-02-06T05:55:26.422445",
   "environment_variables": {},
   "exception": null,
   "input_path": "__notebook__.ipynb",
   "output_path": "__notebook__.ipynb",
   "parameters": {},
   "start_time": "2025-02-05T21:08:02.059771",
   "version": "2.6.0"
  }
 },
 "nbformat": 4,
 "nbformat_minor": 5
}
