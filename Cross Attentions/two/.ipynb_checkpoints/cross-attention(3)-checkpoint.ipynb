{
 "cells": [
  {
   "cell_type": "code",
   "execution_count": 1,
   "id": "92c65e0e",
   "metadata": {
    "_cell_guid": "b1076dfc-b9ad-4769-8c92-a6c4dae69d19",
    "_uuid": "8f2839f25d086af736a60e9eeb907d3b93b6e0e5",
    "execution": {
     "iopub.execute_input": "2025-02-05T21:06:52.829111Z",
     "iopub.status.busy": "2025-02-05T21:06:52.828858Z",
     "iopub.status.idle": "2025-02-05T21:06:58.181870Z",
     "shell.execute_reply": "2025-02-05T21:06:58.180878Z"
    },
    "papermill": {
     "duration": 5.358069,
     "end_time": "2025-02-05T21:06:58.183592",
     "exception": false,
     "start_time": "2025-02-05T21:06:52.825523",
     "status": "completed"
    },
    "tags": []
   },
   "outputs": [
    {
     "name": "stdout",
     "output_type": "stream",
     "text": [
      "Collecting torch-geometric\r\n",
      "  Downloading torch_geometric-2.6.1-py3-none-any.whl.metadata (63 kB)\r\n",
      "\u001b[2K     \u001b[90m━━━━━━━━━━━━━━━━━━━━━━━━━━━━━━━━━━━━━━━━\u001b[0m \u001b[32m63.1/63.1 kB\u001b[0m \u001b[31m2.4 MB/s\u001b[0m eta \u001b[36m0:00:00\u001b[0m\r\n",
      "\u001b[?25hRequirement already satisfied: aiohttp in /usr/local/lib/python3.10/dist-packages (from torch-geometric) (3.11.10)\r\n",
      "Requirement already satisfied: fsspec in /usr/local/lib/python3.10/dist-packages (from torch-geometric) (2024.9.0)\r\n",
      "Requirement already satisfied: jinja2 in /usr/local/lib/python3.10/dist-packages (from torch-geometric) (3.1.4)\r\n",
      "Requirement already satisfied: numpy in /usr/local/lib/python3.10/dist-packages (from torch-geometric) (1.26.4)\r\n",
      "Requirement already satisfied: psutil>=5.8.0 in /usr/local/lib/python3.10/dist-packages (from torch-geometric) (5.9.5)\r\n",
      "Requirement already satisfied: pyparsing in /usr/local/lib/python3.10/dist-packages (from torch-geometric) (3.2.0)\r\n",
      "Requirement already satisfied: requests in /usr/local/lib/python3.10/dist-packages (from torch-geometric) (2.32.3)\r\n",
      "Requirement already satisfied: tqdm in /usr/local/lib/python3.10/dist-packages (from torch-geometric) (4.67.1)\r\n",
      "Requirement already satisfied: aiohappyeyeballs>=2.3.0 in /usr/local/lib/python3.10/dist-packages (from aiohttp->torch-geometric) (2.4.4)\r\n",
      "Requirement already satisfied: aiosignal>=1.1.2 in /usr/local/lib/python3.10/dist-packages (from aiohttp->torch-geometric) (1.3.2)\r\n",
      "Requirement already satisfied: async-timeout<6.0,>=4.0 in /usr/local/lib/python3.10/dist-packages (from aiohttp->torch-geometric) (4.0.3)\r\n",
      "Requirement already satisfied: attrs>=17.3.0 in /usr/local/lib/python3.10/dist-packages (from aiohttp->torch-geometric) (24.3.0)\r\n",
      "Requirement already satisfied: frozenlist>=1.1.1 in /usr/local/lib/python3.10/dist-packages (from aiohttp->torch-geometric) (1.5.0)\r\n",
      "Requirement already satisfied: multidict<7.0,>=4.5 in /usr/local/lib/python3.10/dist-packages (from aiohttp->torch-geometric) (6.1.0)\r\n",
      "Requirement already satisfied: propcache>=0.2.0 in /usr/local/lib/python3.10/dist-packages (from aiohttp->torch-geometric) (0.2.1)\r\n",
      "Requirement already satisfied: yarl<2.0,>=1.17.0 in /usr/local/lib/python3.10/dist-packages (from aiohttp->torch-geometric) (1.18.3)\r\n",
      "Requirement already satisfied: MarkupSafe>=2.0 in /usr/local/lib/python3.10/dist-packages (from jinja2->torch-geometric) (3.0.2)\r\n",
      "Requirement already satisfied: mkl_fft in /usr/local/lib/python3.10/dist-packages (from numpy->torch-geometric) (1.3.8)\r\n",
      "Requirement already satisfied: mkl_random in /usr/local/lib/python3.10/dist-packages (from numpy->torch-geometric) (1.2.4)\r\n",
      "Requirement already satisfied: mkl_umath in /usr/local/lib/python3.10/dist-packages (from numpy->torch-geometric) (0.1.1)\r\n",
      "Requirement already satisfied: mkl in /usr/local/lib/python3.10/dist-packages (from numpy->torch-geometric) (2025.0.1)\r\n",
      "Requirement already satisfied: tbb4py in /usr/local/lib/python3.10/dist-packages (from numpy->torch-geometric) (2022.0.0)\r\n",
      "Requirement already satisfied: mkl-service in /usr/local/lib/python3.10/dist-packages (from numpy->torch-geometric) (2.4.1)\r\n",
      "Requirement already satisfied: charset-normalizer<4,>=2 in /usr/local/lib/python3.10/dist-packages (from requests->torch-geometric) (3.4.0)\r\n",
      "Requirement already satisfied: idna<4,>=2.5 in /usr/local/lib/python3.10/dist-packages (from requests->torch-geometric) (3.10)\r\n",
      "Requirement already satisfied: urllib3<3,>=1.21.1 in /usr/local/lib/python3.10/dist-packages (from requests->torch-geometric) (2.2.3)\r\n",
      "Requirement already satisfied: certifi>=2017.4.17 in /usr/local/lib/python3.10/dist-packages (from requests->torch-geometric) (2024.12.14)\r\n",
      "Requirement already satisfied: typing-extensions>=4.1.0 in /usr/local/lib/python3.10/dist-packages (from multidict<7.0,>=4.5->aiohttp->torch-geometric) (4.12.2)\r\n",
      "Requirement already satisfied: intel-openmp>=2024 in /usr/local/lib/python3.10/dist-packages (from mkl->numpy->torch-geometric) (2024.2.0)\r\n",
      "Requirement already satisfied: tbb==2022.* in /usr/local/lib/python3.10/dist-packages (from mkl->numpy->torch-geometric) (2022.0.0)\r\n",
      "Requirement already satisfied: tcmlib==1.* in /usr/local/lib/python3.10/dist-packages (from tbb==2022.*->mkl->numpy->torch-geometric) (1.2.0)\r\n",
      "Requirement already satisfied: intel-cmplr-lib-rt in /usr/local/lib/python3.10/dist-packages (from mkl_umath->numpy->torch-geometric) (2024.2.0)\r\n",
      "Requirement already satisfied: intel-cmplr-lib-ur==2024.2.0 in /usr/local/lib/python3.10/dist-packages (from intel-openmp>=2024->mkl->numpy->torch-geometric) (2024.2.0)\r\n",
      "Downloading torch_geometric-2.6.1-py3-none-any.whl (1.1 MB)\r\n",
      "\u001b[2K   \u001b[90m━━━━━━━━━━━━━━━━━━━━━━━━━━━━━━━━━━━━━━━━\u001b[0m \u001b[32m1.1/1.1 MB\u001b[0m \u001b[31m23.6 MB/s\u001b[0m eta \u001b[36m0:00:00\u001b[0m\r\n",
      "\u001b[?25hInstalling collected packages: torch-geometric\r\n",
      "Successfully installed torch-geometric-2.6.1\r\n"
     ]
    }
   ],
   "source": [
    "!pip install torch-geometric"
   ]
  },
  {
   "cell_type": "code",
   "execution_count": 2,
   "id": "38894edc",
   "metadata": {
    "execution": {
     "iopub.execute_input": "2025-02-05T21:06:58.190795Z",
     "iopub.status.busy": "2025-02-05T21:06:58.190466Z",
     "iopub.status.idle": "2025-02-05T21:08:09.608198Z",
     "shell.execute_reply": "2025-02-05T21:08:09.606941Z"
    },
    "papermill": {
     "duration": 71.42275,
     "end_time": "2025-02-05T21:08:09.609771",
     "exception": false,
     "start_time": "2025-02-05T21:06:58.187021",
     "status": "completed"
    },
    "tags": []
   },
   "outputs": [
    {
     "name": "stderr",
     "output_type": "stream",
     "text": [
      "<ipython-input-2-c90b9d14e3c5>:16: FutureWarning: You are using `torch.load` with `weights_only=False` (the current default value), which uses the default pickle module implicitly. It is possible to construct malicious pickle data which will execute arbitrary code during unpickling (See https://github.com/pytorch/pytorch/blob/main/SECURITY.md#untrusted-models for more details). In a future release, the default value for `weights_only` will be flipped to `True`. This limits the functions that could be executed during unpickling. Arbitrary objects will no longer be allowed to be loaded via this mode unless they are explicitly allowlisted by the user via `torch.serialization.add_safe_globals`. We recommend you start setting `weights_only=True` for any use case where you don't have full control of the loaded file. Please open an issue on GitHub for any issues related to this experimental feature.\n",
      "  return torch.load(path)\n"
     ]
    },
    {
     "name": "stdout",
     "output_type": "stream",
     "text": [
      "Saved sample 0 as prepared_samples/sample_0.pt\n"
     ]
    },
    {
     "name": "stderr",
     "output_type": "stream",
     "text": [
      "<ipython-input-2-c90b9d14e3c5>:16: FutureWarning: You are using `torch.load` with `weights_only=False` (the current default value), which uses the default pickle module implicitly. It is possible to construct malicious pickle data which will execute arbitrary code during unpickling (See https://github.com/pytorch/pytorch/blob/main/SECURITY.md#untrusted-models for more details). In a future release, the default value for `weights_only` will be flipped to `True`. This limits the functions that could be executed during unpickling. Arbitrary objects will no longer be allowed to be loaded via this mode unless they are explicitly allowlisted by the user via `torch.serialization.add_safe_globals`. We recommend you start setting `weights_only=True` for any use case where you don't have full control of the loaded file. Please open an issue on GitHub for any issues related to this experimental feature.\n",
      "  return torch.load(path)\n"
     ]
    },
    {
     "name": "stdout",
     "output_type": "stream",
     "text": [
      "Saved sample 10000 as prepared_samples/sample_10000.pt\n",
      "Dataset preparation completed.\n"
     ]
    }
   ],
   "source": [
    "#create samples :\n",
    "import os\n",
    "import torch\n",
    "import pickle\n",
    "import pandas as pd\n",
    "\n",
    "def load_graph(path, is_pickle=True):\n",
    "    \"\"\"\n",
    "    Load a molecule graph (.pkl) or a protein graph (.pt).\n",
    "    If is_pickle is True, use pickle to load the file; otherwise, use torch.load.\n",
    "    \"\"\"\n",
    "    if is_pickle:\n",
    "        with open(path, 'rb') as f:\n",
    "            return pickle.load(f)\n",
    "    else:\n",
    "        return torch.load(path)\n",
    "\n",
    "def prepare_dataset_individual_save_as_pt(filtered_dataset, molecule_graph_dir, protein_graph_dir, output_dir):\n",
    "    \"\"\"\n",
    "    Incrementally prepares the dataset and saves each (molecule, protein, target) tuple as a separate .pt file.\n",
    "\n",
    "    Args:\n",
    "    - filtered_dataset: The filtered KIBA dataset (DataFrame).\n",
    "    - molecule_graph_dir: Directory where molecule graphs are stored.\n",
    "    - protein_graph_dir: Directory where protein graphs are stored.\n",
    "    - output_dir: Directory to save the prepared dataset incrementally.\n",
    "    \"\"\"\n",
    "    if not os.path.exists(output_dir):\n",
    "        os.makedirs(output_dir)\n",
    "\n",
    "    for index, row in filtered_dataset.iterrows():\n",
    "        protein_id = row['Target_ID']\n",
    "        chembl_id = row['Drug_ID']\n",
    "\n",
    "        # Load the protein graph (.pt)\n",
    "        pro_graph_path = os.path.join(protein_graph_dir, f\"{protein_id}_graph.pt\")\n",
    "        if not os.path.exists(pro_graph_path):\n",
    "            print(f\"Protein graph not found: {protein_id}\")\n",
    "            continue\n",
    "        pro_graph = load_graph(pro_graph_path, is_pickle=False)\n",
    "\n",
    "        # Load the molecule graph (.pkl)\n",
    "        mol_graph_path = os.path.join(molecule_graph_dir, f\"{chembl_id}_graph.pkl\")\n",
    "        if not os.path.exists(mol_graph_path):\n",
    "            print(f\"Molecule graph not found: {chembl_id}\")\n",
    "            continue\n",
    "        mol_graph = load_graph(mol_graph_path)\n",
    "\n",
    "        # Load target (affinity value)\n",
    "        target = torch.tensor([row['Y']], dtype=torch.float)\n",
    "\n",
    "        # Create the sample as a tuple (molecule graph, protein graph, target)\n",
    "        sample = (mol_graph, pro_graph, target)\n",
    "\n",
    "        # Save the sample as a .pt file\n",
    "        sample_path = os.path.join(output_dir, f\"sample_{index}.pt\")\n",
    "        torch.save(sample, sample_path)\n",
    "\n",
    "        if(index%10000 == 0 ):\n",
    "            print(f\"Saved sample {index} as {sample_path}\")\n",
    "\n",
    "\n",
    "\n",
    "\n",
    "# Example usage for individual saving\n",
    "molecule_graph_dir = '/kaggle/input/graphs/molecule_graphs'  # Directory where molecule graphs are stored\n",
    "protein_graph_dir = '/kaggle/input/graphs/ProteinGraphs'  # Directory where protein graphs are stored\n",
    "filtered_dataset_path = '/kaggle/input/graphs/filtered_DavisDataSet.csv'  # Path to the filtered dataset CSV\n",
    "output_dir = 'prepared_samples/'  # Directory to save individual samples\n",
    "\n",
    "# Load filtered dataset CSV\n",
    "filtered_dataset = pd.read_csv(filtered_dataset_path)\n",
    "\n",
    "# Prepare the dataset incrementally, saving each sample as a .pt file\n",
    "prepare_dataset_individual_save_as_pt(filtered_dataset, molecule_graph_dir, protein_graph_dir, output_dir)\n",
    "\n",
    "print(\"Dataset preparation completed.\")\n"
   ]
  },
  {
   "cell_type": "code",
   "execution_count": 3,
   "id": "34eb8fdd",
   "metadata": {
    "execution": {
     "iopub.execute_input": "2025-02-05T21:08:09.628351Z",
     "iopub.status.busy": "2025-02-05T21:08:09.627587Z",
     "iopub.status.idle": "2025-02-06T05:28:04.273038Z",
     "shell.execute_reply": "2025-02-06T05:28:04.272167Z"
    },
    "papermill": {
     "duration": 29994.655442,
     "end_time": "2025-02-06T05:28:04.274522",
     "exception": false,
     "start_time": "2025-02-05T21:08:09.619080",
     "status": "completed"
    },
    "tags": []
   },
   "outputs": [
    {
     "name": "stdout",
     "output_type": "stream",
     "text": [
      "Running on cuda.\n",
      "Checkpoints will be saved to: /kaggle/working/TrainingModel1\n",
      "Starting fresh metrics tracking.\n",
      "GNNNet Loaded\n",
      "No existing checkpoint found; starting fresh.\n"
     ]
    },
    {
     "name": "stderr",
     "output_type": "stream",
     "text": [
      "Training:   0%|          | 0/250 [00:51<?, ?epoch/s]"
     ]
    },
    {
     "name": "stdout",
     "output_type": "stream",
     "text": [
      "[Epoch 1/250] Training Loss: 1.3639\n"
     ]
    },
    {
     "name": "stderr",
     "output_type": "stream",
     "text": [
      "Training:   0%|          | 1/250 [02:05<8:42:12, 125.83s/epoch]"
     ]
    },
    {
     "name": "stdout",
     "output_type": "stream",
     "text": [
      "  Train => MSE=0.6579, CI=0.6821, Pearson=0.3675\n",
      "  Test  => MSE=0.7028, CI=0.6819, Pearson=0.3516\n",
      "Checkpoint saved at epoch 1\n"
     ]
    },
    {
     "name": "stderr",
     "output_type": "stream",
     "text": [
      "Training:   0%|          | 1/250 [02:54<8:42:12, 125.83s/epoch]"
     ]
    },
    {
     "name": "stdout",
     "output_type": "stream",
     "text": [
      "[Epoch 2/250] Training Loss: 0.8356\n"
     ]
    },
    {
     "name": "stderr",
     "output_type": "stream",
     "text": [
      "Training:   1%|          | 2/250 [04:05<8:26:03, 122.43s/epoch]"
     ]
    },
    {
     "name": "stdout",
     "output_type": "stream",
     "text": [
      "  Train => MSE=0.6724, CI=0.7106, Pearson=0.4055\n",
      "  Test  => MSE=0.7108, CI=0.7145, Pearson=0.4013\n",
      "Checkpoint saved at epoch 2\n",
      "Deleted previous checkpoint: /kaggle/working/TrainingModel1/model_epoch1.pt\n"
     ]
    },
    {
     "name": "stderr",
     "output_type": "stream",
     "text": [
      "Training:   1%|          | 2/250 [04:54<8:26:03, 122.43s/epoch]"
     ]
    },
    {
     "name": "stdout",
     "output_type": "stream",
     "text": [
      "[Epoch 3/250] Training Loss: 0.7469\n"
     ]
    },
    {
     "name": "stderr",
     "output_type": "stream",
     "text": [
      "Training:   1%|          | 3/250 [06:05<8:19:20, 121.30s/epoch]"
     ]
    },
    {
     "name": "stdout",
     "output_type": "stream",
     "text": [
      "  Train => MSE=0.6009, CI=0.7269, Pearson=0.4588\n",
      "  Test  => MSE=0.6399, CI=0.7303, Pearson=0.4520\n",
      "Checkpoint saved at epoch 3\n",
      "Deleted previous checkpoint: /kaggle/working/TrainingModel1/model_epoch2.pt\n"
     ]
    },
    {
     "name": "stderr",
     "output_type": "stream",
     "text": [
      "Training:   1%|          | 3/250 [06:53<8:19:20, 121.30s/epoch]"
     ]
    },
    {
     "name": "stdout",
     "output_type": "stream",
     "text": [
      "[Epoch 4/250] Training Loss: 0.7283\n"
     ]
    },
    {
     "name": "stderr",
     "output_type": "stream",
     "text": [
      "Training:   2%|▏         | 4/250 [08:05<8:14:10, 120.53s/epoch]"
     ]
    },
    {
     "name": "stdout",
     "output_type": "stream",
     "text": [
      "  Train => MSE=0.5763, CI=0.7304, Pearson=0.4792\n",
      "  Test  => MSE=0.6188, CI=0.7315, Pearson=0.4691\n",
      "Checkpoint saved at epoch 4\n",
      "Deleted previous checkpoint: /kaggle/working/TrainingModel1/model_epoch3.pt\n"
     ]
    },
    {
     "name": "stderr",
     "output_type": "stream",
     "text": [
      "Training:   2%|▏         | 4/250 [08:54<8:14:10, 120.53s/epoch]"
     ]
    },
    {
     "name": "stdout",
     "output_type": "stream",
     "text": [
      "[Epoch 5/250] Training Loss: 0.6658\n"
     ]
    },
    {
     "name": "stderr",
     "output_type": "stream",
     "text": [
      "Training:   2%|▏         | 5/250 [10:05<8:12:12, 120.54s/epoch]"
     ]
    },
    {
     "name": "stdout",
     "output_type": "stream",
     "text": [
      "  Train => MSE=0.5916, CI=0.7378, Pearson=0.5073\n",
      "  Test  => MSE=0.6347, CI=0.7421, Pearson=0.4969\n",
      "Checkpoint saved at epoch 5\n",
      "Deleted previous checkpoint: /kaggle/working/TrainingModel1/model_epoch4.pt\n"
     ]
    },
    {
     "name": "stderr",
     "output_type": "stream",
     "text": [
      "Training:   2%|▏         | 5/250 [10:53<8:12:12, 120.54s/epoch]"
     ]
    },
    {
     "name": "stdout",
     "output_type": "stream",
     "text": [
      "[Epoch 6/250] Training Loss: 0.6568\n"
     ]
    },
    {
     "name": "stderr",
     "output_type": "stream",
     "text": [
      "Training:   2%|▏         | 6/250 [12:04<8:08:08, 120.04s/epoch]"
     ]
    },
    {
     "name": "stdout",
     "output_type": "stream",
     "text": [
      "  Train => MSE=0.5619, CI=0.7458, Pearson=0.5202\n",
      "  Test  => MSE=0.6059, CI=0.7496, Pearson=0.5079\n",
      "Checkpoint saved at epoch 6\n",
      "Deleted previous checkpoint: /kaggle/working/TrainingModel1/model_epoch5.pt\n"
     ]
    },
    {
     "name": "stderr",
     "output_type": "stream",
     "text": [
      "Training:   2%|▏         | 6/250 [12:53<8:08:08, 120.04s/epoch]"
     ]
    },
    {
     "name": "stdout",
     "output_type": "stream",
     "text": [
      "[Epoch 7/250] Training Loss: 0.6586\n"
     ]
    },
    {
     "name": "stderr",
     "output_type": "stream",
     "text": [
      "Training:   3%|▎         | 7/250 [14:04<8:05:49, 119.96s/epoch]"
     ]
    },
    {
     "name": "stdout",
     "output_type": "stream",
     "text": [
      "  Train => MSE=0.5660, CI=0.7462, Pearson=0.5087\n",
      "  Test  => MSE=0.6092, CI=0.7508, Pearson=0.4955\n",
      "Checkpoint saved at epoch 7\n",
      "Deleted previous checkpoint: /kaggle/working/TrainingModel1/model_epoch6.pt\n"
     ]
    },
    {
     "name": "stderr",
     "output_type": "stream",
     "text": [
      "Training:   3%|▎         | 7/250 [14:52<8:05:49, 119.96s/epoch]"
     ]
    },
    {
     "name": "stdout",
     "output_type": "stream",
     "text": [
      "[Epoch 8/250] Training Loss: 0.6385\n"
     ]
    },
    {
     "name": "stderr",
     "output_type": "stream",
     "text": [
      "Training:   3%|▎         | 8/250 [16:04<8:03:21, 119.84s/epoch]"
     ]
    },
    {
     "name": "stdout",
     "output_type": "stream",
     "text": [
      "  Train => MSE=0.5508, CI=0.7522, Pearson=0.5311\n",
      "  Test  => MSE=0.5969, CI=0.7569, Pearson=0.5163\n",
      "Checkpoint saved at epoch 8\n",
      "Deleted previous checkpoint: /kaggle/working/TrainingModel1/model_epoch7.pt\n"
     ]
    },
    {
     "name": "stderr",
     "output_type": "stream",
     "text": [
      "Training:   3%|▎         | 8/250 [16:52<8:03:21, 119.84s/epoch]"
     ]
    },
    {
     "name": "stdout",
     "output_type": "stream",
     "text": [
      "[Epoch 9/250] Training Loss: 0.6327\n"
     ]
    },
    {
     "name": "stderr",
     "output_type": "stream",
     "text": [
      "Training:   4%|▎         | 9/250 [18:03<8:01:11, 119.80s/epoch]"
     ]
    },
    {
     "name": "stdout",
     "output_type": "stream",
     "text": [
      "  Train => MSE=0.5403, CI=0.7579, Pearson=0.5232\n",
      "  Test  => MSE=0.5935, CI=0.7561, Pearson=0.4995\n",
      "Checkpoint saved at epoch 9\n",
      "Deleted previous checkpoint: /kaggle/working/TrainingModel1/model_epoch8.pt\n"
     ]
    },
    {
     "name": "stderr",
     "output_type": "stream",
     "text": [
      "Training:   4%|▎         | 9/250 [18:52<8:01:11, 119.80s/epoch]"
     ]
    },
    {
     "name": "stdout",
     "output_type": "stream",
     "text": [
      "[Epoch 10/250] Training Loss: 0.6246\n"
     ]
    },
    {
     "name": "stderr",
     "output_type": "stream",
     "text": [
      "Training:   4%|▍         | 10/250 [20:03<7:59:33, 119.89s/epoch]"
     ]
    },
    {
     "name": "stdout",
     "output_type": "stream",
     "text": [
      "  Train => MSE=0.5324, CI=0.7592, Pearson=0.5419\n",
      "  Test  => MSE=0.5825, CI=0.7599, Pearson=0.5215\n",
      "Checkpoint saved at epoch 10\n",
      "Deleted previous checkpoint: /kaggle/working/TrainingModel1/model_epoch9.pt\n"
     ]
    },
    {
     "name": "stderr",
     "output_type": "stream",
     "text": [
      "Training:   4%|▍         | 10/250 [20:52<7:59:33, 119.89s/epoch]"
     ]
    },
    {
     "name": "stdout",
     "output_type": "stream",
     "text": [
      "[Epoch 11/250] Training Loss: 0.6213\n"
     ]
    },
    {
     "name": "stderr",
     "output_type": "stream",
     "text": [
      "Training:   4%|▍         | 11/250 [22:04<7:58:02, 120.01s/epoch]"
     ]
    },
    {
     "name": "stdout",
     "output_type": "stream",
     "text": [
      "  Train => MSE=0.5113, CI=0.7667, Pearson=0.5545\n",
      "  Test  => MSE=0.5599, CI=0.7668, Pearson=0.5344\n",
      "Checkpoint saved at epoch 11\n",
      "Deleted previous checkpoint: /kaggle/working/TrainingModel1/model_epoch10.pt\n"
     ]
    },
    {
     "name": "stderr",
     "output_type": "stream",
     "text": [
      "Training:   4%|▍         | 11/250 [22:52<7:58:02, 120.01s/epoch]"
     ]
    },
    {
     "name": "stdout",
     "output_type": "stream",
     "text": [
      "[Epoch 12/250] Training Loss: 0.6032\n"
     ]
    },
    {
     "name": "stderr",
     "output_type": "stream",
     "text": [
      "Training:   5%|▍         | 12/250 [24:03<7:55:27, 119.86s/epoch]"
     ]
    },
    {
     "name": "stdout",
     "output_type": "stream",
     "text": [
      "  Train => MSE=0.5027, CI=0.7695, Pearson=0.5656\n",
      "  Test  => MSE=0.5503, CI=0.7691, Pearson=0.5460\n",
      "Checkpoint saved at epoch 12\n",
      "Deleted previous checkpoint: /kaggle/working/TrainingModel1/model_epoch11.pt\n"
     ]
    },
    {
     "name": "stderr",
     "output_type": "stream",
     "text": [
      "Training:   5%|▍         | 12/250 [24:52<7:55:27, 119.86s/epoch]"
     ]
    },
    {
     "name": "stdout",
     "output_type": "stream",
     "text": [
      "[Epoch 13/250] Training Loss: 0.6004\n"
     ]
    },
    {
     "name": "stderr",
     "output_type": "stream",
     "text": [
      "Training:   5%|▌         | 13/250 [26:03<7:53:19, 119.83s/epoch]"
     ]
    },
    {
     "name": "stdout",
     "output_type": "stream",
     "text": [
      "  Train => MSE=0.5431, CI=0.7723, Pearson=0.5542\n",
      "  Test  => MSE=0.5947, CI=0.7742, Pearson=0.5332\n",
      "Checkpoint saved at epoch 13\n",
      "Deleted previous checkpoint: /kaggle/working/TrainingModel1/model_epoch12.pt\n"
     ]
    },
    {
     "name": "stderr",
     "output_type": "stream",
     "text": [
      "Training:   5%|▌         | 13/250 [26:51<7:53:19, 119.83s/epoch]"
     ]
    },
    {
     "name": "stdout",
     "output_type": "stream",
     "text": [
      "[Epoch 14/250] Training Loss: 0.5998\n"
     ]
    },
    {
     "name": "stderr",
     "output_type": "stream",
     "text": [
      "Training:   6%|▌         | 14/250 [28:03<7:51:04, 119.76s/epoch]"
     ]
    },
    {
     "name": "stdout",
     "output_type": "stream",
     "text": [
      "  Train => MSE=0.5454, CI=0.7551, Pearson=0.5477\n",
      "  Test  => MSE=0.5925, CI=0.7603, Pearson=0.5310\n",
      "Checkpoint saved at epoch 14\n",
      "Deleted previous checkpoint: /kaggle/working/TrainingModel1/model_epoch13.pt\n"
     ]
    },
    {
     "name": "stderr",
     "output_type": "stream",
     "text": [
      "Training:   6%|▌         | 14/250 [28:50<7:51:04, 119.76s/epoch]"
     ]
    },
    {
     "name": "stdout",
     "output_type": "stream",
     "text": [
      "[Epoch 15/250] Training Loss: 0.6013\n"
     ]
    },
    {
     "name": "stderr",
     "output_type": "stream",
     "text": [
      "Training:   6%|▌         | 15/250 [30:02<7:48:46, 119.69s/epoch]"
     ]
    },
    {
     "name": "stdout",
     "output_type": "stream",
     "text": [
      "  Train => MSE=0.4930, CI=0.7757, Pearson=0.5811\n",
      "  Test  => MSE=0.5400, CI=0.7777, Pearson=0.5631\n",
      "Checkpoint saved at epoch 15\n",
      "Deleted previous checkpoint: /kaggle/working/TrainingModel1/model_epoch14.pt\n"
     ]
    },
    {
     "name": "stderr",
     "output_type": "stream",
     "text": [
      "Training:   6%|▌         | 15/250 [30:50<7:48:46, 119.69s/epoch]"
     ]
    },
    {
     "name": "stdout",
     "output_type": "stream",
     "text": [
      "[Epoch 16/250] Training Loss: 0.5905\n"
     ]
    },
    {
     "name": "stderr",
     "output_type": "stream",
     "text": [
      "Training:   6%|▌         | 15/250 [32:01<7:48:46, 119.69s/epoch]"
     ]
    },
    {
     "name": "stdout",
     "output_type": "stream",
     "text": [
      "  Train => MSE=0.5090, CI=0.7772, Pearson=0.5860\n",
      "  Test  => MSE=0.5585, CI=0.7778, Pearson=0.5661\n"
     ]
    },
    {
     "name": "stderr",
     "output_type": "stream",
     "text": [
      "Training:   6%|▋         | 16/250 [32:01<7:46:19, 119.57s/epoch]"
     ]
    },
    {
     "name": "stdout",
     "output_type": "stream",
     "text": [
      "Checkpoint saved at epoch 16\n",
      "Deleted previous checkpoint: /kaggle/working/TrainingModel1/model_epoch15.pt\n"
     ]
    },
    {
     "name": "stderr",
     "output_type": "stream",
     "text": [
      "Training:   6%|▋         | 16/250 [32:50<7:46:19, 119.57s/epoch]"
     ]
    },
    {
     "name": "stdout",
     "output_type": "stream",
     "text": [
      "[Epoch 17/250] Training Loss: 0.5774\n"
     ]
    },
    {
     "name": "stderr",
     "output_type": "stream",
     "text": [
      "Training:   7%|▋         | 17/250 [34:01<7:44:08, 119.52s/epoch]"
     ]
    },
    {
     "name": "stdout",
     "output_type": "stream",
     "text": [
      "  Train => MSE=0.5053, CI=0.7804, Pearson=0.5887\n",
      "  Test  => MSE=0.5554, CI=0.7812, Pearson=0.5687\n",
      "Checkpoint saved at epoch 17\n",
      "Deleted previous checkpoint: /kaggle/working/TrainingModel1/model_epoch16.pt\n"
     ]
    },
    {
     "name": "stderr",
     "output_type": "stream",
     "text": [
      "Training:   7%|▋         | 17/250 [34:49<7:44:08, 119.52s/epoch]"
     ]
    },
    {
     "name": "stdout",
     "output_type": "stream",
     "text": [
      "[Epoch 18/250] Training Loss: 0.5763\n"
     ]
    },
    {
     "name": "stderr",
     "output_type": "stream",
     "text": [
      "Training:   7%|▋         | 18/250 [36:01<7:42:28, 119.61s/epoch]"
     ]
    },
    {
     "name": "stdout",
     "output_type": "stream",
     "text": [
      "  Train => MSE=0.4721, CI=0.7837, Pearson=0.6015\n",
      "  Test  => MSE=0.5197, CI=0.7850, Pearson=0.5821\n",
      "Checkpoint saved at epoch 18\n",
      "Deleted previous checkpoint: /kaggle/working/TrainingModel1/model_epoch17.pt\n"
     ]
    },
    {
     "name": "stderr",
     "output_type": "stream",
     "text": [
      "Training:   7%|▋         | 18/250 [36:49<7:42:28, 119.61s/epoch]"
     ]
    },
    {
     "name": "stdout",
     "output_type": "stream",
     "text": [
      "[Epoch 19/250] Training Loss: 0.5644\n"
     ]
    },
    {
     "name": "stderr",
     "output_type": "stream",
     "text": [
      "Training:   8%|▊         | 19/250 [38:00<7:40:40, 119.66s/epoch]"
     ]
    },
    {
     "name": "stdout",
     "output_type": "stream",
     "text": [
      "  Train => MSE=0.4797, CI=0.7858, Pearson=0.5982\n",
      "  Test  => MSE=0.5262, CI=0.7851, Pearson=0.5789\n",
      "Checkpoint saved at epoch 19\n",
      "Deleted previous checkpoint: /kaggle/working/TrainingModel1/model_epoch18.pt\n"
     ]
    },
    {
     "name": "stderr",
     "output_type": "stream",
     "text": [
      "Training:   8%|▊         | 19/250 [38:48<7:40:40, 119.66s/epoch]"
     ]
    },
    {
     "name": "stdout",
     "output_type": "stream",
     "text": [
      "[Epoch 20/250] Training Loss: 0.5721\n"
     ]
    },
    {
     "name": "stderr",
     "output_type": "stream",
     "text": [
      "Training:   8%|▊         | 20/250 [40:00<7:38:00, 119.48s/epoch]"
     ]
    },
    {
     "name": "stdout",
     "output_type": "stream",
     "text": [
      "  Train => MSE=0.4752, CI=0.7873, Pearson=0.6066\n",
      "  Test  => MSE=0.5289, CI=0.7875, Pearson=0.5811\n",
      "Checkpoint saved at epoch 20\n",
      "Deleted previous checkpoint: /kaggle/working/TrainingModel1/model_epoch19.pt\n"
     ]
    },
    {
     "name": "stderr",
     "output_type": "stream",
     "text": [
      "Training:   8%|▊         | 20/250 [40:47<7:38:00, 119.48s/epoch]"
     ]
    },
    {
     "name": "stdout",
     "output_type": "stream",
     "text": [
      "[Epoch 21/250] Training Loss: 0.5679\n"
     ]
    },
    {
     "name": "stderr",
     "output_type": "stream",
     "text": [
      "Training:   8%|▊         | 21/250 [41:59<7:35:50, 119.43s/epoch]"
     ]
    },
    {
     "name": "stdout",
     "output_type": "stream",
     "text": [
      "  Train => MSE=0.4751, CI=0.7909, Pearson=0.6160\n",
      "  Test  => MSE=0.5298, CI=0.7899, Pearson=0.5904\n",
      "Checkpoint saved at epoch 21\n",
      "Deleted previous checkpoint: /kaggle/working/TrainingModel1/model_epoch20.pt\n"
     ]
    },
    {
     "name": "stderr",
     "output_type": "stream",
     "text": [
      "Training:   8%|▊         | 21/250 [42:47<7:35:50, 119.43s/epoch]"
     ]
    },
    {
     "name": "stdout",
     "output_type": "stream",
     "text": [
      "[Epoch 22/250] Training Loss: 0.5442\n"
     ]
    },
    {
     "name": "stderr",
     "output_type": "stream",
     "text": [
      "Training:   9%|▉         | 22/250 [43:58<7:33:51, 119.44s/epoch]"
     ]
    },
    {
     "name": "stdout",
     "output_type": "stream",
     "text": [
      "  Train => MSE=0.5151, CI=0.7918, Pearson=0.6096\n",
      "  Test  => MSE=0.5668, CI=0.7922, Pearson=0.5888\n",
      "Checkpoint saved at epoch 22\n",
      "Deleted previous checkpoint: /kaggle/working/TrainingModel1/model_epoch21.pt\n"
     ]
    },
    {
     "name": "stderr",
     "output_type": "stream",
     "text": [
      "Training:   9%|▉         | 22/250 [44:48<7:33:51, 119.44s/epoch]"
     ]
    },
    {
     "name": "stdout",
     "output_type": "stream",
     "text": [
      "[Epoch 23/250] Training Loss: 0.5511\n"
     ]
    },
    {
     "name": "stderr",
     "output_type": "stream",
     "text": [
      "Training:   9%|▉         | 23/250 [45:59<7:33:20, 119.83s/epoch]"
     ]
    },
    {
     "name": "stdout",
     "output_type": "stream",
     "text": [
      "  Train => MSE=0.4808, CI=0.7902, Pearson=0.6096\n",
      "  Test  => MSE=0.5335, CI=0.7886, Pearson=0.5863\n",
      "Checkpoint saved at epoch 23\n",
      "Deleted previous checkpoint: /kaggle/working/TrainingModel1/model_epoch22.pt\n"
     ]
    },
    {
     "name": "stderr",
     "output_type": "stream",
     "text": [
      "Training:   9%|▉         | 23/250 [46:47<7:33:20, 119.83s/epoch]"
     ]
    },
    {
     "name": "stdout",
     "output_type": "stream",
     "text": [
      "[Epoch 24/250] Training Loss: 0.5513\n"
     ]
    },
    {
     "name": "stderr",
     "output_type": "stream",
     "text": [
      "Training:  10%|▉         | 24/250 [47:58<7:30:22, 119.57s/epoch]"
     ]
    },
    {
     "name": "stdout",
     "output_type": "stream",
     "text": [
      "  Train => MSE=0.5160, CI=0.7973, Pearson=0.6227\n",
      "  Test  => MSE=0.5744, CI=0.7955, Pearson=0.5965\n",
      "Checkpoint saved at epoch 24\n",
      "Deleted previous checkpoint: /kaggle/working/TrainingModel1/model_epoch23.pt\n"
     ]
    },
    {
     "name": "stderr",
     "output_type": "stream",
     "text": [
      "Training:  10%|▉         | 24/250 [48:47<7:30:22, 119.57s/epoch]"
     ]
    },
    {
     "name": "stdout",
     "output_type": "stream",
     "text": [
      "[Epoch 25/250] Training Loss: 0.5359\n"
     ]
    },
    {
     "name": "stderr",
     "output_type": "stream",
     "text": [
      "Training:  10%|█         | 25/250 [49:58<7:29:24, 119.84s/epoch]"
     ]
    },
    {
     "name": "stdout",
     "output_type": "stream",
     "text": [
      "  Train => MSE=0.4492, CI=0.7968, Pearson=0.6291\n",
      "  Test  => MSE=0.5012, CI=0.7975, Pearson=0.6045\n",
      "Checkpoint saved at epoch 25\n",
      "Deleted previous checkpoint: /kaggle/working/TrainingModel1/model_epoch24.pt\n"
     ]
    },
    {
     "name": "stderr",
     "output_type": "stream",
     "text": [
      "Training:  10%|█         | 25/250 [50:47<7:29:24, 119.84s/epoch]"
     ]
    },
    {
     "name": "stdout",
     "output_type": "stream",
     "text": [
      "[Epoch 26/250] Training Loss: 0.5318\n"
     ]
    },
    {
     "name": "stderr",
     "output_type": "stream",
     "text": [
      "Training:  10%|█         | 26/250 [51:58<7:27:12, 119.79s/epoch]"
     ]
    },
    {
     "name": "stdout",
     "output_type": "stream",
     "text": [
      "  Train => MSE=0.4789, CI=0.8010, Pearson=0.6384\n",
      "  Test  => MSE=0.5392, CI=0.7981, Pearson=0.6089\n",
      "Checkpoint saved at epoch 26\n",
      "Deleted previous checkpoint: /kaggle/working/TrainingModel1/model_epoch25.pt\n"
     ]
    },
    {
     "name": "stderr",
     "output_type": "stream",
     "text": [
      "Training:  10%|█         | 26/250 [52:47<7:27:12, 119.79s/epoch]"
     ]
    },
    {
     "name": "stdout",
     "output_type": "stream",
     "text": [
      "[Epoch 27/250] Training Loss: 0.5366\n"
     ]
    },
    {
     "name": "stderr",
     "output_type": "stream",
     "text": [
      "Training:  11%|█         | 27/250 [53:58<7:25:09, 119.77s/epoch]"
     ]
    },
    {
     "name": "stdout",
     "output_type": "stream",
     "text": [
      "  Train => MSE=0.5241, CI=0.8021, Pearson=0.6322\n",
      "  Test  => MSE=0.5864, CI=0.7989, Pearson=0.6026\n",
      "Checkpoint saved at epoch 27\n",
      "Deleted previous checkpoint: /kaggle/working/TrainingModel1/model_epoch26.pt\n"
     ]
    },
    {
     "name": "stderr",
     "output_type": "stream",
     "text": [
      "Training:  11%|█         | 27/250 [54:45<7:25:09, 119.77s/epoch]"
     ]
    },
    {
     "name": "stdout",
     "output_type": "stream",
     "text": [
      "[Epoch 28/250] Training Loss: 0.5362\n"
     ]
    },
    {
     "name": "stderr",
     "output_type": "stream",
     "text": [
      "Training:  11%|█         | 28/250 [55:56<7:21:34, 119.34s/epoch]"
     ]
    },
    {
     "name": "stdout",
     "output_type": "stream",
     "text": [
      "  Train => MSE=0.5252, CI=0.7998, Pearson=0.6291\n",
      "  Test  => MSE=0.5819, CI=0.7983, Pearson=0.6050\n",
      "Checkpoint saved at epoch 28\n",
      "Deleted previous checkpoint: /kaggle/working/TrainingModel1/model_epoch27.pt\n"
     ]
    },
    {
     "name": "stderr",
     "output_type": "stream",
     "text": [
      "Training:  11%|█         | 28/250 [56:43<7:21:34, 119.34s/epoch]"
     ]
    },
    {
     "name": "stdout",
     "output_type": "stream",
     "text": [
      "[Epoch 29/250] Training Loss: 0.5237\n"
     ]
    },
    {
     "name": "stderr",
     "output_type": "stream",
     "text": [
      "Training:  11%|█         | 28/250 [57:54<7:21:34, 119.34s/epoch]"
     ]
    },
    {
     "name": "stdout",
     "output_type": "stream",
     "text": [
      "  Train => MSE=0.5396, CI=0.7981, Pearson=0.6396\n",
      "  Test  => MSE=0.5994, CI=0.7945, Pearson=0.6112\n"
     ]
    },
    {
     "name": "stderr",
     "output_type": "stream",
     "text": [
      "Training:  12%|█▏        | 29/250 [57:54<7:18:18, 119.00s/epoch]"
     ]
    },
    {
     "name": "stdout",
     "output_type": "stream",
     "text": [
      "Checkpoint saved at epoch 29\n",
      "Deleted previous checkpoint: /kaggle/working/TrainingModel1/model_epoch28.pt\n"
     ]
    },
    {
     "name": "stderr",
     "output_type": "stream",
     "text": [
      "Training:  12%|█▏        | 29/250 [58:42<7:18:18, 119.00s/epoch]"
     ]
    },
    {
     "name": "stdout",
     "output_type": "stream",
     "text": [
      "[Epoch 30/250] Training Loss: 0.5286\n"
     ]
    },
    {
     "name": "stderr",
     "output_type": "stream",
     "text": [
      "Training:  12%|█▏        | 30/250 [59:53<7:16:03, 118.93s/epoch]"
     ]
    },
    {
     "name": "stdout",
     "output_type": "stream",
     "text": [
      "  Train => MSE=0.5288, CI=0.7934, Pearson=0.6345\n",
      "  Test  => MSE=0.5848, CI=0.7949, Pearson=0.6120\n",
      "Checkpoint saved at epoch 30\n",
      "Deleted previous checkpoint: /kaggle/working/TrainingModel1/model_epoch29.pt\n"
     ]
    },
    {
     "name": "stderr",
     "output_type": "stream",
     "text": [
      "Training:  12%|█▏        | 30/250 [1:00:41<7:16:03, 118.93s/epoch]"
     ]
    },
    {
     "name": "stdout",
     "output_type": "stream",
     "text": [
      "[Epoch 31/250] Training Loss: 0.5200\n"
     ]
    },
    {
     "name": "stderr",
     "output_type": "stream",
     "text": [
      "Training:  12%|█▏        | 31/250 [1:01:52<7:13:47, 118.85s/epoch]"
     ]
    },
    {
     "name": "stdout",
     "output_type": "stream",
     "text": [
      "  Train => MSE=0.4296, CI=0.8061, Pearson=0.6495\n",
      "  Test  => MSE=0.4845, CI=0.8032, Pearson=0.6223\n",
      "Checkpoint saved at epoch 31\n",
      "Deleted previous checkpoint: /kaggle/working/TrainingModel1/model_epoch30.pt\n"
     ]
    },
    {
     "name": "stderr",
     "output_type": "stream",
     "text": [
      "Training:  12%|█▏        | 31/250 [1:02:40<7:13:47, 118.85s/epoch]"
     ]
    },
    {
     "name": "stdout",
     "output_type": "stream",
     "text": [
      "[Epoch 32/250] Training Loss: 0.4988\n"
     ]
    },
    {
     "name": "stderr",
     "output_type": "stream",
     "text": [
      "Training:  13%|█▎        | 32/250 [1:03:52<7:12:48, 119.12s/epoch]"
     ]
    },
    {
     "name": "stdout",
     "output_type": "stream",
     "text": [
      "  Train => MSE=0.4287, CI=0.8069, Pearson=0.6491\n",
      "  Test  => MSE=0.4778, CI=0.8034, Pearson=0.6252\n",
      "Checkpoint saved at epoch 32\n",
      "Deleted previous checkpoint: /kaggle/working/TrainingModel1/model_epoch31.pt\n"
     ]
    },
    {
     "name": "stderr",
     "output_type": "stream",
     "text": [
      "Training:  13%|█▎        | 32/250 [1:04:40<7:12:48, 119.12s/epoch]"
     ]
    },
    {
     "name": "stdout",
     "output_type": "stream",
     "text": [
      "[Epoch 33/250] Training Loss: 0.5120\n"
     ]
    },
    {
     "name": "stderr",
     "output_type": "stream",
     "text": [
      "Training:  13%|█▎        | 33/250 [1:05:51<7:10:54, 119.14s/epoch]"
     ]
    },
    {
     "name": "stdout",
     "output_type": "stream",
     "text": [
      "  Train => MSE=0.4925, CI=0.8061, Pearson=0.6465\n",
      "  Test  => MSE=0.5483, CI=0.8035, Pearson=0.6221\n",
      "Checkpoint saved at epoch 33\n",
      "Deleted previous checkpoint: /kaggle/working/TrainingModel1/model_epoch32.pt\n"
     ]
    },
    {
     "name": "stderr",
     "output_type": "stream",
     "text": [
      "Training:  13%|█▎        | 33/250 [1:06:39<7:10:54, 119.14s/epoch]"
     ]
    },
    {
     "name": "stdout",
     "output_type": "stream",
     "text": [
      "[Epoch 34/250] Training Loss: 0.5076\n"
     ]
    },
    {
     "name": "stderr",
     "output_type": "stream",
     "text": [
      "Training:  14%|█▎        | 34/250 [1:07:50<7:09:04, 119.19s/epoch]"
     ]
    },
    {
     "name": "stdout",
     "output_type": "stream",
     "text": [
      "  Train => MSE=0.4581, CI=0.8065, Pearson=0.6524\n",
      "  Test  => MSE=0.5182, CI=0.8029, Pearson=0.6234\n",
      "Checkpoint saved at epoch 34\n",
      "Deleted previous checkpoint: /kaggle/working/TrainingModel1/model_epoch33.pt\n"
     ]
    },
    {
     "name": "stderr",
     "output_type": "stream",
     "text": [
      "Training:  14%|█▎        | 34/250 [1:08:37<7:09:04, 119.19s/epoch]"
     ]
    },
    {
     "name": "stdout",
     "output_type": "stream",
     "text": [
      "[Epoch 35/250] Training Loss: 0.5044\n"
     ]
    },
    {
     "name": "stderr",
     "output_type": "stream",
     "text": [
      "Training:  14%|█▍        | 35/250 [1:09:48<7:06:12, 118.94s/epoch]"
     ]
    },
    {
     "name": "stdout",
     "output_type": "stream",
     "text": [
      "  Train => MSE=0.4235, CI=0.8135, Pearson=0.6579\n",
      "  Test  => MSE=0.4784, CI=0.8099, Pearson=0.6307\n",
      "Checkpoint saved at epoch 35\n",
      "Deleted previous checkpoint: /kaggle/working/TrainingModel1/model_epoch34.pt\n"
     ]
    },
    {
     "name": "stderr",
     "output_type": "stream",
     "text": [
      "Training:  14%|█▍        | 35/250 [1:10:36<7:06:12, 118.94s/epoch]"
     ]
    },
    {
     "name": "stdout",
     "output_type": "stream",
     "text": [
      "[Epoch 36/250] Training Loss: 0.4958\n"
     ]
    },
    {
     "name": "stderr",
     "output_type": "stream",
     "text": [
      "Training:  14%|█▍        | 36/250 [1:11:47<7:04:03, 118.89s/epoch]"
     ]
    },
    {
     "name": "stdout",
     "output_type": "stream",
     "text": [
      "  Train => MSE=0.4073, CI=0.8122, Pearson=0.6695\n",
      "  Test  => MSE=0.4706, CI=0.8073, Pearson=0.6312\n",
      "Checkpoint saved at epoch 36\n",
      "Deleted previous checkpoint: /kaggle/working/TrainingModel1/model_epoch35.pt\n"
     ]
    },
    {
     "name": "stderr",
     "output_type": "stream",
     "text": [
      "Training:  14%|█▍        | 36/250 [1:12:35<7:04:03, 118.89s/epoch]"
     ]
    },
    {
     "name": "stdout",
     "output_type": "stream",
     "text": [
      "[Epoch 37/250] Training Loss: 0.4944\n"
     ]
    },
    {
     "name": "stderr",
     "output_type": "stream",
     "text": [
      "Training:  15%|█▍        | 37/250 [1:13:46<7:02:24, 118.99s/epoch]"
     ]
    },
    {
     "name": "stdout",
     "output_type": "stream",
     "text": [
      "  Train => MSE=0.4420, CI=0.8116, Pearson=0.6678\n",
      "  Test  => MSE=0.5053, CI=0.8073, Pearson=0.6341\n",
      "Checkpoint saved at epoch 37\n",
      "Deleted previous checkpoint: /kaggle/working/TrainingModel1/model_epoch36.pt\n"
     ]
    },
    {
     "name": "stderr",
     "output_type": "stream",
     "text": [
      "Training:  15%|█▍        | 37/250 [1:14:35<7:02:24, 118.99s/epoch]"
     ]
    },
    {
     "name": "stdout",
     "output_type": "stream",
     "text": [
      "[Epoch 38/250] Training Loss: 0.4971\n"
     ]
    },
    {
     "name": "stderr",
     "output_type": "stream",
     "text": [
      "Training:  15%|█▌        | 38/250 [1:15:46<7:00:58, 119.14s/epoch]"
     ]
    },
    {
     "name": "stdout",
     "output_type": "stream",
     "text": [
      "  Train => MSE=0.4152, CI=0.8140, Pearson=0.6719\n",
      "  Test  => MSE=0.4770, CI=0.8075, Pearson=0.6376\n",
      "Checkpoint saved at epoch 38\n",
      "Deleted previous checkpoint: /kaggle/working/TrainingModel1/model_epoch37.pt\n"
     ]
    },
    {
     "name": "stderr",
     "output_type": "stream",
     "text": [
      "Training:  15%|█▌        | 38/250 [1:16:34<7:00:58, 119.14s/epoch]"
     ]
    },
    {
     "name": "stdout",
     "output_type": "stream",
     "text": [
      "[Epoch 39/250] Training Loss: 0.4948\n"
     ]
    },
    {
     "name": "stderr",
     "output_type": "stream",
     "text": [
      "Training:  16%|█▌        | 39/250 [1:17:46<6:59:39, 119.33s/epoch]"
     ]
    },
    {
     "name": "stdout",
     "output_type": "stream",
     "text": [
      "  Train => MSE=0.4020, CI=0.8138, Pearson=0.6761\n",
      "  Test  => MSE=0.4639, CI=0.8102, Pearson=0.6407\n",
      "Checkpoint saved at epoch 39\n",
      "Deleted previous checkpoint: /kaggle/working/TrainingModel1/model_epoch38.pt\n"
     ]
    },
    {
     "name": "stderr",
     "output_type": "stream",
     "text": [
      "Training:  16%|█▌        | 39/250 [1:18:34<6:59:39, 119.33s/epoch]"
     ]
    },
    {
     "name": "stdout",
     "output_type": "stream",
     "text": [
      "[Epoch 40/250] Training Loss: 0.4965\n"
     ]
    },
    {
     "name": "stderr",
     "output_type": "stream",
     "text": [
      "Training:  16%|█▌        | 40/250 [1:19:45<6:57:52, 119.39s/epoch]"
     ]
    },
    {
     "name": "stdout",
     "output_type": "stream",
     "text": [
      "  Train => MSE=0.4271, CI=0.8161, Pearson=0.6730\n",
      "  Test  => MSE=0.4953, CI=0.8121, Pearson=0.6351\n",
      "Checkpoint saved at epoch 40\n",
      "Deleted previous checkpoint: /kaggle/working/TrainingModel1/model_epoch39.pt\n"
     ]
    },
    {
     "name": "stderr",
     "output_type": "stream",
     "text": [
      "Training:  16%|█▌        | 40/250 [1:20:33<6:57:52, 119.39s/epoch]"
     ]
    },
    {
     "name": "stdout",
     "output_type": "stream",
     "text": [
      "[Epoch 41/250] Training Loss: 0.4845\n"
     ]
    },
    {
     "name": "stderr",
     "output_type": "stream",
     "text": [
      "Training:  16%|█▋        | 41/250 [1:21:45<6:55:45, 119.36s/epoch]"
     ]
    },
    {
     "name": "stdout",
     "output_type": "stream",
     "text": [
      "  Train => MSE=0.3999, CI=0.8163, Pearson=0.6791\n",
      "  Test  => MSE=0.4597, CI=0.8111, Pearson=0.6455\n",
      "Checkpoint saved at epoch 41\n",
      "Deleted previous checkpoint: /kaggle/working/TrainingModel1/model_epoch40.pt\n"
     ]
    },
    {
     "name": "stderr",
     "output_type": "stream",
     "text": [
      "Training:  16%|█▋        | 41/250 [1:22:33<6:55:45, 119.36s/epoch]"
     ]
    },
    {
     "name": "stdout",
     "output_type": "stream",
     "text": [
      "[Epoch 42/250] Training Loss: 0.4748\n"
     ]
    },
    {
     "name": "stderr",
     "output_type": "stream",
     "text": [
      "Training:  16%|█▋        | 41/250 [1:23:44<6:55:45, 119.36s/epoch]"
     ]
    },
    {
     "name": "stdout",
     "output_type": "stream",
     "text": [
      "  Train => MSE=0.4223, CI=0.8173, Pearson=0.6737\n",
      "  Test  => MSE=0.4871, CI=0.8121, Pearson=0.6378\n"
     ]
    },
    {
     "name": "stderr",
     "output_type": "stream",
     "text": [
      "Training:  17%|█▋        | 42/250 [1:23:44<6:53:53, 119.39s/epoch]"
     ]
    },
    {
     "name": "stdout",
     "output_type": "stream",
     "text": [
      "Checkpoint saved at epoch 42\n",
      "Deleted previous checkpoint: /kaggle/working/TrainingModel1/model_epoch41.pt\n"
     ]
    },
    {
     "name": "stderr",
     "output_type": "stream",
     "text": [
      "Training:  17%|█▋        | 42/250 [1:24:32<6:53:53, 119.39s/epoch]"
     ]
    },
    {
     "name": "stdout",
     "output_type": "stream",
     "text": [
      "[Epoch 43/250] Training Loss: 0.4802\n"
     ]
    },
    {
     "name": "stderr",
     "output_type": "stream",
     "text": [
      "Training:  17%|█▋        | 43/250 [1:25:44<6:52:08, 119.46s/epoch]"
     ]
    },
    {
     "name": "stdout",
     "output_type": "stream",
     "text": [
      "  Train => MSE=0.4295, CI=0.8161, Pearson=0.6890\n",
      "  Test  => MSE=0.4921, CI=0.8112, Pearson=0.6560\n",
      "Checkpoint saved at epoch 43\n",
      "Deleted previous checkpoint: /kaggle/working/TrainingModel1/model_epoch42.pt\n"
     ]
    },
    {
     "name": "stderr",
     "output_type": "stream",
     "text": [
      "Training:  17%|█▋        | 43/250 [1:26:32<6:52:08, 119.46s/epoch]"
     ]
    },
    {
     "name": "stdout",
     "output_type": "stream",
     "text": [
      "[Epoch 44/250] Training Loss: 0.4746\n"
     ]
    },
    {
     "name": "stderr",
     "output_type": "stream",
     "text": [
      "Training:  18%|█▊        | 44/250 [1:27:43<6:50:21, 119.52s/epoch]"
     ]
    },
    {
     "name": "stdout",
     "output_type": "stream",
     "text": [
      "  Train => MSE=0.4143, CI=0.8159, Pearson=0.6819\n",
      "  Test  => MSE=0.4691, CI=0.8128, Pearson=0.6553\n",
      "Checkpoint saved at epoch 44\n",
      "Deleted previous checkpoint: /kaggle/working/TrainingModel1/model_epoch43.pt\n"
     ]
    },
    {
     "name": "stderr",
     "output_type": "stream",
     "text": [
      "Training:  18%|█▊        | 44/250 [1:28:33<6:50:21, 119.52s/epoch]"
     ]
    },
    {
     "name": "stdout",
     "output_type": "stream",
     "text": [
      "[Epoch 45/250] Training Loss: 0.4685\n"
     ]
    },
    {
     "name": "stderr",
     "output_type": "stream",
     "text": [
      "Training:  18%|█▊        | 45/250 [1:29:44<6:49:49, 119.95s/epoch]"
     ]
    },
    {
     "name": "stdout",
     "output_type": "stream",
     "text": [
      "  Train => MSE=0.4281, CI=0.8190, Pearson=0.6921\n",
      "  Test  => MSE=0.4872, CI=0.8152, Pearson=0.6547\n",
      "Checkpoint saved at epoch 45\n",
      "Deleted previous checkpoint: /kaggle/working/TrainingModel1/model_epoch44.pt\n"
     ]
    },
    {
     "name": "stderr",
     "output_type": "stream",
     "text": [
      "Training:  18%|█▊        | 45/250 [1:30:32<6:49:49, 119.95s/epoch]"
     ]
    },
    {
     "name": "stdout",
     "output_type": "stream",
     "text": [
      "[Epoch 46/250] Training Loss: 0.4593\n"
     ]
    },
    {
     "name": "stderr",
     "output_type": "stream",
     "text": [
      "Training:  18%|█▊        | 46/250 [1:31:44<6:47:22, 119.82s/epoch]"
     ]
    },
    {
     "name": "stdout",
     "output_type": "stream",
     "text": [
      "  Train => MSE=0.4290, CI=0.8189, Pearson=0.6619\n",
      "  Test  => MSE=0.4909, CI=0.8158, Pearson=0.6290\n",
      "Checkpoint saved at epoch 46\n",
      "Deleted previous checkpoint: /kaggle/working/TrainingModel1/model_epoch45.pt\n"
     ]
    },
    {
     "name": "stderr",
     "output_type": "stream",
     "text": [
      "Training:  18%|█▊        | 46/250 [1:32:32<6:47:22, 119.82s/epoch]"
     ]
    },
    {
     "name": "stdout",
     "output_type": "stream",
     "text": [
      "[Epoch 47/250] Training Loss: 0.4690\n"
     ]
    },
    {
     "name": "stderr",
     "output_type": "stream",
     "text": [
      "Training:  19%|█▉        | 47/250 [1:33:44<6:45:36, 119.88s/epoch]"
     ]
    },
    {
     "name": "stdout",
     "output_type": "stream",
     "text": [
      "  Train => MSE=0.4034, CI=0.8119, Pearson=0.6904\n",
      "  Test  => MSE=0.4679, CI=0.8100, Pearson=0.6538\n",
      "Checkpoint saved at epoch 47\n",
      "Deleted previous checkpoint: /kaggle/working/TrainingModel1/model_epoch46.pt\n"
     ]
    },
    {
     "name": "stderr",
     "output_type": "stream",
     "text": [
      "Training:  19%|█▉        | 47/250 [1:34:32<6:45:36, 119.88s/epoch]"
     ]
    },
    {
     "name": "stdout",
     "output_type": "stream",
     "text": [
      "[Epoch 48/250] Training Loss: 0.4521\n"
     ]
    },
    {
     "name": "stderr",
     "output_type": "stream",
     "text": [
      "Training:  19%|█▉        | 48/250 [1:35:44<6:43:39, 119.90s/epoch]"
     ]
    },
    {
     "name": "stdout",
     "output_type": "stream",
     "text": [
      "  Train => MSE=0.3967, CI=0.8207, Pearson=0.6953\n",
      "  Test  => MSE=0.4662, CI=0.8144, Pearson=0.6543\n",
      "Checkpoint saved at epoch 48\n",
      "Deleted previous checkpoint: /kaggle/working/TrainingModel1/model_epoch47.pt\n"
     ]
    },
    {
     "name": "stderr",
     "output_type": "stream",
     "text": [
      "Training:  19%|█▉        | 48/250 [1:36:32<6:43:39, 119.90s/epoch]"
     ]
    },
    {
     "name": "stdout",
     "output_type": "stream",
     "text": [
      "[Epoch 49/250] Training Loss: 0.4633\n"
     ]
    },
    {
     "name": "stderr",
     "output_type": "stream",
     "text": [
      "Training:  20%|█▉        | 49/250 [1:37:43<6:40:46, 119.63s/epoch]"
     ]
    },
    {
     "name": "stdout",
     "output_type": "stream",
     "text": [
      "  Train => MSE=0.3888, CI=0.8207, Pearson=0.6919\n",
      "  Test  => MSE=0.4575, CI=0.8156, Pearson=0.6507\n",
      "Checkpoint saved at epoch 49\n",
      "Deleted previous checkpoint: /kaggle/working/TrainingModel1/model_epoch48.pt\n"
     ]
    },
    {
     "name": "stderr",
     "output_type": "stream",
     "text": [
      "Training:  20%|█▉        | 49/250 [1:38:31<6:40:46, 119.63s/epoch]"
     ]
    },
    {
     "name": "stdout",
     "output_type": "stream",
     "text": [
      "[Epoch 50/250] Training Loss: 0.4444\n"
     ]
    },
    {
     "name": "stderr",
     "output_type": "stream",
     "text": [
      "Training:  20%|██        | 50/250 [1:39:42<6:38:30, 119.55s/epoch]"
     ]
    },
    {
     "name": "stdout",
     "output_type": "stream",
     "text": [
      "  Train => MSE=0.3988, CI=0.8205, Pearson=0.6881\n",
      "  Test  => MSE=0.4600, CI=0.8164, Pearson=0.6550\n",
      "Checkpoint saved at epoch 50\n",
      "Deleted previous checkpoint: /kaggle/working/TrainingModel1/model_epoch49.pt\n"
     ]
    },
    {
     "name": "stderr",
     "output_type": "stream",
     "text": [
      "Training:  20%|██        | 50/250 [1:40:30<6:38:30, 119.55s/epoch]"
     ]
    },
    {
     "name": "stdout",
     "output_type": "stream",
     "text": [
      "[Epoch 51/250] Training Loss: 0.4513\n"
     ]
    },
    {
     "name": "stderr",
     "output_type": "stream",
     "text": [
      "Training:  20%|██        | 51/250 [1:41:42<6:36:51, 119.66s/epoch]"
     ]
    },
    {
     "name": "stdout",
     "output_type": "stream",
     "text": [
      "  Train => MSE=0.3893, CI=0.8157, Pearson=0.6961\n",
      "  Test  => MSE=0.4447, CI=0.8145, Pearson=0.6678\n",
      "Checkpoint saved at epoch 51\n",
      "Deleted previous checkpoint: /kaggle/working/TrainingModel1/model_epoch50.pt\n"
     ]
    },
    {
     "name": "stderr",
     "output_type": "stream",
     "text": [
      "Training:  20%|██        | 51/250 [1:42:31<6:36:51, 119.66s/epoch]"
     ]
    },
    {
     "name": "stdout",
     "output_type": "stream",
     "text": [
      "[Epoch 52/250] Training Loss: 0.4459\n"
     ]
    },
    {
     "name": "stderr",
     "output_type": "stream",
     "text": [
      "Training:  21%|██        | 52/250 [1:43:43<6:36:39, 120.20s/epoch]"
     ]
    },
    {
     "name": "stdout",
     "output_type": "stream",
     "text": [
      "  Train => MSE=0.4233, CI=0.8207, Pearson=0.6946\n",
      "  Test  => MSE=0.4934, CI=0.8144, Pearson=0.6571\n",
      "Checkpoint saved at epoch 52\n",
      "Deleted previous checkpoint: /kaggle/working/TrainingModel1/model_epoch51.pt\n"
     ]
    },
    {
     "name": "stderr",
     "output_type": "stream",
     "text": [
      "Training:  21%|██        | 52/250 [1:44:32<6:36:39, 120.20s/epoch]"
     ]
    },
    {
     "name": "stdout",
     "output_type": "stream",
     "text": [
      "[Epoch 53/250] Training Loss: 0.4537\n"
     ]
    },
    {
     "name": "stderr",
     "output_type": "stream",
     "text": [
      "Training:  21%|██        | 53/250 [1:45:44<6:34:44, 120.23s/epoch]"
     ]
    },
    {
     "name": "stdout",
     "output_type": "stream",
     "text": [
      "  Train => MSE=0.3857, CI=0.8173, Pearson=0.7020\n",
      "  Test  => MSE=0.4460, CI=0.8137, Pearson=0.6697\n",
      "Checkpoint saved at epoch 53\n",
      "Deleted previous checkpoint: /kaggle/working/TrainingModel1/model_epoch52.pt\n"
     ]
    },
    {
     "name": "stderr",
     "output_type": "stream",
     "text": [
      "Training:  21%|██        | 53/250 [1:46:32<6:34:44, 120.23s/epoch]"
     ]
    },
    {
     "name": "stdout",
     "output_type": "stream",
     "text": [
      "[Epoch 54/250] Training Loss: 0.4475\n"
     ]
    },
    {
     "name": "stderr",
     "output_type": "stream",
     "text": [
      "Training:  22%|██▏       | 54/250 [1:47:44<6:32:54, 120.28s/epoch]"
     ]
    },
    {
     "name": "stdout",
     "output_type": "stream",
     "text": [
      "  Train => MSE=0.3648, CI=0.8231, Pearson=0.7120\n",
      "  Test  => MSE=0.4271, CI=0.8174, Pearson=0.6754\n",
      "Checkpoint saved at epoch 54\n",
      "Deleted previous checkpoint: /kaggle/working/TrainingModel1/model_epoch53.pt\n"
     ]
    },
    {
     "name": "stderr",
     "output_type": "stream",
     "text": [
      "Training:  22%|██▏       | 54/250 [1:48:33<6:32:54, 120.28s/epoch]"
     ]
    },
    {
     "name": "stdout",
     "output_type": "stream",
     "text": [
      "[Epoch 55/250] Training Loss: 0.4433\n"
     ]
    },
    {
     "name": "stderr",
     "output_type": "stream",
     "text": [
      "Training:  22%|██▏       | 54/250 [1:49:44<6:32:54, 120.28s/epoch]"
     ]
    },
    {
     "name": "stdout",
     "output_type": "stream",
     "text": [
      "  Train => MSE=0.3904, CI=0.8187, Pearson=0.6988\n",
      "  Test  => MSE=0.4634, CI=0.8151, Pearson=0.6545\n"
     ]
    },
    {
     "name": "stderr",
     "output_type": "stream",
     "text": [
      "Training:  22%|██▏       | 55/250 [1:49:45<6:31:07, 120.34s/epoch]"
     ]
    },
    {
     "name": "stdout",
     "output_type": "stream",
     "text": [
      "Checkpoint saved at epoch 55\n",
      "Deleted previous checkpoint: /kaggle/working/TrainingModel1/model_epoch54.pt\n"
     ]
    },
    {
     "name": "stderr",
     "output_type": "stream",
     "text": [
      "Training:  22%|██▏       | 55/250 [1:50:33<6:31:07, 120.34s/epoch]"
     ]
    },
    {
     "name": "stdout",
     "output_type": "stream",
     "text": [
      "[Epoch 56/250] Training Loss: 0.4495\n"
     ]
    },
    {
     "name": "stderr",
     "output_type": "stream",
     "text": [
      "Training:  22%|██▏       | 56/250 [1:51:45<6:28:44, 120.23s/epoch]"
     ]
    },
    {
     "name": "stdout",
     "output_type": "stream",
     "text": [
      "  Train => MSE=0.3930, CI=0.8227, Pearson=0.6977\n",
      "  Test  => MSE=0.4617, CI=0.8157, Pearson=0.6582\n",
      "Checkpoint saved at epoch 56\n",
      "Deleted previous checkpoint: /kaggle/working/TrainingModel1/model_epoch55.pt\n"
     ]
    },
    {
     "name": "stderr",
     "output_type": "stream",
     "text": [
      "Training:  22%|██▏       | 56/250 [1:52:33<6:28:44, 120.23s/epoch]"
     ]
    },
    {
     "name": "stdout",
     "output_type": "stream",
     "text": [
      "[Epoch 57/250] Training Loss: 0.4360\n"
     ]
    },
    {
     "name": "stderr",
     "output_type": "stream",
     "text": [
      "Training:  23%|██▎       | 57/250 [1:53:45<6:26:25, 120.13s/epoch]"
     ]
    },
    {
     "name": "stdout",
     "output_type": "stream",
     "text": [
      "  Train => MSE=0.3816, CI=0.8234, Pearson=0.7067\n",
      "  Test  => MSE=0.4538, CI=0.8202, Pearson=0.6651\n",
      "Checkpoint saved at epoch 57\n",
      "Deleted previous checkpoint: /kaggle/working/TrainingModel1/model_epoch56.pt\n"
     ]
    },
    {
     "name": "stderr",
     "output_type": "stream",
     "text": [
      "Training:  23%|██▎       | 57/250 [1:54:34<6:26:25, 120.13s/epoch]"
     ]
    },
    {
     "name": "stdout",
     "output_type": "stream",
     "text": [
      "[Epoch 58/250] Training Loss: 0.4379\n"
     ]
    },
    {
     "name": "stderr",
     "output_type": "stream",
     "text": [
      "Training:  23%|██▎       | 58/250 [1:55:45<6:25:01, 120.32s/epoch]"
     ]
    },
    {
     "name": "stdout",
     "output_type": "stream",
     "text": [
      "  Train => MSE=0.4201, CI=0.8167, Pearson=0.6644\n",
      "  Test  => MSE=0.4694, CI=0.8141, Pearson=0.6422\n",
      "Checkpoint saved at epoch 58\n",
      "Deleted previous checkpoint: /kaggle/working/TrainingModel1/model_epoch57.pt\n"
     ]
    },
    {
     "name": "stderr",
     "output_type": "stream",
     "text": [
      "Training:  23%|██▎       | 58/250 [1:56:34<6:25:01, 120.32s/epoch]"
     ]
    },
    {
     "name": "stdout",
     "output_type": "stream",
     "text": [
      "[Epoch 59/250] Training Loss: 0.6329\n"
     ]
    },
    {
     "name": "stderr",
     "output_type": "stream",
     "text": [
      "Training:  24%|██▎       | 59/250 [1:57:46<6:23:49, 120.57s/epoch]"
     ]
    },
    {
     "name": "stdout",
     "output_type": "stream",
     "text": [
      "  Train => MSE=0.4775, CI=0.7873, Pearson=0.5967\n",
      "  Test  => MSE=0.5386, CI=0.7768, Pearson=0.5601\n",
      "Checkpoint saved at epoch 59\n",
      "Deleted previous checkpoint: /kaggle/working/TrainingModel1/model_epoch58.pt\n"
     ]
    },
    {
     "name": "stderr",
     "output_type": "stream",
     "text": [
      "Training:  24%|██▎       | 59/250 [1:58:36<6:23:49, 120.57s/epoch]"
     ]
    },
    {
     "name": "stdout",
     "output_type": "stream",
     "text": [
      "[Epoch 60/250] Training Loss: 0.5247\n"
     ]
    },
    {
     "name": "stderr",
     "output_type": "stream",
     "text": [
      "Training:  24%|██▍       | 60/250 [1:59:48<6:22:58, 120.94s/epoch]"
     ]
    },
    {
     "name": "stdout",
     "output_type": "stream",
     "text": [
      "  Train => MSE=0.4583, CI=0.8141, Pearson=0.6691\n",
      "  Test  => MSE=0.5232, CI=0.8106, Pearson=0.6361\n",
      "Checkpoint saved at epoch 60\n",
      "Deleted previous checkpoint: /kaggle/working/TrainingModel1/model_epoch59.pt\n"
     ]
    },
    {
     "name": "stderr",
     "output_type": "stream",
     "text": [
      "Training:  24%|██▍       | 60/250 [2:00:37<6:22:58, 120.94s/epoch]"
     ]
    },
    {
     "name": "stdout",
     "output_type": "stream",
     "text": [
      "[Epoch 61/250] Training Loss: 0.4724\n"
     ]
    },
    {
     "name": "stderr",
     "output_type": "stream",
     "text": [
      "Training:  24%|██▍       | 61/250 [2:01:48<6:20:04, 120.66s/epoch]"
     ]
    },
    {
     "name": "stdout",
     "output_type": "stream",
     "text": [
      "  Train => MSE=0.4031, CI=0.8196, Pearson=0.6832\n",
      "  Test  => MSE=0.4633, CI=0.8162, Pearson=0.6512\n",
      "Checkpoint saved at epoch 61\n",
      "Deleted previous checkpoint: /kaggle/working/TrainingModel1/model_epoch60.pt\n"
     ]
    },
    {
     "name": "stderr",
     "output_type": "stream",
     "text": [
      "Training:  24%|██▍       | 61/250 [2:02:36<6:20:04, 120.66s/epoch]"
     ]
    },
    {
     "name": "stdout",
     "output_type": "stream",
     "text": [
      "[Epoch 62/250] Training Loss: 0.4556\n"
     ]
    },
    {
     "name": "stderr",
     "output_type": "stream",
     "text": [
      "Training:  25%|██▍       | 62/250 [2:03:48<6:16:47, 120.25s/epoch]"
     ]
    },
    {
     "name": "stdout",
     "output_type": "stream",
     "text": [
      "  Train => MSE=0.3745, CI=0.8244, Pearson=0.7050\n",
      "  Test  => MSE=0.4412, CI=0.8229, Pearson=0.6624\n",
      "Checkpoint saved at epoch 62\n",
      "Deleted previous checkpoint: /kaggle/working/TrainingModel1/model_epoch61.pt\n"
     ]
    },
    {
     "name": "stderr",
     "output_type": "stream",
     "text": [
      "Training:  25%|██▍       | 62/250 [2:04:36<6:16:47, 120.25s/epoch]"
     ]
    },
    {
     "name": "stdout",
     "output_type": "stream",
     "text": [
      "[Epoch 63/250] Training Loss: 0.4383\n"
     ]
    },
    {
     "name": "stderr",
     "output_type": "stream",
     "text": [
      "Training:  25%|██▌       | 63/250 [2:05:48<6:14:58, 120.31s/epoch]"
     ]
    },
    {
     "name": "stdout",
     "output_type": "stream",
     "text": [
      "  Train => MSE=0.3813, CI=0.8245, Pearson=0.7043\n",
      "  Test  => MSE=0.4462, CI=0.8197, Pearson=0.6680\n",
      "Checkpoint saved at epoch 63\n",
      "Deleted previous checkpoint: /kaggle/working/TrainingModel1/model_epoch62.pt\n"
     ]
    },
    {
     "name": "stderr",
     "output_type": "stream",
     "text": [
      "Training:  25%|██▌       | 63/250 [2:06:37<6:14:58, 120.31s/epoch]"
     ]
    },
    {
     "name": "stdout",
     "output_type": "stream",
     "text": [
      "[Epoch 64/250] Training Loss: 0.4349\n"
     ]
    },
    {
     "name": "stderr",
     "output_type": "stream",
     "text": [
      "Training:  26%|██▌       | 64/250 [2:07:49<6:13:53, 120.61s/epoch]"
     ]
    },
    {
     "name": "stdout",
     "output_type": "stream",
     "text": [
      "  Train => MSE=0.3705, CI=0.8259, Pearson=0.7125\n",
      "  Test  => MSE=0.4350, CI=0.8216, Pearson=0.6757\n",
      "Checkpoint saved at epoch 64\n",
      "Deleted previous checkpoint: /kaggle/working/TrainingModel1/model_epoch63.pt\n"
     ]
    },
    {
     "name": "stderr",
     "output_type": "stream",
     "text": [
      "Training:  26%|██▌       | 64/250 [2:08:40<6:13:53, 120.61s/epoch]"
     ]
    },
    {
     "name": "stdout",
     "output_type": "stream",
     "text": [
      "[Epoch 65/250] Training Loss: 0.4194\n"
     ]
    },
    {
     "name": "stderr",
     "output_type": "stream",
     "text": [
      "Training:  26%|██▌       | 65/250 [2:09:52<6:13:39, 121.19s/epoch]"
     ]
    },
    {
     "name": "stdout",
     "output_type": "stream",
     "text": [
      "  Train => MSE=0.3591, CI=0.8279, Pearson=0.7164\n",
      "  Test  => MSE=0.4218, CI=0.8258, Pearson=0.6795\n",
      "Checkpoint saved at epoch 65\n",
      "Deleted previous checkpoint: /kaggle/working/TrainingModel1/model_epoch64.pt\n"
     ]
    },
    {
     "name": "stderr",
     "output_type": "stream",
     "text": [
      "Training:  26%|██▌       | 65/250 [2:10:42<6:13:39, 121.19s/epoch]"
     ]
    },
    {
     "name": "stdout",
     "output_type": "stream",
     "text": [
      "[Epoch 66/250] Training Loss: 0.4194\n"
     ]
    },
    {
     "name": "stderr",
     "output_type": "stream",
     "text": [
      "Training:  26%|██▋       | 66/250 [2:11:54<6:12:40, 121.53s/epoch]"
     ]
    },
    {
     "name": "stdout",
     "output_type": "stream",
     "text": [
      "  Train => MSE=0.3829, CI=0.8291, Pearson=0.7120\n",
      "  Test  => MSE=0.4458, CI=0.8237, Pearson=0.6779\n",
      "Checkpoint saved at epoch 66\n",
      "Deleted previous checkpoint: /kaggle/working/TrainingModel1/model_epoch65.pt\n"
     ]
    },
    {
     "name": "stderr",
     "output_type": "stream",
     "text": [
      "Training:  26%|██▋       | 66/250 [2:12:44<6:12:40, 121.53s/epoch]"
     ]
    },
    {
     "name": "stdout",
     "output_type": "stream",
     "text": [
      "[Epoch 67/250] Training Loss: 0.4149\n"
     ]
    },
    {
     "name": "stderr",
     "output_type": "stream",
     "text": [
      "Training:  27%|██▋       | 67/250 [2:13:55<6:10:11, 121.37s/epoch]"
     ]
    },
    {
     "name": "stdout",
     "output_type": "stream",
     "text": [
      "  Train => MSE=0.3610, CI=0.8293, Pearson=0.7195\n",
      "  Test  => MSE=0.4249, CI=0.8288, Pearson=0.6841\n",
      "Checkpoint saved at epoch 67\n",
      "Deleted previous checkpoint: /kaggle/working/TrainingModel1/model_epoch66.pt\n"
     ]
    },
    {
     "name": "stderr",
     "output_type": "stream",
     "text": [
      "Training:  27%|██▋       | 67/250 [2:14:43<6:10:11, 121.37s/epoch]"
     ]
    },
    {
     "name": "stdout",
     "output_type": "stream",
     "text": [
      "[Epoch 68/250] Training Loss: 0.4156\n"
     ]
    },
    {
     "name": "stderr",
     "output_type": "stream",
     "text": [
      "Training:  27%|██▋       | 67/250 [2:15:54<6:10:11, 121.37s/epoch]"
     ]
    },
    {
     "name": "stdout",
     "output_type": "stream",
     "text": [
      "  Train => MSE=0.3784, CI=0.8268, Pearson=0.7172\n",
      "  Test  => MSE=0.4461, CI=0.8237, Pearson=0.6786\n"
     ]
    },
    {
     "name": "stderr",
     "output_type": "stream",
     "text": [
      "Training:  27%|██▋       | 68/250 [2:15:54<6:05:56, 120.64s/epoch]"
     ]
    },
    {
     "name": "stdout",
     "output_type": "stream",
     "text": [
      "Checkpoint saved at epoch 68\n",
      "Deleted previous checkpoint: /kaggle/working/TrainingModel1/model_epoch67.pt\n"
     ]
    },
    {
     "name": "stderr",
     "output_type": "stream",
     "text": [
      "Training:  27%|██▋       | 68/250 [2:16:42<6:05:56, 120.64s/epoch]"
     ]
    },
    {
     "name": "stdout",
     "output_type": "stream",
     "text": [
      "[Epoch 69/250] Training Loss: 0.4184\n"
     ]
    },
    {
     "name": "stderr",
     "output_type": "stream",
     "text": [
      "Training:  28%|██▊       | 69/250 [2:17:53<6:02:42, 120.24s/epoch]"
     ]
    },
    {
     "name": "stdout",
     "output_type": "stream",
     "text": [
      "  Train => MSE=0.3609, CI=0.8200, Pearson=0.7212\n",
      "  Test  => MSE=0.4259, CI=0.8197, Pearson=0.6839\n",
      "Checkpoint saved at epoch 69\n",
      "Deleted previous checkpoint: /kaggle/working/TrainingModel1/model_epoch68.pt\n"
     ]
    },
    {
     "name": "stderr",
     "output_type": "stream",
     "text": [
      "Training:  28%|██▊       | 69/250 [2:18:41<6:02:42, 120.24s/epoch]"
     ]
    },
    {
     "name": "stdout",
     "output_type": "stream",
     "text": [
      "[Epoch 70/250] Training Loss: 0.4132\n"
     ]
    },
    {
     "name": "stderr",
     "output_type": "stream",
     "text": [
      "Training:  28%|██▊       | 70/250 [2:19:53<5:59:47, 119.93s/epoch]"
     ]
    },
    {
     "name": "stdout",
     "output_type": "stream",
     "text": [
      "  Train => MSE=0.3364, CI=0.8344, Pearson=0.7415\n",
      "  Test  => MSE=0.3968, CI=0.8283, Pearson=0.7046\n",
      "Checkpoint saved at epoch 70\n",
      "Deleted previous checkpoint: /kaggle/working/TrainingModel1/model_epoch69.pt\n"
     ]
    },
    {
     "name": "stderr",
     "output_type": "stream",
     "text": [
      "Training:  28%|██▊       | 70/250 [2:20:40<5:59:47, 119.93s/epoch]"
     ]
    },
    {
     "name": "stdout",
     "output_type": "stream",
     "text": [
      "[Epoch 71/250] Training Loss: 0.4159\n"
     ]
    },
    {
     "name": "stderr",
     "output_type": "stream",
     "text": [
      "Training:  28%|██▊       | 71/250 [2:21:51<5:56:30, 119.50s/epoch]"
     ]
    },
    {
     "name": "stdout",
     "output_type": "stream",
     "text": [
      "  Train => MSE=0.3351, CI=0.8325, Pearson=0.7394\n",
      "  Test  => MSE=0.3923, CI=0.8281, Pearson=0.7069\n",
      "Checkpoint saved at epoch 71\n",
      "Deleted previous checkpoint: /kaggle/working/TrainingModel1/model_epoch70.pt\n"
     ]
    },
    {
     "name": "stderr",
     "output_type": "stream",
     "text": [
      "Training:  28%|██▊       | 71/250 [2:22:39<5:56:30, 119.50s/epoch]"
     ]
    },
    {
     "name": "stdout",
     "output_type": "stream",
     "text": [
      "[Epoch 72/250] Training Loss: 0.4081\n"
     ]
    },
    {
     "name": "stderr",
     "output_type": "stream",
     "text": [
      "Training:  29%|██▉       | 72/250 [2:23:51<5:54:28, 119.48s/epoch]"
     ]
    },
    {
     "name": "stdout",
     "output_type": "stream",
     "text": [
      "  Train => MSE=0.3364, CI=0.8364, Pearson=0.7437\n",
      "  Test  => MSE=0.3890, CI=0.8332, Pearson=0.7130\n",
      "Checkpoint saved at epoch 72\n",
      "Deleted previous checkpoint: /kaggle/working/TrainingModel1/model_epoch71.pt\n"
     ]
    },
    {
     "name": "stderr",
     "output_type": "stream",
     "text": [
      "Training:  29%|██▉       | 72/250 [2:24:38<5:54:28, 119.48s/epoch]"
     ]
    },
    {
     "name": "stdout",
     "output_type": "stream",
     "text": [
      "[Epoch 73/250] Training Loss: 0.4154\n"
     ]
    },
    {
     "name": "stderr",
     "output_type": "stream",
     "text": [
      "Training:  29%|██▉       | 73/250 [2:25:49<5:51:46, 119.24s/epoch]"
     ]
    },
    {
     "name": "stdout",
     "output_type": "stream",
     "text": [
      "  Train => MSE=0.3651, CI=0.8288, Pearson=0.7275\n",
      "  Test  => MSE=0.4221, CI=0.8200, Pearson=0.6902\n",
      "Checkpoint saved at epoch 73\n",
      "Deleted previous checkpoint: /kaggle/working/TrainingModel1/model_epoch72.pt\n"
     ]
    },
    {
     "name": "stderr",
     "output_type": "stream",
     "text": [
      "Training:  29%|██▉       | 73/250 [2:26:37<5:51:46, 119.24s/epoch]"
     ]
    },
    {
     "name": "stdout",
     "output_type": "stream",
     "text": [
      "[Epoch 74/250] Training Loss: 0.4078\n"
     ]
    },
    {
     "name": "stderr",
     "output_type": "stream",
     "text": [
      "Training:  30%|██▉       | 74/250 [2:27:48<5:49:16, 119.07s/epoch]"
     ]
    },
    {
     "name": "stdout",
     "output_type": "stream",
     "text": [
      "  Train => MSE=0.3415, CI=0.8304, Pearson=0.7357\n",
      "  Test  => MSE=0.4032, CI=0.8239, Pearson=0.7009\n",
      "Checkpoint saved at epoch 74\n",
      "Deleted previous checkpoint: /kaggle/working/TrainingModel1/model_epoch73.pt\n"
     ]
    },
    {
     "name": "stderr",
     "output_type": "stream",
     "text": [
      "Training:  30%|██▉       | 74/250 [2:28:36<5:49:16, 119.07s/epoch]"
     ]
    },
    {
     "name": "stdout",
     "output_type": "stream",
     "text": [
      "[Epoch 75/250] Training Loss: 0.3985\n"
     ]
    },
    {
     "name": "stderr",
     "output_type": "stream",
     "text": [
      "Training:  30%|███       | 75/250 [2:29:47<5:47:17, 119.07s/epoch]"
     ]
    },
    {
     "name": "stdout",
     "output_type": "stream",
     "text": [
      "  Train => MSE=0.3298, CI=0.8357, Pearson=0.7478\n",
      "  Test  => MSE=0.3899, CI=0.8313, Pearson=0.7153\n",
      "Checkpoint saved at epoch 75\n",
      "Deleted previous checkpoint: /kaggle/working/TrainingModel1/model_epoch74.pt\n"
     ]
    },
    {
     "name": "stderr",
     "output_type": "stream",
     "text": [
      "Training:  30%|███       | 75/250 [2:30:35<5:47:17, 119.07s/epoch]"
     ]
    },
    {
     "name": "stdout",
     "output_type": "stream",
     "text": [
      "[Epoch 76/250] Training Loss: 0.3925\n"
     ]
    },
    {
     "name": "stderr",
     "output_type": "stream",
     "text": [
      "Training:  30%|███       | 76/250 [2:31:46<5:45:24, 119.11s/epoch]"
     ]
    },
    {
     "name": "stdout",
     "output_type": "stream",
     "text": [
      "  Train => MSE=0.3360, CI=0.8371, Pearson=0.7423\n",
      "  Test  => MSE=0.4001, CI=0.8293, Pearson=0.7050\n",
      "Checkpoint saved at epoch 76\n",
      "Deleted previous checkpoint: /kaggle/working/TrainingModel1/model_epoch75.pt\n"
     ]
    },
    {
     "name": "stderr",
     "output_type": "stream",
     "text": [
      "Training:  30%|███       | 76/250 [2:32:34<5:45:24, 119.11s/epoch]"
     ]
    },
    {
     "name": "stdout",
     "output_type": "stream",
     "text": [
      "[Epoch 77/250] Training Loss: 0.4056\n"
     ]
    },
    {
     "name": "stderr",
     "output_type": "stream",
     "text": [
      "Training:  31%|███       | 77/250 [2:33:45<5:43:14, 119.04s/epoch]"
     ]
    },
    {
     "name": "stdout",
     "output_type": "stream",
     "text": [
      "  Train => MSE=0.3406, CI=0.8320, Pearson=0.7377\n",
      "  Test  => MSE=0.4074, CI=0.8187, Pearson=0.6966\n",
      "Checkpoint saved at epoch 77\n",
      "Deleted previous checkpoint: /kaggle/working/TrainingModel1/model_epoch76.pt\n"
     ]
    },
    {
     "name": "stderr",
     "output_type": "stream",
     "text": [
      "Training:  31%|███       | 77/250 [2:34:34<5:43:14, 119.04s/epoch]"
     ]
    },
    {
     "name": "stdout",
     "output_type": "stream",
     "text": [
      "[Epoch 78/250] Training Loss: 0.3965\n"
     ]
    },
    {
     "name": "stderr",
     "output_type": "stream",
     "text": [
      "Training:  31%|███       | 78/250 [2:35:45<5:41:54, 119.27s/epoch]"
     ]
    },
    {
     "name": "stdout",
     "output_type": "stream",
     "text": [
      "  Train => MSE=0.3376, CI=0.8316, Pearson=0.7375\n",
      "  Test  => MSE=0.4029, CI=0.8221, Pearson=0.6968\n",
      "Checkpoint saved at epoch 78\n",
      "Deleted previous checkpoint: /kaggle/working/TrainingModel1/model_epoch77.pt\n"
     ]
    },
    {
     "name": "stderr",
     "output_type": "stream",
     "text": [
      "Training:  31%|███       | 78/250 [2:36:34<5:41:54, 119.27s/epoch]"
     ]
    },
    {
     "name": "stdout",
     "output_type": "stream",
     "text": [
      "[Epoch 79/250] Training Loss: 0.4005\n"
     ]
    },
    {
     "name": "stderr",
     "output_type": "stream",
     "text": [
      "Training:  32%|███▏      | 79/250 [2:37:45<5:40:21, 119.42s/epoch]"
     ]
    },
    {
     "name": "stdout",
     "output_type": "stream",
     "text": [
      "  Train => MSE=0.3301, CI=0.8346, Pearson=0.7439\n",
      "  Test  => MSE=0.3948, CI=0.8255, Pearson=0.7040\n",
      "Checkpoint saved at epoch 79\n",
      "Deleted previous checkpoint: /kaggle/working/TrainingModel1/model_epoch78.pt\n"
     ]
    },
    {
     "name": "stderr",
     "output_type": "stream",
     "text": [
      "Training:  32%|███▏      | 79/250 [2:38:32<5:40:21, 119.42s/epoch]"
     ]
    },
    {
     "name": "stdout",
     "output_type": "stream",
     "text": [
      "[Epoch 80/250] Training Loss: 0.4000\n"
     ]
    },
    {
     "name": "stderr",
     "output_type": "stream",
     "text": [
      "Training:  32%|███▏      | 80/250 [2:39:43<5:37:30, 119.12s/epoch]"
     ]
    },
    {
     "name": "stdout",
     "output_type": "stream",
     "text": [
      "  Train => MSE=0.3193, CI=0.8369, Pearson=0.7546\n",
      "  Test  => MSE=0.3952, CI=0.8270, Pearson=0.7046\n",
      "Checkpoint saved at epoch 80\n",
      "Deleted previous checkpoint: /kaggle/working/TrainingModel1/model_epoch79.pt\n"
     ]
    },
    {
     "name": "stderr",
     "output_type": "stream",
     "text": [
      "Training:  32%|███▏      | 80/250 [2:40:31<5:37:30, 119.12s/epoch]"
     ]
    },
    {
     "name": "stdout",
     "output_type": "stream",
     "text": [
      "[Epoch 81/250] Training Loss: 0.3926\n"
     ]
    },
    {
     "name": "stderr",
     "output_type": "stream",
     "text": [
      "Training:  32%|███▏      | 80/250 [2:41:42<5:37:30, 119.12s/epoch]"
     ]
    },
    {
     "name": "stdout",
     "output_type": "stream",
     "text": [
      "  Train => MSE=0.3431, CI=0.8346, Pearson=0.7333\n",
      "  Test  => MSE=0.4049, CI=0.8245, Pearson=0.6980\n"
     ]
    },
    {
     "name": "stderr",
     "output_type": "stream",
     "text": [
      "Training:  32%|███▏      | 81/250 [2:41:43<5:35:58, 119.28s/epoch]"
     ]
    },
    {
     "name": "stdout",
     "output_type": "stream",
     "text": [
      "Checkpoint saved at epoch 81\n",
      "Deleted previous checkpoint: /kaggle/working/TrainingModel1/model_epoch80.pt\n"
     ]
    },
    {
     "name": "stderr",
     "output_type": "stream",
     "text": [
      "Training:  32%|███▏      | 81/250 [2:42:31<5:35:58, 119.28s/epoch]"
     ]
    },
    {
     "name": "stdout",
     "output_type": "stream",
     "text": [
      "[Epoch 82/250] Training Loss: 0.3941\n"
     ]
    },
    {
     "name": "stderr",
     "output_type": "stream",
     "text": [
      "Training:  33%|███▎      | 82/250 [2:43:42<5:33:41, 119.18s/epoch]"
     ]
    },
    {
     "name": "stdout",
     "output_type": "stream",
     "text": [
      "  Train => MSE=0.3550, CI=0.8310, Pearson=0.7443\n",
      "  Test  => MSE=0.4094, CI=0.8257, Pearson=0.7107\n",
      "Checkpoint saved at epoch 82\n",
      "Deleted previous checkpoint: /kaggle/working/TrainingModel1/model_epoch81.pt\n"
     ]
    },
    {
     "name": "stderr",
     "output_type": "stream",
     "text": [
      "Training:  33%|███▎      | 82/250 [2:44:30<5:33:41, 119.18s/epoch]"
     ]
    },
    {
     "name": "stdout",
     "output_type": "stream",
     "text": [
      "[Epoch 83/250] Training Loss: 0.3854\n"
     ]
    },
    {
     "name": "stderr",
     "output_type": "stream",
     "text": [
      "Training:  33%|███▎      | 83/250 [2:45:41<5:31:40, 119.17s/epoch]"
     ]
    },
    {
     "name": "stdout",
     "output_type": "stream",
     "text": [
      "  Train => MSE=0.3159, CI=0.8426, Pearson=0.7560\n",
      "  Test  => MSE=0.3808, CI=0.8335, Pearson=0.7162\n",
      "Checkpoint saved at epoch 83\n",
      "Deleted previous checkpoint: /kaggle/working/TrainingModel1/model_epoch82.pt\n"
     ]
    },
    {
     "name": "stderr",
     "output_type": "stream",
     "text": [
      "Training:  33%|███▎      | 83/250 [2:46:28<5:31:40, 119.17s/epoch]"
     ]
    },
    {
     "name": "stdout",
     "output_type": "stream",
     "text": [
      "[Epoch 84/250] Training Loss: 0.4014\n"
     ]
    },
    {
     "name": "stderr",
     "output_type": "stream",
     "text": [
      "Training:  34%|███▎      | 84/250 [2:47:39<5:29:09, 118.97s/epoch]"
     ]
    },
    {
     "name": "stdout",
     "output_type": "stream",
     "text": [
      "  Train => MSE=0.3146, CI=0.8410, Pearson=0.7595\n",
      "  Test  => MSE=0.3744, CI=0.8310, Pearson=0.7236\n",
      "Checkpoint saved at epoch 84\n",
      "Deleted previous checkpoint: /kaggle/working/TrainingModel1/model_epoch83.pt\n"
     ]
    },
    {
     "name": "stderr",
     "output_type": "stream",
     "text": [
      "Training:  34%|███▎      | 84/250 [2:48:27<5:29:09, 118.97s/epoch]"
     ]
    },
    {
     "name": "stdout",
     "output_type": "stream",
     "text": [
      "[Epoch 85/250] Training Loss: 0.3930\n"
     ]
    },
    {
     "name": "stderr",
     "output_type": "stream",
     "text": [
      "Training:  34%|███▍      | 85/250 [2:49:38<5:27:18, 119.02s/epoch]"
     ]
    },
    {
     "name": "stdout",
     "output_type": "stream",
     "text": [
      "  Train => MSE=0.3125, CI=0.8386, Pearson=0.7621\n",
      "  Test  => MSE=0.3760, CI=0.8335, Pearson=0.7247\n",
      "Checkpoint saved at epoch 85\n",
      "Deleted previous checkpoint: /kaggle/working/TrainingModel1/model_epoch84.pt\n"
     ]
    },
    {
     "name": "stderr",
     "output_type": "stream",
     "text": [
      "Training:  34%|███▍      | 85/250 [2:50:28<5:27:18, 119.02s/epoch]"
     ]
    },
    {
     "name": "stdout",
     "output_type": "stream",
     "text": [
      "[Epoch 86/250] Training Loss: 0.3886\n"
     ]
    },
    {
     "name": "stderr",
     "output_type": "stream",
     "text": [
      "Training:  34%|███▍      | 86/250 [2:51:39<5:26:31, 119.46s/epoch]"
     ]
    },
    {
     "name": "stdout",
     "output_type": "stream",
     "text": [
      "  Train => MSE=0.3139, CI=0.8376, Pearson=0.7597\n",
      "  Test  => MSE=0.3725, CI=0.8328, Pearson=0.7248\n",
      "Checkpoint saved at epoch 86\n",
      "Deleted previous checkpoint: /kaggle/working/TrainingModel1/model_epoch85.pt\n"
     ]
    },
    {
     "name": "stderr",
     "output_type": "stream",
     "text": [
      "Training:  34%|███▍      | 86/250 [2:52:26<5:26:31, 119.46s/epoch]"
     ]
    },
    {
     "name": "stdout",
     "output_type": "stream",
     "text": [
      "[Epoch 87/250] Training Loss: 0.3903\n"
     ]
    },
    {
     "name": "stderr",
     "output_type": "stream",
     "text": [
      "Training:  35%|███▍      | 87/250 [2:53:37<5:23:33, 119.10s/epoch]"
     ]
    },
    {
     "name": "stdout",
     "output_type": "stream",
     "text": [
      "  Train => MSE=0.3138, CI=0.8423, Pearson=0.7581\n",
      "  Test  => MSE=0.3755, CI=0.8334, Pearson=0.7211\n",
      "Checkpoint saved at epoch 87\n",
      "Deleted previous checkpoint: /kaggle/working/TrainingModel1/model_epoch86.pt\n"
     ]
    },
    {
     "name": "stderr",
     "output_type": "stream",
     "text": [
      "Training:  35%|███▍      | 87/250 [2:54:25<5:23:33, 119.10s/epoch]"
     ]
    },
    {
     "name": "stdout",
     "output_type": "stream",
     "text": [
      "[Epoch 88/250] Training Loss: 0.3894\n"
     ]
    },
    {
     "name": "stderr",
     "output_type": "stream",
     "text": [
      "Training:  35%|███▌      | 88/250 [2:55:36<5:21:43, 119.15s/epoch]"
     ]
    },
    {
     "name": "stdout",
     "output_type": "stream",
     "text": [
      "  Train => MSE=0.3208, CI=0.8409, Pearson=0.7578\n",
      "  Test  => MSE=0.3820, CI=0.8353, Pearson=0.7240\n",
      "Checkpoint saved at epoch 88\n",
      "Deleted previous checkpoint: /kaggle/working/TrainingModel1/model_epoch87.pt\n"
     ]
    },
    {
     "name": "stderr",
     "output_type": "stream",
     "text": [
      "Training:  35%|███▌      | 88/250 [2:56:24<5:21:43, 119.15s/epoch]"
     ]
    },
    {
     "name": "stdout",
     "output_type": "stream",
     "text": [
      "[Epoch 89/250] Training Loss: 0.3917\n"
     ]
    },
    {
     "name": "stderr",
     "output_type": "stream",
     "text": [
      "Training:  36%|███▌      | 89/250 [2:57:35<5:19:34, 119.10s/epoch]"
     ]
    },
    {
     "name": "stdout",
     "output_type": "stream",
     "text": [
      "  Train => MSE=0.3118, CI=0.8412, Pearson=0.7621\n",
      "  Test  => MSE=0.3826, CI=0.8309, Pearson=0.7189\n",
      "Checkpoint saved at epoch 89\n",
      "Deleted previous checkpoint: /kaggle/working/TrainingModel1/model_epoch88.pt\n"
     ]
    },
    {
     "name": "stderr",
     "output_type": "stream",
     "text": [
      "Training:  36%|███▌      | 89/250 [2:58:24<5:19:34, 119.10s/epoch]"
     ]
    },
    {
     "name": "stdout",
     "output_type": "stream",
     "text": [
      "[Epoch 90/250] Training Loss: 0.3847\n"
     ]
    },
    {
     "name": "stderr",
     "output_type": "stream",
     "text": [
      "Training:  36%|███▌      | 90/250 [2:59:36<5:18:24, 119.40s/epoch]"
     ]
    },
    {
     "name": "stdout",
     "output_type": "stream",
     "text": [
      "  Train => MSE=0.3419, CI=0.8400, Pearson=0.7601\n",
      "  Test  => MSE=0.4092, CI=0.8302, Pearson=0.7177\n",
      "Checkpoint saved at epoch 90\n",
      "Deleted previous checkpoint: /kaggle/working/TrainingModel1/model_epoch89.pt\n"
     ]
    },
    {
     "name": "stderr",
     "output_type": "stream",
     "text": [
      "Training:  36%|███▌      | 90/250 [3:00:23<5:18:24, 119.40s/epoch]"
     ]
    },
    {
     "name": "stdout",
     "output_type": "stream",
     "text": [
      "[Epoch 91/250] Training Loss: 0.3903\n"
     ]
    },
    {
     "name": "stderr",
     "output_type": "stream",
     "text": [
      "Training:  36%|███▋      | 91/250 [3:01:34<5:15:40, 119.12s/epoch]"
     ]
    },
    {
     "name": "stdout",
     "output_type": "stream",
     "text": [
      "  Train => MSE=0.3117, CI=0.8373, Pearson=0.7618\n",
      "  Test  => MSE=0.3730, CI=0.8290, Pearson=0.7250\n",
      "Checkpoint saved at epoch 91\n",
      "Deleted previous checkpoint: /kaggle/working/TrainingModel1/model_epoch90.pt\n"
     ]
    },
    {
     "name": "stderr",
     "output_type": "stream",
     "text": [
      "Training:  36%|███▋      | 91/250 [3:02:22<5:15:40, 119.12s/epoch]"
     ]
    },
    {
     "name": "stdout",
     "output_type": "stream",
     "text": [
      "[Epoch 92/250] Training Loss: 0.3885\n"
     ]
    },
    {
     "name": "stderr",
     "output_type": "stream",
     "text": [
      "Training:  37%|███▋      | 92/250 [3:03:34<5:14:14, 119.33s/epoch]"
     ]
    },
    {
     "name": "stdout",
     "output_type": "stream",
     "text": [
      "  Train => MSE=0.3284, CI=0.8364, Pearson=0.7602\n",
      "  Test  => MSE=0.3818, CI=0.8304, Pearson=0.7276\n",
      "Checkpoint saved at epoch 92\n",
      "Deleted previous checkpoint: /kaggle/working/TrainingModel1/model_epoch91.pt\n"
     ]
    },
    {
     "name": "stderr",
     "output_type": "stream",
     "text": [
      "Training:  37%|███▋      | 92/250 [3:04:22<5:14:14, 119.33s/epoch]"
     ]
    },
    {
     "name": "stdout",
     "output_type": "stream",
     "text": [
      "[Epoch 93/250] Training Loss: 0.3809\n"
     ]
    },
    {
     "name": "stderr",
     "output_type": "stream",
     "text": [
      "Training:  37%|███▋      | 93/250 [3:05:33<5:12:09, 119.29s/epoch]"
     ]
    },
    {
     "name": "stdout",
     "output_type": "stream",
     "text": [
      "  Train => MSE=0.3272, CI=0.8369, Pearson=0.7501\n",
      "  Test  => MSE=0.3914, CI=0.8310, Pearson=0.7092\n",
      "Checkpoint saved at epoch 93\n",
      "Deleted previous checkpoint: /kaggle/working/TrainingModel1/model_epoch92.pt\n"
     ]
    },
    {
     "name": "stderr",
     "output_type": "stream",
     "text": [
      "Training:  37%|███▋      | 93/250 [3:06:21<5:12:09, 119.29s/epoch]"
     ]
    },
    {
     "name": "stdout",
     "output_type": "stream",
     "text": [
      "[Epoch 94/250] Training Loss: 0.3880\n"
     ]
    },
    {
     "name": "stderr",
     "output_type": "stream",
     "text": [
      "Training:  37%|███▋      | 93/250 [3:07:33<5:12:09, 119.29s/epoch]"
     ]
    },
    {
     "name": "stdout",
     "output_type": "stream",
     "text": [
      "  Train => MSE=0.3096, CI=0.8412, Pearson=0.7643\n",
      "  Test  => MSE=0.3763, CI=0.8318, Pearson=0.7224\n"
     ]
    },
    {
     "name": "stderr",
     "output_type": "stream",
     "text": [
      "Training:  38%|███▊      | 94/250 [3:07:33<5:10:29, 119.42s/epoch]"
     ]
    },
    {
     "name": "stdout",
     "output_type": "stream",
     "text": [
      "Checkpoint saved at epoch 94\n",
      "Deleted previous checkpoint: /kaggle/working/TrainingModel1/model_epoch93.pt\n"
     ]
    },
    {
     "name": "stderr",
     "output_type": "stream",
     "text": [
      "Training:  38%|███▊      | 94/250 [3:08:21<5:10:29, 119.42s/epoch]"
     ]
    },
    {
     "name": "stdout",
     "output_type": "stream",
     "text": [
      "[Epoch 95/250] Training Loss: 0.3788\n"
     ]
    },
    {
     "name": "stderr",
     "output_type": "stream",
     "text": [
      "Training:  38%|███▊      | 95/250 [3:09:32<5:08:39, 119.48s/epoch]"
     ]
    },
    {
     "name": "stdout",
     "output_type": "stream",
     "text": [
      "  Train => MSE=0.3419, CI=0.8339, Pearson=0.7391\n",
      "  Test  => MSE=0.4104, CI=0.8239, Pearson=0.6987\n",
      "Checkpoint saved at epoch 95\n",
      "Deleted previous checkpoint: /kaggle/working/TrainingModel1/model_epoch94.pt\n"
     ]
    },
    {
     "name": "stderr",
     "output_type": "stream",
     "text": [
      "Training:  38%|███▊      | 95/250 [3:10:21<5:08:39, 119.48s/epoch]"
     ]
    },
    {
     "name": "stdout",
     "output_type": "stream",
     "text": [
      "[Epoch 96/250] Training Loss: 0.3785\n"
     ]
    },
    {
     "name": "stderr",
     "output_type": "stream",
     "text": [
      "Training:  38%|███▊      | 96/250 [3:11:32<5:06:31, 119.43s/epoch]"
     ]
    },
    {
     "name": "stdout",
     "output_type": "stream",
     "text": [
      "  Train => MSE=0.3130, CI=0.8404, Pearson=0.7617\n",
      "  Test  => MSE=0.3745, CI=0.8332, Pearson=0.7256\n",
      "Checkpoint saved at epoch 96\n",
      "Deleted previous checkpoint: /kaggle/working/TrainingModel1/model_epoch95.pt\n"
     ]
    },
    {
     "name": "stderr",
     "output_type": "stream",
     "text": [
      "Training:  38%|███▊      | 96/250 [3:12:19<5:06:31, 119.43s/epoch]"
     ]
    },
    {
     "name": "stdout",
     "output_type": "stream",
     "text": [
      "[Epoch 97/250] Training Loss: 0.3819\n"
     ]
    },
    {
     "name": "stderr",
     "output_type": "stream",
     "text": [
      "Training:  39%|███▉      | 97/250 [3:13:31<5:04:36, 119.45s/epoch]"
     ]
    },
    {
     "name": "stdout",
     "output_type": "stream",
     "text": [
      "  Train => MSE=0.3159, CI=0.8358, Pearson=0.7563\n",
      "  Test  => MSE=0.3760, CI=0.8267, Pearson=0.7212\n",
      "Checkpoint saved at epoch 97\n",
      "Deleted previous checkpoint: /kaggle/working/TrainingModel1/model_epoch96.pt\n"
     ]
    },
    {
     "name": "stderr",
     "output_type": "stream",
     "text": [
      "Training:  39%|███▉      | 97/250 [3:14:20<5:04:36, 119.45s/epoch]"
     ]
    },
    {
     "name": "stdout",
     "output_type": "stream",
     "text": [
      "[Epoch 98/250] Training Loss: 0.3708\n"
     ]
    },
    {
     "name": "stderr",
     "output_type": "stream",
     "text": [
      "Training:  39%|███▉      | 98/250 [3:15:32<5:03:31, 119.81s/epoch]"
     ]
    },
    {
     "name": "stdout",
     "output_type": "stream",
     "text": [
      "  Train => MSE=0.3044, CI=0.8437, Pearson=0.7667\n",
      "  Test  => MSE=0.3645, CI=0.8343, Pearson=0.7309\n",
      "Checkpoint saved at epoch 98\n",
      "Deleted previous checkpoint: /kaggle/working/TrainingModel1/model_epoch97.pt\n"
     ]
    },
    {
     "name": "stderr",
     "output_type": "stream",
     "text": [
      "Training:  39%|███▉      | 98/250 [3:16:19<5:03:31, 119.81s/epoch]"
     ]
    },
    {
     "name": "stdout",
     "output_type": "stream",
     "text": [
      "[Epoch 99/250] Training Loss: 0.3809\n"
     ]
    },
    {
     "name": "stderr",
     "output_type": "stream",
     "text": [
      "Training:  40%|███▉      | 99/250 [3:17:30<5:00:17, 119.32s/epoch]"
     ]
    },
    {
     "name": "stdout",
     "output_type": "stream",
     "text": [
      "  Train => MSE=0.3203, CI=0.8414, Pearson=0.7676\n",
      "  Test  => MSE=0.3898, CI=0.8328, Pearson=0.7259\n",
      "Checkpoint saved at epoch 99\n",
      "Deleted previous checkpoint: /kaggle/working/TrainingModel1/model_epoch98.pt\n"
     ]
    },
    {
     "name": "stderr",
     "output_type": "stream",
     "text": [
      "Training:  40%|███▉      | 99/250 [3:18:18<5:00:17, 119.32s/epoch]"
     ]
    },
    {
     "name": "stdout",
     "output_type": "stream",
     "text": [
      "[Epoch 100/250] Training Loss: 0.3721\n"
     ]
    },
    {
     "name": "stderr",
     "output_type": "stream",
     "text": [
      "Training:  40%|████      | 100/250 [3:19:30<4:58:29, 119.40s/epoch]"
     ]
    },
    {
     "name": "stdout",
     "output_type": "stream",
     "text": [
      "  Train => MSE=0.2970, CI=0.8387, Pearson=0.7745\n",
      "  Test  => MSE=0.3688, CI=0.8301, Pearson=0.7285\n",
      "Checkpoint saved at epoch 100\n",
      "Deleted previous checkpoint: /kaggle/working/TrainingModel1/model_epoch99.pt\n"
     ]
    },
    {
     "name": "stderr",
     "output_type": "stream",
     "text": [
      "Training:  40%|████      | 100/250 [3:20:19<4:58:29, 119.40s/epoch]"
     ]
    },
    {
     "name": "stdout",
     "output_type": "stream",
     "text": [
      "[Epoch 101/250] Training Loss: 0.3615\n"
     ]
    },
    {
     "name": "stderr",
     "output_type": "stream",
     "text": [
      "Training:  40%|████      | 101/250 [3:21:30<4:57:14, 119.69s/epoch]"
     ]
    },
    {
     "name": "stdout",
     "output_type": "stream",
     "text": [
      "  Train => MSE=0.3085, CI=0.8451, Pearson=0.7677\n",
      "  Test  => MSE=0.3852, CI=0.8306, Pearson=0.7171\n",
      "Checkpoint saved at epoch 101\n",
      "Deleted previous checkpoint: /kaggle/working/TrainingModel1/model_epoch100.pt\n"
     ]
    },
    {
     "name": "stderr",
     "output_type": "stream",
     "text": [
      "Training:  40%|████      | 101/250 [3:22:18<4:57:14, 119.69s/epoch]"
     ]
    },
    {
     "name": "stdout",
     "output_type": "stream",
     "text": [
      "[Epoch 102/250] Training Loss: 0.3667\n"
     ]
    },
    {
     "name": "stderr",
     "output_type": "stream",
     "text": [
      "Training:  41%|████      | 102/250 [3:23:29<4:55:03, 119.62s/epoch]"
     ]
    },
    {
     "name": "stdout",
     "output_type": "stream",
     "text": [
      "  Train => MSE=0.2963, CI=0.8419, Pearson=0.7737\n",
      "  Test  => MSE=0.3632, CI=0.8321, Pearson=0.7325\n",
      "Checkpoint saved at epoch 102\n",
      "Deleted previous checkpoint: /kaggle/working/TrainingModel1/model_epoch101.pt\n"
     ]
    },
    {
     "name": "stderr",
     "output_type": "stream",
     "text": [
      "Training:  41%|████      | 102/250 [3:24:17<4:55:03, 119.62s/epoch]"
     ]
    },
    {
     "name": "stdout",
     "output_type": "stream",
     "text": [
      "[Epoch 103/250] Training Loss: 0.3759\n"
     ]
    },
    {
     "name": "stderr",
     "output_type": "stream",
     "text": [
      "Training:  41%|████      | 103/250 [3:25:29<4:52:42, 119.47s/epoch]"
     ]
    },
    {
     "name": "stdout",
     "output_type": "stream",
     "text": [
      "  Train => MSE=0.3017, CI=0.8440, Pearson=0.7688\n",
      "  Test  => MSE=0.3728, CI=0.8307, Pearson=0.7239\n",
      "Checkpoint saved at epoch 103\n",
      "Deleted previous checkpoint: /kaggle/working/TrainingModel1/model_epoch102.pt\n"
     ]
    },
    {
     "name": "stderr",
     "output_type": "stream",
     "text": [
      "Training:  41%|████      | 103/250 [3:26:16<4:52:42, 119.47s/epoch]"
     ]
    },
    {
     "name": "stdout",
     "output_type": "stream",
     "text": [
      "[Epoch 104/250] Training Loss: 0.3748\n"
     ]
    },
    {
     "name": "stderr",
     "output_type": "stream",
     "text": [
      "Training:  42%|████▏     | 104/250 [3:27:27<4:49:58, 119.17s/epoch]"
     ]
    },
    {
     "name": "stdout",
     "output_type": "stream",
     "text": [
      "  Train => MSE=0.3219, CI=0.8375, Pearson=0.7570\n",
      "  Test  => MSE=0.3887, CI=0.8237, Pearson=0.7147\n",
      "Checkpoint saved at epoch 104\n",
      "Deleted previous checkpoint: /kaggle/working/TrainingModel1/model_epoch103.pt\n"
     ]
    },
    {
     "name": "stderr",
     "output_type": "stream",
     "text": [
      "Training:  42%|████▏     | 104/250 [3:28:15<4:49:58, 119.17s/epoch]"
     ]
    },
    {
     "name": "stdout",
     "output_type": "stream",
     "text": [
      "[Epoch 105/250] Training Loss: 0.3713\n"
     ]
    },
    {
     "name": "stderr",
     "output_type": "stream",
     "text": [
      "Training:  42%|████▏     | 105/250 [3:29:26<4:47:58, 119.16s/epoch]"
     ]
    },
    {
     "name": "stdout",
     "output_type": "stream",
     "text": [
      "  Train => MSE=0.3060, CI=0.8425, Pearson=0.7656\n",
      "  Test  => MSE=0.3689, CI=0.8345, Pearson=0.7277\n",
      "Checkpoint saved at epoch 105\n",
      "Deleted previous checkpoint: /kaggle/working/TrainingModel1/model_epoch104.pt\n"
     ]
    },
    {
     "name": "stderr",
     "output_type": "stream",
     "text": [
      "Training:  42%|████▏     | 105/250 [3:30:13<4:47:58, 119.16s/epoch]"
     ]
    },
    {
     "name": "stdout",
     "output_type": "stream",
     "text": [
      "[Epoch 106/250] Training Loss: 0.3748\n"
     ]
    },
    {
     "name": "stderr",
     "output_type": "stream",
     "text": [
      "Training:  42%|████▏     | 106/250 [3:31:24<4:44:49, 118.68s/epoch]"
     ]
    },
    {
     "name": "stdout",
     "output_type": "stream",
     "text": [
      "  Train => MSE=0.3023, CI=0.8425, Pearson=0.7737\n",
      "  Test  => MSE=0.3653, CI=0.8260, Pearson=0.7336\n",
      "Checkpoint saved at epoch 106\n",
      "Deleted previous checkpoint: /kaggle/working/TrainingModel1/model_epoch105.pt\n"
     ]
    },
    {
     "name": "stderr",
     "output_type": "stream",
     "text": [
      "Training:  42%|████▏     | 106/250 [3:32:11<4:44:49, 118.68s/epoch]"
     ]
    },
    {
     "name": "stdout",
     "output_type": "stream",
     "text": [
      "[Epoch 107/250] Training Loss: 0.3638\n"
     ]
    },
    {
     "name": "stderr",
     "output_type": "stream",
     "text": [
      "Training:  42%|████▏     | 106/250 [3:33:23<4:44:49, 118.68s/epoch]"
     ]
    },
    {
     "name": "stdout",
     "output_type": "stream",
     "text": [
      "  Train => MSE=0.2987, CI=0.8460, Pearson=0.7758\n",
      "  Test  => MSE=0.3678, CI=0.8326, Pearson=0.7329\n"
     ]
    },
    {
     "name": "stderr",
     "output_type": "stream",
     "text": [
      "Training:  43%|████▎     | 107/250 [3:33:23<4:43:08, 118.80s/epoch]"
     ]
    },
    {
     "name": "stdout",
     "output_type": "stream",
     "text": [
      "Checkpoint saved at epoch 107\n",
      "Deleted previous checkpoint: /kaggle/working/TrainingModel1/model_epoch106.pt\n"
     ]
    },
    {
     "name": "stderr",
     "output_type": "stream",
     "text": [
      "Training:  43%|████▎     | 107/250 [3:34:11<4:43:08, 118.80s/epoch]"
     ]
    },
    {
     "name": "stdout",
     "output_type": "stream",
     "text": [
      "[Epoch 108/250] Training Loss: 0.3571\n"
     ]
    },
    {
     "name": "stderr",
     "output_type": "stream",
     "text": [
      "Training:  43%|████▎     | 108/250 [3:35:22<4:41:35, 118.98s/epoch]"
     ]
    },
    {
     "name": "stdout",
     "output_type": "stream",
     "text": [
      "  Train => MSE=0.2950, CI=0.8455, Pearson=0.7781\n",
      "  Test  => MSE=0.3596, CI=0.8335, Pearson=0.7393\n",
      "Checkpoint saved at epoch 108\n",
      "Deleted previous checkpoint: /kaggle/working/TrainingModel1/model_epoch107.pt\n"
     ]
    },
    {
     "name": "stderr",
     "output_type": "stream",
     "text": [
      "Training:  43%|████▎     | 108/250 [3:36:10<4:41:35, 118.98s/epoch]"
     ]
    },
    {
     "name": "stdout",
     "output_type": "stream",
     "text": [
      "[Epoch 109/250] Training Loss: 0.3578\n"
     ]
    },
    {
     "name": "stderr",
     "output_type": "stream",
     "text": [
      "Training:  44%|████▎     | 109/250 [3:37:21<4:39:22, 118.88s/epoch]"
     ]
    },
    {
     "name": "stdout",
     "output_type": "stream",
     "text": [
      "  Train => MSE=0.2921, CI=0.8487, Pearson=0.7794\n",
      "  Test  => MSE=0.3618, CI=0.8367, Pearson=0.7367\n",
      "Checkpoint saved at epoch 109\n",
      "Deleted previous checkpoint: /kaggle/working/TrainingModel1/model_epoch108.pt\n"
     ]
    },
    {
     "name": "stderr",
     "output_type": "stream",
     "text": [
      "Training:  44%|████▎     | 109/250 [3:38:08<4:39:22, 118.88s/epoch]"
     ]
    },
    {
     "name": "stdout",
     "output_type": "stream",
     "text": [
      "[Epoch 110/250] Training Loss: 0.3689\n"
     ]
    },
    {
     "name": "stderr",
     "output_type": "stream",
     "text": [
      "Training:  44%|████▍     | 110/250 [3:39:19<4:36:52, 118.66s/epoch]"
     ]
    },
    {
     "name": "stdout",
     "output_type": "stream",
     "text": [
      "  Train => MSE=0.2865, CI=0.8479, Pearson=0.7827\n",
      "  Test  => MSE=0.3569, CI=0.8328, Pearson=0.7375\n",
      "Checkpoint saved at epoch 110\n",
      "Deleted previous checkpoint: /kaggle/working/TrainingModel1/model_epoch109.pt\n"
     ]
    },
    {
     "name": "stderr",
     "output_type": "stream",
     "text": [
      "Training:  44%|████▍     | 110/250 [3:40:08<4:36:52, 118.66s/epoch]"
     ]
    },
    {
     "name": "stdout",
     "output_type": "stream",
     "text": [
      "[Epoch 111/250] Training Loss: 0.3627\n"
     ]
    },
    {
     "name": "stderr",
     "output_type": "stream",
     "text": [
      "Training:  44%|████▍     | 111/250 [3:41:19<4:35:52, 119.08s/epoch]"
     ]
    },
    {
     "name": "stdout",
     "output_type": "stream",
     "text": [
      "  Train => MSE=0.2906, CI=0.8490, Pearson=0.7788\n",
      "  Test  => MSE=0.3548, CI=0.8372, Pearson=0.7400\n",
      "Checkpoint saved at epoch 111\n",
      "Deleted previous checkpoint: /kaggle/working/TrainingModel1/model_epoch110.pt\n"
     ]
    },
    {
     "name": "stderr",
     "output_type": "stream",
     "text": [
      "Training:  44%|████▍     | 111/250 [3:42:06<4:35:52, 119.08s/epoch]"
     ]
    },
    {
     "name": "stdout",
     "output_type": "stream",
     "text": [
      "[Epoch 112/250] Training Loss: 0.3617\n"
     ]
    },
    {
     "name": "stderr",
     "output_type": "stream",
     "text": [
      "Training:  45%|████▍     | 112/250 [3:43:17<4:33:21, 118.85s/epoch]"
     ]
    },
    {
     "name": "stdout",
     "output_type": "stream",
     "text": [
      "  Train => MSE=0.3205, CI=0.8419, Pearson=0.7641\n",
      "  Test  => MSE=0.3967, CI=0.8280, Pearson=0.7120\n",
      "Checkpoint saved at epoch 112\n",
      "Deleted previous checkpoint: /kaggle/working/TrainingModel1/model_epoch111.pt\n"
     ]
    },
    {
     "name": "stderr",
     "output_type": "stream",
     "text": [
      "Training:  45%|████▍     | 112/250 [3:44:05<4:33:21, 118.85s/epoch]"
     ]
    },
    {
     "name": "stdout",
     "output_type": "stream",
     "text": [
      "[Epoch 113/250] Training Loss: 0.3649\n"
     ]
    },
    {
     "name": "stderr",
     "output_type": "stream",
     "text": [
      "Training:  45%|████▌     | 113/250 [3:45:16<4:31:20, 118.84s/epoch]"
     ]
    },
    {
     "name": "stdout",
     "output_type": "stream",
     "text": [
      "  Train => MSE=0.2829, CI=0.8489, Pearson=0.7867\n",
      "  Test  => MSE=0.3515, CI=0.8375, Pearson=0.7437\n",
      "Checkpoint saved at epoch 113\n",
      "Deleted previous checkpoint: /kaggle/working/TrainingModel1/model_epoch112.pt\n"
     ]
    },
    {
     "name": "stderr",
     "output_type": "stream",
     "text": [
      "Training:  45%|████▌     | 113/250 [3:46:04<4:31:20, 118.84s/epoch]"
     ]
    },
    {
     "name": "stdout",
     "output_type": "stream",
     "text": [
      "[Epoch 114/250] Training Loss: 0.3579\n"
     ]
    },
    {
     "name": "stderr",
     "output_type": "stream",
     "text": [
      "Training:  46%|████▌     | 114/250 [3:47:15<4:29:32, 118.91s/epoch]"
     ]
    },
    {
     "name": "stdout",
     "output_type": "stream",
     "text": [
      "  Train => MSE=0.2955, CI=0.8407, Pearson=0.7772\n",
      "  Test  => MSE=0.3641, CI=0.8305, Pearson=0.7326\n",
      "Checkpoint saved at epoch 114\n",
      "Deleted previous checkpoint: /kaggle/working/TrainingModel1/model_epoch113.pt\n"
     ]
    },
    {
     "name": "stderr",
     "output_type": "stream",
     "text": [
      "Training:  46%|████▌     | 114/250 [3:48:04<4:29:32, 118.91s/epoch]"
     ]
    },
    {
     "name": "stdout",
     "output_type": "stream",
     "text": [
      "[Epoch 115/250] Training Loss: 0.3460\n"
     ]
    },
    {
     "name": "stderr",
     "output_type": "stream",
     "text": [
      "Training:  46%|████▌     | 115/250 [3:49:16<4:28:27, 119.32s/epoch]"
     ]
    },
    {
     "name": "stdout",
     "output_type": "stream",
     "text": [
      "  Train => MSE=0.3011, CI=0.8419, Pearson=0.7813\n",
      "  Test  => MSE=0.3635, CI=0.8277, Pearson=0.7423\n",
      "Checkpoint saved at epoch 115\n",
      "Deleted previous checkpoint: /kaggle/working/TrainingModel1/model_epoch114.pt\n"
     ]
    },
    {
     "name": "stderr",
     "output_type": "stream",
     "text": [
      "Training:  46%|████▌     | 115/250 [3:50:03<4:28:27, 119.32s/epoch]"
     ]
    },
    {
     "name": "stdout",
     "output_type": "stream",
     "text": [
      "[Epoch 116/250] Training Loss: 0.3510\n"
     ]
    },
    {
     "name": "stderr",
     "output_type": "stream",
     "text": [
      "Training:  46%|████▋     | 116/250 [3:51:15<4:26:15, 119.22s/epoch]"
     ]
    },
    {
     "name": "stdout",
     "output_type": "stream",
     "text": [
      "  Train => MSE=0.3198, CI=0.8492, Pearson=0.7808\n",
      "  Test  => MSE=0.3893, CI=0.8370, Pearson=0.7380\n",
      "Checkpoint saved at epoch 116\n",
      "Deleted previous checkpoint: /kaggle/working/TrainingModel1/model_epoch115.pt\n"
     ]
    },
    {
     "name": "stderr",
     "output_type": "stream",
     "text": [
      "Training:  46%|████▋     | 116/250 [3:52:02<4:26:15, 119.22s/epoch]"
     ]
    },
    {
     "name": "stdout",
     "output_type": "stream",
     "text": [
      "[Epoch 117/250] Training Loss: 0.3609\n"
     ]
    },
    {
     "name": "stderr",
     "output_type": "stream",
     "text": [
      "Training:  47%|████▋     | 117/250 [3:53:13<4:23:46, 118.99s/epoch]"
     ]
    },
    {
     "name": "stdout",
     "output_type": "stream",
     "text": [
      "  Train => MSE=0.2975, CI=0.8466, Pearson=0.7827\n",
      "  Test  => MSE=0.3661, CI=0.8368, Pearson=0.7382\n",
      "Checkpoint saved at epoch 117\n",
      "Deleted previous checkpoint: /kaggle/working/TrainingModel1/model_epoch116.pt\n"
     ]
    },
    {
     "name": "stderr",
     "output_type": "stream",
     "text": [
      "Training:  47%|████▋     | 117/250 [3:54:01<4:23:46, 118.99s/epoch]"
     ]
    },
    {
     "name": "stdout",
     "output_type": "stream",
     "text": [
      "[Epoch 118/250] Training Loss: 0.3517\n"
     ]
    },
    {
     "name": "stderr",
     "output_type": "stream",
     "text": [
      "Training:  47%|████▋     | 118/250 [3:55:12<4:22:06, 119.14s/epoch]"
     ]
    },
    {
     "name": "stdout",
     "output_type": "stream",
     "text": [
      "  Train => MSE=0.3035, CI=0.8490, Pearson=0.7789\n",
      "  Test  => MSE=0.3814, CI=0.8368, Pearson=0.7277\n",
      "Checkpoint saved at epoch 118\n",
      "Deleted previous checkpoint: /kaggle/working/TrainingModel1/model_epoch117.pt\n"
     ]
    },
    {
     "name": "stderr",
     "output_type": "stream",
     "text": [
      "Training:  47%|████▋     | 118/250 [3:56:01<4:22:06, 119.14s/epoch]"
     ]
    },
    {
     "name": "stdout",
     "output_type": "stream",
     "text": [
      "[Epoch 119/250] Training Loss: 0.3543\n"
     ]
    },
    {
     "name": "stderr",
     "output_type": "stream",
     "text": [
      "Training:  48%|████▊     | 119/250 [3:57:12<4:20:12, 119.18s/epoch]"
     ]
    },
    {
     "name": "stdout",
     "output_type": "stream",
     "text": [
      "  Train => MSE=0.2859, CI=0.8520, Pearson=0.7840\n",
      "  Test  => MSE=0.3533, CI=0.8405, Pearson=0.7418\n",
      "Checkpoint saved at epoch 119\n",
      "Deleted previous checkpoint: /kaggle/working/TrainingModel1/model_epoch118.pt\n"
     ]
    },
    {
     "name": "stderr",
     "output_type": "stream",
     "text": [
      "Training:  48%|████▊     | 119/250 [3:58:00<4:20:12, 119.18s/epoch]"
     ]
    },
    {
     "name": "stdout",
     "output_type": "stream",
     "text": [
      "[Epoch 120/250] Training Loss: 0.3512\n"
     ]
    },
    {
     "name": "stderr",
     "output_type": "stream",
     "text": [
      "Training:  48%|████▊     | 119/250 [3:59:11<4:20:12, 119.18s/epoch]"
     ]
    },
    {
     "name": "stdout",
     "output_type": "stream",
     "text": [
      "  Train => MSE=0.2820, CI=0.8361, Pearson=0.7865\n",
      "  Test  => MSE=0.3532, CI=0.8277, Pearson=0.7417\n"
     ]
    },
    {
     "name": "stderr",
     "output_type": "stream",
     "text": [
      "Training:  48%|████▊     | 120/250 [3:59:11<4:18:24, 119.26s/epoch]"
     ]
    },
    {
     "name": "stdout",
     "output_type": "stream",
     "text": [
      "Checkpoint saved at epoch 120\n",
      "Deleted previous checkpoint: /kaggle/working/TrainingModel1/model_epoch119.pt\n"
     ]
    },
    {
     "name": "stderr",
     "output_type": "stream",
     "text": [
      "Training:  48%|████▊     | 120/250 [3:59:59<4:18:24, 119.26s/epoch]"
     ]
    },
    {
     "name": "stdout",
     "output_type": "stream",
     "text": [
      "[Epoch 121/250] Training Loss: 0.3561\n"
     ]
    },
    {
     "name": "stderr",
     "output_type": "stream",
     "text": [
      "Training:  48%|████▊     | 121/250 [4:01:11<4:16:36, 119.36s/epoch]"
     ]
    },
    {
     "name": "stdout",
     "output_type": "stream",
     "text": [
      "  Train => MSE=0.2722, CI=0.8553, Pearson=0.7961\n",
      "  Test  => MSE=0.3434, CI=0.8406, Pearson=0.7495\n",
      "Checkpoint saved at epoch 121\n",
      "Deleted previous checkpoint: /kaggle/working/TrainingModel1/model_epoch120.pt\n"
     ]
    },
    {
     "name": "stderr",
     "output_type": "stream",
     "text": [
      "Training:  48%|████▊     | 121/250 [4:01:59<4:16:36, 119.36s/epoch]"
     ]
    },
    {
     "name": "stdout",
     "output_type": "stream",
     "text": [
      "[Epoch 122/250] Training Loss: 0.3430\n"
     ]
    },
    {
     "name": "stderr",
     "output_type": "stream",
     "text": [
      "Training:  49%|████▉     | 122/250 [4:03:10<4:14:42, 119.40s/epoch]"
     ]
    },
    {
     "name": "stdout",
     "output_type": "stream",
     "text": [
      "  Train => MSE=0.2796, CI=0.8526, Pearson=0.7918\n",
      "  Test  => MSE=0.3493, CI=0.8337, Pearson=0.7468\n",
      "Checkpoint saved at epoch 122\n",
      "Deleted previous checkpoint: /kaggle/working/TrainingModel1/model_epoch121.pt\n"
     ]
    },
    {
     "name": "stderr",
     "output_type": "stream",
     "text": [
      "Training:  49%|████▉     | 122/250 [4:03:57<4:14:42, 119.40s/epoch]"
     ]
    },
    {
     "name": "stdout",
     "output_type": "stream",
     "text": [
      "[Epoch 123/250] Training Loss: 0.3527\n"
     ]
    },
    {
     "name": "stderr",
     "output_type": "stream",
     "text": [
      "Training:  49%|████▉     | 123/250 [4:05:09<4:12:01, 119.06s/epoch]"
     ]
    },
    {
     "name": "stdout",
     "output_type": "stream",
     "text": [
      "  Train => MSE=0.2858, CI=0.8509, Pearson=0.7839\n",
      "  Test  => MSE=0.3500, CI=0.8410, Pearson=0.7442\n",
      "Checkpoint saved at epoch 123\n",
      "Deleted previous checkpoint: /kaggle/working/TrainingModel1/model_epoch122.pt\n"
     ]
    },
    {
     "name": "stderr",
     "output_type": "stream",
     "text": [
      "Training:  49%|████▉     | 123/250 [4:05:57<4:12:01, 119.06s/epoch]"
     ]
    },
    {
     "name": "stdout",
     "output_type": "stream",
     "text": [
      "[Epoch 124/250] Training Loss: 0.3407\n"
     ]
    },
    {
     "name": "stderr",
     "output_type": "stream",
     "text": [
      "Training:  50%|████▉     | 124/250 [4:07:09<4:10:36, 119.33s/epoch]"
     ]
    },
    {
     "name": "stdout",
     "output_type": "stream",
     "text": [
      "  Train => MSE=0.2867, CI=0.8501, Pearson=0.7817\n",
      "  Test  => MSE=0.3488, CI=0.8348, Pearson=0.7446\n",
      "Checkpoint saved at epoch 124\n",
      "Deleted previous checkpoint: /kaggle/working/TrainingModel1/model_epoch123.pt\n"
     ]
    },
    {
     "name": "stderr",
     "output_type": "stream",
     "text": [
      "Training:  50%|████▉     | 124/250 [4:07:56<4:10:36, 119.33s/epoch]"
     ]
    },
    {
     "name": "stdout",
     "output_type": "stream",
     "text": [
      "[Epoch 125/250] Training Loss: 0.3492\n"
     ]
    },
    {
     "name": "stderr",
     "output_type": "stream",
     "text": [
      "Training:  50%|█████     | 125/250 [4:09:08<4:08:26, 119.25s/epoch]"
     ]
    },
    {
     "name": "stdout",
     "output_type": "stream",
     "text": [
      "  Train => MSE=0.2890, CI=0.8470, Pearson=0.7802\n",
      "  Test  => MSE=0.3500, CI=0.8333, Pearson=0.7437\n",
      "Checkpoint saved at epoch 125\n",
      "Deleted previous checkpoint: /kaggle/working/TrainingModel1/model_epoch124.pt\n"
     ]
    },
    {
     "name": "stderr",
     "output_type": "stream",
     "text": [
      "Training:  50%|█████     | 125/250 [4:09:57<4:08:26, 119.25s/epoch]"
     ]
    },
    {
     "name": "stdout",
     "output_type": "stream",
     "text": [
      "[Epoch 126/250] Training Loss: 0.3425\n"
     ]
    },
    {
     "name": "stderr",
     "output_type": "stream",
     "text": [
      "Training:  50%|█████     | 126/250 [4:11:08<4:07:22, 119.70s/epoch]"
     ]
    },
    {
     "name": "stdout",
     "output_type": "stream",
     "text": [
      "  Train => MSE=0.2680, CI=0.8472, Pearson=0.7977\n",
      "  Test  => MSE=0.3431, CI=0.8366, Pearson=0.7494\n",
      "Checkpoint saved at epoch 126\n",
      "Deleted previous checkpoint: /kaggle/working/TrainingModel1/model_epoch125.pt\n"
     ]
    },
    {
     "name": "stderr",
     "output_type": "stream",
     "text": [
      "Training:  50%|█████     | 126/250 [4:11:57<4:07:22, 119.70s/epoch]"
     ]
    },
    {
     "name": "stdout",
     "output_type": "stream",
     "text": [
      "[Epoch 127/250] Training Loss: 0.3429\n"
     ]
    },
    {
     "name": "stderr",
     "output_type": "stream",
     "text": [
      "Training:  51%|█████     | 127/250 [4:13:08<4:05:25, 119.72s/epoch]"
     ]
    },
    {
     "name": "stdout",
     "output_type": "stream",
     "text": [
      "  Train => MSE=0.2932, CI=0.8475, Pearson=0.7820\n",
      "  Test  => MSE=0.3585, CI=0.8381, Pearson=0.7419\n",
      "Checkpoint saved at epoch 127\n",
      "Deleted previous checkpoint: /kaggle/working/TrainingModel1/model_epoch126.pt\n"
     ]
    },
    {
     "name": "stderr",
     "output_type": "stream",
     "text": [
      "Training:  51%|█████     | 127/250 [4:13:56<4:05:25, 119.72s/epoch]"
     ]
    },
    {
     "name": "stdout",
     "output_type": "stream",
     "text": [
      "[Epoch 128/250] Training Loss: 0.3515\n"
     ]
    },
    {
     "name": "stderr",
     "output_type": "stream",
     "text": [
      "Training:  51%|█████     | 128/250 [4:15:08<4:03:15, 119.64s/epoch]"
     ]
    },
    {
     "name": "stdout",
     "output_type": "stream",
     "text": [
      "  Train => MSE=0.2774, CI=0.8545, Pearson=0.7907\n",
      "  Test  => MSE=0.3497, CI=0.8357, Pearson=0.7447\n",
      "Checkpoint saved at epoch 128\n",
      "Deleted previous checkpoint: /kaggle/working/TrainingModel1/model_epoch127.pt\n"
     ]
    },
    {
     "name": "stderr",
     "output_type": "stream",
     "text": [
      "Training:  51%|█████     | 128/250 [4:15:55<4:03:15, 119.64s/epoch]"
     ]
    },
    {
     "name": "stdout",
     "output_type": "stream",
     "text": [
      "[Epoch 129/250] Training Loss: 0.3429\n"
     ]
    },
    {
     "name": "stderr",
     "output_type": "stream",
     "text": [
      "Training:  52%|█████▏    | 129/250 [4:17:07<4:01:03, 119.54s/epoch]"
     ]
    },
    {
     "name": "stdout",
     "output_type": "stream",
     "text": [
      "  Train => MSE=0.2964, CI=0.8518, Pearson=0.7782\n",
      "  Test  => MSE=0.3678, CI=0.8391, Pearson=0.7348\n",
      "Checkpoint saved at epoch 129\n",
      "Deleted previous checkpoint: /kaggle/working/TrainingModel1/model_epoch128.pt\n"
     ]
    },
    {
     "name": "stderr",
     "output_type": "stream",
     "text": [
      "Training:  52%|█████▏    | 129/250 [4:17:55<4:01:03, 119.54s/epoch]"
     ]
    },
    {
     "name": "stdout",
     "output_type": "stream",
     "text": [
      "[Epoch 130/250] Training Loss: 0.3439\n"
     ]
    },
    {
     "name": "stderr",
     "output_type": "stream",
     "text": [
      "Training:  52%|█████▏    | 130/250 [4:19:06<3:59:06, 119.55s/epoch]"
     ]
    },
    {
     "name": "stdout",
     "output_type": "stream",
     "text": [
      "  Train => MSE=0.2779, CI=0.8567, Pearson=0.7943\n",
      "  Test  => MSE=0.3539, CI=0.8412, Pearson=0.7467\n",
      "Checkpoint saved at epoch 130\n",
      "Deleted previous checkpoint: /kaggle/working/TrainingModel1/model_epoch129.pt\n"
     ]
    },
    {
     "name": "stderr",
     "output_type": "stream",
     "text": [
      "Training:  52%|█████▏    | 130/250 [4:19:54<3:59:06, 119.55s/epoch]"
     ]
    },
    {
     "name": "stdout",
     "output_type": "stream",
     "text": [
      "[Epoch 131/250] Training Loss: 0.3298\n"
     ]
    },
    {
     "name": "stderr",
     "output_type": "stream",
     "text": [
      "Training:  52%|█████▏    | 131/250 [4:21:05<3:56:48, 119.40s/epoch]"
     ]
    },
    {
     "name": "stdout",
     "output_type": "stream",
     "text": [
      "  Train => MSE=0.2724, CI=0.8542, Pearson=0.7941\n",
      "  Test  => MSE=0.3419, CI=0.8363, Pearson=0.7507\n",
      "Checkpoint saved at epoch 131\n",
      "Deleted previous checkpoint: /kaggle/working/TrainingModel1/model_epoch130.pt\n"
     ]
    },
    {
     "name": "stderr",
     "output_type": "stream",
     "text": [
      "Training:  52%|█████▏    | 131/250 [4:21:53<3:56:48, 119.40s/epoch]"
     ]
    },
    {
     "name": "stdout",
     "output_type": "stream",
     "text": [
      "[Epoch 132/250] Training Loss: 0.3444\n"
     ]
    },
    {
     "name": "stderr",
     "output_type": "stream",
     "text": [
      "Training:  53%|█████▎    | 132/250 [4:23:04<3:54:34, 119.28s/epoch]"
     ]
    },
    {
     "name": "stdout",
     "output_type": "stream",
     "text": [
      "  Train => MSE=0.2739, CI=0.8426, Pearson=0.7934\n",
      "  Test  => MSE=0.3452, CI=0.8265, Pearson=0.7483\n",
      "Checkpoint saved at epoch 132\n",
      "Deleted previous checkpoint: /kaggle/working/TrainingModel1/model_epoch131.pt\n"
     ]
    },
    {
     "name": "stderr",
     "output_type": "stream",
     "text": [
      "Training:  53%|█████▎    | 132/250 [4:23:52<3:54:34, 119.28s/epoch]"
     ]
    },
    {
     "name": "stdout",
     "output_type": "stream",
     "text": [
      "[Epoch 133/250] Training Loss: 0.3399\n"
     ]
    },
    {
     "name": "stderr",
     "output_type": "stream",
     "text": [
      "Training:  53%|█████▎    | 132/250 [4:25:03<3:54:34, 119.28s/epoch]"
     ]
    },
    {
     "name": "stdout",
     "output_type": "stream",
     "text": [
      "  Train => MSE=0.2750, CI=0.8478, Pearson=0.7931\n",
      "  Test  => MSE=0.3537, CI=0.8313, Pearson=0.7412\n"
     ]
    },
    {
     "name": "stderr",
     "output_type": "stream",
     "text": [
      "Training:  53%|█████▎    | 133/250 [4:25:03<3:52:23, 119.17s/epoch]"
     ]
    },
    {
     "name": "stdout",
     "output_type": "stream",
     "text": [
      "Checkpoint saved at epoch 133\n",
      "Deleted previous checkpoint: /kaggle/working/TrainingModel1/model_epoch132.pt\n"
     ]
    },
    {
     "name": "stderr",
     "output_type": "stream",
     "text": [
      "Training:  53%|█████▎    | 133/250 [4:25:51<3:52:23, 119.17s/epoch]"
     ]
    },
    {
     "name": "stdout",
     "output_type": "stream",
     "text": [
      "[Epoch 134/250] Training Loss: 0.3404\n"
     ]
    },
    {
     "name": "stderr",
     "output_type": "stream",
     "text": [
      "Training:  54%|█████▎    | 134/250 [4:27:03<3:50:35, 119.27s/epoch]"
     ]
    },
    {
     "name": "stdout",
     "output_type": "stream",
     "text": [
      "  Train => MSE=0.2769, CI=0.8534, Pearson=0.7949\n",
      "  Test  => MSE=0.3472, CI=0.8388, Pearson=0.7499\n",
      "Checkpoint saved at epoch 134\n",
      "Deleted previous checkpoint: /kaggle/working/TrainingModel1/model_epoch133.pt\n"
     ]
    },
    {
     "name": "stderr",
     "output_type": "stream",
     "text": [
      "Training:  54%|█████▎    | 134/250 [4:27:51<3:50:35, 119.27s/epoch]"
     ]
    },
    {
     "name": "stdout",
     "output_type": "stream",
     "text": [
      "[Epoch 135/250] Training Loss: 0.3393\n"
     ]
    },
    {
     "name": "stderr",
     "output_type": "stream",
     "text": [
      "Training:  54%|█████▍    | 135/250 [4:29:03<3:49:05, 119.52s/epoch]"
     ]
    },
    {
     "name": "stdout",
     "output_type": "stream",
     "text": [
      "  Train => MSE=0.2721, CI=0.8561, Pearson=0.7946\n",
      "  Test  => MSE=0.3422, CI=0.8413, Pearson=0.7500\n",
      "Checkpoint saved at epoch 135\n",
      "Deleted previous checkpoint: /kaggle/working/TrainingModel1/model_epoch134.pt\n"
     ]
    },
    {
     "name": "stderr",
     "output_type": "stream",
     "text": [
      "Training:  54%|█████▍    | 135/250 [4:29:52<3:49:05, 119.52s/epoch]"
     ]
    },
    {
     "name": "stdout",
     "output_type": "stream",
     "text": [
      "[Epoch 136/250] Training Loss: 0.3366\n"
     ]
    },
    {
     "name": "stderr",
     "output_type": "stream",
     "text": [
      "Training:  54%|█████▍    | 136/250 [4:31:04<3:47:44, 119.86s/epoch]"
     ]
    },
    {
     "name": "stdout",
     "output_type": "stream",
     "text": [
      "  Train => MSE=0.2702, CI=0.8514, Pearson=0.7985\n",
      "  Test  => MSE=0.3517, CI=0.8357, Pearson=0.7465\n",
      "Checkpoint saved at epoch 136\n",
      "Deleted previous checkpoint: /kaggle/working/TrainingModel1/model_epoch135.pt\n"
     ]
    },
    {
     "name": "stderr",
     "output_type": "stream",
     "text": [
      "Training:  54%|█████▍    | 136/250 [4:31:52<3:47:44, 119.86s/epoch]"
     ]
    },
    {
     "name": "stdout",
     "output_type": "stream",
     "text": [
      "[Epoch 137/250] Training Loss: 0.3254\n"
     ]
    },
    {
     "name": "stderr",
     "output_type": "stream",
     "text": [
      "Training:  55%|█████▍    | 137/250 [4:33:04<3:45:58, 119.99s/epoch]"
     ]
    },
    {
     "name": "stdout",
     "output_type": "stream",
     "text": [
      "  Train => MSE=0.3181, CI=0.8534, Pearson=0.7895\n",
      "  Test  => MSE=0.3886, CI=0.8414, Pearson=0.7470\n",
      "Checkpoint saved at epoch 137\n",
      "Deleted previous checkpoint: /kaggle/working/TrainingModel1/model_epoch136.pt\n"
     ]
    },
    {
     "name": "stderr",
     "output_type": "stream",
     "text": [
      "Training:  55%|█████▍    | 137/250 [4:33:53<3:45:58, 119.99s/epoch]"
     ]
    },
    {
     "name": "stdout",
     "output_type": "stream",
     "text": [
      "[Epoch 138/250] Training Loss: 0.3287\n"
     ]
    },
    {
     "name": "stderr",
     "output_type": "stream",
     "text": [
      "Training:  55%|█████▌    | 138/250 [4:35:04<3:44:09, 120.08s/epoch]"
     ]
    },
    {
     "name": "stdout",
     "output_type": "stream",
     "text": [
      "  Train => MSE=0.2800, CI=0.8515, Pearson=0.7932\n",
      "  Test  => MSE=0.3543, CI=0.8387, Pearson=0.7492\n",
      "Checkpoint saved at epoch 138\n",
      "Deleted previous checkpoint: /kaggle/working/TrainingModel1/model_epoch137.pt\n"
     ]
    },
    {
     "name": "stderr",
     "output_type": "stream",
     "text": [
      "Training:  55%|█████▌    | 138/250 [4:35:53<3:44:09, 120.08s/epoch]"
     ]
    },
    {
     "name": "stdout",
     "output_type": "stream",
     "text": [
      "[Epoch 139/250] Training Loss: 0.3383\n"
     ]
    },
    {
     "name": "stderr",
     "output_type": "stream",
     "text": [
      "Training:  56%|█████▌    | 139/250 [4:37:05<3:42:18, 120.17s/epoch]"
     ]
    },
    {
     "name": "stdout",
     "output_type": "stream",
     "text": [
      "  Train => MSE=0.2702, CI=0.8545, Pearson=0.7972\n",
      "  Test  => MSE=0.3498, CI=0.8350, Pearson=0.7467\n",
      "Checkpoint saved at epoch 139\n",
      "Deleted previous checkpoint: /kaggle/working/TrainingModel1/model_epoch138.pt\n"
     ]
    },
    {
     "name": "stderr",
     "output_type": "stream",
     "text": [
      "Training:  56%|█████▌    | 139/250 [4:37:53<3:42:18, 120.17s/epoch]"
     ]
    },
    {
     "name": "stdout",
     "output_type": "stream",
     "text": [
      "[Epoch 140/250] Training Loss: 0.3257\n"
     ]
    },
    {
     "name": "stderr",
     "output_type": "stream",
     "text": [
      "Training:  56%|█████▌    | 140/250 [4:39:04<3:40:03, 120.04s/epoch]"
     ]
    },
    {
     "name": "stdout",
     "output_type": "stream",
     "text": [
      "  Train => MSE=0.2688, CI=0.8515, Pearson=0.7984\n",
      "  Test  => MSE=0.3505, CI=0.8391, Pearson=0.7437\n",
      "Checkpoint saved at epoch 140\n",
      "Deleted previous checkpoint: /kaggle/working/TrainingModel1/model_epoch139.pt\n"
     ]
    },
    {
     "name": "stderr",
     "output_type": "stream",
     "text": [
      "Training:  56%|█████▌    | 140/250 [4:39:54<3:40:03, 120.04s/epoch]"
     ]
    },
    {
     "name": "stdout",
     "output_type": "stream",
     "text": [
      "[Epoch 141/250] Training Loss: 0.3325\n"
     ]
    },
    {
     "name": "stderr",
     "output_type": "stream",
     "text": [
      "Training:  56%|█████▋    | 141/250 [4:41:06<3:38:47, 120.43s/epoch]"
     ]
    },
    {
     "name": "stdout",
     "output_type": "stream",
     "text": [
      "  Train => MSE=0.2688, CI=0.8570, Pearson=0.8072\n",
      "  Test  => MSE=0.3457, CI=0.8470, Pearson=0.7573\n",
      "Checkpoint saved at epoch 141\n",
      "Deleted previous checkpoint: /kaggle/working/TrainingModel1/model_epoch140.pt\n"
     ]
    },
    {
     "name": "stderr",
     "output_type": "stream",
     "text": [
      "Training:  56%|█████▋    | 141/250 [4:41:54<3:38:47, 120.43s/epoch]"
     ]
    },
    {
     "name": "stdout",
     "output_type": "stream",
     "text": [
      "[Epoch 142/250] Training Loss: 0.3270\n"
     ]
    },
    {
     "name": "stderr",
     "output_type": "stream",
     "text": [
      "Training:  57%|█████▋    | 142/250 [4:43:06<3:36:27, 120.25s/epoch]"
     ]
    },
    {
     "name": "stdout",
     "output_type": "stream",
     "text": [
      "  Train => MSE=0.2830, CI=0.8492, Pearson=0.7930\n",
      "  Test  => MSE=0.3541, CI=0.8423, Pearson=0.7495\n",
      "Checkpoint saved at epoch 142\n",
      "Deleted previous checkpoint: /kaggle/working/TrainingModel1/model_epoch141.pt\n"
     ]
    },
    {
     "name": "stderr",
     "output_type": "stream",
     "text": [
      "Training:  57%|█████▋    | 142/250 [4:43:54<3:36:27, 120.25s/epoch]"
     ]
    },
    {
     "name": "stdout",
     "output_type": "stream",
     "text": [
      "[Epoch 143/250] Training Loss: 0.3275\n"
     ]
    },
    {
     "name": "stderr",
     "output_type": "stream",
     "text": [
      "Training:  57%|█████▋    | 143/250 [4:45:06<3:34:36, 120.34s/epoch]"
     ]
    },
    {
     "name": "stdout",
     "output_type": "stream",
     "text": [
      "  Train => MSE=0.2585, CI=0.8584, Pearson=0.8065\n",
      "  Test  => MSE=0.3290, CI=0.8442, Pearson=0.7620\n",
      "Checkpoint saved at epoch 143\n",
      "Deleted previous checkpoint: /kaggle/working/TrainingModel1/model_epoch142.pt\n"
     ]
    },
    {
     "name": "stderr",
     "output_type": "stream",
     "text": [
      "Training:  57%|█████▋    | 143/250 [4:45:53<3:34:36, 120.34s/epoch]"
     ]
    },
    {
     "name": "stdout",
     "output_type": "stream",
     "text": [
      "[Epoch 144/250] Training Loss: 0.3268\n"
     ]
    },
    {
     "name": "stderr",
     "output_type": "stream",
     "text": [
      "Training:  58%|█████▊    | 144/250 [4:47:05<3:31:35, 119.77s/epoch]"
     ]
    },
    {
     "name": "stdout",
     "output_type": "stream",
     "text": [
      "  Train => MSE=0.2910, CI=0.8549, Pearson=0.7912\n",
      "  Test  => MSE=0.3668, CI=0.8459, Pearson=0.7425\n",
      "Checkpoint saved at epoch 144\n",
      "Deleted previous checkpoint: /kaggle/working/TrainingModel1/model_epoch143.pt\n"
     ]
    },
    {
     "name": "stderr",
     "output_type": "stream",
     "text": [
      "Training:  58%|█████▊    | 144/250 [4:47:53<3:31:35, 119.77s/epoch]"
     ]
    },
    {
     "name": "stdout",
     "output_type": "stream",
     "text": [
      "[Epoch 145/250] Training Loss: 0.3217\n"
     ]
    },
    {
     "name": "stderr",
     "output_type": "stream",
     "text": [
      "Training:  58%|█████▊    | 145/250 [4:49:04<3:29:24, 119.66s/epoch]"
     ]
    },
    {
     "name": "stdout",
     "output_type": "stream",
     "text": [
      "  Train => MSE=0.2665, CI=0.8598, Pearson=0.8021\n",
      "  Test  => MSE=0.3360, CI=0.8489, Pearson=0.7595\n",
      "Checkpoint saved at epoch 145\n",
      "Deleted previous checkpoint: /kaggle/working/TrainingModel1/model_epoch144.pt\n"
     ]
    },
    {
     "name": "stderr",
     "output_type": "stream",
     "text": [
      "Training:  58%|█████▊    | 145/250 [4:49:52<3:29:24, 119.66s/epoch]"
     ]
    },
    {
     "name": "stdout",
     "output_type": "stream",
     "text": [
      "[Epoch 146/250] Training Loss: 0.3144\n"
     ]
    },
    {
     "name": "stderr",
     "output_type": "stream",
     "text": [
      "Training:  58%|█████▊    | 145/250 [4:51:03<3:29:24, 119.66s/epoch]"
     ]
    },
    {
     "name": "stdout",
     "output_type": "stream",
     "text": [
      "  Train => MSE=0.3196, CI=0.8534, Pearson=0.7874\n",
      "  Test  => MSE=0.3987, CI=0.8395, Pearson=0.7401\n"
     ]
    },
    {
     "name": "stderr",
     "output_type": "stream",
     "text": [
      "Training:  58%|█████▊    | 146/250 [4:51:03<3:27:07, 119.49s/epoch]"
     ]
    },
    {
     "name": "stdout",
     "output_type": "stream",
     "text": [
      "Checkpoint saved at epoch 146\n",
      "Deleted previous checkpoint: /kaggle/working/TrainingModel1/model_epoch145.pt\n"
     ]
    },
    {
     "name": "stderr",
     "output_type": "stream",
     "text": [
      "Training:  58%|█████▊    | 146/250 [4:51:50<3:27:07, 119.49s/epoch]"
     ]
    },
    {
     "name": "stdout",
     "output_type": "stream",
     "text": [
      "[Epoch 147/250] Training Loss: 0.3253\n"
     ]
    },
    {
     "name": "stderr",
     "output_type": "stream",
     "text": [
      "Training:  59%|█████▉    | 147/250 [4:53:02<3:24:40, 119.23s/epoch]"
     ]
    },
    {
     "name": "stdout",
     "output_type": "stream",
     "text": [
      "  Train => MSE=0.2740, CI=0.8560, Pearson=0.7941\n",
      "  Test  => MSE=0.3480, CI=0.8384, Pearson=0.7477\n",
      "Checkpoint saved at epoch 147\n",
      "Deleted previous checkpoint: /kaggle/working/TrainingModel1/model_epoch146.pt\n"
     ]
    },
    {
     "name": "stderr",
     "output_type": "stream",
     "text": [
      "Training:  59%|█████▉    | 147/250 [4:53:50<3:24:40, 119.23s/epoch]"
     ]
    },
    {
     "name": "stdout",
     "output_type": "stream",
     "text": [
      "[Epoch 148/250] Training Loss: 0.3169\n"
     ]
    },
    {
     "name": "stderr",
     "output_type": "stream",
     "text": [
      "Training:  59%|█████▉    | 148/250 [4:55:01<3:22:38, 119.20s/epoch]"
     ]
    },
    {
     "name": "stdout",
     "output_type": "stream",
     "text": [
      "  Train => MSE=0.2774, CI=0.8546, Pearson=0.8016\n",
      "  Test  => MSE=0.3557, CI=0.8432, Pearson=0.7555\n",
      "Checkpoint saved at epoch 148\n",
      "Deleted previous checkpoint: /kaggle/working/TrainingModel1/model_epoch147.pt\n"
     ]
    },
    {
     "name": "stderr",
     "output_type": "stream",
     "text": [
      "Training:  59%|█████▉    | 148/250 [4:55:48<3:22:38, 119.20s/epoch]"
     ]
    },
    {
     "name": "stdout",
     "output_type": "stream",
     "text": [
      "[Epoch 149/250] Training Loss: 0.3235\n"
     ]
    },
    {
     "name": "stderr",
     "output_type": "stream",
     "text": [
      "Training:  60%|█████▉    | 149/250 [4:57:00<3:20:26, 119.07s/epoch]"
     ]
    },
    {
     "name": "stdout",
     "output_type": "stream",
     "text": [
      "  Train => MSE=0.2565, CI=0.8613, Pearson=0.8094\n",
      "  Test  => MSE=0.3383, CI=0.8454, Pearson=0.7578\n",
      "Checkpoint saved at epoch 149\n",
      "Deleted previous checkpoint: /kaggle/working/TrainingModel1/model_epoch148.pt\n"
     ]
    },
    {
     "name": "stderr",
     "output_type": "stream",
     "text": [
      "Training:  60%|█████▉    | 149/250 [4:57:48<3:20:26, 119.07s/epoch]"
     ]
    },
    {
     "name": "stdout",
     "output_type": "stream",
     "text": [
      "[Epoch 150/250] Training Loss: 0.3187\n"
     ]
    },
    {
     "name": "stderr",
     "output_type": "stream",
     "text": [
      "Training:  60%|██████    | 150/250 [4:58:59<3:18:27, 119.07s/epoch]"
     ]
    },
    {
     "name": "stdout",
     "output_type": "stream",
     "text": [
      "  Train => MSE=0.2664, CI=0.8517, Pearson=0.7997\n",
      "  Test  => MSE=0.3317, CI=0.8415, Pearson=0.7590\n",
      "Checkpoint saved at epoch 150\n",
      "Deleted previous checkpoint: /kaggle/working/TrainingModel1/model_epoch149.pt\n"
     ]
    },
    {
     "name": "stderr",
     "output_type": "stream",
     "text": [
      "Training:  60%|██████    | 150/250 [4:59:46<3:18:27, 119.07s/epoch]"
     ]
    },
    {
     "name": "stdout",
     "output_type": "stream",
     "text": [
      "[Epoch 151/250] Training Loss: 0.3304\n"
     ]
    },
    {
     "name": "stderr",
     "output_type": "stream",
     "text": [
      "Training:  60%|██████    | 151/250 [5:00:57<3:16:15, 118.94s/epoch]"
     ]
    },
    {
     "name": "stdout",
     "output_type": "stream",
     "text": [
      "  Train => MSE=0.2578, CI=0.8600, Pearson=0.8072\n",
      "  Test  => MSE=0.3351, CI=0.8429, Pearson=0.7589\n",
      "Checkpoint saved at epoch 151\n",
      "Deleted previous checkpoint: /kaggle/working/TrainingModel1/model_epoch150.pt\n"
     ]
    },
    {
     "name": "stderr",
     "output_type": "stream",
     "text": [
      "Training:  60%|██████    | 151/250 [5:01:45<3:16:15, 118.94s/epoch]"
     ]
    },
    {
     "name": "stdout",
     "output_type": "stream",
     "text": [
      "[Epoch 152/250] Training Loss: 0.3134\n"
     ]
    },
    {
     "name": "stderr",
     "output_type": "stream",
     "text": [
      "Training:  61%|██████    | 152/250 [5:02:57<3:14:34, 119.13s/epoch]"
     ]
    },
    {
     "name": "stdout",
     "output_type": "stream",
     "text": [
      "  Train => MSE=0.2734, CI=0.8566, Pearson=0.7942\n",
      "  Test  => MSE=0.3568, CI=0.8362, Pearson=0.7405\n",
      "Checkpoint saved at epoch 152\n",
      "Deleted previous checkpoint: /kaggle/working/TrainingModel1/model_epoch151.pt\n"
     ]
    },
    {
     "name": "stderr",
     "output_type": "stream",
     "text": [
      "Training:  61%|██████    | 152/250 [5:03:45<3:14:34, 119.13s/epoch]"
     ]
    },
    {
     "name": "stdout",
     "output_type": "stream",
     "text": [
      "[Epoch 153/250] Training Loss: 0.3156\n"
     ]
    },
    {
     "name": "stderr",
     "output_type": "stream",
     "text": [
      "Training:  61%|██████    | 153/250 [5:04:56<3:12:27, 119.05s/epoch]"
     ]
    },
    {
     "name": "stdout",
     "output_type": "stream",
     "text": [
      "  Train => MSE=0.2624, CI=0.8588, Pearson=0.8034\n",
      "  Test  => MSE=0.3319, CI=0.8472, Pearson=0.7599\n",
      "Checkpoint saved at epoch 153\n",
      "Deleted previous checkpoint: /kaggle/working/TrainingModel1/model_epoch152.pt\n"
     ]
    },
    {
     "name": "stderr",
     "output_type": "stream",
     "text": [
      "Training:  61%|██████    | 153/250 [5:05:44<3:12:27, 119.05s/epoch]"
     ]
    },
    {
     "name": "stdout",
     "output_type": "stream",
     "text": [
      "[Epoch 154/250] Training Loss: 0.3184\n"
     ]
    },
    {
     "name": "stderr",
     "output_type": "stream",
     "text": [
      "Training:  62%|██████▏   | 154/250 [5:06:55<3:10:45, 119.23s/epoch]"
     ]
    },
    {
     "name": "stdout",
     "output_type": "stream",
     "text": [
      "  Train => MSE=0.2661, CI=0.8575, Pearson=0.8013\n",
      "  Test  => MSE=0.3409, CI=0.8409, Pearson=0.7530\n",
      "Checkpoint saved at epoch 154\n",
      "Deleted previous checkpoint: /kaggle/working/TrainingModel1/model_epoch153.pt\n"
     ]
    },
    {
     "name": "stderr",
     "output_type": "stream",
     "text": [
      "Training:  62%|██████▏   | 154/250 [5:07:42<3:10:45, 119.23s/epoch]"
     ]
    },
    {
     "name": "stdout",
     "output_type": "stream",
     "text": [
      "[Epoch 155/250] Training Loss: 0.3119\n"
     ]
    },
    {
     "name": "stderr",
     "output_type": "stream",
     "text": [
      "Training:  62%|██████▏   | 155/250 [5:08:54<3:08:23, 118.98s/epoch]"
     ]
    },
    {
     "name": "stdout",
     "output_type": "stream",
     "text": [
      "  Train => MSE=0.2777, CI=0.8576, Pearson=0.7986\n",
      "  Test  => MSE=0.3651, CI=0.8420, Pearson=0.7456\n",
      "Checkpoint saved at epoch 155\n",
      "Deleted previous checkpoint: /kaggle/working/TrainingModel1/model_epoch154.pt\n"
     ]
    },
    {
     "name": "stderr",
     "output_type": "stream",
     "text": [
      "Training:  62%|██████▏   | 155/250 [5:09:42<3:08:23, 118.98s/epoch]"
     ]
    },
    {
     "name": "stdout",
     "output_type": "stream",
     "text": [
      "[Epoch 156/250] Training Loss: 0.3144\n"
     ]
    },
    {
     "name": "stderr",
     "output_type": "stream",
     "text": [
      "Training:  62%|██████▏   | 156/250 [5:10:53<3:06:39, 119.14s/epoch]"
     ]
    },
    {
     "name": "stdout",
     "output_type": "stream",
     "text": [
      "  Train => MSE=0.2592, CI=0.8604, Pearson=0.8071\n",
      "  Test  => MSE=0.3424, CI=0.8455, Pearson=0.7533\n",
      "Checkpoint saved at epoch 156\n",
      "Deleted previous checkpoint: /kaggle/working/TrainingModel1/model_epoch155.pt\n"
     ]
    },
    {
     "name": "stderr",
     "output_type": "stream",
     "text": [
      "Training:  62%|██████▏   | 156/250 [5:11:42<3:06:39, 119.14s/epoch]"
     ]
    },
    {
     "name": "stdout",
     "output_type": "stream",
     "text": [
      "[Epoch 157/250] Training Loss: 0.3185\n"
     ]
    },
    {
     "name": "stderr",
     "output_type": "stream",
     "text": [
      "Training:  63%|██████▎   | 157/250 [5:12:53<3:05:06, 119.42s/epoch]"
     ]
    },
    {
     "name": "stdout",
     "output_type": "stream",
     "text": [
      "  Train => MSE=0.2711, CI=0.8561, Pearson=0.8007\n",
      "  Test  => MSE=0.3471, CI=0.8453, Pearson=0.7537\n",
      "Checkpoint saved at epoch 157\n",
      "Deleted previous checkpoint: /kaggle/working/TrainingModel1/model_epoch156.pt\n"
     ]
    },
    {
     "name": "stderr",
     "output_type": "stream",
     "text": [
      "Training:  63%|██████▎   | 157/250 [5:13:41<3:05:06, 119.42s/epoch]"
     ]
    },
    {
     "name": "stdout",
     "output_type": "stream",
     "text": [
      "[Epoch 158/250] Training Loss: 0.3086\n"
     ]
    },
    {
     "name": "stderr",
     "output_type": "stream",
     "text": [
      "Training:  63%|██████▎   | 158/250 [5:14:53<3:03:03, 119.39s/epoch]"
     ]
    },
    {
     "name": "stdout",
     "output_type": "stream",
     "text": [
      "  Train => MSE=0.2694, CI=0.8471, Pearson=0.8049\n",
      "  Test  => MSE=0.3492, CI=0.8321, Pearson=0.7550\n",
      "Checkpoint saved at epoch 158\n",
      "Deleted previous checkpoint: /kaggle/working/TrainingModel1/model_epoch157.pt\n"
     ]
    },
    {
     "name": "stderr",
     "output_type": "stream",
     "text": [
      "Training:  63%|██████▎   | 158/250 [5:15:40<3:03:03, 119.39s/epoch]"
     ]
    },
    {
     "name": "stdout",
     "output_type": "stream",
     "text": [
      "[Epoch 159/250] Training Loss: 0.3152\n"
     ]
    },
    {
     "name": "stderr",
     "output_type": "stream",
     "text": [
      "Training:  63%|██████▎   | 158/250 [5:16:51<3:03:03, 119.39s/epoch]"
     ]
    },
    {
     "name": "stdout",
     "output_type": "stream",
     "text": [
      "  Train => MSE=0.2670, CI=0.8614, Pearson=0.8068\n",
      "  Test  => MSE=0.3429, CI=0.8460, Pearson=0.7601\n"
     ]
    },
    {
     "name": "stderr",
     "output_type": "stream",
     "text": [
      "Training:  64%|██████▎   | 159/250 [5:16:52<3:00:54, 119.28s/epoch]"
     ]
    },
    {
     "name": "stdout",
     "output_type": "stream",
     "text": [
      "Checkpoint saved at epoch 159\n",
      "Deleted previous checkpoint: /kaggle/working/TrainingModel1/model_epoch158.pt\n"
     ]
    },
    {
     "name": "stderr",
     "output_type": "stream",
     "text": [
      "Training:  64%|██████▎   | 159/250 [5:17:39<3:00:54, 119.28s/epoch]"
     ]
    },
    {
     "name": "stdout",
     "output_type": "stream",
     "text": [
      "[Epoch 160/250] Training Loss: 0.3097\n"
     ]
    },
    {
     "name": "stderr",
     "output_type": "stream",
     "text": [
      "Training:  64%|██████▍   | 160/250 [5:18:50<2:58:38, 119.10s/epoch]"
     ]
    },
    {
     "name": "stdout",
     "output_type": "stream",
     "text": [
      "  Train => MSE=0.2756, CI=0.8442, Pearson=0.8036\n",
      "  Test  => MSE=0.3546, CI=0.8316, Pearson=0.7494\n",
      "Checkpoint saved at epoch 160\n",
      "Deleted previous checkpoint: /kaggle/working/TrainingModel1/model_epoch159.pt\n"
     ]
    },
    {
     "name": "stderr",
     "output_type": "stream",
     "text": [
      "Training:  64%|██████▍   | 160/250 [5:19:39<2:58:38, 119.10s/epoch]"
     ]
    },
    {
     "name": "stdout",
     "output_type": "stream",
     "text": [
      "[Epoch 161/250] Training Loss: 0.3115\n"
     ]
    },
    {
     "name": "stderr",
     "output_type": "stream",
     "text": [
      "Training:  64%|██████▍   | 161/250 [5:20:50<2:57:03, 119.37s/epoch]"
     ]
    },
    {
     "name": "stdout",
     "output_type": "stream",
     "text": [
      "  Train => MSE=0.2531, CI=0.8628, Pearson=0.8117\n",
      "  Test  => MSE=0.3365, CI=0.8449, Pearson=0.7571\n",
      "Checkpoint saved at epoch 161\n",
      "Deleted previous checkpoint: /kaggle/working/TrainingModel1/model_epoch160.pt\n"
     ]
    },
    {
     "name": "stderr",
     "output_type": "stream",
     "text": [
      "Training:  64%|██████▍   | 161/250 [5:21:38<2:57:03, 119.37s/epoch]"
     ]
    },
    {
     "name": "stdout",
     "output_type": "stream",
     "text": [
      "[Epoch 162/250] Training Loss: 0.3148\n"
     ]
    },
    {
     "name": "stderr",
     "output_type": "stream",
     "text": [
      "Training:  65%|██████▍   | 162/250 [5:22:49<2:54:47, 119.18s/epoch]"
     ]
    },
    {
     "name": "stdout",
     "output_type": "stream",
     "text": [
      "  Train => MSE=0.2757, CI=0.8592, Pearson=0.7988\n",
      "  Test  => MSE=0.3516, CI=0.8438, Pearson=0.7501\n",
      "Checkpoint saved at epoch 162\n",
      "Deleted previous checkpoint: /kaggle/working/TrainingModel1/model_epoch161.pt\n"
     ]
    },
    {
     "name": "stderr",
     "output_type": "stream",
     "text": [
      "Training:  65%|██████▍   | 162/250 [5:23:37<2:54:47, 119.18s/epoch]"
     ]
    },
    {
     "name": "stdout",
     "output_type": "stream",
     "text": [
      "[Epoch 163/250] Training Loss: 0.3131\n"
     ]
    },
    {
     "name": "stderr",
     "output_type": "stream",
     "text": [
      "Training:  65%|██████▌   | 163/250 [5:24:49<2:53:00, 119.32s/epoch]"
     ]
    },
    {
     "name": "stdout",
     "output_type": "stream",
     "text": [
      "  Train => MSE=0.2721, CI=0.8600, Pearson=0.8087\n",
      "  Test  => MSE=0.3509, CI=0.8447, Pearson=0.7576\n",
      "Checkpoint saved at epoch 163\n",
      "Deleted previous checkpoint: /kaggle/working/TrainingModel1/model_epoch162.pt\n"
     ]
    },
    {
     "name": "stderr",
     "output_type": "stream",
     "text": [
      "Training:  65%|██████▌   | 163/250 [5:25:37<2:53:00, 119.32s/epoch]"
     ]
    },
    {
     "name": "stdout",
     "output_type": "stream",
     "text": [
      "[Epoch 164/250] Training Loss: 0.3026\n"
     ]
    },
    {
     "name": "stderr",
     "output_type": "stream",
     "text": [
      "Training:  66%|██████▌   | 164/250 [5:26:49<2:51:26, 119.61s/epoch]"
     ]
    },
    {
     "name": "stdout",
     "output_type": "stream",
     "text": [
      "  Train => MSE=0.2517, CI=0.8613, Pearson=0.8115\n",
      "  Test  => MSE=0.3367, CI=0.8432, Pearson=0.7554\n",
      "Checkpoint saved at epoch 164\n",
      "Deleted previous checkpoint: /kaggle/working/TrainingModel1/model_epoch163.pt\n"
     ]
    },
    {
     "name": "stderr",
     "output_type": "stream",
     "text": [
      "Training:  66%|██████▌   | 164/250 [5:27:37<2:51:26, 119.61s/epoch]"
     ]
    },
    {
     "name": "stdout",
     "output_type": "stream",
     "text": [
      "[Epoch 165/250] Training Loss: 0.3164\n"
     ]
    },
    {
     "name": "stderr",
     "output_type": "stream",
     "text": [
      "Training:  66%|██████▌   | 165/250 [5:28:49<2:49:30, 119.65s/epoch]"
     ]
    },
    {
     "name": "stdout",
     "output_type": "stream",
     "text": [
      "  Train => MSE=0.2667, CI=0.8627, Pearson=0.8071\n",
      "  Test  => MSE=0.3385, CI=0.8507, Pearson=0.7597\n",
      "Checkpoint saved at epoch 165\n",
      "Deleted previous checkpoint: /kaggle/working/TrainingModel1/model_epoch164.pt\n"
     ]
    },
    {
     "name": "stderr",
     "output_type": "stream",
     "text": [
      "Training:  66%|██████▌   | 165/250 [5:29:37<2:49:30, 119.65s/epoch]"
     ]
    },
    {
     "name": "stdout",
     "output_type": "stream",
     "text": [
      "[Epoch 166/250] Training Loss: 0.3045\n"
     ]
    },
    {
     "name": "stderr",
     "output_type": "stream",
     "text": [
      "Training:  66%|██████▋   | 166/250 [5:30:49<2:47:47, 119.85s/epoch]"
     ]
    },
    {
     "name": "stdout",
     "output_type": "stream",
     "text": [
      "  Train => MSE=0.2414, CI=0.8690, Pearson=0.8202\n",
      "  Test  => MSE=0.3159, CI=0.8531, Pearson=0.7729\n",
      "Checkpoint saved at epoch 166\n",
      "Deleted previous checkpoint: /kaggle/working/TrainingModel1/model_epoch165.pt\n"
     ]
    },
    {
     "name": "stderr",
     "output_type": "stream",
     "text": [
      "Training:  66%|██████▋   | 166/250 [5:31:38<2:47:47, 119.85s/epoch]"
     ]
    },
    {
     "name": "stdout",
     "output_type": "stream",
     "text": [
      "[Epoch 167/250] Training Loss: 0.2996\n"
     ]
    },
    {
     "name": "stderr",
     "output_type": "stream",
     "text": [
      "Training:  67%|██████▋   | 167/250 [5:32:49<2:45:54, 119.94s/epoch]"
     ]
    },
    {
     "name": "stdout",
     "output_type": "stream",
     "text": [
      "  Train => MSE=0.2572, CI=0.8670, Pearson=0.8156\n",
      "  Test  => MSE=0.3400, CI=0.8486, Pearson=0.7635\n",
      "Checkpoint saved at epoch 167\n",
      "Deleted previous checkpoint: /kaggle/working/TrainingModel1/model_epoch166.pt\n"
     ]
    },
    {
     "name": "stderr",
     "output_type": "stream",
     "text": [
      "Training:  67%|██████▋   | 167/250 [5:33:36<2:45:54, 119.94s/epoch]"
     ]
    },
    {
     "name": "stdout",
     "output_type": "stream",
     "text": [
      "[Epoch 168/250] Training Loss: 0.3121\n"
     ]
    },
    {
     "name": "stderr",
     "output_type": "stream",
     "text": [
      "Training:  67%|██████▋   | 168/250 [5:34:48<2:43:18, 119.50s/epoch]"
     ]
    },
    {
     "name": "stdout",
     "output_type": "stream",
     "text": [
      "  Train => MSE=0.2506, CI=0.8656, Pearson=0.8157\n",
      "  Test  => MSE=0.3267, CI=0.8515, Pearson=0.7675\n",
      "Checkpoint saved at epoch 168\n",
      "Deleted previous checkpoint: /kaggle/working/TrainingModel1/model_epoch167.pt\n"
     ]
    },
    {
     "name": "stderr",
     "output_type": "stream",
     "text": [
      "Training:  67%|██████▋   | 168/250 [5:35:36<2:43:18, 119.50s/epoch]"
     ]
    },
    {
     "name": "stdout",
     "output_type": "stream",
     "text": [
      "[Epoch 169/250] Training Loss: 0.2984\n"
     ]
    },
    {
     "name": "stderr",
     "output_type": "stream",
     "text": [
      "Training:  68%|██████▊   | 169/250 [5:36:47<2:41:25, 119.58s/epoch]"
     ]
    },
    {
     "name": "stdout",
     "output_type": "stream",
     "text": [
      "  Train => MSE=0.2451, CI=0.8649, Pearson=0.8212\n",
      "  Test  => MSE=0.3237, CI=0.8480, Pearson=0.7692\n",
      "Checkpoint saved at epoch 169\n",
      "Deleted previous checkpoint: /kaggle/working/TrainingModel1/model_epoch168.pt\n"
     ]
    },
    {
     "name": "stderr",
     "output_type": "stream",
     "text": [
      "Training:  68%|██████▊   | 169/250 [5:37:36<2:41:25, 119.58s/epoch]"
     ]
    },
    {
     "name": "stdout",
     "output_type": "stream",
     "text": [
      "[Epoch 170/250] Training Loss: 0.3031\n"
     ]
    },
    {
     "name": "stderr",
     "output_type": "stream",
     "text": [
      "Training:  68%|██████▊   | 170/250 [5:38:47<2:39:35, 119.70s/epoch]"
     ]
    },
    {
     "name": "stdout",
     "output_type": "stream",
     "text": [
      "  Train => MSE=0.2492, CI=0.8628, Pearson=0.8137\n",
      "  Test  => MSE=0.3308, CI=0.8455, Pearson=0.7610\n",
      "Checkpoint saved at epoch 170\n",
      "Deleted previous checkpoint: /kaggle/working/TrainingModel1/model_epoch169.pt\n"
     ]
    },
    {
     "name": "stderr",
     "output_type": "stream",
     "text": [
      "Training:  68%|██████▊   | 170/250 [5:39:35<2:39:35, 119.70s/epoch]"
     ]
    },
    {
     "name": "stdout",
     "output_type": "stream",
     "text": [
      "[Epoch 171/250] Training Loss: 0.3061\n"
     ]
    },
    {
     "name": "stderr",
     "output_type": "stream",
     "text": [
      "Training:  68%|██████▊   | 171/250 [5:40:46<2:37:21, 119.51s/epoch]"
     ]
    },
    {
     "name": "stdout",
     "output_type": "stream",
     "text": [
      "  Train => MSE=0.2625, CI=0.8637, Pearson=0.8140\n",
      "  Test  => MSE=0.3471, CI=0.8509, Pearson=0.7602\n",
      "Checkpoint saved at epoch 171\n",
      "Deleted previous checkpoint: /kaggle/working/TrainingModel1/model_epoch170.pt\n"
     ]
    },
    {
     "name": "stderr",
     "output_type": "stream",
     "text": [
      "Training:  68%|██████▊   | 171/250 [5:41:34<2:37:21, 119.51s/epoch]"
     ]
    },
    {
     "name": "stdout",
     "output_type": "stream",
     "text": [
      "[Epoch 172/250] Training Loss: 0.3034\n"
     ]
    },
    {
     "name": "stderr",
     "output_type": "stream",
     "text": [
      "Training:  68%|██████▊   | 171/250 [5:42:45<2:37:21, 119.51s/epoch]"
     ]
    },
    {
     "name": "stdout",
     "output_type": "stream",
     "text": [
      "  Train => MSE=0.2585, CI=0.8638, Pearson=0.8082\n",
      "  Test  => MSE=0.3386, CI=0.8495, Pearson=0.7572\n"
     ]
    },
    {
     "name": "stderr",
     "output_type": "stream",
     "text": [
      "Training:  69%|██████▉   | 172/250 [5:42:45<2:35:03, 119.27s/epoch]"
     ]
    },
    {
     "name": "stdout",
     "output_type": "stream",
     "text": [
      "Checkpoint saved at epoch 172\n",
      "Deleted previous checkpoint: /kaggle/working/TrainingModel1/model_epoch171.pt\n"
     ]
    },
    {
     "name": "stderr",
     "output_type": "stream",
     "text": [
      "Training:  69%|██████▉   | 172/250 [5:43:34<2:35:03, 119.27s/epoch]"
     ]
    },
    {
     "name": "stdout",
     "output_type": "stream",
     "text": [
      "[Epoch 173/250] Training Loss: 0.3052\n"
     ]
    },
    {
     "name": "stderr",
     "output_type": "stream",
     "text": [
      "Training:  69%|██████▉   | 173/250 [5:44:45<2:33:06, 119.31s/epoch]"
     ]
    },
    {
     "name": "stdout",
     "output_type": "stream",
     "text": [
      "  Train => MSE=0.2402, CI=0.8627, Pearson=0.8211\n",
      "  Test  => MSE=0.3198, CI=0.8501, Pearson=0.7690\n",
      "Checkpoint saved at epoch 173\n",
      "Deleted previous checkpoint: /kaggle/working/TrainingModel1/model_epoch172.pt\n"
     ]
    },
    {
     "name": "stderr",
     "output_type": "stream",
     "text": [
      "Training:  69%|██████▉   | 173/250 [5:45:33<2:33:06, 119.31s/epoch]"
     ]
    },
    {
     "name": "stdout",
     "output_type": "stream",
     "text": [
      "[Epoch 174/250] Training Loss: 0.3120\n"
     ]
    },
    {
     "name": "stderr",
     "output_type": "stream",
     "text": [
      "Training:  70%|██████▉   | 174/250 [5:46:44<2:31:08, 119.32s/epoch]"
     ]
    },
    {
     "name": "stdout",
     "output_type": "stream",
     "text": [
      "  Train => MSE=0.2394, CI=0.8638, Pearson=0.8219\n",
      "  Test  => MSE=0.3274, CI=0.8371, Pearson=0.7627\n",
      "Checkpoint saved at epoch 174\n",
      "Deleted previous checkpoint: /kaggle/working/TrainingModel1/model_epoch173.pt\n"
     ]
    },
    {
     "name": "stderr",
     "output_type": "stream",
     "text": [
      "Training:  70%|██████▉   | 174/250 [5:47:32<2:31:08, 119.32s/epoch]"
     ]
    },
    {
     "name": "stdout",
     "output_type": "stream",
     "text": [
      "[Epoch 175/250] Training Loss: 0.2987\n"
     ]
    },
    {
     "name": "stderr",
     "output_type": "stream",
     "text": [
      "Training:  70%|███████   | 175/250 [5:48:43<2:29:06, 119.28s/epoch]"
     ]
    },
    {
     "name": "stdout",
     "output_type": "stream",
     "text": [
      "  Train => MSE=0.2433, CI=0.8656, Pearson=0.8202\n",
      "  Test  => MSE=0.3274, CI=0.8480, Pearson=0.7656\n",
      "Checkpoint saved at epoch 175\n",
      "Deleted previous checkpoint: /kaggle/working/TrainingModel1/model_epoch174.pt\n"
     ]
    },
    {
     "name": "stderr",
     "output_type": "stream",
     "text": [
      "Training:  70%|███████   | 175/250 [5:49:31<2:29:06, 119.28s/epoch]"
     ]
    },
    {
     "name": "stdout",
     "output_type": "stream",
     "text": [
      "[Epoch 176/250] Training Loss: 0.2973\n"
     ]
    },
    {
     "name": "stderr",
     "output_type": "stream",
     "text": [
      "Training:  70%|███████   | 176/250 [5:50:42<2:27:03, 119.24s/epoch]"
     ]
    },
    {
     "name": "stdout",
     "output_type": "stream",
     "text": [
      "  Train => MSE=0.2393, CI=0.8681, Pearson=0.8233\n",
      "  Test  => MSE=0.3246, CI=0.8492, Pearson=0.7682\n",
      "Checkpoint saved at epoch 176\n",
      "Deleted previous checkpoint: /kaggle/working/TrainingModel1/model_epoch175.pt\n"
     ]
    },
    {
     "name": "stderr",
     "output_type": "stream",
     "text": [
      "Training:  70%|███████   | 176/250 [5:51:30<2:27:03, 119.24s/epoch]"
     ]
    },
    {
     "name": "stdout",
     "output_type": "stream",
     "text": [
      "[Epoch 177/250] Training Loss: 0.2984\n"
     ]
    },
    {
     "name": "stderr",
     "output_type": "stream",
     "text": [
      "Training:  71%|███████   | 177/250 [5:52:41<2:25:01, 119.19s/epoch]"
     ]
    },
    {
     "name": "stdout",
     "output_type": "stream",
     "text": [
      "  Train => MSE=0.2400, CI=0.8662, Pearson=0.8219\n",
      "  Test  => MSE=0.3250, CI=0.8489, Pearson=0.7654\n",
      "Checkpoint saved at epoch 177\n",
      "Deleted previous checkpoint: /kaggle/working/TrainingModel1/model_epoch176.pt\n"
     ]
    },
    {
     "name": "stderr",
     "output_type": "stream",
     "text": [
      "Training:  71%|███████   | 177/250 [5:53:30<2:25:01, 119.19s/epoch]"
     ]
    },
    {
     "name": "stdout",
     "output_type": "stream",
     "text": [
      "[Epoch 178/250] Training Loss: 0.2959\n"
     ]
    },
    {
     "name": "stderr",
     "output_type": "stream",
     "text": [
      "Training:  71%|███████   | 178/250 [5:54:41<2:23:08, 119.28s/epoch]"
     ]
    },
    {
     "name": "stdout",
     "output_type": "stream",
     "text": [
      "  Train => MSE=0.2484, CI=0.8649, Pearson=0.8201\n",
      "  Test  => MSE=0.3321, CI=0.8482, Pearson=0.7651\n",
      "Checkpoint saved at epoch 178\n",
      "Deleted previous checkpoint: /kaggle/working/TrainingModel1/model_epoch177.pt\n"
     ]
    },
    {
     "name": "stderr",
     "output_type": "stream",
     "text": [
      "Training:  71%|███████   | 178/250 [5:55:29<2:23:08, 119.28s/epoch]"
     ]
    },
    {
     "name": "stdout",
     "output_type": "stream",
     "text": [
      "[Epoch 179/250] Training Loss: 0.2976\n"
     ]
    },
    {
     "name": "stderr",
     "output_type": "stream",
     "text": [
      "Training:  72%|███████▏  | 179/250 [5:56:40<2:21:09, 119.28s/epoch]"
     ]
    },
    {
     "name": "stdout",
     "output_type": "stream",
     "text": [
      "  Train => MSE=0.2474, CI=0.8662, Pearson=0.8152\n",
      "  Test  => MSE=0.3425, CI=0.8510, Pearson=0.7511\n",
      "Checkpoint saved at epoch 179\n",
      "Deleted previous checkpoint: /kaggle/working/TrainingModel1/model_epoch178.pt\n"
     ]
    },
    {
     "name": "stderr",
     "output_type": "stream",
     "text": [
      "Training:  72%|███████▏  | 179/250 [5:57:28<2:21:09, 119.28s/epoch]"
     ]
    },
    {
     "name": "stdout",
     "output_type": "stream",
     "text": [
      "[Epoch 180/250] Training Loss: 0.2976\n"
     ]
    },
    {
     "name": "stderr",
     "output_type": "stream",
     "text": [
      "Training:  72%|███████▏  | 180/250 [5:58:39<2:19:06, 119.24s/epoch]"
     ]
    },
    {
     "name": "stdout",
     "output_type": "stream",
     "text": [
      "  Train => MSE=0.2676, CI=0.8593, Pearson=0.8069\n",
      "  Test  => MSE=0.3480, CI=0.8450, Pearson=0.7558\n",
      "Checkpoint saved at epoch 180\n",
      "Deleted previous checkpoint: /kaggle/working/TrainingModel1/model_epoch179.pt\n"
     ]
    },
    {
     "name": "stderr",
     "output_type": "stream",
     "text": [
      "Training:  72%|███████▏  | 180/250 [5:59:27<2:19:06, 119.24s/epoch]"
     ]
    },
    {
     "name": "stdout",
     "output_type": "stream",
     "text": [
      "[Epoch 181/250] Training Loss: 0.2937\n"
     ]
    },
    {
     "name": "stderr",
     "output_type": "stream",
     "text": [
      "Training:  72%|███████▏  | 181/250 [6:00:38<2:16:59, 119.12s/epoch]"
     ]
    },
    {
     "name": "stdout",
     "output_type": "stream",
     "text": [
      "  Train => MSE=0.2564, CI=0.8668, Pearson=0.8095\n",
      "  Test  => MSE=0.3484, CI=0.8459, Pearson=0.7499\n",
      "Checkpoint saved at epoch 181\n",
      "Deleted previous checkpoint: /kaggle/working/TrainingModel1/model_epoch180.pt\n"
     ]
    },
    {
     "name": "stderr",
     "output_type": "stream",
     "text": [
      "Training:  72%|███████▏  | 181/250 [6:01:26<2:16:59, 119.12s/epoch]"
     ]
    },
    {
     "name": "stdout",
     "output_type": "stream",
     "text": [
      "[Epoch 182/250] Training Loss: 0.2905\n"
     ]
    },
    {
     "name": "stderr",
     "output_type": "stream",
     "text": [
      "Training:  73%|███████▎  | 182/250 [6:02:37<2:14:52, 119.01s/epoch]"
     ]
    },
    {
     "name": "stdout",
     "output_type": "stream",
     "text": [
      "  Train => MSE=0.2598, CI=0.8583, Pearson=0.8152\n",
      "  Test  => MSE=0.3424, CI=0.8464, Pearson=0.7587\n",
      "Checkpoint saved at epoch 182\n",
      "Deleted previous checkpoint: /kaggle/working/TrainingModel1/model_epoch181.pt\n"
     ]
    },
    {
     "name": "stderr",
     "output_type": "stream",
     "text": [
      "Training:  73%|███████▎  | 182/250 [6:03:24<2:14:52, 119.01s/epoch]"
     ]
    },
    {
     "name": "stdout",
     "output_type": "stream",
     "text": [
      "[Epoch 183/250] Training Loss: 0.2972\n"
     ]
    },
    {
     "name": "stderr",
     "output_type": "stream",
     "text": [
      "Training:  73%|███████▎  | 183/250 [6:04:35<2:12:44, 118.87s/epoch]"
     ]
    },
    {
     "name": "stdout",
     "output_type": "stream",
     "text": [
      "  Train => MSE=0.2504, CI=0.8672, Pearson=0.8236\n",
      "  Test  => MSE=0.3389, CI=0.8544, Pearson=0.7685\n",
      "Checkpoint saved at epoch 183\n",
      "Deleted previous checkpoint: /kaggle/working/TrainingModel1/model_epoch182.pt\n"
     ]
    },
    {
     "name": "stderr",
     "output_type": "stream",
     "text": [
      "Training:  73%|███████▎  | 183/250 [6:05:23<2:12:44, 118.87s/epoch]"
     ]
    },
    {
     "name": "stdout",
     "output_type": "stream",
     "text": [
      "[Epoch 184/250] Training Loss: 0.3046\n"
     ]
    },
    {
     "name": "stderr",
     "output_type": "stream",
     "text": [
      "Training:  74%|███████▎  | 184/250 [6:06:34<2:10:47, 118.90s/epoch]"
     ]
    },
    {
     "name": "stdout",
     "output_type": "stream",
     "text": [
      "  Train => MSE=0.2304, CI=0.8678, Pearson=0.8298\n",
      "  Test  => MSE=0.3147, CI=0.8482, Pearson=0.7745\n",
      "Checkpoint saved at epoch 184\n",
      "Deleted previous checkpoint: /kaggle/working/TrainingModel1/model_epoch183.pt\n"
     ]
    },
    {
     "name": "stderr",
     "output_type": "stream",
     "text": [
      "Training:  74%|███████▎  | 184/250 [6:07:21<2:10:47, 118.90s/epoch]"
     ]
    },
    {
     "name": "stdout",
     "output_type": "stream",
     "text": [
      "[Epoch 185/250] Training Loss: 0.2974\n"
     ]
    },
    {
     "name": "stderr",
     "output_type": "stream",
     "text": [
      "Training:  74%|███████▎  | 184/250 [6:08:33<2:10:47, 118.90s/epoch]"
     ]
    },
    {
     "name": "stdout",
     "output_type": "stream",
     "text": [
      "  Train => MSE=0.2334, CI=0.8704, Pearson=0.8351\n",
      "  Test  => MSE=0.3179, CI=0.8476, Pearson=0.7809\n"
     ]
    },
    {
     "name": "stderr",
     "output_type": "stream",
     "text": [
      "Training:  74%|███████▍  | 185/250 [6:08:33<2:08:38, 118.74s/epoch]"
     ]
    },
    {
     "name": "stdout",
     "output_type": "stream",
     "text": [
      "Checkpoint saved at epoch 185\n",
      "Deleted previous checkpoint: /kaggle/working/TrainingModel1/model_epoch184.pt\n"
     ]
    },
    {
     "name": "stderr",
     "output_type": "stream",
     "text": [
      "Training:  74%|███████▍  | 185/250 [6:09:21<2:08:38, 118.74s/epoch]"
     ]
    },
    {
     "name": "stdout",
     "output_type": "stream",
     "text": [
      "[Epoch 186/250] Training Loss: 0.3020\n"
     ]
    },
    {
     "name": "stderr",
     "output_type": "stream",
     "text": [
      "Training:  74%|███████▍  | 186/250 [6:10:32<2:06:44, 118.82s/epoch]"
     ]
    },
    {
     "name": "stdout",
     "output_type": "stream",
     "text": [
      "  Train => MSE=0.2350, CI=0.8699, Pearson=0.8283\n",
      "  Test  => MSE=0.3196, CI=0.8512, Pearson=0.7723\n",
      "Checkpoint saved at epoch 186\n",
      "Deleted previous checkpoint: /kaggle/working/TrainingModel1/model_epoch185.pt\n"
     ]
    },
    {
     "name": "stderr",
     "output_type": "stream",
     "text": [
      "Training:  74%|███████▍  | 186/250 [6:11:20<2:06:44, 118.82s/epoch]"
     ]
    },
    {
     "name": "stdout",
     "output_type": "stream",
     "text": [
      "[Epoch 187/250] Training Loss: 0.2976\n"
     ]
    },
    {
     "name": "stderr",
     "output_type": "stream",
     "text": [
      "Training:  75%|███████▍  | 187/250 [6:12:31<2:04:55, 118.97s/epoch]"
     ]
    },
    {
     "name": "stdout",
     "output_type": "stream",
     "text": [
      "  Train => MSE=0.2419, CI=0.8658, Pearson=0.8235\n",
      "  Test  => MSE=0.3243, CI=0.8453, Pearson=0.7694\n",
      "Checkpoint saved at epoch 187\n",
      "Deleted previous checkpoint: /kaggle/working/TrainingModel1/model_epoch186.pt\n"
     ]
    },
    {
     "name": "stderr",
     "output_type": "stream",
     "text": [
      "Training:  75%|███████▍  | 187/250 [6:13:19<2:04:55, 118.97s/epoch]"
     ]
    },
    {
     "name": "stdout",
     "output_type": "stream",
     "text": [
      "[Epoch 188/250] Training Loss: 0.2914\n"
     ]
    },
    {
     "name": "stderr",
     "output_type": "stream",
     "text": [
      "Training:  75%|███████▌  | 188/250 [6:14:31<2:03:07, 119.15s/epoch]"
     ]
    },
    {
     "name": "stdout",
     "output_type": "stream",
     "text": [
      "  Train => MSE=0.2294, CI=0.8691, Pearson=0.8308\n",
      "  Test  => MSE=0.3152, CI=0.8531, Pearson=0.7753\n",
      "Checkpoint saved at epoch 188\n",
      "Deleted previous checkpoint: /kaggle/working/TrainingModel1/model_epoch187.pt\n"
     ]
    },
    {
     "name": "stderr",
     "output_type": "stream",
     "text": [
      "Training:  75%|███████▌  | 188/250 [6:15:19<2:03:07, 119.15s/epoch]"
     ]
    },
    {
     "name": "stdout",
     "output_type": "stream",
     "text": [
      "[Epoch 189/250] Training Loss: 0.2971\n"
     ]
    },
    {
     "name": "stderr",
     "output_type": "stream",
     "text": [
      "Training:  76%|███████▌  | 189/250 [6:16:31<2:01:24, 119.41s/epoch]"
     ]
    },
    {
     "name": "stdout",
     "output_type": "stream",
     "text": [
      "  Train => MSE=0.2307, CI=0.8693, Pearson=0.8290\n",
      "  Test  => MSE=0.3062, CI=0.8540, Pearson=0.7804\n",
      "Checkpoint saved at epoch 189\n",
      "Deleted previous checkpoint: /kaggle/working/TrainingModel1/model_epoch188.pt\n"
     ]
    },
    {
     "name": "stderr",
     "output_type": "stream",
     "text": [
      "Training:  76%|███████▌  | 189/250 [6:17:18<2:01:24, 119.41s/epoch]"
     ]
    },
    {
     "name": "stdout",
     "output_type": "stream",
     "text": [
      "[Epoch 190/250] Training Loss: 0.2883\n"
     ]
    },
    {
     "name": "stderr",
     "output_type": "stream",
     "text": [
      "Training:  76%|███████▌  | 190/250 [6:18:29<1:59:12, 119.21s/epoch]"
     ]
    },
    {
     "name": "stdout",
     "output_type": "stream",
     "text": [
      "  Train => MSE=0.2473, CI=0.8569, Pearson=0.8154\n",
      "  Test  => MSE=0.3346, CI=0.8428, Pearson=0.7578\n",
      "Checkpoint saved at epoch 190\n",
      "Deleted previous checkpoint: /kaggle/working/TrainingModel1/model_epoch189.pt\n"
     ]
    },
    {
     "name": "stderr",
     "output_type": "stream",
     "text": [
      "Training:  76%|███████▌  | 190/250 [6:19:18<1:59:12, 119.21s/epoch]"
     ]
    },
    {
     "name": "stdout",
     "output_type": "stream",
     "text": [
      "[Epoch 191/250] Training Loss: 0.2907\n"
     ]
    },
    {
     "name": "stderr",
     "output_type": "stream",
     "text": [
      "Training:  76%|███████▋  | 191/250 [6:20:29<1:57:16, 119.27s/epoch]"
     ]
    },
    {
     "name": "stdout",
     "output_type": "stream",
     "text": [
      "  Train => MSE=0.2304, CI=0.8726, Pearson=0.8293\n",
      "  Test  => MSE=0.3047, CI=0.8507, Pearson=0.7814\n",
      "Checkpoint saved at epoch 191\n",
      "Deleted previous checkpoint: /kaggle/working/TrainingModel1/model_epoch190.pt\n"
     ]
    },
    {
     "name": "stderr",
     "output_type": "stream",
     "text": [
      "Training:  76%|███████▋  | 191/250 [6:21:17<1:57:16, 119.27s/epoch]"
     ]
    },
    {
     "name": "stdout",
     "output_type": "stream",
     "text": [
      "[Epoch 192/250] Training Loss: 0.2861\n"
     ]
    },
    {
     "name": "stderr",
     "output_type": "stream",
     "text": [
      "Training:  77%|███████▋  | 192/250 [6:22:28<1:55:24, 119.38s/epoch]"
     ]
    },
    {
     "name": "stdout",
     "output_type": "stream",
     "text": [
      "  Train => MSE=0.2336, CI=0.8704, Pearson=0.8286\n",
      "  Test  => MSE=0.3283, CI=0.8501, Pearson=0.7675\n",
      "Checkpoint saved at epoch 192\n",
      "Deleted previous checkpoint: /kaggle/working/TrainingModel1/model_epoch191.pt\n"
     ]
    },
    {
     "name": "stderr",
     "output_type": "stream",
     "text": [
      "Training:  77%|███████▋  | 192/250 [6:23:17<1:55:24, 119.38s/epoch]"
     ]
    },
    {
     "name": "stdout",
     "output_type": "stream",
     "text": [
      "[Epoch 193/250] Training Loss: 0.2905\n"
     ]
    },
    {
     "name": "stderr",
     "output_type": "stream",
     "text": [
      "Training:  77%|███████▋  | 193/250 [6:24:28<1:53:31, 119.50s/epoch]"
     ]
    },
    {
     "name": "stdout",
     "output_type": "stream",
     "text": [
      "  Train => MSE=0.2247, CI=0.8703, Pearson=0.8344\n",
      "  Test  => MSE=0.3176, CI=0.8497, Pearson=0.7715\n",
      "Checkpoint saved at epoch 193\n",
      "Deleted previous checkpoint: /kaggle/working/TrainingModel1/model_epoch192.pt\n"
     ]
    },
    {
     "name": "stderr",
     "output_type": "stream",
     "text": [
      "Training:  77%|███████▋  | 193/250 [6:25:17<1:53:31, 119.50s/epoch]"
     ]
    },
    {
     "name": "stdout",
     "output_type": "stream",
     "text": [
      "[Epoch 194/250] Training Loss: 0.2938\n"
     ]
    },
    {
     "name": "stderr",
     "output_type": "stream",
     "text": [
      "Training:  78%|███████▊  | 194/250 [6:26:28<1:51:34, 119.55s/epoch]"
     ]
    },
    {
     "name": "stdout",
     "output_type": "stream",
     "text": [
      "  Train => MSE=0.2515, CI=0.8693, Pearson=0.8183\n",
      "  Test  => MSE=0.3344, CI=0.8532, Pearson=0.7660\n",
      "Checkpoint saved at epoch 194\n",
      "Deleted previous checkpoint: /kaggle/working/TrainingModel1/model_epoch193.pt\n"
     ]
    },
    {
     "name": "stderr",
     "output_type": "stream",
     "text": [
      "Training:  78%|███████▊  | 194/250 [6:27:16<1:51:34, 119.55s/epoch]"
     ]
    },
    {
     "name": "stdout",
     "output_type": "stream",
     "text": [
      "[Epoch 195/250] Training Loss: 0.2945\n"
     ]
    },
    {
     "name": "stderr",
     "output_type": "stream",
     "text": [
      "Training:  78%|███████▊  | 195/250 [6:28:28<1:49:41, 119.67s/epoch]"
     ]
    },
    {
     "name": "stdout",
     "output_type": "stream",
     "text": [
      "  Train => MSE=0.2305, CI=0.8720, Pearson=0.8315\n",
      "  Test  => MSE=0.3164, CI=0.8511, Pearson=0.7768\n",
      "Checkpoint saved at epoch 195\n",
      "Deleted previous checkpoint: /kaggle/working/TrainingModel1/model_epoch194.pt\n"
     ]
    },
    {
     "name": "stderr",
     "output_type": "stream",
     "text": [
      "Training:  78%|███████▊  | 195/250 [6:29:15<1:49:41, 119.67s/epoch]"
     ]
    },
    {
     "name": "stdout",
     "output_type": "stream",
     "text": [
      "[Epoch 196/250] Training Loss: 0.2859\n"
     ]
    },
    {
     "name": "stderr",
     "output_type": "stream",
     "text": [
      "Training:  78%|███████▊  | 196/250 [6:30:27<1:47:29, 119.43s/epoch]"
     ]
    },
    {
     "name": "stdout",
     "output_type": "stream",
     "text": [
      "  Train => MSE=0.2242, CI=0.8739, Pearson=0.8364\n",
      "  Test  => MSE=0.3080, CI=0.8567, Pearson=0.7810\n",
      "Checkpoint saved at epoch 196\n",
      "Deleted previous checkpoint: /kaggle/working/TrainingModel1/model_epoch195.pt\n"
     ]
    },
    {
     "name": "stderr",
     "output_type": "stream",
     "text": [
      "Training:  78%|███████▊  | 196/250 [6:31:14<1:47:29, 119.43s/epoch]"
     ]
    },
    {
     "name": "stdout",
     "output_type": "stream",
     "text": [
      "[Epoch 197/250] Training Loss: 0.2913\n"
     ]
    },
    {
     "name": "stderr",
     "output_type": "stream",
     "text": [
      "Training:  79%|███████▉  | 197/250 [6:32:26<1:45:20, 119.25s/epoch]"
     ]
    },
    {
     "name": "stdout",
     "output_type": "stream",
     "text": [
      "  Train => MSE=0.2318, CI=0.8676, Pearson=0.8289\n",
      "  Test  => MSE=0.3219, CI=0.8535, Pearson=0.7683\n",
      "Checkpoint saved at epoch 197\n",
      "Deleted previous checkpoint: /kaggle/working/TrainingModel1/model_epoch196.pt\n"
     ]
    },
    {
     "name": "stderr",
     "output_type": "stream",
     "text": [
      "Training:  79%|███████▉  | 197/250 [6:33:14<1:45:20, 119.25s/epoch]"
     ]
    },
    {
     "name": "stdout",
     "output_type": "stream",
     "text": [
      "[Epoch 198/250] Training Loss: 0.2825\n"
     ]
    },
    {
     "name": "stderr",
     "output_type": "stream",
     "text": [
      "Training:  79%|███████▉  | 197/250 [6:34:25<1:45:20, 119.25s/epoch]"
     ]
    },
    {
     "name": "stdout",
     "output_type": "stream",
     "text": [
      "  Train => MSE=0.2294, CI=0.8686, Pearson=0.8313\n",
      "  Test  => MSE=0.3195, CI=0.8533, Pearson=0.7713\n"
     ]
    },
    {
     "name": "stderr",
     "output_type": "stream",
     "text": [
      "Training:  79%|███████▉  | 198/250 [6:34:26<1:43:32, 119.47s/epoch]"
     ]
    },
    {
     "name": "stdout",
     "output_type": "stream",
     "text": [
      "Checkpoint saved at epoch 198\n",
      "Deleted previous checkpoint: /kaggle/working/TrainingModel1/model_epoch197.pt\n"
     ]
    },
    {
     "name": "stderr",
     "output_type": "stream",
     "text": [
      "Training:  79%|███████▉  | 198/250 [6:35:13<1:43:32, 119.47s/epoch]"
     ]
    },
    {
     "name": "stdout",
     "output_type": "stream",
     "text": [
      "[Epoch 199/250] Training Loss: 0.2894\n"
     ]
    },
    {
     "name": "stderr",
     "output_type": "stream",
     "text": [
      "Training:  80%|███████▉  | 199/250 [6:36:24<1:41:20, 119.23s/epoch]"
     ]
    },
    {
     "name": "stdout",
     "output_type": "stream",
     "text": [
      "  Train => MSE=0.2321, CI=0.8702, Pearson=0.8341\n",
      "  Test  => MSE=0.3327, CI=0.8535, Pearson=0.7673\n",
      "Checkpoint saved at epoch 199\n",
      "Deleted previous checkpoint: /kaggle/working/TrainingModel1/model_epoch198.pt\n"
     ]
    },
    {
     "name": "stderr",
     "output_type": "stream",
     "text": [
      "Training:  80%|███████▉  | 199/250 [6:37:12<1:41:20, 119.23s/epoch]"
     ]
    },
    {
     "name": "stdout",
     "output_type": "stream",
     "text": [
      "[Epoch 200/250] Training Loss: 0.2827\n"
     ]
    },
    {
     "name": "stderr",
     "output_type": "stream",
     "text": [
      "Training:  80%|████████  | 200/250 [6:38:23<1:39:17, 119.14s/epoch]"
     ]
    },
    {
     "name": "stdout",
     "output_type": "stream",
     "text": [
      "  Train => MSE=0.2181, CI=0.8744, Pearson=0.8398\n",
      "  Test  => MSE=0.3088, CI=0.8524, Pearson=0.7784\n",
      "Checkpoint saved at epoch 200\n",
      "Deleted previous checkpoint: /kaggle/working/TrainingModel1/model_epoch199.pt\n"
     ]
    },
    {
     "name": "stderr",
     "output_type": "stream",
     "text": [
      "Training:  80%|████████  | 200/250 [6:39:11<1:39:17, 119.14s/epoch]"
     ]
    },
    {
     "name": "stdout",
     "output_type": "stream",
     "text": [
      "[Epoch 201/250] Training Loss: 0.2821\n"
     ]
    },
    {
     "name": "stderr",
     "output_type": "stream",
     "text": [
      "Training:  80%|████████  | 201/250 [6:40:22<1:37:20, 119.20s/epoch]"
     ]
    },
    {
     "name": "stdout",
     "output_type": "stream",
     "text": [
      "  Train => MSE=0.2228, CI=0.8747, Pearson=0.8369\n",
      "  Test  => MSE=0.3105, CI=0.8573, Pearson=0.7806\n",
      "Checkpoint saved at epoch 201\n",
      "Deleted previous checkpoint: /kaggle/working/TrainingModel1/model_epoch200.pt\n"
     ]
    },
    {
     "name": "stderr",
     "output_type": "stream",
     "text": [
      "Training:  80%|████████  | 201/250 [6:41:10<1:37:20, 119.20s/epoch]"
     ]
    },
    {
     "name": "stdout",
     "output_type": "stream",
     "text": [
      "[Epoch 202/250] Training Loss: 0.2897\n"
     ]
    },
    {
     "name": "stderr",
     "output_type": "stream",
     "text": [
      "Training:  81%|████████  | 202/250 [6:42:21<1:35:12, 119.00s/epoch]"
     ]
    },
    {
     "name": "stdout",
     "output_type": "stream",
     "text": [
      "  Train => MSE=0.2252, CI=0.8757, Pearson=0.8393\n",
      "  Test  => MSE=0.3167, CI=0.8529, Pearson=0.7806\n",
      "Checkpoint saved at epoch 202\n",
      "Deleted previous checkpoint: /kaggle/working/TrainingModel1/model_epoch201.pt\n"
     ]
    },
    {
     "name": "stderr",
     "output_type": "stream",
     "text": [
      "Training:  81%|████████  | 202/250 [6:43:09<1:35:12, 119.00s/epoch]"
     ]
    },
    {
     "name": "stdout",
     "output_type": "stream",
     "text": [
      "[Epoch 203/250] Training Loss: 0.2783\n"
     ]
    },
    {
     "name": "stderr",
     "output_type": "stream",
     "text": [
      "Training:  81%|████████  | 203/250 [6:44:20<1:33:17, 119.09s/epoch]"
     ]
    },
    {
     "name": "stdout",
     "output_type": "stream",
     "text": [
      "  Train => MSE=0.2538, CI=0.8751, Pearson=0.8391\n",
      "  Test  => MSE=0.3472, CI=0.8551, Pearson=0.7822\n",
      "Checkpoint saved at epoch 203\n",
      "Deleted previous checkpoint: /kaggle/working/TrainingModel1/model_epoch202.pt\n"
     ]
    },
    {
     "name": "stderr",
     "output_type": "stream",
     "text": [
      "Training:  81%|████████  | 203/250 [6:45:08<1:33:17, 119.09s/epoch]"
     ]
    },
    {
     "name": "stdout",
     "output_type": "stream",
     "text": [
      "[Epoch 204/250] Training Loss: 0.2909\n"
     ]
    },
    {
     "name": "stderr",
     "output_type": "stream",
     "text": [
      "Training:  82%|████████▏ | 204/250 [6:46:19<1:31:12, 118.98s/epoch]"
     ]
    },
    {
     "name": "stdout",
     "output_type": "stream",
     "text": [
      "  Train => MSE=0.2399, CI=0.8664, Pearson=0.8222\n",
      "  Test  => MSE=0.3363, CI=0.8499, Pearson=0.7573\n",
      "Checkpoint saved at epoch 204\n",
      "Deleted previous checkpoint: /kaggle/working/TrainingModel1/model_epoch203.pt\n"
     ]
    },
    {
     "name": "stderr",
     "output_type": "stream",
     "text": [
      "Training:  82%|████████▏ | 204/250 [6:47:07<1:31:12, 118.98s/epoch]"
     ]
    },
    {
     "name": "stdout",
     "output_type": "stream",
     "text": [
      "[Epoch 205/250] Training Loss: 0.2810\n"
     ]
    },
    {
     "name": "stderr",
     "output_type": "stream",
     "text": [
      "Training:  82%|████████▏ | 205/250 [6:48:18<1:29:17, 119.07s/epoch]"
     ]
    },
    {
     "name": "stdout",
     "output_type": "stream",
     "text": [
      "  Train => MSE=0.2093, CI=0.8752, Pearson=0.8462\n",
      "  Test  => MSE=0.3054, CI=0.8531, Pearson=0.7815\n",
      "Checkpoint saved at epoch 205\n",
      "Deleted previous checkpoint: /kaggle/working/TrainingModel1/model_epoch204.pt\n"
     ]
    },
    {
     "name": "stderr",
     "output_type": "stream",
     "text": [
      "Training:  82%|████████▏ | 205/250 [6:49:06<1:29:17, 119.07s/epoch]"
     ]
    },
    {
     "name": "stdout",
     "output_type": "stream",
     "text": [
      "[Epoch 206/250] Training Loss: 0.2827\n"
     ]
    },
    {
     "name": "stderr",
     "output_type": "stream",
     "text": [
      "Training:  82%|████████▏ | 206/250 [6:50:17<1:27:18, 119.05s/epoch]"
     ]
    },
    {
     "name": "stdout",
     "output_type": "stream",
     "text": [
      "  Train => MSE=0.2243, CI=0.8735, Pearson=0.8389\n",
      "  Test  => MSE=0.3170, CI=0.8504, Pearson=0.7772\n",
      "Checkpoint saved at epoch 206\n",
      "Deleted previous checkpoint: /kaggle/working/TrainingModel1/model_epoch205.pt\n"
     ]
    },
    {
     "name": "stderr",
     "output_type": "stream",
     "text": [
      "Training:  82%|████████▏ | 206/250 [6:51:05<1:27:18, 119.05s/epoch]"
     ]
    },
    {
     "name": "stdout",
     "output_type": "stream",
     "text": [
      "[Epoch 207/250] Training Loss: 0.2741\n"
     ]
    },
    {
     "name": "stderr",
     "output_type": "stream",
     "text": [
      "Training:  83%|████████▎ | 207/250 [6:52:17<1:25:23, 119.14s/epoch]"
     ]
    },
    {
     "name": "stdout",
     "output_type": "stream",
     "text": [
      "  Train => MSE=0.2132, CI=0.8748, Pearson=0.8432\n",
      "  Test  => MSE=0.3067, CI=0.8513, Pearson=0.7809\n",
      "Checkpoint saved at epoch 207\n",
      "Deleted previous checkpoint: /kaggle/working/TrainingModel1/model_epoch206.pt\n"
     ]
    },
    {
     "name": "stderr",
     "output_type": "stream",
     "text": [
      "Training:  83%|████████▎ | 207/250 [6:53:06<1:25:23, 119.14s/epoch]"
     ]
    },
    {
     "name": "stdout",
     "output_type": "stream",
     "text": [
      "[Epoch 208/250] Training Loss: 0.2709\n"
     ]
    },
    {
     "name": "stderr",
     "output_type": "stream",
     "text": [
      "Training:  83%|████████▎ | 208/250 [6:54:17<1:23:42, 119.59s/epoch]"
     ]
    },
    {
     "name": "stdout",
     "output_type": "stream",
     "text": [
      "  Train => MSE=0.2301, CI=0.8733, Pearson=0.8357\n",
      "  Test  => MSE=0.3300, CI=0.8539, Pearson=0.7675\n",
      "Checkpoint saved at epoch 208\n",
      "Deleted previous checkpoint: /kaggle/working/TrainingModel1/model_epoch207.pt\n"
     ]
    },
    {
     "name": "stderr",
     "output_type": "stream",
     "text": [
      "Training:  83%|████████▎ | 208/250 [6:55:05<1:23:42, 119.59s/epoch]"
     ]
    },
    {
     "name": "stdout",
     "output_type": "stream",
     "text": [
      "[Epoch 209/250] Training Loss: 0.2757\n"
     ]
    },
    {
     "name": "stderr",
     "output_type": "stream",
     "text": [
      "Training:  84%|████████▎ | 209/250 [6:56:17<1:21:40, 119.53s/epoch]"
     ]
    },
    {
     "name": "stdout",
     "output_type": "stream",
     "text": [
      "  Train => MSE=0.2172, CI=0.8771, Pearson=0.8459\n",
      "  Test  => MSE=0.3108, CI=0.8560, Pearson=0.7834\n",
      "Checkpoint saved at epoch 209\n",
      "Deleted previous checkpoint: /kaggle/working/TrainingModel1/model_epoch208.pt\n"
     ]
    },
    {
     "name": "stderr",
     "output_type": "stream",
     "text": [
      "Training:  84%|████████▎ | 209/250 [6:57:05<1:21:40, 119.53s/epoch]"
     ]
    },
    {
     "name": "stdout",
     "output_type": "stream",
     "text": [
      "[Epoch 210/250] Training Loss: 0.2773\n"
     ]
    },
    {
     "name": "stderr",
     "output_type": "stream",
     "text": [
      "Training:  84%|████████▍ | 210/250 [6:58:16<1:19:40, 119.52s/epoch]"
     ]
    },
    {
     "name": "stdout",
     "output_type": "stream",
     "text": [
      "  Train => MSE=0.2319, CI=0.8739, Pearson=0.8280\n",
      "  Test  => MSE=0.3234, CI=0.8528, Pearson=0.7671\n",
      "Checkpoint saved at epoch 210\n",
      "Deleted previous checkpoint: /kaggle/working/TrainingModel1/model_epoch209.pt\n"
     ]
    },
    {
     "name": "stderr",
     "output_type": "stream",
     "text": [
      "Training:  84%|████████▍ | 210/250 [6:59:03<1:19:40, 119.52s/epoch]"
     ]
    },
    {
     "name": "stdout",
     "output_type": "stream",
     "text": [
      "[Epoch 211/250] Training Loss: 0.2789\n"
     ]
    },
    {
     "name": "stderr",
     "output_type": "stream",
     "text": [
      "Training:  84%|████████▍ | 210/250 [7:00:15<1:19:40, 119.52s/epoch]"
     ]
    },
    {
     "name": "stdout",
     "output_type": "stream",
     "text": [
      "  Train => MSE=0.2216, CI=0.8710, Pearson=0.8395\n",
      "  Test  => MSE=0.3074, CI=0.8506, Pearson=0.7803\n"
     ]
    },
    {
     "name": "stderr",
     "output_type": "stream",
     "text": [
      "Training:  84%|████████▍ | 211/250 [7:00:15<1:17:30, 119.25s/epoch]"
     ]
    },
    {
     "name": "stdout",
     "output_type": "stream",
     "text": [
      "Checkpoint saved at epoch 211\n",
      "Deleted previous checkpoint: /kaggle/working/TrainingModel1/model_epoch210.pt\n"
     ]
    },
    {
     "name": "stderr",
     "output_type": "stream",
     "text": [
      "Training:  84%|████████▍ | 211/250 [7:01:03<1:17:30, 119.25s/epoch]"
     ]
    },
    {
     "name": "stdout",
     "output_type": "stream",
     "text": [
      "[Epoch 212/250] Training Loss: 0.2765\n"
     ]
    },
    {
     "name": "stderr",
     "output_type": "stream",
     "text": [
      "Training:  85%|████████▍ | 212/250 [7:02:14<1:15:29, 119.19s/epoch]"
     ]
    },
    {
     "name": "stdout",
     "output_type": "stream",
     "text": [
      "  Train => MSE=0.2371, CI=0.8710, Pearson=0.8279\n",
      "  Test  => MSE=0.3297, CI=0.8471, Pearson=0.7665\n",
      "Checkpoint saved at epoch 212\n",
      "Deleted previous checkpoint: /kaggle/working/TrainingModel1/model_epoch211.pt\n"
     ]
    },
    {
     "name": "stderr",
     "output_type": "stream",
     "text": [
      "Training:  85%|████████▍ | 212/250 [7:03:03<1:15:29, 119.19s/epoch]"
     ]
    },
    {
     "name": "stdout",
     "output_type": "stream",
     "text": [
      "[Epoch 213/250] Training Loss: 0.2698\n"
     ]
    },
    {
     "name": "stderr",
     "output_type": "stream",
     "text": [
      "Training:  85%|████████▌ | 213/250 [7:04:14<1:13:42, 119.52s/epoch]"
     ]
    },
    {
     "name": "stdout",
     "output_type": "stream",
     "text": [
      "  Train => MSE=0.2096, CI=0.8763, Pearson=0.8468\n",
      "  Test  => MSE=0.3049, CI=0.8537, Pearson=0.7811\n",
      "Checkpoint saved at epoch 213\n",
      "Deleted previous checkpoint: /kaggle/working/TrainingModel1/model_epoch212.pt\n"
     ]
    },
    {
     "name": "stderr",
     "output_type": "stream",
     "text": [
      "Training:  85%|████████▌ | 213/250 [7:05:03<1:13:42, 119.52s/epoch]"
     ]
    },
    {
     "name": "stdout",
     "output_type": "stream",
     "text": [
      "[Epoch 214/250] Training Loss: 0.2756\n"
     ]
    },
    {
     "name": "stderr",
     "output_type": "stream",
     "text": [
      "Training:  86%|████████▌ | 214/250 [7:06:14<1:11:50, 119.73s/epoch]"
     ]
    },
    {
     "name": "stdout",
     "output_type": "stream",
     "text": [
      "  Train => MSE=0.2283, CI=0.8714, Pearson=0.8328\n",
      "  Test  => MSE=0.3222, CI=0.8532, Pearson=0.7682\n",
      "Checkpoint saved at epoch 214\n",
      "Deleted previous checkpoint: /kaggle/working/TrainingModel1/model_epoch213.pt\n"
     ]
    },
    {
     "name": "stderr",
     "output_type": "stream",
     "text": [
      "Training:  86%|████████▌ | 214/250 [7:07:02<1:11:50, 119.73s/epoch]"
     ]
    },
    {
     "name": "stdout",
     "output_type": "stream",
     "text": [
      "[Epoch 215/250] Training Loss: 0.2701\n"
     ]
    },
    {
     "name": "stderr",
     "output_type": "stream",
     "text": [
      "Training:  86%|████████▌ | 215/250 [7:08:13<1:09:42, 119.51s/epoch]"
     ]
    },
    {
     "name": "stdout",
     "output_type": "stream",
     "text": [
      "  Train => MSE=0.2082, CI=0.8756, Pearson=0.8491\n",
      "  Test  => MSE=0.3136, CI=0.8501, Pearson=0.7760\n",
      "Checkpoint saved at epoch 215\n",
      "Deleted previous checkpoint: /kaggle/working/TrainingModel1/model_epoch214.pt\n"
     ]
    },
    {
     "name": "stderr",
     "output_type": "stream",
     "text": [
      "Training:  86%|████████▌ | 215/250 [7:09:02<1:09:42, 119.51s/epoch]"
     ]
    },
    {
     "name": "stdout",
     "output_type": "stream",
     "text": [
      "[Epoch 216/250] Training Loss: 0.2759\n"
     ]
    },
    {
     "name": "stderr",
     "output_type": "stream",
     "text": [
      "Training:  86%|████████▋ | 216/250 [7:10:14<1:07:51, 119.75s/epoch]"
     ]
    },
    {
     "name": "stdout",
     "output_type": "stream",
     "text": [
      "  Train => MSE=0.2089, CI=0.8773, Pearson=0.8479\n",
      "  Test  => MSE=0.3067, CI=0.8524, Pearson=0.7804\n",
      "Checkpoint saved at epoch 216\n",
      "Deleted previous checkpoint: /kaggle/working/TrainingModel1/model_epoch215.pt\n"
     ]
    },
    {
     "name": "stderr",
     "output_type": "stream",
     "text": [
      "Training:  86%|████████▋ | 216/250 [7:11:02<1:07:51, 119.75s/epoch]"
     ]
    },
    {
     "name": "stdout",
     "output_type": "stream",
     "text": [
      "[Epoch 217/250] Training Loss: 0.2683\n"
     ]
    },
    {
     "name": "stderr",
     "output_type": "stream",
     "text": [
      "Training:  87%|████████▋ | 217/250 [7:12:13<1:05:50, 119.71s/epoch]"
     ]
    },
    {
     "name": "stdout",
     "output_type": "stream",
     "text": [
      "  Train => MSE=0.2176, CI=0.8762, Pearson=0.8409\n",
      "  Test  => MSE=0.3097, CI=0.8534, Pearson=0.7778\n",
      "Checkpoint saved at epoch 217\n",
      "Deleted previous checkpoint: /kaggle/working/TrainingModel1/model_epoch216.pt\n"
     ]
    },
    {
     "name": "stderr",
     "output_type": "stream",
     "text": [
      "Training:  87%|████████▋ | 217/250 [7:13:01<1:05:50, 119.71s/epoch]"
     ]
    },
    {
     "name": "stdout",
     "output_type": "stream",
     "text": [
      "[Epoch 218/250] Training Loss: 0.2849\n"
     ]
    },
    {
     "name": "stderr",
     "output_type": "stream",
     "text": [
      "Training:  87%|████████▋ | 218/250 [7:14:12<1:03:45, 119.54s/epoch]"
     ]
    },
    {
     "name": "stdout",
     "output_type": "stream",
     "text": [
      "  Train => MSE=0.2304, CI=0.8619, Pearson=0.8334\n",
      "  Test  => MSE=0.3209, CI=0.8435, Pearson=0.7725\n",
      "Checkpoint saved at epoch 218\n",
      "Deleted previous checkpoint: /kaggle/working/TrainingModel1/model_epoch217.pt\n"
     ]
    },
    {
     "name": "stderr",
     "output_type": "stream",
     "text": [
      "Training:  87%|████████▋ | 218/250 [7:15:02<1:03:45, 119.54s/epoch]"
     ]
    },
    {
     "name": "stdout",
     "output_type": "stream",
     "text": [
      "[Epoch 219/250] Training Loss: 0.2642\n"
     ]
    },
    {
     "name": "stderr",
     "output_type": "stream",
     "text": [
      "Training:  88%|████████▊ | 219/250 [7:16:13<1:01:58, 119.94s/epoch]"
     ]
    },
    {
     "name": "stdout",
     "output_type": "stream",
     "text": [
      "  Train => MSE=0.2102, CI=0.8760, Pearson=0.8484\n",
      "  Test  => MSE=0.3039, CI=0.8506, Pearson=0.7874\n",
      "Checkpoint saved at epoch 219\n",
      "Deleted previous checkpoint: /kaggle/working/TrainingModel1/model_epoch218.pt\n"
     ]
    },
    {
     "name": "stderr",
     "output_type": "stream",
     "text": [
      "Training:  88%|████████▊ | 219/250 [7:17:02<1:01:58, 119.94s/epoch]"
     ]
    },
    {
     "name": "stdout",
     "output_type": "stream",
     "text": [
      "[Epoch 220/250] Training Loss: 0.2660\n"
     ]
    },
    {
     "name": "stderr",
     "output_type": "stream",
     "text": [
      "Training:  88%|████████▊ | 220/250 [7:18:14<1:00:04, 120.14s/epoch]"
     ]
    },
    {
     "name": "stdout",
     "output_type": "stream",
     "text": [
      "  Train => MSE=0.2076, CI=0.8777, Pearson=0.8487\n",
      "  Test  => MSE=0.3059, CI=0.8554, Pearson=0.7837\n",
      "Checkpoint saved at epoch 220\n",
      "Deleted previous checkpoint: /kaggle/working/TrainingModel1/model_epoch219.pt\n"
     ]
    },
    {
     "name": "stderr",
     "output_type": "stream",
     "text": [
      "Training:  88%|████████▊ | 220/250 [7:19:02<1:00:04, 120.14s/epoch]"
     ]
    },
    {
     "name": "stdout",
     "output_type": "stream",
     "text": [
      "[Epoch 221/250] Training Loss: 0.2674\n"
     ]
    },
    {
     "name": "stderr",
     "output_type": "stream",
     "text": [
      "Training:  88%|████████▊ | 221/250 [7:20:14<58:04, 120.17s/epoch]  "
     ]
    },
    {
     "name": "stdout",
     "output_type": "stream",
     "text": [
      "  Train => MSE=0.2046, CI=0.8753, Pearson=0.8512\n",
      "  Test  => MSE=0.3034, CI=0.8518, Pearson=0.7829\n",
      "Checkpoint saved at epoch 221\n",
      "Deleted previous checkpoint: /kaggle/working/TrainingModel1/model_epoch220.pt\n"
     ]
    },
    {
     "name": "stderr",
     "output_type": "stream",
     "text": [
      "Training:  88%|████████▊ | 221/250 [7:21:03<58:04, 120.17s/epoch]"
     ]
    },
    {
     "name": "stdout",
     "output_type": "stream",
     "text": [
      "[Epoch 222/250] Training Loss: 0.2651\n"
     ]
    },
    {
     "name": "stderr",
     "output_type": "stream",
     "text": [
      "Training:  89%|████████▉ | 222/250 [7:22:15<56:08, 120.32s/epoch]"
     ]
    },
    {
     "name": "stdout",
     "output_type": "stream",
     "text": [
      "  Train => MSE=0.2054, CI=0.8794, Pearson=0.8512\n",
      "  Test  => MSE=0.3015, CI=0.8564, Pearson=0.7852\n",
      "Checkpoint saved at epoch 222\n",
      "Deleted previous checkpoint: /kaggle/working/TrainingModel1/model_epoch221.pt\n"
     ]
    },
    {
     "name": "stderr",
     "output_type": "stream",
     "text": [
      "Training:  89%|████████▉ | 222/250 [7:23:04<56:08, 120.32s/epoch]"
     ]
    },
    {
     "name": "stdout",
     "output_type": "stream",
     "text": [
      "[Epoch 223/250] Training Loss: 0.2721\n"
     ]
    },
    {
     "name": "stderr",
     "output_type": "stream",
     "text": [
      "Training:  89%|████████▉ | 223/250 [7:24:16<54:13, 120.49s/epoch]"
     ]
    },
    {
     "name": "stdout",
     "output_type": "stream",
     "text": [
      "  Train => MSE=0.2018, CI=0.8772, Pearson=0.8535\n",
      "  Test  => MSE=0.2997, CI=0.8527, Pearson=0.7895\n",
      "Checkpoint saved at epoch 223\n",
      "Deleted previous checkpoint: /kaggle/working/TrainingModel1/model_epoch222.pt\n"
     ]
    },
    {
     "name": "stderr",
     "output_type": "stream",
     "text": [
      "Training:  89%|████████▉ | 223/250 [7:25:05<54:13, 120.49s/epoch]"
     ]
    },
    {
     "name": "stdout",
     "output_type": "stream",
     "text": [
      "[Epoch 224/250] Training Loss: 0.2554\n"
     ]
    },
    {
     "name": "stderr",
     "output_type": "stream",
     "text": [
      "Training:  89%|████████▉ | 223/250 [7:26:17<54:13, 120.49s/epoch]"
     ]
    },
    {
     "name": "stdout",
     "output_type": "stream",
     "text": [
      "  Train => MSE=0.2063, CI=0.8775, Pearson=0.8508\n",
      "  Test  => MSE=0.3126, CI=0.8459, Pearson=0.7793\n"
     ]
    },
    {
     "name": "stderr",
     "output_type": "stream",
     "text": [
      "Training:  90%|████████▉ | 224/250 [7:26:17<52:18, 120.71s/epoch]"
     ]
    },
    {
     "name": "stdout",
     "output_type": "stream",
     "text": [
      "Checkpoint saved at epoch 224\n",
      "Deleted previous checkpoint: /kaggle/working/TrainingModel1/model_epoch223.pt\n"
     ]
    },
    {
     "name": "stderr",
     "output_type": "stream",
     "text": [
      "Training:  90%|████████▉ | 224/250 [7:27:06<52:18, 120.71s/epoch]"
     ]
    },
    {
     "name": "stdout",
     "output_type": "stream",
     "text": [
      "[Epoch 225/250] Training Loss: 0.2638\n"
     ]
    },
    {
     "name": "stderr",
     "output_type": "stream",
     "text": [
      "Training:  90%|█████████ | 225/250 [7:28:17<50:14, 120.56s/epoch]"
     ]
    },
    {
     "name": "stdout",
     "output_type": "stream",
     "text": [
      "  Train => MSE=0.2141, CI=0.8728, Pearson=0.8423\n",
      "  Test  => MSE=0.3092, CI=0.8527, Pearson=0.7780\n",
      "Checkpoint saved at epoch 225\n",
      "Deleted previous checkpoint: /kaggle/working/TrainingModel1/model_epoch224.pt\n"
     ]
    },
    {
     "name": "stderr",
     "output_type": "stream",
     "text": [
      "Training:  90%|█████████ | 225/250 [7:29:07<50:14, 120.56s/epoch]"
     ]
    },
    {
     "name": "stdout",
     "output_type": "stream",
     "text": [
      "[Epoch 226/250] Training Loss: 0.2656\n"
     ]
    },
    {
     "name": "stderr",
     "output_type": "stream",
     "text": [
      "Training:  90%|█████████ | 226/250 [7:30:18<48:16, 120.70s/epoch]"
     ]
    },
    {
     "name": "stdout",
     "output_type": "stream",
     "text": [
      "  Train => MSE=0.2210, CI=0.8799, Pearson=0.8515\n",
      "  Test  => MSE=0.3208, CI=0.8574, Pearson=0.7883\n",
      "Checkpoint saved at epoch 226\n",
      "Deleted previous checkpoint: /kaggle/working/TrainingModel1/model_epoch225.pt\n"
     ]
    },
    {
     "name": "stderr",
     "output_type": "stream",
     "text": [
      "Training:  90%|█████████ | 226/250 [7:31:06<48:16, 120.70s/epoch]"
     ]
    },
    {
     "name": "stdout",
     "output_type": "stream",
     "text": [
      "[Epoch 227/250] Training Loss: 0.2676\n"
     ]
    },
    {
     "name": "stderr",
     "output_type": "stream",
     "text": [
      "Training:  91%|█████████ | 227/250 [7:32:18<46:09, 120.40s/epoch]"
     ]
    },
    {
     "name": "stdout",
     "output_type": "stream",
     "text": [
      "  Train => MSE=0.2116, CI=0.8712, Pearson=0.8444\n",
      "  Test  => MSE=0.3049, CI=0.8517, Pearson=0.7817\n",
      "Checkpoint saved at epoch 227\n",
      "Deleted previous checkpoint: /kaggle/working/TrainingModel1/model_epoch226.pt\n"
     ]
    },
    {
     "name": "stderr",
     "output_type": "stream",
     "text": [
      "Training:  91%|█████████ | 227/250 [7:33:07<46:09, 120.40s/epoch]"
     ]
    },
    {
     "name": "stdout",
     "output_type": "stream",
     "text": [
      "[Epoch 228/250] Training Loss: 0.2618\n"
     ]
    },
    {
     "name": "stderr",
     "output_type": "stream",
     "text": [
      "Training:  91%|█████████ | 228/250 [7:34:19<44:11, 120.55s/epoch]"
     ]
    },
    {
     "name": "stdout",
     "output_type": "stream",
     "text": [
      "  Train => MSE=0.2056, CI=0.8796, Pearson=0.8534\n",
      "  Test  => MSE=0.3010, CI=0.8598, Pearson=0.7876\n",
      "Checkpoint saved at epoch 228\n",
      "Deleted previous checkpoint: /kaggle/working/TrainingModel1/model_epoch227.pt\n"
     ]
    },
    {
     "name": "stderr",
     "output_type": "stream",
     "text": [
      "Training:  91%|█████████ | 228/250 [7:35:08<44:11, 120.55s/epoch]"
     ]
    },
    {
     "name": "stdout",
     "output_type": "stream",
     "text": [
      "[Epoch 229/250] Training Loss: 0.2632\n"
     ]
    },
    {
     "name": "stderr",
     "output_type": "stream",
     "text": [
      "Training:  92%|█████████▏| 229/250 [7:36:20<42:15, 120.73s/epoch]"
     ]
    },
    {
     "name": "stdout",
     "output_type": "stream",
     "text": [
      "  Train => MSE=0.2010, CI=0.8765, Pearson=0.8535\n",
      "  Test  => MSE=0.3063, CI=0.8534, Pearson=0.7806\n",
      "Checkpoint saved at epoch 229\n",
      "Deleted previous checkpoint: /kaggle/working/TrainingModel1/model_epoch228.pt\n"
     ]
    },
    {
     "name": "stderr",
     "output_type": "stream",
     "text": [
      "Training:  92%|█████████▏| 229/250 [7:37:09<42:15, 120.73s/epoch]"
     ]
    },
    {
     "name": "stdout",
     "output_type": "stream",
     "text": [
      "[Epoch 230/250] Training Loss: 0.2674\n"
     ]
    },
    {
     "name": "stderr",
     "output_type": "stream",
     "text": [
      "Training:  92%|█████████▏| 230/250 [7:38:21<40:14, 120.73s/epoch]"
     ]
    },
    {
     "name": "stdout",
     "output_type": "stream",
     "text": [
      "  Train => MSE=0.1991, CI=0.8796, Pearson=0.8546\n",
      "  Test  => MSE=0.2946, CI=0.8576, Pearson=0.7908\n",
      "Checkpoint saved at epoch 230\n",
      "Deleted previous checkpoint: /kaggle/working/TrainingModel1/model_epoch229.pt\n"
     ]
    },
    {
     "name": "stderr",
     "output_type": "stream",
     "text": [
      "Training:  92%|█████████▏| 230/250 [7:39:09<40:14, 120.73s/epoch]"
     ]
    },
    {
     "name": "stdout",
     "output_type": "stream",
     "text": [
      "[Epoch 231/250] Training Loss: 0.2591\n"
     ]
    },
    {
     "name": "stderr",
     "output_type": "stream",
     "text": [
      "Training:  92%|█████████▏| 231/250 [7:40:21<38:11, 120.63s/epoch]"
     ]
    },
    {
     "name": "stdout",
     "output_type": "stream",
     "text": [
      "  Train => MSE=0.2182, CI=0.8795, Pearson=0.8483\n",
      "  Test  => MSE=0.3288, CI=0.8577, Pearson=0.7757\n",
      "Checkpoint saved at epoch 231\n",
      "Deleted previous checkpoint: /kaggle/working/TrainingModel1/model_epoch230.pt\n"
     ]
    },
    {
     "name": "stderr",
     "output_type": "stream",
     "text": [
      "Training:  92%|█████████▏| 231/250 [7:41:10<38:11, 120.63s/epoch]"
     ]
    },
    {
     "name": "stdout",
     "output_type": "stream",
     "text": [
      "[Epoch 232/250] Training Loss: 0.2578\n"
     ]
    },
    {
     "name": "stderr",
     "output_type": "stream",
     "text": [
      "Training:  93%|█████████▎| 232/250 [7:42:22<36:13, 120.76s/epoch]"
     ]
    },
    {
     "name": "stdout",
     "output_type": "stream",
     "text": [
      "  Train => MSE=0.2017, CI=0.8794, Pearson=0.8528\n",
      "  Test  => MSE=0.3043, CI=0.8529, Pearson=0.7830\n",
      "Checkpoint saved at epoch 232\n",
      "Deleted previous checkpoint: /kaggle/working/TrainingModel1/model_epoch231.pt\n"
     ]
    },
    {
     "name": "stderr",
     "output_type": "stream",
     "text": [
      "Training:  93%|█████████▎| 232/250 [7:43:12<36:13, 120.76s/epoch]"
     ]
    },
    {
     "name": "stdout",
     "output_type": "stream",
     "text": [
      "[Epoch 233/250] Training Loss: 0.2547\n"
     ]
    },
    {
     "name": "stderr",
     "output_type": "stream",
     "text": [
      "Training:  93%|█████████▎| 233/250 [7:44:24<34:19, 121.13s/epoch]"
     ]
    },
    {
     "name": "stdout",
     "output_type": "stream",
     "text": [
      "  Train => MSE=0.2002, CI=0.8793, Pearson=0.8559\n",
      "  Test  => MSE=0.3049, CI=0.8521, Pearson=0.7834\n",
      "Checkpoint saved at epoch 233\n",
      "Deleted previous checkpoint: /kaggle/working/TrainingModel1/model_epoch232.pt\n"
     ]
    },
    {
     "name": "stderr",
     "output_type": "stream",
     "text": [
      "Training:  93%|█████████▎| 233/250 [7:45:13<34:19, 121.13s/epoch]"
     ]
    },
    {
     "name": "stdout",
     "output_type": "stream",
     "text": [
      "[Epoch 234/250] Training Loss: 0.2684\n"
     ]
    },
    {
     "name": "stderr",
     "output_type": "stream",
     "text": [
      "Training:  94%|█████████▎| 234/250 [7:46:25<32:17, 121.11s/epoch]"
     ]
    },
    {
     "name": "stdout",
     "output_type": "stream",
     "text": [
      "  Train => MSE=0.2118, CI=0.8748, Pearson=0.8475\n",
      "  Test  => MSE=0.3134, CI=0.8547, Pearson=0.7773\n",
      "Checkpoint saved at epoch 234\n",
      "Deleted previous checkpoint: /kaggle/working/TrainingModel1/model_epoch233.pt\n"
     ]
    },
    {
     "name": "stderr",
     "output_type": "stream",
     "text": [
      "Training:  94%|█████████▎| 234/250 [7:47:15<32:17, 121.11s/epoch]"
     ]
    },
    {
     "name": "stdout",
     "output_type": "stream",
     "text": [
      "[Epoch 235/250] Training Loss: 0.2597\n"
     ]
    },
    {
     "name": "stderr",
     "output_type": "stream",
     "text": [
      "Training:  94%|█████████▍| 235/250 [7:48:27<30:20, 121.36s/epoch]"
     ]
    },
    {
     "name": "stdout",
     "output_type": "stream",
     "text": [
      "  Train => MSE=0.2040, CI=0.8685, Pearson=0.8505\n",
      "  Test  => MSE=0.3010, CI=0.8409, Pearson=0.7860\n",
      "Checkpoint saved at epoch 235\n",
      "Deleted previous checkpoint: /kaggle/working/TrainingModel1/model_epoch234.pt\n"
     ]
    },
    {
     "name": "stderr",
     "output_type": "stream",
     "text": [
      "Training:  94%|█████████▍| 235/250 [7:49:15<30:20, 121.36s/epoch]"
     ]
    },
    {
     "name": "stdout",
     "output_type": "stream",
     "text": [
      "[Epoch 236/250] Training Loss: 0.2687\n"
     ]
    },
    {
     "name": "stderr",
     "output_type": "stream",
     "text": [
      "Training:  94%|█████████▍| 236/250 [7:50:27<28:13, 120.97s/epoch]"
     ]
    },
    {
     "name": "stdout",
     "output_type": "stream",
     "text": [
      "  Train => MSE=0.1935, CI=0.8813, Pearson=0.8591\n",
      "  Test  => MSE=0.3010, CI=0.8516, Pearson=0.7872\n",
      "Checkpoint saved at epoch 236\n",
      "Deleted previous checkpoint: /kaggle/working/TrainingModel1/model_epoch235.pt\n"
     ]
    },
    {
     "name": "stderr",
     "output_type": "stream",
     "text": [
      "Training:  94%|█████████▍| 236/250 [7:51:16<28:13, 120.97s/epoch]"
     ]
    },
    {
     "name": "stdout",
     "output_type": "stream",
     "text": [
      "[Epoch 237/250] Training Loss: 0.2556\n"
     ]
    },
    {
     "name": "stderr",
     "output_type": "stream",
     "text": [
      "Training:  94%|█████████▍| 236/250 [7:52:28<28:13, 120.97s/epoch]"
     ]
    },
    {
     "name": "stdout",
     "output_type": "stream",
     "text": [
      "  Train => MSE=0.2112, CI=0.8748, Pearson=0.8511\n",
      "  Test  => MSE=0.3095, CI=0.8480, Pearson=0.7858\n"
     ]
    },
    {
     "name": "stderr",
     "output_type": "stream",
     "text": [
      "Training:  95%|█████████▍| 237/250 [7:52:28<26:13, 121.05s/epoch]"
     ]
    },
    {
     "name": "stdout",
     "output_type": "stream",
     "text": [
      "Checkpoint saved at epoch 237\n",
      "Deleted previous checkpoint: /kaggle/working/TrainingModel1/model_epoch236.pt\n"
     ]
    },
    {
     "name": "stderr",
     "output_type": "stream",
     "text": [
      "Training:  95%|█████████▍| 237/250 [7:53:18<26:13, 121.05s/epoch]"
     ]
    },
    {
     "name": "stdout",
     "output_type": "stream",
     "text": [
      "[Epoch 238/250] Training Loss: 0.2587\n"
     ]
    },
    {
     "name": "stderr",
     "output_type": "stream",
     "text": [
      "Training:  95%|█████████▌| 238/250 [7:54:29<24:12, 121.05s/epoch]"
     ]
    },
    {
     "name": "stdout",
     "output_type": "stream",
     "text": [
      "  Train => MSE=0.2030, CI=0.8773, Pearson=0.8515\n",
      "  Test  => MSE=0.3050, CI=0.8520, Pearson=0.7814\n",
      "Checkpoint saved at epoch 238\n",
      "Deleted previous checkpoint: /kaggle/working/TrainingModel1/model_epoch237.pt\n"
     ]
    },
    {
     "name": "stderr",
     "output_type": "stream",
     "text": [
      "Training:  95%|█████████▌| 238/250 [7:55:19<24:12, 121.05s/epoch]"
     ]
    },
    {
     "name": "stdout",
     "output_type": "stream",
     "text": [
      "[Epoch 239/250] Training Loss: 0.2599\n"
     ]
    },
    {
     "name": "stderr",
     "output_type": "stream",
     "text": [
      "Training:  96%|█████████▌| 239/250 [7:56:31<22:12, 121.12s/epoch]"
     ]
    },
    {
     "name": "stdout",
     "output_type": "stream",
     "text": [
      "  Train => MSE=0.2018, CI=0.8799, Pearson=0.8533\n",
      "  Test  => MSE=0.3025, CI=0.8541, Pearson=0.7874\n",
      "Checkpoint saved at epoch 239\n",
      "Deleted previous checkpoint: /kaggle/working/TrainingModel1/model_epoch238.pt\n"
     ]
    },
    {
     "name": "stderr",
     "output_type": "stream",
     "text": [
      "Training:  96%|█████████▌| 239/250 [7:57:20<22:12, 121.12s/epoch]"
     ]
    },
    {
     "name": "stdout",
     "output_type": "stream",
     "text": [
      "[Epoch 240/250] Training Loss: 0.2593\n"
     ]
    },
    {
     "name": "stderr",
     "output_type": "stream",
     "text": [
      "Training:  96%|█████████▌| 240/250 [7:58:32<20:12, 121.23s/epoch]"
     ]
    },
    {
     "name": "stdout",
     "output_type": "stream",
     "text": [
      "  Train => MSE=0.1918, CI=0.8803, Pearson=0.8633\n",
      "  Test  => MSE=0.2976, CI=0.8546, Pearson=0.7905\n",
      "Checkpoint saved at epoch 240\n",
      "Deleted previous checkpoint: /kaggle/working/TrainingModel1/model_epoch239.pt\n"
     ]
    },
    {
     "name": "stderr",
     "output_type": "stream",
     "text": [
      "Training:  96%|█████████▌| 240/250 [7:59:21<20:12, 121.23s/epoch]"
     ]
    },
    {
     "name": "stdout",
     "output_type": "stream",
     "text": [
      "[Epoch 241/250] Training Loss: 0.2594\n"
     ]
    },
    {
     "name": "stderr",
     "output_type": "stream",
     "text": [
      "Training:  96%|█████████▋| 241/250 [8:00:33<18:10, 121.22s/epoch]"
     ]
    },
    {
     "name": "stdout",
     "output_type": "stream",
     "text": [
      "  Train => MSE=0.2012, CI=0.8787, Pearson=0.8551\n",
      "  Test  => MSE=0.3030, CI=0.8517, Pearson=0.7871\n",
      "Checkpoint saved at epoch 241\n",
      "Deleted previous checkpoint: /kaggle/working/TrainingModel1/model_epoch240.pt\n"
     ]
    },
    {
     "name": "stderr",
     "output_type": "stream",
     "text": [
      "Training:  96%|█████████▋| 241/250 [8:01:22<18:10, 121.22s/epoch]"
     ]
    },
    {
     "name": "stdout",
     "output_type": "stream",
     "text": [
      "[Epoch 242/250] Training Loss: 0.2542\n"
     ]
    },
    {
     "name": "stderr",
     "output_type": "stream",
     "text": [
      "Training:  97%|█████████▋| 242/250 [8:02:34<16:08, 121.03s/epoch]"
     ]
    },
    {
     "name": "stdout",
     "output_type": "stream",
     "text": [
      "  Train => MSE=0.1933, CI=0.8792, Pearson=0.8602\n",
      "  Test  => MSE=0.2994, CI=0.8487, Pearson=0.7889\n",
      "Checkpoint saved at epoch 242\n",
      "Deleted previous checkpoint: /kaggle/working/TrainingModel1/model_epoch241.pt\n"
     ]
    },
    {
     "name": "stderr",
     "output_type": "stream",
     "text": [
      "Training:  97%|█████████▋| 242/250 [8:03:22<16:08, 121.03s/epoch]"
     ]
    },
    {
     "name": "stdout",
     "output_type": "stream",
     "text": [
      "[Epoch 243/250] Training Loss: 0.2681\n"
     ]
    },
    {
     "name": "stderr",
     "output_type": "stream",
     "text": [
      "Training:  97%|█████████▋| 243/250 [8:04:34<14:05, 120.77s/epoch]"
     ]
    },
    {
     "name": "stdout",
     "output_type": "stream",
     "text": [
      "  Train => MSE=0.1896, CI=0.8841, Pearson=0.8628\n",
      "  Test  => MSE=0.3005, CI=0.8548, Pearson=0.7853\n",
      "Checkpoint saved at epoch 243\n",
      "Deleted previous checkpoint: /kaggle/working/TrainingModel1/model_epoch242.pt\n"
     ]
    },
    {
     "name": "stderr",
     "output_type": "stream",
     "text": [
      "Training:  97%|█████████▋| 243/250 [8:05:22<14:05, 120.77s/epoch]"
     ]
    },
    {
     "name": "stdout",
     "output_type": "stream",
     "text": [
      "[Epoch 244/250] Training Loss: 0.2527\n"
     ]
    },
    {
     "name": "stderr",
     "output_type": "stream",
     "text": [
      "Training:  98%|█████████▊| 244/250 [8:06:34<12:03, 120.56s/epoch]"
     ]
    },
    {
     "name": "stdout",
     "output_type": "stream",
     "text": [
      "  Train => MSE=0.2013, CI=0.8766, Pearson=0.8533\n",
      "  Test  => MSE=0.2984, CI=0.8547, Pearson=0.7869\n",
      "Checkpoint saved at epoch 244\n",
      "Deleted previous checkpoint: /kaggle/working/TrainingModel1/model_epoch243.pt\n"
     ]
    },
    {
     "name": "stderr",
     "output_type": "stream",
     "text": [
      "Training:  98%|█████████▊| 244/250 [8:07:23<12:03, 120.56s/epoch]"
     ]
    },
    {
     "name": "stdout",
     "output_type": "stream",
     "text": [
      "[Epoch 245/250] Training Loss: 0.2585\n"
     ]
    },
    {
     "name": "stderr",
     "output_type": "stream",
     "text": [
      "Training:  98%|█████████▊| 245/250 [8:08:35<10:03, 120.70s/epoch]"
     ]
    },
    {
     "name": "stdout",
     "output_type": "stream",
     "text": [
      "  Train => MSE=0.2014, CI=0.8772, Pearson=0.8539\n",
      "  Test  => MSE=0.2938, CI=0.8546, Pearson=0.7904\n",
      "Checkpoint saved at epoch 245\n",
      "Deleted previous checkpoint: /kaggle/working/TrainingModel1/model_epoch244.pt\n"
     ]
    },
    {
     "name": "stderr",
     "output_type": "stream",
     "text": [
      "Training:  98%|█████████▊| 245/250 [8:09:25<10:03, 120.70s/epoch]"
     ]
    },
    {
     "name": "stdout",
     "output_type": "stream",
     "text": [
      "[Epoch 246/250] Training Loss: 0.2494\n"
     ]
    },
    {
     "name": "stderr",
     "output_type": "stream",
     "text": [
      "Training:  98%|█████████▊| 246/250 [8:10:37<08:03, 120.88s/epoch]"
     ]
    },
    {
     "name": "stdout",
     "output_type": "stream",
     "text": [
      "  Train => MSE=0.1894, CI=0.8817, Pearson=0.8641\n",
      "  Test  => MSE=0.2892, CI=0.8554, Pearson=0.7962\n",
      "Checkpoint saved at epoch 246\n",
      "Deleted previous checkpoint: /kaggle/working/TrainingModel1/model_epoch245.pt\n"
     ]
    },
    {
     "name": "stderr",
     "output_type": "stream",
     "text": [
      "Training:  98%|█████████▊| 246/250 [8:11:25<08:03, 120.88s/epoch]"
     ]
    },
    {
     "name": "stdout",
     "output_type": "stream",
     "text": [
      "[Epoch 247/250] Training Loss: 0.2477\n"
     ]
    },
    {
     "name": "stderr",
     "output_type": "stream",
     "text": [
      "Training:  99%|█████████▉| 247/250 [8:12:38<06:02, 120.95s/epoch]"
     ]
    },
    {
     "name": "stdout",
     "output_type": "stream",
     "text": [
      "  Train => MSE=0.1921, CI=0.8794, Pearson=0.8624\n",
      "  Test  => MSE=0.2955, CI=0.8474, Pearson=0.7917\n",
      "Checkpoint saved at epoch 247\n",
      "Deleted previous checkpoint: /kaggle/working/TrainingModel1/model_epoch246.pt\n"
     ]
    },
    {
     "name": "stderr",
     "output_type": "stream",
     "text": [
      "Training:  99%|█████████▉| 247/250 [8:13:26<06:02, 120.95s/epoch]"
     ]
    },
    {
     "name": "stdout",
     "output_type": "stream",
     "text": [
      "[Epoch 248/250] Training Loss: 0.2572\n"
     ]
    },
    {
     "name": "stderr",
     "output_type": "stream",
     "text": [
      "Training:  99%|█████████▉| 248/250 [8:14:38<04:01, 120.89s/epoch]"
     ]
    },
    {
     "name": "stdout",
     "output_type": "stream",
     "text": [
      "  Train => MSE=0.2047, CI=0.8791, Pearson=0.8596\n",
      "  Test  => MSE=0.2993, CI=0.8475, Pearson=0.7928\n",
      "Checkpoint saved at epoch 248\n",
      "Deleted previous checkpoint: /kaggle/working/TrainingModel1/model_epoch247.pt\n"
     ]
    },
    {
     "name": "stderr",
     "output_type": "stream",
     "text": [
      "Training:  99%|█████████▉| 248/250 [8:15:27<04:01, 120.89s/epoch]"
     ]
    },
    {
     "name": "stdout",
     "output_type": "stream",
     "text": [
      "[Epoch 249/250] Training Loss: 0.2529\n"
     ]
    },
    {
     "name": "stderr",
     "output_type": "stream",
     "text": [
      "Training: 100%|█████████▉| 249/250 [8:16:39<02:00, 120.91s/epoch]"
     ]
    },
    {
     "name": "stdout",
     "output_type": "stream",
     "text": [
      "  Train => MSE=0.1874, CI=0.8821, Pearson=0.8654\n",
      "  Test  => MSE=0.2873, CI=0.8535, Pearson=0.7983\n",
      "Checkpoint saved at epoch 249\n",
      "Deleted previous checkpoint: /kaggle/working/TrainingModel1/model_epoch248.pt\n"
     ]
    },
    {
     "name": "stderr",
     "output_type": "stream",
     "text": [
      "Training: 100%|█████████▉| 249/250 [8:17:27<02:00, 120.91s/epoch]"
     ]
    },
    {
     "name": "stdout",
     "output_type": "stream",
     "text": [
      "[Epoch 250/250] Training Loss: 0.2567\n"
     ]
    },
    {
     "name": "stderr",
     "output_type": "stream",
     "text": [
      "Training: 100%|█████████▉| 249/250 [8:18:39<02:00, 120.91s/epoch]"
     ]
    },
    {
     "name": "stdout",
     "output_type": "stream",
     "text": [
      "  Train => MSE=0.1920, CI=0.8837, Pearson=0.8610\n",
      "  Test  => MSE=0.3064, CI=0.8547, Pearson=0.7830\n"
     ]
    },
    {
     "name": "stderr",
     "output_type": "stream",
     "text": [
      "Training: 100%|██████████| 250/250 [8:18:39<00:00, 119.68s/epoch]\n"
     ]
    },
    {
     "name": "stdout",
     "output_type": "stream",
     "text": [
      "Checkpoint saved at epoch 250\n",
      "Deleted previous checkpoint: /kaggle/working/TrainingModel1/model_epoch249.pt\n",
      "\n",
      "Final Train => MSE=0.1920, CI=0.8837, Pearson=0.8610\n",
      "Final Test  => MSE=0.3064, CI=0.8547, Pearson=0.7830\n",
      "Metrics saved to /kaggle/working/TrainingModel1/training_metrics.pt\n"
     ]
    },
    {
     "data": {
      "image/png": "[encoded data removed]",
      "text/plain": [
       "<Figure size 800x600 with 1 Axes>"
      ]
     },
     "metadata": {},
     "output_type": "display_data"
    },
    {
     "data": {
      "image/png": "[encoded data removed]",
      "text/plain": [
       "<Figure size 800x600 with 1 Axes>"
      ]
     },
     "metadata": {},
     "output_type": "display_data"
    },
    {
     "data": {
      "image/png": "[encoded data removed]",
      "text/plain": [
       "<Figure size 800x600 with 1 Axes>"
      ]
     },
     "metadata": {},
     "output_type": "display_data"
    }
   ],
   "source": [
    "#model 1\n",
    "import os\n",
    "import warnings\n",
    "import torch\n",
    "import torch.nn as nn\n",
    "import torch.nn.functional as F\n",
    "import torch.optim as optim\n",
    "from torch.nn import MSELoss\n",
    "from torch_geometric.nn import GCNConv, global_mean_pool as gep\n",
    "from torch_geometric.data import Data, Batch\n",
    "from sklearn.model_selection import train_test_split\n",
    "from tqdm import tqdm\n",
    "import numpy as np\n",
    "\n",
    "# Optional, for plotting:\n",
    "import matplotlib.pyplot as plt\n",
    "\n",
    "##############################################################################\n",
    "#                               1. METRICS\n",
    "##############################################################################\n",
    "\n",
    "@torch.no_grad()\n",
    "def ci_vectorized(preds: torch.Tensor, targets: torch.Tensor) -> float:\n",
    "    \"\"\"\n",
    "    Naive O(N^2) Concordance Index using vectorized GPU operations.\n",
    "    preds, targets: (N,) on the same device (e.g. cuda).\n",
    "    \"\"\"\n",
    "    # (N, N) differences\n",
    "    p_diff = preds.unsqueeze(1) - preds.unsqueeze(0)\n",
    "    t_diff = targets.unsqueeze(1) - targets.unsqueeze(0)\n",
    "    # mask out pairs where targets are identical\n",
    "    mask = (t_diff != 0)\n",
    "    # sign of product => +1 (concordant), 0 (tie), -1 (discordant)\n",
    "    sign_mat = torch.sign(p_diff * t_diff)\n",
    "    # step function h(x): 1 if x>0, 0.5 if x=0, 0 if x<0\n",
    "    h = (sign_mat == 1).float() + 0.5 * (sign_mat == 0).float()\n",
    "    # apply mask\n",
    "    h_masked = h * mask.float()\n",
    "    c = h_masked.sum()\n",
    "    s = mask.sum().float()\n",
    "    return (c / s).item() if s > 0 else 0.0\n",
    "\n",
    "@torch.no_grad()\n",
    "def mse_torch(preds: torch.Tensor, targets: torch.Tensor) -> float:\n",
    "    \"\"\"\n",
    "    GPU-friendly MSE using torch's built-in mean squared error.\n",
    "    \"\"\"\n",
    "    return F.mse_loss(preds, targets, reduction='mean').item()\n",
    "\n",
    "@torch.no_grad()\n",
    "def pearson_torch(preds: torch.Tensor, targets: torch.Tensor) -> float:\n",
    "    \"\"\"\n",
    "    Pearson correlation coefficient in PyTorch (GPU-friendly).\n",
    "    preds, targets: (N,) on the same device\n",
    "    \"\"\"\n",
    "    p_centered = preds - preds.mean()\n",
    "    t_centered = targets - targets.mean()\n",
    "    cov = (p_centered * t_centered).sum()\n",
    "    denom = torch.sqrt((p_centered**2).sum()) * torch.sqrt((t_centered**2).sum())\n",
    "    eps = 1e-8\n",
    "    return (cov / (denom + eps)).item()\n",
    "\n",
    "##############################################################################\n",
    "#                       2. GNN MODEL DEFINITION\n",
    "##############################################################################\n",
    "\n",
    "import torch\n",
    "import torch.nn as nn\n",
    "import torch.nn.functional as F\n",
    "from torch_geometric.nn import GCNConv, global_mean_pool as gep\n",
    "\n",
    "\n",
    "class BidirectionalCrossAttention(nn.Module):\n",
    "    def __init__(self, embed_dim=128, num_heads=4, chunk_size=2048):\n",
    "        super().__init__()\n",
    "        \"\"\"\n",
    "        Bidirectional Cross-Attention Formulas:\n",
    "        \n",
    "        For Graph A → Graph B:\n",
    "            Q_A = X_A W_Q_A, K_B = X_B W_K_A, V_B = X_B W_V_A\n",
    "            Z_A = softmax(Q_A K_B^T / √d) V_B\n",
    "            \n",
    "        For Graph B → Graph A:\n",
    "            Q_B = X_B W_Q_B, K_A = X_A W_K_B, V_A = X_A W_V_B\n",
    "            Z_B = softmax(Q_B K_A^T / √d) V_A\n",
    "        \"\"\"\n",
    "        self.embed_dim = embed_dim\n",
    "        self.chunk_size = chunk_size  # Adjust this value to control memory usage\n",
    "        \n",
    "        # Graph A → Graph B weights\n",
    "        self.W_Q_A = nn.Linear(embed_dim, embed_dim)\n",
    "        self.W_K_A = nn.Linear(embed_dim, embed_dim)\n",
    "        self.W_V_A = nn.Linear(embed_dim, embed_dim)\n",
    "        \n",
    "        # Graph B → Graph A weights\n",
    "        self.W_Q_B = nn.Linear(embed_dim, embed_dim)\n",
    "        self.W_K_B = nn.Linear(embed_dim, embed_dim)\n",
    "        self.W_V_B = nn.Linear(embed_dim, embed_dim)\n",
    "        \n",
    "        self.scale = 1.0 / torch.sqrt(torch.tensor(embed_dim, dtype=torch.float32))\n",
    "\n",
    "    def forward(self, X_A, X_B, batch_A, batch_B):\n",
    "        \"\"\"\n",
    "        Args:\n",
    "            X_A: Graph A node embeddings [total_A_nodes, embed_dim]\n",
    "            X_B: Graph B node embeddings [total_B_nodes, embed_dim]\n",
    "            batch_A: Batch indices for Graph A [total_A_nodes]\n",
    "            batch_B: Batch indices for Graph B [total_B_nodes]\n",
    "        Returns:\n",
    "            Z_A: Updated embeddings for Graph A (same shape as X_A)\n",
    "            Z_B: Updated embeddings for Graph B (same shape as X_B)\n",
    "        \"\"\"\n",
    "        # Compute linear projections for both directions\n",
    "        Q_A = self.W_Q_A(X_A)  # [N_A, embed_dim]\n",
    "        K_B = self.W_K_A(X_B)  # [N_B, embed_dim]\n",
    "        V_B = self.W_V_A(X_B)  # [N_B, embed_dim]\n",
    "        \n",
    "        Q_B = self.W_Q_B(X_B)  # [N_B, embed_dim]\n",
    "        K_A = self.W_K_B(X_A)  # [N_A, embed_dim]\n",
    "        V_A = self.W_V_B(X_A)  # [N_A, embed_dim]\n",
    "        \n",
    "        # Create mask so that only nodes from the same sample attend to each other\n",
    "        mask_AB = self._create_mask(batch_A, batch_B)  # [N_A, N_B]\n",
    "        mask_BA = mask_AB.T  # [N_B, N_A]\n",
    "        \n",
    "        # Compute Z_A in chunks to reduce memory usage\n",
    "        Z_A_chunks = []\n",
    "        for i in range(0, Q_A.size(0), self.chunk_size):\n",
    "            Q_A_chunk = Q_A[i:i+self.chunk_size]  # [chunk_size, embed_dim]\n",
    "            # Compute attention scores for this chunk: [chunk_size, N_B]\n",
    "            scores_chunk = (Q_A_chunk @ K_B.T) * self.scale\n",
    "            mask_chunk = mask_AB[i:i+self.chunk_size]  # [chunk_size, N_B]\n",
    "            scores_chunk = scores_chunk.masked_fill(~mask_chunk, -1e9)\n",
    "            attn_chunk = F.softmax(scores_chunk, dim=-1)\n",
    "            Z_A_chunk = attn_chunk @ V_B  # [chunk_size, embed_dim]\n",
    "            Z_A_chunks.append(Z_A_chunk)\n",
    "        Z_A = torch.cat(Z_A_chunks, dim=0)\n",
    "        \n",
    "        # Similarly, compute Z_B in chunks along the query dimension of Graph B\n",
    "        Z_B_chunks = []\n",
    "        for i in range(0, Q_B.size(0), self.chunk_size):\n",
    "            Q_B_chunk = Q_B[i:i+self.chunk_size]  # [chunk_size, embed_dim]\n",
    "            scores_chunk = (Q_B_chunk @ K_A.T) * self.scale  # [chunk_size, N_A]\n",
    "            mask_chunk = mask_BA[i:i+self.chunk_size]  # [chunk_size, N_A]\n",
    "            scores_chunk = scores_chunk.masked_fill(~mask_chunk, -1e9)\n",
    "            attn_chunk = F.softmax(scores_chunk, dim=-1)\n",
    "            Z_B_chunk = attn_chunk @ V_A  # [chunk_size, embed_dim]\n",
    "            Z_B_chunks.append(Z_B_chunk)\n",
    "        Z_B = torch.cat(Z_B_chunks, dim=0)\n",
    "        \n",
    "        return Z_A, Z_B\n",
    "\n",
    "    def _create_mask(self, batch_A, batch_B):\n",
    "        \"\"\"Creates a mask [N_A, N_B] so that nodes only attend to nodes from the same sample.\"\"\"\n",
    "        return batch_A.unsqueeze(1) == batch_B.unsqueeze(0)\n",
    "\n",
    "\n",
    "#############################################\n",
    "# Updated GNN Model with Cross-Attention (No Extra Projection)\n",
    "#############################################\n",
    "\n",
    "def apply_stochastic_depth(layer_fn, x, y, survival_prob, training):\n",
    "    \"\"\"\n",
    "    Applies stochastic depth to a module.\n",
    "    \n",
    "    Args:\n",
    "        layer_fn: a function (or module) that computes the layer output.\n",
    "        x: input from branch A.\n",
    "        y: input from branch B.\n",
    "        survival_prob (float): Probability of using the layer.\n",
    "        training (bool): Whether we are in training mode.\n",
    "    \n",
    "    Returns:\n",
    "        The outputs (Xnew, XtNew) computed by the layer or skipped.\n",
    "    \"\"\"\n",
    "    # In evaluation mode, always use the layer.\n",
    "    if not training:\n",
    "        return layer_fn(x, y)\n",
    "    \n",
    "    # In training, decide randomly.\n",
    "    if torch.rand(1).item() < survival_prob:\n",
    "        # Use the layer normally.\n",
    "        return layer_fn(x, y)\n",
    "    else:\n",
    "        # Skip the layer: simply return the inputs (i.e. bypass cross-attention)\n",
    "        return x, y\n",
    "\n",
    "class GNNNet(torch.nn.Module):\n",
    "    def __init__(self, n_output=1, num_features_pro=54, num_features_mol=78, output_dim=128, dropout=0.2):\n",
    "        super(GNNNet, self).__init__()\n",
    "        print('GNNNet Loaded')\n",
    "        self.n_output = n_output\n",
    "        \n",
    "        # --- Molecule branch GCN layers ---\n",
    "        self.mol_conv1 = GCNConv(num_features_mol, num_features_mol)\n",
    "        # Set GCN2 to output 'output_dim' so that both branches share the same dimension.\n",
    "        self.mol_conv2 = GCNConv(num_features_mol, 156)\n",
    "        # GCN3 will process the updated features; input dim = output_dim.\n",
    "        self.mol_conv3 = GCNConv(156, num_features_mol*4)\n",
    "        \n",
    "        self.mol_fc_g1 = nn.Linear(num_features_mol*4, 1024)\n",
    "        self.mol_fc_g2 = nn.Linear(1024, output_dim)\n",
    "        \n",
    "        # --- Protein branch GCN layers ---\n",
    "        self.pro_conv1 = GCNConv(num_features_pro, num_features_pro)\n",
    "        self.pro_conv2 = GCNConv(num_features_pro, 156)\n",
    "        self.pro_conv3 = GCNConv(156, num_features_pro*4)\n",
    "        \n",
    "        self.pro_fc_g1 = nn.Linear(num_features_pro*4, 1024)\n",
    "        self.pro_fc_g2 = nn.Linear(1024, output_dim)\n",
    "        \n",
    "        self.relu = nn.ReLU()\n",
    "        self.dropout = nn.Dropout(dropout)\n",
    "        self.dropout2 = nn.Dropout(0.3)\n",
    "        self.dropout3 = nn.Dropout(0.5)\n",
    "        \n",
    "        # --- Bidirectional Cross-Attention ---\n",
    "        # Now the node features from both branches are already in R^(output_dim)\n",
    "        self.cross_attn = BidirectionalCrossAttention(embed_dim=156, num_heads=4)\n",
    "        \n",
    "        # --- Combined FC layers ---\n",
    "        self.fc1 = nn.Linear(2 * output_dim, 1024)\n",
    "        self.fc2 = nn.Linear(1024, 512)\n",
    "        self.out = nn.Linear(512, self.n_output)\n",
    "\n",
    "        self.survival_prob = 0.8\n",
    "\n",
    "    def forward(self, data_mol, data_pro):\n",
    "        # Unpack molecule graph data\n",
    "        mol_x, mol_edge_index, mol_batch = data_mol.x, data_mol.edge_index, data_mol.batch\n",
    "        # Unpack protein graph data\n",
    "        target_x, target_edge_index, target_batch = data_pro.x, data_pro.edge_index, data_pro.batch\n",
    "\n",
    "        # --- Molecule branch: GCN1 -> GCN2 ---\n",
    "        x = self.mol_conv1(mol_x, mol_edge_index)\n",
    "        x = self.relu(x)\n",
    "        x = self.mol_conv2(x, mol_edge_index)\n",
    "        x = self.relu(x)\n",
    "        x = self.dropout(x)\n",
    "        # x now has shape: [total_mol_nodes, output_dim]\n",
    "        \n",
    "        # --- Protein branch: GCN1 -> GCN2 ---\n",
    "        xt = self.pro_conv1(target_x, target_edge_index)\n",
    "        xt = self.relu(xt)\n",
    "        xt = self.pro_conv2(xt, target_edge_index)\n",
    "        xt = self.relu(xt)\n",
    "        xt = self.dropout(xt)\n",
    "        # xt now has shape: [total_pro_nodes, output_dim]\n",
    "        \n",
    "        # --- Apply bidirectional cross-attention ---\n",
    "        def cross_attn_fn(a, b):\n",
    "            # This function just calls the cross-attention layer.\n",
    "            return self.cross_attn(a, b, mol_batch, target_batch)\n",
    "        # The cross-attention module uses batch indices to ensure nodes only attend to nodes from the same sample.\n",
    "        # Xnew, XtNew = self.cross_attn(x, xt, mol_batch, target_batch)\n",
    "        Xnew, XtNew = apply_stochastic_depth(cross_attn_fn, x, xt, self.survival_prob, self.training)\n",
    "        Xnew = self.dropout2(Xnew)\n",
    "        XtNew = self.dropout2(XtNew)\n",
    "        \n",
    "        # --- Continue with third GCN layer using the updated features ---\n",
    "        x_updated = self.mol_conv3(Xnew, mol_edge_index)\n",
    "        x_updated = self.relu(x_updated)\n",
    "        x_pooled = gep(x_updated, mol_batch)  # Global pooling for molecule graphs\n",
    "        \n",
    "        xt_updated = self.pro_conv3(XtNew, target_edge_index)\n",
    "        xt_updated = self.relu(xt_updated)\n",
    "        xt_pooled = gep(xt_updated, target_batch)  # Global pooling for protein graphs\n",
    "        \n",
    "        # --- Flatten branch outputs through FC layers ---\n",
    "        x_final = self.mol_fc_g2(self.relu(self.mol_fc_g1(x_pooled)))\n",
    "        x_final = self.dropout(x_final)\n",
    "        xt_final = self.pro_fc_g2(self.relu(self.pro_fc_g1(xt_pooled)))\n",
    "        xt_final = self.dropout(xt_final)\n",
    "        \n",
    "        # --- Concatenate and apply combined FC layers ---\n",
    "        xc = torch.cat((x_final, xt_final), dim=1)\n",
    "        xc = self.fc1(xc)\n",
    "        xc = self.relu(xc)\n",
    "        xc = self.dropout(xc)\n",
    "        xc = self.fc2(xc)\n",
    "        xc = self.relu(xc)\n",
    "        xc = self.dropout(xc)\n",
    "        out = self.out(xc)\n",
    "        \n",
    "        return out\n",
    "\n",
    "##############################################################################\n",
    "#                   3. DATA LOADING HELPERS\n",
    "##############################################################################\n",
    "\n",
    "warnings.filterwarnings('ignore', category=FutureWarning)\n",
    "\n",
    "def load_sample(path):\n",
    "    \"\"\"\n",
    "    Load a .pt sample, fix up 'x' and 'edge_index', return (mol_data, pro_data, target).\n",
    "    \"\"\"\n",
    "    sample = torch.load(path)\n",
    "    mol_data, pro_data, target = sample[0], sample[1], sample[2]\n",
    "\n",
    "    # Convert dict to Data if needed\n",
    "    if isinstance(mol_data, dict):\n",
    "        mol_data = Data(**mol_data)\n",
    "    if isinstance(pro_data, dict):\n",
    "        pro_data = Data(**pro_data)\n",
    "\n",
    "    # Fix x\n",
    "    if not hasattr(mol_data, 'x') or mol_data.x is None:\n",
    "        if hasattr(mol_data, 'features'):\n",
    "            mol_data.x = mol_data.features\n",
    "            del mol_data.features\n",
    "        else:\n",
    "            raise ValueError(\"mol_data missing 'x' or 'features'\")\n",
    "    if not hasattr(pro_data, 'x') or pro_data.x is None:\n",
    "        if hasattr(pro_data, 'features'):\n",
    "            pro_data.x = pro_data.features\n",
    "            del pro_data.features\n",
    "        else:\n",
    "            raise ValueError(\"pro_data missing 'x' or 'features'\")\n",
    "\n",
    "    mol_data.x = torch.as_tensor(mol_data.x, dtype=torch.float32)\n",
    "    pro_data.x = torch.as_tensor(pro_data.x, dtype=torch.float32)\n",
    "\n",
    "    # Fix edge_index\n",
    "    def fix_edge_index(d):\n",
    "        if not isinstance(d.edge_index, torch.Tensor):\n",
    "            d.edge_index = torch.tensor(d.edge_index, dtype=torch.long)\n",
    "        else:\n",
    "            d.edge_index = d.edge_index.long()\n",
    "        if d.edge_index.shape[0] != 2:\n",
    "            d.edge_index = d.edge_index.t()\n",
    "        d.num_nodes = d.x.size(0)\n",
    "\n",
    "    fix_edge_index(mol_data)\n",
    "    fix_edge_index(pro_data)\n",
    "\n",
    "    return (mol_data, pro_data, target)\n",
    "\n",
    "def batch_loader(file_list, sample_dir, batch_size):\n",
    "    \"\"\"\n",
    "    Yields batches of (mol_data, pro_data, target) from file_list.\n",
    "    \"\"\"\n",
    "    batch = []\n",
    "    for file_name in file_list:\n",
    "        path = os.path.join(sample_dir, file_name)\n",
    "        sample = load_sample(path)\n",
    "        batch.append(sample)\n",
    "        if len(batch) == batch_size:\n",
    "            yield batch\n",
    "            batch = []\n",
    "    if batch:\n",
    "        yield batch\n",
    "\n",
    "##############################################################################\n",
    "#              4. TRAINING / EVALUATION WITH METRICS EACH EPOCH\n",
    "##############################################################################\n",
    "\n",
    "import os\n",
    "import torch\n",
    "\n",
    "def train_and_evaluate(sample_dir, num_epochs=10, test_size=0.2, lr=0.001):\n",
    "    \"\"\"\n",
    "    Trains the GNN model, evaluates on train & test each epoch, saves metrics + checkpoints.\n",
    "    \"\"\"\n",
    "    device = torch.device('cuda' if torch.cuda.is_available() else 'cpu')\n",
    "    print(f\"Running on {device}.\")\n",
    "\n",
    "    # Gather samples\n",
    "    sample_files = [f for f in os.listdir(sample_dir) if f.endswith('.pt')]\n",
    "    assert len(sample_files) > 0, \"No .pt files found in sample_dir!\"\n",
    "\n",
    "    # Split\n",
    "    train_files, test_files = train_test_split(sample_files, test_size=test_size, random_state=42)\n",
    "\n",
    "    # Make checkpoint dir\n",
    "    training_model_dir = os.path.join(os.getcwd(), 'TrainingModel1')\n",
    "    os.makedirs(training_model_dir, exist_ok=True)\n",
    "    print(f\"Checkpoints will be saved to: {training_model_dir}\")\n",
    "\n",
    "    metrics_path = os.path.join(training_model_dir, \"training_metrics.pt\")\n",
    "\n",
    "    # Load existing metrics if available (Ensures metrics continue from previous runs)\n",
    "    if os.path.exists(metrics_path):\n",
    "        saved_metrics = torch.load(metrics_path)\n",
    "        train_metrics = saved_metrics['train_metrics']\n",
    "        test_metrics = saved_metrics['test_metrics']\n",
    "        print(\"Loaded previous training metrics!\")\n",
    "    else:\n",
    "        train_metrics = {'epoch': [], 'mse': [], 'ci': [], 'pearson': []}\n",
    "        test_metrics = {'epoch': [], 'mse': [], 'ci': [], 'pearson': []}\n",
    "        print(\"Starting fresh metrics tracking.\")\n",
    "\n",
    "    # Infer input dims from one sample\n",
    "    sample0 = load_sample(os.path.join(sample_dir, train_files[0]))\n",
    "    mol_data0, pro_data0 = sample0[0], sample0[1]\n",
    "    num_features_mol = mol_data0.x.size(1)\n",
    "    num_features_pro = pro_data0.x.size(1)\n",
    "\n",
    "    # Initialize model\n",
    "    model = GNNNet(num_features_mol=num_features_mol,\n",
    "                   num_features_pro=num_features_pro).to(device)\n",
    "    optimizer = optim.Adam(model.parameters(), lr=lr)\n",
    "    loss_fn = MSELoss()\n",
    "\n",
    "    # Possibly resume from checkpoint\n",
    "    start_epoch = 1\n",
    "    existing_checkpoints = [\n",
    "        f for f in os.listdir(training_model_dir)\n",
    "        if f.endswith('.pt') and f.startswith('model_epoch')\n",
    "    ]\n",
    "    last_ckpt_path = None  # Track previous checkpoint for deletion\n",
    "\n",
    "    if existing_checkpoints:\n",
    "        latest_ckpt = max(existing_checkpoints, key=lambda x: int(x.split('_epoch')[1].split('.pt')[0]))\n",
    "        ckpt_path = os.path.join(training_model_dir, latest_ckpt)\n",
    "        print(f\"Loading checkpoint from {ckpt_path}\")\n",
    "        ckpt = torch.load(ckpt_path, map_location=device)\n",
    "        model.load_state_dict(ckpt['model_state_dict'])\n",
    "        optimizer.load_state_dict(ckpt['optimizer_state_dict'])\n",
    "        loaded_epoch = ckpt['epoch']\n",
    "        start_epoch = loaded_epoch + 1\n",
    "        last_ckpt_path = ckpt_path  # Store last checkpoint path for deletion\n",
    "        print(f\"Resuming from epoch {start_epoch}\")\n",
    "    else:\n",
    "        print(\"No existing checkpoint found; starting fresh.\")\n",
    "\n",
    "    @torch.no_grad()\n",
    "    def evaluate(files):\n",
    "        model.eval()\n",
    "        all_preds = []\n",
    "        all_targets = []\n",
    "        batch_eval_size = 200\n",
    "        for batch_samples in batch_loader(files, sample_dir, batch_eval_size):\n",
    "            mol_list, pro_list, tgt_list = [], [], []\n",
    "            for (md, pd, t) in batch_samples:\n",
    "                mol_list.append(md)\n",
    "                pro_list.append(pd)\n",
    "                tgt_list.append(t)\n",
    "\n",
    "            mol_batch = Batch.from_data_list(mol_list).to(device)\n",
    "            pro_batch = Batch.from_data_list(pro_list).to(device)\n",
    "            t_tensor = torch.tensor(tgt_list, dtype=torch.float32, device=device)\n",
    "\n",
    "            out = model(mol_batch, pro_batch).view(-1)\n",
    "            all_preds.append(out)\n",
    "            all_targets.append(t_tensor)\n",
    "\n",
    "        all_preds = torch.cat(all_preds, dim=0)\n",
    "        all_targets = torch.cat(all_targets, dim=0)\n",
    "\n",
    "        mse_val = mse_torch(all_preds, all_targets)\n",
    "        ci_val = ci_vectorized(all_preds, all_targets)\n",
    "        pearson_val = pearson_torch(all_preds, all_targets)\n",
    "        return mse_val, ci_val, pearson_val\n",
    "\n",
    "    # Training loop\n",
    "    batch_size = 50\n",
    "    for epoch in tqdm(range(start_epoch, num_epochs + 1), desc=\"Training\", unit=\"epoch\"):\n",
    "        model.train()\n",
    "        running_loss = 0.0\n",
    "\n",
    "        for batch_samples in batch_loader(train_files, sample_dir, batch_size):\n",
    "            mol_list, pro_list, tgt_list = [], [], []\n",
    "            for (md, pd, t) in batch_samples:\n",
    "                mol_list.append(md)\n",
    "                pro_list.append(pd)\n",
    "                tgt_list.append(t)\n",
    "\n",
    "            mol_batch = Batch.from_data_list(mol_list).to(device)\n",
    "            pro_batch = Batch.from_data_list(pro_list).to(device)\n",
    "            t_tensor = torch.tensor(tgt_list, dtype=torch.float32, device=device).view(-1)\n",
    "\n",
    "            optimizer.zero_grad()\n",
    "            out = model(mol_batch, pro_batch).view(-1)\n",
    "            loss = loss_fn(out, t_tensor)\n",
    "            loss.backward()\n",
    "            optimizer.step()\n",
    "\n",
    "            running_loss += loss.item() * len(batch_samples)\n",
    "\n",
    "        avg_loss = running_loss / len(train_files)\n",
    "        tqdm.write(f\"[Epoch {epoch}/{num_epochs}] Training Loss: {avg_loss:.4f}\")\n",
    "\n",
    "        # Evaluate on train & test\n",
    "        train_mse, train_ci, train_pearson = evaluate(train_files)\n",
    "        test_mse, test_ci, test_pearson = evaluate(test_files)\n",
    "\n",
    "        train_metrics['epoch'].append(epoch)\n",
    "        train_metrics['mse'].append(train_mse)\n",
    "        train_metrics['ci'].append(train_ci)\n",
    "        train_metrics['pearson'].append(train_pearson)\n",
    "\n",
    "        test_metrics['epoch'].append(epoch)\n",
    "        test_metrics['mse'].append(test_mse)\n",
    "        test_metrics['ci'].append(test_ci)\n",
    "        test_metrics['pearson'].append(test_pearson)\n",
    "\n",
    "        tqdm.write(f\"  Train => MSE={train_mse:.4f}, CI={train_ci:.4f}, Pearson={train_pearson:.4f}\")\n",
    "        tqdm.write(f\"  Test  => MSE={test_mse:.4f}, CI={test_ci:.4f}, Pearson={test_pearson:.4f}\")\n",
    "\n",
    "        # Save new checkpoint\n",
    "        ckpt_name = f\"model_epoch{epoch}.pt\"\n",
    "        ckpt_path = os.path.join(training_model_dir, ckpt_name)\n",
    "        torch.save({\n",
    "            'epoch': epoch,\n",
    "            'model_state_dict': model.state_dict(),\n",
    "            'optimizer_state_dict': optimizer.state_dict(),\n",
    "        }, ckpt_path)\n",
    "        tqdm.write(f\"Checkpoint saved at epoch {epoch}\")\n",
    "\n",
    "        # Delete the previous checkpoint after saving the new one\n",
    "        if last_ckpt_path and os.path.exists(last_ckpt_path):\n",
    "            os.remove(last_ckpt_path)\n",
    "            tqdm.write(f\"Deleted previous checkpoint: {last_ckpt_path}\")\n",
    "\n",
    "        # Update last checkpoint path\n",
    "        last_ckpt_path = ckpt_path\n",
    "\n",
    "        # Save/Update the metrics after each epoch\n",
    "        torch.save({\n",
    "            'train_metrics': train_metrics,\n",
    "            'test_metrics': test_metrics\n",
    "        }, metrics_path)\n",
    "\n",
    "    # Final evaluations\n",
    "    final_train_mse, final_train_ci, final_train_pearson = evaluate(train_files)\n",
    "    final_test_mse, final_test_ci, final_test_pearson = evaluate(test_files)\n",
    "    print(f\"\\nFinal Train => MSE={final_train_mse:.4f}, CI={final_train_ci:.4f}, Pearson={final_train_pearson:.4f}\")\n",
    "    print(f\"Final Test  => MSE={final_test_mse:.4f}, CI={final_test_ci:.4f}, Pearson={final_test_pearson:.4f}\")\n",
    "\n",
    "    # Save final metrics\n",
    "    torch.save({\n",
    "        'train_metrics': train_metrics,\n",
    "        'test_metrics': test_metrics\n",
    "    }, metrics_path)\n",
    "    print(f\"Metrics saved to {metrics_path}\")\n",
    "\n",
    "    return train_metrics, test_metrics\n",
    "\n",
    "\n",
    "##############################################################################\n",
    "#               5. OPTIONAL: PLOT THE SAVED METRICS\n",
    "##############################################################################\n",
    "\n",
    "def plot_metrics(checkpoint_dir='TrainingModel1'):\n",
    "    \"\"\"\n",
    "    Load training_metrics.pt from the checkpoint_dir and plot MSE, CI, Pearson over epochs.\n",
    "    \"\"\"\n",
    "    metrics_path = os.path.join(checkpoint_dir, \"training_metrics.pt\")\n",
    "    if not os.path.exists(metrics_path):\n",
    "        print(f\"No metrics file found at {metrics_path}!\")\n",
    "        return\n",
    "\n",
    "    saved_data = torch.load(metrics_path)\n",
    "    train_metrics = saved_data['train_metrics']\n",
    "    test_metrics = saved_data['test_metrics']\n",
    "    epochs = train_metrics['epoch']\n",
    "\n",
    "    # Plot MSE\n",
    "    plt.figure(figsize=(8, 6))\n",
    "    plt.plot(epochs, train_metrics['mse'], 'o-', label='Train MSE')\n",
    "    plt.plot(epochs, test_metrics['mse'], 'o-', label='Test MSE')\n",
    "    plt.xlabel('Epoch')\n",
    "    plt.ylabel('MSE')\n",
    "    plt.title('Mean Squared Error over Epochs')\n",
    "    plt.legend()\n",
    "    plt.savefig(os.path.join(checkpoint_dir, \"MSE_plot.png\"))  \n",
    "    plt.show()\n",
    "\n",
    "    # Plot CI\n",
    "    plt.figure(figsize=(8, 6))\n",
    "    plt.plot(epochs, train_metrics['ci'], 'o-', label='Train CI')\n",
    "    plt.plot(epochs, test_metrics['ci'], 'o-', label='Test CI')\n",
    "    plt.xlabel('Epoch')\n",
    "    plt.ylabel('Concordance Index')\n",
    "    plt.title('CI over Epochs')\n",
    "    plt.legend()\n",
    "    plt.savefig(os.path.join(checkpoint_dir, \"CI_plot.png\"))  \n",
    "    plt.show()\n",
    "\n",
    "    # Plot Pearson\n",
    "    plt.figure(figsize=(8, 6))\n",
    "    plt.plot(epochs, train_metrics['pearson'], 'o-', label='Train Pearson')\n",
    "    plt.plot(epochs, test_metrics['pearson'], 'o-', label='Test Pearson')\n",
    "    plt.xlabel('Epoch')\n",
    "    plt.ylabel('Pearson Correlation')\n",
    "    plt.title('Pearson Correlation over Epochs')\n",
    "    plt.legend()\n",
    "    plt.savefig(os.path.join(checkpoint_dir, \"PEARSON_plot.png\"))  \n",
    "    plt.show()\n",
    "\n",
    "##############################################################################\n",
    "#                                 MAIN\n",
    "##############################################################################\n",
    "\n",
    "if __name__ == \"__main__\":\n",
    "    # Adjust the paths/parameters as needed\n",
    "    SAMPLE_DIR = \"prepared_samples\"   # Directory with your .pt samples\n",
    "    NUM_EPOCHS = 250\n",
    "    TEST_SPLIT = 0.2\n",
    "    LR = 0.001\n",
    "\n",
    "    # 1) Train and evaluate\n",
    "    train_metrics, test_metrics = train_and_evaluate(\n",
    "        sample_dir=SAMPLE_DIR,\n",
    "        num_epochs=NUM_EPOCHS,\n",
    "        test_size=TEST_SPLIT,\n",
    "        lr=LR\n",
    "    )\n",
    "\n",
    "    # 2) Plot the metrics\n",
    "    plot_metrics('TrainingModel1')\n",
    "\n"
   ]
  },
  {
   "cell_type": "code",
   "execution_count": null,
   "id": "9321a98d",
   "metadata": {
    "papermill": {
     "duration": 0.211924,
     "end_time": "2025-02-06T05:28:04.701507",
     "exception": false,
     "start_time": "2025-02-06T05:28:04.489583",
     "status": "completed"
    },
    "tags": []
   },
   "outputs": [],
   "source": []
  }
 ],
 "metadata": {
  "kaggle": {
   "accelerator": "gpu",
   "dataSources": [
    {
     "datasetId": 6585052,
     "sourceId": 10635698,
     "sourceType": "datasetVersion"
    },
    {
     "datasetId": 6590451,
     "sourceId": 10643825,
     "sourceType": "datasetVersion"
    },
    {
     "datasetId": 6590542,
     "sourceId": 10643954,
     "sourceType": "datasetVersion"
    },
    {
     "datasetId": 6604534,
     "sourceId": 10664136,
     "sourceType": "datasetVersion"
    }
   ],
   "dockerImageVersionId": 30840,
   "isGpuEnabled": true,
   "isInternetEnabled": true,
   "language": "python",
   "sourceType": "notebook"
  },
  "kernelspec": {
   "display_name": "Python 3",
   "language": "python",
   "name": "python3"
  },
  "language_info": {
   "codemirror_mode": {
    "name": "ipython",
    "version": 3
   },
   "file_extension": ".py",
   "mimetype": "text/x-python",
   "name": "python",
   "nbconvert_exporter": "python",
   "pygments_lexer": "ipython3",
   "version": "3.10.12"
  },
  "papermill": {
   "default_parameters": {},
   "duration": 30077.594905,
   "end_time": "2025-02-06T05:28:07.794315",
   "environment_variables": {},
   "exception": null,
   "input_path": "__notebook__.ipynb",
   "output_path": "__notebook__.ipynb",
   "parameters": {},
   "start_time": "2025-02-05T21:06:50.199410",
   "version": "2.6.0"
  }
 },
 "nbformat": 4,
 "nbformat_minor": 5
}
