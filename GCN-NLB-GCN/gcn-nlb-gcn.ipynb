{
 "cells": [
  {
   "cell_type": "code",
   "execution_count": 1,
   "id": "70e4144f",
   "metadata": {
    "_cell_guid": "b1076dfc-b9ad-4769-8c92-a6c4dae69d19",
    "_uuid": "8f2839f25d086af736a60e9eeb907d3b93b6e0e5",
    "execution": {
     "iopub.execute_input": "2025-02-02T21:04:15.298982Z",
     "iopub.status.busy": "2025-02-02T21:04:15.298591Z",
     "iopub.status.idle": "2025-02-02T21:04:20.643206Z",
     "shell.execute_reply": "2025-02-02T21:04:20.642327Z"
    },
    "papermill": {
     "duration": 5.351271,
     "end_time": "2025-02-02T21:04:20.644890",
     "exception": false,
     "start_time": "2025-02-02T21:04:15.293619",
     "status": "completed"
    },
    "tags": []
   },
   "outputs": [
    {
     "name": "stdout",
     "output_type": "stream",
     "text": [
      "Collecting torch-geometric\r\n"
     ]
    },
    {
     "name": "stdout",
     "output_type": "stream",
     "text": [
      "  Downloading torch_geometric-2.6.1-py3-none-any.whl.metadata (63 kB)\r\n",
      "\u001b[?25l     \u001b[90m━━━━━━━━━━━━━━━━━━━━━━━━━━━━━━━━━━━━━━━━\u001b[0m \u001b[32m0.0/63.1 kB\u001b[0m \u001b[31m?\u001b[0m eta \u001b[36m-:--:--\u001b[0m\r",
      "\u001b[2K     \u001b[90m━━━━━━━━━━━━━━━━━━━━━━━━━━━━━━━━━━━━━━━━\u001b[0m \u001b[32m63.1/63.1 kB\u001b[0m \u001b[31m3.9 MB/s\u001b[0m eta \u001b[36m0:00:00\u001b[0m\r\n",
      "\u001b[?25hRequirement already satisfied: aiohttp in /usr/local/lib/python3.10/dist-packages (from torch-geometric) (3.11.10)\r\n",
      "Requirement already satisfied: fsspec in /usr/local/lib/python3.10/dist-packages (from torch-geometric) (2024.9.0)\r\n",
      "Requirement already satisfied: jinja2 in /usr/local/lib/python3.10/dist-packages (from torch-geometric) (3.1.4)\r\n",
      "Requirement already satisfied: numpy in /usr/local/lib/python3.10/dist-packages (from torch-geometric) (1.26.4)\r\n",
      "Requirement already satisfied: psutil>=5.8.0 in /usr/local/lib/python3.10/dist-packages (from torch-geometric) (5.9.5)\r\n",
      "Requirement already satisfied: pyparsing in /usr/local/lib/python3.10/dist-packages (from torch-geometric) (3.2.0)\r\n",
      "Requirement already satisfied: requests in /usr/local/lib/python3.10/dist-packages (from torch-geometric) (2.32.3)\r\n",
      "Requirement already satisfied: tqdm in /usr/local/lib/python3.10/dist-packages (from torch-geometric) (4.67.1)\r\n",
      "Requirement already satisfied: aiohappyeyeballs>=2.3.0 in /usr/local/lib/python3.10/dist-packages (from aiohttp->torch-geometric) (2.4.4)\r\n",
      "Requirement already satisfied: aiosignal>=1.1.2 in /usr/local/lib/python3.10/dist-packages (from aiohttp->torch-geometric) (1.3.2)\r\n",
      "Requirement already satisfied: async-timeout<6.0,>=4.0 in /usr/local/lib/python3.10/dist-packages (from aiohttp->torch-geometric) (4.0.3)\r\n",
      "Requirement already satisfied: attrs>=17.3.0 in /usr/local/lib/python3.10/dist-packages (from aiohttp->torch-geometric) (24.3.0)\r\n",
      "Requirement already satisfied: frozenlist>=1.1.1 in /usr/local/lib/python3.10/dist-packages (from aiohttp->torch-geometric) (1.5.0)\r\n",
      "Requirement already satisfied: multidict<7.0,>=4.5 in /usr/local/lib/python3.10/dist-packages (from aiohttp->torch-geometric) (6.1.0)\r\n",
      "Requirement already satisfied: propcache>=0.2.0 in /usr/local/lib/python3.10/dist-packages (from aiohttp->torch-geometric) (0.2.1)\r\n"
     ]
    },
    {
     "name": "stdout",
     "output_type": "stream",
     "text": [
      "Requirement already satisfied: yarl<2.0,>=1.17.0 in /usr/local/lib/python3.10/dist-packages (from aiohttp->torch-geometric) (1.18.3)\r\n",
      "Requirement already satisfied: MarkupSafe>=2.0 in /usr/local/lib/python3.10/dist-packages (from jinja2->torch-geometric) (3.0.2)\r\n",
      "Requirement already satisfied: mkl_fft in /usr/local/lib/python3.10/dist-packages (from numpy->torch-geometric) (1.3.8)\r\n",
      "Requirement already satisfied: mkl_random in /usr/local/lib/python3.10/dist-packages (from numpy->torch-geometric) (1.2.4)\r\n",
      "Requirement already satisfied: mkl_umath in /usr/local/lib/python3.10/dist-packages (from numpy->torch-geometric) (0.1.1)\r\n",
      "Requirement already satisfied: mkl in /usr/local/lib/python3.10/dist-packages (from numpy->torch-geometric) (2025.0.1)\r\n",
      "Requirement already satisfied: tbb4py in /usr/local/lib/python3.10/dist-packages (from numpy->torch-geometric) (2022.0.0)\r\n",
      "Requirement already satisfied: mkl-service in /usr/local/lib/python3.10/dist-packages (from numpy->torch-geometric) (2.4.1)\r\n",
      "Requirement already satisfied: charset-normalizer<4,>=2 in /usr/local/lib/python3.10/dist-packages (from requests->torch-geometric) (3.4.0)\r\n",
      "Requirement already satisfied: idna<4,>=2.5 in /usr/local/lib/python3.10/dist-packages (from requests->torch-geometric) (3.10)\r\n"
     ]
    },
    {
     "name": "stdout",
     "output_type": "stream",
     "text": [
      "Requirement already satisfied: urllib3<3,>=1.21.1 in /usr/local/lib/python3.10/dist-packages (from requests->torch-geometric) (2.2.3)\r\n",
      "Requirement already satisfied: certifi>=2017.4.17 in /usr/local/lib/python3.10/dist-packages (from requests->torch-geometric) (2024.12.14)\r\n",
      "Requirement already satisfied: typing-extensions>=4.1.0 in /usr/local/lib/python3.10/dist-packages (from multidict<7.0,>=4.5->aiohttp->torch-geometric) (4.12.2)\r\n",
      "Requirement already satisfied: intel-openmp>=2024 in /usr/local/lib/python3.10/dist-packages (from mkl->numpy->torch-geometric) (2024.2.0)\r\n",
      "Requirement already satisfied: tbb==2022.* in /usr/local/lib/python3.10/dist-packages (from mkl->numpy->torch-geometric) (2022.0.0)\r\n",
      "Requirement already satisfied: tcmlib==1.* in /usr/local/lib/python3.10/dist-packages (from tbb==2022.*->mkl->numpy->torch-geometric) (1.2.0)\r\n"
     ]
    },
    {
     "name": "stdout",
     "output_type": "stream",
     "text": [
      "Requirement already satisfied: intel-cmplr-lib-rt in /usr/local/lib/python3.10/dist-packages (from mkl_umath->numpy->torch-geometric) (2024.2.0)\r\n",
      "Requirement already satisfied: intel-cmplr-lib-ur==2024.2.0 in /usr/local/lib/python3.10/dist-packages (from intel-openmp>=2024->mkl->numpy->torch-geometric) (2024.2.0)\r\n",
      "Downloading torch_geometric-2.6.1-py3-none-any.whl (1.1 MB)\r\n",
      "\u001b[?25l   \u001b[90m━━━━━━━━━━━━━━━━━━━━━━━━━━━━━━━━━━━━━━━━\u001b[0m \u001b[32m0.0/1.1 MB\u001b[0m \u001b[31m?\u001b[0m eta \u001b[36m-:--:--\u001b[0m"
     ]
    },
    {
     "name": "stdout",
     "output_type": "stream",
     "text": [
      "\r",
      "\u001b[2K   \u001b[90m━━━━━━━━━━━━━━━━━━━━━━━━━━━━━━━━━━━━━━━━\u001b[0m \u001b[32m1.1/1.1 MB\u001b[0m \u001b[31m40.5 MB/s\u001b[0m eta \u001b[36m0:00:00\u001b[0m\r\n",
      "\u001b[?25h"
     ]
    },
    {
     "name": "stdout",
     "output_type": "stream",
     "text": [
      "Installing collected packages: torch-geometric\r\n"
     ]
    },
    {
     "name": "stdout",
     "output_type": "stream",
     "text": [
      "Successfully installed torch-geometric-2.6.1\r\n"
     ]
    }
   ],
   "source": [
    "!pip install torch-geometric"
   ]
  },
  {
   "cell_type": "code",
   "execution_count": 2,
   "id": "14950696",
   "metadata": {
    "execution": {
     "iopub.execute_input": "2025-02-02T21:04:20.653975Z",
     "iopub.status.busy": "2025-02-02T21:04:20.653723Z",
     "iopub.status.idle": "2025-02-02T21:05:34.953576Z",
     "shell.execute_reply": "2025-02-02T21:05:34.952592Z"
    },
    "papermill": {
     "duration": 74.306121,
     "end_time": "2025-02-02T21:05:34.955255",
     "exception": false,
     "start_time": "2025-02-02T21:04:20.649134",
     "status": "completed"
    },
    "tags": []
   },
   "outputs": [
    {
     "name": "stderr",
     "output_type": "stream",
     "text": [
      "<ipython-input-2-bb0f95ffdbd8>:16: FutureWarning: You are using `torch.load` with `weights_only=False` (the current default value), which uses the default pickle module implicitly. It is possible to construct malicious pickle data which will execute arbitrary code during unpickling (See https://github.com/pytorch/pytorch/blob/main/SECURITY.md#untrusted-models for more details). In a future release, the default value for `weights_only` will be flipped to `True`. This limits the functions that could be executed during unpickling. Arbitrary objects will no longer be allowed to be loaded via this mode unless they are explicitly allowlisted by the user via `torch.serialization.add_safe_globals`. We recommend you start setting `weights_only=True` for any use case where you don't have full control of the loaded file. Please open an issue on GitHub for any issues related to this experimental feature.\n",
      "  return torch.load(path)\n"
     ]
    },
    {
     "name": "stdout",
     "output_type": "stream",
     "text": [
      "Saved sample 0 as prepared_samples/sample_0.pt\n"
     ]
    },
    {
     "name": "stderr",
     "output_type": "stream",
     "text": [
      "<ipython-input-2-bb0f95ffdbd8>:16: FutureWarning: You are using `torch.load` with `weights_only=False` (the current default value), which uses the default pickle module implicitly. It is possible to construct malicious pickle data which will execute arbitrary code during unpickling (See https://github.com/pytorch/pytorch/blob/main/SECURITY.md#untrusted-models for more details). In a future release, the default value for `weights_only` will be flipped to `True`. This limits the functions that could be executed during unpickling. Arbitrary objects will no longer be allowed to be loaded via this mode unless they are explicitly allowlisted by the user via `torch.serialization.add_safe_globals`. We recommend you start setting `weights_only=True` for any use case where you don't have full control of the loaded file. Please open an issue on GitHub for any issues related to this experimental feature.\n",
      "  return torch.load(path)\n"
     ]
    },
    {
     "name": "stdout",
     "output_type": "stream",
     "text": [
      "Saved sample 10000 as prepared_samples/sample_10000.pt\n"
     ]
    },
    {
     "name": "stdout",
     "output_type": "stream",
     "text": [
      "Dataset preparation completed.\n"
     ]
    }
   ],
   "source": [
    "\n",
    "#create samples :\n",
    "import os\n",
    "import torch\n",
    "import pickle\n",
    "import pandas as pd\n",
    "\n",
    "def load_graph(path, is_pickle=True):\n",
    "    \"\"\"\n",
    "    Load a molecule graph (.pkl) or a protein graph (.pt).\n",
    "    If is_pickle is True, use pickle to load the file; otherwise, use torch.load.\n",
    "    \"\"\"\n",
    "    if is_pickle:\n",
    "        with open(path, 'rb') as f:\n",
    "            return pickle.load(f)\n",
    "    else:\n",
    "        return torch.load(path)\n",
    "\n",
    "def prepare_dataset_individual_save_as_pt(filtered_dataset, molecule_graph_dir, protein_graph_dir, output_dir):\n",
    "    \"\"\"\n",
    "    Incrementally prepares the dataset and saves each (molecule, protein, target) tuple as a separate .pt file.\n",
    "\n",
    "    Args:\n",
    "    - filtered_dataset: The filtered KIBA dataset (DataFrame).\n",
    "    - molecule_graph_dir: Directory where molecule graphs are stored.\n",
    "    - protein_graph_dir: Directory where protein graphs are stored.\n",
    "    - output_dir: Directory to save the prepared dataset incrementally.\n",
    "    \"\"\"\n",
    "    if not os.path.exists(output_dir):\n",
    "        os.makedirs(output_dir)\n",
    "\n",
    "    for index, row in filtered_dataset.iterrows():\n",
    "        protein_id = row['Target_ID']\n",
    "        chembl_id = row['Drug_ID']\n",
    "\n",
    "        # Load the protein graph (.pt)\n",
    "        pro_graph_path = os.path.join(protein_graph_dir, f\"{protein_id}_graph.pt\")\n",
    "        if not os.path.exists(pro_graph_path):\n",
    "            print(f\"Protein graph not found: {protein_id}\")\n",
    "            continue\n",
    "        pro_graph = load_graph(pro_graph_path, is_pickle=False)\n",
    "\n",
    "        # Load the molecule graph (.pkl)\n",
    "        mol_graph_path = os.path.join(molecule_graph_dir, f\"{chembl_id}_graph.pkl\")\n",
    "        if not os.path.exists(mol_graph_path):\n",
    "            print(f\"Molecule graph not found: {chembl_id}\")\n",
    "            continue\n",
    "        mol_graph = load_graph(mol_graph_path)\n",
    "\n",
    "        # Load target (affinity value)\n",
    "        target = torch.tensor([row['Y']], dtype=torch.float)\n",
    "\n",
    "        # Create the sample as a tuple (molecule graph, protein graph, target)\n",
    "        sample = (mol_graph, pro_graph, target)\n",
    "\n",
    "        # Save the sample as a .pt file\n",
    "        sample_path = os.path.join(output_dir, f\"sample_{index}.pt\")\n",
    "        torch.save(sample, sample_path)\n",
    "\n",
    "        if(index%10000 == 0 ):\n",
    "            print(f\"Saved sample {index} as {sample_path}\")\n",
    "\n",
    "\n",
    "\n",
    "\n",
    "# Example usage for individual saving\n",
    "molecule_graph_dir = '//kaggle/input/davis-graphs/molecule_graphs'  # Directory where molecule graphs are stored\n",
    "protein_graph_dir = '/kaggle/input/davis-graphs/ProteinGraphs'  # Directory where protein graphs are stored\n",
    "filtered_dataset_path = '/kaggle/input/davis-graphs/filtered_DavisDataSet.csv'  # Path to the filtered dataset CSV\n",
    "output_dir = 'prepared_samples/'  # Directory to save individual samples\n",
    "\n",
    "# Load filtered dataset CSV\n",
    "filtered_dataset = pd.read_csv(filtered_dataset_path)\n",
    "\n",
    "# Prepare the dataset incrementally, saving each sample as a .pt file\n",
    "prepare_dataset_individual_save_as_pt(filtered_dataset, molecule_graph_dir, protein_graph_dir, output_dir)\n",
    "\n",
    "print(\"Dataset preparation completed.\")\n",
    "\n"
   ]
  },
  {
   "cell_type": "code",
   "execution_count": 3,
   "id": "6da982c4",
   "metadata": {
    "execution": {
     "iopub.execute_input": "2025-02-02T21:05:34.997371Z",
     "iopub.status.busy": "2025-02-02T21:05:34.996832Z",
     "iopub.status.idle": "2025-02-02T21:05:35.005410Z",
     "shell.execute_reply": "2025-02-02T21:05:35.004502Z"
    },
    "papermill": {
     "duration": 0.018012,
     "end_time": "2025-02-02T21:05:35.007371",
     "exception": false,
     "start_time": "2025-02-02T21:05:34.989359",
     "status": "completed"
    },
    "tags": []
   },
   "outputs": [],
   "source": [
    "import torch\n",
    "import torch.nn as nn\n",
    "import torch.nn.functional as F\n",
    "from torch_geometric.nn import GCNConv\n",
    "class NonLocalBlock(nn.Module):\n",
    "    def __init__(self, input_dim, hidden_dim, output_dim=None, chunk_size=2048):\n",
    "        super().__init__()\n",
    "        self.output_dim = output_dim or input_dim\n",
    "\n",
    "        # GCN-based projections (Φ, Θ, Γ)\n",
    "        # Φ: H = σ(Â H W_φ + b_φ), where Â = D^{-1/2} (A + I) D^{-1/2}\n",
    "        self.W_phi = GCNConv(input_dim, hidden_dim)\n",
    "        self.W_theta = GCNConv(input_dim, hidden_dim)\n",
    "        self.W_gamma = GCNConv(input_dim, hidden_dim)\n",
    "\n",
    "        # Output projection: O = O_{agg} W_{out} + b_{out}\n",
    "        self.W_out = nn.Linear(hidden_dim, self.output_dim)\n",
    "\n",
    "        # Residual connection: V_n = O + V_m (if dimensions match)\n",
    "        self.res_proj = nn.Linear(input_dim, self.output_dim) if input_dim != self.output_dim else nn.Identity()\n",
    "\n",
    "        self.chunk_size = chunk_size\n",
    "\n",
    "    def forward(self, V_m, edge_index):\n",
    "        # Step 1: Compute Φ, Θ, Γ using GCNConv\n",
    "        # Φ = GCN(V_m, edge_index), Θ = GCN(V_m, edge_index), Γ = GCN(V_m, edge_index)\n",
    "        phi = self.W_phi(V_m, edge_index)  # Φ ∈ ℝ^{N×h}\n",
    "        theta = self.W_theta(V_m, edge_index)  # Θ ∈ ℝ^{N×h}\n",
    "        gamma = self.W_gamma(V_m, edge_index)  # Γ ∈ ℝ^{N×h}\n",
    "\n",
    "        N = phi.size(0)\n",
    "        O = torch.zeros_like(gamma)\n",
    "\n",
    "        # Step 2: Chunked attention computation\n",
    "        for i in range(0, N, self.chunk_size):\n",
    "            # For chunk i: Φ_chunk = Φ[i:i+chunk_size]\n",
    "            phi_chunk = phi[i:i + self.chunk_size]  # Φ_chunk ∈ ℝ^{C×h}\n",
    "\n",
    "            # Compute similarity scores: S = (Θ Φ_chunk^T) / √h\n",
    "            sim_chunk = torch.einsum('nh,ch->cn', theta, phi_chunk)  # S ∈ ℝ^{C×N}\n",
    "            sim_chunk = sim_chunk / (phi.size(1) ** 0.5)  # Scaling by √h\n",
    "\n",
    "            # Softmax normalization: α = softmax(S, dim=1)\n",
    "            attn_chunk = F.softmax(sim_chunk, dim=1)  # α ∈ ℝ^{C×N}\n",
    "\n",
    "            # Aggregate values: O_chunk = α Γ\n",
    "            O_chunk = torch.einsum('cn,nh->ch', attn_chunk, gamma)  # O_chunk ∈ ℝ^{C×h}\n",
    "            O[i:i + self.chunk_size] = O_chunk\n",
    "\n",
    "            del phi_chunk, sim_chunk, attn_chunk, O_chunk\n",
    "            if torch.cuda.is_available():\n",
    "                torch.cuda.empty_cache()\n",
    "\n",
    "        # Step 3: Projection and residual connection\n",
    "        O_projected = self.W_out(O)  # O_projected ∈ ℝ^{N×d_out}\n",
    "        V_n = O_projected + self.res_proj(V_m)  # V_n = O_projected + V_m (with dim alignment)\n",
    "        return V_n"
   ]
  },
  {
   "cell_type": "code",
   "execution_count": 4,
   "id": "9f384c4d",
   "metadata": {
    "execution": {
     "iopub.execute_input": "2025-02-02T21:05:35.047914Z",
     "iopub.status.busy": "2025-02-02T21:05:35.047603Z",
     "iopub.status.idle": "2025-02-02T21:05:35.051136Z",
     "shell.execute_reply": "2025-02-02T21:05:35.050125Z"
    },
    "papermill": {
     "duration": 0.009543,
     "end_time": "2025-02-02T21:05:35.052575",
     "exception": false,
     "start_time": "2025-02-02T21:05:35.043032",
     "status": "completed"
    },
    "tags": []
   },
   "outputs": [],
   "source": [
    "# !rm -rf \"TrainingModelNLB\""
   ]
  },
  {
   "cell_type": "code",
   "execution_count": 5,
   "id": "a8453f0b",
   "metadata": {
    "execution": {
     "iopub.execute_input": "2025-02-02T21:05:35.076943Z",
     "iopub.status.busy": "2025-02-02T21:05:35.076683Z",
     "iopub.status.idle": "2025-02-02T21:05:35.080386Z",
     "shell.execute_reply": "2025-02-02T21:05:35.079685Z"
    },
    "papermill": {
     "duration": 0.019296,
     "end_time": "2025-02-02T21:05:35.081669",
     "exception": false,
     "start_time": "2025-02-02T21:05:35.062373",
     "status": "completed"
    },
    "tags": []
   },
   "outputs": [],
   "source": [
    "import os\n",
    "training_model_dir = os.path.join(os.getcwd(), 'TrainingModelNLB')\n",
    "os.makedirs(training_model_dir, exist_ok=True)"
   ]
  },
  {
   "cell_type": "code",
   "execution_count": 6,
   "id": "fce3954e",
   "metadata": {
    "execution": {
     "iopub.execute_input": "2025-02-02T21:05:35.089834Z",
     "iopub.status.busy": "2025-02-02T21:05:35.089615Z",
     "iopub.status.idle": "2025-02-02T21:05:35.524206Z",
     "shell.execute_reply": "2025-02-02T21:05:35.522936Z"
    },
    "papermill": {
     "duration": 0.440559,
     "end_time": "2025-02-02T21:05:35.526035",
     "exception": false,
     "start_time": "2025-02-02T21:05:35.085476",
     "status": "completed"
    },
    "tags": []
   },
   "outputs": [],
   "source": [
    "!cp '/kaggle/input/nlb/pytorch/default/1/model_epoch150.pt'  'TrainingModelNLB/model_epoch150.pt'\n",
    "!cp '/kaggle/input/nlb/pytorch/default/1/training_metrics.pt'  'TrainingModelNLB/training_metrics.pt'"
   ]
  },
  {
   "cell_type": "code",
   "execution_count": 7,
   "id": "53847d9d",
   "metadata": {
    "execution": {
     "iopub.execute_input": "2025-02-02T21:05:35.537582Z",
     "iopub.status.busy": "2025-02-02T21:05:35.537323Z"
    },
    "papermill": {
     "duration": null,
     "end_time": null,
     "exception": false,
     "start_time": "2025-02-02T21:05:35.530576",
     "status": "running"
    },
    "tags": []
   },
   "outputs": [
    {
     "name": "stdout",
     "output_type": "stream",
     "text": [
      "Running on cuda.\n",
      "Checkpoints will be saved to: /kaggle/working/TrainingModelNLB\n",
      "Loaded previous training metrics!\n",
      "GNNNet Loaded\n"
     ]
    },
    {
     "name": "stdout",
     "output_type": "stream",
     "text": [
      "Loading checkpoint from /kaggle/working/TrainingModelNLB/model_epoch150.pt\n",
      "Resuming from epoch 151\n"
     ]
    },
    {
     "name": "stderr",
     "output_type": "stream",
     "text": [
      "\r",
      "Training:   0%|          | 0/100 [00:00<?, ?epoch/s]"
     ]
    },
    {
     "name": "stderr",
     "output_type": "stream",
     "text": [
      "\r",
      "                                                    "
     ]
    },
    {
     "name": "stderr",
     "output_type": "stream",
     "text": [
      "\r"
     ]
    },
    {
     "name": "stderr",
     "output_type": "stream",
     "text": [
      "\r",
      "Training:   0%|          | 0/100 [07:55<?, ?epoch/s]"
     ]
    },
    {
     "name": "stdout",
     "output_type": "stream",
     "text": [
      "[Epoch 151/250] Training Loss: 0.3301\n"
     ]
    },
    {
     "name": "stderr",
     "output_type": "stream",
     "text": [
      "\r",
      "                                                    "
     ]
    },
    {
     "name": "stderr",
     "output_type": "stream",
     "text": [
      "\r"
     ]
    },
    {
     "name": "stderr",
     "output_type": "stream",
     "text": [
      "\r",
      "Training:   0%|          | 0/100 [23:34<?, ?epoch/s]"
     ]
    },
    {
     "name": "stderr",
     "output_type": "stream",
     "text": [
      "\r",
      "                                                    "
     ]
    },
    {
     "name": "stderr",
     "output_type": "stream",
     "text": [
      "\r"
     ]
    },
    {
     "name": "stderr",
     "output_type": "stream",
     "text": [
      "\r",
      "Training:   0%|          | 0/100 [23:34<?, ?epoch/s]"
     ]
    },
    {
     "name": "stderr",
     "output_type": "stream",
     "text": [
      "\r",
      "                                                    "
     ]
    },
    {
     "name": "stderr",
     "output_type": "stream",
     "text": [
      "\r"
     ]
    },
    {
     "name": "stderr",
     "output_type": "stream",
     "text": [
      "\r",
      "Training:   0%|          | 0/100 [23:34<?, ?epoch/s]"
     ]
    },
    {
     "name": "stderr",
     "output_type": "stream",
     "text": [
      "\r",
      "                                                    "
     ]
    },
    {
     "name": "stderr",
     "output_type": "stream",
     "text": [
      "\r"
     ]
    },
    {
     "name": "stderr",
     "output_type": "stream",
     "text": [
      "\r",
      "Training:   0%|          | 0/100 [23:34<?, ?epoch/s]"
     ]
    },
    {
     "name": "stderr",
     "output_type": "stream",
     "text": [
      "\r",
      "Training:   1%|          | 1/100 [23:34<38:54:06, 1414.61s/epoch]"
     ]
    },
    {
     "name": "stdout",
     "output_type": "stream",
     "text": [
      "  Train => MSE=0.2510, CI=0.8717, Pearson=0.8293\n",
      "  Test  => MSE=0.2784, CI=0.8620, Pearson=0.8034\n",
      "Checkpoint saved at epoch 151\n",
      "Deleted previous checkpoint: /kaggle/working/TrainingModelNLB/model_epoch150.pt\n"
     ]
    },
    {
     "name": "stderr",
     "output_type": "stream",
     "text": [
      "\r",
      "                                                                 "
     ]
    },
    {
     "name": "stderr",
     "output_type": "stream",
     "text": [
      "\r"
     ]
    },
    {
     "name": "stderr",
     "output_type": "stream",
     "text": [
      "\r",
      "Training:   1%|          | 1/100 [31:26<38:54:06, 1414.61s/epoch]"
     ]
    },
    {
     "name": "stdout",
     "output_type": "stream",
     "text": [
      "[Epoch 152/250] Training Loss: 0.3130\n"
     ]
    },
    {
     "name": "stderr",
     "output_type": "stream",
     "text": [
      "\r",
      "                                                                 "
     ]
    },
    {
     "name": "stderr",
     "output_type": "stream",
     "text": [
      "\r"
     ]
    },
    {
     "name": "stderr",
     "output_type": "stream",
     "text": [
      "\r",
      "Training:   1%|          | 1/100 [47:05<38:54:06, 1414.61s/epoch]"
     ]
    },
    {
     "name": "stderr",
     "output_type": "stream",
     "text": [
      "\r",
      "                                                                 "
     ]
    },
    {
     "name": "stderr",
     "output_type": "stream",
     "text": [
      "\r"
     ]
    },
    {
     "name": "stderr",
     "output_type": "stream",
     "text": [
      "\r",
      "Training:   1%|          | 1/100 [47:05<38:54:06, 1414.61s/epoch]"
     ]
    },
    {
     "name": "stderr",
     "output_type": "stream",
     "text": [
      "\r",
      "                                                                 "
     ]
    },
    {
     "name": "stderr",
     "output_type": "stream",
     "text": [
      "\r"
     ]
    },
    {
     "name": "stderr",
     "output_type": "stream",
     "text": [
      "\r",
      "Training:   1%|          | 1/100 [47:05<38:54:06, 1414.61s/epoch]"
     ]
    },
    {
     "name": "stderr",
     "output_type": "stream",
     "text": [
      "\r",
      "                                                                 "
     ]
    },
    {
     "name": "stderr",
     "output_type": "stream",
     "text": [
      "\r"
     ]
    },
    {
     "name": "stderr",
     "output_type": "stream",
     "text": [
      "\r",
      "Training:   1%|          | 1/100 [47:05<38:54:06, 1414.61s/epoch]"
     ]
    },
    {
     "name": "stderr",
     "output_type": "stream",
     "text": [
      "\r",
      "Training:   2%|▏         | 2/100 [47:05<38:26:45, 1412.30s/epoch]"
     ]
    },
    {
     "name": "stdout",
     "output_type": "stream",
     "text": [
      "  Train => MSE=0.2394, CI=0.8624, Pearson=0.8305\n",
      "  Test  => MSE=0.2733, CI=0.8469, Pearson=0.7988\n",
      "Checkpoint saved at epoch 152\n",
      "Deleted previous checkpoint: /kaggle/working/TrainingModelNLB/model_epoch151.pt\n"
     ]
    },
    {
     "name": "stderr",
     "output_type": "stream",
     "text": [
      "\r",
      "                                                                 "
     ]
    },
    {
     "name": "stderr",
     "output_type": "stream",
     "text": [
      "\r"
     ]
    },
    {
     "name": "stderr",
     "output_type": "stream",
     "text": [
      "\r",
      "Training:   2%|▏         | 2/100 [54:57<38:26:45, 1412.30s/epoch]"
     ]
    },
    {
     "name": "stdout",
     "output_type": "stream",
     "text": [
      "[Epoch 153/250] Training Loss: 0.2971\n"
     ]
    },
    {
     "name": "stderr",
     "output_type": "stream",
     "text": [
      "\r",
      "                                                                 "
     ]
    },
    {
     "name": "stderr",
     "output_type": "stream",
     "text": [
      "\r"
     ]
    },
    {
     "name": "stderr",
     "output_type": "stream",
     "text": [
      "\r",
      "Training:   2%|▏         | 2/100 [1:10:35<38:26:45, 1412.30s/epoch]"
     ]
    },
    {
     "name": "stderr",
     "output_type": "stream",
     "text": [
      "\r",
      "                                                                   "
     ]
    },
    {
     "name": "stderr",
     "output_type": "stream",
     "text": [
      "\r"
     ]
    },
    {
     "name": "stderr",
     "output_type": "stream",
     "text": [
      "\r",
      "Training:   2%|▏         | 2/100 [1:10:35<38:26:45, 1412.30s/epoch]"
     ]
    },
    {
     "name": "stderr",
     "output_type": "stream",
     "text": [
      "\r",
      "                                                                   "
     ]
    },
    {
     "name": "stderr",
     "output_type": "stream",
     "text": [
      "\r"
     ]
    },
    {
     "name": "stderr",
     "output_type": "stream",
     "text": [
      "\r",
      "Training:   2%|▏         | 2/100 [1:10:35<38:26:45, 1412.30s/epoch]"
     ]
    },
    {
     "name": "stderr",
     "output_type": "stream",
     "text": [
      "\r",
      "                                                                   "
     ]
    },
    {
     "name": "stderr",
     "output_type": "stream",
     "text": [
      "\r"
     ]
    },
    {
     "name": "stderr",
     "output_type": "stream",
     "text": [
      "\r",
      "Training:   2%|▏         | 2/100 [1:10:35<38:26:45, 1412.30s/epoch]"
     ]
    },
    {
     "name": "stderr",
     "output_type": "stream",
     "text": [
      "\r",
      "Training:   3%|▎         | 3/100 [1:10:35<38:01:55, 1411.50s/epoch]"
     ]
    },
    {
     "name": "stdout",
     "output_type": "stream",
     "text": [
      "  Train => MSE=0.2231, CI=0.8789, Pearson=0.8416\n",
      "  Test  => MSE=0.2534, CI=0.8676, Pearson=0.8134\n",
      "Checkpoint saved at epoch 153\n",
      "Deleted previous checkpoint: /kaggle/working/TrainingModelNLB/model_epoch152.pt\n"
     ]
    },
    {
     "name": "stderr",
     "output_type": "stream",
     "text": [
      "\r",
      "                                                                   "
     ]
    },
    {
     "name": "stderr",
     "output_type": "stream",
     "text": [
      "\r"
     ]
    },
    {
     "name": "stderr",
     "output_type": "stream",
     "text": [
      "\r",
      "Training:   3%|▎         | 3/100 [1:18:27<38:01:55, 1411.50s/epoch]"
     ]
    },
    {
     "name": "stdout",
     "output_type": "stream",
     "text": [
      "[Epoch 154/250] Training Loss: 0.2948\n"
     ]
    },
    {
     "name": "stderr",
     "output_type": "stream",
     "text": [
      "\r",
      "                                                                   "
     ]
    },
    {
     "name": "stderr",
     "output_type": "stream",
     "text": [
      "\r"
     ]
    },
    {
     "name": "stderr",
     "output_type": "stream",
     "text": [
      "\r",
      "Training:   3%|▎         | 3/100 [1:34:05<38:01:55, 1411.50s/epoch]"
     ]
    },
    {
     "name": "stderr",
     "output_type": "stream",
     "text": [
      "\r",
      "                                                                   "
     ]
    },
    {
     "name": "stderr",
     "output_type": "stream",
     "text": [
      "\r"
     ]
    },
    {
     "name": "stderr",
     "output_type": "stream",
     "text": [
      "\r",
      "Training:   3%|▎         | 3/100 [1:34:05<38:01:55, 1411.50s/epoch]"
     ]
    },
    {
     "name": "stderr",
     "output_type": "stream",
     "text": [
      "\r",
      "                                                                   "
     ]
    },
    {
     "name": "stderr",
     "output_type": "stream",
     "text": [
      "\r"
     ]
    },
    {
     "name": "stderr",
     "output_type": "stream",
     "text": [
      "\r",
      "Training:   3%|▎         | 3/100 [1:34:05<38:01:55, 1411.50s/epoch]"
     ]
    },
    {
     "name": "stderr",
     "output_type": "stream",
     "text": [
      "\r",
      "                                                                   "
     ]
    },
    {
     "name": "stderr",
     "output_type": "stream",
     "text": [
      "\r"
     ]
    },
    {
     "name": "stderr",
     "output_type": "stream",
     "text": [
      "\r",
      "Training:   3%|▎         | 3/100 [1:34:05<38:01:55, 1411.50s/epoch]"
     ]
    },
    {
     "name": "stderr",
     "output_type": "stream",
     "text": [
      "\r",
      "Training:   4%|▍         | 4/100 [1:34:05<37:37:15, 1410.79s/epoch]"
     ]
    },
    {
     "name": "stdout",
     "output_type": "stream",
     "text": [
      "  Train => MSE=0.2123, CI=0.8772, Pearson=0.8564\n",
      "  Test  => MSE=0.2566, CI=0.8606, Pearson=0.8167\n",
      "Checkpoint saved at epoch 154\n",
      "Deleted previous checkpoint: /kaggle/working/TrainingModelNLB/model_epoch153.pt\n"
     ]
    },
    {
     "name": "stderr",
     "output_type": "stream",
     "text": [
      "\r",
      "                                                                   "
     ]
    },
    {
     "name": "stderr",
     "output_type": "stream",
     "text": [
      "\r"
     ]
    },
    {
     "name": "stderr",
     "output_type": "stream",
     "text": [
      "\r",
      "Training:   4%|▍         | 4/100 [1:41:57<37:37:15, 1410.79s/epoch]"
     ]
    },
    {
     "name": "stdout",
     "output_type": "stream",
     "text": [
      "[Epoch 155/250] Training Loss: 0.2922\n"
     ]
    },
    {
     "name": "stderr",
     "output_type": "stream",
     "text": [
      "\r",
      "                                                                   "
     ]
    },
    {
     "name": "stderr",
     "output_type": "stream",
     "text": [
      "\r"
     ]
    },
    {
     "name": "stderr",
     "output_type": "stream",
     "text": [
      "\r",
      "Training:   4%|▍         | 4/100 [1:57:35<37:37:15, 1410.79s/epoch]"
     ]
    },
    {
     "name": "stderr",
     "output_type": "stream",
     "text": [
      "\r",
      "                                                                   "
     ]
    },
    {
     "name": "stderr",
     "output_type": "stream",
     "text": [
      "\r"
     ]
    },
    {
     "name": "stderr",
     "output_type": "stream",
     "text": [
      "\r",
      "Training:   4%|▍         | 4/100 [1:57:35<37:37:15, 1410.79s/epoch]"
     ]
    },
    {
     "name": "stderr",
     "output_type": "stream",
     "text": [
      "\r",
      "                                                                   "
     ]
    },
    {
     "name": "stderr",
     "output_type": "stream",
     "text": [
      "\r"
     ]
    },
    {
     "name": "stderr",
     "output_type": "stream",
     "text": [
      "\r",
      "Training:   4%|▍         | 4/100 [1:57:35<37:37:15, 1410.79s/epoch]"
     ]
    },
    {
     "name": "stderr",
     "output_type": "stream",
     "text": [
      "\r",
      "                                                                   "
     ]
    },
    {
     "name": "stderr",
     "output_type": "stream",
     "text": [
      "\r"
     ]
    },
    {
     "name": "stderr",
     "output_type": "stream",
     "text": [
      "\r",
      "Training:   4%|▍         | 4/100 [1:57:35<37:37:15, 1410.79s/epoch]"
     ]
    },
    {
     "name": "stderr",
     "output_type": "stream",
     "text": [
      "\r",
      "Training:   5%|▌         | 5/100 [1:57:35<37:13:22, 1410.56s/epoch]"
     ]
    },
    {
     "name": "stdout",
     "output_type": "stream",
     "text": [
      "  Train => MSE=0.2000, CI=0.8854, Pearson=0.8561\n",
      "  Test  => MSE=0.2396, CI=0.8737, Pearson=0.8222\n",
      "Checkpoint saved at epoch 155\n",
      "Deleted previous checkpoint: /kaggle/working/TrainingModelNLB/model_epoch154.pt\n"
     ]
    },
    {
     "name": "stderr",
     "output_type": "stream",
     "text": [
      "\r",
      "                                                                   "
     ]
    },
    {
     "name": "stderr",
     "output_type": "stream",
     "text": [
      "\r"
     ]
    },
    {
     "name": "stderr",
     "output_type": "stream",
     "text": [
      "\r",
      "Training:   5%|▌         | 5/100 [2:05:27<37:13:22, 1410.56s/epoch]"
     ]
    },
    {
     "name": "stdout",
     "output_type": "stream",
     "text": [
      "[Epoch 156/250] Training Loss: 0.2789\n"
     ]
    },
    {
     "name": "stderr",
     "output_type": "stream",
     "text": [
      "\r",
      "                                                                   "
     ]
    },
    {
     "name": "stderr",
     "output_type": "stream",
     "text": [
      "\r"
     ]
    },
    {
     "name": "stderr",
     "output_type": "stream",
     "text": [
      "\r",
      "Training:   5%|▌         | 5/100 [2:21:06<37:13:22, 1410.56s/epoch]"
     ]
    },
    {
     "name": "stderr",
     "output_type": "stream",
     "text": [
      "\r",
      "                                                                   "
     ]
    },
    {
     "name": "stderr",
     "output_type": "stream",
     "text": [
      "\r"
     ]
    },
    {
     "name": "stderr",
     "output_type": "stream",
     "text": [
      "\r",
      "Training:   5%|▌         | 5/100 [2:21:06<37:13:22, 1410.56s/epoch]"
     ]
    },
    {
     "name": "stderr",
     "output_type": "stream",
     "text": [
      "\r",
      "                                                                   "
     ]
    },
    {
     "name": "stderr",
     "output_type": "stream",
     "text": [
      "\r"
     ]
    },
    {
     "name": "stderr",
     "output_type": "stream",
     "text": [
      "\r",
      "Training:   5%|▌         | 5/100 [2:21:06<37:13:22, 1410.56s/epoch]"
     ]
    },
    {
     "name": "stderr",
     "output_type": "stream",
     "text": [
      "\r",
      "                                                                   "
     ]
    },
    {
     "name": "stderr",
     "output_type": "stream",
     "text": [
      "\r"
     ]
    },
    {
     "name": "stderr",
     "output_type": "stream",
     "text": [
      "\r",
      "Training:   5%|▌         | 5/100 [2:21:06<37:13:22, 1410.56s/epoch]"
     ]
    },
    {
     "name": "stderr",
     "output_type": "stream",
     "text": [
      "\r",
      "Training:   6%|▌         | 6/100 [2:21:06<36:50:11, 1410.76s/epoch]"
     ]
    },
    {
     "name": "stdout",
     "output_type": "stream",
     "text": [
      "  Train => MSE=0.2320, CI=0.8776, Pearson=0.8377\n",
      "  Test  => MSE=0.2723, CI=0.8661, Pearson=0.7993\n",
      "Checkpoint saved at epoch 156\n",
      "Deleted previous checkpoint: /kaggle/working/TrainingModelNLB/model_epoch155.pt\n"
     ]
    },
    {
     "name": "stderr",
     "output_type": "stream",
     "text": [
      "\r",
      "                                                                   "
     ]
    },
    {
     "name": "stderr",
     "output_type": "stream",
     "text": [
      "\r"
     ]
    },
    {
     "name": "stderr",
     "output_type": "stream",
     "text": [
      "\r",
      "Training:   6%|▌         | 6/100 [2:28:58<36:50:11, 1410.76s/epoch]"
     ]
    },
    {
     "name": "stdout",
     "output_type": "stream",
     "text": [
      "[Epoch 157/250] Training Loss: 0.2752\n"
     ]
    },
    {
     "name": "stderr",
     "output_type": "stream",
     "text": [
      "\r",
      "                                                                   "
     ]
    },
    {
     "name": "stderr",
     "output_type": "stream",
     "text": [
      "\r"
     ]
    },
    {
     "name": "stderr",
     "output_type": "stream",
     "text": [
      "\r",
      "Training:   6%|▌         | 6/100 [2:44:36<36:50:11, 1410.76s/epoch]"
     ]
    },
    {
     "name": "stderr",
     "output_type": "stream",
     "text": [
      "\r",
      "                                                                   "
     ]
    },
    {
     "name": "stderr",
     "output_type": "stream",
     "text": [
      "\r"
     ]
    },
    {
     "name": "stderr",
     "output_type": "stream",
     "text": [
      "\r",
      "Training:   6%|▌         | 6/100 [2:44:36<36:50:11, 1410.76s/epoch]"
     ]
    },
    {
     "name": "stderr",
     "output_type": "stream",
     "text": [
      "\r",
      "                                                                   "
     ]
    },
    {
     "name": "stderr",
     "output_type": "stream",
     "text": [
      "\r"
     ]
    },
    {
     "name": "stderr",
     "output_type": "stream",
     "text": [
      "\r",
      "Training:   6%|▌         | 6/100 [2:44:36<36:50:11, 1410.76s/epoch]"
     ]
    },
    {
     "name": "stderr",
     "output_type": "stream",
     "text": [
      "\r",
      "                                                                   "
     ]
    },
    {
     "name": "stderr",
     "output_type": "stream",
     "text": [
      "\r"
     ]
    },
    {
     "name": "stderr",
     "output_type": "stream",
     "text": [
      "\r",
      "Training:   6%|▌         | 6/100 [2:44:36<36:50:11, 1410.76s/epoch]"
     ]
    },
    {
     "name": "stderr",
     "output_type": "stream",
     "text": [
      "\r",
      "Training:   7%|▋         | 7/100 [2:44:36<36:26:19, 1410.53s/epoch]"
     ]
    },
    {
     "name": "stdout",
     "output_type": "stream",
     "text": [
      "  Train => MSE=0.2049, CI=0.8791, Pearson=0.8542\n",
      "  Test  => MSE=0.2427, CI=0.8599, Pearson=0.8212\n",
      "Checkpoint saved at epoch 157\n",
      "Deleted previous checkpoint: /kaggle/working/TrainingModelNLB/model_epoch156.pt\n"
     ]
    },
    {
     "name": "stderr",
     "output_type": "stream",
     "text": [
      "\r",
      "                                                                   "
     ]
    },
    {
     "name": "stderr",
     "output_type": "stream",
     "text": [
      "\r"
     ]
    },
    {
     "name": "stderr",
     "output_type": "stream",
     "text": [
      "\r",
      "Training:   7%|▋         | 7/100 [2:52:28<36:26:19, 1410.53s/epoch]"
     ]
    },
    {
     "name": "stdout",
     "output_type": "stream",
     "text": [
      "[Epoch 158/250] Training Loss: 0.2811\n"
     ]
    },
    {
     "name": "stderr",
     "output_type": "stream",
     "text": [
      "\r",
      "                                                                   "
     ]
    },
    {
     "name": "stderr",
     "output_type": "stream",
     "text": [
      "\r"
     ]
    },
    {
     "name": "stderr",
     "output_type": "stream",
     "text": [
      "\r",
      "Training:   7%|▋         | 7/100 [3:08:07<36:26:19, 1410.53s/epoch]"
     ]
    },
    {
     "name": "stderr",
     "output_type": "stream",
     "text": [
      "\r",
      "                                                                   "
     ]
    },
    {
     "name": "stderr",
     "output_type": "stream",
     "text": [
      "\r"
     ]
    },
    {
     "name": "stderr",
     "output_type": "stream",
     "text": [
      "\r",
      "Training:   7%|▋         | 7/100 [3:08:07<36:26:19, 1410.53s/epoch]"
     ]
    },
    {
     "name": "stderr",
     "output_type": "stream",
     "text": [
      "\r",
      "                                                                   "
     ]
    },
    {
     "name": "stderr",
     "output_type": "stream",
     "text": [
      "\r"
     ]
    },
    {
     "name": "stderr",
     "output_type": "stream",
     "text": [
      "\r",
      "Training:   7%|▋         | 7/100 [3:08:07<36:26:19, 1410.53s/epoch]"
     ]
    },
    {
     "name": "stderr",
     "output_type": "stream",
     "text": [
      "\r",
      "                                                                   "
     ]
    },
    {
     "name": "stderr",
     "output_type": "stream",
     "text": [
      "\r"
     ]
    },
    {
     "name": "stderr",
     "output_type": "stream",
     "text": [
      "\r",
      "Training:   7%|▋         | 7/100 [3:08:07<36:26:19, 1410.53s/epoch]"
     ]
    },
    {
     "name": "stderr",
     "output_type": "stream",
     "text": [
      "\r",
      "Training:   8%|▊         | 8/100 [3:08:07<36:02:44, 1410.49s/epoch]"
     ]
    },
    {
     "name": "stdout",
     "output_type": "stream",
     "text": [
      "  Train => MSE=0.2088, CI=0.8781, Pearson=0.8527\n",
      "  Test  => MSE=0.2557, CI=0.8621, Pearson=0.8103\n",
      "Checkpoint saved at epoch 158\n",
      "Deleted previous checkpoint: /kaggle/working/TrainingModelNLB/model_epoch157.pt\n"
     ]
    },
    {
     "name": "stderr",
     "output_type": "stream",
     "text": [
      "\r",
      "                                                                   "
     ]
    },
    {
     "name": "stderr",
     "output_type": "stream",
     "text": [
      "\r"
     ]
    },
    {
     "name": "stderr",
     "output_type": "stream",
     "text": [
      "\r",
      "Training:   8%|▊         | 8/100 [3:15:59<36:02:44, 1410.49s/epoch]"
     ]
    },
    {
     "name": "stdout",
     "output_type": "stream",
     "text": [
      "[Epoch 159/250] Training Loss: 0.2760\n"
     ]
    },
    {
     "name": "stderr",
     "output_type": "stream",
     "text": [
      "\r",
      "                                                                   "
     ]
    },
    {
     "name": "stderr",
     "output_type": "stream",
     "text": [
      "\r"
     ]
    },
    {
     "name": "stderr",
     "output_type": "stream",
     "text": [
      "\r",
      "Training:   8%|▊         | 8/100 [3:31:36<36:02:44, 1410.49s/epoch]"
     ]
    },
    {
     "name": "stderr",
     "output_type": "stream",
     "text": [
      "\r",
      "                                                                   "
     ]
    },
    {
     "name": "stderr",
     "output_type": "stream",
     "text": [
      "\r"
     ]
    },
    {
     "name": "stderr",
     "output_type": "stream",
     "text": [
      "\r",
      "Training:   8%|▊         | 8/100 [3:31:36<36:02:44, 1410.49s/epoch]"
     ]
    },
    {
     "name": "stderr",
     "output_type": "stream",
     "text": [
      "\r",
      "                                                                   "
     ]
    },
    {
     "name": "stderr",
     "output_type": "stream",
     "text": [
      "\r"
     ]
    },
    {
     "name": "stderr",
     "output_type": "stream",
     "text": [
      "\r",
      "Training:   8%|▊         | 8/100 [3:31:36<36:02:44, 1410.49s/epoch]"
     ]
    },
    {
     "name": "stderr",
     "output_type": "stream",
     "text": [
      "\r",
      "                                                                   "
     ]
    },
    {
     "name": "stderr",
     "output_type": "stream",
     "text": [
      "\r"
     ]
    },
    {
     "name": "stderr",
     "output_type": "stream",
     "text": [
      "\r",
      "Training:   8%|▊         | 8/100 [3:31:36<36:02:44, 1410.49s/epoch]"
     ]
    },
    {
     "name": "stderr",
     "output_type": "stream",
     "text": [
      "\r",
      "Training:   9%|▉         | 9/100 [3:31:36<35:38:45, 1410.17s/epoch]"
     ]
    },
    {
     "name": "stdout",
     "output_type": "stream",
     "text": [
      "  Train => MSE=0.2068, CI=0.8804, Pearson=0.8522\n",
      "  Test  => MSE=0.2601, CI=0.8685, Pearson=0.8055\n",
      "Checkpoint saved at epoch 159\n",
      "Deleted previous checkpoint: /kaggle/working/TrainingModelNLB/model_epoch158.pt\n"
     ]
    },
    {
     "name": "stderr",
     "output_type": "stream",
     "text": [
      "\r",
      "                                                                   "
     ]
    },
    {
     "name": "stderr",
     "output_type": "stream",
     "text": [
      "\r"
     ]
    },
    {
     "name": "stderr",
     "output_type": "stream",
     "text": [
      "\r",
      "Training:   9%|▉         | 9/100 [3:39:28<35:38:45, 1410.17s/epoch]"
     ]
    },
    {
     "name": "stdout",
     "output_type": "stream",
     "text": [
      "[Epoch 160/250] Training Loss: 0.2737\n"
     ]
    },
    {
     "name": "stderr",
     "output_type": "stream",
     "text": [
      "\r",
      "                                                                   "
     ]
    },
    {
     "name": "stderr",
     "output_type": "stream",
     "text": [
      "\r"
     ]
    },
    {
     "name": "stderr",
     "output_type": "stream",
     "text": [
      "\r",
      "Training:   9%|▉         | 9/100 [3:55:05<35:38:45, 1410.17s/epoch]"
     ]
    },
    {
     "name": "stderr",
     "output_type": "stream",
     "text": [
      "\r",
      "                                                                   "
     ]
    },
    {
     "name": "stderr",
     "output_type": "stream",
     "text": [
      "\r"
     ]
    },
    {
     "name": "stderr",
     "output_type": "stream",
     "text": [
      "\r",
      "Training:   9%|▉         | 9/100 [3:55:05<35:38:45, 1410.17s/epoch]"
     ]
    },
    {
     "name": "stderr",
     "output_type": "stream",
     "text": [
      "\r",
      "                                                                   "
     ]
    },
    {
     "name": "stderr",
     "output_type": "stream",
     "text": [
      "\r"
     ]
    },
    {
     "name": "stderr",
     "output_type": "stream",
     "text": [
      "\r",
      "Training:   9%|▉         | 9/100 [3:55:06<35:38:45, 1410.17s/epoch]"
     ]
    },
    {
     "name": "stderr",
     "output_type": "stream",
     "text": [
      "\r",
      "                                                                   "
     ]
    },
    {
     "name": "stderr",
     "output_type": "stream",
     "text": [
      "\r"
     ]
    },
    {
     "name": "stderr",
     "output_type": "stream",
     "text": [
      "\r",
      "Training:   9%|▉         | 9/100 [3:55:06<35:38:45, 1410.17s/epoch]"
     ]
    },
    {
     "name": "stderr",
     "output_type": "stream",
     "text": [
      "\r",
      "Training:  10%|█         | 10/100 [3:55:06<35:14:49, 1409.88s/epoch]"
     ]
    },
    {
     "name": "stdout",
     "output_type": "stream",
     "text": [
      "  Train => MSE=0.2079, CI=0.8824, Pearson=0.8543\n",
      "  Test  => MSE=0.2644, CI=0.8657, Pearson=0.8047\n",
      "Checkpoint saved at epoch 160\n",
      "Deleted previous checkpoint: /kaggle/working/TrainingModelNLB/model_epoch159.pt\n"
     ]
    },
    {
     "name": "stderr",
     "output_type": "stream",
     "text": [
      "\r",
      "                                                                    "
     ]
    },
    {
     "name": "stderr",
     "output_type": "stream",
     "text": [
      "\r"
     ]
    },
    {
     "name": "stderr",
     "output_type": "stream",
     "text": [
      "\r",
      "Training:  10%|█         | 10/100 [4:02:58<35:14:49, 1409.88s/epoch]"
     ]
    },
    {
     "name": "stdout",
     "output_type": "stream",
     "text": [
      "[Epoch 161/250] Training Loss: 0.2734\n"
     ]
    },
    {
     "name": "stderr",
     "output_type": "stream",
     "text": [
      "\r",
      "                                                                    "
     ]
    },
    {
     "name": "stderr",
     "output_type": "stream",
     "text": [
      "\r"
     ]
    },
    {
     "name": "stderr",
     "output_type": "stream",
     "text": [
      "\r",
      "Training:  10%|█         | 10/100 [4:18:35<35:14:49, 1409.88s/epoch]"
     ]
    },
    {
     "name": "stderr",
     "output_type": "stream",
     "text": [
      "\r",
      "                                                                    "
     ]
    },
    {
     "name": "stderr",
     "output_type": "stream",
     "text": [
      "\r"
     ]
    },
    {
     "name": "stderr",
     "output_type": "stream",
     "text": [
      "\r",
      "Training:  10%|█         | 10/100 [4:18:35<35:14:49, 1409.88s/epoch]"
     ]
    },
    {
     "name": "stderr",
     "output_type": "stream",
     "text": [
      "\r",
      "                                                                    "
     ]
    },
    {
     "name": "stderr",
     "output_type": "stream",
     "text": [
      "\r"
     ]
    },
    {
     "name": "stderr",
     "output_type": "stream",
     "text": [
      "\r",
      "Training:  10%|█         | 10/100 [4:18:35<35:14:49, 1409.88s/epoch]"
     ]
    },
    {
     "name": "stderr",
     "output_type": "stream",
     "text": [
      "\r",
      "                                                                    "
     ]
    },
    {
     "name": "stderr",
     "output_type": "stream",
     "text": [
      "\r"
     ]
    },
    {
     "name": "stderr",
     "output_type": "stream",
     "text": [
      "\r",
      "Training:  10%|█         | 10/100 [4:18:35<35:14:49, 1409.88s/epoch]"
     ]
    },
    {
     "name": "stderr",
     "output_type": "stream",
     "text": [
      "\r",
      "Training:  11%|█         | 11/100 [4:18:35<34:51:15, 1409.84s/epoch]"
     ]
    },
    {
     "name": "stdout",
     "output_type": "stream",
     "text": [
      "  Train => MSE=0.2058, CI=0.8825, Pearson=0.8581\n",
      "  Test  => MSE=0.2608, CI=0.8628, Pearson=0.8086\n",
      "Checkpoint saved at epoch 161\n",
      "Deleted previous checkpoint: /kaggle/working/TrainingModelNLB/model_epoch160.pt\n"
     ]
    },
    {
     "name": "stderr",
     "output_type": "stream",
     "text": [
      "\r",
      "                                                                    "
     ]
    },
    {
     "name": "stderr",
     "output_type": "stream",
     "text": [
      "\r"
     ]
    },
    {
     "name": "stderr",
     "output_type": "stream",
     "text": [
      "\r",
      "Training:  11%|█         | 11/100 [4:26:28<34:51:15, 1409.84s/epoch]"
     ]
    },
    {
     "name": "stdout",
     "output_type": "stream",
     "text": [
      "[Epoch 162/250] Training Loss: 0.2793\n"
     ]
    },
    {
     "name": "stderr",
     "output_type": "stream",
     "text": [
      "\r",
      "                                                                    "
     ]
    },
    {
     "name": "stderr",
     "output_type": "stream",
     "text": [
      "\r"
     ]
    },
    {
     "name": "stderr",
     "output_type": "stream",
     "text": [
      "\r",
      "Training:  11%|█         | 11/100 [4:42:06<34:51:15, 1409.84s/epoch]"
     ]
    },
    {
     "name": "stderr",
     "output_type": "stream",
     "text": [
      "\r",
      "                                                                    "
     ]
    },
    {
     "name": "stderr",
     "output_type": "stream",
     "text": [
      "\r"
     ]
    },
    {
     "name": "stderr",
     "output_type": "stream",
     "text": [
      "\r",
      "Training:  11%|█         | 11/100 [4:42:06<34:51:15, 1409.84s/epoch]"
     ]
    },
    {
     "name": "stderr",
     "output_type": "stream",
     "text": [
      "\r",
      "                                                                    "
     ]
    },
    {
     "name": "stderr",
     "output_type": "stream",
     "text": [
      "\r"
     ]
    },
    {
     "name": "stderr",
     "output_type": "stream",
     "text": [
      "\r",
      "Training:  11%|█         | 11/100 [4:42:06<34:51:15, 1409.84s/epoch]"
     ]
    },
    {
     "name": "stderr",
     "output_type": "stream",
     "text": [
      "\r",
      "                                                                    "
     ]
    },
    {
     "name": "stderr",
     "output_type": "stream",
     "text": [
      "\r"
     ]
    },
    {
     "name": "stderr",
     "output_type": "stream",
     "text": [
      "\r",
      "Training:  11%|█         | 11/100 [4:42:06<34:51:15, 1409.84s/epoch]"
     ]
    },
    {
     "name": "stderr",
     "output_type": "stream",
     "text": [
      "\r",
      "Training:  12%|█▏        | 12/100 [4:42:06<34:28:18, 1410.22s/epoch]"
     ]
    },
    {
     "name": "stdout",
     "output_type": "stream",
     "text": [
      "  Train => MSE=0.2050, CI=0.8813, Pearson=0.8556\n",
      "  Test  => MSE=0.2557, CI=0.8638, Pearson=0.8104\n",
      "Checkpoint saved at epoch 162\n",
      "Deleted previous checkpoint: /kaggle/working/TrainingModelNLB/model_epoch161.pt\n"
     ]
    },
    {
     "name": "stderr",
     "output_type": "stream",
     "text": [
      "\r",
      "                                                                    "
     ]
    },
    {
     "name": "stderr",
     "output_type": "stream",
     "text": [
      "\r"
     ]
    },
    {
     "name": "stderr",
     "output_type": "stream",
     "text": [
      "\r",
      "Training:  12%|█▏        | 12/100 [4:49:58<34:28:18, 1410.22s/epoch]"
     ]
    },
    {
     "name": "stdout",
     "output_type": "stream",
     "text": [
      "[Epoch 163/250] Training Loss: 0.2681\n"
     ]
    },
    {
     "name": "stderr",
     "output_type": "stream",
     "text": [
      "\r",
      "                                                                    "
     ]
    },
    {
     "name": "stderr",
     "output_type": "stream",
     "text": [
      "\r"
     ]
    },
    {
     "name": "stderr",
     "output_type": "stream",
     "text": [
      "\r",
      "Training:  12%|█▏        | 12/100 [5:05:35<34:28:18, 1410.22s/epoch]"
     ]
    },
    {
     "name": "stderr",
     "output_type": "stream",
     "text": [
      "\r",
      "                                                                    "
     ]
    },
    {
     "name": "stderr",
     "output_type": "stream",
     "text": [
      "\r"
     ]
    },
    {
     "name": "stderr",
     "output_type": "stream",
     "text": [
      "\r",
      "Training:  12%|█▏        | 12/100 [5:05:35<34:28:18, 1410.22s/epoch]"
     ]
    },
    {
     "name": "stderr",
     "output_type": "stream",
     "text": [
      "\r",
      "                                                                    "
     ]
    },
    {
     "name": "stderr",
     "output_type": "stream",
     "text": [
      "\r"
     ]
    },
    {
     "name": "stderr",
     "output_type": "stream",
     "text": [
      "\r",
      "Training:  12%|█▏        | 12/100 [5:05:35<34:28:18, 1410.22s/epoch]"
     ]
    },
    {
     "name": "stderr",
     "output_type": "stream",
     "text": [
      "\r",
      "                                                                    "
     ]
    },
    {
     "name": "stderr",
     "output_type": "stream",
     "text": [
      "\r"
     ]
    },
    {
     "name": "stderr",
     "output_type": "stream",
     "text": [
      "\r",
      "Training:  12%|█▏        | 12/100 [5:05:35<34:28:18, 1410.22s/epoch]"
     ]
    },
    {
     "name": "stderr",
     "output_type": "stream",
     "text": [
      "\r",
      "Training:  13%|█▎        | 13/100 [5:05:35<34:04:09, 1409.76s/epoch]"
     ]
    },
    {
     "name": "stdout",
     "output_type": "stream",
     "text": [
      "  Train => MSE=0.2019, CI=0.8872, Pearson=0.8634\n",
      "  Test  => MSE=0.2544, CI=0.8629, Pearson=0.8169\n",
      "Checkpoint saved at epoch 163\n",
      "Deleted previous checkpoint: /kaggle/working/TrainingModelNLB/model_epoch162.pt\n"
     ]
    },
    {
     "name": "stderr",
     "output_type": "stream",
     "text": [
      "\r",
      "                                                                    "
     ]
    },
    {
     "name": "stderr",
     "output_type": "stream",
     "text": [
      "\r"
     ]
    },
    {
     "name": "stderr",
     "output_type": "stream",
     "text": [
      "\r",
      "Training:  13%|█▎        | 13/100 [5:13:26<34:04:09, 1409.76s/epoch]"
     ]
    },
    {
     "name": "stdout",
     "output_type": "stream",
     "text": [
      "[Epoch 164/250] Training Loss: 0.2693\n"
     ]
    },
    {
     "name": "stderr",
     "output_type": "stream",
     "text": [
      "\r",
      "                                                                    "
     ]
    },
    {
     "name": "stderr",
     "output_type": "stream",
     "text": [
      "\r"
     ]
    },
    {
     "name": "stderr",
     "output_type": "stream",
     "text": [
      "\r",
      "Training:  13%|█▎        | 13/100 [5:29:04<34:04:09, 1409.76s/epoch]"
     ]
    },
    {
     "name": "stderr",
     "output_type": "stream",
     "text": [
      "\r",
      "                                                                    "
     ]
    },
    {
     "name": "stderr",
     "output_type": "stream",
     "text": [
      "\r"
     ]
    },
    {
     "name": "stderr",
     "output_type": "stream",
     "text": [
      "\r",
      "Training:  13%|█▎        | 13/100 [5:29:04<34:04:09, 1409.76s/epoch]"
     ]
    },
    {
     "name": "stderr",
     "output_type": "stream",
     "text": [
      "\r",
      "                                                                    "
     ]
    },
    {
     "name": "stderr",
     "output_type": "stream",
     "text": [
      "\r"
     ]
    },
    {
     "name": "stderr",
     "output_type": "stream",
     "text": [
      "\r",
      "Training:  13%|█▎        | 13/100 [5:29:04<34:04:09, 1409.76s/epoch]"
     ]
    },
    {
     "name": "stderr",
     "output_type": "stream",
     "text": [
      "\r",
      "                                                                    "
     ]
    },
    {
     "name": "stderr",
     "output_type": "stream",
     "text": [
      "\r"
     ]
    },
    {
     "name": "stderr",
     "output_type": "stream",
     "text": [
      "\r",
      "Training:  13%|█▎        | 13/100 [5:29:04<34:04:09, 1409.76s/epoch]"
     ]
    },
    {
     "name": "stderr",
     "output_type": "stream",
     "text": [
      "\r",
      "Training:  14%|█▍        | 14/100 [5:29:04<33:40:22, 1409.56s/epoch]"
     ]
    },
    {
     "name": "stdout",
     "output_type": "stream",
     "text": [
      "  Train => MSE=0.1922, CI=0.8880, Pearson=0.8716\n",
      "  Test  => MSE=0.2487, CI=0.8669, Pearson=0.8222\n",
      "Checkpoint saved at epoch 164\n",
      "Deleted previous checkpoint: /kaggle/working/TrainingModelNLB/model_epoch163.pt\n"
     ]
    },
    {
     "name": "stderr",
     "output_type": "stream",
     "text": [
      "\r",
      "                                                                    "
     ]
    },
    {
     "name": "stderr",
     "output_type": "stream",
     "text": [
      "\r"
     ]
    },
    {
     "name": "stderr",
     "output_type": "stream",
     "text": [
      "\r",
      "Training:  14%|█▍        | 14/100 [5:36:55<33:40:22, 1409.56s/epoch]"
     ]
    },
    {
     "name": "stdout",
     "output_type": "stream",
     "text": [
      "[Epoch 165/250] Training Loss: 0.2640\n"
     ]
    },
    {
     "name": "stderr",
     "output_type": "stream",
     "text": [
      "\r",
      "                                                                    "
     ]
    },
    {
     "name": "stderr",
     "output_type": "stream",
     "text": [
      "\r"
     ]
    },
    {
     "name": "stderr",
     "output_type": "stream",
     "text": [
      "\r",
      "Training:  14%|█▍        | 14/100 [5:52:33<33:40:22, 1409.56s/epoch]"
     ]
    },
    {
     "name": "stderr",
     "output_type": "stream",
     "text": [
      "\r",
      "                                                                    "
     ]
    },
    {
     "name": "stderr",
     "output_type": "stream",
     "text": [
      "\r"
     ]
    },
    {
     "name": "stderr",
     "output_type": "stream",
     "text": [
      "\r",
      "Training:  14%|█▍        | 14/100 [5:52:33<33:40:22, 1409.56s/epoch]"
     ]
    },
    {
     "name": "stderr",
     "output_type": "stream",
     "text": [
      "\r",
      "                                                                    "
     ]
    },
    {
     "name": "stderr",
     "output_type": "stream",
     "text": [
      "\r"
     ]
    },
    {
     "name": "stderr",
     "output_type": "stream",
     "text": [
      "\r",
      "Training:  14%|█▍        | 14/100 [5:52:33<33:40:22, 1409.56s/epoch]"
     ]
    },
    {
     "name": "stderr",
     "output_type": "stream",
     "text": [
      "\r",
      "                                                                    "
     ]
    },
    {
     "name": "stderr",
     "output_type": "stream",
     "text": [
      "\r"
     ]
    },
    {
     "name": "stderr",
     "output_type": "stream",
     "text": [
      "\r",
      "Training:  14%|█▍        | 14/100 [5:52:33<33:40:22, 1409.56s/epoch]"
     ]
    },
    {
     "name": "stderr",
     "output_type": "stream",
     "text": [
      "\r",
      "Training:  15%|█▌        | 15/100 [5:52:33<33:16:32, 1409.32s/epoch]"
     ]
    },
    {
     "name": "stdout",
     "output_type": "stream",
     "text": [
      "  Train => MSE=0.1953, CI=0.8776, Pearson=0.8605\n",
      "  Test  => MSE=0.2483, CI=0.8568, Pearson=0.8154\n",
      "Checkpoint saved at epoch 165\n",
      "Deleted previous checkpoint: /kaggle/working/TrainingModelNLB/model_epoch164.pt\n"
     ]
    },
    {
     "name": "stderr",
     "output_type": "stream",
     "text": [
      "\r",
      "                                                                    "
     ]
    },
    {
     "name": "stderr",
     "output_type": "stream",
     "text": [
      "\r"
     ]
    },
    {
     "name": "stderr",
     "output_type": "stream",
     "text": [
      "\r",
      "Training:  15%|█▌        | 15/100 [6:00:25<33:16:32, 1409.32s/epoch]"
     ]
    },
    {
     "name": "stdout",
     "output_type": "stream",
     "text": [
      "[Epoch 166/250] Training Loss: 0.2739\n"
     ]
    },
    {
     "name": "stderr",
     "output_type": "stream",
     "text": [
      "\r",
      "                                                                    "
     ]
    },
    {
     "name": "stderr",
     "output_type": "stream",
     "text": [
      "\r"
     ]
    },
    {
     "name": "stderr",
     "output_type": "stream",
     "text": [
      "\r",
      "Training:  15%|█▌        | 15/100 [6:16:03<33:16:32, 1409.32s/epoch]"
     ]
    },
    {
     "name": "stderr",
     "output_type": "stream",
     "text": [
      "\r",
      "                                                                    "
     ]
    },
    {
     "name": "stderr",
     "output_type": "stream",
     "text": [
      "\r"
     ]
    },
    {
     "name": "stderr",
     "output_type": "stream",
     "text": [
      "\r",
      "Training:  15%|█▌        | 15/100 [6:16:03<33:16:32, 1409.32s/epoch]"
     ]
    },
    {
     "name": "stderr",
     "output_type": "stream",
     "text": [
      "\r",
      "                                                                    "
     ]
    },
    {
     "name": "stderr",
     "output_type": "stream",
     "text": [
      "\r"
     ]
    },
    {
     "name": "stderr",
     "output_type": "stream",
     "text": [
      "\r",
      "Training:  15%|█▌        | 15/100 [6:16:03<33:16:32, 1409.32s/epoch]"
     ]
    },
    {
     "name": "stderr",
     "output_type": "stream",
     "text": [
      "\r",
      "                                                                    "
     ]
    },
    {
     "name": "stderr",
     "output_type": "stream",
     "text": [
      "\r"
     ]
    },
    {
     "name": "stderr",
     "output_type": "stream",
     "text": [
      "\r",
      "Training:  15%|█▌        | 15/100 [6:16:03<33:16:32, 1409.32s/epoch]"
     ]
    },
    {
     "name": "stderr",
     "output_type": "stream",
     "text": [
      "\r",
      "Training:  16%|█▌        | 16/100 [6:16:03<32:53:33, 1409.68s/epoch]"
     ]
    },
    {
     "name": "stdout",
     "output_type": "stream",
     "text": [
      "  Train => MSE=0.2096, CI=0.8830, Pearson=0.8537\n",
      "  Test  => MSE=0.2682, CI=0.8569, Pearson=0.8015\n",
      "Checkpoint saved at epoch 166\n",
      "Deleted previous checkpoint: /kaggle/working/TrainingModelNLB/model_epoch165.pt\n"
     ]
    },
    {
     "name": "stderr",
     "output_type": "stream",
     "text": [
      "\r",
      "                                                                    "
     ]
    },
    {
     "name": "stderr",
     "output_type": "stream",
     "text": [
      "\r"
     ]
    },
    {
     "name": "stderr",
     "output_type": "stream",
     "text": [
      "\r",
      "Training:  16%|█▌        | 16/100 [6:23:56<32:53:33, 1409.68s/epoch]"
     ]
    },
    {
     "name": "stdout",
     "output_type": "stream",
     "text": [
      "[Epoch 167/250] Training Loss: 0.2609\n"
     ]
    },
    {
     "name": "stderr",
     "output_type": "stream",
     "text": [
      "\r",
      "                                                                    "
     ]
    },
    {
     "name": "stderr",
     "output_type": "stream",
     "text": [
      "\r"
     ]
    },
    {
     "name": "stderr",
     "output_type": "stream",
     "text": [
      "\r",
      "Training:  16%|█▌        | 16/100 [6:39:34<32:53:33, 1409.68s/epoch]"
     ]
    },
    {
     "name": "stderr",
     "output_type": "stream",
     "text": [
      "\r",
      "                                                                    "
     ]
    },
    {
     "name": "stderr",
     "output_type": "stream",
     "text": [
      "\r"
     ]
    },
    {
     "name": "stderr",
     "output_type": "stream",
     "text": [
      "\r",
      "Training:  16%|█▌        | 16/100 [6:39:34<32:53:33, 1409.68s/epoch]"
     ]
    },
    {
     "name": "stderr",
     "output_type": "stream",
     "text": [
      "\r",
      "                                                                    "
     ]
    },
    {
     "name": "stderr",
     "output_type": "stream",
     "text": [
      "\r"
     ]
    },
    {
     "name": "stderr",
     "output_type": "stream",
     "text": [
      "\r",
      "Training:  16%|█▌        | 16/100 [6:39:34<32:53:33, 1409.68s/epoch]"
     ]
    },
    {
     "name": "stderr",
     "output_type": "stream",
     "text": [
      "\r",
      "                                                                    "
     ]
    },
    {
     "name": "stderr",
     "output_type": "stream",
     "text": [
      "\r"
     ]
    },
    {
     "name": "stderr",
     "output_type": "stream",
     "text": [
      "\r",
      "Training:  16%|█▌        | 16/100 [6:39:34<32:53:33, 1409.68s/epoch]"
     ]
    },
    {
     "name": "stderr",
     "output_type": "stream",
     "text": [
      "\r",
      "Training:  17%|█▋        | 17/100 [6:39:34<32:30:35, 1410.06s/epoch]"
     ]
    },
    {
     "name": "stdout",
     "output_type": "stream",
     "text": [
      "  Train => MSE=0.1912, CI=0.8875, Pearson=0.8693\n",
      "  Test  => MSE=0.2494, CI=0.8590, Pearson=0.8174\n",
      "Checkpoint saved at epoch 167\n",
      "Deleted previous checkpoint: /kaggle/working/TrainingModelNLB/model_epoch166.pt\n"
     ]
    },
    {
     "name": "stderr",
     "output_type": "stream",
     "text": [
      "\r",
      "                                                                    "
     ]
    },
    {
     "name": "stderr",
     "output_type": "stream",
     "text": [
      "\r"
     ]
    },
    {
     "name": "stderr",
     "output_type": "stream",
     "text": [
      "\r",
      "Training:  17%|█▋        | 17/100 [6:47:26<32:30:35, 1410.06s/epoch]"
     ]
    },
    {
     "name": "stdout",
     "output_type": "stream",
     "text": [
      "[Epoch 168/250] Training Loss: 0.2593\n"
     ]
    },
    {
     "name": "stderr",
     "output_type": "stream",
     "text": [
      "\r",
      "                                                                    "
     ]
    },
    {
     "name": "stderr",
     "output_type": "stream",
     "text": [
      "\r"
     ]
    },
    {
     "name": "stderr",
     "output_type": "stream",
     "text": [
      "\r",
      "Training:  17%|█▋        | 17/100 [7:03:03<32:30:35, 1410.06s/epoch]"
     ]
    },
    {
     "name": "stderr",
     "output_type": "stream",
     "text": [
      "\r",
      "                                                                    "
     ]
    },
    {
     "name": "stderr",
     "output_type": "stream",
     "text": [
      "\r"
     ]
    },
    {
     "name": "stderr",
     "output_type": "stream",
     "text": [
      "\r",
      "Training:  17%|█▋        | 17/100 [7:03:03<32:30:35, 1410.06s/epoch]"
     ]
    },
    {
     "name": "stderr",
     "output_type": "stream",
     "text": [
      "\r",
      "                                                                    "
     ]
    },
    {
     "name": "stderr",
     "output_type": "stream",
     "text": [
      "\r"
     ]
    },
    {
     "name": "stderr",
     "output_type": "stream",
     "text": [
      "\r",
      "Training:  17%|█▋        | 17/100 [7:03:03<32:30:35, 1410.06s/epoch]"
     ]
    },
    {
     "name": "stderr",
     "output_type": "stream",
     "text": [
      "\r",
      "                                                                    "
     ]
    },
    {
     "name": "stderr",
     "output_type": "stream",
     "text": [
      "\r"
     ]
    },
    {
     "name": "stderr",
     "output_type": "stream",
     "text": [
      "\r",
      "Training:  17%|█▋        | 17/100 [7:03:03<32:30:35, 1410.06s/epoch]"
     ]
    },
    {
     "name": "stderr",
     "output_type": "stream",
     "text": [
      "\r",
      "Training:  18%|█▊        | 18/100 [7:03:03<32:06:28, 1409.61s/epoch]"
     ]
    },
    {
     "name": "stdout",
     "output_type": "stream",
     "text": [
      "  Train => MSE=0.1980, CI=0.8845, Pearson=0.8597\n",
      "  Test  => MSE=0.2502, CI=0.8613, Pearson=0.8140\n",
      "Checkpoint saved at epoch 168\n",
      "Deleted previous checkpoint: /kaggle/working/TrainingModelNLB/model_epoch167.pt\n"
     ]
    },
    {
     "name": "stderr",
     "output_type": "stream",
     "text": [
      "\r",
      "                                                                    "
     ]
    },
    {
     "name": "stderr",
     "output_type": "stream",
     "text": [
      "\r"
     ]
    },
    {
     "name": "stderr",
     "output_type": "stream",
     "text": [
      "\r",
      "Training:  18%|█▊        | 18/100 [7:10:56<32:06:28, 1409.61s/epoch]"
     ]
    },
    {
     "name": "stdout",
     "output_type": "stream",
     "text": [
      "[Epoch 169/250] Training Loss: 0.2624\n"
     ]
    },
    {
     "name": "stderr",
     "output_type": "stream",
     "text": [
      "\r",
      "                                                                    "
     ]
    },
    {
     "name": "stderr",
     "output_type": "stream",
     "text": [
      "\r"
     ]
    },
    {
     "name": "stderr",
     "output_type": "stream",
     "text": [
      "\r",
      "Training:  18%|█▊        | 18/100 [7:26:33<32:06:28, 1409.61s/epoch]"
     ]
    },
    {
     "name": "stderr",
     "output_type": "stream",
     "text": [
      "\r",
      "                                                                    "
     ]
    },
    {
     "name": "stderr",
     "output_type": "stream",
     "text": [
      "\r"
     ]
    },
    {
     "name": "stderr",
     "output_type": "stream",
     "text": [
      "\r",
      "Training:  18%|█▊        | 18/100 [7:26:33<32:06:28, 1409.61s/epoch]"
     ]
    },
    {
     "name": "stderr",
     "output_type": "stream",
     "text": [
      "\r",
      "                                                                    "
     ]
    },
    {
     "name": "stderr",
     "output_type": "stream",
     "text": [
      "\r"
     ]
    },
    {
     "name": "stderr",
     "output_type": "stream",
     "text": [
      "\r",
      "Training:  18%|█▊        | 18/100 [7:26:33<32:06:28, 1409.61s/epoch]"
     ]
    },
    {
     "name": "stderr",
     "output_type": "stream",
     "text": [
      "\r",
      "                                                                    "
     ]
    },
    {
     "name": "stderr",
     "output_type": "stream",
     "text": [
      "\r"
     ]
    },
    {
     "name": "stderr",
     "output_type": "stream",
     "text": [
      "\r",
      "Training:  18%|█▊        | 18/100 [7:26:33<32:06:28, 1409.61s/epoch]"
     ]
    },
    {
     "name": "stderr",
     "output_type": "stream",
     "text": [
      "\r",
      "Training:  19%|█▉        | 19/100 [7:26:33<31:43:13, 1409.80s/epoch]"
     ]
    },
    {
     "name": "stdout",
     "output_type": "stream",
     "text": [
      "  Train => MSE=0.2013, CI=0.8851, Pearson=0.8681\n",
      "  Test  => MSE=0.2569, CI=0.8595, Pearson=0.8172\n",
      "Checkpoint saved at epoch 169\n",
      "Deleted previous checkpoint: /kaggle/working/TrainingModelNLB/model_epoch168.pt\n"
     ]
    },
    {
     "name": "stderr",
     "output_type": "stream",
     "text": [
      "\r",
      "                                                                    "
     ]
    },
    {
     "name": "stderr",
     "output_type": "stream",
     "text": [
      "\r"
     ]
    },
    {
     "name": "stderr",
     "output_type": "stream",
     "text": [
      "\r",
      "Training:  19%|█▉        | 19/100 [7:34:25<31:43:13, 1409.80s/epoch]"
     ]
    },
    {
     "name": "stdout",
     "output_type": "stream",
     "text": [
      "[Epoch 170/250] Training Loss: 0.2582\n"
     ]
    },
    {
     "name": "stderr",
     "output_type": "stream",
     "text": [
      "\r",
      "                                                                    "
     ]
    },
    {
     "name": "stderr",
     "output_type": "stream",
     "text": [
      "\r"
     ]
    },
    {
     "name": "stderr",
     "output_type": "stream",
     "text": [
      "\r",
      "Training:  19%|█▉        | 19/100 [7:50:03<31:43:13, 1409.80s/epoch]"
     ]
    },
    {
     "name": "stderr",
     "output_type": "stream",
     "text": [
      "\r",
      "                                                                    "
     ]
    },
    {
     "name": "stderr",
     "output_type": "stream",
     "text": [
      "\r"
     ]
    },
    {
     "name": "stderr",
     "output_type": "stream",
     "text": [
      "\r",
      "Training:  19%|█▉        | 19/100 [7:50:03<31:43:13, 1409.80s/epoch]"
     ]
    },
    {
     "name": "stderr",
     "output_type": "stream",
     "text": [
      "\r",
      "                                                                    "
     ]
    },
    {
     "name": "stderr",
     "output_type": "stream",
     "text": [
      "\r"
     ]
    },
    {
     "name": "stderr",
     "output_type": "stream",
     "text": [
      "\r",
      "Training:  19%|█▉        | 19/100 [7:50:03<31:43:13, 1409.80s/epoch]"
     ]
    },
    {
     "name": "stderr",
     "output_type": "stream",
     "text": [
      "\r",
      "                                                                    "
     ]
    },
    {
     "name": "stderr",
     "output_type": "stream",
     "text": [
      "\r"
     ]
    },
    {
     "name": "stderr",
     "output_type": "stream",
     "text": [
      "\r",
      "Training:  19%|█▉        | 19/100 [7:50:03<31:43:13, 1409.80s/epoch]"
     ]
    },
    {
     "name": "stderr",
     "output_type": "stream",
     "text": [
      "\r",
      "Training:  20%|██        | 20/100 [7:50:03<31:19:40, 1409.76s/epoch]"
     ]
    },
    {
     "name": "stdout",
     "output_type": "stream",
     "text": [
      "  Train => MSE=0.1929, CI=0.8843, Pearson=0.8660\n",
      "  Test  => MSE=0.2476, CI=0.8604, Pearson=0.8176\n",
      "Checkpoint saved at epoch 170\n",
      "Deleted previous checkpoint: /kaggle/working/TrainingModelNLB/model_epoch169.pt\n"
     ]
    },
    {
     "name": "stderr",
     "output_type": "stream",
     "text": [
      "\r",
      "                                                                    "
     ]
    },
    {
     "name": "stderr",
     "output_type": "stream",
     "text": [
      "\r"
     ]
    },
    {
     "name": "stderr",
     "output_type": "stream",
     "text": [
      "\r",
      "Training:  20%|██        | 20/100 [7:57:53<31:19:40, 1409.76s/epoch]"
     ]
    },
    {
     "name": "stdout",
     "output_type": "stream",
     "text": [
      "[Epoch 171/250] Training Loss: 0.2559\n"
     ]
    },
    {
     "name": "stderr",
     "output_type": "stream",
     "text": [
      "\r",
      "                                                                    "
     ]
    },
    {
     "name": "stderr",
     "output_type": "stream",
     "text": [
      "\r"
     ]
    },
    {
     "name": "stderr",
     "output_type": "stream",
     "text": [
      "\r",
      "Training:  20%|██        | 20/100 [8:13:31<31:19:40, 1409.76s/epoch]"
     ]
    },
    {
     "name": "stderr",
     "output_type": "stream",
     "text": [
      "\r",
      "                                                                    "
     ]
    },
    {
     "name": "stderr",
     "output_type": "stream",
     "text": [
      "\r"
     ]
    },
    {
     "name": "stderr",
     "output_type": "stream",
     "text": [
      "\r",
      "Training:  20%|██        | 20/100 [8:13:31<31:19:40, 1409.76s/epoch]"
     ]
    },
    {
     "name": "stderr",
     "output_type": "stream",
     "text": [
      "\r",
      "                                                                    "
     ]
    },
    {
     "name": "stderr",
     "output_type": "stream",
     "text": [
      "\r"
     ]
    },
    {
     "name": "stderr",
     "output_type": "stream",
     "text": [
      "\r",
      "Training:  20%|██        | 20/100 [8:13:31<31:19:40, 1409.76s/epoch]"
     ]
    },
    {
     "name": "stderr",
     "output_type": "stream",
     "text": [
      "\r",
      "                                                                    "
     ]
    },
    {
     "name": "stderr",
     "output_type": "stream",
     "text": [
      "\r"
     ]
    },
    {
     "name": "stderr",
     "output_type": "stream",
     "text": [
      "\r",
      "Training:  20%|██        | 20/100 [8:13:31<31:19:40, 1409.76s/epoch]"
     ]
    },
    {
     "name": "stderr",
     "output_type": "stream",
     "text": [
      "\r",
      "Training:  21%|██        | 21/100 [8:13:31<30:55:36, 1409.32s/epoch]"
     ]
    },
    {
     "name": "stdout",
     "output_type": "stream",
     "text": [
      "  Train => MSE=0.1887, CI=0.8819, Pearson=0.8661\n",
      "  Test  => MSE=0.2524, CI=0.8559, Pearson=0.8118\n",
      "Checkpoint saved at epoch 171\n",
      "Deleted previous checkpoint: /kaggle/working/TrainingModelNLB/model_epoch170.pt\n"
     ]
    },
    {
     "name": "stderr",
     "output_type": "stream",
     "text": [
      "\r",
      "                                                                    "
     ]
    },
    {
     "name": "stderr",
     "output_type": "stream",
     "text": [
      "\r"
     ]
    },
    {
     "name": "stderr",
     "output_type": "stream",
     "text": [
      "\r",
      "Training:  21%|██        | 21/100 [8:21:24<30:55:36, 1409.32s/epoch]"
     ]
    },
    {
     "name": "stdout",
     "output_type": "stream",
     "text": [
      "[Epoch 172/250] Training Loss: 0.2537\n"
     ]
    },
    {
     "name": "stderr",
     "output_type": "stream",
     "text": [
      "\r",
      "                                                                    "
     ]
    },
    {
     "name": "stderr",
     "output_type": "stream",
     "text": [
      "\r"
     ]
    },
    {
     "name": "stderr",
     "output_type": "stream",
     "text": [
      "\r",
      "Training:  21%|██        | 21/100 [8:37:01<30:55:36, 1409.32s/epoch]"
     ]
    },
    {
     "name": "stderr",
     "output_type": "stream",
     "text": [
      "\r",
      "                                                                    "
     ]
    },
    {
     "name": "stderr",
     "output_type": "stream",
     "text": [
      "\r"
     ]
    },
    {
     "name": "stderr",
     "output_type": "stream",
     "text": [
      "\r",
      "Training:  21%|██        | 21/100 [8:37:01<30:55:36, 1409.32s/epoch]"
     ]
    },
    {
     "name": "stderr",
     "output_type": "stream",
     "text": [
      "\r",
      "                                                                    "
     ]
    },
    {
     "name": "stderr",
     "output_type": "stream",
     "text": [
      "\r"
     ]
    },
    {
     "name": "stderr",
     "output_type": "stream",
     "text": [
      "\r",
      "Training:  21%|██        | 21/100 [8:37:01<30:55:36, 1409.32s/epoch]"
     ]
    },
    {
     "name": "stderr",
     "output_type": "stream",
     "text": [
      "\r",
      "                                                                    "
     ]
    },
    {
     "name": "stderr",
     "output_type": "stream",
     "text": [
      "\r"
     ]
    },
    {
     "name": "stderr",
     "output_type": "stream",
     "text": [
      "\r",
      "Training:  21%|██        | 21/100 [8:37:01<30:55:36, 1409.32s/epoch]"
     ]
    },
    {
     "name": "stderr",
     "output_type": "stream",
     "text": [
      "\r",
      "Training:  22%|██▏       | 22/100 [8:37:01<30:32:23, 1409.53s/epoch]"
     ]
    },
    {
     "name": "stdout",
     "output_type": "stream",
     "text": [
      "  Train => MSE=0.1875, CI=0.8854, Pearson=0.8673\n",
      "  Test  => MSE=0.2553, CI=0.8567, Pearson=0.8097\n",
      "Checkpoint saved at epoch 172\n",
      "Deleted previous checkpoint: /kaggle/working/TrainingModelNLB/model_epoch171.pt\n"
     ]
    },
    {
     "name": "stderr",
     "output_type": "stream",
     "text": [
      "\r",
      "                                                                    "
     ]
    },
    {
     "name": "stderr",
     "output_type": "stream",
     "text": [
      "\r"
     ]
    },
    {
     "name": "stderr",
     "output_type": "stream",
     "text": [
      "\r",
      "Training:  22%|██▏       | 22/100 [8:44:53<30:32:23, 1409.53s/epoch]"
     ]
    },
    {
     "name": "stdout",
     "output_type": "stream",
     "text": [
      "[Epoch 173/250] Training Loss: 0.2541\n"
     ]
    },
    {
     "name": "stderr",
     "output_type": "stream",
     "text": [
      "\r",
      "                                                                    "
     ]
    },
    {
     "name": "stderr",
     "output_type": "stream",
     "text": [
      "\r"
     ]
    },
    {
     "name": "stderr",
     "output_type": "stream",
     "text": [
      "\r",
      "Training:  22%|██▏       | 22/100 [9:00:31<30:32:23, 1409.53s/epoch]"
     ]
    },
    {
     "name": "stderr",
     "output_type": "stream",
     "text": [
      "\r",
      "                                                                    "
     ]
    },
    {
     "name": "stderr",
     "output_type": "stream",
     "text": [
      "\r"
     ]
    },
    {
     "name": "stderr",
     "output_type": "stream",
     "text": [
      "\r",
      "Training:  22%|██▏       | 22/100 [9:00:31<30:32:23, 1409.53s/epoch]"
     ]
    },
    {
     "name": "stderr",
     "output_type": "stream",
     "text": [
      "\r",
      "                                                                    "
     ]
    },
    {
     "name": "stderr",
     "output_type": "stream",
     "text": [
      "\r"
     ]
    },
    {
     "name": "stderr",
     "output_type": "stream",
     "text": [
      "\r",
      "Training:  22%|██▏       | 22/100 [9:00:31<30:32:23, 1409.53s/epoch]"
     ]
    },
    {
     "name": "stderr",
     "output_type": "stream",
     "text": [
      "\r",
      "                                                                    "
     ]
    },
    {
     "name": "stderr",
     "output_type": "stream",
     "text": [
      "\r"
     ]
    },
    {
     "name": "stderr",
     "output_type": "stream",
     "text": [
      "\r",
      "Training:  22%|██▏       | 22/100 [9:00:31<30:32:23, 1409.53s/epoch]"
     ]
    },
    {
     "name": "stderr",
     "output_type": "stream",
     "text": [
      "\r",
      "Training:  23%|██▎       | 23/100 [9:00:31<30:09:02, 1409.64s/epoch]"
     ]
    },
    {
     "name": "stdout",
     "output_type": "stream",
     "text": [
      "  Train => MSE=0.2089, CI=0.8772, Pearson=0.8536\n",
      "  Test  => MSE=0.2693, CI=0.8470, Pearson=0.8009\n",
      "Checkpoint saved at epoch 173\n",
      "Deleted previous checkpoint: /kaggle/working/TrainingModelNLB/model_epoch172.pt\n"
     ]
    },
    {
     "name": "stderr",
     "output_type": "stream",
     "text": [
      "\r",
      "                                                                    "
     ]
    },
    {
     "name": "stderr",
     "output_type": "stream",
     "text": [
      "\r"
     ]
    },
    {
     "name": "stderr",
     "output_type": "stream",
     "text": [
      "\r",
      "Training:  23%|██▎       | 23/100 [9:08:23<30:09:02, 1409.64s/epoch]"
     ]
    },
    {
     "name": "stdout",
     "output_type": "stream",
     "text": [
      "[Epoch 174/250] Training Loss: 0.2568\n"
     ]
    },
    {
     "name": "stderr",
     "output_type": "stream",
     "text": [
      "\r",
      "                                                                    "
     ]
    },
    {
     "name": "stderr",
     "output_type": "stream",
     "text": [
      "\r"
     ]
    },
    {
     "name": "stderr",
     "output_type": "stream",
     "text": [
      "\r",
      "Training:  23%|██▎       | 23/100 [9:24:00<30:09:02, 1409.64s/epoch]"
     ]
    },
    {
     "name": "stderr",
     "output_type": "stream",
     "text": [
      "\r",
      "                                                                    "
     ]
    },
    {
     "name": "stderr",
     "output_type": "stream",
     "text": [
      "\r"
     ]
    },
    {
     "name": "stderr",
     "output_type": "stream",
     "text": [
      "\r",
      "Training:  23%|██▎       | 23/100 [9:24:00<30:09:02, 1409.64s/epoch]"
     ]
    },
    {
     "name": "stderr",
     "output_type": "stream",
     "text": [
      "\r",
      "                                                                    "
     ]
    },
    {
     "name": "stderr",
     "output_type": "stream",
     "text": [
      "\r"
     ]
    },
    {
     "name": "stderr",
     "output_type": "stream",
     "text": [
      "\r",
      "Training:  23%|██▎       | 23/100 [9:24:01<30:09:02, 1409.64s/epoch]"
     ]
    },
    {
     "name": "stderr",
     "output_type": "stream",
     "text": [
      "\r",
      "                                                                    "
     ]
    },
    {
     "name": "stderr",
     "output_type": "stream",
     "text": [
      "\r"
     ]
    },
    {
     "name": "stderr",
     "output_type": "stream",
     "text": [
      "\r",
      "Training:  23%|██▎       | 23/100 [9:24:01<30:09:02, 1409.64s/epoch]"
     ]
    },
    {
     "name": "stderr",
     "output_type": "stream",
     "text": [
      "\r",
      "Training:  24%|██▍       | 24/100 [9:24:01<29:45:29, 1409.60s/epoch]"
     ]
    },
    {
     "name": "stdout",
     "output_type": "stream",
     "text": [
      "  Train => MSE=0.1805, CI=0.8919, Pearson=0.8786\n",
      "  Test  => MSE=0.2456, CI=0.8608, Pearson=0.8223\n",
      "Checkpoint saved at epoch 174\n",
      "Deleted previous checkpoint: /kaggle/working/TrainingModelNLB/model_epoch173.pt\n"
     ]
    },
    {
     "name": "stderr",
     "output_type": "stream",
     "text": [
      "\r",
      "                                                                    "
     ]
    },
    {
     "name": "stderr",
     "output_type": "stream",
     "text": [
      "\r"
     ]
    },
    {
     "name": "stderr",
     "output_type": "stream",
     "text": [
      "\r",
      "Training:  24%|██▍       | 24/100 [9:31:52<29:45:29, 1409.60s/epoch]"
     ]
    },
    {
     "name": "stdout",
     "output_type": "stream",
     "text": [
      "[Epoch 175/250] Training Loss: 0.2463\n"
     ]
    },
    {
     "name": "stderr",
     "output_type": "stream",
     "text": [
      "\r",
      "                                                                    "
     ]
    },
    {
     "name": "stderr",
     "output_type": "stream",
     "text": [
      "\r"
     ]
    },
    {
     "name": "stderr",
     "output_type": "stream",
     "text": [
      "\r",
      "Training:  24%|██▍       | 24/100 [9:47:30<29:45:29, 1409.60s/epoch]"
     ]
    },
    {
     "name": "stderr",
     "output_type": "stream",
     "text": [
      "\r",
      "                                                                    "
     ]
    },
    {
     "name": "stderr",
     "output_type": "stream",
     "text": [
      "\r"
     ]
    },
    {
     "name": "stderr",
     "output_type": "stream",
     "text": [
      "\r",
      "Training:  24%|██▍       | 24/100 [9:47:30<29:45:29, 1409.60s/epoch]"
     ]
    },
    {
     "name": "stderr",
     "output_type": "stream",
     "text": [
      "\r",
      "                                                                    "
     ]
    },
    {
     "name": "stderr",
     "output_type": "stream",
     "text": [
      "\r"
     ]
    },
    {
     "name": "stderr",
     "output_type": "stream",
     "text": [
      "\r",
      "Training:  24%|██▍       | 24/100 [9:47:30<29:45:29, 1409.60s/epoch]"
     ]
    },
    {
     "name": "stderr",
     "output_type": "stream",
     "text": [
      "\r",
      "                                                                    "
     ]
    },
    {
     "name": "stderr",
     "output_type": "stream",
     "text": [
      "\r"
     ]
    },
    {
     "name": "stderr",
     "output_type": "stream",
     "text": [
      "\r",
      "Training:  24%|██▍       | 24/100 [9:47:30<29:45:29, 1409.60s/epoch]"
     ]
    },
    {
     "name": "stderr",
     "output_type": "stream",
     "text": [
      "\r",
      "Training:  25%|██▌       | 25/100 [9:47:30<29:21:57, 1409.56s/epoch]"
     ]
    },
    {
     "name": "stdout",
     "output_type": "stream",
     "text": [
      "  Train => MSE=0.1808, CI=0.8927, Pearson=0.8726\n",
      "  Test  => MSE=0.2453, CI=0.8695, Pearson=0.8197\n",
      "Checkpoint saved at epoch 175\n",
      "Deleted previous checkpoint: /kaggle/working/TrainingModelNLB/model_epoch174.pt\n"
     ]
    },
    {
     "name": "stderr",
     "output_type": "stream",
     "text": [
      "\r",
      "                                                                    "
     ]
    },
    {
     "name": "stderr",
     "output_type": "stream",
     "text": [
      "\r"
     ]
    },
    {
     "name": "stderr",
     "output_type": "stream",
     "text": [
      "\r",
      "Training:  25%|██▌       | 25/100 [9:55:22<29:21:57, 1409.56s/epoch]"
     ]
    },
    {
     "name": "stdout",
     "output_type": "stream",
     "text": [
      "[Epoch 176/250] Training Loss: 0.2458\n"
     ]
    },
    {
     "name": "stderr",
     "output_type": "stream",
     "text": [
      "\r",
      "                                                                    "
     ]
    },
    {
     "name": "stderr",
     "output_type": "stream",
     "text": [
      "\r"
     ]
    },
    {
     "name": "stderr",
     "output_type": "stream",
     "text": [
      "\r",
      "Training:  25%|██▌       | 25/100 [10:11:00<29:21:57, 1409.56s/epoch]"
     ]
    },
    {
     "name": "stderr",
     "output_type": "stream",
     "text": [
      "\r",
      "                                                                     "
     ]
    },
    {
     "name": "stderr",
     "output_type": "stream",
     "text": [
      "\r"
     ]
    },
    {
     "name": "stderr",
     "output_type": "stream",
     "text": [
      "\r",
      "Training:  25%|██▌       | 25/100 [10:11:00<29:21:57, 1409.56s/epoch]"
     ]
    },
    {
     "name": "stderr",
     "output_type": "stream",
     "text": [
      "\r",
      "                                                                     "
     ]
    },
    {
     "name": "stderr",
     "output_type": "stream",
     "text": [
      "\r"
     ]
    },
    {
     "name": "stderr",
     "output_type": "stream",
     "text": [
      "\r",
      "Training:  25%|██▌       | 25/100 [10:11:00<29:21:57, 1409.56s/epoch]"
     ]
    },
    {
     "name": "stderr",
     "output_type": "stream",
     "text": [
      "\r",
      "                                                                     "
     ]
    },
    {
     "name": "stderr",
     "output_type": "stream",
     "text": [
      "\r"
     ]
    },
    {
     "name": "stderr",
     "output_type": "stream",
     "text": [
      "\r",
      "Training:  25%|██▌       | 25/100 [10:11:00<29:21:57, 1409.56s/epoch]"
     ]
    },
    {
     "name": "stderr",
     "output_type": "stream",
     "text": [
      "\r",
      "Training:  26%|██▌       | 26/100 [10:11:00<28:58:36, 1409.68s/epoch]"
     ]
    },
    {
     "name": "stdout",
     "output_type": "stream",
     "text": [
      "  Train => MSE=0.1697, CI=0.8943, Pearson=0.8810\n",
      "  Test  => MSE=0.2358, CI=0.8660, Pearson=0.8255\n",
      "Checkpoint saved at epoch 176\n",
      "Deleted previous checkpoint: /kaggle/working/TrainingModelNLB/model_epoch175.pt\n"
     ]
    },
    {
     "name": "stderr",
     "output_type": "stream",
     "text": [
      "\r",
      "                                                                     "
     ]
    },
    {
     "name": "stderr",
     "output_type": "stream",
     "text": [
      "\r"
     ]
    },
    {
     "name": "stderr",
     "output_type": "stream",
     "text": [
      "\r",
      "Training:  26%|██▌       | 26/100 [10:18:54<28:58:36, 1409.68s/epoch]"
     ]
    },
    {
     "name": "stdout",
     "output_type": "stream",
     "text": [
      "[Epoch 177/250] Training Loss: 0.2449\n"
     ]
    },
    {
     "name": "stderr",
     "output_type": "stream",
     "text": [
      "\r",
      "                                                                     "
     ]
    },
    {
     "name": "stderr",
     "output_type": "stream",
     "text": [
      "\r"
     ]
    },
    {
     "name": "stderr",
     "output_type": "stream",
     "text": [
      "\r",
      "Training:  26%|██▌       | 26/100 [10:34:33<28:58:36, 1409.68s/epoch]"
     ]
    },
    {
     "name": "stderr",
     "output_type": "stream",
     "text": [
      "\r",
      "                                                                     "
     ]
    },
    {
     "name": "stderr",
     "output_type": "stream",
     "text": [
      "\r"
     ]
    },
    {
     "name": "stderr",
     "output_type": "stream",
     "text": [
      "\r",
      "Training:  26%|██▌       | 26/100 [10:34:33<28:58:36, 1409.68s/epoch]"
     ]
    },
    {
     "name": "stderr",
     "output_type": "stream",
     "text": [
      "\r",
      "                                                                     "
     ]
    },
    {
     "name": "stderr",
     "output_type": "stream",
     "text": [
      "\r"
     ]
    },
    {
     "name": "stderr",
     "output_type": "stream",
     "text": [
      "\r",
      "Training:  26%|██▌       | 26/100 [10:34:33<28:58:36, 1409.68s/epoch]"
     ]
    },
    {
     "name": "stderr",
     "output_type": "stream",
     "text": [
      "\r",
      "                                                                     "
     ]
    },
    {
     "name": "stderr",
     "output_type": "stream",
     "text": [
      "\r"
     ]
    },
    {
     "name": "stderr",
     "output_type": "stream",
     "text": [
      "\r",
      "Training:  26%|██▌       | 26/100 [10:34:33<28:58:36, 1409.68s/epoch]"
     ]
    },
    {
     "name": "stderr",
     "output_type": "stream",
     "text": [
      "\r",
      "Training:  27%|██▋       | 27/100 [10:34:33<28:36:20, 1410.70s/epoch]"
     ]
    },
    {
     "name": "stdout",
     "output_type": "stream",
     "text": [
      "  Train => MSE=0.1868, CI=0.8850, Pearson=0.8695\n",
      "  Test  => MSE=0.2551, CI=0.8558, Pearson=0.8109\n",
      "Checkpoint saved at epoch 177\n",
      "Deleted previous checkpoint: /kaggle/working/TrainingModelNLB/model_epoch176.pt\n"
     ]
    },
    {
     "name": "stderr",
     "output_type": "stream",
     "text": [
      "\r",
      "                                                                     "
     ]
    },
    {
     "name": "stderr",
     "output_type": "stream",
     "text": [
      "\r"
     ]
    },
    {
     "name": "stderr",
     "output_type": "stream",
     "text": [
      "\r",
      "Training:  27%|██▋       | 27/100 [10:42:28<28:36:20, 1410.70s/epoch]"
     ]
    },
    {
     "name": "stdout",
     "output_type": "stream",
     "text": [
      "[Epoch 178/250] Training Loss: 0.2481\n"
     ]
    },
    {
     "name": "stderr",
     "output_type": "stream",
     "text": [
      "\r",
      "                                                                     "
     ]
    },
    {
     "name": "stderr",
     "output_type": "stream",
     "text": [
      "\r"
     ]
    },
    {
     "name": "stderr",
     "output_type": "stream",
     "text": [
      "\r",
      "Training:  27%|██▋       | 27/100 [10:58:06<28:36:20, 1410.70s/epoch]"
     ]
    },
    {
     "name": "stderr",
     "output_type": "stream",
     "text": [
      "\r",
      "                                                                     "
     ]
    },
    {
     "name": "stderr",
     "output_type": "stream",
     "text": [
      "\r"
     ]
    },
    {
     "name": "stderr",
     "output_type": "stream",
     "text": [
      "\r",
      "Training:  27%|██▋       | 27/100 [10:58:06<28:36:20, 1410.70s/epoch]"
     ]
    },
    {
     "name": "stderr",
     "output_type": "stream",
     "text": [
      "\r",
      "                                                                     "
     ]
    },
    {
     "name": "stderr",
     "output_type": "stream",
     "text": [
      "\r"
     ]
    },
    {
     "name": "stderr",
     "output_type": "stream",
     "text": [
      "\r",
      "Training:  27%|██▋       | 27/100 [10:58:06<28:36:20, 1410.70s/epoch]"
     ]
    },
    {
     "name": "stderr",
     "output_type": "stream",
     "text": [
      "\r",
      "                                                                     "
     ]
    },
    {
     "name": "stderr",
     "output_type": "stream",
     "text": [
      "\r"
     ]
    },
    {
     "name": "stderr",
     "output_type": "stream",
     "text": [
      "\r",
      "Training:  27%|██▋       | 27/100 [10:58:06<28:36:20, 1410.70s/epoch]"
     ]
    },
    {
     "name": "stderr",
     "output_type": "stream",
     "text": [
      "\r",
      "Training:  28%|██▊       | 28/100 [10:58:06<28:13:32, 1411.28s/epoch]"
     ]
    },
    {
     "name": "stdout",
     "output_type": "stream",
     "text": [
      "  Train => MSE=0.1953, CI=0.8814, Pearson=0.8646\n",
      "  Test  => MSE=0.2578, CI=0.8493, Pearson=0.8099\n",
      "Checkpoint saved at epoch 178\n",
      "Deleted previous checkpoint: /kaggle/working/TrainingModelNLB/model_epoch177.pt\n"
     ]
    },
    {
     "name": "stderr",
     "output_type": "stream",
     "text": [
      "\r",
      "                                                                     "
     ]
    },
    {
     "name": "stderr",
     "output_type": "stream",
     "text": [
      "\r"
     ]
    },
    {
     "name": "stderr",
     "output_type": "stream",
     "text": [
      "\r",
      "Training:  28%|██▊       | 28/100 [11:05:59<28:13:32, 1411.28s/epoch]"
     ]
    },
    {
     "name": "stdout",
     "output_type": "stream",
     "text": [
      "[Epoch 179/250] Training Loss: 0.2428\n"
     ]
    },
    {
     "name": "stderr",
     "output_type": "stream",
     "text": [
      "\r",
      "                                                                     "
     ]
    },
    {
     "name": "stderr",
     "output_type": "stream",
     "text": [
      "\r"
     ]
    },
    {
     "name": "stderr",
     "output_type": "stream",
     "text": [
      "\r",
      "Training:  28%|██▊       | 28/100 [11:21:38<28:13:32, 1411.28s/epoch]"
     ]
    },
    {
     "name": "stderr",
     "output_type": "stream",
     "text": [
      "\r",
      "                                                                     "
     ]
    },
    {
     "name": "stderr",
     "output_type": "stream",
     "text": [
      "\r"
     ]
    },
    {
     "name": "stderr",
     "output_type": "stream",
     "text": [
      "\r",
      "Training:  28%|██▊       | 28/100 [11:21:38<28:13:32, 1411.28s/epoch]"
     ]
    },
    {
     "name": "stderr",
     "output_type": "stream",
     "text": [
      "\r",
      "                                                                     "
     ]
    },
    {
     "name": "stderr",
     "output_type": "stream",
     "text": [
      "\r"
     ]
    },
    {
     "name": "stderr",
     "output_type": "stream",
     "text": [
      "\r",
      "Training:  28%|██▊       | 28/100 [11:21:38<28:13:32, 1411.28s/epoch]"
     ]
    },
    {
     "name": "stderr",
     "output_type": "stream",
     "text": [
      "\r",
      "                                                                     "
     ]
    },
    {
     "name": "stderr",
     "output_type": "stream",
     "text": [
      "\r"
     ]
    },
    {
     "name": "stderr",
     "output_type": "stream",
     "text": [
      "\r",
      "Training:  28%|██▊       | 28/100 [11:21:38<28:13:32, 1411.28s/epoch]"
     ]
    },
    {
     "name": "stderr",
     "output_type": "stream",
     "text": [
      "\r",
      "Training:  29%|██▉       | 29/100 [11:21:38<27:50:23, 1411.60s/epoch]"
     ]
    },
    {
     "name": "stdout",
     "output_type": "stream",
     "text": [
      "  Train => MSE=0.1763, CI=0.8860, Pearson=0.8757\n",
      "  Test  => MSE=0.2488, CI=0.8634, Pearson=0.8149\n",
      "Checkpoint saved at epoch 179\n",
      "Deleted previous checkpoint: /kaggle/working/TrainingModelNLB/model_epoch178.pt\n"
     ]
    },
    {
     "name": "stderr",
     "output_type": "stream",
     "text": [
      "\r",
      "                                                                     "
     ]
    },
    {
     "name": "stderr",
     "output_type": "stream",
     "text": [
      "\r"
     ]
    },
    {
     "name": "stderr",
     "output_type": "stream",
     "text": [
      "\r",
      "Training:  29%|██▉       | 29/100 [11:29:32<27:50:23, 1411.60s/epoch]"
     ]
    },
    {
     "name": "stdout",
     "output_type": "stream",
     "text": [
      "[Epoch 180/250] Training Loss: 0.2443\n"
     ]
    },
    {
     "name": "stderr",
     "output_type": "stream",
     "text": [
      "\r",
      "                                                                     "
     ]
    },
    {
     "name": "stderr",
     "output_type": "stream",
     "text": [
      "\r"
     ]
    },
    {
     "name": "stderr",
     "output_type": "stream",
     "text": [
      "\r",
      "Training:  29%|██▉       | 29/100 [11:45:10<27:50:23, 1411.60s/epoch]"
     ]
    },
    {
     "name": "stderr",
     "output_type": "stream",
     "text": [
      "\r",
      "                                                                     "
     ]
    },
    {
     "name": "stderr",
     "output_type": "stream",
     "text": [
      "\r"
     ]
    },
    {
     "name": "stderr",
     "output_type": "stream",
     "text": [
      "\r",
      "Training:  29%|██▉       | 29/100 [11:45:10<27:50:23, 1411.60s/epoch]"
     ]
    },
    {
     "name": "stderr",
     "output_type": "stream",
     "text": [
      "\r",
      "                                                                     "
     ]
    },
    {
     "name": "stderr",
     "output_type": "stream",
     "text": [
      "\r"
     ]
    },
    {
     "name": "stderr",
     "output_type": "stream",
     "text": [
      "\r",
      "Training:  29%|██▉       | 29/100 [11:45:10<27:50:23, 1411.60s/epoch]"
     ]
    },
    {
     "name": "stderr",
     "output_type": "stream",
     "text": [
      "\r",
      "                                                                     "
     ]
    },
    {
     "name": "stderr",
     "output_type": "stream",
     "text": [
      "\r"
     ]
    },
    {
     "name": "stderr",
     "output_type": "stream",
     "text": [
      "\r",
      "Training:  29%|██▉       | 29/100 [11:45:10<27:50:23, 1411.60s/epoch]"
     ]
    },
    {
     "name": "stderr",
     "output_type": "stream",
     "text": [
      "\r",
      "Training:  30%|███       | 30/100 [11:45:10<27:26:57, 1411.68s/epoch]"
     ]
    },
    {
     "name": "stdout",
     "output_type": "stream",
     "text": [
      "  Train => MSE=0.1796, CI=0.8904, Pearson=0.8796\n",
      "  Test  => MSE=0.2550, CI=0.8626, Pearson=0.8150\n",
      "Checkpoint saved at epoch 180\n",
      "Deleted previous checkpoint: /kaggle/working/TrainingModelNLB/model_epoch179.pt\n"
     ]
    },
    {
     "name": "stderr",
     "output_type": "stream",
     "text": [
      "\r",
      "                                                                     "
     ]
    }
   ],
   "source": [
    "#model one\n",
    "import os\n",
    "import warnings\n",
    "import torch\n",
    "import torch.nn as nn\n",
    "import torch.nn.functional as F\n",
    "import torch.optim as optim\n",
    "from torch.nn import MSELoss\n",
    "from torch_geometric.nn import GCNConv, global_mean_pool as gep\n",
    "from torch_geometric.data import Data, Batch\n",
    "from sklearn.model_selection import train_test_split\n",
    "from tqdm import tqdm\n",
    "import numpy as np\n",
    "\n",
    "# Optional, for plotting:\n",
    "import matplotlib.pyplot as plt\n",
    "\n",
    "##############################################################################\n",
    "#                               1. METRICS\n",
    "##############################################################################\n",
    "\n",
    "@torch.no_grad()\n",
    "def ci_vectorized(preds: torch.Tensor, targets: torch.Tensor) -> float:\n",
    "    \"\"\"\n",
    "    Naive O(N^2) Concordance Index using vectorized GPU operations.\n",
    "    preds, targets: (N,) on the same device (e.g. cuda).\n",
    "    \"\"\"\n",
    "    # (N, N) differences\n",
    "    p_diff = preds.unsqueeze(1) - preds.unsqueeze(0)\n",
    "    t_diff = targets.unsqueeze(1) - targets.unsqueeze(0)\n",
    "    # mask out pairs where targets are identical\n",
    "    mask = (t_diff != 0)\n",
    "    # sign of product => +1 (concordant), 0 (tie), -1 (discordant)\n",
    "    sign_mat = torch.sign(p_diff * t_diff)\n",
    "    # step function h(x): 1 if x>0, 0.5 if x=0, 0 if x<0\n",
    "    h = (sign_mat == 1).float() + 0.5 * (sign_mat == 0).float()\n",
    "    # apply mask\n",
    "    h_masked = h * mask.float()\n",
    "    c = h_masked.sum()\n",
    "    s = mask.sum().float()\n",
    "    return (c / s).item() if s > 0 else 0.0\n",
    "\n",
    "@torch.no_grad()\n",
    "def mse_torch(preds: torch.Tensor, targets: torch.Tensor) -> float:\n",
    "    \"\"\"\n",
    "    GPU-friendly MSE using torch's built-in mean squared error.\n",
    "    \"\"\"\n",
    "    return F.mse_loss(preds, targets, reduction='mean').item()\n",
    "\n",
    "@torch.no_grad()\n",
    "def pearson_torch(preds: torch.Tensor, targets: torch.Tensor) -> float:\n",
    "    \"\"\"\n",
    "    Pearson correlation coefficient in PyTorch (GPU-friendly).\n",
    "    preds, targets: (N,) on the same device\n",
    "    \"\"\"\n",
    "    p_centered = preds - preds.mean()\n",
    "    t_centered = targets - targets.mean()\n",
    "    cov = (p_centered * t_centered).sum()\n",
    "    denom = torch.sqrt((p_centered**2).sum()) * torch.sqrt((t_centered**2).sum())\n",
    "    eps = 1e-8\n",
    "    return (cov / (denom + eps)).item()\n",
    "\n",
    "##############################################################################\n",
    "#                       2. GNN MODEL DEFINITION\n",
    "##############################################################################\n",
    "\n",
    "class GNNNet(torch.nn.Module):\n",
    "    def __init__(self, n_output=1, num_features_pro=54, num_features_mol=78, output_dim=128, hidden_dim=128, dropout=0.2):\n",
    "        super(GNNNet, self).__init__()\n",
    "\n",
    "        print('GNNNet Loaded')\n",
    "        self.n_output = n_output\n",
    "        self.hidden_dim = hidden_dim\n",
    "\n",
    "        # Molecular graph pipeline\n",
    "        self.mol_conv1 = GCNConv(num_features_mol, num_features_mol)\n",
    "        self.mol_nonlocal = NonLocalBlock(num_features_mol, hidden_dim, num_features_mol * 2)\n",
    "        self.mol_conv3 = GCNConv(num_features_mol * 2, num_features_mol * 4)\n",
    "        self.mol_fc_g1 = torch.nn.Linear(num_features_mol * 4, 1024)\n",
    "        self.mol_fc_g2 = torch.nn.Linear(1024, output_dim)\n",
    "\n",
    "        # Protein graph pipeline\n",
    "        self.pro_conv1 = GCNConv(num_features_pro, num_features_pro)\n",
    "        self.pro_nonlocal = NonLocalBlock(num_features_pro, hidden_dim, num_features_pro * 2)\n",
    "        self.pro_conv3 = GCNConv(num_features_pro * 2, num_features_pro * 4)\n",
    "        self.pro_fc_g1 = torch.nn.Linear(num_features_pro * 4, 1024)\n",
    "        self.pro_fc_g2 = torch.nn.Linear(1024, output_dim)\n",
    "\n",
    "        self.relu = torch.nn.ReLU()\n",
    "        self.dropout = torch.nn.Dropout(dropout)\n",
    "\n",
    "        # Combined layers\n",
    "        self.fc1 = torch.nn.Linear(2 * output_dim, 1024)\n",
    "        self.fc2 = torch.nn.Linear(1024, 512)\n",
    "        self.out = torch.nn.Linear(512, self.n_output)\n",
    "\n",
    "    def forward(self, data_mol, data_pro):\n",
    "        # Molecular graph input\n",
    "        mol_x, mol_edge_index, mol_batch = data_mol.x, data_mol.edge_index, data_mol.batch\n",
    "        mol_x = self.mol_conv1(mol_x, mol_edge_index)\n",
    "        mol_x = self.relu(mol_x)\n",
    "        mol_x = self.mol_nonlocal(mol_x ,mol_edge_index)  # Non-local block\n",
    "        mol_x = self.mol_conv3(mol_x, mol_edge_index)\n",
    "        mol_x = self.relu(mol_x)\n",
    "        mol_x = gep(mol_x, mol_batch)  # Global pooling\n",
    "        mol_x = self.relu(self.mol_fc_g1(mol_x))\n",
    "        mol_x = self.dropout(mol_x)\n",
    "        mol_x = self.mol_fc_g2(mol_x)\n",
    "        mol_x = self.dropout(mol_x)\n",
    "\n",
    "        # Protein graph input\n",
    "        pro_x, pro_edge_index, pro_batch = data_pro.x, data_pro.edge_index, data_pro.batch\n",
    "        pro_x = self.pro_conv1(pro_x, pro_edge_index)\n",
    "        pro_x = self.relu(pro_x)\n",
    "        pro_x = self.pro_nonlocal(pro_x,pro_edge_index)  # Non-local block\n",
    "        pro_x = self.pro_conv3(pro_x, pro_edge_index)\n",
    "        pro_x = self.relu(pro_x)\n",
    "        pro_x = gep(pro_x, pro_batch)  # Global pooling\n",
    "        pro_x = self.relu(self.pro_fc_g1(pro_x))\n",
    "        pro_x = self.dropout(pro_x)\n",
    "        pro_x = self.pro_fc_g2(pro_x)\n",
    "        pro_x = self.dropout(pro_x)\n",
    "\n",
    "        # Concatenate molecular and protein features\n",
    "        xc = torch.cat((mol_x, pro_x), dim=1)\n",
    "        xc = self.fc1(xc)\n",
    "        xc = self.relu(xc)\n",
    "        xc = self.dropout(xc)\n",
    "        xc = self.fc2(xc)\n",
    "        xc = self.relu(xc)\n",
    "        xc = self.dropout(xc)\n",
    "        out = self.out(xc)\n",
    "        return out\n",
    "\n",
    "\n",
    "\n",
    "##############################################################################\n",
    "#                   3. DATA LOADING HELPERS\n",
    "##############################################################################\n",
    "\n",
    "warnings.filterwarnings('ignore', category=FutureWarning)\n",
    "\n",
    "def load_sample(path):\n",
    "    \"\"\"\n",
    "    Load a .pt sample, fix up 'x' and 'edge_index', return (mol_data, pro_data, target).\n",
    "    \"\"\"\n",
    "    sample = torch.load(path)\n",
    "    mol_data, pro_data, target = sample[0], sample[1], sample[2]\n",
    "\n",
    "    # Convert dict to Data if needed\n",
    "    if isinstance(mol_data, dict):\n",
    "        mol_data = Data(**mol_data)\n",
    "    if isinstance(pro_data, dict):\n",
    "        pro_data = Data(**pro_data)\n",
    "\n",
    "    # Fix x\n",
    "    if not hasattr(mol_data, 'x') or mol_data.x is None:\n",
    "        if hasattr(mol_data, 'features'):\n",
    "            mol_data.x = mol_data.features\n",
    "            del mol_data.features\n",
    "        else:\n",
    "            raise ValueError(\"mol_data missing 'x' or 'features'\")\n",
    "    if not hasattr(pro_data, 'x') or pro_data.x is None:\n",
    "        if hasattr(pro_data, 'features'):\n",
    "            pro_data.x = pro_data.features\n",
    "            del pro_data.features\n",
    "        else:\n",
    "            raise ValueError(\"pro_data missing 'x' or 'features'\")\n",
    "\n",
    "    mol_data.x = torch.as_tensor(mol_data.x, dtype=torch.float32)\n",
    "    pro_data.x = torch.as_tensor(pro_data.x, dtype=torch.float32)\n",
    "\n",
    "    # Fix edge_index\n",
    "    def fix_edge_index(d):\n",
    "        if not isinstance(d.edge_index, torch.Tensor):\n",
    "            d.edge_index = torch.tensor(d.edge_index, dtype=torch.long)\n",
    "        else:\n",
    "            d.edge_index = d.edge_index.long()\n",
    "        if d.edge_index.shape[0] != 2:\n",
    "            d.edge_index = d.edge_index.t()\n",
    "        d.num_nodes = d.x.size(0)\n",
    "\n",
    "    fix_edge_index(mol_data)\n",
    "    fix_edge_index(pro_data)\n",
    "\n",
    "    return (mol_data, pro_data, target)\n",
    "\n",
    "def batch_loader(file_list, sample_dir, batch_size):\n",
    "    \"\"\"\n",
    "    Yields batches of (mol_data, pro_data, target) from file_list.\n",
    "    \"\"\"\n",
    "    batch = []\n",
    "    for file_name in file_list:\n",
    "        path = os.path.join(sample_dir, file_name)\n",
    "        sample = load_sample(path)\n",
    "        batch.append(sample)\n",
    "        if len(batch) == batch_size:\n",
    "            yield batch\n",
    "            batch = []\n",
    "    if batch:\n",
    "        yield batch\n",
    "\n",
    "##############################################################################\n",
    "#              4. TRAINING / EVALUATION WITH METRICS EACH EPOCH\n",
    "##############################################################################\n",
    "import os\n",
    "import torch\n",
    "\n",
    "def train_and_evaluate(sample_dir, num_epochs=10, test_size=0.2, lr=0.001):\n",
    "    \"\"\"\n",
    "    Trains the GNN model, evaluates on train & test each epoch, saves metrics + checkpoints.\n",
    "    \"\"\"\n",
    "    device = torch.device('cuda' if torch.cuda.is_available() else 'cpu')\n",
    "    print(f\"Running on {device}.\")\n",
    "\n",
    "    # Gather samples\n",
    "    sample_files = [f for f in os.listdir(sample_dir) if f.endswith('.pt')]\n",
    "    assert len(sample_files) > 0, \"No .pt files found in sample_dir!\"\n",
    "\n",
    "    # Split\n",
    "    train_files, test_files = train_test_split(sample_files, test_size=test_size, random_state=42)\n",
    "\n",
    "    # Make checkpoint dir\n",
    "    training_model_dir = os.path.join(os.getcwd(), 'TrainingModelNLB')\n",
    "    os.makedirs(training_model_dir, exist_ok=True)\n",
    "    print(f\"Checkpoints will be saved to: {training_model_dir}\")\n",
    "\n",
    "    metrics_path = os.path.join(training_model_dir, \"training_metrics.pt\")\n",
    "\n",
    "    # Load existing metrics if available (Ensures metrics continue from previous runs)\n",
    "    if os.path.exists(metrics_path):\n",
    "        saved_metrics = torch.load(metrics_path)\n",
    "        train_metrics = saved_metrics['train_metrics']\n",
    "        test_metrics = saved_metrics['test_metrics']\n",
    "        print(\"Loaded previous training metrics!\")\n",
    "    else:\n",
    "        train_metrics = {'epoch': [], 'mse': [], 'ci': [], 'pearson': []}\n",
    "        test_metrics = {'epoch': [], 'mse': [], 'ci': [], 'pearson': []}\n",
    "        print(\"Starting fresh metrics tracking.\")\n",
    "\n",
    "    # Infer input dims from one sample\n",
    "    sample0 = load_sample(os.path.join(sample_dir, train_files[0]))\n",
    "    mol_data0, pro_data0 = sample0[0], sample0[1]\n",
    "    num_features_mol = mol_data0.x.size(1)\n",
    "    num_features_pro = pro_data0.x.size(1)\n",
    "\n",
    "    # Initialize model\n",
    "    model = GNNNet(num_features_mol=num_features_mol,\n",
    "                   num_features_pro=num_features_pro).to(device)\n",
    "    optimizer = optim.Adam(model.parameters(), lr=lr)\n",
    "    loss_fn = MSELoss()\n",
    "\n",
    "    # Possibly resume from checkpoint\n",
    "    start_epoch = 1\n",
    "    existing_checkpoints = [\n",
    "        f for f in os.listdir(training_model_dir)\n",
    "        if f.endswith('.pt') and f.startswith('model_epoch')\n",
    "    ]\n",
    "    last_ckpt_path = None  # Track previous checkpoint for deletion\n",
    "\n",
    "    if existing_checkpoints:\n",
    "        latest_ckpt = max(existing_checkpoints, key=lambda x: int(x.split('_epoch')[1].split('.pt')[0]))\n",
    "        ckpt_path = os.path.join(training_model_dir, latest_ckpt)\n",
    "        print(f\"Loading checkpoint from {ckpt_path}\")\n",
    "        ckpt = torch.load(ckpt_path, map_location=device)\n",
    "        model.load_state_dict(ckpt['model_state_dict'])\n",
    "        optimizer.load_state_dict(ckpt['optimizer_state_dict'])\n",
    "        loaded_epoch = ckpt['epoch']\n",
    "        start_epoch = loaded_epoch + 1\n",
    "        last_ckpt_path = ckpt_path  # Store last checkpoint path for deletion\n",
    "        print(f\"Resuming from epoch {start_epoch}\")\n",
    "    else:\n",
    "        print(\"No existing checkpoint found; starting fresh.\")\n",
    "\n",
    "    @torch.no_grad()\n",
    "    def evaluate(files):\n",
    "        model.eval()\n",
    "        all_preds = []\n",
    "        all_targets = []\n",
    "        batch_eval_size = 200\n",
    "        for batch_samples in batch_loader(files, sample_dir, batch_eval_size):\n",
    "            mol_list, pro_list, tgt_list = [], [], []\n",
    "            for (md, pd, t) in batch_samples:\n",
    "                mol_list.append(md)\n",
    "                pro_list.append(pd)\n",
    "                tgt_list.append(t)\n",
    "\n",
    "            mol_batch = Batch.from_data_list(mol_list).to(device)\n",
    "            pro_batch = Batch.from_data_list(pro_list).to(device)\n",
    "            t_tensor = torch.tensor(tgt_list, dtype=torch.float32, device=device)\n",
    "\n",
    "            out = model(mol_batch, pro_batch).view(-1)\n",
    "            all_preds.append(out)\n",
    "            all_targets.append(t_tensor)\n",
    "\n",
    "        all_preds = torch.cat(all_preds, dim=0)\n",
    "        all_targets = torch.cat(all_targets, dim=0)\n",
    "\n",
    "        mse_val = mse_torch(all_preds, all_targets)\n",
    "        ci_val = ci_vectorized(all_preds, all_targets)\n",
    "        pearson_val = pearson_torch(all_preds, all_targets)\n",
    "        return mse_val, ci_val, pearson_val\n",
    "\n",
    "    # Training loop\n",
    "    batch_size = 61\n",
    "    for epoch in tqdm(range(start_epoch, num_epochs + 1), desc=\"Training\", unit=\"epoch\"):\n",
    "        model.train()\n",
    "        running_loss = 0.0\n",
    "\n",
    "        for batch_samples in batch_loader(train_files, sample_dir, batch_size):\n",
    "            mol_list, pro_list, tgt_list = [], [], []\n",
    "            for (md, pd, t) in batch_samples:\n",
    "                mol_list.append(md)\n",
    "                pro_list.append(pd)\n",
    "                tgt_list.append(t)\n",
    "\n",
    "            mol_batch = Batch.from_data_list(mol_list).to(device)\n",
    "            pro_batch = Batch.from_data_list(pro_list).to(device)\n",
    "            t_tensor = torch.tensor(tgt_list, dtype=torch.float32, device=device).view(-1)\n",
    "\n",
    "            optimizer.zero_grad()\n",
    "            out = model(mol_batch, pro_batch).view(-1)\n",
    "            loss = loss_fn(out, t_tensor)\n",
    "            loss.backward()\n",
    "            optimizer.step()\n",
    "\n",
    "            running_loss += loss.item() * len(batch_samples)\n",
    "\n",
    "        avg_loss = running_loss / len(train_files)\n",
    "        tqdm.write(f\"[Epoch {epoch}/{num_epochs}] Training Loss: {avg_loss:.4f}\")\n",
    "\n",
    "        # Evaluate on train & test\n",
    "        train_mse, train_ci, train_pearson = evaluate(train_files)\n",
    "        test_mse, test_ci, test_pearson = evaluate(test_files)\n",
    "\n",
    "        train_metrics['epoch'].append(epoch)\n",
    "        train_metrics['mse'].append(train_mse)\n",
    "        train_metrics['ci'].append(train_ci)\n",
    "        train_metrics['pearson'].append(train_pearson)\n",
    "\n",
    "        test_metrics['epoch'].append(epoch)\n",
    "        test_metrics['mse'].append(test_mse)\n",
    "        test_metrics['ci'].append(test_ci)\n",
    "        test_metrics['pearson'].append(test_pearson)\n",
    "\n",
    "        tqdm.write(f\"  Train => MSE={train_mse:.4f}, CI={train_ci:.4f}, Pearson={train_pearson:.4f}\")\n",
    "        tqdm.write(f\"  Test  => MSE={test_mse:.4f}, CI={test_ci:.4f}, Pearson={test_pearson:.4f}\")\n",
    "\n",
    "        # Save new checkpoint\n",
    "        ckpt_name = f\"model_epoch{epoch}.pt\"\n",
    "        ckpt_path = os.path.join(training_model_dir, ckpt_name)\n",
    "        torch.save({\n",
    "            'epoch': epoch,\n",
    "            'model_state_dict': model.state_dict(),\n",
    "            'optimizer_state_dict': optimizer.state_dict(),\n",
    "        }, ckpt_path)\n",
    "        tqdm.write(f\"Checkpoint saved at epoch {epoch}\")\n",
    "\n",
    "        # Delete the previous checkpoint after saving the new one\n",
    "        if last_ckpt_path and os.path.exists(last_ckpt_path):\n",
    "            os.remove(last_ckpt_path)\n",
    "            tqdm.write(f\"Deleted previous checkpoint: {last_ckpt_path}\")\n",
    "\n",
    "        # Update last checkpoint path\n",
    "        last_ckpt_path = ckpt_path\n",
    "\n",
    "        # Save/Update the metrics after each epoch\n",
    "        torch.save({\n",
    "            'train_metrics': train_metrics,\n",
    "            'test_metrics': test_metrics\n",
    "        }, metrics_path)\n",
    "\n",
    "    # Final evaluations\n",
    "    final_train_mse, final_train_ci, final_train_pearson = evaluate(train_files)\n",
    "    final_test_mse, final_test_ci, final_test_pearson = evaluate(test_files)\n",
    "    print(f\"\\nFinal Train => MSE={final_train_mse:.4f}, CI={final_train_ci:.4f}, Pearson={final_train_pearson:.4f}\")\n",
    "    print(f\"Final Test  => MSE={final_test_mse:.4f}, CI={final_test_ci:.4f}, Pearson={final_test_pearson:.4f}\")\n",
    "\n",
    "    # Save final metrics\n",
    "    torch.save({\n",
    "        'train_metrics': train_metrics,\n",
    "        'test_metrics': test_metrics\n",
    "    }, metrics_path)\n",
    "    print(f\"Metrics saved to {metrics_path}\")\n",
    "\n",
    "    return train_metrics, test_metrics\n",
    "\n",
    "\n",
    "##############################################################################\n",
    "#               5. OPTIONAL: PLOT THE SAVED METRICS\n",
    "##############################################################################\n",
    "\n",
    "def plot_metrics(checkpoint_dir='TrainingModelNLB'):\n",
    "    \"\"\"\n",
    "    Load training_metrics.pt from the checkpoint_dir and plot MSE, CI, Pearson over epochs.\n",
    "    \"\"\"\n",
    "    metrics_path = os.path.join(checkpoint_dir, \"training_metrics.pt\")\n",
    "    if not os.path.exists(metrics_path):\n",
    "        print(f\"No metrics file found at {metrics_path}!\")\n",
    "        return\n",
    "\n",
    "    saved_data = torch.load(metrics_path)\n",
    "    train_metrics = saved_data['train_metrics']\n",
    "    test_metrics = saved_data['test_metrics']\n",
    "    epochs = train_metrics['epoch']\n",
    "\n",
    "    # Plot MSE\n",
    "    plt.figure(figsize=(8, 6))\n",
    "    plt.plot(epochs, train_metrics['mse'], 'o-', label='Train MSE')\n",
    "    plt.plot(epochs, test_metrics['mse'], 'o-', label='Test MSE')\n",
    "    plt.xlabel('Epoch')\n",
    "    plt.ylabel('MSE')\n",
    "    plt.title('Mean Squared Error over Epochs')\n",
    "    plt.legend()\n",
    "    plt.savefig(os.path.join(checkpoint_dir, \"MSE_plot.png\"))  \n",
    "    plt.show()\n",
    "\n",
    "    # Plot CI\n",
    "    plt.figure(figsize=(8, 6))\n",
    "    plt.plot(epochs, train_metrics['ci'], 'o-', label='Train CI')\n",
    "    plt.plot(epochs, test_metrics['ci'], 'o-', label='Test CI')\n",
    "    plt.xlabel('Epoch')\n",
    "    plt.ylabel('Concordance Index')\n",
    "    plt.title('CI over Epochs')\n",
    "    plt.savefig(os.path.join(checkpoint_dir, \"CI_plot.png\"))  \n",
    "    plt.legend()\n",
    "    plt.show()\n",
    "\n",
    "    # Plot Pearson\n",
    "    plt.figure(figsize=(8, 6))\n",
    "    plt.plot(epochs, train_metrics['pearson'], 'o-', label='Train Pearson')\n",
    "    plt.plot(epochs, test_metrics['pearson'], 'o-', label='Test Pearson')\n",
    "    plt.xlabel('Epoch')\n",
    "    plt.ylabel('Pearson Correlation')\n",
    "    plt.title('Pearson Correlation over Epochs')\n",
    "    plt.legend()\n",
    "    plt.savefig(os.path.join(checkpoint_dir, \"PEARSON_plot.png\"))  \n",
    "    plt.show()\n",
    "\n",
    "##############################################################################\n",
    "#                                 MAIN\n",
    "##############################################################################\n",
    "\n",
    "if __name__ == \"__main__\":\n",
    "    # Adjust the paths/parameters as needed\n",
    "    SAMPLE_DIR = \"prepared_samples\"   # Directory with your .pt samples\n",
    "    NUM_EPOCHS = 250\n",
    "    TEST_SPLIT = 0.2\n",
    "    LR = 0.001\n",
    "\n",
    "    # 1) Train and evaluate\n",
    "    train_metrics, test_metrics = train_and_evaluate(\n",
    "        sample_dir=SAMPLE_DIR,\n",
    "        num_epochs=NUM_EPOCHS,\n",
    "        test_size=TEST_SPLIT,\n",
    "        lr=LR\n",
    "    )\n",
    "\n",
    "    # 2) Plot the metrics\n",
    "    plot_metrics('TrainingModelNLB')"
   ]
  },
  {
   "cell_type": "code",
   "execution_count": null,
   "id": "2fbb407a",
   "metadata": {
    "papermill": {
     "duration": null,
     "end_time": null,
     "exception": null,
     "start_time": null,
     "status": "pending"
    },
    "tags": []
   },
   "outputs": [],
   "source": []
  },
  {
   "cell_type": "code",
   "execution_count": null,
   "id": "777a6b3d",
   "metadata": {
    "execution": {
     "iopub.status.busy": "2025-02-02T21:00:43.412429Z",
     "iopub.status.idle": "2025-02-02T21:00:43.412844Z",
     "shell.execute_reply": "2025-02-02T21:00:43.412670Z"
    },
    "papermill": {
     "duration": null,
     "end_time": null,
     "exception": null,
     "start_time": null,
     "status": "pending"
    },
    "tags": []
   },
   "outputs": [],
   "source": [
    "\n",
    "# import os\n",
    "# import torch\n",
    "\n",
    "# def train_and_evaluate(sample_dir, num_epochs=10, test_size=0.2, lr=0.001):\n",
    "#     \"\"\"\n",
    "#     Trains the GNN model, evaluates on train & test each epoch, saves metrics + checkpoints.\n",
    "#     \"\"\"\n",
    "#     device = torch.device('cuda' if torch.cuda.is_available() else 'cpu')\n",
    "#     print(f\"Running on {device}.\")\n",
    "\n",
    "#     # Gather samples\n",
    "#     sample_files = [f for f in os.listdir(sample_dir) if f.endswith('.pt')]\n",
    "#     assert len(sample_files) > 0, \"No .pt files found in sample_dir!\"\n",
    "\n",
    "#     # Split\n",
    "#     train_files, test_files = train_test_split(sample_files, test_size=test_size, random_state=42)\n",
    "\n",
    "#     # Make checkpoint dir\n",
    "#     training_model_dir = os.path.join(os.getcwd(), 'TrainingModelMul')\n",
    "#     os.makedirs(training_model_dir, exist_ok=True)\n",
    "#     print(f\"Checkpoints will be saved to: {training_model_dir}\")\n",
    "\n",
    "#     metrics_path = os.path.join(training_model_dir, \"training_metrics.pt\")\n",
    "\n",
    "#     # Load existing metrics if available (Ensures metrics continue from previous runs)\n",
    "#     if os.path.exists(metrics_path):\n",
    "#         saved_metrics = torch.load(metrics_path)\n",
    "#         train_metrics = saved_metrics['train_metrics']\n",
    "#         test_metrics = saved_metrics['test_metrics']\n",
    "#         print(\"Loaded previous training metrics!\")\n",
    "#     else:\n",
    "#         train_metrics = {'epoch': [], 'mse': [], 'ci': [], 'pearson': []}\n",
    "#         test_metrics = {'epoch': [], 'mse': [], 'ci': [], 'pearson': []}\n",
    "#         print(\"Starting fresh metrics tracking.\")\n",
    "\n",
    "#     # Infer input dims from one sample\n",
    "#     sample0 = load_sample(os.path.join(sample_dir, train_files[0]))\n",
    "#     mol_data0, pro_data0 = sample0[0], sample0[1]\n",
    "#     num_features_mol = mol_data0.x.size(1)\n",
    "#     num_features_pro = pro_data0.x.size(1)\n",
    "\n",
    "#     # Initialize model\n",
    "#     model = GNNNet(num_features_mol=num_features_mol,\n",
    "#                    num_features_pro=num_features_pro).to(device)\n",
    "#     optimizer = optim.Adam(model.parameters(), lr=lr)\n",
    "#     loss_fn = MSELoss()\n",
    "\n",
    "#     # Possibly resume from checkpoint\n",
    "#     start_epoch = 1\n",
    "#     existing_checkpoints = [\n",
    "#         f for f in os.listdir(training_model_dir)\n",
    "#         if f.endswith('.pt') and f.startswith('model_epoch')\n",
    "#     ]\n",
    "#     last_ckpt_path = None  # Track previous checkpoint for deletion\n",
    "\n",
    "#     if existing_checkpoints:\n",
    "#         latest_ckpt = max(existing_checkpoints, key=lambda x: int(x.split('_epoch')[1].split('.pt')[0]))\n",
    "#         ckpt_path = os.path.join(training_model_dir, latest_ckpt)\n",
    "#         print(f\"Loading checkpoint from {ckpt_path}\")\n",
    "#         ckpt = torch.load(ckpt_path, map_location=device)\n",
    "#         model.load_state_dict(ckpt['model_state_dict'])\n",
    "#         optimizer.load_state_dict(ckpt['optimizer_state_dict'])\n",
    "#         loaded_epoch = ckpt['epoch']\n",
    "#         start_epoch = loaded_epoch + 1\n",
    "#         last_ckpt_path = ckpt_path  # Store last checkpoint path for deletion\n",
    "#         print(f\"Resuming from epoch {start_epoch}\")\n",
    "#     else:\n",
    "#         print(\"No existing checkpoint found; starting fresh.\")\n",
    "\n",
    "#     @torch.no_grad()\n",
    "#     def evaluate(files):\n",
    "#         model.eval()\n",
    "#         all_preds = []\n",
    "#         all_targets = []\n",
    "#         batch_eval_size = 200\n",
    "#         for batch_samples in batch_loader(files, sample_dir, batch_eval_size):\n",
    "#             mol_list, pro_list, tgt_list = [], [], []\n",
    "#             for (md, pd, t) in batch_samples:\n",
    "#                 mol_list.append(md)\n",
    "#                 pro_list.append(pd)\n",
    "#                 tgt_list.append(t)\n",
    "\n",
    "#             mol_batch = Batch.from_data_list(mol_list).to(device)\n",
    "#             pro_batch = Batch.from_data_list(pro_list).to(device)\n",
    "#             t_tensor = torch.tensor(tgt_list, dtype=torch.float32, device=device)\n",
    "\n",
    "#             out = model(mol_batch, pro_batch).view(-1)\n",
    "#             all_preds.append(out)\n",
    "#             all_targets.append(t_tensor)\n",
    "\n",
    "#         all_preds = torch.cat(all_preds, dim=0)\n",
    "#         all_targets = torch.cat(all_targets, dim=0)\n",
    "\n",
    "#         mse_val = mse_torch(all_preds, all_targets)\n",
    "#         ci_val = ci_vectorized(all_preds, all_targets)\n",
    "#         pearson_val = pearson_torch(all_preds, all_targets)\n",
    "#         return mse_val, ci_val, pearson_val\n",
    "\n",
    "#     # Training loop\n",
    "#     batch_size = 500\n",
    "#     for epoch in tqdm(range(start_epoch, num_epochs + 1), desc=\"Training\", unit=\"epoch\"):\n",
    "#         model.train()\n",
    "#         running_loss = 0.0\n",
    "\n",
    "#         for batch_samples in batch_loader(train_files, sample_dir, batch_size):\n",
    "#             mol_list, pro_list, tgt_list = [], [], []\n",
    "#             for (md, pd, t) in batch_samples:\n",
    "#                 mol_list.append(md)\n",
    "#                 pro_list.append(pd)\n",
    "#                 tgt_list.append(t)\n",
    "\n",
    "#             mol_batch = Batch.from_data_list(mol_list).to(device)\n",
    "#             pro_batch = Batch.from_data_list(pro_list).to(device)\n",
    "#             t_tensor = torch.tensor(tgt_list, dtype=torch.float32, device=device).view(-1)\n",
    "\n",
    "#             optimizer.zero_grad()\n",
    "#             out = model(mol_batch, pro_batch).view(-1)\n",
    "#             loss = loss_fn(out, t_tensor)\n",
    "#             loss.backward()\n",
    "#             optimizer.step()\n",
    "\n",
    "#             running_loss += loss.item() * len(batch_samples)\n",
    "\n",
    "#         avg_loss = running_loss / len(train_files)\n",
    "#         tqdm.write(f\"[Epoch {epoch}/{num_epochs}] Training Loss: {avg_loss:.4f}\")\n",
    "\n",
    "#         # Evaluate on train & test\n",
    "#         train_mse, train_ci, train_pearson = evaluate(train_files)\n",
    "#         test_mse, test_ci, test_pearson = evaluate(test_files)\n",
    "\n",
    "#         train_metrics['epoch'].append(epoch)\n",
    "#         train_metrics['mse'].append(train_mse)\n",
    "#         train_metrics['ci'].append(train_ci)\n",
    "#         train_metrics['pearson'].append(train_pearson)\n",
    "\n",
    "#         test_metrics['epoch'].append(epoch)\n",
    "#         test_metrics['mse'].append(test_mse)\n",
    "#         test_metrics['ci'].append(test_ci)\n",
    "#         test_metrics['pearson'].append(test_pearson)\n",
    "\n",
    "#         tqdm.write(f\"  Train => MSE={train_mse:.4f}, CI={train_ci:.4f}, Pearson={train_pearson:.4f}\")\n",
    "#         tqdm.write(f\"  Test  => MSE={test_mse:.4f}, CI={test_ci:.4f}, Pearson={test_pearson:.4f}\")\n",
    "\n",
    "#         # Save new checkpoint\n",
    "#         ckpt_name = f\"model_epoch{epoch}.pt\"\n",
    "#         ckpt_path = os.path.join(training_model_dir, ckpt_name)\n",
    "#         torch.save({\n",
    "#             'epoch': epoch,\n",
    "#             'model_state_dict': model.state_dict(),\n",
    "#             'optimizer_state_dict': optimizer.state_dict(),\n",
    "#         }, ckpt_path)\n",
    "#         tqdm.write(f\"Checkpoint saved at epoch {epoch}\")\n",
    "\n",
    "#         # Delete the previous checkpoint after saving the new one\n",
    "#         if last_ckpt_path and os.path.exists(last_ckpt_path):\n",
    "#             os.remove(last_ckpt_path)\n",
    "#             tqdm.write(f\"Deleted previous checkpoint: {last_ckpt_path}\")\n",
    "\n",
    "#         # Update last checkpoint path\n",
    "#         last_ckpt_path = ckpt_path\n",
    "\n",
    "#         # Save/Update the metrics after each epoch\n",
    "#         torch.save({\n",
    "#             'train_metrics': train_metrics,\n",
    "#             'test_metrics': test_metrics\n",
    "#         }, metrics_path)\n",
    "\n",
    "#     # Final evaluations\n",
    "#     final_train_mse, final_train_ci, final_train_pearson = evaluate(train_files)\n",
    "#     final_test_mse, final_test_ci, final_test_pearson = evaluate(test_files)\n",
    "#     print(f\"\\nFinal Train => MSE={final_train_mse:.4f}, CI={final_train_ci:.4f}, Pearson={final_train_pearson:.4f}\")\n",
    "#     print(f\"Final Test  => MSE={final_test_mse:.4f}, CI={final_test_ci:.4f}, Pearson={final_test_pearson:.4f}\")\n",
    "\n",
    "#     # Save final metrics\n",
    "#     torch.save({\n",
    "#         'train_metrics': train_metrics,\n",
    "#         'test_metrics': test_metrics\n",
    "#     }, metrics_path)\n",
    "#     print(f\"Metrics saved to {metrics_path}\")\n",
    "\n",
    "#     return train_metrics, test_metrics\n",
    "\n",
    "\n",
    "# ##############################################################################\n",
    "# #               5. OPTIONAL: PLOT THE SAVED METRICS\n",
    "# ##############################################################################\n",
    "\n",
    "# def plot_metrics(checkpoint_dir='TrainingModelMul'):\n",
    "#     \"\"\"\n",
    "#     Load training_metrics.pt from the checkpoint_dir and plot MSE, CI, Pearson over epochs.\n",
    "#     \"\"\"\n",
    "#     metrics_path = os.path.join(checkpoint_dir, \"training_metrics.pt\")\n",
    "#     if not os.path.exists(metrics_path):\n",
    "#         print(f\"No metrics file found at {metrics_path}!\")\n",
    "#         return\n",
    "\n",
    "#     saved_data = torch.load(metrics_path)\n",
    "#     train_metrics = saved_data['train_metrics']\n",
    "#     test_metrics = saved_data['test_metrics']\n",
    "#     epochs = train_metrics['epoch']\n",
    "\n",
    "#     # Plot MSE\n",
    "#     plt.figure(figsize=(8, 6))\n",
    "#     plt.plot(epochs, train_metrics['mse'], 'o-', label='Train MSE')\n",
    "#     plt.plot(epochs, test_metrics['mse'], 'o-', label='Test MSE')\n",
    "#     plt.xlabel('Epoch')\n",
    "#     plt.ylabel('MSE')\n",
    "#     plt.title('Mean Squared Error over Epochs')\n",
    "#     plt.legend()\n",
    "#     plt.savefig(os.path.join(checkpoint_dir, \"MSE_plot.png\"))  \n",
    "#     plt.show()\n",
    "\n",
    "#     # Plot CI\n",
    "#     plt.figure(figsize=(8, 6))\n",
    "#     plt.plot(epochs, train_metrics['ci'], 'o-', label='Train CI')\n",
    "#     plt.plot(epochs, test_metrics['ci'], 'o-', label='Test CI')\n",
    "#     plt.xlabel('Epoch')\n",
    "#     plt.ylabel('Concordance Index')\n",
    "#     plt.title('CI over Epochs')\n",
    "#     plt.savefig(os.path.join(checkpoint_dir, \"CI_plot.png\"))  \n",
    "#     plt.legend()\n",
    "#     plt.show()\n",
    "\n",
    "#     # Plot Pearson\n",
    "#     plt.figure(figsize=(8, 6))\n",
    "#     plt.plot(epochs, train_metrics['pearson'], 'o-', label='Train Pearson')\n",
    "#     plt.plot(epochs, test_metrics['pearson'], 'o-', label='Test Pearson')\n",
    "#     plt.xlabel('Epoch')\n",
    "#     plt.ylabel('Pearson Correlation')\n",
    "#     plt.title('Pearson Correlation over Epochs')\n",
    "#     plt.legend()\n",
    "#     plt.savefig(os.path.join(checkpoint_dir, \"PEARSON_plot.png\"))  \n",
    "#     plt.show()\n",
    "\n",
    "# ##############################################################################\n",
    "# #                                 MAIN\n",
    "# ##############################################################################\n",
    "\n",
    "# if __name__ == \"__main__\":\n",
    "#     # Adjust the paths/parameters as needed\n",
    "#     SAMPLE_DIR = \"prepared_samples\"   # Directory with your .pt samples\n",
    "#     NUM_EPOCHS = 250\n",
    "#     TEST_SPLIT = 0.2\n",
    "#     LR = 0.001\n",
    "\n",
    "#     # 1) Train and evaluate\n",
    "#     train_metrics, test_metrics = train_and_evaluate(\n",
    "#         sample_dir=SAMPLE_DIR,\n",
    "#         num_epochs=NUM_EPOCHS,\n",
    "#         test_size=TEST_SPLIT,\n",
    "#         lr=LR\n",
    "#     )\n",
    "\n",
    "#     # 2) Plot the metrics\n",
    "#     plot_metrics('TrainingModelMul')"
   ]
  },
  {
   "cell_type": "code",
   "execution_count": null,
   "id": "6408fdc8",
   "metadata": {
    "papermill": {
     "duration": null,
     "end_time": null,
     "exception": null,
     "start_time": null,
     "status": "pending"
    },
    "tags": []
   },
   "outputs": [],
   "source": []
  }
 ],
 "metadata": {
  "kaggle": {
   "accelerator": "gpu",
   "dataSources": [
    {
     "datasetId": 6590542,
     "sourceId": 10643954,
     "sourceType": "datasetVersion"
    },
    {
     "isSourceIdPinned": true,
     "modelId": 234035,
     "modelInstanceId": 212370,
     "sourceId": 248466,
     "sourceType": "modelInstanceVersion"
    }
   ],
   "dockerImageVersionId": 30840,
   "isGpuEnabled": true,
   "isInternetEnabled": true,
   "language": "python",
   "sourceType": "notebook"
  },
  "kernelspec": {
   "display_name": "Python 3 (ipykernel)",
   "language": "python",
   "name": "python3"
  },
  "language_info": {
   "codemirror_mode": {
    "name": "ipython",
    "version": 3
   },
   "file_extension": ".py",
   "mimetype": "text/x-python",
   "name": "python",
   "nbconvert_exporter": "python",
   "pygments_lexer": "ipython3",
   "version": "3.12.4"
  },
  "papermill": {
   "default_parameters": {},
   "duration": null,
   "end_time": null,
   "environment_variables": {},
   "exception": null,
   "input_path": "__notebook__.ipynb",
   "output_path": "__notebook__.ipynb",
   "parameters": {},
   "start_time": "2025-02-02T21:04:12.774290",
   "version": "2.6.0"
  }
 },
 "nbformat": 4,
 "nbformat_minor": 5
}
