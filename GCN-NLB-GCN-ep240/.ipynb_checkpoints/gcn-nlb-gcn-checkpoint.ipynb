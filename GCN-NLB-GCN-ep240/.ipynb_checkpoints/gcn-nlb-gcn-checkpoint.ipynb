{
 "cells": [
  {
   "cell_type": "code",
   "execution_count": 1,
   "id": "fd8da8f4",
   "metadata": {
    "_cell_guid": "b1076dfc-b9ad-4769-8c92-a6c4dae69d19",
    "_uuid": "8f2839f25d086af736a60e9eeb907d3b93b6e0e5",
    "execution": {
     "iopub.execute_input": "2025-02-04T07:10:48.043742Z",
     "iopub.status.busy": "2025-02-04T07:10:48.043428Z",
     "iopub.status.idle": "2025-02-04T07:10:54.343504Z",
     "shell.execute_reply": "2025-02-04T07:10:54.342252Z"
    },
    "papermill": {
     "duration": 6.307162,
     "end_time": "2025-02-04T07:10:54.345524",
     "exception": false,
     "start_time": "2025-02-04T07:10:48.038362",
     "status": "completed"
    },
    "tags": []
   },
   "outputs": [
    {
     "name": "stdout",
     "output_type": "stream",
     "text": [
      "Collecting torch-geometric\r\n"
     ]
    },
    {
     "name": "stdout",
     "output_type": "stream",
     "text": [
      "  Downloading torch_geometric-2.6.1-py3-none-any.whl.metadata (63 kB)\r\n",
      "\u001b[?25l     \u001b[90m━━━━━━━━━━━━━━━━━━━━━━━━━━━━━━━━━━━━━━━━\u001b[0m \u001b[32m0.0/63.1 kB\u001b[0m \u001b[31m?\u001b[0m eta \u001b[36m-:--:--\u001b[0m\r",
      "\u001b[2K     \u001b[90m━━━━━━━━━━━━━━━━━━━━━━━━━━━━━━━━━━━━━━━━\u001b[0m \u001b[32m63.1/63.1 kB\u001b[0m \u001b[31m2.2 MB/s\u001b[0m eta \u001b[36m0:00:00\u001b[0m\r\n",
      "\u001b[?25hRequirement already satisfied: aiohttp in /usr/local/lib/python3.10/dist-packages (from torch-geometric) (3.11.10)\r\n",
      "Requirement already satisfied: fsspec in /usr/local/lib/python3.10/dist-packages (from torch-geometric) (2024.9.0)\r\n",
      "Requirement already satisfied: jinja2 in /usr/local/lib/python3.10/dist-packages (from torch-geometric) (3.1.4)\r\n",
      "Requirement already satisfied: numpy in /usr/local/lib/python3.10/dist-packages (from torch-geometric) (1.26.4)\r\n",
      "Requirement already satisfied: psutil>=5.8.0 in /usr/local/lib/python3.10/dist-packages (from torch-geometric) (5.9.5)\r\n",
      "Requirement already satisfied: pyparsing in /usr/local/lib/python3.10/dist-packages (from torch-geometric) (3.2.0)\r\n",
      "Requirement already satisfied: requests in /usr/local/lib/python3.10/dist-packages (from torch-geometric) (2.32.3)\r\n"
     ]
    },
    {
     "name": "stdout",
     "output_type": "stream",
     "text": [
      "Requirement already satisfied: tqdm in /usr/local/lib/python3.10/dist-packages (from torch-geometric) (4.67.1)\r\n",
      "Requirement already satisfied: aiohappyeyeballs>=2.3.0 in /usr/local/lib/python3.10/dist-packages (from aiohttp->torch-geometric) (2.4.4)\r\n",
      "Requirement already satisfied: aiosignal>=1.1.2 in /usr/local/lib/python3.10/dist-packages (from aiohttp->torch-geometric) (1.3.2)\r\n",
      "Requirement already satisfied: async-timeout<6.0,>=4.0 in /usr/local/lib/python3.10/dist-packages (from aiohttp->torch-geometric) (4.0.3)\r\n",
      "Requirement already satisfied: attrs>=17.3.0 in /usr/local/lib/python3.10/dist-packages (from aiohttp->torch-geometric) (24.3.0)\r\n",
      "Requirement already satisfied: frozenlist>=1.1.1 in /usr/local/lib/python3.10/dist-packages (from aiohttp->torch-geometric) (1.5.0)\r\n",
      "Requirement already satisfied: multidict<7.0,>=4.5 in /usr/local/lib/python3.10/dist-packages (from aiohttp->torch-geometric) (6.1.0)\r\n",
      "Requirement already satisfied: propcache>=0.2.0 in /usr/local/lib/python3.10/dist-packages (from aiohttp->torch-geometric) (0.2.1)\r\n",
      "Requirement already satisfied: yarl<2.0,>=1.17.0 in /usr/local/lib/python3.10/dist-packages (from aiohttp->torch-geometric) (1.18.3)\r\n"
     ]
    },
    {
     "name": "stdout",
     "output_type": "stream",
     "text": [
      "Requirement already satisfied: MarkupSafe>=2.0 in /usr/local/lib/python3.10/dist-packages (from jinja2->torch-geometric) (3.0.2)\r\n",
      "Requirement already satisfied: mkl_fft in /usr/local/lib/python3.10/dist-packages (from numpy->torch-geometric) (1.3.8)\r\n",
      "Requirement already satisfied: mkl_random in /usr/local/lib/python3.10/dist-packages (from numpy->torch-geometric) (1.2.4)\r\n",
      "Requirement already satisfied: mkl_umath in /usr/local/lib/python3.10/dist-packages (from numpy->torch-geometric) (0.1.1)\r\n",
      "Requirement already satisfied: mkl in /usr/local/lib/python3.10/dist-packages (from numpy->torch-geometric) (2025.0.1)\r\n",
      "Requirement already satisfied: tbb4py in /usr/local/lib/python3.10/dist-packages (from numpy->torch-geometric) (2022.0.0)\r\n",
      "Requirement already satisfied: mkl-service in /usr/local/lib/python3.10/dist-packages (from numpy->torch-geometric) (2.4.1)\r\n",
      "Requirement already satisfied: charset-normalizer<4,>=2 in /usr/local/lib/python3.10/dist-packages (from requests->torch-geometric) (3.4.0)\r\n",
      "Requirement already satisfied: idna<4,>=2.5 in /usr/local/lib/python3.10/dist-packages (from requests->torch-geometric) (3.10)\r\n",
      "Requirement already satisfied: urllib3<3,>=1.21.1 in /usr/local/lib/python3.10/dist-packages (from requests->torch-geometric) (2.2.3)\r\n",
      "Requirement already satisfied: certifi>=2017.4.17 in /usr/local/lib/python3.10/dist-packages (from requests->torch-geometric) (2024.12.14)\r\n"
     ]
    },
    {
     "name": "stdout",
     "output_type": "stream",
     "text": [
      "Requirement already satisfied: typing-extensions>=4.1.0 in /usr/local/lib/python3.10/dist-packages (from multidict<7.0,>=4.5->aiohttp->torch-geometric) (4.12.2)\r\n",
      "Requirement already satisfied: intel-openmp>=2024 in /usr/local/lib/python3.10/dist-packages (from mkl->numpy->torch-geometric) (2024.2.0)\r\n",
      "Requirement already satisfied: tbb==2022.* in /usr/local/lib/python3.10/dist-packages (from mkl->numpy->torch-geometric) (2022.0.0)\r\n",
      "Requirement already satisfied: tcmlib==1.* in /usr/local/lib/python3.10/dist-packages (from tbb==2022.*->mkl->numpy->torch-geometric) (1.2.0)\r\n",
      "Requirement already satisfied: intel-cmplr-lib-rt in /usr/local/lib/python3.10/dist-packages (from mkl_umath->numpy->torch-geometric) (2024.2.0)\r\n",
      "Requirement already satisfied: intel-cmplr-lib-ur==2024.2.0 in /usr/local/lib/python3.10/dist-packages (from intel-openmp>=2024->mkl->numpy->torch-geometric) (2024.2.0)\r\n"
     ]
    },
    {
     "name": "stdout",
     "output_type": "stream",
     "text": [
      "Downloading torch_geometric-2.6.1-py3-none-any.whl (1.1 MB)\r\n",
      "\u001b[?25l   \u001b[90m━━━━━━━━━━━━━━━━━━━━━━━━━━━━━━━━━━━━━━━━\u001b[0m \u001b[32m0.0/1.1 MB\u001b[0m \u001b[31m?\u001b[0m eta \u001b[36m-:--:--\u001b[0m"
     ]
    },
    {
     "name": "stdout",
     "output_type": "stream",
     "text": [
      "\r",
      "\u001b[2K   \u001b[91m━━━━━━━━━━━━━━━━━━━━━━━━━━━\u001b[0m\u001b[90m╺\u001b[0m\u001b[90m━━━━━━━━━━━━\u001b[0m \u001b[32m0.8/1.1 MB\u001b[0m \u001b[31m23.1 MB/s\u001b[0m eta \u001b[36m0:00:01\u001b[0m\r",
      "\u001b[2K   \u001b[90m━━━━━━━━━━━━━━━━━━━━━━━━━━━━━━━━━━━━━━━━\u001b[0m \u001b[32m1.1/1.1 MB\u001b[0m \u001b[31m19.0 MB/s\u001b[0m eta \u001b[36m0:00:00\u001b[0m\r\n",
      "\u001b[?25h"
     ]
    },
    {
     "name": "stdout",
     "output_type": "stream",
     "text": [
      "Installing collected packages: torch-geometric\r\n"
     ]
    },
    {
     "name": "stdout",
     "output_type": "stream",
     "text": [
      "Successfully installed torch-geometric-2.6.1\r\n"
     ]
    }
   ],
   "source": [
    "!pip install torch-geometric"
   ]
  },
  {
   "cell_type": "code",
   "execution_count": 2,
   "id": "3485311d",
   "metadata": {
    "execution": {
     "iopub.execute_input": "2025-02-04T07:10:54.355992Z",
     "iopub.status.busy": "2025-02-04T07:10:54.355644Z",
     "iopub.status.idle": "2025-02-04T07:12:21.824114Z",
     "shell.execute_reply": "2025-02-04T07:12:21.822987Z"
    },
    "papermill": {
     "duration": 87.479407,
     "end_time": "2025-02-04T07:12:21.829800",
     "exception": false,
     "start_time": "2025-02-04T07:10:54.350393",
     "status": "completed"
    },
    "tags": []
   },
   "outputs": [
    {
     "name": "stderr",
     "output_type": "stream",
     "text": [
      "<ipython-input-2-b6d33a83e452>:16: FutureWarning: You are using `torch.load` with `weights_only=False` (the current default value), which uses the default pickle module implicitly. It is possible to construct malicious pickle data which will execute arbitrary code during unpickling (See https://github.com/pytorch/pytorch/blob/main/SECURITY.md#untrusted-models for more details). In a future release, the default value for `weights_only` will be flipped to `True`. This limits the functions that could be executed during unpickling. Arbitrary objects will no longer be allowed to be loaded via this mode unless they are explicitly allowlisted by the user via `torch.serialization.add_safe_globals`. We recommend you start setting `weights_only=True` for any use case where you don't have full control of the loaded file. Please open an issue on GitHub for any issues related to this experimental feature.\n",
      "  return torch.load(path)\n"
     ]
    },
    {
     "name": "stdout",
     "output_type": "stream",
     "text": [
      "Saved sample 0 as prepared_samples/sample_0.pt\n"
     ]
    },
    {
     "name": "stderr",
     "output_type": "stream",
     "text": [
      "<ipython-input-2-b6d33a83e452>:16: FutureWarning: You are using `torch.load` with `weights_only=False` (the current default value), which uses the default pickle module implicitly. It is possible to construct malicious pickle data which will execute arbitrary code during unpickling (See https://github.com/pytorch/pytorch/blob/main/SECURITY.md#untrusted-models for more details). In a future release, the default value for `weights_only` will be flipped to `True`. This limits the functions that could be executed during unpickling. Arbitrary objects will no longer be allowed to be loaded via this mode unless they are explicitly allowlisted by the user via `torch.serialization.add_safe_globals`. We recommend you start setting `weights_only=True` for any use case where you don't have full control of the loaded file. Please open an issue on GitHub for any issues related to this experimental feature.\n",
      "  return torch.load(path)\n"
     ]
    },
    {
     "name": "stdout",
     "output_type": "stream",
     "text": [
      "Saved sample 10000 as prepared_samples/sample_10000.pt\n"
     ]
    },
    {
     "name": "stdout",
     "output_type": "stream",
     "text": [
      "Dataset preparation completed.\n"
     ]
    }
   ],
   "source": [
    "\n",
    "#create samples :\n",
    "import os\n",
    "import torch\n",
    "import pickle\n",
    "import pandas as pd\n",
    "\n",
    "def load_graph(path, is_pickle=True):\n",
    "    \"\"\"\n",
    "    Load a molecule graph (.pkl) or a protein graph (.pt).\n",
    "    If is_pickle is True, use pickle to load the file; otherwise, use torch.load.\n",
    "    \"\"\"\n",
    "    if is_pickle:\n",
    "        with open(path, 'rb') as f:\n",
    "            return pickle.load(f)\n",
    "    else:\n",
    "        return torch.load(path)\n",
    "\n",
    "def prepare_dataset_individual_save_as_pt(filtered_dataset, molecule_graph_dir, protein_graph_dir, output_dir):\n",
    "    \"\"\"\n",
    "    Incrementally prepares the dataset and saves each (molecule, protein, target) tuple as a separate .pt file.\n",
    "\n",
    "    Args:\n",
    "    - filtered_dataset: The filtered KIBA dataset (DataFrame).\n",
    "    - molecule_graph_dir: Directory where molecule graphs are stored.\n",
    "    - protein_graph_dir: Directory where protein graphs are stored.\n",
    "    - output_dir: Directory to save the prepared dataset incrementally.\n",
    "    \"\"\"\n",
    "    if not os.path.exists(output_dir):\n",
    "        os.makedirs(output_dir)\n",
    "\n",
    "    for index, row in filtered_dataset.iterrows():\n",
    "        protein_id = row['Target_ID']\n",
    "        chembl_id = row['Drug_ID']\n",
    "\n",
    "        # Load the protein graph (.pt)\n",
    "        pro_graph_path = os.path.join(protein_graph_dir, f\"{protein_id}_graph.pt\")\n",
    "        if not os.path.exists(pro_graph_path):\n",
    "            print(f\"Protein graph not found: {protein_id}\")\n",
    "            continue\n",
    "        pro_graph = load_graph(pro_graph_path, is_pickle=False)\n",
    "\n",
    "        # Load the molecule graph (.pkl)\n",
    "        mol_graph_path = os.path.join(molecule_graph_dir, f\"{chembl_id}_graph.pkl\")\n",
    "        if not os.path.exists(mol_graph_path):\n",
    "            print(f\"Molecule graph not found: {chembl_id}\")\n",
    "            continue\n",
    "        mol_graph = load_graph(mol_graph_path)\n",
    "\n",
    "        # Load target (affinity value)\n",
    "        target = torch.tensor([row['Y']], dtype=torch.float)\n",
    "\n",
    "        # Create the sample as a tuple (molecule graph, protein graph, target)\n",
    "        sample = (mol_graph, pro_graph, target)\n",
    "\n",
    "        # Save the sample as a .pt file\n",
    "        sample_path = os.path.join(output_dir, f\"sample_{index}.pt\")\n",
    "        torch.save(sample, sample_path)\n",
    "\n",
    "        if(index%10000 == 0 ):\n",
    "            print(f\"Saved sample {index} as {sample_path}\")\n",
    "\n",
    "\n",
    "\n",
    "\n",
    "# Example usage for individual saving\n",
    "molecule_graph_dir = '/kaggle/input/graphs/molecule_graphs'  # Directory where molecule graphs are stored\n",
    "protein_graph_dir = '/kaggle/input/graphs/ProteinGraphs'  # Directory where protein graphs are stored\n",
    "filtered_dataset_path = '/kaggle/input/graphs/filtered_DavisDataSet.csv'  # Path to the filtered dataset CSV\n",
    "output_dir = 'prepared_samples/'  # Directory to save individual samples\n",
    "\n",
    "# Load filtered dataset CSV\n",
    "filtered_dataset = pd.read_csv(filtered_dataset_path)\n",
    "\n",
    "# Prepare the dataset incrementally, saving each sample as a .pt file\n",
    "prepare_dataset_individual_save_as_pt(filtered_dataset, molecule_graph_dir, protein_graph_dir, output_dir)\n",
    "\n",
    "print(\"Dataset preparation completed.\")\n",
    "\n"
   ]
  },
  {
   "cell_type": "code",
   "execution_count": 3,
   "id": "0d18b898",
   "metadata": {
    "execution": {
     "iopub.execute_input": "2025-02-04T07:12:21.840728Z",
     "iopub.status.busy": "2025-02-04T07:12:21.840215Z",
     "iopub.status.idle": "2025-02-04T07:12:21.850245Z",
     "shell.execute_reply": "2025-02-04T07:12:21.848379Z"
    },
    "papermill": {
     "duration": 0.017174,
     "end_time": "2025-02-04T07:12:21.851622",
     "exception": false,
     "start_time": "2025-02-04T07:12:21.834448",
     "status": "completed"
    },
    "tags": []
   },
   "outputs": [],
   "source": [
    "import torch\n",
    "import torch.nn as nn\n",
    "import torch.nn.functional as F\n",
    "from torch_geometric.nn import GCNConv\n",
    "class NonLocalBlock(nn.Module):\n",
    "    def __init__(self, input_dim, hidden_dim, output_dim=None, chunk_size=2048):\n",
    "        super().__init__()\n",
    "        self.output_dim = output_dim or input_dim\n",
    "\n",
    "        # GCN-based projections (Φ, Θ, Γ)\n",
    "        # Φ: H = σ(Â H W_φ + b_φ), where Â = D^{-1/2} (A + I) D^{-1/2}\n",
    "        self.W_phi = GCNConv(input_dim, hidden_dim)\n",
    "        self.W_theta = GCNConv(input_dim, hidden_dim)\n",
    "        self.W_gamma = GCNConv(input_dim, hidden_dim)\n",
    "\n",
    "        # Output projection: O = O_{agg} W_{out} + b_{out}\n",
    "        self.W_out = nn.Linear(hidden_dim, self.output_dim)\n",
    "\n",
    "        # Residual connection: V_n = O + V_m (if dimensions match)\n",
    "        self.res_proj = nn.Linear(input_dim, self.output_dim) if input_dim != self.output_dim else nn.Identity()\n",
    "\n",
    "        self.chunk_size = chunk_size\n",
    "\n",
    "    def forward(self, V_m, edge_index):\n",
    "        # Step 1: Compute Φ, Θ, Γ using GCNConv\n",
    "        # Φ = GCN(V_m, edge_index), Θ = GCN(V_m, edge_index), Γ = GCN(V_m, edge_index)\n",
    "        phi = self.W_phi(V_m, edge_index)  # Φ ∈ ℝ^{N×h}\n",
    "        theta = self.W_theta(V_m, edge_index)  # Θ ∈ ℝ^{N×h}\n",
    "        gamma = self.W_gamma(V_m, edge_index)  # Γ ∈ ℝ^{N×h}\n",
    "\n",
    "        N = phi.size(0)\n",
    "        O = torch.zeros_like(gamma)\n",
    "\n",
    "        # Step 2: Chunked attention computation\n",
    "        for i in range(0, N, self.chunk_size):\n",
    "            # For chunk i: Φ_chunk = Φ[i:i+chunk_size]\n",
    "            phi_chunk = phi[i:i + self.chunk_size]  # Φ_chunk ∈ ℝ^{C×h}\n",
    "\n",
    "            # Compute similarity scores: S = (Θ Φ_chunk^T) / √h\n",
    "            sim_chunk = torch.einsum('nh,ch->cn', theta, phi_chunk)  # S ∈ ℝ^{C×N}\n",
    "            sim_chunk = sim_chunk / (phi.size(1) ** 0.5)  # Scaling by √h\n",
    "\n",
    "            # Softmax normalization: α = softmax(S, dim=1)\n",
    "            attn_chunk = F.softmax(sim_chunk, dim=1)  # α ∈ ℝ^{C×N}\n",
    "\n",
    "            # Aggregate values: O_chunk = α Γ\n",
    "            O_chunk = torch.einsum('cn,nh->ch', attn_chunk, gamma)  # O_chunk ∈ ℝ^{C×h}\n",
    "            O[i:i + self.chunk_size] = O_chunk\n",
    "\n",
    "            del phi_chunk, sim_chunk, attn_chunk, O_chunk\n",
    "            if torch.cuda.is_available():\n",
    "                torch.cuda.empty_cache()\n",
    "\n",
    "        # Step 3: Projection and residual connection\n",
    "        O_projected = self.W_out(O)  # O_projected ∈ ℝ^{N×d_out}\n",
    "        V_n = O_projected + self.res_proj(V_m)  # V_n = O_projected + V_m (with dim alignment)\n",
    "        return V_n"
   ]
  },
  {
   "cell_type": "code",
   "execution_count": 4,
   "id": "e3bf4264",
   "metadata": {
    "execution": {
     "iopub.execute_input": "2025-02-04T07:12:21.861551Z",
     "iopub.status.busy": "2025-02-04T07:12:21.861273Z",
     "iopub.status.idle": "2025-02-04T07:12:21.864752Z",
     "shell.execute_reply": "2025-02-04T07:12:21.864001Z"
    },
    "papermill": {
     "duration": 0.009749,
     "end_time": "2025-02-04T07:12:21.866075",
     "exception": false,
     "start_time": "2025-02-04T07:12:21.856326",
     "status": "completed"
    },
    "tags": []
   },
   "outputs": [],
   "source": [
    "# !rm -rf \"TrainingModelNLB\""
   ]
  },
  {
   "cell_type": "code",
   "execution_count": 5,
   "id": "6b8a629f",
   "metadata": {
    "execution": {
     "iopub.execute_input": "2025-02-04T07:12:21.877525Z",
     "iopub.status.busy": "2025-02-04T07:12:21.877008Z",
     "iopub.status.idle": "2025-02-04T07:12:21.882948Z",
     "shell.execute_reply": "2025-02-04T07:12:21.881709Z"
    },
    "papermill": {
     "duration": 0.0142,
     "end_time": "2025-02-04T07:12:21.884702",
     "exception": false,
     "start_time": "2025-02-04T07:12:21.870502",
     "status": "completed"
    },
    "tags": []
   },
   "outputs": [],
   "source": [
    "import os\n",
    "training_model_dir = os.path.join(os.getcwd(), 'TrainingModelNLB')\n",
    "os.makedirs(training_model_dir, exist_ok=True)"
   ]
  },
  {
   "cell_type": "code",
   "execution_count": 6,
   "id": "e8560706",
   "metadata": {
    "execution": {
     "iopub.execute_input": "2025-02-04T07:12:21.895011Z",
     "iopub.status.busy": "2025-02-04T07:12:21.894635Z",
     "iopub.status.idle": "2025-02-04T07:12:22.462958Z",
     "shell.execute_reply": "2025-02-04T07:12:22.461569Z"
    },
    "papermill": {
     "duration": 0.575604,
     "end_time": "2025-02-04T07:12:22.465037",
     "exception": false,
     "start_time": "2025-02-04T07:12:21.889433",
     "status": "completed"
    },
    "tags": []
   },
   "outputs": [],
   "source": [
    "!cp '/kaggle/input/nbl-ep210/pytorch/default/1/model_epoch210.pt'  'TrainingModelNLB/model_epoch210.pt'\n",
    "!cp '/kaggle/input/nbl-ep210/pytorch/default/1/training_metrics.pt'  'TrainingModelNLB/training_metrics.pt'"
   ]
  },
  {
   "cell_type": "code",
   "execution_count": 7,
   "id": "25c646f0",
   "metadata": {
    "execution": {
     "iopub.execute_input": "2025-02-04T07:12:22.476303Z",
     "iopub.status.busy": "2025-02-04T07:12:22.475981Z"
    },
    "papermill": {
     "duration": null,
     "end_time": null,
     "exception": false,
     "start_time": "2025-02-04T07:12:22.469961",
     "status": "running"
    },
    "tags": []
   },
   "outputs": [
    {
     "name": "stdout",
     "output_type": "stream",
     "text": [
      "Running on cuda.\n",
      "Checkpoints will be saved to: /kaggle/working/TrainingModelNLB\n",
      "Loaded previous training metrics!\n",
      "GNNNet Loaded\n"
     ]
    },
    {
     "name": "stdout",
     "output_type": "stream",
     "text": [
      "Loading checkpoint from /kaggle/working/TrainingModelNLB/model_epoch210.pt\n",
      "Resuming from epoch 211\n"
     ]
    },
    {
     "name": "stderr",
     "output_type": "stream",
     "text": [
      "\r",
      "Training:   0%|          | 0/40 [00:00<?, ?epoch/s]"
     ]
    },
    {
     "name": "stderr",
     "output_type": "stream",
     "text": [
      "\r",
      "                                                   "
     ]
    },
    {
     "name": "stderr",
     "output_type": "stream",
     "text": [
      "\r"
     ]
    },
    {
     "name": "stderr",
     "output_type": "stream",
     "text": [
      "\r",
      "Training:   0%|          | 0/40 [08:01<?, ?epoch/s]"
     ]
    },
    {
     "name": "stdout",
     "output_type": "stream",
     "text": [
      "[Epoch 211/250] Training Loss: 0.2338\n"
     ]
    },
    {
     "name": "stderr",
     "output_type": "stream",
     "text": [
      "\r",
      "                                                   "
     ]
    },
    {
     "name": "stderr",
     "output_type": "stream",
     "text": [
      "\r"
     ]
    },
    {
     "name": "stderr",
     "output_type": "stream",
     "text": [
      "\r",
      "Training:   0%|          | 0/40 [23:43<?, ?epoch/s]"
     ]
    },
    {
     "name": "stderr",
     "output_type": "stream",
     "text": [
      "\r",
      "                                                   "
     ]
    },
    {
     "name": "stderr",
     "output_type": "stream",
     "text": [
      "\r"
     ]
    },
    {
     "name": "stderr",
     "output_type": "stream",
     "text": [
      "\r",
      "Training:   0%|          | 0/40 [23:43<?, ?epoch/s]"
     ]
    },
    {
     "name": "stderr",
     "output_type": "stream",
     "text": [
      "\r",
      "                                                   "
     ]
    },
    {
     "name": "stderr",
     "output_type": "stream",
     "text": [
      "\r"
     ]
    },
    {
     "name": "stderr",
     "output_type": "stream",
     "text": [
      "\r",
      "Training:   0%|          | 0/40 [23:43<?, ?epoch/s]"
     ]
    },
    {
     "name": "stderr",
     "output_type": "stream",
     "text": [
      "\r",
      "                                                   "
     ]
    },
    {
     "name": "stderr",
     "output_type": "stream",
     "text": [
      "\r"
     ]
    },
    {
     "name": "stderr",
     "output_type": "stream",
     "text": [
      "\r",
      "Training:   0%|          | 0/40 [23:43<?, ?epoch/s]"
     ]
    },
    {
     "name": "stderr",
     "output_type": "stream",
     "text": [
      "\r",
      "Training:   2%|▎         | 1/40 [23:43<15:25:17, 1423.53s/epoch]"
     ]
    },
    {
     "name": "stdout",
     "output_type": "stream",
     "text": [
      "  Train => MSE=0.1619, CI=0.9035, Pearson=0.8900\n",
      "  Test  => MSE=0.1710, CI=0.8962, Pearson=0.8811\n",
      "Checkpoint saved at epoch 211\n",
      "Deleted previous checkpoint: /kaggle/working/TrainingModelNLB/model_epoch210.pt\n"
     ]
    },
    {
     "name": "stderr",
     "output_type": "stream",
     "text": [
      "\r",
      "                                                                "
     ]
    },
    {
     "name": "stderr",
     "output_type": "stream",
     "text": [
      "\r"
     ]
    },
    {
     "name": "stderr",
     "output_type": "stream",
     "text": [
      "\r",
      "Training:   2%|▎         | 1/40 [31:41<15:25:17, 1423.53s/epoch]"
     ]
    },
    {
     "name": "stdout",
     "output_type": "stream",
     "text": [
      "[Epoch 212/250] Training Loss: 0.2256\n"
     ]
    },
    {
     "name": "stderr",
     "output_type": "stream",
     "text": [
      "\r",
      "                                                                "
     ]
    },
    {
     "name": "stderr",
     "output_type": "stream",
     "text": [
      "\r"
     ]
    },
    {
     "name": "stderr",
     "output_type": "stream",
     "text": [
      "\r",
      "Training:   2%|▎         | 1/40 [47:21<15:25:17, 1423.53s/epoch]"
     ]
    },
    {
     "name": "stderr",
     "output_type": "stream",
     "text": [
      "\r",
      "                                                                "
     ]
    },
    {
     "name": "stderr",
     "output_type": "stream",
     "text": [
      "\r"
     ]
    },
    {
     "name": "stderr",
     "output_type": "stream",
     "text": [
      "\r",
      "Training:   2%|▎         | 1/40 [47:21<15:25:17, 1423.53s/epoch]"
     ]
    },
    {
     "name": "stderr",
     "output_type": "stream",
     "text": [
      "\r",
      "                                                                "
     ]
    },
    {
     "name": "stderr",
     "output_type": "stream",
     "text": [
      "\r"
     ]
    },
    {
     "name": "stderr",
     "output_type": "stream",
     "text": [
      "\r",
      "Training:   2%|▎         | 1/40 [47:21<15:25:17, 1423.53s/epoch]"
     ]
    },
    {
     "name": "stderr",
     "output_type": "stream",
     "text": [
      "\r",
      "                                                                "
     ]
    },
    {
     "name": "stderr",
     "output_type": "stream",
     "text": [
      "\r"
     ]
    },
    {
     "name": "stderr",
     "output_type": "stream",
     "text": [
      "\r",
      "Training:   2%|▎         | 1/40 [47:21<15:25:17, 1423.53s/epoch]"
     ]
    },
    {
     "name": "stderr",
     "output_type": "stream",
     "text": [
      "\r",
      "Training:   5%|▌         | 2/40 [47:21<14:59:30, 1420.28s/epoch]"
     ]
    },
    {
     "name": "stdout",
     "output_type": "stream",
     "text": [
      "  Train => MSE=0.1459, CI=0.9069, Pearson=0.8980\n",
      "  Test  => MSE=0.1635, CI=0.8997, Pearson=0.8835\n",
      "Checkpoint saved at epoch 212\n",
      "Deleted previous checkpoint: /kaggle/working/TrainingModelNLB/model_epoch211.pt\n"
     ]
    },
    {
     "name": "stderr",
     "output_type": "stream",
     "text": [
      "\r",
      "                                                                "
     ]
    },
    {
     "name": "stderr",
     "output_type": "stream",
     "text": [
      "\r"
     ]
    },
    {
     "name": "stderr",
     "output_type": "stream",
     "text": [
      "\r",
      "Training:   5%|▌         | 2/40 [55:18<14:59:30, 1420.28s/epoch]"
     ]
    },
    {
     "name": "stdout",
     "output_type": "stream",
     "text": [
      "[Epoch 213/250] Training Loss: 0.2204\n"
     ]
    },
    {
     "name": "stderr",
     "output_type": "stream",
     "text": [
      "\r",
      "                                                                "
     ]
    },
    {
     "name": "stderr",
     "output_type": "stream",
     "text": [
      "\r"
     ]
    },
    {
     "name": "stderr",
     "output_type": "stream",
     "text": [
      "\r",
      "Training:   5%|▌         | 2/40 [1:10:58<14:59:30, 1420.28s/epoch]"
     ]
    },
    {
     "name": "stderr",
     "output_type": "stream",
     "text": [
      "\r",
      "                                                                  "
     ]
    },
    {
     "name": "stderr",
     "output_type": "stream",
     "text": [
      "\r"
     ]
    },
    {
     "name": "stderr",
     "output_type": "stream",
     "text": [
      "\r",
      "Training:   5%|▌         | 2/40 [1:10:58<14:59:30, 1420.28s/epoch]"
     ]
    },
    {
     "name": "stderr",
     "output_type": "stream",
     "text": [
      "\r",
      "                                                                  "
     ]
    },
    {
     "name": "stderr",
     "output_type": "stream",
     "text": [
      "\r"
     ]
    },
    {
     "name": "stderr",
     "output_type": "stream",
     "text": [
      "\r",
      "Training:   5%|▌         | 2/40 [1:10:58<14:59:30, 1420.28s/epoch]"
     ]
    },
    {
     "name": "stderr",
     "output_type": "stream",
     "text": [
      "\r",
      "                                                                  "
     ]
    },
    {
     "name": "stderr",
     "output_type": "stream",
     "text": [
      "\r"
     ]
    },
    {
     "name": "stderr",
     "output_type": "stream",
     "text": [
      "\r",
      "Training:   5%|▌         | 2/40 [1:10:58<14:59:30, 1420.28s/epoch]"
     ]
    },
    {
     "name": "stderr",
     "output_type": "stream",
     "text": [
      "\r",
      "Training:   8%|▊         | 3/40 [1:10:58<14:35:00, 1418.93s/epoch]"
     ]
    },
    {
     "name": "stdout",
     "output_type": "stream",
     "text": [
      "  Train => MSE=0.1432, CI=0.9085, Pearson=0.9000\n",
      "  Test  => MSE=0.1684, CI=0.8972, Pearson=0.8801\n",
      "Checkpoint saved at epoch 213\n",
      "Deleted previous checkpoint: /kaggle/working/TrainingModelNLB/model_epoch212.pt\n"
     ]
    },
    {
     "name": "stderr",
     "output_type": "stream",
     "text": [
      "\r",
      "                                                                  "
     ]
    },
    {
     "name": "stderr",
     "output_type": "stream",
     "text": [
      "\r"
     ]
    },
    {
     "name": "stderr",
     "output_type": "stream",
     "text": [
      "\r",
      "Training:   8%|▊         | 3/40 [1:18:55<14:35:00, 1418.93s/epoch]"
     ]
    },
    {
     "name": "stdout",
     "output_type": "stream",
     "text": [
      "[Epoch 214/250] Training Loss: 0.2208\n"
     ]
    },
    {
     "name": "stderr",
     "output_type": "stream",
     "text": [
      "\r",
      "                                                                  "
     ]
    },
    {
     "name": "stderr",
     "output_type": "stream",
     "text": [
      "\r"
     ]
    },
    {
     "name": "stderr",
     "output_type": "stream",
     "text": [
      "\r",
      "Training:   8%|▊         | 3/40 [1:34:37<14:35:00, 1418.93s/epoch]"
     ]
    },
    {
     "name": "stderr",
     "output_type": "stream",
     "text": [
      "\r",
      "                                                                  "
     ]
    },
    {
     "name": "stderr",
     "output_type": "stream",
     "text": [
      "\r"
     ]
    },
    {
     "name": "stderr",
     "output_type": "stream",
     "text": [
      "\r",
      "Training:   8%|▊         | 3/40 [1:34:37<14:35:00, 1418.93s/epoch]"
     ]
    },
    {
     "name": "stderr",
     "output_type": "stream",
     "text": [
      "\r",
      "                                                                  "
     ]
    },
    {
     "name": "stderr",
     "output_type": "stream",
     "text": [
      "\r"
     ]
    },
    {
     "name": "stderr",
     "output_type": "stream",
     "text": [
      "\r",
      "Training:   8%|▊         | 3/40 [1:34:37<14:35:00, 1418.93s/epoch]"
     ]
    },
    {
     "name": "stderr",
     "output_type": "stream",
     "text": [
      "\r",
      "                                                                  "
     ]
    },
    {
     "name": "stderr",
     "output_type": "stream",
     "text": [
      "\r"
     ]
    },
    {
     "name": "stderr",
     "output_type": "stream",
     "text": [
      "\r",
      "Training:   8%|▊         | 3/40 [1:34:37<14:35:00, 1418.93s/epoch]"
     ]
    },
    {
     "name": "stderr",
     "output_type": "stream",
     "text": [
      "\r",
      "Training:  10%|█         | 4/40 [1:34:37<14:11:17, 1418.82s/epoch]"
     ]
    },
    {
     "name": "stdout",
     "output_type": "stream",
     "text": [
      "  Train => MSE=0.1534, CI=0.9064, Pearson=0.8950\n",
      "  Test  => MSE=0.1776, CI=0.8948, Pearson=0.8750\n",
      "Checkpoint saved at epoch 214\n",
      "Deleted previous checkpoint: /kaggle/working/TrainingModelNLB/model_epoch213.pt\n"
     ]
    },
    {
     "name": "stderr",
     "output_type": "stream",
     "text": [
      "\r",
      "                                                                  "
     ]
    },
    {
     "name": "stderr",
     "output_type": "stream",
     "text": [
      "\r"
     ]
    },
    {
     "name": "stderr",
     "output_type": "stream",
     "text": [
      "\r",
      "Training:  10%|█         | 4/40 [1:42:33<14:11:17, 1418.82s/epoch]"
     ]
    },
    {
     "name": "stdout",
     "output_type": "stream",
     "text": [
      "[Epoch 215/250] Training Loss: 0.2202\n"
     ]
    },
    {
     "name": "stderr",
     "output_type": "stream",
     "text": [
      "\r",
      "                                                                  "
     ]
    },
    {
     "name": "stderr",
     "output_type": "stream",
     "text": [
      "\r"
     ]
    },
    {
     "name": "stderr",
     "output_type": "stream",
     "text": [
      "\r",
      "Training:  10%|█         | 4/40 [1:58:13<14:11:17, 1418.82s/epoch]"
     ]
    },
    {
     "name": "stderr",
     "output_type": "stream",
     "text": [
      "\r",
      "                                                                  "
     ]
    },
    {
     "name": "stderr",
     "output_type": "stream",
     "text": [
      "\r"
     ]
    },
    {
     "name": "stderr",
     "output_type": "stream",
     "text": [
      "\r",
      "Training:  10%|█         | 4/40 [1:58:13<14:11:17, 1418.82s/epoch]"
     ]
    },
    {
     "name": "stderr",
     "output_type": "stream",
     "text": [
      "\r",
      "                                                                  "
     ]
    },
    {
     "name": "stderr",
     "output_type": "stream",
     "text": [
      "\r"
     ]
    },
    {
     "name": "stderr",
     "output_type": "stream",
     "text": [
      "\r",
      "Training:  10%|█         | 4/40 [1:58:13<14:11:17, 1418.82s/epoch]"
     ]
    },
    {
     "name": "stderr",
     "output_type": "stream",
     "text": [
      "\r",
      "                                                                  "
     ]
    },
    {
     "name": "stderr",
     "output_type": "stream",
     "text": [
      "\r"
     ]
    },
    {
     "name": "stderr",
     "output_type": "stream",
     "text": [
      "\r",
      "Training:  10%|█         | 4/40 [1:58:13<14:11:17, 1418.82s/epoch]"
     ]
    },
    {
     "name": "stderr",
     "output_type": "stream",
     "text": [
      "\r",
      "Training:  12%|█▎        | 5/40 [1:58:13<13:47:04, 1417.83s/epoch]"
     ]
    },
    {
     "name": "stdout",
     "output_type": "stream",
     "text": [
      "  Train => MSE=0.1462, CI=0.9078, Pearson=0.8984\n",
      "  Test  => MSE=0.1725, CI=0.8953, Pearson=0.8776\n",
      "Checkpoint saved at epoch 215\n",
      "Deleted previous checkpoint: /kaggle/working/TrainingModelNLB/model_epoch214.pt\n"
     ]
    },
    {
     "name": "stderr",
     "output_type": "stream",
     "text": [
      "\r",
      "                                                                  "
     ]
    },
    {
     "name": "stderr",
     "output_type": "stream",
     "text": [
      "\r"
     ]
    },
    {
     "name": "stderr",
     "output_type": "stream",
     "text": [
      "\r",
      "Training:  12%|█▎        | 5/40 [2:06:10<13:47:04, 1417.83s/epoch]"
     ]
    },
    {
     "name": "stdout",
     "output_type": "stream",
     "text": [
      "[Epoch 216/250] Training Loss: 0.2122\n"
     ]
    },
    {
     "name": "stderr",
     "output_type": "stream",
     "text": [
      "\r",
      "                                                                  "
     ]
    },
    {
     "name": "stderr",
     "output_type": "stream",
     "text": [
      "\r"
     ]
    },
    {
     "name": "stderr",
     "output_type": "stream",
     "text": [
      "\r",
      "Training:  12%|█▎        | 5/40 [2:21:50<13:47:04, 1417.83s/epoch]"
     ]
    },
    {
     "name": "stderr",
     "output_type": "stream",
     "text": [
      "\r",
      "                                                                  "
     ]
    },
    {
     "name": "stderr",
     "output_type": "stream",
     "text": [
      "\r"
     ]
    },
    {
     "name": "stderr",
     "output_type": "stream",
     "text": [
      "\r",
      "Training:  12%|█▎        | 5/40 [2:21:50<13:47:04, 1417.83s/epoch]"
     ]
    },
    {
     "name": "stderr",
     "output_type": "stream",
     "text": [
      "\r",
      "                                                                  "
     ]
    },
    {
     "name": "stderr",
     "output_type": "stream",
     "text": [
      "\r"
     ]
    },
    {
     "name": "stderr",
     "output_type": "stream",
     "text": [
      "\r",
      "Training:  12%|█▎        | 5/40 [2:21:50<13:47:04, 1417.83s/epoch]"
     ]
    },
    {
     "name": "stderr",
     "output_type": "stream",
     "text": [
      "\r",
      "                                                                  "
     ]
    },
    {
     "name": "stderr",
     "output_type": "stream",
     "text": [
      "\r"
     ]
    },
    {
     "name": "stderr",
     "output_type": "stream",
     "text": [
      "\r",
      "Training:  12%|█▎        | 5/40 [2:21:50<13:47:04, 1417.83s/epoch]"
     ]
    },
    {
     "name": "stderr",
     "output_type": "stream",
     "text": [
      "\r",
      "Training:  15%|█▌        | 6/40 [2:21:50<13:23:18, 1417.59s/epoch]"
     ]
    },
    {
     "name": "stdout",
     "output_type": "stream",
     "text": [
      "  Train => MSE=0.1425, CI=0.9068, Pearson=0.8999\n",
      "  Test  => MSE=0.1748, CI=0.8943, Pearson=0.8751\n",
      "Checkpoint saved at epoch 216\n",
      "Deleted previous checkpoint: /kaggle/working/TrainingModelNLB/model_epoch215.pt\n"
     ]
    },
    {
     "name": "stderr",
     "output_type": "stream",
     "text": [
      "\r",
      "                                                                  "
     ]
    },
    {
     "name": "stderr",
     "output_type": "stream",
     "text": [
      "\r"
     ]
    },
    {
     "name": "stderr",
     "output_type": "stream",
     "text": [
      "\r",
      "Training:  15%|█▌        | 6/40 [2:29:48<13:23:18, 1417.59s/epoch]"
     ]
    },
    {
     "name": "stdout",
     "output_type": "stream",
     "text": [
      "[Epoch 217/250] Training Loss: 0.2179\n"
     ]
    },
    {
     "name": "stderr",
     "output_type": "stream",
     "text": [
      "\r",
      "                                                                  "
     ]
    },
    {
     "name": "stderr",
     "output_type": "stream",
     "text": [
      "\r"
     ]
    },
    {
     "name": "stderr",
     "output_type": "stream",
     "text": [
      "\r",
      "Training:  15%|█▌        | 6/40 [2:45:28<13:23:18, 1417.59s/epoch]"
     ]
    },
    {
     "name": "stderr",
     "output_type": "stream",
     "text": [
      "\r",
      "                                                                  "
     ]
    },
    {
     "name": "stderr",
     "output_type": "stream",
     "text": [
      "\r"
     ]
    },
    {
     "name": "stderr",
     "output_type": "stream",
     "text": [
      "\r",
      "Training:  15%|█▌        | 6/40 [2:45:28<13:23:18, 1417.59s/epoch]"
     ]
    },
    {
     "name": "stderr",
     "output_type": "stream",
     "text": [
      "\r",
      "                                                                  "
     ]
    },
    {
     "name": "stderr",
     "output_type": "stream",
     "text": [
      "\r"
     ]
    },
    {
     "name": "stderr",
     "output_type": "stream",
     "text": [
      "\r",
      "Training:  15%|█▌        | 6/40 [2:45:28<13:23:18, 1417.59s/epoch]"
     ]
    },
    {
     "name": "stderr",
     "output_type": "stream",
     "text": [
      "\r",
      "                                                                  "
     ]
    },
    {
     "name": "stderr",
     "output_type": "stream",
     "text": [
      "\r"
     ]
    },
    {
     "name": "stderr",
     "output_type": "stream",
     "text": [
      "\r",
      "Training:  15%|█▌        | 6/40 [2:45:28<13:23:18, 1417.59s/epoch]"
     ]
    },
    {
     "name": "stderr",
     "output_type": "stream",
     "text": [
      "\r",
      "Training:  18%|█▊        | 7/40 [2:45:28<12:59:39, 1417.56s/epoch]"
     ]
    },
    {
     "name": "stdout",
     "output_type": "stream",
     "text": [
      "  Train => MSE=0.1406, CI=0.9111, Pearson=0.9029\n",
      "  Test  => MSE=0.1764, CI=0.8997, Pearson=0.8753\n",
      "Checkpoint saved at epoch 217\n",
      "Deleted previous checkpoint: /kaggle/working/TrainingModelNLB/model_epoch216.pt\n"
     ]
    },
    {
     "name": "stderr",
     "output_type": "stream",
     "text": [
      "\r",
      "                                                                  "
     ]
    },
    {
     "name": "stderr",
     "output_type": "stream",
     "text": [
      "\r"
     ]
    },
    {
     "name": "stderr",
     "output_type": "stream",
     "text": [
      "\r",
      "Training:  18%|█▊        | 7/40 [2:53:24<12:59:39, 1417.56s/epoch]"
     ]
    },
    {
     "name": "stdout",
     "output_type": "stream",
     "text": [
      "[Epoch 218/250] Training Loss: 0.2129\n"
     ]
    },
    {
     "name": "stderr",
     "output_type": "stream",
     "text": [
      "\r",
      "                                                                  "
     ]
    },
    {
     "name": "stderr",
     "output_type": "stream",
     "text": [
      "\r"
     ]
    },
    {
     "name": "stderr",
     "output_type": "stream",
     "text": [
      "\r",
      "Training:  18%|█▊        | 7/40 [3:09:06<12:59:39, 1417.56s/epoch]"
     ]
    },
    {
     "name": "stderr",
     "output_type": "stream",
     "text": [
      "\r",
      "                                                                  "
     ]
    },
    {
     "name": "stderr",
     "output_type": "stream",
     "text": [
      "\r"
     ]
    },
    {
     "name": "stderr",
     "output_type": "stream",
     "text": [
      "\r",
      "Training:  18%|█▊        | 7/40 [3:09:06<12:59:39, 1417.56s/epoch]"
     ]
    },
    {
     "name": "stderr",
     "output_type": "stream",
     "text": [
      "\r",
      "                                                                  "
     ]
    },
    {
     "name": "stderr",
     "output_type": "stream",
     "text": [
      "\r"
     ]
    },
    {
     "name": "stderr",
     "output_type": "stream",
     "text": [
      "\r",
      "Training:  18%|█▊        | 7/40 [3:09:06<12:59:39, 1417.56s/epoch]"
     ]
    },
    {
     "name": "stderr",
     "output_type": "stream",
     "text": [
      "\r",
      "                                                                  "
     ]
    },
    {
     "name": "stderr",
     "output_type": "stream",
     "text": [
      "\r"
     ]
    },
    {
     "name": "stderr",
     "output_type": "stream",
     "text": [
      "\r",
      "Training:  18%|█▊        | 7/40 [3:09:06<12:59:39, 1417.56s/epoch]"
     ]
    },
    {
     "name": "stderr",
     "output_type": "stream",
     "text": [
      "\r",
      "Training:  20%|██        | 8/40 [3:09:06<12:36:05, 1417.68s/epoch]"
     ]
    },
    {
     "name": "stdout",
     "output_type": "stream",
     "text": [
      "  Train => MSE=0.1457, CI=0.9136, Pearson=0.9063\n",
      "  Test  => MSE=0.1763, CI=0.8989, Pearson=0.8807\n",
      "Checkpoint saved at epoch 218\n",
      "Deleted previous checkpoint: /kaggle/working/TrainingModelNLB/model_epoch217.pt\n"
     ]
    },
    {
     "name": "stderr",
     "output_type": "stream",
     "text": [
      "\r",
      "                                                                  "
     ]
    },
    {
     "name": "stderr",
     "output_type": "stream",
     "text": [
      "\r"
     ]
    },
    {
     "name": "stderr",
     "output_type": "stream",
     "text": [
      "\r",
      "Training:  20%|██        | 8/40 [3:17:02<12:36:05, 1417.68s/epoch]"
     ]
    },
    {
     "name": "stdout",
     "output_type": "stream",
     "text": [
      "[Epoch 219/250] Training Loss: 0.2037\n"
     ]
    },
    {
     "name": "stderr",
     "output_type": "stream",
     "text": [
      "\r",
      "                                                                  "
     ]
    },
    {
     "name": "stderr",
     "output_type": "stream",
     "text": [
      "\r"
     ]
    },
    {
     "name": "stderr",
     "output_type": "stream",
     "text": [
      "\r",
      "Training:  20%|██        | 8/40 [3:32:42<12:36:05, 1417.68s/epoch]"
     ]
    },
    {
     "name": "stderr",
     "output_type": "stream",
     "text": [
      "\r",
      "                                                                  "
     ]
    },
    {
     "name": "stderr",
     "output_type": "stream",
     "text": [
      "\r"
     ]
    },
    {
     "name": "stderr",
     "output_type": "stream",
     "text": [
      "\r",
      "Training:  20%|██        | 8/40 [3:32:42<12:36:05, 1417.68s/epoch]"
     ]
    },
    {
     "name": "stderr",
     "output_type": "stream",
     "text": [
      "\r",
      "                                                                  "
     ]
    },
    {
     "name": "stderr",
     "output_type": "stream",
     "text": [
      "\r"
     ]
    },
    {
     "name": "stderr",
     "output_type": "stream",
     "text": [
      "\r",
      "Training:  20%|██        | 8/40 [3:32:42<12:36:05, 1417.68s/epoch]"
     ]
    },
    {
     "name": "stderr",
     "output_type": "stream",
     "text": [
      "\r",
      "                                                                  "
     ]
    },
    {
     "name": "stderr",
     "output_type": "stream",
     "text": [
      "\r"
     ]
    },
    {
     "name": "stderr",
     "output_type": "stream",
     "text": [
      "\r",
      "Training:  20%|██        | 8/40 [3:32:42<12:36:05, 1417.68s/epoch]"
     ]
    },
    {
     "name": "stderr",
     "output_type": "stream",
     "text": [
      "\r",
      "Training:  22%|██▎       | 9/40 [3:32:42<12:12:19, 1417.39s/epoch]"
     ]
    },
    {
     "name": "stdout",
     "output_type": "stream",
     "text": [
      "  Train => MSE=0.1313, CI=0.9105, Pearson=0.9081\n",
      "  Test  => MSE=0.1763, CI=0.8919, Pearson=0.8738\n",
      "Checkpoint saved at epoch 219\n",
      "Deleted previous checkpoint: /kaggle/working/TrainingModelNLB/model_epoch218.pt\n"
     ]
    },
    {
     "name": "stderr",
     "output_type": "stream",
     "text": [
      "\r",
      "                                                                  "
     ]
    },
    {
     "name": "stderr",
     "output_type": "stream",
     "text": [
      "\r"
     ]
    },
    {
     "name": "stderr",
     "output_type": "stream",
     "text": [
      "\r",
      "Training:  22%|██▎       | 9/40 [3:40:39<12:12:19, 1417.39s/epoch]"
     ]
    },
    {
     "name": "stdout",
     "output_type": "stream",
     "text": [
      "[Epoch 220/250] Training Loss: 0.2109\n"
     ]
    },
    {
     "name": "stderr",
     "output_type": "stream",
     "text": [
      "\r",
      "                                                                  "
     ]
    },
    {
     "name": "stderr",
     "output_type": "stream",
     "text": [
      "\r"
     ]
    },
    {
     "name": "stderr",
     "output_type": "stream",
     "text": [
      "\r",
      "Training:  22%|██▎       | 9/40 [3:56:20<12:12:19, 1417.39s/epoch]"
     ]
    },
    {
     "name": "stderr",
     "output_type": "stream",
     "text": [
      "\r",
      "                                                                  "
     ]
    },
    {
     "name": "stderr",
     "output_type": "stream",
     "text": [
      "\r"
     ]
    },
    {
     "name": "stderr",
     "output_type": "stream",
     "text": [
      "\r",
      "Training:  22%|██▎       | 9/40 [3:56:20<12:12:19, 1417.39s/epoch]"
     ]
    },
    {
     "name": "stderr",
     "output_type": "stream",
     "text": [
      "\r",
      "                                                                  "
     ]
    },
    {
     "name": "stderr",
     "output_type": "stream",
     "text": [
      "\r"
     ]
    },
    {
     "name": "stderr",
     "output_type": "stream",
     "text": [
      "\r",
      "Training:  22%|██▎       | 9/40 [3:56:20<12:12:19, 1417.39s/epoch]"
     ]
    },
    {
     "name": "stderr",
     "output_type": "stream",
     "text": [
      "\r",
      "                                                                  "
     ]
    },
    {
     "name": "stderr",
     "output_type": "stream",
     "text": [
      "\r"
     ]
    },
    {
     "name": "stderr",
     "output_type": "stream",
     "text": [
      "\r",
      "Training:  22%|██▎       | 9/40 [3:56:20<12:12:19, 1417.39s/epoch]"
     ]
    },
    {
     "name": "stderr",
     "output_type": "stream",
     "text": [
      "\r",
      "Training:  25%|██▌       | 10/40 [3:56:20<11:48:42, 1417.43s/epoch]"
     ]
    },
    {
     "name": "stdout",
     "output_type": "stream",
     "text": [
      "  Train => MSE=0.1463, CI=0.9027, Pearson=0.9014\n",
      "  Test  => MSE=0.1894, CI=0.8839, Pearson=0.8676\n",
      "Checkpoint saved at epoch 220\n",
      "Deleted previous checkpoint: /kaggle/working/TrainingModelNLB/model_epoch219.pt\n"
     ]
    },
    {
     "name": "stderr",
     "output_type": "stream",
     "text": [
      "\r",
      "                                                                   "
     ]
    },
    {
     "name": "stderr",
     "output_type": "stream",
     "text": [
      "\r"
     ]
    },
    {
     "name": "stderr",
     "output_type": "stream",
     "text": [
      "\r",
      "Training:  25%|██▌       | 10/40 [4:04:16<11:48:42, 1417.43s/epoch]"
     ]
    },
    {
     "name": "stdout",
     "output_type": "stream",
     "text": [
      "[Epoch 221/250] Training Loss: 0.2120\n"
     ]
    },
    {
     "name": "stderr",
     "output_type": "stream",
     "text": [
      "\r",
      "                                                                   "
     ]
    },
    {
     "name": "stderr",
     "output_type": "stream",
     "text": [
      "\r"
     ]
    },
    {
     "name": "stderr",
     "output_type": "stream",
     "text": [
      "\r",
      "Training:  25%|██▌       | 10/40 [4:19:57<11:48:42, 1417.43s/epoch]"
     ]
    },
    {
     "name": "stderr",
     "output_type": "stream",
     "text": [
      "\r",
      "                                                                   "
     ]
    },
    {
     "name": "stderr",
     "output_type": "stream",
     "text": [
      "\r"
     ]
    },
    {
     "name": "stderr",
     "output_type": "stream",
     "text": [
      "\r",
      "Training:  25%|██▌       | 10/40 [4:19:57<11:48:42, 1417.43s/epoch]"
     ]
    },
    {
     "name": "stderr",
     "output_type": "stream",
     "text": [
      "\r",
      "                                                                   "
     ]
    },
    {
     "name": "stderr",
     "output_type": "stream",
     "text": [
      "\r"
     ]
    },
    {
     "name": "stderr",
     "output_type": "stream",
     "text": [
      "\r",
      "Training:  25%|██▌       | 10/40 [4:19:57<11:48:42, 1417.43s/epoch]"
     ]
    },
    {
     "name": "stderr",
     "output_type": "stream",
     "text": [
      "\r",
      "                                                                   "
     ]
    },
    {
     "name": "stderr",
     "output_type": "stream",
     "text": [
      "\r"
     ]
    },
    {
     "name": "stderr",
     "output_type": "stream",
     "text": [
      "\r",
      "Training:  25%|██▌       | 10/40 [4:19:57<11:48:42, 1417.43s/epoch]"
     ]
    },
    {
     "name": "stderr",
     "output_type": "stream",
     "text": [
      "\r",
      "Training:  28%|██▊       | 11/40 [4:19:57<11:25:01, 1417.28s/epoch]"
     ]
    },
    {
     "name": "stdout",
     "output_type": "stream",
     "text": [
      "  Train => MSE=0.1350, CI=0.9132, Pearson=0.9059\n",
      "  Test  => MSE=0.1784, CI=0.8946, Pearson=0.8715\n",
      "Checkpoint saved at epoch 221\n",
      "Deleted previous checkpoint: /kaggle/working/TrainingModelNLB/model_epoch220.pt\n"
     ]
    },
    {
     "name": "stderr",
     "output_type": "stream",
     "text": [
      "\r",
      "                                                                   "
     ]
    },
    {
     "name": "stderr",
     "output_type": "stream",
     "text": [
      "\r"
     ]
    },
    {
     "name": "stderr",
     "output_type": "stream",
     "text": [
      "\r",
      "Training:  28%|██▊       | 11/40 [4:27:54<11:25:01, 1417.28s/epoch]"
     ]
    },
    {
     "name": "stdout",
     "output_type": "stream",
     "text": [
      "[Epoch 222/250] Training Loss: 0.2089\n"
     ]
    },
    {
     "name": "stderr",
     "output_type": "stream",
     "text": [
      "\r",
      "                                                                   "
     ]
    },
    {
     "name": "stderr",
     "output_type": "stream",
     "text": [
      "\r"
     ]
    },
    {
     "name": "stderr",
     "output_type": "stream",
     "text": [
      "\r",
      "Training:  28%|██▊       | 11/40 [4:43:35<11:25:01, 1417.28s/epoch]"
     ]
    },
    {
     "name": "stderr",
     "output_type": "stream",
     "text": [
      "\r",
      "                                                                   "
     ]
    },
    {
     "name": "stderr",
     "output_type": "stream",
     "text": [
      "\r"
     ]
    },
    {
     "name": "stderr",
     "output_type": "stream",
     "text": [
      "\r",
      "Training:  28%|██▊       | 11/40 [4:43:35<11:25:01, 1417.28s/epoch]"
     ]
    },
    {
     "name": "stderr",
     "output_type": "stream",
     "text": [
      "\r",
      "                                                                   "
     ]
    },
    {
     "name": "stderr",
     "output_type": "stream",
     "text": [
      "\r"
     ]
    },
    {
     "name": "stderr",
     "output_type": "stream",
     "text": [
      "\r",
      "Training:  28%|██▊       | 11/40 [4:43:35<11:25:01, 1417.28s/epoch]"
     ]
    },
    {
     "name": "stderr",
     "output_type": "stream",
     "text": [
      "\r",
      "                                                                   "
     ]
    },
    {
     "name": "stderr",
     "output_type": "stream",
     "text": [
      "\r"
     ]
    },
    {
     "name": "stderr",
     "output_type": "stream",
     "text": [
      "\r",
      "Training:  28%|██▊       | 11/40 [4:43:35<11:25:01, 1417.28s/epoch]"
     ]
    },
    {
     "name": "stderr",
     "output_type": "stream",
     "text": [
      "\r",
      "Training:  30%|███       | 12/40 [4:43:35<11:01:34, 1417.65s/epoch]"
     ]
    },
    {
     "name": "stdout",
     "output_type": "stream",
     "text": [
      "  Train => MSE=0.1320, CI=0.9086, Pearson=0.9081\n",
      "  Test  => MSE=0.1824, CI=0.8892, Pearson=0.8701\n",
      "Checkpoint saved at epoch 222\n",
      "Deleted previous checkpoint: /kaggle/working/TrainingModelNLB/model_epoch221.pt\n"
     ]
    },
    {
     "name": "stderr",
     "output_type": "stream",
     "text": [
      "\r",
      "                                                                   "
     ]
    },
    {
     "name": "stderr",
     "output_type": "stream",
     "text": [
      "\r"
     ]
    },
    {
     "name": "stderr",
     "output_type": "stream",
     "text": [
      "\r",
      "Training:  30%|███       | 12/40 [4:51:32<11:01:34, 1417.65s/epoch]"
     ]
    },
    {
     "name": "stdout",
     "output_type": "stream",
     "text": [
      "[Epoch 223/250] Training Loss: 0.2007\n"
     ]
    },
    {
     "name": "stderr",
     "output_type": "stream",
     "text": [
      "\r",
      "                                                                   "
     ]
    },
    {
     "name": "stderr",
     "output_type": "stream",
     "text": [
      "\r"
     ]
    },
    {
     "name": "stderr",
     "output_type": "stream",
     "text": [
      "\r",
      "Training:  30%|███       | 12/40 [5:07:13<11:01:34, 1417.65s/epoch]"
     ]
    },
    {
     "name": "stderr",
     "output_type": "stream",
     "text": [
      "\r",
      "                                                                   "
     ]
    },
    {
     "name": "stderr",
     "output_type": "stream",
     "text": [
      "\r"
     ]
    },
    {
     "name": "stderr",
     "output_type": "stream",
     "text": [
      "\r",
      "Training:  30%|███       | 12/40 [5:07:13<11:01:34, 1417.65s/epoch]"
     ]
    },
    {
     "name": "stderr",
     "output_type": "stream",
     "text": [
      "\r",
      "                                                                   "
     ]
    },
    {
     "name": "stderr",
     "output_type": "stream",
     "text": [
      "\r"
     ]
    },
    {
     "name": "stderr",
     "output_type": "stream",
     "text": [
      "\r",
      "Training:  30%|███       | 12/40 [5:07:13<11:01:34, 1417.65s/epoch]"
     ]
    },
    {
     "name": "stderr",
     "output_type": "stream",
     "text": [
      "\r",
      "                                                                   "
     ]
    },
    {
     "name": "stderr",
     "output_type": "stream",
     "text": [
      "\r"
     ]
    },
    {
     "name": "stderr",
     "output_type": "stream",
     "text": [
      "\r",
      "Training:  30%|███       | 12/40 [5:07:13<11:01:34, 1417.65s/epoch]"
     ]
    },
    {
     "name": "stderr",
     "output_type": "stream",
     "text": [
      "\r",
      "Training:  32%|███▎      | 13/40 [5:07:13<10:37:59, 1417.75s/epoch]"
     ]
    },
    {
     "name": "stdout",
     "output_type": "stream",
     "text": [
      "  Train => MSE=0.1327, CI=0.9108, Pearson=0.9072\n",
      "  Test  => MSE=0.1853, CI=0.8905, Pearson=0.8662\n",
      "Checkpoint saved at epoch 223\n",
      "Deleted previous checkpoint: /kaggle/working/TrainingModelNLB/model_epoch222.pt\n"
     ]
    },
    {
     "name": "stderr",
     "output_type": "stream",
     "text": [
      "\r",
      "                                                                   "
     ]
    },
    {
     "name": "stderr",
     "output_type": "stream",
     "text": [
      "\r"
     ]
    },
    {
     "name": "stderr",
     "output_type": "stream",
     "text": [
      "\r",
      "Training:  32%|███▎      | 13/40 [5:15:10<10:37:59, 1417.75s/epoch]"
     ]
    },
    {
     "name": "stdout",
     "output_type": "stream",
     "text": [
      "[Epoch 224/250] Training Loss: 0.2051\n"
     ]
    },
    {
     "name": "stderr",
     "output_type": "stream",
     "text": [
      "\r",
      "                                                                   "
     ]
    },
    {
     "name": "stderr",
     "output_type": "stream",
     "text": [
      "\r"
     ]
    },
    {
     "name": "stderr",
     "output_type": "stream",
     "text": [
      "\r",
      "Training:  32%|███▎      | 13/40 [5:30:51<10:37:59, 1417.75s/epoch]"
     ]
    },
    {
     "name": "stderr",
     "output_type": "stream",
     "text": [
      "\r",
      "                                                                   "
     ]
    },
    {
     "name": "stderr",
     "output_type": "stream",
     "text": [
      "\r"
     ]
    },
    {
     "name": "stderr",
     "output_type": "stream",
     "text": [
      "\r",
      "Training:  32%|███▎      | 13/40 [5:30:51<10:37:59, 1417.75s/epoch]"
     ]
    },
    {
     "name": "stderr",
     "output_type": "stream",
     "text": [
      "\r",
      "                                                                   "
     ]
    },
    {
     "name": "stderr",
     "output_type": "stream",
     "text": [
      "\r"
     ]
    },
    {
     "name": "stderr",
     "output_type": "stream",
     "text": [
      "\r",
      "Training:  32%|███▎      | 13/40 [5:30:51<10:37:59, 1417.75s/epoch]"
     ]
    },
    {
     "name": "stderr",
     "output_type": "stream",
     "text": [
      "\r",
      "                                                                   "
     ]
    },
    {
     "name": "stderr",
     "output_type": "stream",
     "text": [
      "\r"
     ]
    },
    {
     "name": "stderr",
     "output_type": "stream",
     "text": [
      "\r",
      "Training:  32%|███▎      | 13/40 [5:30:51<10:37:59, 1417.75s/epoch]"
     ]
    },
    {
     "name": "stderr",
     "output_type": "stream",
     "text": [
      "\r",
      "Training:  35%|███▌      | 14/40 [5:30:51<10:14:21, 1417.77s/epoch]"
     ]
    },
    {
     "name": "stdout",
     "output_type": "stream",
     "text": [
      "  Train => MSE=0.1328, CI=0.9114, Pearson=0.9075\n",
      "  Test  => MSE=0.1793, CI=0.8957, Pearson=0.8710\n",
      "Checkpoint saved at epoch 224\n",
      "Deleted previous checkpoint: /kaggle/working/TrainingModelNLB/model_epoch223.pt\n"
     ]
    },
    {
     "name": "stderr",
     "output_type": "stream",
     "text": [
      "\r",
      "                                                                   "
     ]
    },
    {
     "name": "stderr",
     "output_type": "stream",
     "text": [
      "\r"
     ]
    },
    {
     "name": "stderr",
     "output_type": "stream",
     "text": [
      "\r",
      "Training:  35%|███▌      | 14/40 [5:38:48<10:14:21, 1417.77s/epoch]"
     ]
    },
    {
     "name": "stdout",
     "output_type": "stream",
     "text": [
      "[Epoch 225/250] Training Loss: 0.2069\n"
     ]
    },
    {
     "name": "stderr",
     "output_type": "stream",
     "text": [
      "\r",
      "                                                                   "
     ]
    },
    {
     "name": "stderr",
     "output_type": "stream",
     "text": [
      "\r"
     ]
    },
    {
     "name": "stderr",
     "output_type": "stream",
     "text": [
      "\r",
      "Training:  35%|███▌      | 14/40 [5:54:29<10:14:21, 1417.77s/epoch]"
     ]
    },
    {
     "name": "stderr",
     "output_type": "stream",
     "text": [
      "\r",
      "                                                                   "
     ]
    },
    {
     "name": "stderr",
     "output_type": "stream",
     "text": [
      "\r"
     ]
    },
    {
     "name": "stderr",
     "output_type": "stream",
     "text": [
      "\r",
      "Training:  35%|███▌      | 14/40 [5:54:29<10:14:21, 1417.77s/epoch]"
     ]
    },
    {
     "name": "stderr",
     "output_type": "stream",
     "text": [
      "\r",
      "                                                                   "
     ]
    },
    {
     "name": "stderr",
     "output_type": "stream",
     "text": [
      "\r"
     ]
    },
    {
     "name": "stderr",
     "output_type": "stream",
     "text": [
      "\r",
      "Training:  35%|███▌      | 14/40 [5:54:29<10:14:21, 1417.77s/epoch]"
     ]
    },
    {
     "name": "stderr",
     "output_type": "stream",
     "text": [
      "\r",
      "                                                                   "
     ]
    },
    {
     "name": "stderr",
     "output_type": "stream",
     "text": [
      "\r"
     ]
    },
    {
     "name": "stderr",
     "output_type": "stream",
     "text": [
      "\r",
      "Training:  35%|███▌      | 14/40 [5:54:29<10:14:21, 1417.77s/epoch]"
     ]
    },
    {
     "name": "stderr",
     "output_type": "stream",
     "text": [
      "\r",
      "Training:  38%|███▊      | 15/40 [5:54:29<9:50:44, 1417.79s/epoch] "
     ]
    },
    {
     "name": "stdout",
     "output_type": "stream",
     "text": [
      "  Train => MSE=0.1308, CI=0.9147, Pearson=0.9098\n",
      "  Test  => MSE=0.1892, CI=0.8927, Pearson=0.8648\n",
      "Checkpoint saved at epoch 225\n",
      "Deleted previous checkpoint: /kaggle/working/TrainingModelNLB/model_epoch224.pt\n"
     ]
    },
    {
     "name": "stderr",
     "output_type": "stream",
     "text": [
      "\r",
      "                                                                  "
     ]
    },
    {
     "name": "stderr",
     "output_type": "stream",
     "text": [
      "\r"
     ]
    },
    {
     "name": "stderr",
     "output_type": "stream",
     "text": [
      "\r",
      "Training:  38%|███▊      | 15/40 [6:02:27<9:50:44, 1417.79s/epoch]"
     ]
    },
    {
     "name": "stdout",
     "output_type": "stream",
     "text": [
      "[Epoch 226/250] Training Loss: 0.2011\n"
     ]
    },
    {
     "name": "stderr",
     "output_type": "stream",
     "text": [
      "\r",
      "                                                                  "
     ]
    },
    {
     "name": "stderr",
     "output_type": "stream",
     "text": [
      "\r"
     ]
    },
    {
     "name": "stderr",
     "output_type": "stream",
     "text": [
      "\r",
      "Training:  38%|███▊      | 15/40 [6:18:08<9:50:44, 1417.79s/epoch]"
     ]
    },
    {
     "name": "stderr",
     "output_type": "stream",
     "text": [
      "\r",
      "                                                                  "
     ]
    },
    {
     "name": "stderr",
     "output_type": "stream",
     "text": [
      "\r"
     ]
    },
    {
     "name": "stderr",
     "output_type": "stream",
     "text": [
      "\r",
      "Training:  38%|███▊      | 15/40 [6:18:08<9:50:44, 1417.79s/epoch]"
     ]
    },
    {
     "name": "stderr",
     "output_type": "stream",
     "text": [
      "\r",
      "                                                                  "
     ]
    },
    {
     "name": "stderr",
     "output_type": "stream",
     "text": [
      "\r"
     ]
    },
    {
     "name": "stderr",
     "output_type": "stream",
     "text": [
      "\r",
      "Training:  38%|███▊      | 15/40 [6:18:08<9:50:44, 1417.79s/epoch]"
     ]
    },
    {
     "name": "stderr",
     "output_type": "stream",
     "text": [
      "\r",
      "                                                                  "
     ]
    },
    {
     "name": "stderr",
     "output_type": "stream",
     "text": [
      "\r"
     ]
    },
    {
     "name": "stderr",
     "output_type": "stream",
     "text": [
      "\r",
      "Training:  38%|███▊      | 15/40 [6:18:08<9:50:44, 1417.79s/epoch]"
     ]
    },
    {
     "name": "stderr",
     "output_type": "stream",
     "text": [
      "\r",
      "Training:  40%|████      | 16/40 [6:18:08<9:27:15, 1418.16s/epoch]"
     ]
    },
    {
     "name": "stdout",
     "output_type": "stream",
     "text": [
      "  Train => MSE=0.1251, CI=0.9094, Pearson=0.9127\n",
      "  Test  => MSE=0.1843, CI=0.8872, Pearson=0.8681\n",
      "Checkpoint saved at epoch 226\n",
      "Deleted previous checkpoint: /kaggle/working/TrainingModelNLB/model_epoch225.pt\n"
     ]
    },
    {
     "name": "stderr",
     "output_type": "stream",
     "text": [
      "\r",
      "                                                                  "
     ]
    },
    {
     "name": "stderr",
     "output_type": "stream",
     "text": [
      "\r"
     ]
    },
    {
     "name": "stderr",
     "output_type": "stream",
     "text": [
      "\r",
      "Training:  40%|████      | 16/40 [6:26:05<9:27:15, 1418.16s/epoch]"
     ]
    },
    {
     "name": "stdout",
     "output_type": "stream",
     "text": [
      "[Epoch 227/250] Training Loss: 0.1966\n"
     ]
    },
    {
     "name": "stderr",
     "output_type": "stream",
     "text": [
      "\r",
      "                                                                  "
     ]
    },
    {
     "name": "stderr",
     "output_type": "stream",
     "text": [
      "\r"
     ]
    },
    {
     "name": "stderr",
     "output_type": "stream",
     "text": [
      "\r",
      "Training:  40%|████      | 16/40 [6:41:46<9:27:15, 1418.16s/epoch]"
     ]
    },
    {
     "name": "stderr",
     "output_type": "stream",
     "text": [
      "\r",
      "                                                                  "
     ]
    },
    {
     "name": "stderr",
     "output_type": "stream",
     "text": [
      "\r"
     ]
    },
    {
     "name": "stderr",
     "output_type": "stream",
     "text": [
      "\r",
      "Training:  40%|████      | 16/40 [6:41:46<9:27:15, 1418.16s/epoch]"
     ]
    },
    {
     "name": "stderr",
     "output_type": "stream",
     "text": [
      "\r",
      "                                                                  "
     ]
    },
    {
     "name": "stderr",
     "output_type": "stream",
     "text": [
      "\r"
     ]
    },
    {
     "name": "stderr",
     "output_type": "stream",
     "text": [
      "\r",
      "Training:  40%|████      | 16/40 [6:41:46<9:27:15, 1418.16s/epoch]"
     ]
    },
    {
     "name": "stderr",
     "output_type": "stream",
     "text": [
      "\r",
      "                                                                  "
     ]
    },
    {
     "name": "stderr",
     "output_type": "stream",
     "text": [
      "\r"
     ]
    },
    {
     "name": "stderr",
     "output_type": "stream",
     "text": [
      "\r",
      "Training:  40%|████      | 16/40 [6:41:46<9:27:15, 1418.16s/epoch]"
     ]
    },
    {
     "name": "stderr",
     "output_type": "stream",
     "text": [
      "\r",
      "Training:  42%|████▎     | 17/40 [6:41:46<9:03:39, 1418.25s/epoch]"
     ]
    },
    {
     "name": "stdout",
     "output_type": "stream",
     "text": [
      "  Train => MSE=0.1328, CI=0.9097, Pearson=0.9080\n",
      "  Test  => MSE=0.1873, CI=0.8886, Pearson=0.8653\n",
      "Checkpoint saved at epoch 227\n",
      "Deleted previous checkpoint: /kaggle/working/TrainingModelNLB/model_epoch226.pt\n"
     ]
    },
    {
     "name": "stderr",
     "output_type": "stream",
     "text": [
      "\r",
      "                                                                  "
     ]
    },
    {
     "name": "stderr",
     "output_type": "stream",
     "text": [
      "\r"
     ]
    },
    {
     "name": "stderr",
     "output_type": "stream",
     "text": [
      "\r",
      "Training:  42%|████▎     | 17/40 [6:49:45<9:03:39, 1418.25s/epoch]"
     ]
    },
    {
     "name": "stdout",
     "output_type": "stream",
     "text": [
      "[Epoch 228/250] Training Loss: 0.1999\n"
     ]
    },
    {
     "name": "stderr",
     "output_type": "stream",
     "text": [
      "\r",
      "                                                                  "
     ]
    },
    {
     "name": "stderr",
     "output_type": "stream",
     "text": [
      "\r"
     ]
    },
    {
     "name": "stderr",
     "output_type": "stream",
     "text": [
      "\r",
      "Training:  42%|████▎     | 17/40 [7:05:27<9:03:39, 1418.25s/epoch]"
     ]
    },
    {
     "name": "stderr",
     "output_type": "stream",
     "text": [
      "\r",
      "                                                                  "
     ]
    },
    {
     "name": "stderr",
     "output_type": "stream",
     "text": [
      "\r"
     ]
    },
    {
     "name": "stderr",
     "output_type": "stream",
     "text": [
      "\r",
      "Training:  42%|████▎     | 17/40 [7:05:27<9:03:39, 1418.25s/epoch]"
     ]
    },
    {
     "name": "stderr",
     "output_type": "stream",
     "text": [
      "\r",
      "                                                                  "
     ]
    },
    {
     "name": "stderr",
     "output_type": "stream",
     "text": [
      "\r"
     ]
    },
    {
     "name": "stderr",
     "output_type": "stream",
     "text": [
      "\r",
      "Training:  42%|████▎     | 17/40 [7:05:27<9:03:39, 1418.25s/epoch]"
     ]
    },
    {
     "name": "stderr",
     "output_type": "stream",
     "text": [
      "\r",
      "                                                                  "
     ]
    },
    {
     "name": "stderr",
     "output_type": "stream",
     "text": [
      "\r"
     ]
    },
    {
     "name": "stderr",
     "output_type": "stream",
     "text": [
      "\r",
      "Training:  42%|████▎     | 17/40 [7:05:27<9:03:39, 1418.25s/epoch]"
     ]
    },
    {
     "name": "stderr",
     "output_type": "stream",
     "text": [
      "\r",
      "Training:  45%|████▌     | 18/40 [7:05:27<8:40:17, 1418.96s/epoch]"
     ]
    },
    {
     "name": "stdout",
     "output_type": "stream",
     "text": [
      "  Train => MSE=0.1388, CI=0.9090, Pearson=0.9028\n",
      "  Test  => MSE=0.1917, CI=0.8908, Pearson=0.8611\n",
      "Checkpoint saved at epoch 228\n",
      "Deleted previous checkpoint: /kaggle/working/TrainingModelNLB/model_epoch227.pt\n"
     ]
    },
    {
     "name": "stderr",
     "output_type": "stream",
     "text": [
      "\r",
      "                                                                  "
     ]
    },
    {
     "name": "stderr",
     "output_type": "stream",
     "text": [
      "\r"
     ]
    },
    {
     "name": "stderr",
     "output_type": "stream",
     "text": [
      "\r",
      "Training:  45%|████▌     | 18/40 [7:13:24<8:40:17, 1418.96s/epoch]"
     ]
    },
    {
     "name": "stdout",
     "output_type": "stream",
     "text": [
      "[Epoch 229/250] Training Loss: 0.2009\n"
     ]
    },
    {
     "name": "stderr",
     "output_type": "stream",
     "text": [
      "\r",
      "                                                                  "
     ]
    },
    {
     "name": "stderr",
     "output_type": "stream",
     "text": [
      "\r"
     ]
    },
    {
     "name": "stderr",
     "output_type": "stream",
     "text": [
      "\r",
      "Training:  45%|████▌     | 18/40 [7:29:04<8:40:17, 1418.96s/epoch]"
     ]
    },
    {
     "name": "stderr",
     "output_type": "stream",
     "text": [
      "\r",
      "                                                                  "
     ]
    },
    {
     "name": "stderr",
     "output_type": "stream",
     "text": [
      "\r"
     ]
    },
    {
     "name": "stderr",
     "output_type": "stream",
     "text": [
      "\r",
      "Training:  45%|████▌     | 18/40 [7:29:04<8:40:17, 1418.96s/epoch]"
     ]
    },
    {
     "name": "stderr",
     "output_type": "stream",
     "text": [
      "\r",
      "                                                                  "
     ]
    },
    {
     "name": "stderr",
     "output_type": "stream",
     "text": [
      "\r"
     ]
    },
    {
     "name": "stderr",
     "output_type": "stream",
     "text": [
      "\r",
      "Training:  45%|████▌     | 18/40 [7:29:04<8:40:17, 1418.96s/epoch]"
     ]
    },
    {
     "name": "stderr",
     "output_type": "stream",
     "text": [
      "\r",
      "                                                                  "
     ]
    },
    {
     "name": "stderr",
     "output_type": "stream",
     "text": [
      "\r"
     ]
    },
    {
     "name": "stderr",
     "output_type": "stream",
     "text": [
      "\r",
      "Training:  45%|████▌     | 18/40 [7:29:04<8:40:17, 1418.96s/epoch]"
     ]
    },
    {
     "name": "stderr",
     "output_type": "stream",
     "text": [
      "\r",
      "Training:  48%|████▊     | 19/40 [7:29:04<8:16:23, 1418.25s/epoch]"
     ]
    },
    {
     "name": "stdout",
     "output_type": "stream",
     "text": [
      "  Train => MSE=0.1294, CI=0.9153, Pearson=0.9101\n",
      "  Test  => MSE=0.1915, CI=0.8931, Pearson=0.8642\n",
      "Checkpoint saved at epoch 229\n",
      "Deleted previous checkpoint: /kaggle/working/TrainingModelNLB/model_epoch228.pt\n"
     ]
    },
    {
     "name": "stderr",
     "output_type": "stream",
     "text": [
      "\r",
      "                                                                  "
     ]
    },
    {
     "name": "stderr",
     "output_type": "stream",
     "text": [
      "\r"
     ]
    },
    {
     "name": "stderr",
     "output_type": "stream",
     "text": [
      "\r",
      "Training:  48%|████▊     | 19/40 [7:37:02<8:16:23, 1418.25s/epoch]"
     ]
    },
    {
     "name": "stdout",
     "output_type": "stream",
     "text": [
      "[Epoch 230/250] Training Loss: 0.1987\n"
     ]
    },
    {
     "name": "stderr",
     "output_type": "stream",
     "text": [
      "\r",
      "                                                                  "
     ]
    },
    {
     "name": "stderr",
     "output_type": "stream",
     "text": [
      "\r"
     ]
    },
    {
     "name": "stderr",
     "output_type": "stream",
     "text": [
      "\r",
      "Training:  48%|████▊     | 19/40 [7:52:42<8:16:23, 1418.25s/epoch]"
     ]
    },
    {
     "name": "stderr",
     "output_type": "stream",
     "text": [
      "\r",
      "                                                                  "
     ]
    },
    {
     "name": "stderr",
     "output_type": "stream",
     "text": [
      "\r"
     ]
    },
    {
     "name": "stderr",
     "output_type": "stream",
     "text": [
      "\r",
      "Training:  48%|████▊     | 19/40 [7:52:42<8:16:23, 1418.25s/epoch]"
     ]
    },
    {
     "name": "stderr",
     "output_type": "stream",
     "text": [
      "\r",
      "                                                                  "
     ]
    },
    {
     "name": "stderr",
     "output_type": "stream",
     "text": [
      "\r"
     ]
    },
    {
     "name": "stderr",
     "output_type": "stream",
     "text": [
      "\r",
      "Training:  48%|████▊     | 19/40 [7:52:42<8:16:23, 1418.25s/epoch]"
     ]
    },
    {
     "name": "stderr",
     "output_type": "stream",
     "text": [
      "\r",
      "                                                                  "
     ]
    },
    {
     "name": "stderr",
     "output_type": "stream",
     "text": [
      "\r"
     ]
    },
    {
     "name": "stderr",
     "output_type": "stream",
     "text": [
      "\r",
      "Training:  48%|████▊     | 19/40 [7:52:42<8:16:23, 1418.25s/epoch]"
     ]
    },
    {
     "name": "stderr",
     "output_type": "stream",
     "text": [
      "\r",
      "Training:  50%|█████     | 20/40 [7:52:42<7:52:48, 1418.42s/epoch]"
     ]
    },
    {
     "name": "stdout",
     "output_type": "stream",
     "text": [
      "  Train => MSE=0.1299, CI=0.9112, Pearson=0.9133\n",
      "  Test  => MSE=0.1905, CI=0.8892, Pearson=0.8661\n",
      "Checkpoint saved at epoch 230\n",
      "Deleted previous checkpoint: /kaggle/working/TrainingModelNLB/model_epoch229.pt\n"
     ]
    },
    {
     "name": "stderr",
     "output_type": "stream",
     "text": [
      "\r",
      "                                                                  "
     ]
    },
    {
     "name": "stderr",
     "output_type": "stream",
     "text": [
      "\r"
     ]
    },
    {
     "name": "stderr",
     "output_type": "stream",
     "text": [
      "\r",
      "Training:  50%|█████     | 20/40 [8:00:40<7:52:48, 1418.42s/epoch]"
     ]
    },
    {
     "name": "stdout",
     "output_type": "stream",
     "text": [
      "[Epoch 231/250] Training Loss: 0.1927\n"
     ]
    },
    {
     "name": "stderr",
     "output_type": "stream",
     "text": [
      "\r",
      "                                                                  "
     ]
    },
    {
     "name": "stderr",
     "output_type": "stream",
     "text": [
      "\r"
     ]
    },
    {
     "name": "stderr",
     "output_type": "stream",
     "text": [
      "\r",
      "Training:  50%|█████     | 20/40 [8:16:21<7:52:48, 1418.42s/epoch]"
     ]
    },
    {
     "name": "stderr",
     "output_type": "stream",
     "text": [
      "\r",
      "                                                                  "
     ]
    },
    {
     "name": "stderr",
     "output_type": "stream",
     "text": [
      "\r"
     ]
    },
    {
     "name": "stderr",
     "output_type": "stream",
     "text": [
      "\r",
      "Training:  50%|█████     | 20/40 [8:16:21<7:52:48, 1418.42s/epoch]"
     ]
    },
    {
     "name": "stderr",
     "output_type": "stream",
     "text": [
      "\r",
      "                                                                  "
     ]
    },
    {
     "name": "stderr",
     "output_type": "stream",
     "text": [
      "\r"
     ]
    },
    {
     "name": "stderr",
     "output_type": "stream",
     "text": [
      "\r",
      "Training:  50%|█████     | 20/40 [8:16:22<7:52:48, 1418.42s/epoch]"
     ]
    },
    {
     "name": "stderr",
     "output_type": "stream",
     "text": [
      "\r",
      "                                                                  "
     ]
    },
    {
     "name": "stderr",
     "output_type": "stream",
     "text": [
      "\r"
     ]
    },
    {
     "name": "stderr",
     "output_type": "stream",
     "text": [
      "\r",
      "Training:  50%|█████     | 20/40 [8:16:22<7:52:48, 1418.42s/epoch]"
     ]
    },
    {
     "name": "stderr",
     "output_type": "stream",
     "text": [
      "\r",
      "Training:  52%|█████▎    | 21/40 [8:16:22<7:29:13, 1418.60s/epoch]"
     ]
    },
    {
     "name": "stdout",
     "output_type": "stream",
     "text": [
      "  Train => MSE=0.1239, CI=0.9108, Pearson=0.9142\n",
      "  Test  => MSE=0.1875, CI=0.8877, Pearson=0.8667\n",
      "Checkpoint saved at epoch 231\n",
      "Deleted previous checkpoint: /kaggle/working/TrainingModelNLB/model_epoch230.pt\n"
     ]
    },
    {
     "name": "stderr",
     "output_type": "stream",
     "text": [
      "\r",
      "                                                                  "
     ]
    },
    {
     "name": "stderr",
     "output_type": "stream",
     "text": [
      "\r"
     ]
    },
    {
     "name": "stderr",
     "output_type": "stream",
     "text": [
      "\r",
      "Training:  52%|█████▎    | 21/40 [8:24:20<7:29:13, 1418.60s/epoch]"
     ]
    },
    {
     "name": "stdout",
     "output_type": "stream",
     "text": [
      "[Epoch 232/250] Training Loss: 0.1967\n"
     ]
    },
    {
     "name": "stderr",
     "output_type": "stream",
     "text": [
      "\r",
      "                                                                  "
     ]
    },
    {
     "name": "stderr",
     "output_type": "stream",
     "text": [
      "\r"
     ]
    },
    {
     "name": "stderr",
     "output_type": "stream",
     "text": [
      "\r",
      "Training:  52%|█████▎    | 21/40 [8:40:01<7:29:13, 1418.60s/epoch]"
     ]
    },
    {
     "name": "stderr",
     "output_type": "stream",
     "text": [
      "\r",
      "                                                                  "
     ]
    },
    {
     "name": "stderr",
     "output_type": "stream",
     "text": [
      "\r"
     ]
    },
    {
     "name": "stderr",
     "output_type": "stream",
     "text": [
      "\r",
      "Training:  52%|█████▎    | 21/40 [8:40:01<7:29:13, 1418.60s/epoch]"
     ]
    },
    {
     "name": "stderr",
     "output_type": "stream",
     "text": [
      "\r",
      "                                                                  "
     ]
    },
    {
     "name": "stderr",
     "output_type": "stream",
     "text": [
      "\r"
     ]
    },
    {
     "name": "stderr",
     "output_type": "stream",
     "text": [
      "\r",
      "Training:  52%|█████▎    | 21/40 [8:40:01<7:29:13, 1418.60s/epoch]"
     ]
    },
    {
     "name": "stderr",
     "output_type": "stream",
     "text": [
      "\r",
      "                                                                  "
     ]
    },
    {
     "name": "stderr",
     "output_type": "stream",
     "text": [
      "\r"
     ]
    },
    {
     "name": "stderr",
     "output_type": "stream",
     "text": [
      "\r",
      "Training:  52%|█████▎    | 21/40 [8:40:01<7:29:13, 1418.60s/epoch]"
     ]
    },
    {
     "name": "stderr",
     "output_type": "stream",
     "text": [
      "\r",
      "Training:  55%|█████▌    | 22/40 [8:40:01<7:05:40, 1418.92s/epoch]"
     ]
    },
    {
     "name": "stdout",
     "output_type": "stream",
     "text": [
      "  Train => MSE=0.1259, CI=0.9129, Pearson=0.9119\n",
      "  Test  => MSE=0.1915, CI=0.8885, Pearson=0.8616\n",
      "Checkpoint saved at epoch 232\n",
      "Deleted previous checkpoint: /kaggle/working/TrainingModelNLB/model_epoch231.pt\n"
     ]
    },
    {
     "name": "stderr",
     "output_type": "stream",
     "text": [
      "\r",
      "                                                                  "
     ]
    },
    {
     "name": "stderr",
     "output_type": "stream",
     "text": [
      "\r"
     ]
    },
    {
     "name": "stderr",
     "output_type": "stream",
     "text": [
      "\r",
      "Training:  55%|█████▌    | 22/40 [8:47:58<7:05:40, 1418.92s/epoch]"
     ]
    },
    {
     "name": "stdout",
     "output_type": "stream",
     "text": [
      "[Epoch 233/250] Training Loss: 0.1920\n"
     ]
    },
    {
     "name": "stderr",
     "output_type": "stream",
     "text": [
      "\r",
      "                                                                  "
     ]
    },
    {
     "name": "stderr",
     "output_type": "stream",
     "text": [
      "\r"
     ]
    },
    {
     "name": "stderr",
     "output_type": "stream",
     "text": [
      "\r",
      "Training:  55%|█████▌    | 22/40 [9:03:39<7:05:40, 1418.92s/epoch]"
     ]
    },
    {
     "name": "stderr",
     "output_type": "stream",
     "text": [
      "\r",
      "                                                                  "
     ]
    },
    {
     "name": "stderr",
     "output_type": "stream",
     "text": [
      "\r"
     ]
    },
    {
     "name": "stderr",
     "output_type": "stream",
     "text": [
      "\r",
      "Training:  55%|█████▌    | 22/40 [9:03:39<7:05:40, 1418.92s/epoch]"
     ]
    },
    {
     "name": "stderr",
     "output_type": "stream",
     "text": [
      "\r",
      "                                                                  "
     ]
    },
    {
     "name": "stderr",
     "output_type": "stream",
     "text": [
      "\r"
     ]
    },
    {
     "name": "stderr",
     "output_type": "stream",
     "text": [
      "\r",
      "Training:  55%|█████▌    | 22/40 [9:03:39<7:05:40, 1418.92s/epoch]"
     ]
    },
    {
     "name": "stderr",
     "output_type": "stream",
     "text": [
      "\r",
      "                                                                  "
     ]
    },
    {
     "name": "stderr",
     "output_type": "stream",
     "text": [
      "\r"
     ]
    },
    {
     "name": "stderr",
     "output_type": "stream",
     "text": [
      "\r",
      "Training:  55%|█████▌    | 22/40 [9:03:39<7:05:40, 1418.92s/epoch]"
     ]
    },
    {
     "name": "stderr",
     "output_type": "stream",
     "text": [
      "\r",
      "Training:  57%|█████▊    | 23/40 [9:03:39<6:41:55, 1418.55s/epoch]"
     ]
    },
    {
     "name": "stdout",
     "output_type": "stream",
     "text": [
      "  Train => MSE=0.1200, CI=0.9157, Pearson=0.9173\n",
      "  Test  => MSE=0.1865, CI=0.8916, Pearson=0.8667\n",
      "Checkpoint saved at epoch 233\n",
      "Deleted previous checkpoint: /kaggle/working/TrainingModelNLB/model_epoch232.pt\n"
     ]
    },
    {
     "name": "stderr",
     "output_type": "stream",
     "text": [
      "\r",
      "                                                                  "
     ]
    },
    {
     "name": "stderr",
     "output_type": "stream",
     "text": [
      "\r"
     ]
    },
    {
     "name": "stderr",
     "output_type": "stream",
     "text": [
      "\r",
      "Training:  57%|█████▊    | 23/40 [9:11:36<6:41:55, 1418.55s/epoch]"
     ]
    },
    {
     "name": "stdout",
     "output_type": "stream",
     "text": [
      "[Epoch 234/250] Training Loss: 0.1942\n"
     ]
    },
    {
     "name": "stderr",
     "output_type": "stream",
     "text": [
      "\r",
      "                                                                  "
     ]
    },
    {
     "name": "stderr",
     "output_type": "stream",
     "text": [
      "\r"
     ]
    },
    {
     "name": "stderr",
     "output_type": "stream",
     "text": [
      "\r",
      "Training:  57%|█████▊    | 23/40 [9:27:16<6:41:55, 1418.55s/epoch]"
     ]
    },
    {
     "name": "stderr",
     "output_type": "stream",
     "text": [
      "\r",
      "                                                                  "
     ]
    },
    {
     "name": "stderr",
     "output_type": "stream",
     "text": [
      "\r"
     ]
    },
    {
     "name": "stderr",
     "output_type": "stream",
     "text": [
      "\r",
      "Training:  57%|█████▊    | 23/40 [9:27:16<6:41:55, 1418.55s/epoch]"
     ]
    },
    {
     "name": "stderr",
     "output_type": "stream",
     "text": [
      "\r",
      "                                                                  "
     ]
    },
    {
     "name": "stderr",
     "output_type": "stream",
     "text": [
      "\r"
     ]
    },
    {
     "name": "stderr",
     "output_type": "stream",
     "text": [
      "\r",
      "Training:  57%|█████▊    | 23/40 [9:27:16<6:41:55, 1418.55s/epoch]"
     ]
    },
    {
     "name": "stderr",
     "output_type": "stream",
     "text": [
      "\r",
      "                                                                  "
     ]
    },
    {
     "name": "stderr",
     "output_type": "stream",
     "text": [
      "\r"
     ]
    },
    {
     "name": "stderr",
     "output_type": "stream",
     "text": [
      "\r",
      "Training:  57%|█████▊    | 23/40 [9:27:16<6:41:55, 1418.55s/epoch]"
     ]
    },
    {
     "name": "stderr",
     "output_type": "stream",
     "text": [
      "\r",
      "Training:  60%|██████    | 24/40 [9:27:16<6:18:09, 1418.11s/epoch]"
     ]
    },
    {
     "name": "stdout",
     "output_type": "stream",
     "text": [
      "  Train => MSE=0.1185, CI=0.9152, Pearson=0.9195\n",
      "  Test  => MSE=0.1854, CI=0.8888, Pearson=0.8684\n",
      "Checkpoint saved at epoch 234\n",
      "Deleted previous checkpoint: /kaggle/working/TrainingModelNLB/model_epoch233.pt\n"
     ]
    },
    {
     "name": "stderr",
     "output_type": "stream",
     "text": [
      "\r",
      "                                                                  "
     ]
    },
    {
     "name": "stderr",
     "output_type": "stream",
     "text": [
      "\r"
     ]
    },
    {
     "name": "stderr",
     "output_type": "stream",
     "text": [
      "\r",
      "Training:  60%|██████    | 24/40 [9:35:13<6:18:09, 1418.11s/epoch]"
     ]
    },
    {
     "name": "stdout",
     "output_type": "stream",
     "text": [
      "[Epoch 235/250] Training Loss: 0.1933\n"
     ]
    },
    {
     "name": "stderr",
     "output_type": "stream",
     "text": [
      "\r",
      "                                                                  "
     ]
    },
    {
     "name": "stderr",
     "output_type": "stream",
     "text": [
      "\r"
     ]
    },
    {
     "name": "stderr",
     "output_type": "stream",
     "text": [
      "\r",
      "Training:  60%|██████    | 24/40 [9:50:54<6:18:09, 1418.11s/epoch]"
     ]
    },
    {
     "name": "stderr",
     "output_type": "stream",
     "text": [
      "\r",
      "                                                                  "
     ]
    },
    {
     "name": "stderr",
     "output_type": "stream",
     "text": [
      "\r"
     ]
    },
    {
     "name": "stderr",
     "output_type": "stream",
     "text": [
      "\r",
      "Training:  60%|██████    | 24/40 [9:50:54<6:18:09, 1418.11s/epoch]"
     ]
    },
    {
     "name": "stderr",
     "output_type": "stream",
     "text": [
      "\r",
      "                                                                  "
     ]
    },
    {
     "name": "stderr",
     "output_type": "stream",
     "text": [
      "\r"
     ]
    },
    {
     "name": "stderr",
     "output_type": "stream",
     "text": [
      "\r",
      "Training:  60%|██████    | 24/40 [9:50:54<6:18:09, 1418.11s/epoch]"
     ]
    },
    {
     "name": "stderr",
     "output_type": "stream",
     "text": [
      "\r",
      "                                                                  "
     ]
    },
    {
     "name": "stderr",
     "output_type": "stream",
     "text": [
      "\r"
     ]
    },
    {
     "name": "stderr",
     "output_type": "stream",
     "text": [
      "\r",
      "Training:  60%|██████    | 24/40 [9:50:54<6:18:09, 1418.11s/epoch]"
     ]
    },
    {
     "name": "stderr",
     "output_type": "stream",
     "text": [
      "\r",
      "Training:  62%|██████▎   | 25/40 [9:50:54<5:54:30, 1418.00s/epoch]"
     ]
    },
    {
     "name": "stdout",
     "output_type": "stream",
     "text": [
      "  Train => MSE=0.1321, CI=0.9187, Pearson=0.9187\n",
      "  Test  => MSE=0.1936, CI=0.8954, Pearson=0.8699\n",
      "Checkpoint saved at epoch 235\n",
      "Deleted previous checkpoint: /kaggle/working/TrainingModelNLB/model_epoch234.pt\n"
     ]
    },
    {
     "name": "stderr",
     "output_type": "stream",
     "text": [
      "\r",
      "                                                                  "
     ]
    },
    {
     "name": "stderr",
     "output_type": "stream",
     "text": [
      "\r"
     ]
    },
    {
     "name": "stderr",
     "output_type": "stream",
     "text": [
      "\r",
      "Training:  62%|██████▎   | 25/40 [9:58:51<5:54:30, 1418.00s/epoch]"
     ]
    },
    {
     "name": "stdout",
     "output_type": "stream",
     "text": [
      "[Epoch 236/250] Training Loss: 0.1916\n"
     ]
    },
    {
     "name": "stderr",
     "output_type": "stream",
     "text": [
      "\r",
      "                                                                  "
     ]
    },
    {
     "name": "stderr",
     "output_type": "stream",
     "text": [
      "\r"
     ]
    },
    {
     "name": "stderr",
     "output_type": "stream",
     "text": [
      "\r",
      "Training:  62%|██████▎   | 25/40 [10:14:31<5:54:30, 1418.00s/epoch]"
     ]
    },
    {
     "name": "stderr",
     "output_type": "stream",
     "text": [
      "\r",
      "                                                                   "
     ]
    },
    {
     "name": "stderr",
     "output_type": "stream",
     "text": [
      "\r"
     ]
    },
    {
     "name": "stderr",
     "output_type": "stream",
     "text": [
      "\r",
      "Training:  62%|██████▎   | 25/40 [10:14:31<5:54:30, 1418.00s/epoch]"
     ]
    },
    {
     "name": "stderr",
     "output_type": "stream",
     "text": [
      "\r",
      "                                                                   "
     ]
    },
    {
     "name": "stderr",
     "output_type": "stream",
     "text": [
      "\r"
     ]
    },
    {
     "name": "stderr",
     "output_type": "stream",
     "text": [
      "\r",
      "Training:  62%|██████▎   | 25/40 [10:14:31<5:54:30, 1418.00s/epoch]"
     ]
    },
    {
     "name": "stderr",
     "output_type": "stream",
     "text": [
      "\r",
      "                                                                   "
     ]
    },
    {
     "name": "stderr",
     "output_type": "stream",
     "text": [
      "\r"
     ]
    },
    {
     "name": "stderr",
     "output_type": "stream",
     "text": [
      "\r",
      "Training:  62%|██████▎   | 25/40 [10:14:31<5:54:30, 1418.00s/epoch]"
     ]
    },
    {
     "name": "stderr",
     "output_type": "stream",
     "text": [
      "\r",
      "Training:  65%|██████▌   | 26/40 [10:14:31<5:30:50, 1417.91s/epoch]"
     ]
    },
    {
     "name": "stdout",
     "output_type": "stream",
     "text": [
      "  Train => MSE=0.1153, CI=0.9167, Pearson=0.9199\n",
      "  Test  => MSE=0.1827, CI=0.8895, Pearson=0.8683\n",
      "Checkpoint saved at epoch 236\n",
      "Deleted previous checkpoint: /kaggle/working/TrainingModelNLB/model_epoch235.pt\n"
     ]
    },
    {
     "name": "stderr",
     "output_type": "stream",
     "text": [
      "\r",
      "                                                                   "
     ]
    },
    {
     "name": "stderr",
     "output_type": "stream",
     "text": [
      "\r"
     ]
    },
    {
     "name": "stderr",
     "output_type": "stream",
     "text": [
      "\r",
      "Training:  65%|██████▌   | 26/40 [10:22:29<5:30:50, 1417.91s/epoch]"
     ]
    },
    {
     "name": "stdout",
     "output_type": "stream",
     "text": [
      "[Epoch 237/250] Training Loss: 0.1924\n"
     ]
    },
    {
     "name": "stderr",
     "output_type": "stream",
     "text": [
      "\r",
      "                                                                   "
     ]
    },
    {
     "name": "stderr",
     "output_type": "stream",
     "text": [
      "\r"
     ]
    },
    {
     "name": "stderr",
     "output_type": "stream",
     "text": [
      "\r",
      "Training:  65%|██████▌   | 26/40 [10:38:09<5:30:50, 1417.91s/epoch]"
     ]
    },
    {
     "name": "stderr",
     "output_type": "stream",
     "text": [
      "\r",
      "                                                                   "
     ]
    },
    {
     "name": "stderr",
     "output_type": "stream",
     "text": [
      "\r"
     ]
    },
    {
     "name": "stderr",
     "output_type": "stream",
     "text": [
      "\r",
      "Training:  65%|██████▌   | 26/40 [10:38:09<5:30:50, 1417.91s/epoch]"
     ]
    },
    {
     "name": "stderr",
     "output_type": "stream",
     "text": [
      "\r",
      "                                                                   "
     ]
    },
    {
     "name": "stderr",
     "output_type": "stream",
     "text": [
      "\r"
     ]
    },
    {
     "name": "stderr",
     "output_type": "stream",
     "text": [
      "\r",
      "Training:  65%|██████▌   | 26/40 [10:38:10<5:30:50, 1417.91s/epoch]"
     ]
    },
    {
     "name": "stderr",
     "output_type": "stream",
     "text": [
      "\r",
      "                                                                   "
     ]
    },
    {
     "name": "stderr",
     "output_type": "stream",
     "text": [
      "\r"
     ]
    },
    {
     "name": "stderr",
     "output_type": "stream",
     "text": [
      "\r",
      "Training:  65%|██████▌   | 26/40 [10:38:10<5:30:50, 1417.91s/epoch]"
     ]
    },
    {
     "name": "stderr",
     "output_type": "stream",
     "text": [
      "\r",
      "Training:  68%|██████▊   | 27/40 [10:38:10<5:07:13, 1417.98s/epoch]"
     ]
    },
    {
     "name": "stdout",
     "output_type": "stream",
     "text": [
      "  Train => MSE=0.1346, CI=0.9135, Pearson=0.9114\n",
      "  Test  => MSE=0.1997, CI=0.8830, Pearson=0.8611\n",
      "Checkpoint saved at epoch 237\n",
      "Deleted previous checkpoint: /kaggle/working/TrainingModelNLB/model_epoch236.pt\n"
     ]
    },
    {
     "name": "stderr",
     "output_type": "stream",
     "text": [
      "\r",
      "                                                                   "
     ]
    },
    {
     "name": "stderr",
     "output_type": "stream",
     "text": [
      "\r"
     ]
    },
    {
     "name": "stderr",
     "output_type": "stream",
     "text": [
      "\r",
      "Training:  68%|██████▊   | 27/40 [10:46:07<5:07:13, 1417.98s/epoch]"
     ]
    },
    {
     "name": "stdout",
     "output_type": "stream",
     "text": [
      "[Epoch 238/250] Training Loss: 0.1917\n"
     ]
    },
    {
     "name": "stderr",
     "output_type": "stream",
     "text": [
      "\r",
      "                                                                   "
     ]
    },
    {
     "name": "stderr",
     "output_type": "stream",
     "text": [
      "\r"
     ]
    },
    {
     "name": "stderr",
     "output_type": "stream",
     "text": [
      "\r",
      "Training:  68%|██████▊   | 27/40 [11:01:49<5:07:13, 1417.98s/epoch]"
     ]
    },
    {
     "name": "stderr",
     "output_type": "stream",
     "text": [
      "\r",
      "                                                                   "
     ]
    },
    {
     "name": "stderr",
     "output_type": "stream",
     "text": [
      "\r"
     ]
    },
    {
     "name": "stderr",
     "output_type": "stream",
     "text": [
      "\r",
      "Training:  68%|██████▊   | 27/40 [11:01:49<5:07:13, 1417.98s/epoch]"
     ]
    },
    {
     "name": "stderr",
     "output_type": "stream",
     "text": [
      "\r",
      "                                                                   "
     ]
    },
    {
     "name": "stderr",
     "output_type": "stream",
     "text": [
      "\r"
     ]
    },
    {
     "name": "stderr",
     "output_type": "stream",
     "text": [
      "\r",
      "Training:  68%|██████▊   | 27/40 [11:01:49<5:07:13, 1417.98s/epoch]"
     ]
    },
    {
     "name": "stderr",
     "output_type": "stream",
     "text": [
      "\r",
      "                                                                   "
     ]
    },
    {
     "name": "stderr",
     "output_type": "stream",
     "text": [
      "\r"
     ]
    },
    {
     "name": "stderr",
     "output_type": "stream",
     "text": [
      "\r",
      "Training:  68%|██████▊   | 27/40 [11:01:49<5:07:13, 1417.98s/epoch]"
     ]
    },
    {
     "name": "stderr",
     "output_type": "stream",
     "text": [
      "\r",
      "Training:  70%|███████   | 28/40 [11:01:49<4:43:40, 1418.35s/epoch]"
     ]
    },
    {
     "name": "stdout",
     "output_type": "stream",
     "text": [
      "  Train => MSE=0.1138, CI=0.9160, Pearson=0.9209\n",
      "  Test  => MSE=0.1931, CI=0.8873, Pearson=0.8618\n",
      "Checkpoint saved at epoch 238\n",
      "Deleted previous checkpoint: /kaggle/working/TrainingModelNLB/model_epoch237.pt\n"
     ]
    },
    {
     "name": "stderr",
     "output_type": "stream",
     "text": [
      "\r",
      "                                                                   "
     ]
    },
    {
     "name": "stderr",
     "output_type": "stream",
     "text": [
      "\r"
     ]
    },
    {
     "name": "stderr",
     "output_type": "stream",
     "text": [
      "\r",
      "Training:  70%|███████   | 28/40 [11:09:46<4:43:40, 1418.35s/epoch]"
     ]
    },
    {
     "name": "stdout",
     "output_type": "stream",
     "text": [
      "[Epoch 239/250] Training Loss: 0.1902\n"
     ]
    },
    {
     "name": "stderr",
     "output_type": "stream",
     "text": [
      "\r",
      "                                                                   "
     ]
    },
    {
     "name": "stderr",
     "output_type": "stream",
     "text": [
      "\r"
     ]
    },
    {
     "name": "stderr",
     "output_type": "stream",
     "text": [
      "\r",
      "Training:  70%|███████   | 28/40 [11:25:26<4:43:40, 1418.35s/epoch]"
     ]
    },
    {
     "name": "stderr",
     "output_type": "stream",
     "text": [
      "\r",
      "                                                                   "
     ]
    },
    {
     "name": "stderr",
     "output_type": "stream",
     "text": [
      "\r"
     ]
    },
    {
     "name": "stderr",
     "output_type": "stream",
     "text": [
      "\r",
      "Training:  70%|███████   | 28/40 [11:25:26<4:43:40, 1418.35s/epoch]"
     ]
    },
    {
     "name": "stderr",
     "output_type": "stream",
     "text": [
      "\r",
      "                                                                   "
     ]
    },
    {
     "name": "stderr",
     "output_type": "stream",
     "text": [
      "\r"
     ]
    },
    {
     "name": "stderr",
     "output_type": "stream",
     "text": [
      "\r",
      "Training:  70%|███████   | 28/40 [11:25:26<4:43:40, 1418.35s/epoch]"
     ]
    },
    {
     "name": "stderr",
     "output_type": "stream",
     "text": [
      "\r",
      "                                                                   "
     ]
    },
    {
     "name": "stderr",
     "output_type": "stream",
     "text": [
      "\r"
     ]
    },
    {
     "name": "stderr",
     "output_type": "stream",
     "text": [
      "\r",
      "Training:  70%|███████   | 28/40 [11:25:26<4:43:40, 1418.35s/epoch]"
     ]
    },
    {
     "name": "stderr",
     "output_type": "stream",
     "text": [
      "\r",
      "Training:  72%|███████▎  | 29/40 [11:25:26<4:19:59, 1418.10s/epoch]"
     ]
    },
    {
     "name": "stdout",
     "output_type": "stream",
     "text": [
      "  Train => MSE=0.1160, CI=0.9161, Pearson=0.9191\n",
      "  Test  => MSE=0.1921, CI=0.8864, Pearson=0.8614\n",
      "Checkpoint saved at epoch 239\n",
      "Deleted previous checkpoint: /kaggle/working/TrainingModelNLB/model_epoch238.pt\n"
     ]
    },
    {
     "name": "stderr",
     "output_type": "stream",
     "text": [
      "\r",
      "                                                                   "
     ]
    },
    {
     "name": "stderr",
     "output_type": "stream",
     "text": [
      "\r"
     ]
    },
    {
     "name": "stderr",
     "output_type": "stream",
     "text": [
      "\r",
      "Training:  72%|███████▎  | 29/40 [11:33:24<4:19:59, 1418.10s/epoch]"
     ]
    },
    {
     "name": "stdout",
     "output_type": "stream",
     "text": [
      "[Epoch 240/250] Training Loss: 0.1901\n"
     ]
    },
    {
     "name": "stderr",
     "output_type": "stream",
     "text": [
      "\r",
      "                                                                   "
     ]
    },
    {
     "name": "stderr",
     "output_type": "stream",
     "text": [
      "\r"
     ]
    },
    {
     "name": "stderr",
     "output_type": "stream",
     "text": [
      "\r",
      "Training:  72%|███████▎  | 29/40 [11:49:05<4:19:59, 1418.10s/epoch]"
     ]
    },
    {
     "name": "stderr",
     "output_type": "stream",
     "text": [
      "\r",
      "                                                                   "
     ]
    },
    {
     "name": "stderr",
     "output_type": "stream",
     "text": [
      "\r"
     ]
    },
    {
     "name": "stderr",
     "output_type": "stream",
     "text": [
      "\r",
      "Training:  72%|███████▎  | 29/40 [11:49:05<4:19:59, 1418.10s/epoch]"
     ]
    },
    {
     "name": "stderr",
     "output_type": "stream",
     "text": [
      "\r",
      "                                                                   "
     ]
    },
    {
     "name": "stderr",
     "output_type": "stream",
     "text": [
      "\r"
     ]
    },
    {
     "name": "stderr",
     "output_type": "stream",
     "text": [
      "\r",
      "Training:  72%|███████▎  | 29/40 [11:49:05<4:19:59, 1418.10s/epoch]"
     ]
    },
    {
     "name": "stderr",
     "output_type": "stream",
     "text": [
      "\r",
      "                                                                   "
     ]
    },
    {
     "name": "stderr",
     "output_type": "stream",
     "text": [
      "\r"
     ]
    },
    {
     "name": "stderr",
     "output_type": "stream",
     "text": [
      "\r",
      "Training:  72%|███████▎  | 29/40 [11:49:05<4:19:59, 1418.10s/epoch]"
     ]
    },
    {
     "name": "stderr",
     "output_type": "stream",
     "text": [
      "\r",
      "Training:  75%|███████▌  | 30/40 [11:49:05<3:56:23, 1418.40s/epoch]"
     ]
    },
    {
     "name": "stdout",
     "output_type": "stream",
     "text": [
      "  Train => MSE=0.1111, CI=0.9195, Pearson=0.9246\n",
      "  Test  => MSE=0.1844, CI=0.8887, Pearson=0.8697\n",
      "Checkpoint saved at epoch 240\n",
      "Deleted previous checkpoint: /kaggle/working/TrainingModelNLB/model_epoch239.pt\n"
     ]
    },
    {
     "name": "stderr",
     "output_type": "stream",
     "text": [
      "\r",
      "                                                                   "
     ]
    }
   ],
   "source": [
    "#model one\n",
    "import os\n",
    "import warnings\n",
    "import torch\n",
    "import torch.nn as nn\n",
    "import torch.nn.functional as F\n",
    "import torch.optim as optim\n",
    "from torch.nn import MSELoss\n",
    "from torch_geometric.nn import GCNConv, global_mean_pool as gep\n",
    "from torch_geometric.data import Data, Batch\n",
    "from sklearn.model_selection import train_test_split\n",
    "from tqdm import tqdm\n",
    "import numpy as np\n",
    "\n",
    "# Optional, for plotting:\n",
    "import matplotlib.pyplot as plt\n",
    "\n",
    "##############################################################################\n",
    "#                               1. METRICS\n",
    "##############################################################################\n",
    "\n",
    "@torch.no_grad()\n",
    "def ci_vectorized(preds: torch.Tensor, targets: torch.Tensor) -> float:\n",
    "    \"\"\"\n",
    "    Naive O(N^2) Concordance Index using vectorized GPU operations.\n",
    "    preds, targets: (N,) on the same device (e.g. cuda).\n",
    "    \"\"\"\n",
    "    # (N, N) differences\n",
    "    p_diff = preds.unsqueeze(1) - preds.unsqueeze(0)\n",
    "    t_diff = targets.unsqueeze(1) - targets.unsqueeze(0)\n",
    "    # mask out pairs where targets are identical\n",
    "    mask = (t_diff != 0)\n",
    "    # sign of product => +1 (concordant), 0 (tie), -1 (discordant)\n",
    "    sign_mat = torch.sign(p_diff * t_diff)\n",
    "    # step function h(x): 1 if x>0, 0.5 if x=0, 0 if x<0\n",
    "    h = (sign_mat == 1).float() + 0.5 * (sign_mat == 0).float()\n",
    "    # apply mask\n",
    "    h_masked = h * mask.float()\n",
    "    c = h_masked.sum()\n",
    "    s = mask.sum().float()\n",
    "    return (c / s).item() if s > 0 else 0.0\n",
    "\n",
    "@torch.no_grad()\n",
    "def mse_torch(preds: torch.Tensor, targets: torch.Tensor) -> float:\n",
    "    \"\"\"\n",
    "    GPU-friendly MSE using torch's built-in mean squared error.\n",
    "    \"\"\"\n",
    "    return F.mse_loss(preds, targets, reduction='mean').item()\n",
    "\n",
    "@torch.no_grad()\n",
    "def pearson_torch(preds: torch.Tensor, targets: torch.Tensor) -> float:\n",
    "    \"\"\"\n",
    "    Pearson correlation coefficient in PyTorch (GPU-friendly).\n",
    "    preds, targets: (N,) on the same device\n",
    "    \"\"\"\n",
    "    p_centered = preds - preds.mean()\n",
    "    t_centered = targets - targets.mean()\n",
    "    cov = (p_centered * t_centered).sum()\n",
    "    denom = torch.sqrt((p_centered**2).sum()) * torch.sqrt((t_centered**2).sum())\n",
    "    eps = 1e-8\n",
    "    return (cov / (denom + eps)).item()\n",
    "\n",
    "##############################################################################\n",
    "#                       2. GNN MODEL DEFINITION\n",
    "##############################################################################\n",
    "\n",
    "class GNNNet(torch.nn.Module):\n",
    "    def __init__(self, n_output=1, num_features_pro=54, num_features_mol=78, output_dim=128, hidden_dim=128, dropout=0.2):\n",
    "        super(GNNNet, self).__init__()\n",
    "\n",
    "        print('GNNNet Loaded')\n",
    "        self.n_output = n_output\n",
    "        self.hidden_dim = hidden_dim\n",
    "\n",
    "        # Molecular graph pipeline\n",
    "        self.mol_conv1 = GCNConv(num_features_mol, num_features_mol)\n",
    "        self.mol_nonlocal = NonLocalBlock(num_features_mol, hidden_dim, num_features_mol * 2)\n",
    "        self.mol_conv3 = GCNConv(num_features_mol * 2, num_features_mol * 4)\n",
    "        self.mol_fc_g1 = torch.nn.Linear(num_features_mol * 4, 1024)\n",
    "        self.mol_fc_g2 = torch.nn.Linear(1024, output_dim)\n",
    "\n",
    "        # Protein graph pipeline\n",
    "        self.pro_conv1 = GCNConv(num_features_pro, num_features_pro)\n",
    "        self.pro_nonlocal = NonLocalBlock(num_features_pro, hidden_dim, num_features_pro * 2)\n",
    "        self.pro_conv3 = GCNConv(num_features_pro * 2, num_features_pro * 4)\n",
    "        self.pro_fc_g1 = torch.nn.Linear(num_features_pro * 4, 1024)\n",
    "        self.pro_fc_g2 = torch.nn.Linear(1024, output_dim)\n",
    "\n",
    "        self.relu = torch.nn.ReLU()\n",
    "        self.dropout = torch.nn.Dropout(dropout)\n",
    "\n",
    "        # Combined layers\n",
    "        self.fc1 = torch.nn.Linear(2 * output_dim, 1024)\n",
    "        self.fc2 = torch.nn.Linear(1024, 512)\n",
    "        self.out = torch.nn.Linear(512, self.n_output)\n",
    "\n",
    "    def forward(self, data_mol, data_pro):\n",
    "        # Molecular graph input\n",
    "        mol_x, mol_edge_index, mol_batch = data_mol.x, data_mol.edge_index, data_mol.batch\n",
    "        mol_x = self.mol_conv1(mol_x, mol_edge_index)\n",
    "        mol_x = self.relu(mol_x)\n",
    "        mol_x = self.mol_nonlocal(mol_x ,mol_edge_index)  # Non-local block\n",
    "        mol_x = self.mol_conv3(mol_x, mol_edge_index)\n",
    "        mol_x = self.relu(mol_x)\n",
    "        mol_x = gep(mol_x, mol_batch)  # Global pooling\n",
    "        mol_x = self.relu(self.mol_fc_g1(mol_x))\n",
    "        mol_x = self.dropout(mol_x)\n",
    "        mol_x = self.mol_fc_g2(mol_x)\n",
    "        mol_x = self.dropout(mol_x)\n",
    "\n",
    "        # Protein graph input\n",
    "        pro_x, pro_edge_index, pro_batch = data_pro.x, data_pro.edge_index, data_pro.batch\n",
    "        pro_x = self.pro_conv1(pro_x, pro_edge_index)\n",
    "        pro_x = self.relu(pro_x)\n",
    "        pro_x = self.pro_nonlocal(pro_x,pro_edge_index)  # Non-local block\n",
    "        pro_x = self.pro_conv3(pro_x, pro_edge_index)\n",
    "        pro_x = self.relu(pro_x)\n",
    "        pro_x = gep(pro_x, pro_batch)  # Global pooling\n",
    "        pro_x = self.relu(self.pro_fc_g1(pro_x))\n",
    "        pro_x = self.dropout(pro_x)\n",
    "        pro_x = self.pro_fc_g2(pro_x)\n",
    "        pro_x = self.dropout(pro_x)\n",
    "\n",
    "        # Concatenate molecular and protein features\n",
    "        xc = torch.cat((mol_x, pro_x), dim=1)\n",
    "        xc = self.fc1(xc)\n",
    "        xc = self.relu(xc)\n",
    "        xc = self.dropout(xc)\n",
    "        xc = self.fc2(xc)\n",
    "        xc = self.relu(xc)\n",
    "        xc = self.dropout(xc)\n",
    "        out = self.out(xc)\n",
    "        return out\n",
    "\n",
    "\n",
    "\n",
    "##############################################################################\n",
    "#                   3. DATA LOADING HELPERS\n",
    "##############################################################################\n",
    "\n",
    "warnings.filterwarnings('ignore', category=FutureWarning)\n",
    "\n",
    "def load_sample(path):\n",
    "    \"\"\"\n",
    "    Load a .pt sample, fix up 'x' and 'edge_index', return (mol_data, pro_data, target).\n",
    "    \"\"\"\n",
    "    sample = torch.load(path)\n",
    "    mol_data, pro_data, target = sample[0], sample[1], sample[2]\n",
    "\n",
    "    # Convert dict to Data if needed\n",
    "    if isinstance(mol_data, dict):\n",
    "        mol_data = Data(**mol_data)\n",
    "    if isinstance(pro_data, dict):\n",
    "        pro_data = Data(**pro_data)\n",
    "\n",
    "    # Fix x\n",
    "    if not hasattr(mol_data, 'x') or mol_data.x is None:\n",
    "        if hasattr(mol_data, 'features'):\n",
    "            mol_data.x = mol_data.features\n",
    "            del mol_data.features\n",
    "        else:\n",
    "            raise ValueError(\"mol_data missing 'x' or 'features'\")\n",
    "    if not hasattr(pro_data, 'x') or pro_data.x is None:\n",
    "        if hasattr(pro_data, 'features'):\n",
    "            pro_data.x = pro_data.features\n",
    "            del pro_data.features\n",
    "        else:\n",
    "            raise ValueError(\"pro_data missing 'x' or 'features'\")\n",
    "\n",
    "    mol_data.x = torch.as_tensor(mol_data.x, dtype=torch.float32)\n",
    "    pro_data.x = torch.as_tensor(pro_data.x, dtype=torch.float32)\n",
    "\n",
    "    # Fix edge_index\n",
    "    def fix_edge_index(d):\n",
    "        if not isinstance(d.edge_index, torch.Tensor):\n",
    "            d.edge_index = torch.tensor(d.edge_index, dtype=torch.long)\n",
    "        else:\n",
    "            d.edge_index = d.edge_index.long()\n",
    "        if d.edge_index.shape[0] != 2:\n",
    "            d.edge_index = d.edge_index.t()\n",
    "        d.num_nodes = d.x.size(0)\n",
    "\n",
    "    fix_edge_index(mol_data)\n",
    "    fix_edge_index(pro_data)\n",
    "\n",
    "    return (mol_data, pro_data, target)\n",
    "\n",
    "def batch_loader(file_list, sample_dir, batch_size):\n",
    "    \"\"\"\n",
    "    Yields batches of (mol_data, pro_data, target) from file_list.\n",
    "    \"\"\"\n",
    "    batch = []\n",
    "    for file_name in file_list:\n",
    "        path = os.path.join(sample_dir, file_name)\n",
    "        sample = load_sample(path)\n",
    "        batch.append(sample)\n",
    "        if len(batch) == batch_size:\n",
    "            yield batch\n",
    "            batch = []\n",
    "    if batch:\n",
    "        yield batch\n",
    "\n",
    "##############################################################################\n",
    "#              4. TRAINING / EVALUATION WITH METRICS EACH EPOCH\n",
    "##############################################################################\n",
    "import os\n",
    "import torch\n",
    "\n",
    "def train_and_evaluate(sample_dir, num_epochs=10, test_size=0.2, lr=0.001):\n",
    "    \"\"\"\n",
    "    Trains the GNN model, evaluates on train & test each epoch, saves metrics + checkpoints.\n",
    "    \"\"\"\n",
    "    device = torch.device('cuda' if torch.cuda.is_available() else 'cpu')\n",
    "    print(f\"Running on {device}.\")\n",
    "\n",
    "    # Gather samples\n",
    "    sample_files = [f for f in os.listdir(sample_dir) if f.endswith('.pt')]\n",
    "    assert len(sample_files) > 0, \"No .pt files found in sample_dir!\"\n",
    "\n",
    "    # Split\n",
    "    train_files, test_files = train_test_split(sample_files, test_size=test_size, random_state=42)\n",
    "\n",
    "    # Make checkpoint dir\n",
    "    training_model_dir = os.path.join(os.getcwd(), 'TrainingModelNLB')\n",
    "    os.makedirs(training_model_dir, exist_ok=True)\n",
    "    print(f\"Checkpoints will be saved to: {training_model_dir}\")\n",
    "\n",
    "    metrics_path = os.path.join(training_model_dir, \"training_metrics.pt\")\n",
    "\n",
    "    # Load existing metrics if available (Ensures metrics continue from previous runs)\n",
    "    if os.path.exists(metrics_path):\n",
    "        saved_metrics = torch.load(metrics_path)\n",
    "        train_metrics = saved_metrics['train_metrics']\n",
    "        test_metrics = saved_metrics['test_metrics']\n",
    "        print(\"Loaded previous training metrics!\")\n",
    "    else:\n",
    "        train_metrics = {'epoch': [], 'mse': [], 'ci': [], 'pearson': []}\n",
    "        test_metrics = {'epoch': [], 'mse': [], 'ci': [], 'pearson': []}\n",
    "        print(\"Starting fresh metrics tracking.\")\n",
    "\n",
    "    # Infer input dims from one sample\n",
    "    sample0 = load_sample(os.path.join(sample_dir, train_files[0]))\n",
    "    mol_data0, pro_data0 = sample0[0], sample0[1]\n",
    "    num_features_mol = mol_data0.x.size(1)\n",
    "    num_features_pro = pro_data0.x.size(1)\n",
    "\n",
    "    # Initialize model\n",
    "    model = GNNNet(num_features_mol=num_features_mol,\n",
    "                   num_features_pro=num_features_pro).to(device)\n",
    "    optimizer = optim.Adam(model.parameters(), lr=lr)\n",
    "    loss_fn = MSELoss()\n",
    "\n",
    "    # Possibly resume from checkpoint\n",
    "    start_epoch = 1\n",
    "    existing_checkpoints = [\n",
    "        f for f in os.listdir(training_model_dir)\n",
    "        if f.endswith('.pt') and f.startswith('model_epoch')\n",
    "    ]\n",
    "    last_ckpt_path = None  # Track previous checkpoint for deletion\n",
    "\n",
    "    if existing_checkpoints:\n",
    "        latest_ckpt = max(existing_checkpoints, key=lambda x: int(x.split('_epoch')[1].split('.pt')[0]))\n",
    "        ckpt_path = os.path.join(training_model_dir, latest_ckpt)\n",
    "        print(f\"Loading checkpoint from {ckpt_path}\")\n",
    "        ckpt = torch.load(ckpt_path, map_location=device)\n",
    "        model.load_state_dict(ckpt['model_state_dict'])\n",
    "        optimizer.load_state_dict(ckpt['optimizer_state_dict'])\n",
    "        loaded_epoch = ckpt['epoch']\n",
    "        start_epoch = loaded_epoch + 1\n",
    "        last_ckpt_path = ckpt_path  # Store last checkpoint path for deletion\n",
    "        print(f\"Resuming from epoch {start_epoch}\")\n",
    "    else:\n",
    "        print(\"No existing checkpoint found; starting fresh.\")\n",
    "\n",
    "    @torch.no_grad()\n",
    "    def evaluate(files):\n",
    "        model.eval()\n",
    "        all_preds = []\n",
    "        all_targets = []\n",
    "        batch_eval_size = 200\n",
    "        for batch_samples in batch_loader(files, sample_dir, batch_eval_size):\n",
    "            mol_list, pro_list, tgt_list = [], [], []\n",
    "            for (md, pd, t) in batch_samples:\n",
    "                mol_list.append(md)\n",
    "                pro_list.append(pd)\n",
    "                tgt_list.append(t)\n",
    "\n",
    "            mol_batch = Batch.from_data_list(mol_list).to(device)\n",
    "            pro_batch = Batch.from_data_list(pro_list).to(device)\n",
    "            t_tensor = torch.tensor(tgt_list, dtype=torch.float32, device=device)\n",
    "\n",
    "            out = model(mol_batch, pro_batch).view(-1)\n",
    "            all_preds.append(out)\n",
    "            all_targets.append(t_tensor)\n",
    "\n",
    "        all_preds = torch.cat(all_preds, dim=0)\n",
    "        all_targets = torch.cat(all_targets, dim=0)\n",
    "\n",
    "        mse_val = mse_torch(all_preds, all_targets)\n",
    "        ci_val = ci_vectorized(all_preds, all_targets)\n",
    "        pearson_val = pearson_torch(all_preds, all_targets)\n",
    "        return mse_val, ci_val, pearson_val\n",
    "\n",
    "    # Training loop\n",
    "    batch_size = 61\n",
    "    for epoch in tqdm(range(start_epoch, num_epochs + 1), desc=\"Training\", unit=\"epoch\"):\n",
    "        model.train()\n",
    "        running_loss = 0.0\n",
    "\n",
    "        for batch_samples in batch_loader(train_files, sample_dir, batch_size):\n",
    "            mol_list, pro_list, tgt_list = [], [], []\n",
    "            for (md, pd, t) in batch_samples:\n",
    "                mol_list.append(md)\n",
    "                pro_list.append(pd)\n",
    "                tgt_list.append(t)\n",
    "\n",
    "            mol_batch = Batch.from_data_list(mol_list).to(device)\n",
    "            pro_batch = Batch.from_data_list(pro_list).to(device)\n",
    "            t_tensor = torch.tensor(tgt_list, dtype=torch.float32, device=device).view(-1)\n",
    "\n",
    "            optimizer.zero_grad()\n",
    "            out = model(mol_batch, pro_batch).view(-1)\n",
    "            loss = loss_fn(out, t_tensor)\n",
    "            loss.backward()\n",
    "            optimizer.step()\n",
    "\n",
    "            running_loss += loss.item() * len(batch_samples)\n",
    "\n",
    "        avg_loss = running_loss / len(train_files)\n",
    "        tqdm.write(f\"[Epoch {epoch}/{num_epochs}] Training Loss: {avg_loss:.4f}\")\n",
    "\n",
    "        # Evaluate on train & test\n",
    "        train_mse, train_ci, train_pearson = evaluate(train_files)\n",
    "        test_mse, test_ci, test_pearson = evaluate(test_files)\n",
    "\n",
    "        train_metrics['epoch'].append(epoch)\n",
    "        train_metrics['mse'].append(train_mse)\n",
    "        train_metrics['ci'].append(train_ci)\n",
    "        train_metrics['pearson'].append(train_pearson)\n",
    "\n",
    "        test_metrics['epoch'].append(epoch)\n",
    "        test_metrics['mse'].append(test_mse)\n",
    "        test_metrics['ci'].append(test_ci)\n",
    "        test_metrics['pearson'].append(test_pearson)\n",
    "\n",
    "        tqdm.write(f\"  Train => MSE={train_mse:.4f}, CI={train_ci:.4f}, Pearson={train_pearson:.4f}\")\n",
    "        tqdm.write(f\"  Test  => MSE={test_mse:.4f}, CI={test_ci:.4f}, Pearson={test_pearson:.4f}\")\n",
    "\n",
    "        # Save new checkpoint\n",
    "        ckpt_name = f\"model_epoch{epoch}.pt\"\n",
    "        ckpt_path = os.path.join(training_model_dir, ckpt_name)\n",
    "        torch.save({\n",
    "            'epoch': epoch,\n",
    "            'model_state_dict': model.state_dict(),\n",
    "            'optimizer_state_dict': optimizer.state_dict(),\n",
    "        }, ckpt_path)\n",
    "        tqdm.write(f\"Checkpoint saved at epoch {epoch}\")\n",
    "\n",
    "        # Delete the previous checkpoint after saving the new one\n",
    "        if last_ckpt_path and os.path.exists(last_ckpt_path):\n",
    "            os.remove(last_ckpt_path)\n",
    "            tqdm.write(f\"Deleted previous checkpoint: {last_ckpt_path}\")\n",
    "\n",
    "        # Update last checkpoint path\n",
    "        last_ckpt_path = ckpt_path\n",
    "\n",
    "        # Save/Update the metrics after each epoch\n",
    "        torch.save({\n",
    "            'train_metrics': train_metrics,\n",
    "            'test_metrics': test_metrics\n",
    "        }, metrics_path)\n",
    "\n",
    "    # Final evaluations\n",
    "    final_train_mse, final_train_ci, final_train_pearson = evaluate(train_files)\n",
    "    final_test_mse, final_test_ci, final_test_pearson = evaluate(test_files)\n",
    "    print(f\"\\nFinal Train => MSE={final_train_mse:.4f}, CI={final_train_ci:.4f}, Pearson={final_train_pearson:.4f}\")\n",
    "    print(f\"Final Test  => MSE={final_test_mse:.4f}, CI={final_test_ci:.4f}, Pearson={final_test_pearson:.4f}\")\n",
    "\n",
    "    # Save final metrics\n",
    "    torch.save({\n",
    "        'train_metrics': train_metrics,\n",
    "        'test_metrics': test_metrics\n",
    "    }, metrics_path)\n",
    "    print(f\"Metrics saved to {metrics_path}\")\n",
    "\n",
    "    return train_metrics, test_metrics\n",
    "\n",
    "\n",
    "##############################################################################\n",
    "#               5. OPTIONAL: PLOT THE SAVED METRICS\n",
    "##############################################################################\n",
    "\n",
    "def plot_metrics(checkpoint_dir='TrainingModelNLB'):\n",
    "    \"\"\"\n",
    "    Load training_metrics.pt from the checkpoint_dir and plot MSE, CI, Pearson over epochs.\n",
    "    \"\"\"\n",
    "    metrics_path = os.path.join(checkpoint_dir, \"training_metrics.pt\")\n",
    "    if not os.path.exists(metrics_path):\n",
    "        print(f\"No metrics file found at {metrics_path}!\")\n",
    "        return\n",
    "\n",
    "    saved_data = torch.load(metrics_path)\n",
    "    train_metrics = saved_data['train_metrics']\n",
    "    test_metrics = saved_data['test_metrics']\n",
    "    epochs = train_metrics['epoch']\n",
    "\n",
    "    # Plot MSE\n",
    "    plt.figure(figsize=(8, 6))\n",
    "    plt.plot(epochs, train_metrics['mse'], 'o-', label='Train MSE')\n",
    "    plt.plot(epochs, test_metrics['mse'], 'o-', label='Test MSE')\n",
    "    plt.xlabel('Epoch')\n",
    "    plt.ylabel('MSE')\n",
    "    plt.title('Mean Squared Error over Epochs')\n",
    "    plt.legend()\n",
    "    plt.savefig(os.path.join(checkpoint_dir, \"MSE_plot.png\"))  \n",
    "    plt.show()\n",
    "\n",
    "    # Plot CI\n",
    "    plt.figure(figsize=(8, 6))\n",
    "    plt.plot(epochs, train_metrics['ci'], 'o-', label='Train CI')\n",
    "    plt.plot(epochs, test_metrics['ci'], 'o-', label='Test CI')\n",
    "    plt.xlabel('Epoch')\n",
    "    plt.ylabel('Concordance Index')\n",
    "    plt.title('CI over Epochs')\n",
    "    plt.savefig(os.path.join(checkpoint_dir, \"CI_plot.png\"))  \n",
    "    plt.legend()\n",
    "    plt.show()\n",
    "\n",
    "    # Plot Pearson\n",
    "    plt.figure(figsize=(8, 6))\n",
    "    plt.plot(epochs, train_metrics['pearson'], 'o-', label='Train Pearson')\n",
    "    plt.plot(epochs, test_metrics['pearson'], 'o-', label='Test Pearson')\n",
    "    plt.xlabel('Epoch')\n",
    "    plt.ylabel('Pearson Correlation')\n",
    "    plt.title('Pearson Correlation over Epochs')\n",
    "    plt.legend()\n",
    "    plt.savefig(os.path.join(checkpoint_dir, \"PEARSON_plot.png\"))  \n",
    "    plt.show()\n",
    "\n",
    "##############################################################################\n",
    "#                                 MAIN\n",
    "##############################################################################\n",
    "\n",
    "if __name__ == \"__main__\":\n",
    "    # Adjust the paths/parameters as needed\n",
    "    SAMPLE_DIR = \"prepared_samples\"   # Directory with your .pt samples\n",
    "    NUM_EPOCHS = 250\n",
    "    TEST_SPLIT = 0.2\n",
    "    LR = 0.001\n",
    "\n",
    "    # 1) Train and evaluate\n",
    "    train_metrics, test_metrics = train_and_evaluate(\n",
    "        sample_dir=SAMPLE_DIR,\n",
    "        num_epochs=NUM_EPOCHS,\n",
    "        test_size=TEST_SPLIT,\n",
    "        lr=LR\n",
    "    )\n",
    "\n",
    "    # 2) Plot the metrics\n",
    "    plot_metrics('TrainingModelNLB')"
   ]
  },
  {
   "cell_type": "code",
   "execution_count": null,
   "id": "ae4d57b4",
   "metadata": {
    "papermill": {
     "duration": null,
     "end_time": null,
     "exception": null,
     "start_time": null,
     "status": "pending"
    },
    "tags": []
   },
   "outputs": [],
   "source": [
    "\n",
    "import os \n",
    "import matplotlib.pyplot as plt\n",
    "import torch\n",
    "def plot_metrics(checkpoint_dir='TrainingModelNLB'):\n",
    "    \"\"\"\n",
    "    Load training_metrics.pt from the checkpoint_dir and plot MSE, CI, Pearson over epochs.\n",
    "    \"\"\"\n",
    "    metrics_path = os.path.join(checkpoint_dir, \"training_metrics.pt\")\n",
    "    if not os.path.exists(metrics_path):\n",
    "        print(f\"No metrics file found at {metrics_path}!\")\n",
    "        return\n",
    "\n",
    "    saved_data = torch.load(metrics_path)\n",
    "    train_metrics = saved_data['train_metrics']\n",
    "    test_metrics = saved_data['test_metrics']\n",
    "    epochs = train_metrics['epoch']\n",
    "\n",
    "    # Plot MSE\n",
    "    plt.figure(figsize=(8, 6))\n",
    "    plt.plot(epochs, train_metrics['mse'], 'o-', label='Train MSE')\n",
    "    plt.plot(epochs, test_metrics['mse'], 'o-', label='Test MSE')\n",
    "    plt.xlabel('Epoch')\n",
    "    plt.ylabel('MSE')\n",
    "    plt.title('Mean Squared Error over Epochs')\n",
    "    plt.legend()\n",
    "    plt.savefig(os.path.join(checkpoint_dir, \"MSE_plot.png\"))  \n",
    "    plt.show()\n",
    "\n",
    "    # Plot CI\n",
    "    plt.figure(figsize=(8, 6))\n",
    "    plt.plot(epochs, train_metrics['ci'], 'o-', label='Train CI')\n",
    "    plt.plot(epochs, test_metrics['ci'], 'o-', label='Test CI')\n",
    "    plt.xlabel('Epoch')\n",
    "    plt.ylabel('Concordance Index')\n",
    "    plt.title('CI over Epochs')\n",
    "    plt.savefig(os.path.join(checkpoint_dir, \"CI_plot.png\"))  \n",
    "    plt.legend()\n",
    "    plt.show()\n",
    "\n",
    "    # Plot Pearson\n",
    "    plt.figure(figsize=(8, 6))\n",
    "    plt.plot(epochs, train_metrics['pearson'], 'o-', label='Train Pearson')\n",
    "    plt.plot(epochs, test_metrics['pearson'], 'o-', label='Test Pearson')\n",
    "    plt.xlabel('Epoch')\n",
    "    plt.ylabel('Pearson Correlation')\n",
    "    plt.title('Pearson Correlation over Epochs')\n",
    "    plt.legend()\n",
    "    plt.savefig(os.path.join(checkpoint_dir, \"PEARSON_plot.png\"))  \n",
    "    plt.show()\n"
   ]
  },
  {
   "cell_type": "code",
   "execution_count": null,
   "id": "d721166d",
   "metadata": {
    "papermill": {
     "duration": null,
     "end_time": null,
     "exception": null,
     "start_time": null,
     "status": "pending"
    },
    "tags": []
   },
   "outputs": [],
   "source": [
    "plot_metrics('')"
   ]
  },
  {
   "cell_type": "code",
   "execution_count": null,
   "id": "ce12a02a",
   "metadata": {
    "execution": {
     "iopub.status.busy": "2025-02-02T21:00:43.412429Z",
     "iopub.status.idle": "2025-02-02T21:00:43.412844Z",
     "shell.execute_reply": "2025-02-02T21:00:43.412670Z"
    },
    "papermill": {
     "duration": null,
     "end_time": null,
     "exception": null,
     "start_time": null,
     "status": "pending"
    },
    "tags": []
   },
   "outputs": [],
   "source": [
    "\n",
    "# import os\n",
    "# import torch\n",
    "\n",
    "# def train_and_evaluate(sample_dir, num_epochs=10, test_size=0.2, lr=0.001):\n",
    "#     \"\"\"\n",
    "#     Trains the GNN model, evaluates on train & test each epoch, saves metrics + checkpoints.\n",
    "#     \"\"\"\n",
    "#     device = torch.device('cuda' if torch.cuda.is_available() else 'cpu')\n",
    "#     print(f\"Running on {device}.\")\n",
    "\n",
    "#     # Gather samples\n",
    "#     sample_files = [f for f in os.listdir(sample_dir) if f.endswith('.pt')]\n",
    "#     assert len(sample_files) > 0, \"No .pt files found in sample_dir!\"\n",
    "\n",
    "#     # Split\n",
    "#     train_files, test_files = train_test_split(sample_files, test_size=test_size, random_state=42)\n",
    "\n",
    "#     # Make checkpoint dir\n",
    "#     training_model_dir = os.path.join(os.getcwd(), 'TrainingModelMul')\n",
    "#     os.makedirs(training_model_dir, exist_ok=True)\n",
    "#     print(f\"Checkpoints will be saved to: {training_model_dir}\")\n",
    "\n",
    "#     metrics_path = os.path.join(training_model_dir, \"training_metrics.pt\")\n",
    "\n",
    "#     # Load existing metrics if available (Ensures metrics continue from previous runs)\n",
    "#     if os.path.exists(metrics_path):\n",
    "#         saved_metrics = torch.load(metrics_path)\n",
    "#         train_metrics = saved_metrics['train_metrics']\n",
    "#         test_metrics = saved_metrics['test_metrics']\n",
    "#         print(\"Loaded previous training metrics!\")\n",
    "#     else:\n",
    "#         train_metrics = {'epoch': [], 'mse': [], 'ci': [], 'pearson': []}\n",
    "#         test_metrics = {'epoch': [], 'mse': [], 'ci': [], 'pearson': []}\n",
    "#         print(\"Starting fresh metrics tracking.\")\n",
    "\n",
    "#     # Infer input dims from one sample\n",
    "#     sample0 = load_sample(os.path.join(sample_dir, train_files[0]))\n",
    "#     mol_data0, pro_data0 = sample0[0], sample0[1]\n",
    "#     num_features_mol = mol_data0.x.size(1)\n",
    "#     num_features_pro = pro_data0.x.size(1)\n",
    "\n",
    "#     # Initialize model\n",
    "#     model = GNNNet(num_features_mol=num_features_mol,\n",
    "#                    num_features_pro=num_features_pro).to(device)\n",
    "#     optimizer = optim.Adam(model.parameters(), lr=lr)\n",
    "#     loss_fn = MSELoss()\n",
    "\n",
    "#     # Possibly resume from checkpoint\n",
    "#     start_epoch = 1\n",
    "#     existing_checkpoints = [\n",
    "#         f for f in os.listdir(training_model_dir)\n",
    "#         if f.endswith('.pt') and f.startswith('model_epoch')\n",
    "#     ]\n",
    "#     last_ckpt_path = None  # Track previous checkpoint for deletion\n",
    "\n",
    "#     if existing_checkpoints:\n",
    "#         latest_ckpt = max(existing_checkpoints, key=lambda x: int(x.split('_epoch')[1].split('.pt')[0]))\n",
    "#         ckpt_path = os.path.join(training_model_dir, latest_ckpt)\n",
    "#         print(f\"Loading checkpoint from {ckpt_path}\")\n",
    "#         ckpt = torch.load(ckpt_path, map_location=device)\n",
    "#         model.load_state_dict(ckpt['model_state_dict'])\n",
    "#         optimizer.load_state_dict(ckpt['optimizer_state_dict'])\n",
    "#         loaded_epoch = ckpt['epoch']\n",
    "#         start_epoch = loaded_epoch + 1\n",
    "#         last_ckpt_path = ckpt_path  # Store last checkpoint path for deletion\n",
    "#         print(f\"Resuming from epoch {start_epoch}\")\n",
    "#     else:\n",
    "#         print(\"No existing checkpoint found; starting fresh.\")\n",
    "\n",
    "#     @torch.no_grad()\n",
    "#     def evaluate(files):\n",
    "#         model.eval()\n",
    "#         all_preds = []\n",
    "#         all_targets = []\n",
    "#         batch_eval_size = 200\n",
    "#         for batch_samples in batch_loader(files, sample_dir, batch_eval_size):\n",
    "#             mol_list, pro_list, tgt_list = [], [], []\n",
    "#             for (md, pd, t) in batch_samples:\n",
    "#                 mol_list.append(md)\n",
    "#                 pro_list.append(pd)\n",
    "#                 tgt_list.append(t)\n",
    "\n",
    "#             mol_batch = Batch.from_data_list(mol_list).to(device)\n",
    "#             pro_batch = Batch.from_data_list(pro_list).to(device)\n",
    "#             t_tensor = torch.tensor(tgt_list, dtype=torch.float32, device=device)\n",
    "\n",
    "#             out = model(mol_batch, pro_batch).view(-1)\n",
    "#             all_preds.append(out)\n",
    "#             all_targets.append(t_tensor)\n",
    "\n",
    "#         all_preds = torch.cat(all_preds, dim=0)\n",
    "#         all_targets = torch.cat(all_targets, dim=0)\n",
    "\n",
    "#         mse_val = mse_torch(all_preds, all_targets)\n",
    "#         ci_val = ci_vectorized(all_preds, all_targets)\n",
    "#         pearson_val = pearson_torch(all_preds, all_targets)\n",
    "#         return mse_val, ci_val, pearson_val\n",
    "\n",
    "#     # Training loop\n",
    "#     batch_size = 500\n",
    "#     for epoch in tqdm(range(start_epoch, num_epochs + 1), desc=\"Training\", unit=\"epoch\"):\n",
    "#         model.train()\n",
    "#         running_loss = 0.0\n",
    "\n",
    "#         for batch_samples in batch_loader(train_files, sample_dir, batch_size):\n",
    "#             mol_list, pro_list, tgt_list = [], [], []\n",
    "#             for (md, pd, t) in batch_samples:\n",
    "#                 mol_list.append(md)\n",
    "#                 pro_list.append(pd)\n",
    "#                 tgt_list.append(t)\n",
    "\n",
    "#             mol_batch = Batch.from_data_list(mol_list).to(device)\n",
    "#             pro_batch = Batch.from_data_list(pro_list).to(device)\n",
    "#             t_tensor = torch.tensor(tgt_list, dtype=torch.float32, device=device).view(-1)\n",
    "\n",
    "#             optimizer.zero_grad()\n",
    "#             out = model(mol_batch, pro_batch).view(-1)\n",
    "#             loss = loss_fn(out, t_tensor)\n",
    "#             loss.backward()\n",
    "#             optimizer.step()\n",
    "\n",
    "#             running_loss += loss.item() * len(batch_samples)\n",
    "\n",
    "#         avg_loss = running_loss / len(train_files)\n",
    "#         tqdm.write(f\"[Epoch {epoch}/{num_epochs}] Training Loss: {avg_loss:.4f}\")\n",
    "\n",
    "#         # Evaluate on train & test\n",
    "#         train_mse, train_ci, train_pearson = evaluate(train_files)\n",
    "#         test_mse, test_ci, test_pearson = evaluate(test_files)\n",
    "\n",
    "#         train_metrics['epoch'].append(epoch)\n",
    "#         train_metrics['mse'].append(train_mse)\n",
    "#         train_metrics['ci'].append(train_ci)\n",
    "#         train_metrics['pearson'].append(train_pearson)\n",
    "\n",
    "#         test_metrics['epoch'].append(epoch)\n",
    "#         test_metrics['mse'].append(test_mse)\n",
    "#         test_metrics['ci'].append(test_ci)\n",
    "#         test_metrics['pearson'].append(test_pearson)\n",
    "\n",
    "#         tqdm.write(f\"  Train => MSE={train_mse:.4f}, CI={train_ci:.4f}, Pearson={train_pearson:.4f}\")\n",
    "#         tqdm.write(f\"  Test  => MSE={test_mse:.4f}, CI={test_ci:.4f}, Pearson={test_pearson:.4f}\")\n",
    "\n",
    "#         # Save new checkpoint\n",
    "#         ckpt_name = f\"model_epoch{epoch}.pt\"\n",
    "#         ckpt_path = os.path.join(training_model_dir, ckpt_name)\n",
    "#         torch.save({\n",
    "#             'epoch': epoch,\n",
    "#             'model_state_dict': model.state_dict(),\n",
    "#             'optimizer_state_dict': optimizer.state_dict(),\n",
    "#         }, ckpt_path)\n",
    "#         tqdm.write(f\"Checkpoint saved at epoch {epoch}\")\n",
    "\n",
    "#         # Delete the previous checkpoint after saving the new one\n",
    "#         if last_ckpt_path and os.path.exists(last_ckpt_path):\n",
    "#             os.remove(last_ckpt_path)\n",
    "#             tqdm.write(f\"Deleted previous checkpoint: {last_ckpt_path}\")\n",
    "\n",
    "#         # Update last checkpoint path\n",
    "#         last_ckpt_path = ckpt_path\n",
    "\n",
    "#         # Save/Update the metrics after each epoch\n",
    "#         torch.save({\n",
    "#             'train_metrics': train_metrics,\n",
    "#             'test_metrics': test_metrics\n",
    "#         }, metrics_path)\n",
    "\n",
    "#     # Final evaluations\n",
    "#     final_train_mse, final_train_ci, final_train_pearson = evaluate(train_files)\n",
    "#     final_test_mse, final_test_ci, final_test_pearson = evaluate(test_files)\n",
    "#     print(f\"\\nFinal Train => MSE={final_train_mse:.4f}, CI={final_train_ci:.4f}, Pearson={final_train_pearson:.4f}\")\n",
    "#     print(f\"Final Test  => MSE={final_test_mse:.4f}, CI={final_test_ci:.4f}, Pearson={final_test_pearson:.4f}\")\n",
    "\n",
    "#     # Save final metrics\n",
    "#     torch.save({\n",
    "#         'train_metrics': train_metrics,\n",
    "#         'test_metrics': test_metrics\n",
    "#     }, metrics_path)\n",
    "#     print(f\"Metrics saved to {metrics_path}\")\n",
    "\n",
    "#     return train_metrics, test_metrics\n",
    "\n",
    "\n",
    "# ##############################################################################\n",
    "# #               5. OPTIONAL: PLOT THE SAVED METRICS\n",
    "# ##############################################################################\n",
    "\n",
    "# def plot_metrics(checkpoint_dir='TrainingModelMul'):\n",
    "#     \"\"\"\n",
    "#     Load training_metrics.pt from the checkpoint_dir and plot MSE, CI, Pearson over epochs.\n",
    "#     \"\"\"\n",
    "#     metrics_path = os.path.join(checkpoint_dir, \"training_metrics.pt\")\n",
    "#     if not os.path.exists(metrics_path):\n",
    "#         print(f\"No metrics file found at {metrics_path}!\")\n",
    "#         return\n",
    "\n",
    "#     saved_data = torch.load(metrics_path)\n",
    "#     train_metrics = saved_data['train_metrics']\n",
    "#     test_metrics = saved_data['test_metrics']\n",
    "#     epochs = train_metrics['epoch']\n",
    "\n",
    "#     # Plot MSE\n",
    "#     plt.figure(figsize=(8, 6))\n",
    "#     plt.plot(epochs, train_metrics['mse'], 'o-', label='Train MSE')\n",
    "#     plt.plot(epochs, test_metrics['mse'], 'o-', label='Test MSE')\n",
    "#     plt.xlabel('Epoch')\n",
    "#     plt.ylabel('MSE')\n",
    "#     plt.title('Mean Squared Error over Epochs')\n",
    "#     plt.legend()\n",
    "#     plt.savefig(os.path.join(checkpoint_dir, \"MSE_plot.png\"))  \n",
    "#     plt.show()\n",
    "\n",
    "#     # Plot CI\n",
    "#     plt.figure(figsize=(8, 6))\n",
    "#     plt.plot(epochs, train_metrics['ci'], 'o-', label='Train CI')\n",
    "#     plt.plot(epochs, test_metrics['ci'], 'o-', label='Test CI')\n",
    "#     plt.xlabel('Epoch')\n",
    "#     plt.ylabel('Concordance Index')\n",
    "#     plt.title('CI over Epochs')\n",
    "#     plt.savefig(os.path.join(checkpoint_dir, \"CI_plot.png\"))  \n",
    "#     plt.legend()\n",
    "#     plt.show()\n",
    "\n",
    "#     # Plot Pearson\n",
    "#     plt.figure(figsize=(8, 6))\n",
    "#     plt.plot(epochs, train_metrics['pearson'], 'o-', label='Train Pearson')\n",
    "#     plt.plot(epochs, test_metrics['pearson'], 'o-', label='Test Pearson')\n",
    "#     plt.xlabel('Epoch')\n",
    "#     plt.ylabel('Pearson Correlation')\n",
    "#     plt.title('Pearson Correlation over Epochs')\n",
    "#     plt.legend()\n",
    "#     plt.savefig(os.path.join(checkpoint_dir, \"PEARSON_plot.png\"))  \n",
    "#     plt.show()\n",
    "\n",
    "# ##############################################################################\n",
    "# #                                 MAIN\n",
    "# ##############################################################################\n",
    "\n",
    "# if __name__ == \"__main__\":\n",
    "#     # Adjust the paths/parameters as needed\n",
    "#     SAMPLE_DIR = \"prepared_samples\"   # Directory with your .pt samples\n",
    "#     NUM_EPOCHS = 250\n",
    "#     TEST_SPLIT = 0.2\n",
    "#     LR = 0.001\n",
    "\n",
    "#     # 1) Train and evaluate\n",
    "#     train_metrics, test_metrics = train_and_evaluate(\n",
    "#         sample_dir=SAMPLE_DIR,\n",
    "#         num_epochs=NUM_EPOCHS,\n",
    "#         test_size=TEST_SPLIT,\n",
    "#         lr=LR\n",
    "#     )\n",
    "\n",
    "#     # 2) Plot the metrics\n",
    "#     plot_metrics('TrainingModelMul')"
   ]
  },
  {
   "cell_type": "code",
   "execution_count": null,
   "id": "27c5b585",
   "metadata": {
    "papermill": {
     "duration": null,
     "end_time": null,
     "exception": null,
     "start_time": null,
     "status": "pending"
    },
    "tags": []
   },
   "outputs": [],
   "source": []
  }
 ],
 "metadata": {
  "kaggle": {
   "accelerator": "gpu",
   "dataSources": [
    {
     "datasetId": 6589591,
     "sourceId": 10642609,
     "sourceType": "datasetVersion"
    },
    {
     "isSourceIdPinned": true,
     "modelId": 235079,
     "modelInstanceId": 213430,
     "sourceId": 249697,
     "sourceType": "modelInstanceVersion"
    }
   ],
   "isGpuEnabled": true,
   "isInternetEnabled": true,
   "language": "python",
   "sourceType": "notebook"
  },
  "kernelspec": {
   "display_name": "Python 3 (ipykernel)",
   "language": "python",
   "name": "python3"
  },
  "language_info": {
   "codemirror_mode": {
    "name": "ipython",
    "version": 3
   },
   "file_extension": ".py",
   "mimetype": "text/x-python",
   "name": "python",
   "nbconvert_exporter": "python",
   "pygments_lexer": "ipython3",
   "version": "3.12.4"
  },
  "papermill": {
   "default_parameters": {},
   "duration": null,
   "end_time": null,
   "environment_variables": {},
   "exception": null,
   "input_path": "__notebook__.ipynb",
   "output_path": "__notebook__.ipynb",
   "parameters": {},
   "start_time": "2025-02-04T07:10:45.017500",
   "version": "2.6.0"
  }
 },
 "nbformat": 4,
 "nbformat_minor": 5
}