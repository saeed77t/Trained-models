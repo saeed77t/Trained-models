{
 "cells": [
  {
   "cell_type": "code",
   "execution_count": 1,
   "id": "e26a5279",
   "metadata": {
    "_cell_guid": "b1076dfc-b9ad-4769-8c92-a6c4dae69d19",
    "_uuid": "8f2839f25d086af736a60e9eeb907d3b93b6e0e5",
    "execution": {
     "iopub.execute_input": "2025-02-02T20:34:32.285583Z",
     "iopub.status.busy": "2025-02-02T20:34:32.285251Z",
     "iopub.status.idle": "2025-02-02T20:34:38.361565Z",
     "shell.execute_reply": "2025-02-02T20:34:38.360279Z"
    },
    "papermill": {
     "duration": 6.081743,
     "end_time": "2025-02-02T20:34:38.363481",
     "exception": false,
     "start_time": "2025-02-02T20:34:32.281738",
     "status": "completed"
    },
    "tags": []
   },
   "outputs": [
    {
     "name": "stdout",
     "output_type": "stream",
     "text": [
      "Collecting torch-geometric\r\n",
      "  Downloading torch_geometric-2.6.1-py3-none-any.whl.metadata (63 kB)\r\n",
      "\u001b[2K     \u001b[90m━━━━━━━━━━━━━━━━━━━━━━━━━━━━━━━━━━━━━━━━\u001b[0m \u001b[32m63.1/63.1 kB\u001b[0m \u001b[31m1.5 MB/s\u001b[0m eta \u001b[36m0:00:00\u001b[0m\r\n",
      "\u001b[?25hRequirement already satisfied: aiohttp in /usr/local/lib/python3.10/dist-packages (from torch-geometric) (3.11.10)\r\n",
      "Requirement already satisfied: fsspec in /usr/local/lib/python3.10/dist-packages (from torch-geometric) (2024.9.0)\r\n",
      "Requirement already satisfied: jinja2 in /usr/local/lib/python3.10/dist-packages (from torch-geometric) (3.1.4)\r\n",
      "Requirement already satisfied: numpy in /usr/local/lib/python3.10/dist-packages (from torch-geometric) (1.26.4)\r\n",
      "Requirement already satisfied: psutil>=5.8.0 in /usr/local/lib/python3.10/dist-packages (from torch-geometric) (5.9.5)\r\n",
      "Requirement already satisfied: pyparsing in /usr/local/lib/python3.10/dist-packages (from torch-geometric) (3.2.0)\r\n",
      "Requirement already satisfied: requests in /usr/local/lib/python3.10/dist-packages (from torch-geometric) (2.32.3)\r\n",
      "Requirement already satisfied: tqdm in /usr/local/lib/python3.10/dist-packages (from torch-geometric) (4.67.1)\r\n",
      "Requirement already satisfied: aiohappyeyeballs>=2.3.0 in /usr/local/lib/python3.10/dist-packages (from aiohttp->torch-geometric) (2.4.4)\r\n",
      "Requirement already satisfied: aiosignal>=1.1.2 in /usr/local/lib/python3.10/dist-packages (from aiohttp->torch-geometric) (1.3.2)\r\n",
      "Requirement already satisfied: async-timeout<6.0,>=4.0 in /usr/local/lib/python3.10/dist-packages (from aiohttp->torch-geometric) (4.0.3)\r\n",
      "Requirement already satisfied: attrs>=17.3.0 in /usr/local/lib/python3.10/dist-packages (from aiohttp->torch-geometric) (24.3.0)\r\n",
      "Requirement already satisfied: frozenlist>=1.1.1 in /usr/local/lib/python3.10/dist-packages (from aiohttp->torch-geometric) (1.5.0)\r\n",
      "Requirement already satisfied: multidict<7.0,>=4.5 in /usr/local/lib/python3.10/dist-packages (from aiohttp->torch-geometric) (6.1.0)\r\n",
      "Requirement already satisfied: propcache>=0.2.0 in /usr/local/lib/python3.10/dist-packages (from aiohttp->torch-geometric) (0.2.1)\r\n",
      "Requirement already satisfied: yarl<2.0,>=1.17.0 in /usr/local/lib/python3.10/dist-packages (from aiohttp->torch-geometric) (1.18.3)\r\n",
      "Requirement already satisfied: MarkupSafe>=2.0 in /usr/local/lib/python3.10/dist-packages (from jinja2->torch-geometric) (3.0.2)\r\n",
      "Requirement already satisfied: mkl_fft in /usr/local/lib/python3.10/dist-packages (from numpy->torch-geometric) (1.3.8)\r\n",
      "Requirement already satisfied: mkl_random in /usr/local/lib/python3.10/dist-packages (from numpy->torch-geometric) (1.2.4)\r\n",
      "Requirement already satisfied: mkl_umath in /usr/local/lib/python3.10/dist-packages (from numpy->torch-geometric) (0.1.1)\r\n",
      "Requirement already satisfied: mkl in /usr/local/lib/python3.10/dist-packages (from numpy->torch-geometric) (2025.0.1)\r\n",
      "Requirement already satisfied: tbb4py in /usr/local/lib/python3.10/dist-packages (from numpy->torch-geometric) (2022.0.0)\r\n",
      "Requirement already satisfied: mkl-service in /usr/local/lib/python3.10/dist-packages (from numpy->torch-geometric) (2.4.1)\r\n",
      "Requirement already satisfied: charset-normalizer<4,>=2 in /usr/local/lib/python3.10/dist-packages (from requests->torch-geometric) (3.4.0)\r\n",
      "Requirement already satisfied: idna<4,>=2.5 in /usr/local/lib/python3.10/dist-packages (from requests->torch-geometric) (3.10)\r\n",
      "Requirement already satisfied: urllib3<3,>=1.21.1 in /usr/local/lib/python3.10/dist-packages (from requests->torch-geometric) (2.2.3)\r\n",
      "Requirement already satisfied: certifi>=2017.4.17 in /usr/local/lib/python3.10/dist-packages (from requests->torch-geometric) (2024.12.14)\r\n",
      "Requirement already satisfied: typing-extensions>=4.1.0 in /usr/local/lib/python3.10/dist-packages (from multidict<7.0,>=4.5->aiohttp->torch-geometric) (4.12.2)\r\n",
      "Requirement already satisfied: intel-openmp>=2024 in /usr/local/lib/python3.10/dist-packages (from mkl->numpy->torch-geometric) (2024.2.0)\r\n",
      "Requirement already satisfied: tbb==2022.* in /usr/local/lib/python3.10/dist-packages (from mkl->numpy->torch-geometric) (2022.0.0)\r\n",
      "Requirement already satisfied: tcmlib==1.* in /usr/local/lib/python3.10/dist-packages (from tbb==2022.*->mkl->numpy->torch-geometric) (1.2.0)\r\n",
      "Requirement already satisfied: intel-cmplr-lib-rt in /usr/local/lib/python3.10/dist-packages (from mkl_umath->numpy->torch-geometric) (2024.2.0)\r\n",
      "Requirement already satisfied: intel-cmplr-lib-ur==2024.2.0 in /usr/local/lib/python3.10/dist-packages (from intel-openmp>=2024->mkl->numpy->torch-geometric) (2024.2.0)\r\n",
      "Downloading torch_geometric-2.6.1-py3-none-any.whl (1.1 MB)\r\n",
      "\u001b[2K   \u001b[90m━━━━━━━━━━━━━━━━━━━━━━━━━━━━━━━━━━━━━━━━\u001b[0m \u001b[32m1.1/1.1 MB\u001b[0m \u001b[31m18.6 MB/s\u001b[0m eta \u001b[36m0:00:00\u001b[0m\r\n",
      "\u001b[?25hInstalling collected packages: torch-geometric\r\n",
      "Successfully installed torch-geometric-2.6.1\r\n"
     ]
    }
   ],
   "source": [
    "!pip install torch-geometric\n",
    "\n",
    "# !unzip \"/content/Archive.zip\"\n",
    "# !rm -rf '/content/prepared_samples'"
   ]
  },
  {
   "cell_type": "code",
   "execution_count": 2,
   "id": "bc847f0f",
   "metadata": {
    "execution": {
     "iopub.execute_input": "2025-02-02T20:34:38.371228Z",
     "iopub.status.busy": "2025-02-02T20:34:38.370889Z",
     "iopub.status.idle": "2025-02-02T20:35:57.780986Z",
     "shell.execute_reply": "2025-02-02T20:35:57.779997Z"
    },
    "papermill": {
     "duration": 79.419495,
     "end_time": "2025-02-02T20:35:57.786441",
     "exception": false,
     "start_time": "2025-02-02T20:34:38.366946",
     "status": "completed"
    },
    "tags": []
   },
   "outputs": [
    {
     "name": "stderr",
     "output_type": "stream",
     "text": [
      "<ipython-input-2-978404414efb>:16: FutureWarning: You are using `torch.load` with `weights_only=False` (the current default value), which uses the default pickle module implicitly. It is possible to construct malicious pickle data which will execute arbitrary code during unpickling (See https://github.com/pytorch/pytorch/blob/main/SECURITY.md#untrusted-models for more details). In a future release, the default value for `weights_only` will be flipped to `True`. This limits the functions that could be executed during unpickling. Arbitrary objects will no longer be allowed to be loaded via this mode unless they are explicitly allowlisted by the user via `torch.serialization.add_safe_globals`. We recommend you start setting `weights_only=True` for any use case where you don't have full control of the loaded file. Please open an issue on GitHub for any issues related to this experimental feature.\n",
      "  return torch.load(path)\n"
     ]
    },
    {
     "name": "stdout",
     "output_type": "stream",
     "text": [
      "Saved sample 0 as prepared_samples/sample_0.pt\n"
     ]
    },
    {
     "name": "stderr",
     "output_type": "stream",
     "text": [
      "<ipython-input-2-978404414efb>:16: FutureWarning: You are using `torch.load` with `weights_only=False` (the current default value), which uses the default pickle module implicitly. It is possible to construct malicious pickle data which will execute arbitrary code during unpickling (See https://github.com/pytorch/pytorch/blob/main/SECURITY.md#untrusted-models for more details). In a future release, the default value for `weights_only` will be flipped to `True`. This limits the functions that could be executed during unpickling. Arbitrary objects will no longer be allowed to be loaded via this mode unless they are explicitly allowlisted by the user via `torch.serialization.add_safe_globals`. We recommend you start setting `weights_only=True` for any use case where you don't have full control of the loaded file. Please open an issue on GitHub for any issues related to this experimental feature.\n",
      "  return torch.load(path)\n"
     ]
    },
    {
     "name": "stdout",
     "output_type": "stream",
     "text": [
      "Saved sample 4000 as prepared_samples/sample_4000.pt\n",
      "Saved sample 8000 as prepared_samples/sample_8000.pt\n",
      "Saved sample 12000 as prepared_samples/sample_12000.pt\n",
      "Saved sample 16000 as prepared_samples/sample_16000.pt\n",
      "Dataset preparation completed.\n"
     ]
    }
   ],
   "source": [
    "#create samples :\n",
    "import os\n",
    "import torch\n",
    "import pickle\n",
    "import pandas as pd\n",
    "\n",
    "def load_graph(path, is_pickle=True):\n",
    "    \"\"\"\n",
    "    Load a molecule graph (.pkl) or a protein graph (.pt).\n",
    "    If is_pickle is True, use pickle to load the file; otherwise, use torch.load.\n",
    "    \"\"\"\n",
    "    if is_pickle:\n",
    "        with open(path, 'rb') as f:\n",
    "            return pickle.load(f)\n",
    "    else:\n",
    "        return torch.load(path)\n",
    "\n",
    "def prepare_dataset_individual_save_as_pt(filtered_dataset, molecule_graph_dir, protein_graph_dir, output_dir):\n",
    "    \"\"\"\n",
    "    Incrementally prepares the dataset and saves each (molecule, protein, target) tuple as a separate .pt file.\n",
    "\n",
    "    Args:\n",
    "    - filtered_dataset: The filtered KIBA dataset (DataFrame).\n",
    "    - molecule_graph_dir: Directory where molecule graphs are stored.\n",
    "    - protein_graph_dir: Directory where protein graphs are stored.\n",
    "    - output_dir: Directory to save the prepared dataset incrementally.\n",
    "    \"\"\"\n",
    "    if not os.path.exists(output_dir):\n",
    "        os.makedirs(output_dir)\n",
    "\n",
    "    for index, row in filtered_dataset.iterrows():\n",
    "        protein_id = row['Target_ID']\n",
    "        chembl_id = row['Drug_ID']\n",
    "\n",
    "        # Load the protein graph (.pt)\n",
    "        pro_graph_path = os.path.join(protein_graph_dir, f\"{protein_id}_graph.pt\")\n",
    "        if not os.path.exists(pro_graph_path):\n",
    "            print(f\"Protein graph not found: {protein_id}\")\n",
    "            continue\n",
    "        pro_graph = load_graph(pro_graph_path, is_pickle=False)\n",
    "\n",
    "        # Load the molecule graph (.pkl)\n",
    "        mol_graph_path = os.path.join(molecule_graph_dir, f\"{chembl_id}_graph.pkl\")\n",
    "        if not os.path.exists(mol_graph_path):\n",
    "            print(f\"Molecule graph not found: {chembl_id}\")\n",
    "            continue\n",
    "        mol_graph = load_graph(mol_graph_path)\n",
    "\n",
    "        # Load target (affinity value)\n",
    "        target = torch.tensor([row['Y']], dtype=torch.float)\n",
    "\n",
    "        # Create the sample as a tuple (molecule graph, protein graph, target)\n",
    "        sample = (mol_graph, pro_graph, target)\n",
    "\n",
    "        # Save the sample as a .pt file\n",
    "        sample_path = os.path.join(output_dir, f\"sample_{index}.pt\")\n",
    "        torch.save(sample, sample_path)\n",
    "\n",
    "        if(index%4000 == 0 ):\n",
    "            print(f\"Saved sample {index} as {sample_path}\")\n",
    "\n",
    "\n",
    "\n",
    "\n",
    "# Example usage for individual saving\n",
    "molecule_graph_dir = '/kaggle/input/graphs/molecule_graphs'  # Directory where molecule graphs are stored\n",
    "protein_graph_dir = '/kaggle/input/graphs/ProteinGraphs'  # Directory where protein graphs are stored\n",
    "filtered_dataset_path = '/kaggle/input/graphs/filtered_DavisDataSet.csv'  # Path to the filtered dataset CSV\n",
    "output_dir = 'prepared_samples/'  # Directory to save individual samples\n",
    "\n",
    "# Load filtered dataset CSV\n",
    "filtered_dataset = pd.read_csv(filtered_dataset_path)\n",
    "\n",
    "# Prepare the dataset incrementally, saving each sample as a .pt file\n",
    "prepare_dataset_individual_save_as_pt(filtered_dataset, molecule_graph_dir, protein_graph_dir, output_dir)\n",
    "\n",
    "print(\"Dataset preparation completed.\")"
   ]
  },
  {
   "cell_type": "code",
   "execution_count": 3,
   "id": "c4d21d03",
   "metadata": {
    "execution": {
     "iopub.execute_input": "2025-02-02T20:35:57.799757Z",
     "iopub.status.busy": "2025-02-02T20:35:57.799244Z",
     "iopub.status.idle": "2025-02-03T01:14:34.843888Z",
     "shell.execute_reply": "2025-02-03T01:14:34.842940Z"
    },
    "papermill": {
     "duration": 16717.053466,
     "end_time": "2025-02-03T01:14:34.845673",
     "exception": false,
     "start_time": "2025-02-02T20:35:57.792207",
     "status": "completed"
    },
    "tags": []
   },
   "outputs": [
    {
     "name": "stdout",
     "output_type": "stream",
     "text": [
      "Running on cuda.\n",
      "Checkpoints will be saved to: /kaggle/working/TrainingModelMul\n",
      "Starting fresh metrics tracking.\n",
      "GNNNet Loaded\n",
      "No existing checkpoint found; starting fresh.\n"
     ]
    },
    {
     "name": "stderr",
     "output_type": "stream",
     "text": [
      "Training:   0%|          | 0/250 [00:36<?, ?epoch/s]"
     ]
    },
    {
     "name": "stdout",
     "output_type": "stream",
     "text": [
      "[Epoch 1/250] Training Loss: 7.5488\n"
     ]
    },
    {
     "name": "stderr",
     "output_type": "stream",
     "text": [
      "Training:   0%|          | 1/250 [01:13<5:06:56, 73.96s/epoch]"
     ]
    },
    {
     "name": "stdout",
     "output_type": "stream",
     "text": [
      "  Train => MSE=0.9398, CI=0.4310, Pearson=-0.1010\n",
      "  Test  => MSE=0.9794, CI=0.4334, Pearson=-0.1033\n",
      "Checkpoint saved at epoch 1\n"
     ]
    },
    {
     "name": "stderr",
     "output_type": "stream",
     "text": [
      "Training:   0%|          | 1/250 [01:46<5:06:56, 73.96s/epoch]"
     ]
    },
    {
     "name": "stdout",
     "output_type": "stream",
     "text": [
      "[Epoch 2/250] Training Loss: 0.9230\n"
     ]
    },
    {
     "name": "stderr",
     "output_type": "stream",
     "text": [
      "Training:   1%|          | 2/250 [02:21<4:51:15, 70.47s/epoch]"
     ]
    },
    {
     "name": "stdout",
     "output_type": "stream",
     "text": [
      "  Train => MSE=0.7649, CI=0.4677, Pearson=-0.0349\n",
      "  Test  => MSE=0.8249, CI=0.4718, Pearson=-0.0361\n",
      "Checkpoint saved at epoch 2\n",
      "Deleted previous checkpoint: /kaggle/working/TrainingModelMul/model_epoch1.pt\n"
     ]
    },
    {
     "name": "stderr",
     "output_type": "stream",
     "text": [
      "Training:   1%|          | 2/250 [02:54<4:51:15, 70.47s/epoch]"
     ]
    },
    {
     "name": "stdout",
     "output_type": "stream",
     "text": [
      "[Epoch 3/250] Training Loss: 0.8171\n"
     ]
    },
    {
     "name": "stderr",
     "output_type": "stream",
     "text": [
      "Training:   1%|          | 3/250 [03:28<4:42:59, 68.74s/epoch]"
     ]
    },
    {
     "name": "stdout",
     "output_type": "stream",
     "text": [
      "  Train => MSE=0.7275, CI=0.6170, Pearson=0.2221\n",
      "  Test  => MSE=0.7844, CI=0.6153, Pearson=0.2135\n",
      "Checkpoint saved at epoch 3\n",
      "Deleted previous checkpoint: /kaggle/working/TrainingModelMul/model_epoch2.pt\n"
     ]
    },
    {
     "name": "stderr",
     "output_type": "stream",
     "text": [
      "Training:   1%|          | 3/250 [04:01<4:42:59, 68.74s/epoch]"
     ]
    },
    {
     "name": "stdout",
     "output_type": "stream",
     "text": [
      "[Epoch 4/250] Training Loss: 0.7859\n"
     ]
    },
    {
     "name": "stderr",
     "output_type": "stream",
     "text": [
      "Training:   2%|▏         | 4/250 [04:36<4:40:02, 68.30s/epoch]"
     ]
    },
    {
     "name": "stdout",
     "output_type": "stream",
     "text": [
      "  Train => MSE=0.7042, CI=0.6540, Pearson=0.2734\n",
      "  Test  => MSE=0.7616, CI=0.6531, Pearson=0.2624\n",
      "Checkpoint saved at epoch 4\n",
      "Deleted previous checkpoint: /kaggle/working/TrainingModelMul/model_epoch3.pt\n"
     ]
    },
    {
     "name": "stderr",
     "output_type": "stream",
     "text": [
      "Training:   2%|▏         | 4/250 [05:08<4:40:02, 68.30s/epoch]"
     ]
    },
    {
     "name": "stdout",
     "output_type": "stream",
     "text": [
      "[Epoch 5/250] Training Loss: 0.7619\n"
     ]
    },
    {
     "name": "stderr",
     "output_type": "stream",
     "text": [
      "Training:   2%|▏         | 5/250 [05:42<4:35:26, 67.45s/epoch]"
     ]
    },
    {
     "name": "stdout",
     "output_type": "stream",
     "text": [
      "  Train => MSE=0.6740, CI=0.6602, Pearson=0.3058\n",
      "  Test  => MSE=0.7304, CI=0.6605, Pearson=0.2918\n",
      "Checkpoint saved at epoch 5\n",
      "Deleted previous checkpoint: /kaggle/working/TrainingModelMul/model_epoch4.pt\n"
     ]
    },
    {
     "name": "stderr",
     "output_type": "stream",
     "text": [
      "Training:   2%|▏         | 5/250 [06:14<4:35:26, 67.45s/epoch]"
     ]
    },
    {
     "name": "stdout",
     "output_type": "stream",
     "text": [
      "[Epoch 6/250] Training Loss: 0.7332\n"
     ]
    },
    {
     "name": "stderr",
     "output_type": "stream",
     "text": [
      "Training:   2%|▏         | 6/250 [06:49<4:33:45, 67.32s/epoch]"
     ]
    },
    {
     "name": "stdout",
     "output_type": "stream",
     "text": [
      "  Train => MSE=0.6508, CI=0.6738, Pearson=0.3454\n",
      "  Test  => MSE=0.7053, CI=0.6762, Pearson=0.3335\n",
      "Checkpoint saved at epoch 6\n",
      "Deleted previous checkpoint: /kaggle/working/TrainingModelMul/model_epoch5.pt\n"
     ]
    },
    {
     "name": "stderr",
     "output_type": "stream",
     "text": [
      "Training:   2%|▏         | 6/250 [07:21<4:33:45, 67.32s/epoch]"
     ]
    },
    {
     "name": "stdout",
     "output_type": "stream",
     "text": [
      "[Epoch 7/250] Training Loss: 0.7147\n"
     ]
    },
    {
     "name": "stderr",
     "output_type": "stream",
     "text": [
      "Training:   3%|▎         | 7/250 [07:55<4:31:39, 67.08s/epoch]"
     ]
    },
    {
     "name": "stdout",
     "output_type": "stream",
     "text": [
      "  Train => MSE=0.6295, CI=0.6914, Pearson=0.3851\n",
      "  Test  => MSE=0.6815, CI=0.6961, Pearson=0.3765\n",
      "Checkpoint saved at epoch 7\n",
      "Deleted previous checkpoint: /kaggle/working/TrainingModelMul/model_epoch6.pt\n"
     ]
    },
    {
     "name": "stderr",
     "output_type": "stream",
     "text": [
      "Training:   3%|▎         | 7/250 [08:28<4:31:39, 67.08s/epoch]"
     ]
    },
    {
     "name": "stdout",
     "output_type": "stream",
     "text": [
      "[Epoch 8/250] Training Loss: 0.6884\n"
     ]
    },
    {
     "name": "stderr",
     "output_type": "stream",
     "text": [
      "Training:   3%|▎         | 8/250 [09:03<4:31:02, 67.20s/epoch]"
     ]
    },
    {
     "name": "stdout",
     "output_type": "stream",
     "text": [
      "  Train => MSE=0.6123, CI=0.7083, Pearson=0.4214\n",
      "  Test  => MSE=0.6669, CI=0.7150, Pearson=0.4127\n",
      "Checkpoint saved at epoch 8\n",
      "Deleted previous checkpoint: /kaggle/working/TrainingModelMul/model_epoch7.pt\n"
     ]
    },
    {
     "name": "stderr",
     "output_type": "stream",
     "text": [
      "Training:   3%|▎         | 8/250 [09:35<4:31:02, 67.20s/epoch]"
     ]
    },
    {
     "name": "stdout",
     "output_type": "stream",
     "text": [
      "[Epoch 9/250] Training Loss: 0.6648\n"
     ]
    },
    {
     "name": "stderr",
     "output_type": "stream",
     "text": [
      "Training:   4%|▎         | 9/250 [10:10<4:29:20, 67.06s/epoch]"
     ]
    },
    {
     "name": "stdout",
     "output_type": "stream",
     "text": [
      "  Train => MSE=0.5905, CI=0.7249, Pearson=0.4555\n",
      "  Test  => MSE=0.6446, CI=0.7318, Pearson=0.4450\n",
      "Checkpoint saved at epoch 9\n",
      "Deleted previous checkpoint: /kaggle/working/TrainingModelMul/model_epoch8.pt\n"
     ]
    },
    {
     "name": "stderr",
     "output_type": "stream",
     "text": [
      "Training:   4%|▎         | 9/250 [10:42<4:29:20, 67.06s/epoch]"
     ]
    },
    {
     "name": "stdout",
     "output_type": "stream",
     "text": [
      "[Epoch 10/250] Training Loss: 0.6526\n"
     ]
    },
    {
     "name": "stderr",
     "output_type": "stream",
     "text": [
      "Training:   4%|▍         | 10/250 [11:17<4:28:28, 67.12s/epoch]"
     ]
    },
    {
     "name": "stdout",
     "output_type": "stream",
     "text": [
      "  Train => MSE=0.5719, CI=0.7348, Pearson=0.4744\n",
      "  Test  => MSE=0.6217, CI=0.7406, Pearson=0.4631\n",
      "Checkpoint saved at epoch 10\n",
      "Deleted previous checkpoint: /kaggle/working/TrainingModelMul/model_epoch9.pt\n"
     ]
    },
    {
     "name": "stderr",
     "output_type": "stream",
     "text": [
      "Training:   4%|▍         | 10/250 [11:50<4:28:28, 67.12s/epoch]"
     ]
    },
    {
     "name": "stdout",
     "output_type": "stream",
     "text": [
      "[Epoch 11/250] Training Loss: 0.6345\n"
     ]
    },
    {
     "name": "stderr",
     "output_type": "stream",
     "text": [
      "Training:   4%|▍         | 11/250 [12:25<4:28:56, 67.52s/epoch]"
     ]
    },
    {
     "name": "stdout",
     "output_type": "stream",
     "text": [
      "  Train => MSE=0.5665, CI=0.7418, Pearson=0.4871\n",
      "  Test  => MSE=0.6181, CI=0.7467, Pearson=0.4764\n",
      "Checkpoint saved at epoch 11\n",
      "Deleted previous checkpoint: /kaggle/working/TrainingModelMul/model_epoch10.pt\n"
     ]
    },
    {
     "name": "stderr",
     "output_type": "stream",
     "text": [
      "Training:   4%|▍         | 11/250 [12:57<4:28:56, 67.52s/epoch]"
     ]
    },
    {
     "name": "stdout",
     "output_type": "stream",
     "text": [
      "[Epoch 12/250] Training Loss: 0.6257\n"
     ]
    },
    {
     "name": "stderr",
     "output_type": "stream",
     "text": [
      "Training:   5%|▍         | 12/250 [13:31<4:25:41, 66.98s/epoch]"
     ]
    },
    {
     "name": "stdout",
     "output_type": "stream",
     "text": [
      "  Train => MSE=0.5569, CI=0.7463, Pearson=0.4939\n",
      "  Test  => MSE=0.6073, CI=0.7504, Pearson=0.4800\n",
      "Checkpoint saved at epoch 12\n",
      "Deleted previous checkpoint: /kaggle/working/TrainingModelMul/model_epoch11.pt\n"
     ]
    },
    {
     "name": "stderr",
     "output_type": "stream",
     "text": [
      "Training:   5%|▍         | 12/250 [14:04<4:25:41, 66.98s/epoch]"
     ]
    },
    {
     "name": "stdout",
     "output_type": "stream",
     "text": [
      "[Epoch 13/250] Training Loss: 0.6243\n"
     ]
    },
    {
     "name": "stderr",
     "output_type": "stream",
     "text": [
      "Training:   5%|▌         | 13/250 [14:39<4:25:57, 67.33s/epoch]"
     ]
    },
    {
     "name": "stdout",
     "output_type": "stream",
     "text": [
      "  Train => MSE=0.5701, CI=0.7505, Pearson=0.5028\n",
      "  Test  => MSE=0.6151, CI=0.7544, Pearson=0.4886\n",
      "Checkpoint saved at epoch 13\n",
      "Deleted previous checkpoint: /kaggle/working/TrainingModelMul/model_epoch12.pt\n"
     ]
    },
    {
     "name": "stderr",
     "output_type": "stream",
     "text": [
      "Training:   5%|▌         | 13/250 [15:11<4:25:57, 67.33s/epoch]"
     ]
    },
    {
     "name": "stdout",
     "output_type": "stream",
     "text": [
      "[Epoch 14/250] Training Loss: 0.6091\n"
     ]
    },
    {
     "name": "stderr",
     "output_type": "stream",
     "text": [
      "Training:   6%|▌         | 14/250 [15:46<4:24:02, 67.13s/epoch]"
     ]
    },
    {
     "name": "stdout",
     "output_type": "stream",
     "text": [
      "  Train => MSE=0.5649, CI=0.7542, Pearson=0.5106\n",
      "  Test  => MSE=0.6108, CI=0.7578, Pearson=0.4949\n",
      "Checkpoint saved at epoch 14\n",
      "Deleted previous checkpoint: /kaggle/working/TrainingModelMul/model_epoch13.pt\n"
     ]
    },
    {
     "name": "stderr",
     "output_type": "stream",
     "text": [
      "Training:   6%|▌         | 14/250 [16:18<4:24:02, 67.13s/epoch]"
     ]
    },
    {
     "name": "stdout",
     "output_type": "stream",
     "text": [
      "[Epoch 15/250] Training Loss: 0.6069\n"
     ]
    },
    {
     "name": "stderr",
     "output_type": "stream",
     "text": [
      "Training:   6%|▌         | 14/250 [16:53<4:24:02, 67.13s/epoch]"
     ]
    },
    {
     "name": "stdout",
     "output_type": "stream",
     "text": [
      "  Train => MSE=0.5384, CI=0.7566, Pearson=0.5178\n",
      "  Test  => MSE=0.5922, CI=0.7596, Pearson=0.4993\n"
     ]
    },
    {
     "name": "stderr",
     "output_type": "stream",
     "text": [
      "Training:   6%|▌         | 15/250 [16:54<4:23:38, 67.31s/epoch]"
     ]
    },
    {
     "name": "stdout",
     "output_type": "stream",
     "text": [
      "Checkpoint saved at epoch 15\n",
      "Deleted previous checkpoint: /kaggle/working/TrainingModelMul/model_epoch14.pt\n"
     ]
    },
    {
     "name": "stderr",
     "output_type": "stream",
     "text": [
      "Training:   6%|▌         | 15/250 [17:25<4:23:38, 67.31s/epoch]"
     ]
    },
    {
     "name": "stdout",
     "output_type": "stream",
     "text": [
      "[Epoch 16/250] Training Loss: 0.5936\n"
     ]
    },
    {
     "name": "stderr",
     "output_type": "stream",
     "text": [
      "Training:   6%|▋         | 16/250 [18:01<4:22:20, 67.27s/epoch]"
     ]
    },
    {
     "name": "stdout",
     "output_type": "stream",
     "text": [
      "  Train => MSE=0.6437, CI=0.7586, Pearson=0.5222\n",
      "  Test  => MSE=0.6848, CI=0.7617, Pearson=0.5023\n",
      "Checkpoint saved at epoch 16\n",
      "Deleted previous checkpoint: /kaggle/working/TrainingModelMul/model_epoch15.pt\n"
     ]
    },
    {
     "name": "stderr",
     "output_type": "stream",
     "text": [
      "Training:   6%|▋         | 16/250 [18:33<4:22:20, 67.27s/epoch]"
     ]
    },
    {
     "name": "stdout",
     "output_type": "stream",
     "text": [
      "[Epoch 17/250] Training Loss: 0.6245\n"
     ]
    },
    {
     "name": "stderr",
     "output_type": "stream",
     "text": [
      "Training:   7%|▋         | 17/250 [19:08<4:21:47, 67.41s/epoch]"
     ]
    },
    {
     "name": "stdout",
     "output_type": "stream",
     "text": [
      "  Train => MSE=0.5314, CI=0.7595, Pearson=0.5279\n",
      "  Test  => MSE=0.5875, CI=0.7632, Pearson=0.5073\n",
      "Checkpoint saved at epoch 17\n",
      "Deleted previous checkpoint: /kaggle/working/TrainingModelMul/model_epoch16.pt\n"
     ]
    },
    {
     "name": "stderr",
     "output_type": "stream",
     "text": [
      "Training:   7%|▋         | 17/250 [19:40<4:21:47, 67.41s/epoch]"
     ]
    },
    {
     "name": "stdout",
     "output_type": "stream",
     "text": [
      "[Epoch 18/250] Training Loss: 0.5910\n"
     ]
    },
    {
     "name": "stderr",
     "output_type": "stream",
     "text": [
      "Training:   7%|▋         | 18/250 [20:15<4:19:09, 67.02s/epoch]"
     ]
    },
    {
     "name": "stdout",
     "output_type": "stream",
     "text": [
      "  Train => MSE=0.5245, CI=0.7625, Pearson=0.5382\n",
      "  Test  => MSE=0.5823, CI=0.7651, Pearson=0.5130\n",
      "Checkpoint saved at epoch 18\n",
      "Deleted previous checkpoint: /kaggle/working/TrainingModelMul/model_epoch17.pt\n"
     ]
    },
    {
     "name": "stderr",
     "output_type": "stream",
     "text": [
      "Training:   7%|▋         | 18/250 [20:47<4:19:09, 67.02s/epoch]"
     ]
    },
    {
     "name": "stdout",
     "output_type": "stream",
     "text": [
      "[Epoch 19/250] Training Loss: 0.5867\n"
     ]
    },
    {
     "name": "stderr",
     "output_type": "stream",
     "text": [
      "Training:   8%|▊         | 19/250 [21:22<4:18:13, 67.07s/epoch]"
     ]
    },
    {
     "name": "stdout",
     "output_type": "stream",
     "text": [
      "  Train => MSE=0.5198, CI=0.7648, Pearson=0.5461\n",
      "  Test  => MSE=0.5786, CI=0.7677, Pearson=0.5189\n",
      "Checkpoint saved at epoch 19\n",
      "Deleted previous checkpoint: /kaggle/working/TrainingModelMul/model_epoch18.pt\n"
     ]
    },
    {
     "name": "stderr",
     "output_type": "stream",
     "text": [
      "Training:   8%|▊         | 19/250 [21:55<4:18:13, 67.07s/epoch]"
     ]
    },
    {
     "name": "stdout",
     "output_type": "stream",
     "text": [
      "[Epoch 20/250] Training Loss: 0.5861\n"
     ]
    },
    {
     "name": "stderr",
     "output_type": "stream",
     "text": [
      "Training:   8%|▊         | 20/250 [22:30<4:18:36, 67.46s/epoch]"
     ]
    },
    {
     "name": "stdout",
     "output_type": "stream",
     "text": [
      "  Train => MSE=0.5295, CI=0.7655, Pearson=0.5504\n",
      "  Test  => MSE=0.5871, CI=0.7690, Pearson=0.5220\n",
      "Checkpoint saved at epoch 20\n",
      "Deleted previous checkpoint: /kaggle/working/TrainingModelMul/model_epoch19.pt\n"
     ]
    },
    {
     "name": "stderr",
     "output_type": "stream",
     "text": [
      "Training:   8%|▊         | 20/250 [23:02<4:18:36, 67.46s/epoch]"
     ]
    },
    {
     "name": "stdout",
     "output_type": "stream",
     "text": [
      "[Epoch 21/250] Training Loss: 0.5788\n"
     ]
    },
    {
     "name": "stderr",
     "output_type": "stream",
     "text": [
      "Training:   8%|▊         | 21/250 [23:37<4:16:28, 67.20s/epoch]"
     ]
    },
    {
     "name": "stdout",
     "output_type": "stream",
     "text": [
      "  Train => MSE=0.5079, CI=0.7679, Pearson=0.5572\n",
      "  Test  => MSE=0.5736, CI=0.7713, Pearson=0.5265\n",
      "Checkpoint saved at epoch 21\n",
      "Deleted previous checkpoint: /kaggle/working/TrainingModelMul/model_epoch20.pt\n"
     ]
    },
    {
     "name": "stderr",
     "output_type": "stream",
     "text": [
      "Training:   8%|▊         | 21/250 [24:10<4:16:28, 67.20s/epoch]"
     ]
    },
    {
     "name": "stdout",
     "output_type": "stream",
     "text": [
      "[Epoch 22/250] Training Loss: 0.5743\n"
     ]
    },
    {
     "name": "stderr",
     "output_type": "stream",
     "text": [
      "Training:   9%|▉         | 22/250 [24:45<4:16:51, 67.60s/epoch]"
     ]
    },
    {
     "name": "stdout",
     "output_type": "stream",
     "text": [
      "  Train => MSE=0.5018, CI=0.7690, Pearson=0.5635\n",
      "  Test  => MSE=0.5651, CI=0.7723, Pearson=0.5337\n",
      "Checkpoint saved at epoch 22\n",
      "Deleted previous checkpoint: /kaggle/working/TrainingModelMul/model_epoch21.pt\n"
     ]
    },
    {
     "name": "stderr",
     "output_type": "stream",
     "text": [
      "Training:   9%|▉         | 22/250 [25:17<4:16:51, 67.60s/epoch]"
     ]
    },
    {
     "name": "stdout",
     "output_type": "stream",
     "text": [
      "[Epoch 23/250] Training Loss: 0.5666\n"
     ]
    },
    {
     "name": "stderr",
     "output_type": "stream",
     "text": [
      "Training:   9%|▉         | 23/250 [25:51<4:13:21, 66.97s/epoch]"
     ]
    },
    {
     "name": "stdout",
     "output_type": "stream",
     "text": [
      "  Train => MSE=0.5373, CI=0.7710, Pearson=0.5692\n",
      "  Test  => MSE=0.5994, CI=0.7739, Pearson=0.5348\n",
      "Checkpoint saved at epoch 23\n",
      "Deleted previous checkpoint: /kaggle/working/TrainingModelMul/model_epoch22.pt\n"
     ]
    },
    {
     "name": "stderr",
     "output_type": "stream",
     "text": [
      "Training:   9%|▉         | 23/250 [26:24<4:13:21, 66.97s/epoch]"
     ]
    },
    {
     "name": "stdout",
     "output_type": "stream",
     "text": [
      "[Epoch 24/250] Training Loss: 0.5656\n"
     ]
    },
    {
     "name": "stderr",
     "output_type": "stream",
     "text": [
      "Training:  10%|▉         | 24/250 [26:59<4:13:28, 67.30s/epoch]"
     ]
    },
    {
     "name": "stdout",
     "output_type": "stream",
     "text": [
      "  Train => MSE=0.5011, CI=0.7726, Pearson=0.5738\n",
      "  Test  => MSE=0.5689, CI=0.7751, Pearson=0.5365\n",
      "Checkpoint saved at epoch 24\n",
      "Deleted previous checkpoint: /kaggle/working/TrainingModelMul/model_epoch23.pt\n"
     ]
    },
    {
     "name": "stderr",
     "output_type": "stream",
     "text": [
      "Training:  10%|▉         | 24/250 [27:31<4:13:28, 67.30s/epoch]"
     ]
    },
    {
     "name": "stdout",
     "output_type": "stream",
     "text": [
      "[Epoch 25/250] Training Loss: 0.5669\n"
     ]
    },
    {
     "name": "stderr",
     "output_type": "stream",
     "text": [
      "Training:  10%|█         | 25/250 [28:06<4:11:46, 67.14s/epoch]"
     ]
    },
    {
     "name": "stdout",
     "output_type": "stream",
     "text": [
      "  Train => MSE=0.4918, CI=0.7742, Pearson=0.5762\n",
      "  Test  => MSE=0.5574, CI=0.7767, Pearson=0.5419\n",
      "Checkpoint saved at epoch 25\n",
      "Deleted previous checkpoint: /kaggle/working/TrainingModelMul/model_epoch24.pt\n"
     ]
    },
    {
     "name": "stderr",
     "output_type": "stream",
     "text": [
      "Training:  10%|█         | 25/250 [28:38<4:11:46, 67.14s/epoch]"
     ]
    },
    {
     "name": "stdout",
     "output_type": "stream",
     "text": [
      "[Epoch 26/250] Training Loss: 0.5560\n"
     ]
    },
    {
     "name": "stderr",
     "output_type": "stream",
     "text": [
      "Training:  10%|█         | 26/250 [29:14<4:11:49, 67.45s/epoch]"
     ]
    },
    {
     "name": "stdout",
     "output_type": "stream",
     "text": [
      "  Train => MSE=0.5220, CI=0.7741, Pearson=0.5801\n",
      "  Test  => MSE=0.5864, CI=0.7773, Pearson=0.5433\n",
      "Checkpoint saved at epoch 26\n",
      "Deleted previous checkpoint: /kaggle/working/TrainingModelMul/model_epoch25.pt\n"
     ]
    },
    {
     "name": "stderr",
     "output_type": "stream",
     "text": [
      "Training:  10%|█         | 26/250 [29:46<4:11:49, 67.45s/epoch]"
     ]
    },
    {
     "name": "stdout",
     "output_type": "stream",
     "text": [
      "[Epoch 27/250] Training Loss: 0.5557\n"
     ]
    },
    {
     "name": "stderr",
     "output_type": "stream",
     "text": [
      "Training:  11%|█         | 27/250 [30:20<4:08:50, 66.95s/epoch]"
     ]
    },
    {
     "name": "stdout",
     "output_type": "stream",
     "text": [
      "  Train => MSE=0.5140, CI=0.7739, Pearson=0.5838\n",
      "  Test  => MSE=0.5847, CI=0.7772, Pearson=0.5426\n",
      "Checkpoint saved at epoch 27\n",
      "Deleted previous checkpoint: /kaggle/working/TrainingModelMul/model_epoch26.pt\n"
     ]
    },
    {
     "name": "stderr",
     "output_type": "stream",
     "text": [
      "Training:  11%|█         | 27/250 [30:53<4:08:50, 66.95s/epoch]"
     ]
    },
    {
     "name": "stdout",
     "output_type": "stream",
     "text": [
      "[Epoch 28/250] Training Loss: 0.5543\n"
     ]
    },
    {
     "name": "stderr",
     "output_type": "stream",
     "text": [
      "Training:  11%|█         | 28/250 [31:28<4:09:01, 67.30s/epoch]"
     ]
    },
    {
     "name": "stdout",
     "output_type": "stream",
     "text": [
      "  Train => MSE=0.5421, CI=0.7745, Pearson=0.5833\n",
      "  Test  => MSE=0.6107, CI=0.7776, Pearson=0.5441\n",
      "Checkpoint saved at epoch 28\n",
      "Deleted previous checkpoint: /kaggle/working/TrainingModelMul/model_epoch27.pt\n"
     ]
    },
    {
     "name": "stderr",
     "output_type": "stream",
     "text": [
      "Training:  11%|█         | 28/250 [32:00<4:09:01, 67.30s/epoch]"
     ]
    },
    {
     "name": "stdout",
     "output_type": "stream",
     "text": [
      "[Epoch 29/250] Training Loss: 0.5779\n"
     ]
    },
    {
     "name": "stderr",
     "output_type": "stream",
     "text": [
      "Training:  12%|█▏        | 29/250 [32:34<4:07:02, 67.07s/epoch]"
     ]
    },
    {
     "name": "stdout",
     "output_type": "stream",
     "text": [
      "  Train => MSE=0.4884, CI=0.7741, Pearson=0.5841\n",
      "  Test  => MSE=0.5556, CI=0.7774, Pearson=0.5483\n",
      "Checkpoint saved at epoch 29\n",
      "Deleted previous checkpoint: /kaggle/working/TrainingModelMul/model_epoch28.pt\n"
     ]
    },
    {
     "name": "stderr",
     "output_type": "stream",
     "text": [
      "Training:  12%|█▏        | 29/250 [33:07<4:07:02, 67.07s/epoch]"
     ]
    },
    {
     "name": "stdout",
     "output_type": "stream",
     "text": [
      "[Epoch 30/250] Training Loss: 0.5489\n"
     ]
    },
    {
     "name": "stderr",
     "output_type": "stream",
     "text": [
      "Training:  12%|█▏        | 30/250 [33:43<4:07:45, 67.57s/epoch]"
     ]
    },
    {
     "name": "stdout",
     "output_type": "stream",
     "text": [
      "  Train => MSE=0.6477, CI=0.7745, Pearson=0.5821\n",
      "  Test  => MSE=0.7071, CI=0.7779, Pearson=0.5462\n",
      "Checkpoint saved at epoch 30\n",
      "Deleted previous checkpoint: /kaggle/working/TrainingModelMul/model_epoch29.pt\n"
     ]
    },
    {
     "name": "stderr",
     "output_type": "stream",
     "text": [
      "Training:  12%|█▏        | 30/250 [34:15<4:07:45, 67.57s/epoch]"
     ]
    },
    {
     "name": "stdout",
     "output_type": "stream",
     "text": [
      "[Epoch 31/250] Training Loss: 0.5843\n"
     ]
    },
    {
     "name": "stderr",
     "output_type": "stream",
     "text": [
      "Training:  12%|█▏        | 31/250 [34:49<4:05:20, 67.22s/epoch]"
     ]
    },
    {
     "name": "stdout",
     "output_type": "stream",
     "text": [
      "  Train => MSE=0.5236, CI=0.7738, Pearson=0.5813\n",
      "  Test  => MSE=0.5894, CI=0.7771, Pearson=0.5460\n",
      "Checkpoint saved at epoch 31\n",
      "Deleted previous checkpoint: /kaggle/working/TrainingModelMul/model_epoch30.pt\n"
     ]
    },
    {
     "name": "stderr",
     "output_type": "stream",
     "text": [
      "Training:  12%|█▏        | 31/250 [35:22<4:05:20, 67.22s/epoch]"
     ]
    },
    {
     "name": "stdout",
     "output_type": "stream",
     "text": [
      "[Epoch 32/250] Training Loss: 0.5474\n"
     ]
    },
    {
     "name": "stderr",
     "output_type": "stream",
     "text": [
      "Training:  13%|█▎        | 32/250 [35:57<4:04:24, 67.27s/epoch]"
     ]
    },
    {
     "name": "stdout",
     "output_type": "stream",
     "text": [
      "  Train => MSE=0.4793, CI=0.7788, Pearson=0.5977\n",
      "  Test  => MSE=0.5486, CI=0.7821, Pearson=0.5593\n",
      "Checkpoint saved at epoch 32\n",
      "Deleted previous checkpoint: /kaggle/working/TrainingModelMul/model_epoch31.pt\n"
     ]
    },
    {
     "name": "stderr",
     "output_type": "stream",
     "text": [
      "Training:  13%|█▎        | 32/250 [36:29<4:04:24, 67.27s/epoch]"
     ]
    },
    {
     "name": "stdout",
     "output_type": "stream",
     "text": [
      "[Epoch 33/250] Training Loss: 0.5398\n"
     ]
    },
    {
     "name": "stderr",
     "output_type": "stream",
     "text": [
      "Training:  13%|█▎        | 32/250 [37:04<4:04:24, 67.27s/epoch]"
     ]
    },
    {
     "name": "stdout",
     "output_type": "stream",
     "text": [
      "  Train => MSE=0.5066, CI=0.7793, Pearson=0.5962\n",
      "  Test  => MSE=0.5712, CI=0.7828, Pearson=0.5604\n"
     ]
    },
    {
     "name": "stderr",
     "output_type": "stream",
     "text": [
      "Training:  13%|█▎        | 33/250 [37:04<4:03:08, 67.23s/epoch]"
     ]
    },
    {
     "name": "stdout",
     "output_type": "stream",
     "text": [
      "Checkpoint saved at epoch 33\n",
      "Deleted previous checkpoint: /kaggle/working/TrainingModelMul/model_epoch32.pt\n"
     ]
    },
    {
     "name": "stderr",
     "output_type": "stream",
     "text": [
      "Training:  13%|█▎        | 33/250 [37:36<4:03:08, 67.23s/epoch]"
     ]
    },
    {
     "name": "stdout",
     "output_type": "stream",
     "text": [
      "[Epoch 34/250] Training Loss: 0.5337\n"
     ]
    },
    {
     "name": "stderr",
     "output_type": "stream",
     "text": [
      "Training:  14%|█▎        | 34/250 [38:10<4:01:00, 66.95s/epoch]"
     ]
    },
    {
     "name": "stdout",
     "output_type": "stream",
     "text": [
      "  Train => MSE=0.5131, CI=0.7802, Pearson=0.5997\n",
      "  Test  => MSE=0.5767, CI=0.7831, Pearson=0.5627\n",
      "Checkpoint saved at epoch 34\n",
      "Deleted previous checkpoint: /kaggle/working/TrainingModelMul/model_epoch33.pt\n"
     ]
    },
    {
     "name": "stderr",
     "output_type": "stream",
     "text": [
      "Training:  14%|█▎        | 34/250 [38:43<4:01:00, 66.95s/epoch]"
     ]
    },
    {
     "name": "stdout",
     "output_type": "stream",
     "text": [
      "[Epoch 35/250] Training Loss: 0.5326\n"
     ]
    },
    {
     "name": "stderr",
     "output_type": "stream",
     "text": [
      "Training:  14%|█▍        | 35/250 [39:18<4:00:35, 67.14s/epoch]"
     ]
    },
    {
     "name": "stdout",
     "output_type": "stream",
     "text": [
      "  Train => MSE=0.5317, CI=0.7792, Pearson=0.6010\n",
      "  Test  => MSE=0.5940, CI=0.7824, Pearson=0.5629\n",
      "Checkpoint saved at epoch 35\n",
      "Deleted previous checkpoint: /kaggle/working/TrainingModelMul/model_epoch34.pt\n"
     ]
    },
    {
     "name": "stderr",
     "output_type": "stream",
     "text": [
      "Training:  14%|█▍        | 35/250 [39:50<4:00:35, 67.14s/epoch]"
     ]
    },
    {
     "name": "stdout",
     "output_type": "stream",
     "text": [
      "[Epoch 36/250] Training Loss: 0.5365\n"
     ]
    },
    {
     "name": "stderr",
     "output_type": "stream",
     "text": [
      "Training:  14%|█▍        | 36/250 [40:25<3:59:19, 67.10s/epoch]"
     ]
    },
    {
     "name": "stdout",
     "output_type": "stream",
     "text": [
      "  Train => MSE=0.5147, CI=0.7807, Pearson=0.6064\n",
      "  Test  => MSE=0.5786, CI=0.7844, Pearson=0.5688\n",
      "Checkpoint saved at epoch 36\n",
      "Deleted previous checkpoint: /kaggle/working/TrainingModelMul/model_epoch35.pt\n"
     ]
    },
    {
     "name": "stderr",
     "output_type": "stream",
     "text": [
      "Training:  14%|█▍        | 36/250 [40:58<3:59:19, 67.10s/epoch]"
     ]
    },
    {
     "name": "stdout",
     "output_type": "stream",
     "text": [
      "[Epoch 37/250] Training Loss: 0.5386\n"
     ]
    },
    {
     "name": "stderr",
     "output_type": "stream",
     "text": [
      "Training:  15%|█▍        | 37/250 [41:33<3:59:19, 67.42s/epoch]"
     ]
    },
    {
     "name": "stdout",
     "output_type": "stream",
     "text": [
      "  Train => MSE=0.4609, CI=0.7843, Pearson=0.6136\n",
      "  Test  => MSE=0.5300, CI=0.7885, Pearson=0.5775\n",
      "Checkpoint saved at epoch 37\n",
      "Deleted previous checkpoint: /kaggle/working/TrainingModelMul/model_epoch36.pt\n"
     ]
    },
    {
     "name": "stderr",
     "output_type": "stream",
     "text": [
      "Training:  15%|█▍        | 37/250 [42:05<3:59:19, 67.42s/epoch]"
     ]
    },
    {
     "name": "stdout",
     "output_type": "stream",
     "text": [
      "[Epoch 38/250] Training Loss: 0.5279\n"
     ]
    },
    {
     "name": "stderr",
     "output_type": "stream",
     "text": [
      "Training:  15%|█▌        | 38/250 [42:39<3:56:53, 67.04s/epoch]"
     ]
    },
    {
     "name": "stdout",
     "output_type": "stream",
     "text": [
      "  Train => MSE=0.4593, CI=0.7846, Pearson=0.6191\n",
      "  Test  => MSE=0.5253, CI=0.7892, Pearson=0.5819\n",
      "Checkpoint saved at epoch 38\n",
      "Deleted previous checkpoint: /kaggle/working/TrainingModelMul/model_epoch37.pt\n"
     ]
    },
    {
     "name": "stderr",
     "output_type": "stream",
     "text": [
      "Training:  15%|█▌        | 38/250 [43:11<3:56:53, 67.04s/epoch]"
     ]
    },
    {
     "name": "stdout",
     "output_type": "stream",
     "text": [
      "[Epoch 39/250] Training Loss: 0.5251\n"
     ]
    },
    {
     "name": "stderr",
     "output_type": "stream",
     "text": [
      "Training:  16%|█▌        | 39/250 [43:46<3:55:41, 67.02s/epoch]"
     ]
    },
    {
     "name": "stdout",
     "output_type": "stream",
     "text": [
      "  Train => MSE=0.5374, CI=0.7830, Pearson=0.6131\n",
      "  Test  => MSE=0.5900, CI=0.7881, Pearson=0.5811\n",
      "Checkpoint saved at epoch 39\n",
      "Deleted previous checkpoint: /kaggle/working/TrainingModelMul/model_epoch38.pt\n"
     ]
    },
    {
     "name": "stderr",
     "output_type": "stream",
     "text": [
      "Training:  16%|█▌        | 39/250 [44:18<3:55:41, 67.02s/epoch]"
     ]
    },
    {
     "name": "stdout",
     "output_type": "stream",
     "text": [
      "[Epoch 40/250] Training Loss: 0.5254\n"
     ]
    },
    {
     "name": "stderr",
     "output_type": "stream",
     "text": [
      "Training:  16%|█▌        | 40/250 [44:52<3:53:55, 66.83s/epoch]"
     ]
    },
    {
     "name": "stdout",
     "output_type": "stream",
     "text": [
      "  Train => MSE=0.5679, CI=0.7852, Pearson=0.6124\n",
      "  Test  => MSE=0.6194, CI=0.7890, Pearson=0.5798\n",
      "Checkpoint saved at epoch 40\n",
      "Deleted previous checkpoint: /kaggle/working/TrainingModelMul/model_epoch39.pt\n"
     ]
    },
    {
     "name": "stderr",
     "output_type": "stream",
     "text": [
      "Training:  16%|█▌        | 40/250 [45:24<3:53:55, 66.83s/epoch]"
     ]
    },
    {
     "name": "stdout",
     "output_type": "stream",
     "text": [
      "[Epoch 41/250] Training Loss: 0.5237\n"
     ]
    },
    {
     "name": "stderr",
     "output_type": "stream",
     "text": [
      "Training:  16%|█▋        | 41/250 [45:58<3:51:50, 66.56s/epoch]"
     ]
    },
    {
     "name": "stdout",
     "output_type": "stream",
     "text": [
      "  Train => MSE=0.4853, CI=0.7873, Pearson=0.6195\n",
      "  Test  => MSE=0.5476, CI=0.7912, Pearson=0.5834\n",
      "Checkpoint saved at epoch 41\n",
      "Deleted previous checkpoint: /kaggle/working/TrainingModelMul/model_epoch40.pt\n"
     ]
    },
    {
     "name": "stderr",
     "output_type": "stream",
     "text": [
      "Training:  16%|█▋        | 41/250 [46:31<3:51:50, 66.56s/epoch]"
     ]
    },
    {
     "name": "stdout",
     "output_type": "stream",
     "text": [
      "[Epoch 42/250] Training Loss: 0.5156\n"
     ]
    },
    {
     "name": "stderr",
     "output_type": "stream",
     "text": [
      "Training:  17%|█▋        | 42/250 [47:05<3:51:04, 66.66s/epoch]"
     ]
    },
    {
     "name": "stdout",
     "output_type": "stream",
     "text": [
      "  Train => MSE=0.4785, CI=0.7904, Pearson=0.6281\n",
      "  Test  => MSE=0.5404, CI=0.7942, Pearson=0.5920\n",
      "Checkpoint saved at epoch 42\n",
      "Deleted previous checkpoint: /kaggle/working/TrainingModelMul/model_epoch41.pt\n"
     ]
    },
    {
     "name": "stderr",
     "output_type": "stream",
     "text": [
      "Training:  17%|█▋        | 42/250 [47:38<3:51:04, 66.66s/epoch]"
     ]
    },
    {
     "name": "stdout",
     "output_type": "stream",
     "text": [
      "[Epoch 43/250] Training Loss: 0.5113\n"
     ]
    },
    {
     "name": "stderr",
     "output_type": "stream",
     "text": [
      "Training:  17%|█▋        | 43/250 [48:13<3:50:52, 66.92s/epoch]"
     ]
    },
    {
     "name": "stdout",
     "output_type": "stream",
     "text": [
      "  Train => MSE=0.5432, CI=0.7877, Pearson=0.6194\n",
      "  Test  => MSE=0.5943, CI=0.7912, Pearson=0.5872\n",
      "Checkpoint saved at epoch 43\n",
      "Deleted previous checkpoint: /kaggle/working/TrainingModelMul/model_epoch42.pt\n"
     ]
    },
    {
     "name": "stderr",
     "output_type": "stream",
     "text": [
      "Training:  17%|█▋        | 43/250 [48:45<3:50:52, 66.92s/epoch]"
     ]
    },
    {
     "name": "stdout",
     "output_type": "stream",
     "text": [
      "[Epoch 44/250] Training Loss: 0.5109\n"
     ]
    },
    {
     "name": "stderr",
     "output_type": "stream",
     "text": [
      "Training:  18%|█▊        | 44/250 [49:19<3:48:38, 66.60s/epoch]"
     ]
    },
    {
     "name": "stdout",
     "output_type": "stream",
     "text": [
      "  Train => MSE=0.5654, CI=0.7905, Pearson=0.6249\n",
      "  Test  => MSE=0.6181, CI=0.7923, Pearson=0.5912\n",
      "Checkpoint saved at epoch 44\n",
      "Deleted previous checkpoint: /kaggle/working/TrainingModelMul/model_epoch43.pt\n"
     ]
    },
    {
     "name": "stderr",
     "output_type": "stream",
     "text": [
      "Training:  18%|█▊        | 44/250 [49:51<3:48:38, 66.60s/epoch]"
     ]
    },
    {
     "name": "stdout",
     "output_type": "stream",
     "text": [
      "[Epoch 45/250] Training Loss: 0.5169\n"
     ]
    },
    {
     "name": "stderr",
     "output_type": "stream",
     "text": [
      "Training:  18%|█▊        | 45/250 [50:26<3:48:00, 66.73s/epoch]"
     ]
    },
    {
     "name": "stdout",
     "output_type": "stream",
     "text": [
      "  Train => MSE=0.4866, CI=0.7932, Pearson=0.6325\n",
      "  Test  => MSE=0.5454, CI=0.7955, Pearson=0.5979\n",
      "Checkpoint saved at epoch 45\n",
      "Deleted previous checkpoint: /kaggle/working/TrainingModelMul/model_epoch44.pt\n"
     ]
    },
    {
     "name": "stderr",
     "output_type": "stream",
     "text": [
      "Training:  18%|█▊        | 45/250 [50:57<3:48:00, 66.73s/epoch]"
     ]
    },
    {
     "name": "stdout",
     "output_type": "stream",
     "text": [
      "[Epoch 46/250] Training Loss: 0.5137\n"
     ]
    },
    {
     "name": "stderr",
     "output_type": "stream",
     "text": [
      "Training:  18%|█▊        | 46/250 [51:31<3:45:55, 66.45s/epoch]"
     ]
    },
    {
     "name": "stdout",
     "output_type": "stream",
     "text": [
      "  Train => MSE=0.4572, CI=0.7978, Pearson=0.6398\n",
      "  Test  => MSE=0.5234, CI=0.7990, Pearson=0.6007\n",
      "Checkpoint saved at epoch 46\n",
      "Deleted previous checkpoint: /kaggle/working/TrainingModelMul/model_epoch45.pt\n"
     ]
    },
    {
     "name": "stderr",
     "output_type": "stream",
     "text": [
      "Training:  18%|█▊        | 46/250 [52:04<3:45:55, 66.45s/epoch]"
     ]
    },
    {
     "name": "stdout",
     "output_type": "stream",
     "text": [
      "[Epoch 47/250] Training Loss: 0.4994\n"
     ]
    },
    {
     "name": "stderr",
     "output_type": "stream",
     "text": [
      "Training:  19%|█▉        | 47/250 [52:39<3:45:43, 66.71s/epoch]"
     ]
    },
    {
     "name": "stdout",
     "output_type": "stream",
     "text": [
      "  Train => MSE=0.4548, CI=0.8019, Pearson=0.6444\n",
      "  Test  => MSE=0.5185, CI=0.8026, Pearson=0.6074\n",
      "Checkpoint saved at epoch 47\n",
      "Deleted previous checkpoint: /kaggle/working/TrainingModelMul/model_epoch46.pt\n"
     ]
    },
    {
     "name": "stderr",
     "output_type": "stream",
     "text": [
      "Training:  19%|█▉        | 47/250 [53:10<3:45:43, 66.71s/epoch]"
     ]
    },
    {
     "name": "stdout",
     "output_type": "stream",
     "text": [
      "[Epoch 48/250] Training Loss: 0.4977\n"
     ]
    },
    {
     "name": "stderr",
     "output_type": "stream",
     "text": [
      "Training:  19%|█▉        | 48/250 [53:44<3:43:27, 66.38s/epoch]"
     ]
    },
    {
     "name": "stdout",
     "output_type": "stream",
     "text": [
      "  Train => MSE=0.5020, CI=0.7973, Pearson=0.6397\n",
      "  Test  => MSE=0.5595, CI=0.7979, Pearson=0.6056\n",
      "Checkpoint saved at epoch 48\n",
      "Deleted previous checkpoint: /kaggle/working/TrainingModelMul/model_epoch47.pt\n"
     ]
    },
    {
     "name": "stderr",
     "output_type": "stream",
     "text": [
      "Training:  19%|█▉        | 48/250 [54:16<3:43:27, 66.38s/epoch]"
     ]
    },
    {
     "name": "stdout",
     "output_type": "stream",
     "text": [
      "[Epoch 49/250] Training Loss: 0.4947\n"
     ]
    },
    {
     "name": "stderr",
     "output_type": "stream",
     "text": [
      "Training:  20%|█▉        | 49/250 [54:50<3:41:48, 66.21s/epoch]"
     ]
    },
    {
     "name": "stdout",
     "output_type": "stream",
     "text": [
      "  Train => MSE=0.4819, CI=0.8013, Pearson=0.6454\n",
      "  Test  => MSE=0.5412, CI=0.8012, Pearson=0.6099\n",
      "Checkpoint saved at epoch 49\n",
      "Deleted previous checkpoint: /kaggle/working/TrainingModelMul/model_epoch48.pt\n"
     ]
    },
    {
     "name": "stderr",
     "output_type": "stream",
     "text": [
      "Training:  20%|█▉        | 49/250 [55:22<3:41:48, 66.21s/epoch]"
     ]
    },
    {
     "name": "stdout",
     "output_type": "stream",
     "text": [
      "[Epoch 50/250] Training Loss: 0.4983\n"
     ]
    },
    {
     "name": "stderr",
     "output_type": "stream",
     "text": [
      "Training:  20%|██        | 50/250 [55:56<3:40:31, 66.16s/epoch]"
     ]
    },
    {
     "name": "stdout",
     "output_type": "stream",
     "text": [
      "  Train => MSE=0.5476, CI=0.7960, Pearson=0.6378\n",
      "  Test  => MSE=0.6019, CI=0.7956, Pearson=0.6031\n",
      "Checkpoint saved at epoch 50\n",
      "Deleted previous checkpoint: /kaggle/working/TrainingModelMul/model_epoch49.pt\n"
     ]
    },
    {
     "name": "stderr",
     "output_type": "stream",
     "text": [
      "Training:  20%|██        | 50/250 [56:28<3:40:31, 66.16s/epoch]"
     ]
    },
    {
     "name": "stdout",
     "output_type": "stream",
     "text": [
      "[Epoch 51/250] Training Loss: 0.4971\n"
     ]
    },
    {
     "name": "stderr",
     "output_type": "stream",
     "text": [
      "Training:  20%|██        | 51/250 [57:02<3:39:17, 66.12s/epoch]"
     ]
    },
    {
     "name": "stdout",
     "output_type": "stream",
     "text": [
      "  Train => MSE=0.4595, CI=0.8023, Pearson=0.6493\n",
      "  Test  => MSE=0.5205, CI=0.8011, Pearson=0.6139\n",
      "Checkpoint saved at epoch 51\n",
      "Deleted previous checkpoint: /kaggle/working/TrainingModelMul/model_epoch50.pt\n"
     ]
    },
    {
     "name": "stderr",
     "output_type": "stream",
     "text": [
      "Training:  20%|██        | 51/250 [57:35<3:39:17, 66.12s/epoch]"
     ]
    },
    {
     "name": "stdout",
     "output_type": "stream",
     "text": [
      "[Epoch 52/250] Training Loss: 0.4899\n"
     ]
    },
    {
     "name": "stderr",
     "output_type": "stream",
     "text": [
      "Training:  21%|██        | 52/250 [58:09<3:39:11, 66.42s/epoch]"
     ]
    },
    {
     "name": "stdout",
     "output_type": "stream",
     "text": [
      "  Train => MSE=0.5260, CI=0.8037, Pearson=0.6482\n",
      "  Test  => MSE=0.5792, CI=0.8027, Pearson=0.6153\n",
      "Checkpoint saved at epoch 52\n",
      "Deleted previous checkpoint: /kaggle/working/TrainingModelMul/model_epoch51.pt\n"
     ]
    },
    {
     "name": "stderr",
     "output_type": "stream",
     "text": [
      "Training:  21%|██        | 52/250 [58:41<3:39:11, 66.42s/epoch]"
     ]
    },
    {
     "name": "stdout",
     "output_type": "stream",
     "text": [
      "[Epoch 53/250] Training Loss: 0.4892\n"
     ]
    },
    {
     "name": "stderr",
     "output_type": "stream",
     "text": [
      "Training:  21%|██        | 53/250 [59:15<3:37:19, 66.19s/epoch]"
     ]
    },
    {
     "name": "stdout",
     "output_type": "stream",
     "text": [
      "  Train => MSE=0.4953, CI=0.8012, Pearson=0.6489\n",
      "  Test  => MSE=0.5527, CI=0.8000, Pearson=0.6149\n",
      "Checkpoint saved at epoch 53\n",
      "Deleted previous checkpoint: /kaggle/working/TrainingModelMul/model_epoch52.pt\n"
     ]
    },
    {
     "name": "stderr",
     "output_type": "stream",
     "text": [
      "Training:  21%|██        | 53/250 [59:48<3:37:19, 66.19s/epoch]"
     ]
    },
    {
     "name": "stdout",
     "output_type": "stream",
     "text": [
      "[Epoch 54/250] Training Loss: 0.4822\n"
     ]
    },
    {
     "name": "stderr",
     "output_type": "stream",
     "text": [
      "Training:  22%|██▏       | 54/250 [1:00:23<3:37:32, 66.60s/epoch]"
     ]
    },
    {
     "name": "stdout",
     "output_type": "stream",
     "text": [
      "  Train => MSE=0.4330, CI=0.8078, Pearson=0.6614\n",
      "  Test  => MSE=0.4984, CI=0.8047, Pearson=0.6221\n",
      "Checkpoint saved at epoch 54\n",
      "Deleted previous checkpoint: /kaggle/working/TrainingModelMul/model_epoch53.pt\n"
     ]
    },
    {
     "name": "stderr",
     "output_type": "stream",
     "text": [
      "Training:  22%|██▏       | 54/250 [1:00:54<3:37:32, 66.60s/epoch]"
     ]
    },
    {
     "name": "stdout",
     "output_type": "stream",
     "text": [
      "[Epoch 55/250] Training Loss: 0.4797\n"
     ]
    },
    {
     "name": "stderr",
     "output_type": "stream",
     "text": [
      "Training:  22%|██▏       | 55/250 [1:01:28<3:35:04, 66.18s/epoch]"
     ]
    },
    {
     "name": "stdout",
     "output_type": "stream",
     "text": [
      "  Train => MSE=0.4330, CI=0.8068, Pearson=0.6632\n",
      "  Test  => MSE=0.4978, CI=0.8051, Pearson=0.6239\n",
      "Checkpoint saved at epoch 55\n",
      "Deleted previous checkpoint: /kaggle/working/TrainingModelMul/model_epoch54.pt\n"
     ]
    },
    {
     "name": "stderr",
     "output_type": "stream",
     "text": [
      "Training:  22%|██▏       | 55/250 [1:02:00<3:35:04, 66.18s/epoch]"
     ]
    },
    {
     "name": "stdout",
     "output_type": "stream",
     "text": [
      "[Epoch 56/250] Training Loss: 0.4833\n"
     ]
    },
    {
     "name": "stderr",
     "output_type": "stream",
     "text": [
      "Training:  22%|██▏       | 56/250 [1:02:34<3:33:42, 66.09s/epoch]"
     ]
    },
    {
     "name": "stdout",
     "output_type": "stream",
     "text": [
      "  Train => MSE=0.4173, CI=0.8128, Pearson=0.6661\n",
      "  Test  => MSE=0.4883, CI=0.8104, Pearson=0.6238\n",
      "Checkpoint saved at epoch 56\n",
      "Deleted previous checkpoint: /kaggle/working/TrainingModelMul/model_epoch55.pt\n"
     ]
    },
    {
     "name": "stderr",
     "output_type": "stream",
     "text": [
      "Training:  22%|██▏       | 56/250 [1:03:06<3:33:42, 66.09s/epoch]"
     ]
    },
    {
     "name": "stdout",
     "output_type": "stream",
     "text": [
      "[Epoch 57/250] Training Loss: 0.4793\n"
     ]
    },
    {
     "name": "stderr",
     "output_type": "stream",
     "text": [
      "Training:  23%|██▎       | 57/250 [1:03:39<3:32:08, 65.95s/epoch]"
     ]
    },
    {
     "name": "stdout",
     "output_type": "stream",
     "text": [
      "  Train => MSE=0.4050, CI=0.8140, Pearson=0.6715\n",
      "  Test  => MSE=0.4788, CI=0.8097, Pearson=0.6270\n",
      "Checkpoint saved at epoch 57\n",
      "Deleted previous checkpoint: /kaggle/working/TrainingModelMul/model_epoch56.pt\n"
     ]
    },
    {
     "name": "stderr",
     "output_type": "stream",
     "text": [
      "Training:  23%|██▎       | 57/250 [1:04:12<3:32:08, 65.95s/epoch]"
     ]
    },
    {
     "name": "stdout",
     "output_type": "stream",
     "text": [
      "[Epoch 58/250] Training Loss: 0.4762\n"
     ]
    },
    {
     "name": "stderr",
     "output_type": "stream",
     "text": [
      "Training:  23%|██▎       | 58/250 [1:04:47<3:32:27, 66.39s/epoch]"
     ]
    },
    {
     "name": "stdout",
     "output_type": "stream",
     "text": [
      "  Train => MSE=0.4071, CI=0.8119, Pearson=0.6701\n",
      "  Test  => MSE=0.4783, CI=0.8089, Pearson=0.6293\n",
      "Checkpoint saved at epoch 58\n",
      "Deleted previous checkpoint: /kaggle/working/TrainingModelMul/model_epoch57.pt\n"
     ]
    },
    {
     "name": "stderr",
     "output_type": "stream",
     "text": [
      "Training:  23%|██▎       | 58/250 [1:05:19<3:32:27, 66.39s/epoch]"
     ]
    },
    {
     "name": "stdout",
     "output_type": "stream",
     "text": [
      "[Epoch 59/250] Training Loss: 0.4761\n"
     ]
    },
    {
     "name": "stderr",
     "output_type": "stream",
     "text": [
      "Training:  24%|██▎       | 59/250 [1:05:53<3:31:39, 66.49s/epoch]"
     ]
    },
    {
     "name": "stdout",
     "output_type": "stream",
     "text": [
      "  Train => MSE=0.4019, CI=0.8160, Pearson=0.6764\n",
      "  Test  => MSE=0.4749, CI=0.8116, Pearson=0.6326\n",
      "Checkpoint saved at epoch 59\n",
      "Deleted previous checkpoint: /kaggle/working/TrainingModelMul/model_epoch58.pt\n"
     ]
    },
    {
     "name": "stderr",
     "output_type": "stream",
     "text": [
      "Training:  24%|██▎       | 59/250 [1:06:25<3:31:39, 66.49s/epoch]"
     ]
    },
    {
     "name": "stdout",
     "output_type": "stream",
     "text": [
      "[Epoch 60/250] Training Loss: 0.4696\n"
     ]
    },
    {
     "name": "stderr",
     "output_type": "stream",
     "text": [
      "Training:  24%|██▍       | 60/250 [1:06:59<3:29:43, 66.23s/epoch]"
     ]
    },
    {
     "name": "stdout",
     "output_type": "stream",
     "text": [
      "  Train => MSE=0.4070, CI=0.8100, Pearson=0.6693\n",
      "  Test  => MSE=0.4793, CI=0.8072, Pearson=0.6265\n",
      "Checkpoint saved at epoch 60\n",
      "Deleted previous checkpoint: /kaggle/working/TrainingModelMul/model_epoch59.pt\n"
     ]
    },
    {
     "name": "stderr",
     "output_type": "stream",
     "text": [
      "Training:  24%|██▍       | 60/250 [1:07:32<3:29:43, 66.23s/epoch]"
     ]
    },
    {
     "name": "stdout",
     "output_type": "stream",
     "text": [
      "[Epoch 61/250] Training Loss: 0.4699\n"
     ]
    },
    {
     "name": "stderr",
     "output_type": "stream",
     "text": [
      "Training:  24%|██▍       | 61/250 [1:08:06<3:29:43, 66.58s/epoch]"
     ]
    },
    {
     "name": "stdout",
     "output_type": "stream",
     "text": [
      "  Train => MSE=0.4160, CI=0.8064, Pearson=0.6649\n",
      "  Test  => MSE=0.4851, CI=0.8045, Pearson=0.6244\n",
      "Checkpoint saved at epoch 61\n",
      "Deleted previous checkpoint: /kaggle/working/TrainingModelMul/model_epoch60.pt\n"
     ]
    },
    {
     "name": "stderr",
     "output_type": "stream",
     "text": [
      "Training:  24%|██▍       | 61/250 [1:08:38<3:29:43, 66.58s/epoch]"
     ]
    },
    {
     "name": "stdout",
     "output_type": "stream",
     "text": [
      "[Epoch 62/250] Training Loss: 0.4662\n"
     ]
    },
    {
     "name": "stderr",
     "output_type": "stream",
     "text": [
      "Training:  25%|██▍       | 62/250 [1:09:12<3:27:24, 66.19s/epoch]"
     ]
    },
    {
     "name": "stdout",
     "output_type": "stream",
     "text": [
      "  Train => MSE=0.4220, CI=0.8169, Pearson=0.6780\n",
      "  Test  => MSE=0.4943, CI=0.8129, Pearson=0.6339\n",
      "Checkpoint saved at epoch 62\n",
      "Deleted previous checkpoint: /kaggle/working/TrainingModelMul/model_epoch61.pt\n"
     ]
    },
    {
     "name": "stderr",
     "output_type": "stream",
     "text": [
      "Training:  25%|██▍       | 62/250 [1:09:43<3:27:24, 66.19s/epoch]"
     ]
    },
    {
     "name": "stdout",
     "output_type": "stream",
     "text": [
      "[Epoch 63/250] Training Loss: 0.4626\n"
     ]
    },
    {
     "name": "stderr",
     "output_type": "stream",
     "text": [
      "Training:  25%|██▌       | 63/250 [1:10:17<3:25:35, 65.97s/epoch]"
     ]
    },
    {
     "name": "stdout",
     "output_type": "stream",
     "text": [
      "  Train => MSE=0.4085, CI=0.8192, Pearson=0.6803\n",
      "  Test  => MSE=0.4832, CI=0.8134, Pearson=0.6331\n",
      "Checkpoint saved at epoch 63\n",
      "Deleted previous checkpoint: /kaggle/working/TrainingModelMul/model_epoch62.pt\n"
     ]
    },
    {
     "name": "stderr",
     "output_type": "stream",
     "text": [
      "Training:  25%|██▌       | 63/250 [1:10:49<3:25:35, 65.97s/epoch]"
     ]
    },
    {
     "name": "stdout",
     "output_type": "stream",
     "text": [
      "[Epoch 64/250] Training Loss: 0.4712\n"
     ]
    },
    {
     "name": "stderr",
     "output_type": "stream",
     "text": [
      "Training:  26%|██▌       | 64/250 [1:11:24<3:25:04, 66.15s/epoch]"
     ]
    },
    {
     "name": "stdout",
     "output_type": "stream",
     "text": [
      "  Train => MSE=0.3909, CI=0.8218, Pearson=0.6853\n",
      "  Test  => MSE=0.4640, CI=0.8177, Pearson=0.6420\n",
      "Checkpoint saved at epoch 64\n",
      "Deleted previous checkpoint: /kaggle/working/TrainingModelMul/model_epoch63.pt\n"
     ]
    },
    {
     "name": "stderr",
     "output_type": "stream",
     "text": [
      "Training:  26%|██▌       | 64/250 [1:11:56<3:25:04, 66.15s/epoch]"
     ]
    },
    {
     "name": "stdout",
     "output_type": "stream",
     "text": [
      "[Epoch 65/250] Training Loss: 0.4595\n"
     ]
    },
    {
     "name": "stderr",
     "output_type": "stream",
     "text": [
      "Training:  26%|██▌       | 65/250 [1:12:29<3:23:28, 65.99s/epoch]"
     ]
    },
    {
     "name": "stdout",
     "output_type": "stream",
     "text": [
      "  Train => MSE=0.3884, CI=0.8210, Pearson=0.6877\n",
      "  Test  => MSE=0.4671, CI=0.8152, Pearson=0.6397\n",
      "Checkpoint saved at epoch 65\n",
      "Deleted previous checkpoint: /kaggle/working/TrainingModelMul/model_epoch64.pt\n"
     ]
    },
    {
     "name": "stderr",
     "output_type": "stream",
     "text": [
      "Training:  26%|██▌       | 65/250 [1:13:02<3:23:28, 65.99s/epoch]"
     ]
    },
    {
     "name": "stdout",
     "output_type": "stream",
     "text": [
      "[Epoch 66/250] Training Loss: 0.4563\n"
     ]
    },
    {
     "name": "stderr",
     "output_type": "stream",
     "text": [
      "Training:  26%|██▋       | 66/250 [1:13:36<3:23:10, 66.25s/epoch]"
     ]
    },
    {
     "name": "stdout",
     "output_type": "stream",
     "text": [
      "  Train => MSE=0.3831, CI=0.8240, Pearson=0.6931\n",
      "  Test  => MSE=0.4614, CI=0.8191, Pearson=0.6466\n",
      "Checkpoint saved at epoch 66\n",
      "Deleted previous checkpoint: /kaggle/working/TrainingModelMul/model_epoch65.pt\n"
     ]
    },
    {
     "name": "stderr",
     "output_type": "stream",
     "text": [
      "Training:  26%|██▋       | 66/250 [1:14:08<3:23:10, 66.25s/epoch]"
     ]
    },
    {
     "name": "stdout",
     "output_type": "stream",
     "text": [
      "[Epoch 67/250] Training Loss: 0.4537\n"
     ]
    },
    {
     "name": "stderr",
     "output_type": "stream",
     "text": [
      "Training:  27%|██▋       | 67/250 [1:14:42<3:21:38, 66.11s/epoch]"
     ]
    },
    {
     "name": "stdout",
     "output_type": "stream",
     "text": [
      "  Train => MSE=0.3828, CI=0.8241, Pearson=0.6942\n",
      "  Test  => MSE=0.4623, CI=0.8187, Pearson=0.6462\n",
      "Checkpoint saved at epoch 67\n",
      "Deleted previous checkpoint: /kaggle/working/TrainingModelMul/model_epoch66.pt\n"
     ]
    },
    {
     "name": "stderr",
     "output_type": "stream",
     "text": [
      "Training:  27%|██▋       | 67/250 [1:15:15<3:21:38, 66.11s/epoch]"
     ]
    },
    {
     "name": "stdout",
     "output_type": "stream",
     "text": [
      "[Epoch 68/250] Training Loss: 0.4504\n"
     ]
    },
    {
     "name": "stderr",
     "output_type": "stream",
     "text": [
      "Training:  27%|██▋       | 68/250 [1:15:50<3:22:13, 66.67s/epoch]"
     ]
    },
    {
     "name": "stdout",
     "output_type": "stream",
     "text": [
      "  Train => MSE=0.3849, CI=0.8205, Pearson=0.6933\n",
      "  Test  => MSE=0.4610, CI=0.8146, Pearson=0.6488\n",
      "Checkpoint saved at epoch 68\n",
      "Deleted previous checkpoint: /kaggle/working/TrainingModelMul/model_epoch67.pt\n"
     ]
    },
    {
     "name": "stderr",
     "output_type": "stream",
     "text": [
      "Training:  27%|██▋       | 68/250 [1:16:22<3:22:13, 66.67s/epoch]"
     ]
    },
    {
     "name": "stdout",
     "output_type": "stream",
     "text": [
      "[Epoch 69/250] Training Loss: 0.4495\n"
     ]
    },
    {
     "name": "stderr",
     "output_type": "stream",
     "text": [
      "Training:  28%|██▊       | 69/250 [1:16:56<3:20:09, 66.35s/epoch]"
     ]
    },
    {
     "name": "stdout",
     "output_type": "stream",
     "text": [
      "  Train => MSE=0.3767, CI=0.8250, Pearson=0.6988\n",
      "  Test  => MSE=0.4543, CI=0.8186, Pearson=0.6513\n",
      "Checkpoint saved at epoch 69\n",
      "Deleted previous checkpoint: /kaggle/working/TrainingModelMul/model_epoch68.pt\n"
     ]
    },
    {
     "name": "stderr",
     "output_type": "stream",
     "text": [
      "Training:  28%|██▊       | 69/250 [1:17:28<3:20:09, 66.35s/epoch]"
     ]
    },
    {
     "name": "stdout",
     "output_type": "stream",
     "text": [
      "[Epoch 70/250] Training Loss: 0.4494\n"
     ]
    },
    {
     "name": "stderr",
     "output_type": "stream",
     "text": [
      "Training:  28%|██▊       | 70/250 [1:18:02<3:19:26, 66.48s/epoch]"
     ]
    },
    {
     "name": "stdout",
     "output_type": "stream",
     "text": [
      "  Train => MSE=0.3725, CI=0.8285, Pearson=0.7026\n",
      "  Test  => MSE=0.4514, CI=0.8216, Pearson=0.6541\n",
      "Checkpoint saved at epoch 70\n",
      "Deleted previous checkpoint: /kaggle/working/TrainingModelMul/model_epoch69.pt\n"
     ]
    },
    {
     "name": "stderr",
     "output_type": "stream",
     "text": [
      "Training:  28%|██▊       | 70/250 [1:18:34<3:19:26, 66.48s/epoch]"
     ]
    },
    {
     "name": "stdout",
     "output_type": "stream",
     "text": [
      "[Epoch 71/250] Training Loss: 0.4500\n"
     ]
    },
    {
     "name": "stderr",
     "output_type": "stream",
     "text": [
      "Training:  28%|██▊       | 71/250 [1:19:07<3:17:01, 66.04s/epoch]"
     ]
    },
    {
     "name": "stdout",
     "output_type": "stream",
     "text": [
      "  Train => MSE=0.3758, CI=0.8233, Pearson=0.6997\n",
      "  Test  => MSE=0.4523, CI=0.8173, Pearson=0.6546\n",
      "Checkpoint saved at epoch 71\n",
      "Deleted previous checkpoint: /kaggle/working/TrainingModelMul/model_epoch70.pt\n"
     ]
    },
    {
     "name": "stderr",
     "output_type": "stream",
     "text": [
      "Training:  28%|██▊       | 71/250 [1:19:40<3:17:01, 66.04s/epoch]"
     ]
    },
    {
     "name": "stdout",
     "output_type": "stream",
     "text": [
      "[Epoch 72/250] Training Loss: 0.4485\n"
     ]
    },
    {
     "name": "stderr",
     "output_type": "stream",
     "text": [
      "Training:  29%|██▉       | 72/250 [1:20:14<3:16:31, 66.25s/epoch]"
     ]
    },
    {
     "name": "stdout",
     "output_type": "stream",
     "text": [
      "  Train => MSE=0.3751, CI=0.8241, Pearson=0.7030\n",
      "  Test  => MSE=0.4516, CI=0.8184, Pearson=0.6572\n",
      "Checkpoint saved at epoch 72\n",
      "Deleted previous checkpoint: /kaggle/working/TrainingModelMul/model_epoch71.pt\n"
     ]
    },
    {
     "name": "stderr",
     "output_type": "stream",
     "text": [
      "Training:  29%|██▉       | 72/250 [1:20:46<3:16:31, 66.25s/epoch]"
     ]
    },
    {
     "name": "stdout",
     "output_type": "stream",
     "text": [
      "[Epoch 73/250] Training Loss: 0.4424\n"
     ]
    },
    {
     "name": "stderr",
     "output_type": "stream",
     "text": [
      "Training:  29%|██▉       | 73/250 [1:21:20<3:15:30, 66.27s/epoch]"
     ]
    },
    {
     "name": "stdout",
     "output_type": "stream",
     "text": [
      "  Train => MSE=0.3740, CI=0.8283, Pearson=0.7086\n",
      "  Test  => MSE=0.4525, CI=0.8203, Pearson=0.6634\n",
      "Checkpoint saved at epoch 73\n",
      "Deleted previous checkpoint: /kaggle/working/TrainingModelMul/model_epoch72.pt\n"
     ]
    },
    {
     "name": "stderr",
     "output_type": "stream",
     "text": [
      "Training:  29%|██▉       | 73/250 [1:21:52<3:15:30, 66.27s/epoch]"
     ]
    },
    {
     "name": "stdout",
     "output_type": "stream",
     "text": [
      "[Epoch 74/250] Training Loss: 0.4343\n"
     ]
    },
    {
     "name": "stderr",
     "output_type": "stream",
     "text": [
      "Training:  30%|██▉       | 74/250 [1:22:26<3:13:23, 65.93s/epoch]"
     ]
    },
    {
     "name": "stdout",
     "output_type": "stream",
     "text": [
      "  Train => MSE=0.3787, CI=0.8306, Pearson=0.7063\n",
      "  Test  => MSE=0.4545, CI=0.8240, Pearson=0.6598\n",
      "Checkpoint saved at epoch 74\n",
      "Deleted previous checkpoint: /kaggle/working/TrainingModelMul/model_epoch73.pt\n"
     ]
    },
    {
     "name": "stderr",
     "output_type": "stream",
     "text": [
      "Training:  30%|██▉       | 74/250 [1:22:58<3:13:23, 65.93s/epoch]"
     ]
    },
    {
     "name": "stdout",
     "output_type": "stream",
     "text": [
      "[Epoch 75/250] Training Loss: 0.4345\n"
     ]
    },
    {
     "name": "stderr",
     "output_type": "stream",
     "text": [
      "Training:  30%|███       | 75/250 [1:23:33<3:13:47, 66.44s/epoch]"
     ]
    },
    {
     "name": "stdout",
     "output_type": "stream",
     "text": [
      "  Train => MSE=0.3660, CI=0.8280, Pearson=0.7099\n",
      "  Test  => MSE=0.4421, CI=0.8204, Pearson=0.6650\n",
      "Checkpoint saved at epoch 75\n",
      "Deleted previous checkpoint: /kaggle/working/TrainingModelMul/model_epoch74.pt\n"
     ]
    },
    {
     "name": "stderr",
     "output_type": "stream",
     "text": [
      "Training:  30%|███       | 75/250 [1:24:05<3:13:47, 66.44s/epoch]"
     ]
    },
    {
     "name": "stdout",
     "output_type": "stream",
     "text": [
      "[Epoch 76/250] Training Loss: 0.4290\n"
     ]
    },
    {
     "name": "stderr",
     "output_type": "stream",
     "text": [
      "Training:  30%|███       | 76/250 [1:24:38<3:11:33, 66.05s/epoch]"
     ]
    },
    {
     "name": "stdout",
     "output_type": "stream",
     "text": [
      "  Train => MSE=0.3607, CI=0.8326, Pearson=0.7140\n",
      "  Test  => MSE=0.4435, CI=0.8231, Pearson=0.6629\n",
      "Checkpoint saved at epoch 76\n",
      "Deleted previous checkpoint: /kaggle/working/TrainingModelMul/model_epoch75.pt\n"
     ]
    },
    {
     "name": "stderr",
     "output_type": "stream",
     "text": [
      "Training:  30%|███       | 76/250 [1:25:10<3:11:33, 66.05s/epoch]"
     ]
    },
    {
     "name": "stdout",
     "output_type": "stream",
     "text": [
      "[Epoch 77/250] Training Loss: 0.4332\n"
     ]
    },
    {
     "name": "stderr",
     "output_type": "stream",
     "text": [
      "Training:  31%|███       | 77/250 [1:25:45<3:11:02, 66.26s/epoch]"
     ]
    },
    {
     "name": "stdout",
     "output_type": "stream",
     "text": [
      "  Train => MSE=0.3593, CI=0.8336, Pearson=0.7188\n",
      "  Test  => MSE=0.4406, CI=0.8235, Pearson=0.6693\n",
      "Checkpoint saved at epoch 77\n",
      "Deleted previous checkpoint: /kaggle/working/TrainingModelMul/model_epoch76.pt\n"
     ]
    },
    {
     "name": "stderr",
     "output_type": "stream",
     "text": [
      "Training:  31%|███       | 77/250 [1:26:17<3:11:02, 66.26s/epoch]"
     ]
    },
    {
     "name": "stdout",
     "output_type": "stream",
     "text": [
      "[Epoch 78/250] Training Loss: 0.4285\n"
     ]
    },
    {
     "name": "stderr",
     "output_type": "stream",
     "text": [
      "Training:  31%|███       | 78/250 [1:26:51<3:09:51, 66.23s/epoch]"
     ]
    },
    {
     "name": "stdout",
     "output_type": "stream",
     "text": [
      "  Train => MSE=0.3559, CI=0.8342, Pearson=0.7183\n",
      "  Test  => MSE=0.4341, CI=0.8245, Pearson=0.6710\n",
      "Checkpoint saved at epoch 78\n",
      "Deleted previous checkpoint: /kaggle/working/TrainingModelMul/model_epoch77.pt\n"
     ]
    },
    {
     "name": "stderr",
     "output_type": "stream",
     "text": [
      "Training:  31%|███       | 78/250 [1:27:24<3:09:51, 66.23s/epoch]"
     ]
    },
    {
     "name": "stdout",
     "output_type": "stream",
     "text": [
      "[Epoch 79/250] Training Loss: 0.4297\n"
     ]
    },
    {
     "name": "stderr",
     "output_type": "stream",
     "text": [
      "Training:  32%|███▏      | 79/250 [1:27:58<3:09:15, 66.40s/epoch]"
     ]
    },
    {
     "name": "stdout",
     "output_type": "stream",
     "text": [
      "  Train => MSE=0.3654, CI=0.8287, Pearson=0.7093\n",
      "  Test  => MSE=0.4379, CI=0.8210, Pearson=0.6677\n",
      "Checkpoint saved at epoch 79\n",
      "Deleted previous checkpoint: /kaggle/working/TrainingModelMul/model_epoch78.pt\n"
     ]
    },
    {
     "name": "stderr",
     "output_type": "stream",
     "text": [
      "Training:  32%|███▏      | 79/250 [1:28:31<3:09:15, 66.40s/epoch]"
     ]
    },
    {
     "name": "stdout",
     "output_type": "stream",
     "text": [
      "[Epoch 80/250] Training Loss: 0.4266\n"
     ]
    },
    {
     "name": "stderr",
     "output_type": "stream",
     "text": [
      "Training:  32%|███▏      | 80/250 [1:29:06<3:09:02, 66.72s/epoch]"
     ]
    },
    {
     "name": "stdout",
     "output_type": "stream",
     "text": [
      "  Train => MSE=0.3591, CI=0.8330, Pearson=0.7190\n",
      "  Test  => MSE=0.4429, CI=0.8200, Pearson=0.6669\n",
      "Checkpoint saved at epoch 80\n",
      "Deleted previous checkpoint: /kaggle/working/TrainingModelMul/model_epoch79.pt\n"
     ]
    },
    {
     "name": "stderr",
     "output_type": "stream",
     "text": [
      "Training:  32%|███▏      | 80/250 [1:29:38<3:09:02, 66.72s/epoch]"
     ]
    },
    {
     "name": "stdout",
     "output_type": "stream",
     "text": [
      "[Epoch 81/250] Training Loss: 0.4310\n"
     ]
    },
    {
     "name": "stderr",
     "output_type": "stream",
     "text": [
      "Training:  32%|███▏      | 81/250 [1:30:13<3:08:51, 67.05s/epoch]"
     ]
    },
    {
     "name": "stdout",
     "output_type": "stream",
     "text": [
      "  Train => MSE=0.3640, CI=0.8309, Pearson=0.7208\n",
      "  Test  => MSE=0.4461, CI=0.8208, Pearson=0.6743\n",
      "Checkpoint saved at epoch 81\n",
      "Deleted previous checkpoint: /kaggle/working/TrainingModelMul/model_epoch80.pt\n"
     ]
    },
    {
     "name": "stderr",
     "output_type": "stream",
     "text": [
      "Training:  32%|███▏      | 81/250 [1:30:45<3:08:51, 67.05s/epoch]"
     ]
    },
    {
     "name": "stdout",
     "output_type": "stream",
     "text": [
      "[Epoch 82/250] Training Loss: 0.4321\n"
     ]
    },
    {
     "name": "stderr",
     "output_type": "stream",
     "text": [
      "Training:  33%|███▎      | 82/250 [1:31:20<3:06:59, 66.78s/epoch]"
     ]
    },
    {
     "name": "stdout",
     "output_type": "stream",
     "text": [
      "  Train => MSE=0.3793, CI=0.8287, Pearson=0.7134\n",
      "  Test  => MSE=0.4630, CI=0.8186, Pearson=0.6658\n",
      "Checkpoint saved at epoch 82\n",
      "Deleted previous checkpoint: /kaggle/working/TrainingModelMul/model_epoch81.pt\n"
     ]
    },
    {
     "name": "stderr",
     "output_type": "stream",
     "text": [
      "Training:  33%|███▎      | 82/250 [1:31:52<3:06:59, 66.78s/epoch]"
     ]
    },
    {
     "name": "stdout",
     "output_type": "stream",
     "text": [
      "[Epoch 83/250] Training Loss: 0.4265\n"
     ]
    },
    {
     "name": "stderr",
     "output_type": "stream",
     "text": [
      "Training:  33%|███▎      | 83/250 [1:32:27<3:06:18, 66.94s/epoch]"
     ]
    },
    {
     "name": "stdout",
     "output_type": "stream",
     "text": [
      "  Train => MSE=0.3778, CI=0.8358, Pearson=0.7142\n",
      "  Test  => MSE=0.4641, CI=0.8259, Pearson=0.6616\n",
      "Checkpoint saved at epoch 83\n",
      "Deleted previous checkpoint: /kaggle/working/TrainingModelMul/model_epoch82.pt\n"
     ]
    },
    {
     "name": "stderr",
     "output_type": "stream",
     "text": [
      "Training:  33%|███▎      | 83/250 [1:32:59<3:06:18, 66.94s/epoch]"
     ]
    },
    {
     "name": "stdout",
     "output_type": "stream",
     "text": [
      "[Epoch 84/250] Training Loss: 0.4283\n"
     ]
    },
    {
     "name": "stderr",
     "output_type": "stream",
     "text": [
      "Training:  34%|███▎      | 84/250 [1:33:33<3:04:54, 66.83s/epoch]"
     ]
    },
    {
     "name": "stdout",
     "output_type": "stream",
     "text": [
      "  Train => MSE=0.3470, CI=0.8390, Pearson=0.7267\n",
      "  Test  => MSE=0.4234, CI=0.8299, Pearson=0.6813\n",
      "Checkpoint saved at epoch 84\n",
      "Deleted previous checkpoint: /kaggle/working/TrainingModelMul/model_epoch83.pt\n"
     ]
    },
    {
     "name": "stderr",
     "output_type": "stream",
     "text": [
      "Training:  34%|███▎      | 84/250 [1:34:05<3:04:54, 66.83s/epoch]"
     ]
    },
    {
     "name": "stdout",
     "output_type": "stream",
     "text": [
      "[Epoch 85/250] Training Loss: 0.4222\n"
     ]
    },
    {
     "name": "stderr",
     "output_type": "stream",
     "text": [
      "Training:  34%|███▍      | 85/250 [1:34:39<3:02:46, 66.46s/epoch]"
     ]
    },
    {
     "name": "stdout",
     "output_type": "stream",
     "text": [
      "  Train => MSE=0.3505, CI=0.8398, Pearson=0.7321\n",
      "  Test  => MSE=0.4313, CI=0.8309, Pearson=0.6864\n",
      "Checkpoint saved at epoch 85\n",
      "Deleted previous checkpoint: /kaggle/working/TrainingModelMul/model_epoch84.pt\n"
     ]
    },
    {
     "name": "stderr",
     "output_type": "stream",
     "text": [
      "Training:  34%|███▍      | 85/250 [1:35:11<3:02:46, 66.46s/epoch]"
     ]
    },
    {
     "name": "stdout",
     "output_type": "stream",
     "text": [
      "[Epoch 86/250] Training Loss: 0.4090\n"
     ]
    },
    {
     "name": "stderr",
     "output_type": "stream",
     "text": [
      "Training:  34%|███▍      | 86/250 [1:35:46<3:01:41, 66.47s/epoch]"
     ]
    },
    {
     "name": "stdout",
     "output_type": "stream",
     "text": [
      "  Train => MSE=0.3747, CI=0.8230, Pearson=0.7027\n",
      "  Test  => MSE=0.4391, CI=0.8161, Pearson=0.6710\n",
      "Checkpoint saved at epoch 86\n",
      "Deleted previous checkpoint: /kaggle/working/TrainingModelMul/model_epoch85.pt\n"
     ]
    },
    {
     "name": "stderr",
     "output_type": "stream",
     "text": [
      "Training:  34%|███▍      | 86/250 [1:36:18<3:01:41, 66.47s/epoch]"
     ]
    },
    {
     "name": "stdout",
     "output_type": "stream",
     "text": [
      "[Epoch 87/250] Training Loss: 0.4150\n"
     ]
    },
    {
     "name": "stderr",
     "output_type": "stream",
     "text": [
      "Training:  35%|███▍      | 87/250 [1:36:53<3:01:34, 66.84s/epoch]"
     ]
    },
    {
     "name": "stdout",
     "output_type": "stream",
     "text": [
      "  Train => MSE=0.3659, CI=0.8311, Pearson=0.7105\n",
      "  Test  => MSE=0.4513, CI=0.8211, Pearson=0.6586\n",
      "Checkpoint saved at epoch 87\n",
      "Deleted previous checkpoint: /kaggle/working/TrainingModelMul/model_epoch86.pt\n"
     ]
    },
    {
     "name": "stderr",
     "output_type": "stream",
     "text": [
      "Training:  35%|███▍      | 87/250 [1:37:25<3:01:34, 66.84s/epoch]"
     ]
    },
    {
     "name": "stdout",
     "output_type": "stream",
     "text": [
      "[Epoch 88/250] Training Loss: 0.4254\n"
     ]
    },
    {
     "name": "stderr",
     "output_type": "stream",
     "text": [
      "Training:  35%|███▌      | 88/250 [1:38:00<3:00:24, 66.82s/epoch]"
     ]
    },
    {
     "name": "stdout",
     "output_type": "stream",
     "text": [
      "  Train => MSE=0.3691, CI=0.8339, Pearson=0.7100\n",
      "  Test  => MSE=0.4487, CI=0.8239, Pearson=0.6623\n",
      "Checkpoint saved at epoch 88\n",
      "Deleted previous checkpoint: /kaggle/working/TrainingModelMul/model_epoch87.pt\n"
     ]
    },
    {
     "name": "stderr",
     "output_type": "stream",
     "text": [
      "Training:  35%|███▌      | 88/250 [1:38:33<3:00:24, 66.82s/epoch]"
     ]
    },
    {
     "name": "stdout",
     "output_type": "stream",
     "text": [
      "[Epoch 89/250] Training Loss: 0.4253\n"
     ]
    },
    {
     "name": "stderr",
     "output_type": "stream",
     "text": [
      "Training:  36%|███▌      | 89/250 [1:39:08<3:00:40, 67.33s/epoch]"
     ]
    },
    {
     "name": "stdout",
     "output_type": "stream",
     "text": [
      "  Train => MSE=0.3746, CI=0.8328, Pearson=0.7125\n",
      "  Test  => MSE=0.4578, CI=0.8208, Pearson=0.6645\n",
      "Checkpoint saved at epoch 89\n",
      "Deleted previous checkpoint: /kaggle/working/TrainingModelMul/model_epoch88.pt\n"
     ]
    },
    {
     "name": "stderr",
     "output_type": "stream",
     "text": [
      "Training:  36%|███▌      | 89/250 [1:39:40<3:00:40, 67.33s/epoch]"
     ]
    },
    {
     "name": "stdout",
     "output_type": "stream",
     "text": [
      "[Epoch 90/250] Training Loss: 0.4191\n"
     ]
    },
    {
     "name": "stderr",
     "output_type": "stream",
     "text": [
      "Training:  36%|███▌      | 90/250 [1:40:14<2:58:10, 66.82s/epoch]"
     ]
    },
    {
     "name": "stdout",
     "output_type": "stream",
     "text": [
      "  Train => MSE=0.3531, CI=0.8340, Pearson=0.7245\n",
      "  Test  => MSE=0.4331, CI=0.8213, Pearson=0.6784\n",
      "Checkpoint saved at epoch 90\n",
      "Deleted previous checkpoint: /kaggle/working/TrainingModelMul/model_epoch89.pt\n"
     ]
    },
    {
     "name": "stderr",
     "output_type": "stream",
     "text": [
      "Training:  36%|███▌      | 90/250 [1:40:46<2:58:10, 66.82s/epoch]"
     ]
    },
    {
     "name": "stdout",
     "output_type": "stream",
     "text": [
      "[Epoch 91/250] Training Loss: 0.4048\n"
     ]
    },
    {
     "name": "stderr",
     "output_type": "stream",
     "text": [
      "Training:  36%|███▋      | 91/250 [1:41:20<2:56:25, 66.57s/epoch]"
     ]
    },
    {
     "name": "stdout",
     "output_type": "stream",
     "text": [
      "  Train => MSE=0.3678, CI=0.8372, Pearson=0.7213\n",
      "  Test  => MSE=0.4520, CI=0.8259, Pearson=0.6720\n",
      "Checkpoint saved at epoch 91\n",
      "Deleted previous checkpoint: /kaggle/working/TrainingModelMul/model_epoch90.pt\n"
     ]
    },
    {
     "name": "stderr",
     "output_type": "stream",
     "text": [
      "Training:  36%|███▋      | 91/250 [1:41:52<2:56:25, 66.57s/epoch]"
     ]
    },
    {
     "name": "stdout",
     "output_type": "stream",
     "text": [
      "[Epoch 92/250] Training Loss: 0.4168\n"
     ]
    },
    {
     "name": "stderr",
     "output_type": "stream",
     "text": [
      "Training:  37%|███▋      | 92/250 [1:42:27<2:55:46, 66.75s/epoch]"
     ]
    },
    {
     "name": "stdout",
     "output_type": "stream",
     "text": [
      "  Train => MSE=0.3523, CI=0.8404, Pearson=0.7244\n",
      "  Test  => MSE=0.4334, CI=0.8303, Pearson=0.6761\n",
      "Checkpoint saved at epoch 92\n",
      "Deleted previous checkpoint: /kaggle/working/TrainingModelMul/model_epoch91.pt\n"
     ]
    },
    {
     "name": "stderr",
     "output_type": "stream",
     "text": [
      "Training:  37%|███▋      | 92/250 [1:42:59<2:55:46, 66.75s/epoch]"
     ]
    },
    {
     "name": "stdout",
     "output_type": "stream",
     "text": [
      "[Epoch 93/250] Training Loss: 0.4035\n"
     ]
    },
    {
     "name": "stderr",
     "output_type": "stream",
     "text": [
      "Training:  37%|███▋      | 93/250 [1:43:32<2:53:25, 66.27s/epoch]"
     ]
    },
    {
     "name": "stdout",
     "output_type": "stream",
     "text": [
      "  Train => MSE=0.3351, CI=0.8442, Pearson=0.7379\n",
      "  Test  => MSE=0.4107, CI=0.8339, Pearson=0.6930\n",
      "Checkpoint saved at epoch 93\n",
      "Deleted previous checkpoint: /kaggle/working/TrainingModelMul/model_epoch92.pt\n"
     ]
    },
    {
     "name": "stderr",
     "output_type": "stream",
     "text": [
      "Training:  37%|███▋      | 93/250 [1:44:05<2:53:25, 66.27s/epoch]"
     ]
    },
    {
     "name": "stdout",
     "output_type": "stream",
     "text": [
      "[Epoch 94/250] Training Loss: 0.4035\n"
     ]
    },
    {
     "name": "stderr",
     "output_type": "stream",
     "text": [
      "Training:  38%|███▊      | 94/250 [1:44:39<2:52:29, 66.34s/epoch]"
     ]
    },
    {
     "name": "stdout",
     "output_type": "stream",
     "text": [
      "  Train => MSE=0.3487, CI=0.8397, Pearson=0.7285\n",
      "  Test  => MSE=0.4326, CI=0.8271, Pearson=0.6786\n",
      "Checkpoint saved at epoch 94\n",
      "Deleted previous checkpoint: /kaggle/working/TrainingModelMul/model_epoch93.pt\n"
     ]
    },
    {
     "name": "stderr",
     "output_type": "stream",
     "text": [
      "Training:  38%|███▊      | 94/250 [1:45:11<2:52:29, 66.34s/epoch]"
     ]
    },
    {
     "name": "stdout",
     "output_type": "stream",
     "text": [
      "[Epoch 95/250] Training Loss: 0.4034\n"
     ]
    },
    {
     "name": "stderr",
     "output_type": "stream",
     "text": [
      "Training:  38%|███▊      | 95/250 [1:45:44<2:50:41, 66.07s/epoch]"
     ]
    },
    {
     "name": "stdout",
     "output_type": "stream",
     "text": [
      "  Train => MSE=0.3520, CI=0.8371, Pearson=0.7280\n",
      "  Test  => MSE=0.4206, CI=0.8268, Pearson=0.6935\n",
      "Checkpoint saved at epoch 95\n",
      "Deleted previous checkpoint: /kaggle/working/TrainingModelMul/model_epoch94.pt\n"
     ]
    },
    {
     "name": "stderr",
     "output_type": "stream",
     "text": [
      "Training:  38%|███▊      | 95/250 [1:46:17<2:50:41, 66.07s/epoch]"
     ]
    },
    {
     "name": "stdout",
     "output_type": "stream",
     "text": [
      "[Epoch 96/250] Training Loss: 0.4003\n"
     ]
    },
    {
     "name": "stderr",
     "output_type": "stream",
     "text": [
      "Training:  38%|███▊      | 96/250 [1:46:52<2:50:52, 66.57s/epoch]"
     ]
    },
    {
     "name": "stdout",
     "output_type": "stream",
     "text": [
      "  Train => MSE=0.3577, CI=0.8384, Pearson=0.7195\n",
      "  Test  => MSE=0.4330, CI=0.8262, Pearson=0.6773\n",
      "Checkpoint saved at epoch 96\n",
      "Deleted previous checkpoint: /kaggle/working/TrainingModelMul/model_epoch95.pt\n"
     ]
    },
    {
     "name": "stderr",
     "output_type": "stream",
     "text": [
      "Training:  38%|███▊      | 96/250 [1:47:24<2:50:52, 66.57s/epoch]"
     ]
    },
    {
     "name": "stdout",
     "output_type": "stream",
     "text": [
      "[Epoch 97/250] Training Loss: 0.4011\n"
     ]
    },
    {
     "name": "stderr",
     "output_type": "stream",
     "text": [
      "Training:  38%|███▊      | 96/250 [1:47:58<2:50:52, 66.57s/epoch]"
     ]
    },
    {
     "name": "stdout",
     "output_type": "stream",
     "text": [
      "  Train => MSE=0.3428, CI=0.8431, Pearson=0.7343\n",
      "  Test  => MSE=0.4209, CI=0.8306, Pearson=0.6897\n"
     ]
    },
    {
     "name": "stderr",
     "output_type": "stream",
     "text": [
      "Training:  39%|███▉      | 97/250 [1:47:58<2:49:14, 66.37s/epoch]"
     ]
    },
    {
     "name": "stdout",
     "output_type": "stream",
     "text": [
      "Checkpoint saved at epoch 97\n",
      "Deleted previous checkpoint: /kaggle/working/TrainingModelMul/model_epoch96.pt\n"
     ]
    },
    {
     "name": "stderr",
     "output_type": "stream",
     "text": [
      "Training:  39%|███▉      | 97/250 [1:48:31<2:49:14, 66.37s/epoch]"
     ]
    },
    {
     "name": "stdout",
     "output_type": "stream",
     "text": [
      "[Epoch 98/250] Training Loss: 0.3993\n"
     ]
    },
    {
     "name": "stderr",
     "output_type": "stream",
     "text": [
      "Training:  39%|███▉      | 98/250 [1:49:05<2:48:51, 66.65s/epoch]"
     ]
    },
    {
     "name": "stdout",
     "output_type": "stream",
     "text": [
      "  Train => MSE=0.3558, CI=0.8404, Pearson=0.7268\n",
      "  Test  => MSE=0.4391, CI=0.8265, Pearson=0.6780\n",
      "Checkpoint saved at epoch 98\n",
      "Deleted previous checkpoint: /kaggle/working/TrainingModelMul/model_epoch97.pt\n"
     ]
    },
    {
     "name": "stderr",
     "output_type": "stream",
     "text": [
      "Training:  39%|███▉      | 98/250 [1:49:37<2:48:51, 66.65s/epoch]"
     ]
    },
    {
     "name": "stdout",
     "output_type": "stream",
     "text": [
      "[Epoch 99/250] Training Loss: 0.4041\n"
     ]
    },
    {
     "name": "stderr",
     "output_type": "stream",
     "text": [
      "Training:  40%|███▉      | 99/250 [1:50:11<2:46:49, 66.29s/epoch]"
     ]
    },
    {
     "name": "stdout",
     "output_type": "stream",
     "text": [
      "  Train => MSE=0.3522, CI=0.8431, Pearson=0.7362\n",
      "  Test  => MSE=0.4320, CI=0.8300, Pearson=0.6931\n",
      "Checkpoint saved at epoch 99\n",
      "Deleted previous checkpoint: /kaggle/working/TrainingModelMul/model_epoch98.pt\n"
     ]
    },
    {
     "name": "stderr",
     "output_type": "stream",
     "text": [
      "Training:  40%|███▉      | 99/250 [1:50:42<2:46:49, 66.29s/epoch]"
     ]
    },
    {
     "name": "stdout",
     "output_type": "stream",
     "text": [
      "[Epoch 100/250] Training Loss: 0.4017\n"
     ]
    },
    {
     "name": "stderr",
     "output_type": "stream",
     "text": [
      "Training:  40%|████      | 100/250 [1:51:16<2:45:15, 66.10s/epoch]"
     ]
    },
    {
     "name": "stdout",
     "output_type": "stream",
     "text": [
      "  Train => MSE=0.3415, CI=0.8452, Pearson=0.7370\n",
      "  Test  => MSE=0.4231, CI=0.8324, Pearson=0.6898\n",
      "Checkpoint saved at epoch 100\n",
      "Deleted previous checkpoint: /kaggle/working/TrainingModelMul/model_epoch99.pt\n"
     ]
    },
    {
     "name": "stderr",
     "output_type": "stream",
     "text": [
      "Training:  40%|████      | 100/250 [1:51:48<2:45:15, 66.10s/epoch]"
     ]
    },
    {
     "name": "stdout",
     "output_type": "stream",
     "text": [
      "[Epoch 101/250] Training Loss: 0.3984\n"
     ]
    },
    {
     "name": "stderr",
     "output_type": "stream",
     "text": [
      "Training:  40%|████      | 101/250 [1:52:22<2:43:59, 66.04s/epoch]"
     ]
    },
    {
     "name": "stdout",
     "output_type": "stream",
     "text": [
      "  Train => MSE=0.3678, CI=0.8406, Pearson=0.7310\n",
      "  Test  => MSE=0.4534, CI=0.8250, Pearson=0.6820\n",
      "Checkpoint saved at epoch 101\n",
      "Deleted previous checkpoint: /kaggle/working/TrainingModelMul/model_epoch100.pt\n"
     ]
    },
    {
     "name": "stderr",
     "output_type": "stream",
     "text": [
      "Training:  40%|████      | 101/250 [1:52:55<2:43:59, 66.04s/epoch]"
     ]
    },
    {
     "name": "stdout",
     "output_type": "stream",
     "text": [
      "[Epoch 102/250] Training Loss: 0.4134\n"
     ]
    },
    {
     "name": "stderr",
     "output_type": "stream",
     "text": [
      "Training:  41%|████      | 102/250 [1:53:30<2:44:03, 66.51s/epoch]"
     ]
    },
    {
     "name": "stdout",
     "output_type": "stream",
     "text": [
      "  Train => MSE=0.3327, CI=0.8474, Pearson=0.7449\n",
      "  Test  => MSE=0.4108, CI=0.8355, Pearson=0.7009\n",
      "Checkpoint saved at epoch 102\n",
      "Deleted previous checkpoint: /kaggle/working/TrainingModelMul/model_epoch101.pt\n"
     ]
    },
    {
     "name": "stderr",
     "output_type": "stream",
     "text": [
      "Training:  41%|████      | 102/250 [1:54:02<2:44:03, 66.51s/epoch]"
     ]
    },
    {
     "name": "stdout",
     "output_type": "stream",
     "text": [
      "[Epoch 103/250] Training Loss: 0.3845\n"
     ]
    },
    {
     "name": "stderr",
     "output_type": "stream",
     "text": [
      "Training:  41%|████      | 103/250 [1:54:36<2:42:29, 66.32s/epoch]"
     ]
    },
    {
     "name": "stdout",
     "output_type": "stream",
     "text": [
      "  Train => MSE=0.3378, CI=0.8458, Pearson=0.7412\n",
      "  Test  => MSE=0.4165, CI=0.8323, Pearson=0.6964\n",
      "Checkpoint saved at epoch 103\n",
      "Deleted previous checkpoint: /kaggle/working/TrainingModelMul/model_epoch102.pt\n"
     ]
    },
    {
     "name": "stderr",
     "output_type": "stream",
     "text": [
      "Training:  41%|████      | 103/250 [1:55:09<2:42:29, 66.32s/epoch]"
     ]
    },
    {
     "name": "stdout",
     "output_type": "stream",
     "text": [
      "[Epoch 104/250] Training Loss: 0.3874\n"
     ]
    },
    {
     "name": "stderr",
     "output_type": "stream",
     "text": [
      "Training:  42%|████▏     | 104/250 [1:55:43<2:42:19, 66.71s/epoch]"
     ]
    },
    {
     "name": "stdout",
     "output_type": "stream",
     "text": [
      "  Train => MSE=0.3465, CI=0.8462, Pearson=0.7398\n",
      "  Test  => MSE=0.4283, CI=0.8326, Pearson=0.6940\n",
      "Checkpoint saved at epoch 104\n",
      "Deleted previous checkpoint: /kaggle/working/TrainingModelMul/model_epoch103.pt\n"
     ]
    },
    {
     "name": "stderr",
     "output_type": "stream",
     "text": [
      "Training:  42%|████▏     | 104/250 [1:56:15<2:42:19, 66.71s/epoch]"
     ]
    },
    {
     "name": "stdout",
     "output_type": "stream",
     "text": [
      "[Epoch 105/250] Training Loss: 0.3905\n"
     ]
    },
    {
     "name": "stderr",
     "output_type": "stream",
     "text": [
      "Training:  42%|████▏     | 105/250 [1:56:50<2:40:53, 66.57s/epoch]"
     ]
    },
    {
     "name": "stdout",
     "output_type": "stream",
     "text": [
      "  Train => MSE=0.3476, CI=0.8453, Pearson=0.7400\n",
      "  Test  => MSE=0.4287, CI=0.8305, Pearson=0.6938\n",
      "Checkpoint saved at epoch 105\n",
      "Deleted previous checkpoint: /kaggle/working/TrainingModelMul/model_epoch104.pt\n"
     ]
    },
    {
     "name": "stderr",
     "output_type": "stream",
     "text": [
      "Training:  42%|████▏     | 105/250 [1:57:22<2:40:53, 66.57s/epoch]"
     ]
    },
    {
     "name": "stdout",
     "output_type": "stream",
     "text": [
      "[Epoch 106/250] Training Loss: 0.3952\n"
     ]
    },
    {
     "name": "stderr",
     "output_type": "stream",
     "text": [
      "Training:  42%|████▏     | 106/250 [1:57:56<2:39:33, 66.48s/epoch]"
     ]
    },
    {
     "name": "stdout",
     "output_type": "stream",
     "text": [
      "  Train => MSE=0.3265, CI=0.8498, Pearson=0.7518\n",
      "  Test  => MSE=0.4025, CI=0.8377, Pearson=0.7090\n",
      "Checkpoint saved at epoch 106\n",
      "Deleted previous checkpoint: /kaggle/working/TrainingModelMul/model_epoch105.pt\n"
     ]
    },
    {
     "name": "stderr",
     "output_type": "stream",
     "text": [
      "Training:  42%|████▏     | 106/250 [1:58:29<2:39:33, 66.48s/epoch]"
     ]
    },
    {
     "name": "stdout",
     "output_type": "stream",
     "text": [
      "[Epoch 107/250] Training Loss: 0.3871\n"
     ]
    },
    {
     "name": "stderr",
     "output_type": "stream",
     "text": [
      "Training:  43%|████▎     | 107/250 [1:59:04<2:39:28, 66.92s/epoch]"
     ]
    },
    {
     "name": "stdout",
     "output_type": "stream",
     "text": [
      "  Train => MSE=0.3232, CI=0.8486, Pearson=0.7522\n",
      "  Test  => MSE=0.4001, CI=0.8367, Pearson=0.7086\n",
      "Checkpoint saved at epoch 107\n",
      "Deleted previous checkpoint: /kaggle/working/TrainingModelMul/model_epoch106.pt\n"
     ]
    },
    {
     "name": "stderr",
     "output_type": "stream",
     "text": [
      "Training:  43%|████▎     | 107/250 [1:59:36<2:39:28, 66.92s/epoch]"
     ]
    },
    {
     "name": "stdout",
     "output_type": "stream",
     "text": [
      "[Epoch 108/250] Training Loss: 0.3851\n"
     ]
    },
    {
     "name": "stderr",
     "output_type": "stream",
     "text": [
      "Training:  43%|████▎     | 108/250 [2:00:10<2:37:52, 66.71s/epoch]"
     ]
    },
    {
     "name": "stdout",
     "output_type": "stream",
     "text": [
      "  Train => MSE=0.3321, CI=0.8404, Pearson=0.7430\n",
      "  Test  => MSE=0.3937, CI=0.8289, Pearson=0.7134\n",
      "Checkpoint saved at epoch 108\n",
      "Deleted previous checkpoint: /kaggle/working/TrainingModelMul/model_epoch107.pt\n"
     ]
    },
    {
     "name": "stderr",
     "output_type": "stream",
     "text": [
      "Training:  43%|████▎     | 108/250 [2:00:43<2:37:52, 66.71s/epoch]"
     ]
    },
    {
     "name": "stdout",
     "output_type": "stream",
     "text": [
      "[Epoch 109/250] Training Loss: 0.3826\n"
     ]
    },
    {
     "name": "stderr",
     "output_type": "stream",
     "text": [
      "Training:  44%|████▎     | 109/250 [2:01:17<2:37:06, 66.86s/epoch]"
     ]
    },
    {
     "name": "stdout",
     "output_type": "stream",
     "text": [
      "  Train => MSE=0.3292, CI=0.8465, Pearson=0.7475\n",
      "  Test  => MSE=0.4017, CI=0.8322, Pearson=0.7077\n",
      "Checkpoint saved at epoch 109\n",
      "Deleted previous checkpoint: /kaggle/working/TrainingModelMul/model_epoch108.pt\n"
     ]
    },
    {
     "name": "stderr",
     "output_type": "stream",
     "text": [
      "Training:  44%|████▎     | 109/250 [2:01:49<2:37:06, 66.86s/epoch]"
     ]
    },
    {
     "name": "stdout",
     "output_type": "stream",
     "text": [
      "[Epoch 110/250] Training Loss: 0.3893\n"
     ]
    },
    {
     "name": "stderr",
     "output_type": "stream",
     "text": [
      "Training:  44%|████▍     | 110/250 [2:02:23<2:34:50, 66.36s/epoch]"
     ]
    },
    {
     "name": "stdout",
     "output_type": "stream",
     "text": [
      "  Train => MSE=0.3625, CI=0.8438, Pearson=0.7354\n",
      "  Test  => MSE=0.4500, CI=0.8288, Pearson=0.6858\n",
      "Checkpoint saved at epoch 110\n",
      "Deleted previous checkpoint: /kaggle/working/TrainingModelMul/model_epoch109.pt\n"
     ]
    },
    {
     "name": "stderr",
     "output_type": "stream",
     "text": [
      "Training:  44%|████▍     | 110/250 [2:02:55<2:34:50, 66.36s/epoch]"
     ]
    },
    {
     "name": "stdout",
     "output_type": "stream",
     "text": [
      "[Epoch 111/250] Training Loss: 0.4011\n"
     ]
    },
    {
     "name": "stderr",
     "output_type": "stream",
     "text": [
      "Training:  44%|████▍     | 111/250 [2:03:29<2:34:08, 66.54s/epoch]"
     ]
    },
    {
     "name": "stdout",
     "output_type": "stream",
     "text": [
      "  Train => MSE=0.3324, CI=0.8441, Pearson=0.7451\n",
      "  Test  => MSE=0.4108, CI=0.8317, Pearson=0.7006\n",
      "Checkpoint saved at epoch 111\n",
      "Deleted previous checkpoint: /kaggle/working/TrainingModelMul/model_epoch110.pt\n"
     ]
    },
    {
     "name": "stderr",
     "output_type": "stream",
     "text": [
      "Training:  44%|████▍     | 111/250 [2:04:01<2:34:08, 66.54s/epoch]"
     ]
    },
    {
     "name": "stdout",
     "output_type": "stream",
     "text": [
      "[Epoch 112/250] Training Loss: 0.3856\n"
     ]
    },
    {
     "name": "stderr",
     "output_type": "stream",
     "text": [
      "Training:  45%|████▍     | 112/250 [2:04:35<2:32:09, 66.15s/epoch]"
     ]
    },
    {
     "name": "stdout",
     "output_type": "stream",
     "text": [
      "  Train => MSE=0.3122, CI=0.8499, Pearson=0.7607\n",
      "  Test  => MSE=0.3830, CI=0.8379, Pearson=0.7214\n",
      "Checkpoint saved at epoch 112\n",
      "Deleted previous checkpoint: /kaggle/working/TrainingModelMul/model_epoch111.pt\n"
     ]
    },
    {
     "name": "stderr",
     "output_type": "stream",
     "text": [
      "Training:  45%|████▍     | 112/250 [2:05:07<2:32:09, 66.15s/epoch]"
     ]
    },
    {
     "name": "stdout",
     "output_type": "stream",
     "text": [
      "[Epoch 113/250] Training Loss: 0.3773\n"
     ]
    },
    {
     "name": "stderr",
     "output_type": "stream",
     "text": [
      "Training:  45%|████▌     | 113/250 [2:05:42<2:31:36, 66.40s/epoch]"
     ]
    },
    {
     "name": "stdout",
     "output_type": "stream",
     "text": [
      "  Train => MSE=0.3409, CI=0.8461, Pearson=0.7493\n",
      "  Test  => MSE=0.4200, CI=0.8331, Pearson=0.7054\n",
      "Checkpoint saved at epoch 113\n",
      "Deleted previous checkpoint: /kaggle/working/TrainingModelMul/model_epoch112.pt\n"
     ]
    },
    {
     "name": "stderr",
     "output_type": "stream",
     "text": [
      "Training:  45%|████▌     | 113/250 [2:06:14<2:31:36, 66.40s/epoch]"
     ]
    },
    {
     "name": "stdout",
     "output_type": "stream",
     "text": [
      "[Epoch 114/250] Training Loss: 0.3841\n"
     ]
    },
    {
     "name": "stderr",
     "output_type": "stream",
     "text": [
      "Training:  46%|████▌     | 114/250 [2:06:47<2:30:04, 66.21s/epoch]"
     ]
    },
    {
     "name": "stdout",
     "output_type": "stream",
     "text": [
      "  Train => MSE=0.3071, CI=0.8524, Pearson=0.7657\n",
      "  Test  => MSE=0.3817, CI=0.8383, Pearson=0.7233\n",
      "Checkpoint saved at epoch 114\n",
      "Deleted previous checkpoint: /kaggle/working/TrainingModelMul/model_epoch113.pt\n"
     ]
    },
    {
     "name": "stderr",
     "output_type": "stream",
     "text": [
      "Training:  46%|████▌     | 114/250 [2:07:19<2:30:04, 66.21s/epoch]"
     ]
    },
    {
     "name": "stdout",
     "output_type": "stream",
     "text": [
      "[Epoch 115/250] Training Loss: 0.3689\n"
     ]
    },
    {
     "name": "stderr",
     "output_type": "stream",
     "text": [
      "Training:  46%|████▌     | 115/250 [2:07:54<2:29:00, 66.22s/epoch]"
     ]
    },
    {
     "name": "stdout",
     "output_type": "stream",
     "text": [
      "  Train => MSE=0.3334, CI=0.8513, Pearson=0.7610\n",
      "  Test  => MSE=0.4123, CI=0.8374, Pearson=0.7186\n",
      "Checkpoint saved at epoch 115\n",
      "Deleted previous checkpoint: /kaggle/working/TrainingModelMul/model_epoch114.pt\n"
     ]
    },
    {
     "name": "stderr",
     "output_type": "stream",
     "text": [
      "Training:  46%|████▌     | 115/250 [2:08:27<2:29:00, 66.22s/epoch]"
     ]
    },
    {
     "name": "stdout",
     "output_type": "stream",
     "text": [
      "[Epoch 116/250] Training Loss: 0.4084\n"
     ]
    },
    {
     "name": "stderr",
     "output_type": "stream",
     "text": [
      "Training:  46%|████▋     | 116/250 [2:09:01<2:28:44, 66.60s/epoch]"
     ]
    },
    {
     "name": "stdout",
     "output_type": "stream",
     "text": [
      "  Train => MSE=0.3114, CI=0.8481, Pearson=0.7626\n",
      "  Test  => MSE=0.3862, CI=0.8360, Pearson=0.7201\n",
      "Checkpoint saved at epoch 116\n",
      "Deleted previous checkpoint: /kaggle/working/TrainingModelMul/model_epoch115.pt\n"
     ]
    },
    {
     "name": "stderr",
     "output_type": "stream",
     "text": [
      "Training:  46%|████▋     | 116/250 [2:09:33<2:28:44, 66.60s/epoch]"
     ]
    },
    {
     "name": "stdout",
     "output_type": "stream",
     "text": [
      "[Epoch 117/250] Training Loss: 0.3766\n"
     ]
    },
    {
     "name": "stderr",
     "output_type": "stream",
     "text": [
      "Training:  47%|████▋     | 117/250 [2:10:07<2:26:59, 66.31s/epoch]"
     ]
    },
    {
     "name": "stdout",
     "output_type": "stream",
     "text": [
      "  Train => MSE=0.3210, CI=0.8515, Pearson=0.7632\n",
      "  Test  => MSE=0.3996, CI=0.8378, Pearson=0.7191\n",
      "Checkpoint saved at epoch 117\n",
      "Deleted previous checkpoint: /kaggle/working/TrainingModelMul/model_epoch116.pt\n"
     ]
    },
    {
     "name": "stderr",
     "output_type": "stream",
     "text": [
      "Training:  47%|████▋     | 117/250 [2:10:39<2:26:59, 66.31s/epoch]"
     ]
    },
    {
     "name": "stdout",
     "output_type": "stream",
     "text": [
      "[Epoch 118/250] Training Loss: 0.3701\n"
     ]
    },
    {
     "name": "stderr",
     "output_type": "stream",
     "text": [
      "Training:  47%|████▋     | 118/250 [2:11:14<2:26:13, 66.47s/epoch]"
     ]
    },
    {
     "name": "stdout",
     "output_type": "stream",
     "text": [
      "  Train => MSE=0.2992, CI=0.8542, Pearson=0.7728\n",
      "  Test  => MSE=0.3712, CI=0.8406, Pearson=0.7328\n",
      "Checkpoint saved at epoch 118\n",
      "Deleted previous checkpoint: /kaggle/working/TrainingModelMul/model_epoch117.pt\n"
     ]
    },
    {
     "name": "stderr",
     "output_type": "stream",
     "text": [
      "Training:  47%|████▋     | 118/250 [2:11:45<2:26:13, 66.47s/epoch]"
     ]
    },
    {
     "name": "stdout",
     "output_type": "stream",
     "text": [
      "[Epoch 119/250] Training Loss: 0.3589\n"
     ]
    },
    {
     "name": "stderr",
     "output_type": "stream",
     "text": [
      "Training:  48%|████▊     | 119/250 [2:12:20<2:24:46, 66.31s/epoch]"
     ]
    },
    {
     "name": "stdout",
     "output_type": "stream",
     "text": [
      "  Train => MSE=0.3258, CI=0.8521, Pearson=0.7638\n",
      "  Test  => MSE=0.4076, CI=0.8379, Pearson=0.7181\n",
      "Checkpoint saved at epoch 119\n",
      "Deleted previous checkpoint: /kaggle/working/TrainingModelMul/model_epoch118.pt\n"
     ]
    },
    {
     "name": "stderr",
     "output_type": "stream",
     "text": [
      "Training:  48%|████▊     | 119/250 [2:12:53<2:24:46, 66.31s/epoch]"
     ]
    },
    {
     "name": "stdout",
     "output_type": "stream",
     "text": [
      "[Epoch 120/250] Training Loss: 0.3706\n"
     ]
    },
    {
     "name": "stderr",
     "output_type": "stream",
     "text": [
      "Training:  48%|████▊     | 120/250 [2:13:27<2:24:39, 66.76s/epoch]"
     ]
    },
    {
     "name": "stdout",
     "output_type": "stream",
     "text": [
      "  Train => MSE=0.3122, CI=0.8527, Pearson=0.7733\n",
      "  Test  => MSE=0.3912, CI=0.8373, Pearson=0.7292\n",
      "Checkpoint saved at epoch 120\n",
      "Deleted previous checkpoint: /kaggle/working/TrainingModelMul/model_epoch119.pt\n"
     ]
    },
    {
     "name": "stderr",
     "output_type": "stream",
     "text": [
      "Training:  48%|████▊     | 120/250 [2:13:59<2:24:39, 66.76s/epoch]"
     ]
    },
    {
     "name": "stdout",
     "output_type": "stream",
     "text": [
      "[Epoch 121/250] Training Loss: 0.3660\n"
     ]
    },
    {
     "name": "stderr",
     "output_type": "stream",
     "text": [
      "Training:  48%|████▊     | 121/250 [2:14:33<2:22:59, 66.51s/epoch]"
     ]
    },
    {
     "name": "stdout",
     "output_type": "stream",
     "text": [
      "  Train => MSE=0.2960, CI=0.8534, Pearson=0.7749\n",
      "  Test  => MSE=0.3717, CI=0.8375, Pearson=0.7308\n",
      "Checkpoint saved at epoch 121\n",
      "Deleted previous checkpoint: /kaggle/working/TrainingModelMul/model_epoch120.pt\n"
     ]
    },
    {
     "name": "stderr",
     "output_type": "stream",
     "text": [
      "Training:  48%|████▊     | 121/250 [2:15:06<2:22:59, 66.51s/epoch]"
     ]
    },
    {
     "name": "stdout",
     "output_type": "stream",
     "text": [
      "[Epoch 122/250] Training Loss: 0.3639\n"
     ]
    },
    {
     "name": "stderr",
     "output_type": "stream",
     "text": [
      "Training:  49%|████▉     | 122/250 [2:15:41<2:22:49, 66.95s/epoch]"
     ]
    },
    {
     "name": "stdout",
     "output_type": "stream",
     "text": [
      "  Train => MSE=0.3156, CI=0.8539, Pearson=0.7740\n",
      "  Test  => MSE=0.3877, CI=0.8422, Pearson=0.7350\n",
      "Checkpoint saved at epoch 122\n",
      "Deleted previous checkpoint: /kaggle/working/TrainingModelMul/model_epoch121.pt\n"
     ]
    },
    {
     "name": "stderr",
     "output_type": "stream",
     "text": [
      "Training:  49%|████▉     | 122/250 [2:16:14<2:22:49, 66.95s/epoch]"
     ]
    },
    {
     "name": "stdout",
     "output_type": "stream",
     "text": [
      "[Epoch 123/250] Training Loss: 0.3729\n"
     ]
    },
    {
     "name": "stderr",
     "output_type": "stream",
     "text": [
      "Training:  49%|████▉     | 123/250 [2:16:50<2:22:31, 67.33s/epoch]"
     ]
    },
    {
     "name": "stdout",
     "output_type": "stream",
     "text": [
      "  Train => MSE=0.3148, CI=0.8528, Pearson=0.7748\n",
      "  Test  => MSE=0.3927, CI=0.8372, Pearson=0.7324\n",
      "Checkpoint saved at epoch 123\n",
      "Deleted previous checkpoint: /kaggle/working/TrainingModelMul/model_epoch122.pt\n"
     ]
    },
    {
     "name": "stderr",
     "output_type": "stream",
     "text": [
      "Training:  49%|████▉     | 123/250 [2:17:22<2:22:31, 67.33s/epoch]"
     ]
    },
    {
     "name": "stdout",
     "output_type": "stream",
     "text": [
      "[Epoch 124/250] Training Loss: 0.3858\n"
     ]
    },
    {
     "name": "stderr",
     "output_type": "stream",
     "text": [
      "Training:  50%|████▉     | 124/250 [2:17:57<2:21:15, 67.26s/epoch]"
     ]
    },
    {
     "name": "stdout",
     "output_type": "stream",
     "text": [
      "  Train => MSE=0.3026, CI=0.8552, Pearson=0.7752\n",
      "  Test  => MSE=0.3777, CI=0.8437, Pearson=0.7339\n",
      "Checkpoint saved at epoch 124\n",
      "Deleted previous checkpoint: /kaggle/working/TrainingModelMul/model_epoch123.pt\n"
     ]
    },
    {
     "name": "stderr",
     "output_type": "stream",
     "text": [
      "Training:  50%|████▉     | 124/250 [2:18:29<2:21:15, 67.26s/epoch]"
     ]
    },
    {
     "name": "stdout",
     "output_type": "stream",
     "text": [
      "[Epoch 125/250] Training Loss: 0.3497\n"
     ]
    },
    {
     "name": "stderr",
     "output_type": "stream",
     "text": [
      "Training:  50%|█████     | 125/250 [2:19:03<2:19:32, 66.98s/epoch]"
     ]
    },
    {
     "name": "stdout",
     "output_type": "stream",
     "text": [
      "  Train => MSE=0.3093, CI=0.8544, Pearson=0.7749\n",
      "  Test  => MSE=0.3892, CI=0.8387, Pearson=0.7298\n",
      "Checkpoint saved at epoch 125\n",
      "Deleted previous checkpoint: /kaggle/working/TrainingModelMul/model_epoch124.pt\n"
     ]
    },
    {
     "name": "stderr",
     "output_type": "stream",
     "text": [
      "Training:  50%|█████     | 125/250 [2:19:36<2:19:32, 66.98s/epoch]"
     ]
    },
    {
     "name": "stdout",
     "output_type": "stream",
     "text": [
      "[Epoch 126/250] Training Loss: 0.3635\n"
     ]
    },
    {
     "name": "stderr",
     "output_type": "stream",
     "text": [
      "Training:  50%|█████     | 126/250 [2:20:11<2:19:00, 67.26s/epoch]"
     ]
    },
    {
     "name": "stdout",
     "output_type": "stream",
     "text": [
      "  Train => MSE=0.3224, CI=0.8547, Pearson=0.7777\n",
      "  Test  => MSE=0.4065, CI=0.8408, Pearson=0.7310\n",
      "Checkpoint saved at epoch 126\n",
      "Deleted previous checkpoint: /kaggle/working/TrainingModelMul/model_epoch125.pt\n"
     ]
    },
    {
     "name": "stderr",
     "output_type": "stream",
     "text": [
      "Training:  50%|█████     | 126/250 [2:20:43<2:19:00, 67.26s/epoch]"
     ]
    },
    {
     "name": "stdout",
     "output_type": "stream",
     "text": [
      "[Epoch 127/250] Training Loss: 0.3740\n"
     ]
    },
    {
     "name": "stderr",
     "output_type": "stream",
     "text": [
      "Training:  50%|█████     | 126/250 [2:21:16<2:19:00, 67.26s/epoch]"
     ]
    },
    {
     "name": "stdout",
     "output_type": "stream",
     "text": [
      "  Train => MSE=0.3257, CI=0.8550, Pearson=0.7780\n",
      "  Test  => MSE=0.4075, CI=0.8403, Pearson=0.7343\n"
     ]
    },
    {
     "name": "stderr",
     "output_type": "stream",
     "text": [
      "Training:  51%|█████     | 127/250 [2:21:17<2:16:56, 66.80s/epoch]"
     ]
    },
    {
     "name": "stdout",
     "output_type": "stream",
     "text": [
      "Checkpoint saved at epoch 127\n",
      "Deleted previous checkpoint: /kaggle/working/TrainingModelMul/model_epoch126.pt\n"
     ]
    },
    {
     "name": "stderr",
     "output_type": "stream",
     "text": [
      "Training:  51%|█████     | 127/250 [2:21:48<2:16:56, 66.80s/epoch]"
     ]
    },
    {
     "name": "stdout",
     "output_type": "stream",
     "text": [
      "[Epoch 128/250] Training Loss: 0.3750\n"
     ]
    },
    {
     "name": "stderr",
     "output_type": "stream",
     "text": [
      "Training:  51%|█████     | 128/250 [2:22:22<2:14:57, 66.37s/epoch]"
     ]
    },
    {
     "name": "stdout",
     "output_type": "stream",
     "text": [
      "  Train => MSE=0.3144, CI=0.8519, Pearson=0.7772\n",
      "  Test  => MSE=0.3975, CI=0.8350, Pearson=0.7304\n",
      "Checkpoint saved at epoch 128\n",
      "Deleted previous checkpoint: /kaggle/working/TrainingModelMul/model_epoch127.pt\n"
     ]
    },
    {
     "name": "stderr",
     "output_type": "stream",
     "text": [
      "Training:  51%|█████     | 128/250 [2:22:54<2:14:57, 66.37s/epoch]"
     ]
    },
    {
     "name": "stdout",
     "output_type": "stream",
     "text": [
      "[Epoch 129/250] Training Loss: 0.3740\n"
     ]
    },
    {
     "name": "stderr",
     "output_type": "stream",
     "text": [
      "Training:  52%|█████▏    | 129/250 [2:23:28<2:13:32, 66.22s/epoch]"
     ]
    },
    {
     "name": "stdout",
     "output_type": "stream",
     "text": [
      "  Train => MSE=0.3330, CI=0.8530, Pearson=0.7761\n",
      "  Test  => MSE=0.4127, CI=0.8399, Pearson=0.7354\n",
      "Checkpoint saved at epoch 129\n",
      "Deleted previous checkpoint: /kaggle/working/TrainingModelMul/model_epoch128.pt\n"
     ]
    },
    {
     "name": "stderr",
     "output_type": "stream",
     "text": [
      "Training:  52%|█████▏    | 129/250 [2:24:01<2:13:32, 66.22s/epoch]"
     ]
    },
    {
     "name": "stdout",
     "output_type": "stream",
     "text": [
      "[Epoch 130/250] Training Loss: 0.3644\n"
     ]
    },
    {
     "name": "stderr",
     "output_type": "stream",
     "text": [
      "Training:  52%|█████▏    | 130/250 [2:24:35<2:13:01, 66.52s/epoch]"
     ]
    },
    {
     "name": "stdout",
     "output_type": "stream",
     "text": [
      "  Train => MSE=0.3590, CI=0.8525, Pearson=0.7741\n",
      "  Test  => MSE=0.4469, CI=0.8354, Pearson=0.7265\n",
      "Checkpoint saved at epoch 130\n",
      "Deleted previous checkpoint: /kaggle/working/TrainingModelMul/model_epoch129.pt\n"
     ]
    },
    {
     "name": "stderr",
     "output_type": "stream",
     "text": [
      "Training:  52%|█████▏    | 130/250 [2:25:07<2:13:01, 66.52s/epoch]"
     ]
    },
    {
     "name": "stdout",
     "output_type": "stream",
     "text": [
      "[Epoch 131/250] Training Loss: 0.3697\n"
     ]
    },
    {
     "name": "stderr",
     "output_type": "stream",
     "text": [
      "Training:  52%|█████▏    | 131/250 [2:25:41<2:11:20, 66.22s/epoch]"
     ]
    },
    {
     "name": "stdout",
     "output_type": "stream",
     "text": [
      "  Train => MSE=0.3338, CI=0.8540, Pearson=0.7747\n",
      "  Test  => MSE=0.4135, CI=0.8402, Pearson=0.7333\n",
      "Checkpoint saved at epoch 131\n",
      "Deleted previous checkpoint: /kaggle/working/TrainingModelMul/model_epoch130.pt\n"
     ]
    },
    {
     "name": "stderr",
     "output_type": "stream",
     "text": [
      "Training:  52%|█████▏    | 131/250 [2:26:13<2:11:20, 66.22s/epoch]"
     ]
    },
    {
     "name": "stdout",
     "output_type": "stream",
     "text": [
      "[Epoch 132/250] Training Loss: 0.3603\n"
     ]
    },
    {
     "name": "stderr",
     "output_type": "stream",
     "text": [
      "Training:  53%|█████▎    | 132/250 [2:26:48<2:11:00, 66.62s/epoch]"
     ]
    },
    {
     "name": "stdout",
     "output_type": "stream",
     "text": [
      "  Train => MSE=0.3172, CI=0.8553, Pearson=0.7820\n",
      "  Test  => MSE=0.3914, CI=0.8395, Pearson=0.7445\n",
      "Checkpoint saved at epoch 132\n",
      "Deleted previous checkpoint: /kaggle/working/TrainingModelMul/model_epoch131.pt\n"
     ]
    },
    {
     "name": "stderr",
     "output_type": "stream",
     "text": [
      "Training:  53%|█████▎    | 132/250 [2:27:20<2:11:00, 66.62s/epoch]"
     ]
    },
    {
     "name": "stdout",
     "output_type": "stream",
     "text": [
      "[Epoch 133/250] Training Loss: 0.3589\n"
     ]
    },
    {
     "name": "stderr",
     "output_type": "stream",
     "text": [
      "Training:  53%|█████▎    | 133/250 [2:27:54<2:09:11, 66.25s/epoch]"
     ]
    },
    {
     "name": "stdout",
     "output_type": "stream",
     "text": [
      "  Train => MSE=0.3436, CI=0.8572, Pearson=0.7809\n",
      "  Test  => MSE=0.4272, CI=0.8422, Pearson=0.7354\n",
      "Checkpoint saved at epoch 133\n",
      "Deleted previous checkpoint: /kaggle/working/TrainingModelMul/model_epoch132.pt\n"
     ]
    },
    {
     "name": "stderr",
     "output_type": "stream",
     "text": [
      "Training:  53%|█████▎    | 133/250 [2:28:25<2:09:11, 66.25s/epoch]"
     ]
    },
    {
     "name": "stdout",
     "output_type": "stream",
     "text": [
      "[Epoch 134/250] Training Loss: 0.3578\n"
     ]
    },
    {
     "name": "stderr",
     "output_type": "stream",
     "text": [
      "Training:  54%|█████▎    | 134/250 [2:28:59<2:07:38, 66.02s/epoch]"
     ]
    },
    {
     "name": "stdout",
     "output_type": "stream",
     "text": [
      "  Train => MSE=0.2851, CI=0.8600, Pearson=0.7886\n",
      "  Test  => MSE=0.3579, CI=0.8462, Pearson=0.7484\n",
      "Checkpoint saved at epoch 134\n",
      "Deleted previous checkpoint: /kaggle/working/TrainingModelMul/model_epoch133.pt\n"
     ]
    },
    {
     "name": "stderr",
     "output_type": "stream",
     "text": [
      "Training:  54%|█████▎    | 134/250 [2:29:31<2:07:38, 66.02s/epoch]"
     ]
    },
    {
     "name": "stdout",
     "output_type": "stream",
     "text": [
      "[Epoch 135/250] Training Loss: 0.3469\n"
     ]
    },
    {
     "name": "stderr",
     "output_type": "stream",
     "text": [
      "Training:  54%|█████▍    | 135/250 [2:30:05<2:06:33, 66.03s/epoch]"
     ]
    },
    {
     "name": "stdout",
     "output_type": "stream",
     "text": [
      "  Train => MSE=0.3181, CI=0.8581, Pearson=0.7821\n",
      "  Test  => MSE=0.4000, CI=0.8427, Pearson=0.7370\n",
      "Checkpoint saved at epoch 135\n",
      "Deleted previous checkpoint: /kaggle/working/TrainingModelMul/model_epoch134.pt\n"
     ]
    },
    {
     "name": "stderr",
     "output_type": "stream",
     "text": [
      "Training:  54%|█████▍    | 135/250 [2:30:38<2:06:33, 66.03s/epoch]"
     ]
    },
    {
     "name": "stdout",
     "output_type": "stream",
     "text": [
      "[Epoch 136/250] Training Loss: 0.3513\n"
     ]
    },
    {
     "name": "stderr",
     "output_type": "stream",
     "text": [
      "Training:  54%|█████▍    | 136/250 [2:31:12<2:06:13, 66.43s/epoch]"
     ]
    },
    {
     "name": "stdout",
     "output_type": "stream",
     "text": [
      "  Train => MSE=0.3271, CI=0.8583, Pearson=0.7884\n",
      "  Test  => MSE=0.4052, CI=0.8447, Pearson=0.7480\n",
      "Checkpoint saved at epoch 136\n",
      "Deleted previous checkpoint: /kaggle/working/TrainingModelMul/model_epoch135.pt\n"
     ]
    },
    {
     "name": "stderr",
     "output_type": "stream",
     "text": [
      "Training:  54%|█████▍    | 136/250 [2:31:45<2:06:13, 66.43s/epoch]"
     ]
    },
    {
     "name": "stdout",
     "output_type": "stream",
     "text": [
      "[Epoch 137/250] Training Loss: 0.3501\n"
     ]
    },
    {
     "name": "stderr",
     "output_type": "stream",
     "text": [
      "Training:  55%|█████▍    | 137/250 [2:32:20<2:05:29, 66.64s/epoch]"
     ]
    },
    {
     "name": "stdout",
     "output_type": "stream",
     "text": [
      "  Train => MSE=0.3450, CI=0.8600, Pearson=0.7891\n",
      "  Test  => MSE=0.4305, CI=0.8439, Pearson=0.7436\n",
      "Checkpoint saved at epoch 137\n",
      "Deleted previous checkpoint: /kaggle/working/TrainingModelMul/model_epoch136.pt\n"
     ]
    },
    {
     "name": "stderr",
     "output_type": "stream",
     "text": [
      "Training:  55%|█████▍    | 137/250 [2:32:51<2:05:29, 66.64s/epoch]"
     ]
    },
    {
     "name": "stdout",
     "output_type": "stream",
     "text": [
      "[Epoch 138/250] Training Loss: 0.3525\n"
     ]
    },
    {
     "name": "stderr",
     "output_type": "stream",
     "text": [
      "Training:  55%|█████▌    | 138/250 [2:33:25<2:03:48, 66.33s/epoch]"
     ]
    },
    {
     "name": "stdout",
     "output_type": "stream",
     "text": [
      "  Train => MSE=0.3162, CI=0.8547, Pearson=0.7779\n",
      "  Test  => MSE=0.3968, CI=0.8417, Pearson=0.7332\n",
      "Checkpoint saved at epoch 138\n",
      "Deleted previous checkpoint: /kaggle/working/TrainingModelMul/model_epoch137.pt\n"
     ]
    },
    {
     "name": "stderr",
     "output_type": "stream",
     "text": [
      "Training:  55%|█████▌    | 138/250 [2:33:57<2:03:48, 66.33s/epoch]"
     ]
    },
    {
     "name": "stdout",
     "output_type": "stream",
     "text": [
      "[Epoch 139/250] Training Loss: 0.3552\n"
     ]
    },
    {
     "name": "stderr",
     "output_type": "stream",
     "text": [
      "Training:  56%|█████▌    | 139/250 [2:34:31<2:02:18, 66.11s/epoch]"
     ]
    },
    {
     "name": "stdout",
     "output_type": "stream",
     "text": [
      "  Train => MSE=0.3146, CI=0.8550, Pearson=0.7807\n",
      "  Test  => MSE=0.3950, CI=0.8422, Pearson=0.7357\n",
      "Checkpoint saved at epoch 139\n",
      "Deleted previous checkpoint: /kaggle/working/TrainingModelMul/model_epoch138.pt\n"
     ]
    },
    {
     "name": "stderr",
     "output_type": "stream",
     "text": [
      "Training:  56%|█████▌    | 139/250 [2:35:03<2:02:18, 66.11s/epoch]"
     ]
    },
    {
     "name": "stdout",
     "output_type": "stream",
     "text": [
      "[Epoch 140/250] Training Loss: 0.3470\n"
     ]
    },
    {
     "name": "stderr",
     "output_type": "stream",
     "text": [
      "Training:  56%|█████▌    | 140/250 [2:35:38<2:01:59, 66.54s/epoch]"
     ]
    },
    {
     "name": "stdout",
     "output_type": "stream",
     "text": [
      "  Train => MSE=0.3202, CI=0.8530, Pearson=0.7748\n",
      "  Test  => MSE=0.4000, CI=0.8385, Pearson=0.7307\n",
      "Checkpoint saved at epoch 140\n",
      "Deleted previous checkpoint: /kaggle/working/TrainingModelMul/model_epoch139.pt\n"
     ]
    },
    {
     "name": "stderr",
     "output_type": "stream",
     "text": [
      "Training:  56%|█████▌    | 140/250 [2:36:10<2:01:59, 66.54s/epoch]"
     ]
    },
    {
     "name": "stdout",
     "output_type": "stream",
     "text": [
      "[Epoch 141/250] Training Loss: 0.3484\n"
     ]
    },
    {
     "name": "stderr",
     "output_type": "stream",
     "text": [
      "Training:  56%|█████▋    | 141/250 [2:36:44<2:00:11, 66.16s/epoch]"
     ]
    },
    {
     "name": "stdout",
     "output_type": "stream",
     "text": [
      "  Train => MSE=0.2881, CI=0.8622, Pearson=0.7914\n",
      "  Test  => MSE=0.3627, CI=0.8496, Pearson=0.7505\n",
      "Checkpoint saved at epoch 141\n",
      "Deleted previous checkpoint: /kaggle/working/TrainingModelMul/model_epoch140.pt\n"
     ]
    },
    {
     "name": "stderr",
     "output_type": "stream",
     "text": [
      "Training:  56%|█████▋    | 141/250 [2:37:15<2:00:11, 66.16s/epoch]"
     ]
    },
    {
     "name": "stdout",
     "output_type": "stream",
     "text": [
      "[Epoch 142/250] Training Loss: 0.3353\n"
     ]
    },
    {
     "name": "stderr",
     "output_type": "stream",
     "text": [
      "Training:  57%|█████▋    | 142/250 [2:37:50<1:59:00, 66.11s/epoch]"
     ]
    },
    {
     "name": "stdout",
     "output_type": "stream",
     "text": [
      "  Train => MSE=0.2938, CI=0.8582, Pearson=0.7888\n",
      "  Test  => MSE=0.3753, CI=0.8430, Pearson=0.7421\n",
      "Checkpoint saved at epoch 142\n",
      "Deleted previous checkpoint: /kaggle/working/TrainingModelMul/model_epoch141.pt\n"
     ]
    },
    {
     "name": "stderr",
     "output_type": "stream",
     "text": [
      "Training:  57%|█████▋    | 142/250 [2:38:22<1:59:00, 66.11s/epoch]"
     ]
    },
    {
     "name": "stdout",
     "output_type": "stream",
     "text": [
      "[Epoch 143/250] Training Loss: 0.3440\n"
     ]
    },
    {
     "name": "stderr",
     "output_type": "stream",
     "text": [
      "Training:  57%|█████▋    | 143/250 [2:38:56<1:58:18, 66.34s/epoch]"
     ]
    },
    {
     "name": "stdout",
     "output_type": "stream",
     "text": [
      "  Train => MSE=0.3150, CI=0.8608, Pearson=0.7933\n",
      "  Test  => MSE=0.3921, CI=0.8469, Pearson=0.7522\n",
      "Checkpoint saved at epoch 143\n",
      "Deleted previous checkpoint: /kaggle/working/TrainingModelMul/model_epoch142.pt\n"
     ]
    },
    {
     "name": "stderr",
     "output_type": "stream",
     "text": [
      "Training:  57%|█████▋    | 143/250 [2:39:29<1:58:18, 66.34s/epoch]"
     ]
    },
    {
     "name": "stdout",
     "output_type": "stream",
     "text": [
      "[Epoch 144/250] Training Loss: 0.3472\n"
     ]
    },
    {
     "name": "stderr",
     "output_type": "stream",
     "text": [
      "Training:  58%|█████▊    | 144/250 [2:40:04<1:57:52, 66.72s/epoch]"
     ]
    },
    {
     "name": "stdout",
     "output_type": "stream",
     "text": [
      "  Train => MSE=0.2936, CI=0.8643, Pearson=0.7932\n",
      "  Test  => MSE=0.3683, CI=0.8508, Pearson=0.7528\n",
      "Checkpoint saved at epoch 144\n",
      "Deleted previous checkpoint: /kaggle/working/TrainingModelMul/model_epoch143.pt\n"
     ]
    },
    {
     "name": "stderr",
     "output_type": "stream",
     "text": [
      "Training:  58%|█████▊    | 144/250 [2:40:36<1:57:52, 66.72s/epoch]"
     ]
    },
    {
     "name": "stdout",
     "output_type": "stream",
     "text": [
      "[Epoch 145/250] Training Loss: 0.3405\n"
     ]
    },
    {
     "name": "stderr",
     "output_type": "stream",
     "text": [
      "Training:  58%|█████▊    | 145/250 [2:41:11<1:56:46, 66.72s/epoch]"
     ]
    },
    {
     "name": "stdout",
     "output_type": "stream",
     "text": [
      "  Train => MSE=0.2806, CI=0.8658, Pearson=0.7994\n",
      "  Test  => MSE=0.3570, CI=0.8533, Pearson=0.7564\n",
      "Checkpoint saved at epoch 145\n",
      "Deleted previous checkpoint: /kaggle/working/TrainingModelMul/model_epoch144.pt\n"
     ]
    },
    {
     "name": "stderr",
     "output_type": "stream",
     "text": [
      "Training:  58%|█████▊    | 145/250 [2:41:43<1:56:46, 66.72s/epoch]"
     ]
    },
    {
     "name": "stdout",
     "output_type": "stream",
     "text": [
      "[Epoch 146/250] Training Loss: 0.3410\n"
     ]
    },
    {
     "name": "stderr",
     "output_type": "stream",
     "text": [
      "Training:  58%|█████▊    | 146/250 [2:42:17<1:55:28, 66.62s/epoch]"
     ]
    },
    {
     "name": "stdout",
     "output_type": "stream",
     "text": [
      "  Train => MSE=0.2817, CI=0.8658, Pearson=0.8013\n",
      "  Test  => MSE=0.3550, CI=0.8534, Pearson=0.7606\n",
      "Checkpoint saved at epoch 146\n",
      "Deleted previous checkpoint: /kaggle/working/TrainingModelMul/model_epoch145.pt\n"
     ]
    },
    {
     "name": "stderr",
     "output_type": "stream",
     "text": [
      "Training:  58%|█████▊    | 146/250 [2:42:50<1:55:28, 66.62s/epoch]"
     ]
    },
    {
     "name": "stdout",
     "output_type": "stream",
     "text": [
      "[Epoch 147/250] Training Loss: 0.3323\n"
     ]
    },
    {
     "name": "stderr",
     "output_type": "stream",
     "text": [
      "Training:  59%|█████▉    | 147/250 [2:43:25<1:54:52, 66.91s/epoch]"
     ]
    },
    {
     "name": "stdout",
     "output_type": "stream",
     "text": [
      "  Train => MSE=0.2740, CI=0.8634, Pearson=0.7941\n",
      "  Test  => MSE=0.3537, CI=0.8488, Pearson=0.7467\n",
      "Checkpoint saved at epoch 147\n",
      "Deleted previous checkpoint: /kaggle/working/TrainingModelMul/model_epoch146.pt\n"
     ]
    },
    {
     "name": "stderr",
     "output_type": "stream",
     "text": [
      "Training:  59%|█████▉    | 147/250 [2:43:56<1:54:52, 66.91s/epoch]"
     ]
    },
    {
     "name": "stdout",
     "output_type": "stream",
     "text": [
      "[Epoch 148/250] Training Loss: 0.3384\n"
     ]
    },
    {
     "name": "stderr",
     "output_type": "stream",
     "text": [
      "Training:  59%|█████▉    | 148/250 [2:44:30<1:53:00, 66.47s/epoch]"
     ]
    },
    {
     "name": "stdout",
     "output_type": "stream",
     "text": [
      "  Train => MSE=0.2880, CI=0.8647, Pearson=0.7977\n",
      "  Test  => MSE=0.3639, CI=0.8507, Pearson=0.7558\n",
      "Checkpoint saved at epoch 148\n",
      "Deleted previous checkpoint: /kaggle/working/TrainingModelMul/model_epoch147.pt\n"
     ]
    },
    {
     "name": "stderr",
     "output_type": "stream",
     "text": [
      "Training:  59%|█████▉    | 148/250 [2:45:03<1:53:00, 66.47s/epoch]"
     ]
    },
    {
     "name": "stdout",
     "output_type": "stream",
     "text": [
      "[Epoch 149/250] Training Loss: 0.3304\n"
     ]
    },
    {
     "name": "stderr",
     "output_type": "stream",
     "text": [
      "Training:  60%|█████▉    | 149/250 [2:45:38<1:52:24, 66.78s/epoch]"
     ]
    },
    {
     "name": "stdout",
     "output_type": "stream",
     "text": [
      "  Train => MSE=0.2860, CI=0.8639, Pearson=0.7943\n",
      "  Test  => MSE=0.3634, CI=0.8512, Pearson=0.7507\n",
      "Checkpoint saved at epoch 149\n",
      "Deleted previous checkpoint: /kaggle/working/TrainingModelMul/model_epoch148.pt\n"
     ]
    },
    {
     "name": "stderr",
     "output_type": "stream",
     "text": [
      "Training:  60%|█████▉    | 149/250 [2:46:09<1:52:24, 66.78s/epoch]"
     ]
    },
    {
     "name": "stdout",
     "output_type": "stream",
     "text": [
      "[Epoch 150/250] Training Loss: 0.3351\n"
     ]
    },
    {
     "name": "stderr",
     "output_type": "stream",
     "text": [
      "Training:  60%|██████    | 150/250 [2:46:43<1:50:35, 66.35s/epoch]"
     ]
    },
    {
     "name": "stdout",
     "output_type": "stream",
     "text": [
      "  Train => MSE=0.2951, CI=0.8642, Pearson=0.7970\n",
      "  Test  => MSE=0.3724, CI=0.8522, Pearson=0.7540\n",
      "Checkpoint saved at epoch 150\n",
      "Deleted previous checkpoint: /kaggle/working/TrainingModelMul/model_epoch149.pt\n"
     ]
    },
    {
     "name": "stderr",
     "output_type": "stream",
     "text": [
      "Training:  60%|██████    | 150/250 [2:47:16<1:50:35, 66.35s/epoch]"
     ]
    },
    {
     "name": "stdout",
     "output_type": "stream",
     "text": [
      "[Epoch 151/250] Training Loss: 0.3391\n"
     ]
    },
    {
     "name": "stderr",
     "output_type": "stream",
     "text": [
      "Training:  60%|██████    | 151/250 [2:47:50<1:49:45, 66.52s/epoch]"
     ]
    },
    {
     "name": "stdout",
     "output_type": "stream",
     "text": [
      "  Train => MSE=0.2884, CI=0.8641, Pearson=0.7986\n",
      "  Test  => MSE=0.3713, CI=0.8493, Pearson=0.7514\n",
      "Checkpoint saved at epoch 151\n",
      "Deleted previous checkpoint: /kaggle/working/TrainingModelMul/model_epoch150.pt\n"
     ]
    },
    {
     "name": "stderr",
     "output_type": "stream",
     "text": [
      "Training:  60%|██████    | 151/250 [2:48:21<1:49:45, 66.52s/epoch]"
     ]
    },
    {
     "name": "stdout",
     "output_type": "stream",
     "text": [
      "[Epoch 152/250] Training Loss: 0.3310\n"
     ]
    },
    {
     "name": "stderr",
     "output_type": "stream",
     "text": [
      "Training:  61%|██████    | 152/250 [2:48:55<1:48:08, 66.21s/epoch]"
     ]
    },
    {
     "name": "stdout",
     "output_type": "stream",
     "text": [
      "  Train => MSE=0.2737, CI=0.8629, Pearson=0.7988\n",
      "  Test  => MSE=0.3515, CI=0.8492, Pearson=0.7542\n",
      "Checkpoint saved at epoch 152\n",
      "Deleted previous checkpoint: /kaggle/working/TrainingModelMul/model_epoch151.pt\n"
     ]
    },
    {
     "name": "stderr",
     "output_type": "stream",
     "text": [
      "Training:  61%|██████    | 152/250 [2:49:27<1:48:08, 66.21s/epoch]"
     ]
    },
    {
     "name": "stdout",
     "output_type": "stream",
     "text": [
      "[Epoch 153/250] Training Loss: 0.3282\n"
     ]
    },
    {
     "name": "stderr",
     "output_type": "stream",
     "text": [
      "Training:  61%|██████    | 153/250 [2:50:03<1:47:34, 66.54s/epoch]"
     ]
    },
    {
     "name": "stdout",
     "output_type": "stream",
     "text": [
      "  Train => MSE=0.2760, CI=0.8655, Pearson=0.8006\n",
      "  Test  => MSE=0.3501, CI=0.8519, Pearson=0.7593\n",
      "Checkpoint saved at epoch 153\n",
      "Deleted previous checkpoint: /kaggle/working/TrainingModelMul/model_epoch152.pt\n"
     ]
    },
    {
     "name": "stderr",
     "output_type": "stream",
     "text": [
      "Training:  61%|██████    | 153/250 [2:50:35<1:47:34, 66.54s/epoch]"
     ]
    },
    {
     "name": "stdout",
     "output_type": "stream",
     "text": [
      "[Epoch 154/250] Training Loss: 0.3280\n"
     ]
    },
    {
     "name": "stderr",
     "output_type": "stream",
     "text": [
      "Training:  62%|██████▏   | 154/250 [2:51:09<1:46:31, 66.58s/epoch]"
     ]
    },
    {
     "name": "stdout",
     "output_type": "stream",
     "text": [
      "  Train => MSE=0.2744, CI=0.8686, Pearson=0.8055\n",
      "  Test  => MSE=0.3511, CI=0.8557, Pearson=0.7620\n",
      "Checkpoint saved at epoch 154\n",
      "Deleted previous checkpoint: /kaggle/working/TrainingModelMul/model_epoch153.pt\n"
     ]
    },
    {
     "name": "stderr",
     "output_type": "stream",
     "text": [
      "Training:  62%|██████▏   | 154/250 [2:51:42<1:46:31, 66.58s/epoch]"
     ]
    },
    {
     "name": "stdout",
     "output_type": "stream",
     "text": [
      "[Epoch 155/250] Training Loss: 0.3240\n"
     ]
    },
    {
     "name": "stderr",
     "output_type": "stream",
     "text": [
      "Training:  62%|██████▏   | 155/250 [2:52:17<1:45:58, 66.93s/epoch]"
     ]
    },
    {
     "name": "stdout",
     "output_type": "stream",
     "text": [
      "  Train => MSE=0.2862, CI=0.8680, Pearson=0.8030\n",
      "  Test  => MSE=0.3640, CI=0.8543, Pearson=0.7589\n",
      "Checkpoint saved at epoch 155\n",
      "Deleted previous checkpoint: /kaggle/working/TrainingModelMul/model_epoch154.pt\n"
     ]
    },
    {
     "name": "stderr",
     "output_type": "stream",
     "text": [
      "Training:  62%|██████▏   | 155/250 [2:52:49<1:45:58, 66.93s/epoch]"
     ]
    },
    {
     "name": "stdout",
     "output_type": "stream",
     "text": [
      "[Epoch 156/250] Training Loss: 0.3318\n"
     ]
    },
    {
     "name": "stderr",
     "output_type": "stream",
     "text": [
      "Training:  62%|██████▏   | 156/250 [2:53:22<1:44:04, 66.43s/epoch]"
     ]
    },
    {
     "name": "stdout",
     "output_type": "stream",
     "text": [
      "  Train => MSE=0.2711, CI=0.8688, Pearson=0.8079\n",
      "  Test  => MSE=0.3479, CI=0.8546, Pearson=0.7644\n",
      "Checkpoint saved at epoch 156\n",
      "Deleted previous checkpoint: /kaggle/working/TrainingModelMul/model_epoch155.pt\n"
     ]
    },
    {
     "name": "stderr",
     "output_type": "stream",
     "text": [
      "Training:  62%|██████▏   | 156/250 [2:53:54<1:44:04, 66.43s/epoch]"
     ]
    },
    {
     "name": "stdout",
     "output_type": "stream",
     "text": [
      "[Epoch 157/250] Training Loss: 0.3264\n"
     ]
    },
    {
     "name": "stderr",
     "output_type": "stream",
     "text": [
      "Training:  63%|██████▎   | 157/250 [2:54:29<1:42:53, 66.38s/epoch]"
     ]
    },
    {
     "name": "stdout",
     "output_type": "stream",
     "text": [
      "  Train => MSE=0.2887, CI=0.8638, Pearson=0.8008\n",
      "  Test  => MSE=0.3714, CI=0.8482, Pearson=0.7540\n",
      "Checkpoint saved at epoch 157\n",
      "Deleted previous checkpoint: /kaggle/working/TrainingModelMul/model_epoch156.pt\n"
     ]
    },
    {
     "name": "stderr",
     "output_type": "stream",
     "text": [
      "Training:  63%|██████▎   | 157/250 [2:55:02<1:42:53, 66.38s/epoch]"
     ]
    },
    {
     "name": "stdout",
     "output_type": "stream",
     "text": [
      "[Epoch 158/250] Training Loss: 0.3365\n"
     ]
    },
    {
     "name": "stderr",
     "output_type": "stream",
     "text": [
      "Training:  63%|██████▎   | 158/250 [2:55:37<1:42:29, 66.84s/epoch]"
     ]
    },
    {
     "name": "stdout",
     "output_type": "stream",
     "text": [
      "  Train => MSE=0.3020, CI=0.8651, Pearson=0.7953\n",
      "  Test  => MSE=0.3739, CI=0.8505, Pearson=0.7580\n",
      "Checkpoint saved at epoch 158\n",
      "Deleted previous checkpoint: /kaggle/working/TrainingModelMul/model_epoch157.pt\n"
     ]
    },
    {
     "name": "stderr",
     "output_type": "stream",
     "text": [
      "Training:  63%|██████▎   | 158/250 [2:56:09<1:42:29, 66.84s/epoch]"
     ]
    },
    {
     "name": "stdout",
     "output_type": "stream",
     "text": [
      "[Epoch 159/250] Training Loss: 0.3306\n"
     ]
    },
    {
     "name": "stderr",
     "output_type": "stream",
     "text": [
      "Training:  64%|██████▎   | 159/250 [2:56:43<1:41:06, 66.67s/epoch]"
     ]
    },
    {
     "name": "stdout",
     "output_type": "stream",
     "text": [
      "  Train => MSE=0.2834, CI=0.8643, Pearson=0.7991\n",
      "  Test  => MSE=0.3633, CI=0.8504, Pearson=0.7534\n",
      "Checkpoint saved at epoch 159\n",
      "Deleted previous checkpoint: /kaggle/working/TrainingModelMul/model_epoch158.pt\n"
     ]
    },
    {
     "name": "stderr",
     "output_type": "stream",
     "text": [
      "Training:  64%|██████▎   | 159/250 [2:57:16<1:41:06, 66.67s/epoch]"
     ]
    },
    {
     "name": "stdout",
     "output_type": "stream",
     "text": [
      "[Epoch 160/250] Training Loss: 0.3232\n"
     ]
    },
    {
     "name": "stderr",
     "output_type": "stream",
     "text": [
      "Training:  64%|██████▍   | 160/250 [2:57:51<1:40:28, 66.98s/epoch]"
     ]
    },
    {
     "name": "stdout",
     "output_type": "stream",
     "text": [
      "  Train => MSE=0.2583, CI=0.8703, Pearson=0.8108\n",
      "  Test  => MSE=0.3332, CI=0.8561, Pearson=0.7670\n",
      "Checkpoint saved at epoch 160\n",
      "Deleted previous checkpoint: /kaggle/working/TrainingModelMul/model_epoch159.pt\n"
     ]
    },
    {
     "name": "stderr",
     "output_type": "stream",
     "text": [
      "Training:  64%|██████▍   | 160/250 [2:58:22<1:40:28, 66.98s/epoch]"
     ]
    },
    {
     "name": "stdout",
     "output_type": "stream",
     "text": [
      "[Epoch 161/250] Training Loss: 0.3191\n"
     ]
    },
    {
     "name": "stderr",
     "output_type": "stream",
     "text": [
      "Training:  64%|██████▍   | 161/250 [2:58:57<1:39:09, 66.85s/epoch]"
     ]
    },
    {
     "name": "stdout",
     "output_type": "stream",
     "text": [
      "  Train => MSE=0.2773, CI=0.8676, Pearson=0.8031\n",
      "  Test  => MSE=0.3551, CI=0.8540, Pearson=0.7589\n",
      "Checkpoint saved at epoch 161\n",
      "Deleted previous checkpoint: /kaggle/working/TrainingModelMul/model_epoch160.pt\n"
     ]
    },
    {
     "name": "stderr",
     "output_type": "stream",
     "text": [
      "Training:  64%|██████▍   | 161/250 [2:59:29<1:39:09, 66.85s/epoch]"
     ]
    },
    {
     "name": "stdout",
     "output_type": "stream",
     "text": [
      "[Epoch 162/250] Training Loss: 0.3257\n"
     ]
    },
    {
     "name": "stderr",
     "output_type": "stream",
     "text": [
      "Training:  65%|██████▍   | 162/250 [3:00:03<1:37:48, 66.69s/epoch]"
     ]
    },
    {
     "name": "stdout",
     "output_type": "stream",
     "text": [
      "  Train => MSE=0.2729, CI=0.8689, Pearson=0.8047\n",
      "  Test  => MSE=0.3547, CI=0.8529, Pearson=0.7566\n",
      "Checkpoint saved at epoch 162\n",
      "Deleted previous checkpoint: /kaggle/working/TrainingModelMul/model_epoch161.pt\n"
     ]
    },
    {
     "name": "stderr",
     "output_type": "stream",
     "text": [
      "Training:  65%|██████▍   | 162/250 [3:00:35<1:37:48, 66.69s/epoch]"
     ]
    },
    {
     "name": "stdout",
     "output_type": "stream",
     "text": [
      "[Epoch 163/250] Training Loss: 0.3212\n"
     ]
    },
    {
     "name": "stderr",
     "output_type": "stream",
     "text": [
      "Training:  65%|██████▌   | 163/250 [3:01:10<1:36:44, 66.72s/epoch]"
     ]
    },
    {
     "name": "stdout",
     "output_type": "stream",
     "text": [
      "  Train => MSE=0.2782, CI=0.8671, Pearson=0.8031\n",
      "  Test  => MSE=0.3619, CI=0.8529, Pearson=0.7535\n",
      "Checkpoint saved at epoch 163\n",
      "Deleted previous checkpoint: /kaggle/working/TrainingModelMul/model_epoch162.pt\n"
     ]
    },
    {
     "name": "stderr",
     "output_type": "stream",
     "text": [
      "Training:  65%|██████▌   | 163/250 [3:01:42<1:36:44, 66.72s/epoch]"
     ]
    },
    {
     "name": "stdout",
     "output_type": "stream",
     "text": [
      "[Epoch 164/250] Training Loss: 0.3240\n"
     ]
    },
    {
     "name": "stderr",
     "output_type": "stream",
     "text": [
      "Training:  66%|██████▌   | 164/250 [3:02:17<1:35:37, 66.71s/epoch]"
     ]
    },
    {
     "name": "stdout",
     "output_type": "stream",
     "text": [
      "  Train => MSE=0.2627, CI=0.8701, Pearson=0.8096\n",
      "  Test  => MSE=0.3362, CI=0.8570, Pearson=0.7680\n",
      "Checkpoint saved at epoch 164\n",
      "Deleted previous checkpoint: /kaggle/working/TrainingModelMul/model_epoch163.pt\n"
     ]
    },
    {
     "name": "stderr",
     "output_type": "stream",
     "text": [
      "Training:  66%|██████▌   | 164/250 [3:02:50<1:35:37, 66.71s/epoch]"
     ]
    },
    {
     "name": "stdout",
     "output_type": "stream",
     "text": [
      "[Epoch 165/250] Training Loss: 0.3222\n"
     ]
    },
    {
     "name": "stderr",
     "output_type": "stream",
     "text": [
      "Training:  66%|██████▌   | 165/250 [3:03:25<1:34:54, 66.99s/epoch]"
     ]
    },
    {
     "name": "stdout",
     "output_type": "stream",
     "text": [
      "  Train => MSE=0.2815, CI=0.8626, Pearson=0.7980\n",
      "  Test  => MSE=0.3625, CI=0.8478, Pearson=0.7511\n",
      "Checkpoint saved at epoch 165\n",
      "Deleted previous checkpoint: /kaggle/working/TrainingModelMul/model_epoch164.pt\n"
     ]
    },
    {
     "name": "stderr",
     "output_type": "stream",
     "text": [
      "Training:  66%|██████▌   | 165/250 [3:03:57<1:34:54, 66.99s/epoch]"
     ]
    },
    {
     "name": "stdout",
     "output_type": "stream",
     "text": [
      "[Epoch 166/250] Training Loss: 0.3237\n"
     ]
    },
    {
     "name": "stderr",
     "output_type": "stream",
     "text": [
      "Training:  66%|██████▋   | 166/250 [3:04:32<1:34:01, 67.17s/epoch]"
     ]
    },
    {
     "name": "stdout",
     "output_type": "stream",
     "text": [
      "  Train => MSE=0.2605, CI=0.8694, Pearson=0.8119\n",
      "  Test  => MSE=0.3381, CI=0.8540, Pearson=0.7667\n",
      "Checkpoint saved at epoch 166\n",
      "Deleted previous checkpoint: /kaggle/working/TrainingModelMul/model_epoch165.pt\n"
     ]
    },
    {
     "name": "stderr",
     "output_type": "stream",
     "text": [
      "Training:  66%|██████▋   | 166/250 [3:05:04<1:34:01, 67.17s/epoch]"
     ]
    },
    {
     "name": "stdout",
     "output_type": "stream",
     "text": [
      "[Epoch 167/250] Training Loss: 0.3180\n"
     ]
    },
    {
     "name": "stderr",
     "output_type": "stream",
     "text": [
      "Training:  67%|██████▋   | 167/250 [3:05:39<1:32:40, 66.99s/epoch]"
     ]
    },
    {
     "name": "stdout",
     "output_type": "stream",
     "text": [
      "  Train => MSE=0.2829, CI=0.8618, Pearson=0.7934\n",
      "  Test  => MSE=0.3623, CI=0.8472, Pearson=0.7475\n",
      "Checkpoint saved at epoch 167\n",
      "Deleted previous checkpoint: /kaggle/working/TrainingModelMul/model_epoch166.pt\n"
     ]
    },
    {
     "name": "stderr",
     "output_type": "stream",
     "text": [
      "Training:  67%|██████▋   | 167/250 [3:06:11<1:32:40, 66.99s/epoch]"
     ]
    },
    {
     "name": "stdout",
     "output_type": "stream",
     "text": [
      "[Epoch 168/250] Training Loss: 0.3248\n"
     ]
    },
    {
     "name": "stderr",
     "output_type": "stream",
     "text": [
      "Training:  67%|██████▋   | 168/250 [3:06:46<1:31:32, 66.98s/epoch]"
     ]
    },
    {
     "name": "stdout",
     "output_type": "stream",
     "text": [
      "  Train => MSE=0.2685, CI=0.8712, Pearson=0.8107\n",
      "  Test  => MSE=0.3462, CI=0.8572, Pearson=0.7664\n",
      "Checkpoint saved at epoch 168\n",
      "Deleted previous checkpoint: /kaggle/working/TrainingModelMul/model_epoch167.pt\n"
     ]
    },
    {
     "name": "stderr",
     "output_type": "stream",
     "text": [
      "Training:  67%|██████▋   | 168/250 [3:07:17<1:31:32, 66.98s/epoch]"
     ]
    },
    {
     "name": "stdout",
     "output_type": "stream",
     "text": [
      "[Epoch 169/250] Training Loss: 0.3181\n"
     ]
    },
    {
     "name": "stderr",
     "output_type": "stream",
     "text": [
      "Training:  68%|██████▊   | 169/250 [3:07:52<1:29:56, 66.62s/epoch]"
     ]
    },
    {
     "name": "stdout",
     "output_type": "stream",
     "text": [
      "  Train => MSE=0.2730, CI=0.8714, Pearson=0.8121\n",
      "  Test  => MSE=0.3557, CI=0.8554, Pearson=0.7643\n",
      "Checkpoint saved at epoch 169\n",
      "Deleted previous checkpoint: /kaggle/working/TrainingModelMul/model_epoch168.pt\n"
     ]
    },
    {
     "name": "stderr",
     "output_type": "stream",
     "text": [
      "Training:  68%|██████▊   | 169/250 [3:08:24<1:29:56, 66.62s/epoch]"
     ]
    },
    {
     "name": "stdout",
     "output_type": "stream",
     "text": [
      "[Epoch 170/250] Training Loss: 0.3194\n"
     ]
    },
    {
     "name": "stderr",
     "output_type": "stream",
     "text": [
      "Training:  68%|██████▊   | 170/250 [3:08:59<1:29:16, 66.95s/epoch]"
     ]
    },
    {
     "name": "stdout",
     "output_type": "stream",
     "text": [
      "  Train => MSE=0.2536, CI=0.8708, Pearson=0.8121\n",
      "  Test  => MSE=0.3281, CI=0.8570, Pearson=0.7686\n",
      "Checkpoint saved at epoch 170\n",
      "Deleted previous checkpoint: /kaggle/working/TrainingModelMul/model_epoch169.pt\n"
     ]
    },
    {
     "name": "stderr",
     "output_type": "stream",
     "text": [
      "Training:  68%|██████▊   | 170/250 [3:09:31<1:29:16, 66.95s/epoch]"
     ]
    },
    {
     "name": "stdout",
     "output_type": "stream",
     "text": [
      "[Epoch 171/250] Training Loss: 0.3036\n"
     ]
    },
    {
     "name": "stderr",
     "output_type": "stream",
     "text": [
      "Training:  68%|██████▊   | 171/250 [3:10:05<1:27:47, 66.68s/epoch]"
     ]
    },
    {
     "name": "stdout",
     "output_type": "stream",
     "text": [
      "  Train => MSE=0.2601, CI=0.8693, Pearson=0.8073\n",
      "  Test  => MSE=0.3364, CI=0.8572, Pearson=0.7630\n",
      "Checkpoint saved at epoch 171\n",
      "Deleted previous checkpoint: /kaggle/working/TrainingModelMul/model_epoch170.pt\n"
     ]
    },
    {
     "name": "stderr",
     "output_type": "stream",
     "text": [
      "Training:  68%|██████▊   | 171/250 [3:10:37<1:27:47, 66.68s/epoch]"
     ]
    },
    {
     "name": "stdout",
     "output_type": "stream",
     "text": [
      "[Epoch 172/250] Training Loss: 0.3120\n"
     ]
    },
    {
     "name": "stderr",
     "output_type": "stream",
     "text": [
      "Training:  69%|██████▉   | 172/250 [3:11:12<1:26:39, 66.66s/epoch]"
     ]
    },
    {
     "name": "stdout",
     "output_type": "stream",
     "text": [
      "  Train => MSE=0.2653, CI=0.8693, Pearson=0.8119\n",
      "  Test  => MSE=0.3434, CI=0.8566, Pearson=0.7674\n",
      "Checkpoint saved at epoch 172\n",
      "Deleted previous checkpoint: /kaggle/working/TrainingModelMul/model_epoch171.pt\n"
     ]
    },
    {
     "name": "stderr",
     "output_type": "stream",
     "text": [
      "Training:  69%|██████▉   | 172/250 [3:11:43<1:26:39, 66.66s/epoch]"
     ]
    },
    {
     "name": "stdout",
     "output_type": "stream",
     "text": [
      "[Epoch 173/250] Training Loss: 0.3151\n"
     ]
    },
    {
     "name": "stderr",
     "output_type": "stream",
     "text": [
      "Training:  69%|██████▉   | 173/250 [3:12:18<1:25:11, 66.39s/epoch]"
     ]
    },
    {
     "name": "stdout",
     "output_type": "stream",
     "text": [
      "  Train => MSE=0.2681, CI=0.8679, Pearson=0.8091\n",
      "  Test  => MSE=0.3474, CI=0.8559, Pearson=0.7620\n",
      "Checkpoint saved at epoch 173\n",
      "Deleted previous checkpoint: /kaggle/working/TrainingModelMul/model_epoch172.pt\n"
     ]
    },
    {
     "name": "stderr",
     "output_type": "stream",
     "text": [
      "Training:  69%|██████▉   | 173/250 [3:12:50<1:25:11, 66.39s/epoch]"
     ]
    },
    {
     "name": "stdout",
     "output_type": "stream",
     "text": [
      "[Epoch 174/250] Training Loss: 0.3125\n"
     ]
    },
    {
     "name": "stderr",
     "output_type": "stream",
     "text": [
      "Training:  70%|██████▉   | 174/250 [3:13:25<1:24:35, 66.78s/epoch]"
     ]
    },
    {
     "name": "stdout",
     "output_type": "stream",
     "text": [
      "  Train => MSE=0.2462, CI=0.8717, Pearson=0.8166\n",
      "  Test  => MSE=0.3241, CI=0.8574, Pearson=0.7686\n",
      "Checkpoint saved at epoch 174\n",
      "Deleted previous checkpoint: /kaggle/working/TrainingModelMul/model_epoch173.pt\n"
     ]
    },
    {
     "name": "stderr",
     "output_type": "stream",
     "text": [
      "Training:  70%|██████▉   | 174/250 [3:13:58<1:24:35, 66.78s/epoch]"
     ]
    },
    {
     "name": "stdout",
     "output_type": "stream",
     "text": [
      "[Epoch 175/250] Training Loss: 0.3057\n"
     ]
    },
    {
     "name": "stderr",
     "output_type": "stream",
     "text": [
      "Training:  70%|███████   | 175/250 [3:14:33<1:23:42, 66.96s/epoch]"
     ]
    },
    {
     "name": "stdout",
     "output_type": "stream",
     "text": [
      "  Train => MSE=0.2449, CI=0.8762, Pearson=0.8185\n",
      "  Test  => MSE=0.3221, CI=0.8624, Pearson=0.7725\n",
      "Checkpoint saved at epoch 175\n",
      "Deleted previous checkpoint: /kaggle/working/TrainingModelMul/model_epoch174.pt\n"
     ]
    },
    {
     "name": "stderr",
     "output_type": "stream",
     "text": [
      "Training:  70%|███████   | 175/250 [3:15:05<1:23:42, 66.96s/epoch]"
     ]
    },
    {
     "name": "stdout",
     "output_type": "stream",
     "text": [
      "[Epoch 176/250] Training Loss: 0.3037\n"
     ]
    },
    {
     "name": "stderr",
     "output_type": "stream",
     "text": [
      "Training:  70%|███████   | 176/250 [3:15:39<1:22:25, 66.83s/epoch]"
     ]
    },
    {
     "name": "stdout",
     "output_type": "stream",
     "text": [
      "  Train => MSE=0.2533, CI=0.8731, Pearson=0.8139\n",
      "  Test  => MSE=0.3362, CI=0.8607, Pearson=0.7639\n",
      "Checkpoint saved at epoch 176\n",
      "Deleted previous checkpoint: /kaggle/working/TrainingModelMul/model_epoch175.pt\n"
     ]
    },
    {
     "name": "stderr",
     "output_type": "stream",
     "text": [
      "Training:  70%|███████   | 176/250 [3:16:12<1:22:25, 66.83s/epoch]"
     ]
    },
    {
     "name": "stdout",
     "output_type": "stream",
     "text": [
      "[Epoch 177/250] Training Loss: 0.3110\n"
     ]
    },
    {
     "name": "stderr",
     "output_type": "stream",
     "text": [
      "Training:  71%|███████   | 177/250 [3:16:47<1:21:31, 67.00s/epoch]"
     ]
    },
    {
     "name": "stdout",
     "output_type": "stream",
     "text": [
      "  Train => MSE=0.2662, CI=0.8702, Pearson=0.8120\n",
      "  Test  => MSE=0.3464, CI=0.8563, Pearson=0.7659\n",
      "Checkpoint saved at epoch 177\n",
      "Deleted previous checkpoint: /kaggle/working/TrainingModelMul/model_epoch176.pt\n"
     ]
    },
    {
     "name": "stderr",
     "output_type": "stream",
     "text": [
      "Training:  71%|███████   | 177/250 [3:17:18<1:21:31, 67.00s/epoch]"
     ]
    },
    {
     "name": "stdout",
     "output_type": "stream",
     "text": [
      "[Epoch 178/250] Training Loss: 0.3121\n"
     ]
    },
    {
     "name": "stderr",
     "output_type": "stream",
     "text": [
      "Training:  71%|███████   | 178/250 [3:17:52<1:19:52, 66.56s/epoch]"
     ]
    },
    {
     "name": "stdout",
     "output_type": "stream",
     "text": [
      "  Train => MSE=0.2541, CI=0.8714, Pearson=0.8099\n",
      "  Test  => MSE=0.3291, CI=0.8554, Pearson=0.7655\n",
      "Checkpoint saved at epoch 178\n",
      "Deleted previous checkpoint: /kaggle/working/TrainingModelMul/model_epoch177.pt\n"
     ]
    },
    {
     "name": "stderr",
     "output_type": "stream",
     "text": [
      "Training:  71%|███████   | 178/250 [3:18:25<1:19:52, 66.56s/epoch]"
     ]
    },
    {
     "name": "stdout",
     "output_type": "stream",
     "text": [
      "[Epoch 179/250] Training Loss: 0.3066\n"
     ]
    },
    {
     "name": "stderr",
     "output_type": "stream",
     "text": [
      "Training:  72%|███████▏  | 179/250 [3:19:00<1:19:10, 66.91s/epoch]"
     ]
    },
    {
     "name": "stdout",
     "output_type": "stream",
     "text": [
      "  Train => MSE=0.2595, CI=0.8693, Pearson=0.8062\n",
      "  Test  => MSE=0.3378, CI=0.8569, Pearson=0.7597\n",
      "Checkpoint saved at epoch 179\n",
      "Deleted previous checkpoint: /kaggle/working/TrainingModelMul/model_epoch178.pt\n"
     ]
    },
    {
     "name": "stderr",
     "output_type": "stream",
     "text": [
      "Training:  72%|███████▏  | 179/250 [3:19:32<1:19:10, 66.91s/epoch]"
     ]
    },
    {
     "name": "stdout",
     "output_type": "stream",
     "text": [
      "[Epoch 180/250] Training Loss: 0.3034\n"
     ]
    },
    {
     "name": "stderr",
     "output_type": "stream",
     "text": [
      "Training:  72%|███████▏  | 180/250 [3:20:06<1:17:50, 66.73s/epoch]"
     ]
    },
    {
     "name": "stdout",
     "output_type": "stream",
     "text": [
      "  Train => MSE=0.2657, CI=0.8699, Pearson=0.8087\n",
      "  Test  => MSE=0.3528, CI=0.8510, Pearson=0.7562\n",
      "Checkpoint saved at epoch 180\n",
      "Deleted previous checkpoint: /kaggle/working/TrainingModelMul/model_epoch179.pt\n"
     ]
    },
    {
     "name": "stderr",
     "output_type": "stream",
     "text": [
      "Training:  72%|███████▏  | 180/250 [3:20:38<1:17:50, 66.73s/epoch]"
     ]
    },
    {
     "name": "stdout",
     "output_type": "stream",
     "text": [
      "[Epoch 181/250] Training Loss: 0.3136\n"
     ]
    },
    {
     "name": "stderr",
     "output_type": "stream",
     "text": [
      "Training:  72%|███████▏  | 181/250 [3:21:12<1:16:33, 66.58s/epoch]"
     ]
    },
    {
     "name": "stdout",
     "output_type": "stream",
     "text": [
      "  Train => MSE=0.2710, CI=0.8712, Pearson=0.8057\n",
      "  Test  => MSE=0.3569, CI=0.8531, Pearson=0.7529\n",
      "Checkpoint saved at epoch 181\n",
      "Deleted previous checkpoint: /kaggle/working/TrainingModelMul/model_epoch180.pt\n"
     ]
    },
    {
     "name": "stderr",
     "output_type": "stream",
     "text": [
      "Training:  72%|███████▏  | 181/250 [3:21:44<1:16:33, 66.58s/epoch]"
     ]
    },
    {
     "name": "stdout",
     "output_type": "stream",
     "text": [
      "[Epoch 182/250] Training Loss: 0.3113\n"
     ]
    },
    {
     "name": "stderr",
     "output_type": "stream",
     "text": [
      "Training:  73%|███████▎  | 182/250 [3:22:19<1:15:25, 66.55s/epoch]"
     ]
    },
    {
     "name": "stdout",
     "output_type": "stream",
     "text": [
      "  Train => MSE=0.2577, CI=0.8776, Pearson=0.8210\n",
      "  Test  => MSE=0.3437, CI=0.8627, Pearson=0.7708\n",
      "Checkpoint saved at epoch 182\n",
      "Deleted previous checkpoint: /kaggle/working/TrainingModelMul/model_epoch181.pt\n"
     ]
    },
    {
     "name": "stderr",
     "output_type": "stream",
     "text": [
      "Training:  73%|███████▎  | 182/250 [3:22:51<1:15:25, 66.55s/epoch]"
     ]
    },
    {
     "name": "stdout",
     "output_type": "stream",
     "text": [
      "[Epoch 183/250] Training Loss: 0.3034\n"
     ]
    },
    {
     "name": "stderr",
     "output_type": "stream",
     "text": [
      "Training:  73%|███████▎  | 183/250 [3:23:25<1:14:16, 66.51s/epoch]"
     ]
    },
    {
     "name": "stdout",
     "output_type": "stream",
     "text": [
      "  Train => MSE=0.2442, CI=0.8767, Pearson=0.8199\n",
      "  Test  => MSE=0.3261, CI=0.8614, Pearson=0.7704\n",
      "Checkpoint saved at epoch 183\n",
      "Deleted previous checkpoint: /kaggle/working/TrainingModelMul/model_epoch182.pt\n"
     ]
    },
    {
     "name": "stderr",
     "output_type": "stream",
     "text": [
      "Training:  73%|███████▎  | 183/250 [3:23:58<1:14:16, 66.51s/epoch]"
     ]
    },
    {
     "name": "stdout",
     "output_type": "stream",
     "text": [
      "[Epoch 184/250] Training Loss: 0.3021\n"
     ]
    },
    {
     "name": "stderr",
     "output_type": "stream",
     "text": [
      "Training:  74%|███████▎  | 184/250 [3:24:33<1:13:25, 66.75s/epoch]"
     ]
    },
    {
     "name": "stdout",
     "output_type": "stream",
     "text": [
      "  Train => MSE=0.2397, CI=0.8784, Pearson=0.8215\n",
      "  Test  => MSE=0.3176, CI=0.8630, Pearson=0.7735\n",
      "Checkpoint saved at epoch 184\n",
      "Deleted previous checkpoint: /kaggle/working/TrainingModelMul/model_epoch183.pt\n"
     ]
    },
    {
     "name": "stderr",
     "output_type": "stream",
     "text": [
      "Training:  74%|███████▎  | 184/250 [3:25:04<1:13:25, 66.75s/epoch]"
     ]
    },
    {
     "name": "stdout",
     "output_type": "stream",
     "text": [
      "[Epoch 185/250] Training Loss: 0.3040\n"
     ]
    },
    {
     "name": "stderr",
     "output_type": "stream",
     "text": [
      "Training:  74%|███████▍  | 185/250 [3:25:39<1:12:02, 66.50s/epoch]"
     ]
    },
    {
     "name": "stdout",
     "output_type": "stream",
     "text": [
      "  Train => MSE=0.2602, CI=0.8775, Pearson=0.8207\n",
      "  Test  => MSE=0.3450, CI=0.8618, Pearson=0.7695\n",
      "Checkpoint saved at epoch 185\n",
      "Deleted previous checkpoint: /kaggle/working/TrainingModelMul/model_epoch184.pt\n"
     ]
    },
    {
     "name": "stderr",
     "output_type": "stream",
     "text": [
      "Training:  74%|███████▍  | 185/250 [3:26:11<1:12:02, 66.50s/epoch]"
     ]
    },
    {
     "name": "stdout",
     "output_type": "stream",
     "text": [
      "[Epoch 186/250] Training Loss: 0.3023\n"
     ]
    },
    {
     "name": "stderr",
     "output_type": "stream",
     "text": [
      "Training:  74%|███████▍  | 186/250 [3:26:46<1:11:14, 66.80s/epoch]"
     ]
    },
    {
     "name": "stdout",
     "output_type": "stream",
     "text": [
      "  Train => MSE=0.2437, CI=0.8769, Pearson=0.8235\n",
      "  Test  => MSE=0.3263, CI=0.8628, Pearson=0.7740\n",
      "Checkpoint saved at epoch 186\n",
      "Deleted previous checkpoint: /kaggle/working/TrainingModelMul/model_epoch185.pt\n"
     ]
    },
    {
     "name": "stderr",
     "output_type": "stream",
     "text": [
      "Training:  74%|███████▍  | 186/250 [3:27:18<1:11:14, 66.80s/epoch]"
     ]
    },
    {
     "name": "stdout",
     "output_type": "stream",
     "text": [
      "[Epoch 187/250] Training Loss: 0.2975\n"
     ]
    },
    {
     "name": "stderr",
     "output_type": "stream",
     "text": [
      "Training:  75%|███████▍  | 187/250 [3:27:52<1:09:51, 66.53s/epoch]"
     ]
    },
    {
     "name": "stdout",
     "output_type": "stream",
     "text": [
      "  Train => MSE=0.2463, CI=0.8757, Pearson=0.8183\n",
      "  Test  => MSE=0.3336, CI=0.8590, Pearson=0.7649\n",
      "Checkpoint saved at epoch 187\n",
      "Deleted previous checkpoint: /kaggle/working/TrainingModelMul/model_epoch186.pt\n"
     ]
    },
    {
     "name": "stderr",
     "output_type": "stream",
     "text": [
      "Training:  75%|███████▍  | 187/250 [3:28:25<1:09:51, 66.53s/epoch]"
     ]
    },
    {
     "name": "stdout",
     "output_type": "stream",
     "text": [
      "[Epoch 188/250] Training Loss: 0.2988\n"
     ]
    },
    {
     "name": "stderr",
     "output_type": "stream",
     "text": [
      "Training:  75%|███████▌  | 188/250 [3:29:00<1:09:20, 67.11s/epoch]"
     ]
    },
    {
     "name": "stdout",
     "output_type": "stream",
     "text": [
      "  Train => MSE=0.2438, CI=0.8783, Pearson=0.8232\n",
      "  Test  => MSE=0.3238, CI=0.8648, Pearson=0.7742\n",
      "Checkpoint saved at epoch 188\n",
      "Deleted previous checkpoint: /kaggle/working/TrainingModelMul/model_epoch187.pt\n"
     ]
    },
    {
     "name": "stderr",
     "output_type": "stream",
     "text": [
      "Training:  75%|███████▌  | 188/250 [3:29:33<1:09:20, 67.11s/epoch]"
     ]
    },
    {
     "name": "stdout",
     "output_type": "stream",
     "text": [
      "[Epoch 189/250] Training Loss: 0.2913\n"
     ]
    },
    {
     "name": "stderr",
     "output_type": "stream",
     "text": [
      "Training:  76%|███████▌  | 189/250 [3:30:07<1:08:05, 66.97s/epoch]"
     ]
    },
    {
     "name": "stdout",
     "output_type": "stream",
     "text": [
      "  Train => MSE=0.2406, CI=0.8793, Pearson=0.8276\n",
      "  Test  => MSE=0.3269, CI=0.8633, Pearson=0.7755\n",
      "Checkpoint saved at epoch 189\n",
      "Deleted previous checkpoint: /kaggle/working/TrainingModelMul/model_epoch188.pt\n"
     ]
    },
    {
     "name": "stderr",
     "output_type": "stream",
     "text": [
      "Training:  76%|███████▌  | 189/250 [3:30:39<1:08:05, 66.97s/epoch]"
     ]
    },
    {
     "name": "stdout",
     "output_type": "stream",
     "text": [
      "[Epoch 190/250] Training Loss: 0.2962\n"
     ]
    },
    {
     "name": "stderr",
     "output_type": "stream",
     "text": [
      "Training:  76%|███████▌  | 190/250 [3:31:14<1:06:54, 66.91s/epoch]"
     ]
    },
    {
     "name": "stdout",
     "output_type": "stream",
     "text": [
      "  Train => MSE=0.2378, CI=0.8800, Pearson=0.8275\n",
      "  Test  => MSE=0.3221, CI=0.8645, Pearson=0.7763\n",
      "Checkpoint saved at epoch 190\n",
      "Deleted previous checkpoint: /kaggle/working/TrainingModelMul/model_epoch189.pt\n"
     ]
    },
    {
     "name": "stderr",
     "output_type": "stream",
     "text": [
      "Training:  76%|███████▌  | 190/250 [3:31:46<1:06:54, 66.91s/epoch]"
     ]
    },
    {
     "name": "stdout",
     "output_type": "stream",
     "text": [
      "[Epoch 191/250] Training Loss: 0.2906\n"
     ]
    },
    {
     "name": "stderr",
     "output_type": "stream",
     "text": [
      "Training:  76%|███████▋  | 191/250 [3:32:21<1:05:45, 66.87s/epoch]"
     ]
    },
    {
     "name": "stdout",
     "output_type": "stream",
     "text": [
      "  Train => MSE=0.2326, CI=0.8781, Pearson=0.8275\n",
      "  Test  => MSE=0.3121, CI=0.8640, Pearson=0.7789\n",
      "Checkpoint saved at epoch 191\n",
      "Deleted previous checkpoint: /kaggle/working/TrainingModelMul/model_epoch190.pt\n"
     ]
    },
    {
     "name": "stderr",
     "output_type": "stream",
     "text": [
      "Training:  76%|███████▋  | 191/250 [3:32:54<1:05:45, 66.87s/epoch]"
     ]
    },
    {
     "name": "stdout",
     "output_type": "stream",
     "text": [
      "[Epoch 192/250] Training Loss: 0.2908\n"
     ]
    },
    {
     "name": "stderr",
     "output_type": "stream",
     "text": [
      "Training:  77%|███████▋  | 192/250 [3:33:29<1:04:57, 67.19s/epoch]"
     ]
    },
    {
     "name": "stdout",
     "output_type": "stream",
     "text": [
      "  Train => MSE=0.2336, CI=0.8803, Pearson=0.8264\n",
      "  Test  => MSE=0.3138, CI=0.8653, Pearson=0.7776\n",
      "Checkpoint saved at epoch 192\n",
      "Deleted previous checkpoint: /kaggle/working/TrainingModelMul/model_epoch191.pt\n"
     ]
    },
    {
     "name": "stderr",
     "output_type": "stream",
     "text": [
      "Training:  77%|███████▋  | 192/250 [3:34:00<1:04:57, 67.19s/epoch]"
     ]
    },
    {
     "name": "stdout",
     "output_type": "stream",
     "text": [
      "[Epoch 193/250] Training Loss: 0.2924\n"
     ]
    },
    {
     "name": "stderr",
     "output_type": "stream",
     "text": [
      "Training:  77%|███████▋  | 193/250 [3:34:35<1:03:29, 66.83s/epoch]"
     ]
    },
    {
     "name": "stdout",
     "output_type": "stream",
     "text": [
      "  Train => MSE=0.2383, CI=0.8777, Pearson=0.8230\n",
      "  Test  => MSE=0.3229, CI=0.8614, Pearson=0.7696\n",
      "Checkpoint saved at epoch 193\n",
      "Deleted previous checkpoint: /kaggle/working/TrainingModelMul/model_epoch192.pt\n"
     ]
    },
    {
     "name": "stderr",
     "output_type": "stream",
     "text": [
      "Training:  77%|███████▋  | 193/250 [3:35:06<1:03:29, 66.83s/epoch]"
     ]
    },
    {
     "name": "stdout",
     "output_type": "stream",
     "text": [
      "[Epoch 194/250] Training Loss: 0.2927\n"
     ]
    },
    {
     "name": "stderr",
     "output_type": "stream",
     "text": [
      "Training:  78%|███████▊  | 194/250 [3:35:41<1:02:21, 66.81s/epoch]"
     ]
    },
    {
     "name": "stdout",
     "output_type": "stream",
     "text": [
      "  Train => MSE=0.2489, CI=0.8792, Pearson=0.8256\n",
      "  Test  => MSE=0.3349, CI=0.8608, Pearson=0.7744\n",
      "Checkpoint saved at epoch 194\n",
      "Deleted previous checkpoint: /kaggle/working/TrainingModelMul/model_epoch193.pt\n"
     ]
    },
    {
     "name": "stderr",
     "output_type": "stream",
     "text": [
      "Training:  78%|███████▊  | 194/250 [3:36:14<1:02:21, 66.81s/epoch]"
     ]
    },
    {
     "name": "stdout",
     "output_type": "stream",
     "text": [
      "[Epoch 195/250] Training Loss: 0.2902\n"
     ]
    },
    {
     "name": "stderr",
     "output_type": "stream",
     "text": [
      "Training:  78%|███████▊  | 195/250 [3:36:50<1:01:41, 67.31s/epoch]"
     ]
    },
    {
     "name": "stdout",
     "output_type": "stream",
     "text": [
      "  Train => MSE=0.2380, CI=0.8768, Pearson=0.8250\n",
      "  Test  => MSE=0.3219, CI=0.8586, Pearson=0.7735\n",
      "Checkpoint saved at epoch 195\n",
      "Deleted previous checkpoint: /kaggle/working/TrainingModelMul/model_epoch194.pt\n"
     ]
    },
    {
     "name": "stderr",
     "output_type": "stream",
     "text": [
      "Training:  78%|███████▊  | 195/250 [3:37:22<1:01:41, 67.31s/epoch]"
     ]
    },
    {
     "name": "stdout",
     "output_type": "stream",
     "text": [
      "[Epoch 196/250] Training Loss: 0.2902\n"
     ]
    },
    {
     "name": "stderr",
     "output_type": "stream",
     "text": [
      "Training:  78%|███████▊  | 196/250 [3:37:57<1:00:29, 67.22s/epoch]"
     ]
    },
    {
     "name": "stdout",
     "output_type": "stream",
     "text": [
      "  Train => MSE=0.2375, CI=0.8786, Pearson=0.8251\n",
      "  Test  => MSE=0.3261, CI=0.8611, Pearson=0.7708\n",
      "Checkpoint saved at epoch 196\n",
      "Deleted previous checkpoint: /kaggle/working/TrainingModelMul/model_epoch195.pt\n"
     ]
    },
    {
     "name": "stderr",
     "output_type": "stream",
     "text": [
      "Training:  78%|███████▊  | 196/250 [3:38:29<1:00:29, 67.22s/epoch]"
     ]
    },
    {
     "name": "stdout",
     "output_type": "stream",
     "text": [
      "[Epoch 197/250] Training Loss: 0.2927\n"
     ]
    },
    {
     "name": "stderr",
     "output_type": "stream",
     "text": [
      "Training:  79%|███████▉  | 197/250 [3:39:03<59:09, 66.97s/epoch]  "
     ]
    },
    {
     "name": "stdout",
     "output_type": "stream",
     "text": [
      "  Train => MSE=0.2265, CI=0.8834, Pearson=0.8334\n",
      "  Test  => MSE=0.3154, CI=0.8665, Pearson=0.7767\n",
      "Checkpoint saved at epoch 197\n",
      "Deleted previous checkpoint: /kaggle/working/TrainingModelMul/model_epoch196.pt\n"
     ]
    },
    {
     "name": "stderr",
     "output_type": "stream",
     "text": [
      "Training:  79%|███████▉  | 197/250 [3:39:36<59:09, 66.97s/epoch]"
     ]
    },
    {
     "name": "stdout",
     "output_type": "stream",
     "text": [
      "[Epoch 198/250] Training Loss: 0.2949\n"
     ]
    },
    {
     "name": "stderr",
     "output_type": "stream",
     "text": [
      "Training:  79%|███████▉  | 198/250 [3:40:11<58:17, 67.26s/epoch]"
     ]
    },
    {
     "name": "stdout",
     "output_type": "stream",
     "text": [
      "  Train => MSE=0.2480, CI=0.8804, Pearson=0.8261\n",
      "  Test  => MSE=0.3400, CI=0.8608, Pearson=0.7702\n",
      "Checkpoint saved at epoch 198\n",
      "Deleted previous checkpoint: /kaggle/working/TrainingModelMul/model_epoch197.pt\n"
     ]
    },
    {
     "name": "stderr",
     "output_type": "stream",
     "text": [
      "Training:  79%|███████▉  | 198/250 [3:40:43<58:17, 67.26s/epoch]"
     ]
    },
    {
     "name": "stdout",
     "output_type": "stream",
     "text": [
      "[Epoch 199/250] Training Loss: 0.2933\n"
     ]
    },
    {
     "name": "stderr",
     "output_type": "stream",
     "text": [
      "Training:  80%|███████▉  | 199/250 [3:41:19<57:13, 67.32s/epoch]"
     ]
    },
    {
     "name": "stdout",
     "output_type": "stream",
     "text": [
      "  Train => MSE=0.2350, CI=0.8795, Pearson=0.8258\n",
      "  Test  => MSE=0.3206, CI=0.8619, Pearson=0.7723\n",
      "Checkpoint saved at epoch 199\n",
      "Deleted previous checkpoint: /kaggle/working/TrainingModelMul/model_epoch198.pt\n"
     ]
    },
    {
     "name": "stderr",
     "output_type": "stream",
     "text": [
      "Training:  80%|███████▉  | 199/250 [3:41:50<57:13, 67.32s/epoch]"
     ]
    },
    {
     "name": "stdout",
     "output_type": "stream",
     "text": [
      "[Epoch 200/250] Training Loss: 0.2919\n"
     ]
    },
    {
     "name": "stderr",
     "output_type": "stream",
     "text": [
      "Training:  80%|████████  | 200/250 [3:42:25<55:49, 66.98s/epoch]"
     ]
    },
    {
     "name": "stdout",
     "output_type": "stream",
     "text": [
      "  Train => MSE=0.2414, CI=0.8829, Pearson=0.8329\n",
      "  Test  => MSE=0.3274, CI=0.8653, Pearson=0.7800\n",
      "Checkpoint saved at epoch 200\n",
      "Deleted previous checkpoint: /kaggle/working/TrainingModelMul/model_epoch199.pt\n"
     ]
    },
    {
     "name": "stderr",
     "output_type": "stream",
     "text": [
      "Training:  80%|████████  | 200/250 [3:42:57<55:49, 66.98s/epoch]"
     ]
    },
    {
     "name": "stdout",
     "output_type": "stream",
     "text": [
      "[Epoch 201/250] Training Loss: 0.2888\n"
     ]
    },
    {
     "name": "stderr",
     "output_type": "stream",
     "text": [
      "Training:  80%|████████  | 201/250 [3:43:31<54:37, 66.88s/epoch]"
     ]
    },
    {
     "name": "stdout",
     "output_type": "stream",
     "text": [
      "  Train => MSE=0.2272, CI=0.8818, Pearson=0.8327\n",
      "  Test  => MSE=0.3133, CI=0.8651, Pearson=0.7799\n",
      "Checkpoint saved at epoch 201\n",
      "Deleted previous checkpoint: /kaggle/working/TrainingModelMul/model_epoch200.pt\n"
     ]
    },
    {
     "name": "stderr",
     "output_type": "stream",
     "text": [
      "Training:  80%|████████  | 201/250 [3:44:04<54:37, 66.88s/epoch]"
     ]
    },
    {
     "name": "stdout",
     "output_type": "stream",
     "text": [
      "[Epoch 202/250] Training Loss: 0.2823\n"
     ]
    },
    {
     "name": "stderr",
     "output_type": "stream",
     "text": [
      "Training:  81%|████████  | 202/250 [3:44:39<53:38, 67.05s/epoch]"
     ]
    },
    {
     "name": "stdout",
     "output_type": "stream",
     "text": [
      "  Train => MSE=0.2453, CI=0.8800, Pearson=0.8228\n",
      "  Test  => MSE=0.3325, CI=0.8632, Pearson=0.7695\n",
      "Checkpoint saved at epoch 202\n",
      "Deleted previous checkpoint: /kaggle/working/TrainingModelMul/model_epoch201.pt\n"
     ]
    },
    {
     "name": "stderr",
     "output_type": "stream",
     "text": [
      "Training:  81%|████████  | 202/250 [3:45:12<53:38, 67.05s/epoch]"
     ]
    },
    {
     "name": "stdout",
     "output_type": "stream",
     "text": [
      "[Epoch 203/250] Training Loss: 0.2978\n"
     ]
    },
    {
     "name": "stderr",
     "output_type": "stream",
     "text": [
      "Training:  81%|████████  | 203/250 [3:45:47<52:47, 67.39s/epoch]"
     ]
    },
    {
     "name": "stdout",
     "output_type": "stream",
     "text": [
      "  Train => MSE=0.2279, CI=0.8834, Pearson=0.8313\n",
      "  Test  => MSE=0.3191, CI=0.8664, Pearson=0.7731\n",
      "Checkpoint saved at epoch 203\n",
      "Deleted previous checkpoint: /kaggle/working/TrainingModelMul/model_epoch202.pt\n"
     ]
    },
    {
     "name": "stderr",
     "output_type": "stream",
     "text": [
      "Training:  81%|████████  | 203/250 [3:46:19<52:47, 67.39s/epoch]"
     ]
    },
    {
     "name": "stdout",
     "output_type": "stream",
     "text": [
      "[Epoch 204/250] Training Loss: 0.2808\n"
     ]
    },
    {
     "name": "stderr",
     "output_type": "stream",
     "text": [
      "Training:  82%|████████▏ | 204/250 [3:46:54<51:28, 67.15s/epoch]"
     ]
    },
    {
     "name": "stdout",
     "output_type": "stream",
     "text": [
      "  Train => MSE=0.2488, CI=0.8825, Pearson=0.8316\n",
      "  Test  => MSE=0.3380, CI=0.8617, Pearson=0.7758\n",
      "Checkpoint saved at epoch 204\n",
      "Deleted previous checkpoint: /kaggle/working/TrainingModelMul/model_epoch203.pt\n"
     ]
    },
    {
     "name": "stderr",
     "output_type": "stream",
     "text": [
      "Training:  82%|████████▏ | 204/250 [3:47:26<51:28, 67.15s/epoch]"
     ]
    },
    {
     "name": "stdout",
     "output_type": "stream",
     "text": [
      "[Epoch 205/250] Training Loss: 0.2810\n"
     ]
    },
    {
     "name": "stderr",
     "output_type": "stream",
     "text": [
      "Training:  82%|████████▏ | 204/250 [3:48:01<51:28, 67.15s/epoch]"
     ]
    },
    {
     "name": "stdout",
     "output_type": "stream",
     "text": [
      "  Train => MSE=0.2281, CI=0.8837, Pearson=0.8341\n",
      "  Test  => MSE=0.3156, CI=0.8661, Pearson=0.7803\n"
     ]
    },
    {
     "name": "stderr",
     "output_type": "stream",
     "text": [
      "Training:  82%|████████▏ | 205/250 [3:48:01<50:26, 67.26s/epoch]"
     ]
    },
    {
     "name": "stdout",
     "output_type": "stream",
     "text": [
      "Checkpoint saved at epoch 205\n",
      "Deleted previous checkpoint: /kaggle/working/TrainingModelMul/model_epoch204.pt\n"
     ]
    },
    {
     "name": "stderr",
     "output_type": "stream",
     "text": [
      "Training:  82%|████████▏ | 205/250 [3:48:33<50:26, 67.26s/epoch]"
     ]
    },
    {
     "name": "stdout",
     "output_type": "stream",
     "text": [
      "[Epoch 206/250] Training Loss: 0.2805\n"
     ]
    },
    {
     "name": "stderr",
     "output_type": "stream",
     "text": [
      "Training:  82%|████████▏ | 206/250 [3:49:07<48:56, 66.75s/epoch]"
     ]
    },
    {
     "name": "stdout",
     "output_type": "stream",
     "text": [
      "  Train => MSE=0.2300, CI=0.8841, Pearson=0.8332\n",
      "  Test  => MSE=0.3203, CI=0.8662, Pearson=0.7759\n",
      "Checkpoint saved at epoch 206\n",
      "Deleted previous checkpoint: /kaggle/working/TrainingModelMul/model_epoch205.pt\n"
     ]
    },
    {
     "name": "stderr",
     "output_type": "stream",
     "text": [
      "Training:  82%|████████▏ | 206/250 [3:49:39<48:56, 66.75s/epoch]"
     ]
    },
    {
     "name": "stdout",
     "output_type": "stream",
     "text": [
      "[Epoch 207/250] Training Loss: 0.2740\n"
     ]
    },
    {
     "name": "stderr",
     "output_type": "stream",
     "text": [
      "Training:  83%|████████▎ | 207/250 [3:50:14<48:02, 67.03s/epoch]"
     ]
    },
    {
     "name": "stdout",
     "output_type": "stream",
     "text": [
      "  Train => MSE=0.2176, CI=0.8842, Pearson=0.8405\n",
      "  Test  => MSE=0.3061, CI=0.8655, Pearson=0.7849\n",
      "Checkpoint saved at epoch 207\n",
      "Deleted previous checkpoint: /kaggle/working/TrainingModelMul/model_epoch206.pt\n"
     ]
    },
    {
     "name": "stderr",
     "output_type": "stream",
     "text": [
      "Training:  83%|████████▎ | 207/250 [3:50:46<48:02, 67.03s/epoch]"
     ]
    },
    {
     "name": "stdout",
     "output_type": "stream",
     "text": [
      "[Epoch 208/250] Training Loss: 0.2703\n"
     ]
    },
    {
     "name": "stderr",
     "output_type": "stream",
     "text": [
      "Training:  83%|████████▎ | 208/250 [3:51:20<46:43, 66.75s/epoch]"
     ]
    },
    {
     "name": "stdout",
     "output_type": "stream",
     "text": [
      "  Train => MSE=0.2276, CI=0.8870, Pearson=0.8407\n",
      "  Test  => MSE=0.3172, CI=0.8686, Pearson=0.7832\n",
      "Checkpoint saved at epoch 208\n",
      "Deleted previous checkpoint: /kaggle/working/TrainingModelMul/model_epoch207.pt\n"
     ]
    },
    {
     "name": "stderr",
     "output_type": "stream",
     "text": [
      "Training:  83%|████████▎ | 208/250 [3:51:53<46:43, 66.75s/epoch]"
     ]
    },
    {
     "name": "stdout",
     "output_type": "stream",
     "text": [
      "[Epoch 209/250] Training Loss: 0.2762\n"
     ]
    },
    {
     "name": "stderr",
     "output_type": "stream",
     "text": [
      "Training:  84%|████████▎ | 209/250 [3:52:28<45:44, 66.95s/epoch]"
     ]
    },
    {
     "name": "stdout",
     "output_type": "stream",
     "text": [
      "  Train => MSE=0.2118, CI=0.8852, Pearson=0.8441\n",
      "  Test  => MSE=0.3083, CI=0.8674, Pearson=0.7824\n",
      "Checkpoint saved at epoch 209\n",
      "Deleted previous checkpoint: /kaggle/working/TrainingModelMul/model_epoch208.pt\n"
     ]
    },
    {
     "name": "stderr",
     "output_type": "stream",
     "text": [
      "Training:  84%|████████▎ | 209/250 [3:53:00<45:44, 66.95s/epoch]"
     ]
    },
    {
     "name": "stdout",
     "output_type": "stream",
     "text": [
      "[Epoch 210/250] Training Loss: 0.2864\n"
     ]
    },
    {
     "name": "stderr",
     "output_type": "stream",
     "text": [
      "Training:  84%|████████▍ | 210/250 [3:53:35<44:35, 66.89s/epoch]"
     ]
    },
    {
     "name": "stdout",
     "output_type": "stream",
     "text": [
      "  Train => MSE=0.2149, CI=0.8873, Pearson=0.8437\n",
      "  Test  => MSE=0.3055, CI=0.8666, Pearson=0.7855\n",
      "Checkpoint saved at epoch 210\n",
      "Deleted previous checkpoint: /kaggle/working/TrainingModelMul/model_epoch209.pt\n"
     ]
    },
    {
     "name": "stderr",
     "output_type": "stream",
     "text": [
      "Training:  84%|████████▍ | 210/250 [3:54:06<44:35, 66.89s/epoch]"
     ]
    },
    {
     "name": "stdout",
     "output_type": "stream",
     "text": [
      "[Epoch 211/250] Training Loss: 0.2724\n"
     ]
    },
    {
     "name": "stderr",
     "output_type": "stream",
     "text": [
      "Training:  84%|████████▍ | 211/250 [3:54:40<43:12, 66.47s/epoch]"
     ]
    },
    {
     "name": "stdout",
     "output_type": "stream",
     "text": [
      "  Train => MSE=0.2149, CI=0.8881, Pearson=0.8482\n",
      "  Test  => MSE=0.3031, CI=0.8702, Pearson=0.7918\n",
      "Checkpoint saved at epoch 211\n",
      "Deleted previous checkpoint: /kaggle/working/TrainingModelMul/model_epoch210.pt\n"
     ]
    },
    {
     "name": "stderr",
     "output_type": "stream",
     "text": [
      "Training:  84%|████████▍ | 211/250 [3:55:12<43:12, 66.47s/epoch]"
     ]
    },
    {
     "name": "stdout",
     "output_type": "stream",
     "text": [
      "[Epoch 212/250] Training Loss: 0.2682\n"
     ]
    },
    {
     "name": "stderr",
     "output_type": "stream",
     "text": [
      "Training:  85%|████████▍ | 212/250 [3:55:47<42:13, 66.68s/epoch]"
     ]
    },
    {
     "name": "stdout",
     "output_type": "stream",
     "text": [
      "  Train => MSE=0.2201, CI=0.8885, Pearson=0.8454\n",
      "  Test  => MSE=0.3169, CI=0.8705, Pearson=0.7838\n",
      "Checkpoint saved at epoch 212\n",
      "Deleted previous checkpoint: /kaggle/working/TrainingModelMul/model_epoch211.pt\n"
     ]
    },
    {
     "name": "stderr",
     "output_type": "stream",
     "text": [
      "Training:  85%|████████▍ | 212/250 [3:56:20<42:13, 66.68s/epoch]"
     ]
    },
    {
     "name": "stdout",
     "output_type": "stream",
     "text": [
      "[Epoch 213/250] Training Loss: 0.2747\n"
     ]
    },
    {
     "name": "stderr",
     "output_type": "stream",
     "text": [
      "Training:  85%|████████▌ | 213/250 [3:56:54<41:02, 66.56s/epoch]"
     ]
    },
    {
     "name": "stdout",
     "output_type": "stream",
     "text": [
      "  Train => MSE=0.2052, CI=0.8897, Pearson=0.8522\n",
      "  Test  => MSE=0.3015, CI=0.8705, Pearson=0.7907\n",
      "Checkpoint saved at epoch 213\n",
      "Deleted previous checkpoint: /kaggle/working/TrainingModelMul/model_epoch212.pt\n"
     ]
    },
    {
     "name": "stderr",
     "output_type": "stream",
     "text": [
      "Training:  85%|████████▌ | 213/250 [3:57:26<41:02, 66.56s/epoch]"
     ]
    },
    {
     "name": "stdout",
     "output_type": "stream",
     "text": [
      "[Epoch 214/250] Training Loss: 0.2771\n"
     ]
    },
    {
     "name": "stderr",
     "output_type": "stream",
     "text": [
      "Training:  86%|████████▌ | 214/250 [3:58:01<40:03, 66.77s/epoch]"
     ]
    },
    {
     "name": "stdout",
     "output_type": "stream",
     "text": [
      "  Train => MSE=0.2119, CI=0.8880, Pearson=0.8496\n",
      "  Test  => MSE=0.3066, CI=0.8673, Pearson=0.7885\n",
      "Checkpoint saved at epoch 214\n",
      "Deleted previous checkpoint: /kaggle/working/TrainingModelMul/model_epoch213.pt\n"
     ]
    },
    {
     "name": "stderr",
     "output_type": "stream",
     "text": [
      "Training:  86%|████████▌ | 214/250 [3:58:33<40:03, 66.77s/epoch]"
     ]
    },
    {
     "name": "stdout",
     "output_type": "stream",
     "text": [
      "[Epoch 215/250] Training Loss: 0.2724\n"
     ]
    },
    {
     "name": "stderr",
     "output_type": "stream",
     "text": [
      "Training:  86%|████████▌ | 215/250 [3:59:06<38:44, 66.42s/epoch]"
     ]
    },
    {
     "name": "stdout",
     "output_type": "stream",
     "text": [
      "  Train => MSE=0.2198, CI=0.8884, Pearson=0.8422\n",
      "  Test  => MSE=0.3196, CI=0.8652, Pearson=0.7786\n",
      "Checkpoint saved at epoch 215\n",
      "Deleted previous checkpoint: /kaggle/working/TrainingModelMul/model_epoch214.pt\n"
     ]
    },
    {
     "name": "stderr",
     "output_type": "stream",
     "text": [
      "Training:  86%|████████▌ | 215/250 [3:59:39<38:44, 66.42s/epoch]"
     ]
    },
    {
     "name": "stdout",
     "output_type": "stream",
     "text": [
      "[Epoch 216/250] Training Loss: 0.2733\n"
     ]
    },
    {
     "name": "stderr",
     "output_type": "stream",
     "text": [
      "Training:  86%|████████▋ | 216/250 [4:00:13<37:42, 66.54s/epoch]"
     ]
    },
    {
     "name": "stdout",
     "output_type": "stream",
     "text": [
      "  Train => MSE=0.2053, CI=0.8901, Pearson=0.8491\n",
      "  Test  => MSE=0.3071, CI=0.8683, Pearson=0.7817\n",
      "Checkpoint saved at epoch 216\n",
      "Deleted previous checkpoint: /kaggle/working/TrainingModelMul/model_epoch215.pt\n"
     ]
    },
    {
     "name": "stderr",
     "output_type": "stream",
     "text": [
      "Training:  86%|████████▋ | 216/250 [4:00:45<37:42, 66.54s/epoch]"
     ]
    },
    {
     "name": "stdout",
     "output_type": "stream",
     "text": [
      "[Epoch 217/250] Training Loss: 0.2665\n"
     ]
    },
    {
     "name": "stderr",
     "output_type": "stream",
     "text": [
      "Training:  87%|████████▋ | 217/250 [4:01:19<36:25, 66.24s/epoch]"
     ]
    },
    {
     "name": "stdout",
     "output_type": "stream",
     "text": [
      "  Train => MSE=0.1991, CI=0.8908, Pearson=0.8562\n",
      "  Test  => MSE=0.2934, CI=0.8708, Pearson=0.7940\n",
      "Checkpoint saved at epoch 217\n",
      "Deleted previous checkpoint: /kaggle/working/TrainingModelMul/model_epoch216.pt\n"
     ]
    },
    {
     "name": "stderr",
     "output_type": "stream",
     "text": [
      "Training:  87%|████████▋ | 217/250 [4:01:51<36:25, 66.24s/epoch]"
     ]
    },
    {
     "name": "stdout",
     "output_type": "stream",
     "text": [
      "[Epoch 218/250] Training Loss: 0.2607\n"
     ]
    },
    {
     "name": "stderr",
     "output_type": "stream",
     "text": [
      "Training:  87%|████████▋ | 218/250 [4:02:26<35:26, 66.44s/epoch]"
     ]
    },
    {
     "name": "stdout",
     "output_type": "stream",
     "text": [
      "  Train => MSE=0.2250, CI=0.8923, Pearson=0.8543\n",
      "  Test  => MSE=0.3249, CI=0.8716, Pearson=0.7885\n",
      "Checkpoint saved at epoch 218\n",
      "Deleted previous checkpoint: /kaggle/working/TrainingModelMul/model_epoch217.pt\n"
     ]
    },
    {
     "name": "stderr",
     "output_type": "stream",
     "text": [
      "Training:  87%|████████▋ | 218/250 [4:02:57<35:26, 66.44s/epoch]"
     ]
    },
    {
     "name": "stdout",
     "output_type": "stream",
     "text": [
      "[Epoch 219/250] Training Loss: 0.2718\n"
     ]
    },
    {
     "name": "stderr",
     "output_type": "stream",
     "text": [
      "Training:  88%|████████▊ | 219/250 [4:03:31<34:09, 66.11s/epoch]"
     ]
    },
    {
     "name": "stdout",
     "output_type": "stream",
     "text": [
      "  Train => MSE=0.2006, CI=0.8921, Pearson=0.8547\n",
      "  Test  => MSE=0.3049, CI=0.8707, Pearson=0.7872\n",
      "Checkpoint saved at epoch 219\n",
      "Deleted previous checkpoint: /kaggle/working/TrainingModelMul/model_epoch218.pt\n"
     ]
    },
    {
     "name": "stderr",
     "output_type": "stream",
     "text": [
      "Training:  88%|████████▊ | 219/250 [4:04:03<34:09, 66.11s/epoch]"
     ]
    },
    {
     "name": "stdout",
     "output_type": "stream",
     "text": [
      "[Epoch 220/250] Training Loss: 0.2731\n"
     ]
    },
    {
     "name": "stderr",
     "output_type": "stream",
     "text": [
      "Training:  88%|████████▊ | 220/250 [4:04:38<33:09, 66.32s/epoch]"
     ]
    },
    {
     "name": "stdout",
     "output_type": "stream",
     "text": [
      "  Train => MSE=0.1989, CI=0.8906, Pearson=0.8546\n",
      "  Test  => MSE=0.3057, CI=0.8699, Pearson=0.7849\n",
      "Checkpoint saved at epoch 220\n",
      "Deleted previous checkpoint: /kaggle/working/TrainingModelMul/model_epoch219.pt\n"
     ]
    },
    {
     "name": "stderr",
     "output_type": "stream",
     "text": [
      "Training:  88%|████████▊ | 220/250 [4:05:10<33:09, 66.32s/epoch]"
     ]
    },
    {
     "name": "stdout",
     "output_type": "stream",
     "text": [
      "[Epoch 221/250] Training Loss: 0.2669\n"
     ]
    },
    {
     "name": "stderr",
     "output_type": "stream",
     "text": [
      "Training:  88%|████████▊ | 221/250 [4:05:44<32:02, 66.29s/epoch]"
     ]
    },
    {
     "name": "stdout",
     "output_type": "stream",
     "text": [
      "  Train => MSE=0.2086, CI=0.8890, Pearson=0.8540\n",
      "  Test  => MSE=0.3150, CI=0.8656, Pearson=0.7854\n",
      "Checkpoint saved at epoch 221\n",
      "Deleted previous checkpoint: /kaggle/working/TrainingModelMul/model_epoch220.pt\n"
     ]
    },
    {
     "name": "stderr",
     "output_type": "stream",
     "text": [
      "Training:  88%|████████▊ | 221/250 [4:06:17<32:02, 66.29s/epoch]"
     ]
    },
    {
     "name": "stdout",
     "output_type": "stream",
     "text": [
      "[Epoch 222/250] Training Loss: 0.2680\n"
     ]
    },
    {
     "name": "stderr",
     "output_type": "stream",
     "text": [
      "Training:  88%|████████▊ | 221/250 [4:06:51<32:02, 66.29s/epoch]"
     ]
    },
    {
     "name": "stdout",
     "output_type": "stream",
     "text": [
      "  Train => MSE=0.1977, CI=0.8924, Pearson=0.8595\n",
      "  Test  => MSE=0.3079, CI=0.8687, Pearson=0.7872\n"
     ]
    },
    {
     "name": "stderr",
     "output_type": "stream",
     "text": [
      "Training:  89%|████████▉ | 222/250 [4:06:52<31:06, 66.65s/epoch]"
     ]
    },
    {
     "name": "stdout",
     "output_type": "stream",
     "text": [
      "Checkpoint saved at epoch 222\n",
      "Deleted previous checkpoint: /kaggle/working/TrainingModelMul/model_epoch221.pt\n"
     ]
    },
    {
     "name": "stderr",
     "output_type": "stream",
     "text": [
      "Training:  89%|████████▉ | 222/250 [4:07:24<31:06, 66.65s/epoch]"
     ]
    },
    {
     "name": "stdout",
     "output_type": "stream",
     "text": [
      "[Epoch 223/250] Training Loss: 0.2600\n"
     ]
    },
    {
     "name": "stderr",
     "output_type": "stream",
     "text": [
      "Training:  89%|████████▉ | 223/250 [4:07:59<30:04, 66.82s/epoch]"
     ]
    },
    {
     "name": "stdout",
     "output_type": "stream",
     "text": [
      "  Train => MSE=0.1911, CI=0.8909, Pearson=0.8613\n",
      "  Test  => MSE=0.2978, CI=0.8684, Pearson=0.7891\n",
      "Checkpoint saved at epoch 223\n",
      "Deleted previous checkpoint: /kaggle/working/TrainingModelMul/model_epoch222.pt\n"
     ]
    },
    {
     "name": "stderr",
     "output_type": "stream",
     "text": [
      "Training:  89%|████████▉ | 223/250 [4:08:32<30:04, 66.82s/epoch]"
     ]
    },
    {
     "name": "stdout",
     "output_type": "stream",
     "text": [
      "[Epoch 224/250] Training Loss: 0.2616\n"
     ]
    },
    {
     "name": "stderr",
     "output_type": "stream",
     "text": [
      "Training:  90%|████████▉ | 224/250 [4:09:07<29:07, 67.23s/epoch]"
     ]
    },
    {
     "name": "stdout",
     "output_type": "stream",
     "text": [
      "  Train => MSE=0.2196, CI=0.8908, Pearson=0.8593\n",
      "  Test  => MSE=0.3217, CI=0.8696, Pearson=0.7929\n",
      "Checkpoint saved at epoch 224\n",
      "Deleted previous checkpoint: /kaggle/working/TrainingModelMul/model_epoch223.pt\n"
     ]
    },
    {
     "name": "stderr",
     "output_type": "stream",
     "text": [
      "Training:  90%|████████▉ | 224/250 [4:09:39<29:07, 67.23s/epoch]"
     ]
    },
    {
     "name": "stdout",
     "output_type": "stream",
     "text": [
      "[Epoch 225/250] Training Loss: 0.2645\n"
     ]
    },
    {
     "name": "stderr",
     "output_type": "stream",
     "text": [
      "Training:  90%|█████████ | 225/250 [4:10:14<27:57, 67.11s/epoch]"
     ]
    },
    {
     "name": "stdout",
     "output_type": "stream",
     "text": [
      "  Train => MSE=0.1948, CI=0.8951, Pearson=0.8575\n",
      "  Test  => MSE=0.3016, CI=0.8724, Pearson=0.7868\n",
      "Checkpoint saved at epoch 225\n",
      "Deleted previous checkpoint: /kaggle/working/TrainingModelMul/model_epoch224.pt\n"
     ]
    },
    {
     "name": "stderr",
     "output_type": "stream",
     "text": [
      "Training:  90%|█████████ | 225/250 [4:10:46<27:57, 67.11s/epoch]"
     ]
    },
    {
     "name": "stdout",
     "output_type": "stream",
     "text": [
      "[Epoch 226/250] Training Loss: 0.2635\n"
     ]
    },
    {
     "name": "stderr",
     "output_type": "stream",
     "text": [
      "Training:  90%|█████████ | 226/250 [4:11:20<26:47, 66.96s/epoch]"
     ]
    },
    {
     "name": "stdout",
     "output_type": "stream",
     "text": [
      "  Train => MSE=0.1920, CI=0.8943, Pearson=0.8630\n",
      "  Test  => MSE=0.2947, CI=0.8698, Pearson=0.7934\n",
      "Checkpoint saved at epoch 226\n",
      "Deleted previous checkpoint: /kaggle/working/TrainingModelMul/model_epoch225.pt\n"
     ]
    },
    {
     "name": "stderr",
     "output_type": "stream",
     "text": [
      "Training:  90%|█████████ | 226/250 [4:11:54<26:47, 66.96s/epoch]"
     ]
    },
    {
     "name": "stdout",
     "output_type": "stream",
     "text": [
      "[Epoch 227/250] Training Loss: 0.2648\n"
     ]
    },
    {
     "name": "stderr",
     "output_type": "stream",
     "text": [
      "Training:  91%|█████████ | 227/250 [4:12:28<25:47, 67.29s/epoch]"
     ]
    },
    {
     "name": "stdout",
     "output_type": "stream",
     "text": [
      "  Train => MSE=0.1978, CI=0.8899, Pearson=0.8594\n",
      "  Test  => MSE=0.2971, CI=0.8698, Pearson=0.7941\n",
      "Checkpoint saved at epoch 227\n",
      "Deleted previous checkpoint: /kaggle/working/TrainingModelMul/model_epoch226.pt\n"
     ]
    },
    {
     "name": "stderr",
     "output_type": "stream",
     "text": [
      "Training:  91%|█████████ | 227/250 [4:13:00<25:47, 67.29s/epoch]"
     ]
    },
    {
     "name": "stdout",
     "output_type": "stream",
     "text": [
      "[Epoch 228/250] Training Loss: 0.2606\n"
     ]
    },
    {
     "name": "stderr",
     "output_type": "stream",
     "text": [
      "Training:  91%|█████████ | 228/250 [4:13:34<24:26, 66.68s/epoch]"
     ]
    },
    {
     "name": "stdout",
     "output_type": "stream",
     "text": [
      "  Train => MSE=0.2090, CI=0.8914, Pearson=0.8471\n",
      "  Test  => MSE=0.3121, CI=0.8702, Pearson=0.7787\n",
      "Checkpoint saved at epoch 228\n",
      "Deleted previous checkpoint: /kaggle/working/TrainingModelMul/model_epoch227.pt\n"
     ]
    },
    {
     "name": "stderr",
     "output_type": "stream",
     "text": [
      "Training:  91%|█████████ | 228/250 [4:14:06<24:26, 66.68s/epoch]"
     ]
    },
    {
     "name": "stdout",
     "output_type": "stream",
     "text": [
      "[Epoch 229/250] Training Loss: 0.2598\n"
     ]
    },
    {
     "name": "stderr",
     "output_type": "stream",
     "text": [
      "Training:  92%|█████████▏| 229/250 [4:14:40<23:18, 66.60s/epoch]"
     ]
    },
    {
     "name": "stdout",
     "output_type": "stream",
     "text": [
      "  Train => MSE=0.2007, CI=0.8913, Pearson=0.8607\n",
      "  Test  => MSE=0.3031, CI=0.8692, Pearson=0.7936\n",
      "Checkpoint saved at epoch 229\n",
      "Deleted previous checkpoint: /kaggle/working/TrainingModelMul/model_epoch228.pt\n"
     ]
    },
    {
     "name": "stderr",
     "output_type": "stream",
     "text": [
      "Training:  92%|█████████▏| 229/250 [4:15:13<23:18, 66.60s/epoch]"
     ]
    },
    {
     "name": "stdout",
     "output_type": "stream",
     "text": [
      "[Epoch 230/250] Training Loss: 0.2529\n"
     ]
    },
    {
     "name": "stderr",
     "output_type": "stream",
     "text": [
      "Training:  92%|█████████▏| 230/250 [4:15:48<22:17, 66.89s/epoch]"
     ]
    },
    {
     "name": "stdout",
     "output_type": "stream",
     "text": [
      "  Train => MSE=0.1907, CI=0.8923, Pearson=0.8606\n",
      "  Test  => MSE=0.2916, CI=0.8717, Pearson=0.7944\n",
      "Checkpoint saved at epoch 230\n",
      "Deleted previous checkpoint: /kaggle/working/TrainingModelMul/model_epoch229.pt\n"
     ]
    },
    {
     "name": "stderr",
     "output_type": "stream",
     "text": [
      "Training:  92%|█████████▏| 230/250 [4:16:19<22:17, 66.89s/epoch]"
     ]
    },
    {
     "name": "stdout",
     "output_type": "stream",
     "text": [
      "[Epoch 231/250] Training Loss: 0.2620\n"
     ]
    },
    {
     "name": "stderr",
     "output_type": "stream",
     "text": [
      "Training:  92%|█████████▏| 231/250 [4:16:53<21:02, 66.47s/epoch]"
     ]
    },
    {
     "name": "stdout",
     "output_type": "stream",
     "text": [
      "  Train => MSE=0.1843, CI=0.8953, Pearson=0.8666\n",
      "  Test  => MSE=0.2933, CI=0.8698, Pearson=0.7928\n",
      "Checkpoint saved at epoch 231\n",
      "Deleted previous checkpoint: /kaggle/working/TrainingModelMul/model_epoch230.pt\n"
     ]
    },
    {
     "name": "stderr",
     "output_type": "stream",
     "text": [
      "Training:  92%|█████████▏| 231/250 [4:17:25<21:02, 66.47s/epoch]"
     ]
    },
    {
     "name": "stdout",
     "output_type": "stream",
     "text": [
      "[Epoch 232/250] Training Loss: 0.2727\n"
     ]
    },
    {
     "name": "stderr",
     "output_type": "stream",
     "text": [
      "Training:  93%|█████████▎| 232/250 [4:18:00<19:58, 66.58s/epoch]"
     ]
    },
    {
     "name": "stdout",
     "output_type": "stream",
     "text": [
      "  Train => MSE=0.1944, CI=0.8900, Pearson=0.8587\n",
      "  Test  => MSE=0.3077, CI=0.8673, Pearson=0.7831\n",
      "Checkpoint saved at epoch 232\n",
      "Deleted previous checkpoint: /kaggle/working/TrainingModelMul/model_epoch231.pt\n"
     ]
    },
    {
     "name": "stderr",
     "output_type": "stream",
     "text": [
      "Training:  93%|█████████▎| 232/250 [4:18:31<19:58, 66.58s/epoch]"
     ]
    },
    {
     "name": "stdout",
     "output_type": "stream",
     "text": [
      "[Epoch 233/250] Training Loss: 0.2526\n"
     ]
    },
    {
     "name": "stderr",
     "output_type": "stream",
     "text": [
      "Training:  93%|█████████▎| 233/250 [4:19:05<18:44, 66.13s/epoch]"
     ]
    },
    {
     "name": "stdout",
     "output_type": "stream",
     "text": [
      "  Train => MSE=0.1888, CI=0.8931, Pearson=0.8632\n",
      "  Test  => MSE=0.2942, CI=0.8701, Pearson=0.7934\n",
      "Checkpoint saved at epoch 233\n",
      "Deleted previous checkpoint: /kaggle/working/TrainingModelMul/model_epoch232.pt\n"
     ]
    },
    {
     "name": "stderr",
     "output_type": "stream",
     "text": [
      "Training:  93%|█████████▎| 233/250 [4:19:37<18:44, 66.13s/epoch]"
     ]
    },
    {
     "name": "stdout",
     "output_type": "stream",
     "text": [
      "[Epoch 234/250] Training Loss: 0.2552\n"
     ]
    },
    {
     "name": "stderr",
     "output_type": "stream",
     "text": [
      "Training:  94%|█████████▎| 234/250 [4:20:11<17:35, 65.94s/epoch]"
     ]
    },
    {
     "name": "stdout",
     "output_type": "stream",
     "text": [
      "  Train => MSE=0.1847, CI=0.8944, Pearson=0.8655\n",
      "  Test  => MSE=0.2891, CI=0.8711, Pearson=0.7962\n",
      "Checkpoint saved at epoch 234\n",
      "Deleted previous checkpoint: /kaggle/working/TrainingModelMul/model_epoch233.pt\n"
     ]
    },
    {
     "name": "stderr",
     "output_type": "stream",
     "text": [
      "Training:  94%|█████████▎| 234/250 [4:20:43<17:35, 65.94s/epoch]"
     ]
    },
    {
     "name": "stdout",
     "output_type": "stream",
     "text": [
      "[Epoch 235/250] Training Loss: 0.2495\n"
     ]
    },
    {
     "name": "stderr",
     "output_type": "stream",
     "text": [
      "Training:  94%|█████████▍| 235/250 [4:21:18<16:33, 66.24s/epoch]"
     ]
    },
    {
     "name": "stdout",
     "output_type": "stream",
     "text": [
      "  Train => MSE=0.1826, CI=0.8947, Pearson=0.8677\n",
      "  Test  => MSE=0.2882, CI=0.8708, Pearson=0.7967\n",
      "Checkpoint saved at epoch 235\n",
      "Deleted previous checkpoint: /kaggle/working/TrainingModelMul/model_epoch234.pt\n"
     ]
    },
    {
     "name": "stderr",
     "output_type": "stream",
     "text": [
      "Training:  94%|█████████▍| 235/250 [4:21:49<16:33, 66.24s/epoch]"
     ]
    },
    {
     "name": "stdout",
     "output_type": "stream",
     "text": [
      "[Epoch 236/250] Training Loss: 0.2583\n"
     ]
    },
    {
     "name": "stderr",
     "output_type": "stream",
     "text": [
      "Training:  94%|█████████▍| 236/250 [4:22:23<15:22, 65.86s/epoch]"
     ]
    },
    {
     "name": "stdout",
     "output_type": "stream",
     "text": [
      "  Train => MSE=0.1790, CI=0.8971, Pearson=0.8716\n",
      "  Test  => MSE=0.2888, CI=0.8727, Pearson=0.7994\n",
      "Checkpoint saved at epoch 236\n",
      "Deleted previous checkpoint: /kaggle/working/TrainingModelMul/model_epoch235.pt\n"
     ]
    },
    {
     "name": "stderr",
     "output_type": "stream",
     "text": [
      "Training:  94%|█████████▍| 236/250 [4:22:54<15:22, 65.86s/epoch]"
     ]
    },
    {
     "name": "stdout",
     "output_type": "stream",
     "text": [
      "[Epoch 237/250] Training Loss: 0.2497\n"
     ]
    },
    {
     "name": "stderr",
     "output_type": "stream",
     "text": [
      "Training:  95%|█████████▍| 237/250 [4:23:29<14:18, 66.01s/epoch]"
     ]
    },
    {
     "name": "stdout",
     "output_type": "stream",
     "text": [
      "  Train => MSE=0.2044, CI=0.8940, Pearson=0.8653\n",
      "  Test  => MSE=0.3075, CI=0.8704, Pearson=0.7970\n",
      "Checkpoint saved at epoch 237\n",
      "Deleted previous checkpoint: /kaggle/working/TrainingModelMul/model_epoch236.pt\n"
     ]
    },
    {
     "name": "stderr",
     "output_type": "stream",
     "text": [
      "Training:  95%|█████████▍| 237/250 [4:24:01<14:18, 66.01s/epoch]"
     ]
    },
    {
     "name": "stdout",
     "output_type": "stream",
     "text": [
      "[Epoch 238/250] Training Loss: 0.2523\n"
     ]
    },
    {
     "name": "stderr",
     "output_type": "stream",
     "text": [
      "Training:  95%|█████████▌| 238/250 [4:24:35<13:11, 65.96s/epoch]"
     ]
    },
    {
     "name": "stdout",
     "output_type": "stream",
     "text": [
      "  Train => MSE=0.1803, CI=0.8965, Pearson=0.8692\n",
      "  Test  => MSE=0.2834, CI=0.8734, Pearson=0.8008\n",
      "Checkpoint saved at epoch 238\n",
      "Deleted previous checkpoint: /kaggle/working/TrainingModelMul/model_epoch237.pt\n"
     ]
    },
    {
     "name": "stderr",
     "output_type": "stream",
     "text": [
      "Training:  95%|█████████▌| 238/250 [4:25:07<13:11, 65.96s/epoch]"
     ]
    },
    {
     "name": "stdout",
     "output_type": "stream",
     "text": [
      "[Epoch 239/250] Training Loss: 0.2475\n"
     ]
    },
    {
     "name": "stderr",
     "output_type": "stream",
     "text": [
      "Training:  96%|█████████▌| 239/250 [4:25:43<12:12, 66.57s/epoch]"
     ]
    },
    {
     "name": "stdout",
     "output_type": "stream",
     "text": [
      "  Train => MSE=0.1828, CI=0.8980, Pearson=0.8720\n",
      "  Test  => MSE=0.2932, CI=0.8744, Pearson=0.7973\n",
      "Checkpoint saved at epoch 239\n",
      "Deleted previous checkpoint: /kaggle/working/TrainingModelMul/model_epoch238.pt\n"
     ]
    },
    {
     "name": "stderr",
     "output_type": "stream",
     "text": [
      "Training:  96%|█████████▌| 239/250 [4:26:15<12:12, 66.57s/epoch]"
     ]
    },
    {
     "name": "stdout",
     "output_type": "stream",
     "text": [
      "[Epoch 240/250] Training Loss: 0.2421\n"
     ]
    },
    {
     "name": "stderr",
     "output_type": "stream",
     "text": [
      "Training:  96%|█████████▌| 240/250 [4:26:49<11:06, 66.61s/epoch]"
     ]
    },
    {
     "name": "stdout",
     "output_type": "stream",
     "text": [
      "  Train => MSE=0.1873, CI=0.8982, Pearson=0.8743\n",
      "  Test  => MSE=0.2927, CI=0.8756, Pearson=0.8035\n",
      "Checkpoint saved at epoch 240\n",
      "Deleted previous checkpoint: /kaggle/working/TrainingModelMul/model_epoch239.pt\n"
     ]
    },
    {
     "name": "stderr",
     "output_type": "stream",
     "text": [
      "Training:  96%|█████████▌| 240/250 [4:27:22<11:06, 66.61s/epoch]"
     ]
    },
    {
     "name": "stdout",
     "output_type": "stream",
     "text": [
      "[Epoch 241/250] Training Loss: 0.2475\n"
     ]
    },
    {
     "name": "stderr",
     "output_type": "stream",
     "text": [
      "Training:  96%|█████████▋| 241/250 [4:27:57<10:02, 66.98s/epoch]"
     ]
    },
    {
     "name": "stdout",
     "output_type": "stream",
     "text": [
      "  Train => MSE=0.1852, CI=0.8953, Pearson=0.8695\n",
      "  Test  => MSE=0.2926, CI=0.8730, Pearson=0.7977\n",
      "Checkpoint saved at epoch 241\n",
      "Deleted previous checkpoint: /kaggle/working/TrainingModelMul/model_epoch240.pt\n"
     ]
    },
    {
     "name": "stderr",
     "output_type": "stream",
     "text": [
      "Training:  96%|█████████▋| 241/250 [4:28:30<10:02, 66.98s/epoch]"
     ]
    },
    {
     "name": "stdout",
     "output_type": "stream",
     "text": [
      "[Epoch 242/250] Training Loss: 0.2427\n"
     ]
    },
    {
     "name": "stderr",
     "output_type": "stream",
     "text": [
      "Training:  97%|█████████▋| 242/250 [4:29:04<08:56, 67.02s/epoch]"
     ]
    },
    {
     "name": "stdout",
     "output_type": "stream",
     "text": [
      "  Train => MSE=0.1898, CI=0.8975, Pearson=0.8671\n",
      "  Test  => MSE=0.3000, CI=0.8725, Pearson=0.7933\n",
      "Checkpoint saved at epoch 242\n",
      "Deleted previous checkpoint: /kaggle/working/TrainingModelMul/model_epoch241.pt\n"
     ]
    },
    {
     "name": "stderr",
     "output_type": "stream",
     "text": [
      "Training:  97%|█████████▋| 242/250 [4:29:37<08:56, 67.02s/epoch]"
     ]
    },
    {
     "name": "stdout",
     "output_type": "stream",
     "text": [
      "[Epoch 243/250] Training Loss: 0.2431\n"
     ]
    },
    {
     "name": "stderr",
     "output_type": "stream",
     "text": [
      "Training:  97%|█████████▋| 243/250 [4:30:12<07:49, 67.10s/epoch]"
     ]
    },
    {
     "name": "stdout",
     "output_type": "stream",
     "text": [
      "  Train => MSE=0.1708, CI=0.8996, Pearson=0.8778\n",
      "  Test  => MSE=0.2803, CI=0.8769, Pearson=0.8042\n",
      "Checkpoint saved at epoch 243\n",
      "Deleted previous checkpoint: /kaggle/working/TrainingModelMul/model_epoch242.pt\n"
     ]
    },
    {
     "name": "stderr",
     "output_type": "stream",
     "text": [
      "Training:  97%|█████████▋| 243/250 [4:30:43<07:49, 67.10s/epoch]"
     ]
    },
    {
     "name": "stdout",
     "output_type": "stream",
     "text": [
      "[Epoch 244/250] Training Loss: 0.2460\n"
     ]
    },
    {
     "name": "stderr",
     "output_type": "stream",
     "text": [
      "Training:  98%|█████████▊| 244/250 [4:31:18<06:41, 66.87s/epoch]"
     ]
    },
    {
     "name": "stdout",
     "output_type": "stream",
     "text": [
      "  Train => MSE=0.1821, CI=0.8954, Pearson=0.8709\n",
      "  Test  => MSE=0.2942, CI=0.8721, Pearson=0.7949\n",
      "Checkpoint saved at epoch 244\n",
      "Deleted previous checkpoint: /kaggle/working/TrainingModelMul/model_epoch243.pt\n"
     ]
    },
    {
     "name": "stderr",
     "output_type": "stream",
     "text": [
      "Training:  98%|█████████▊| 244/250 [4:31:50<06:41, 66.87s/epoch]"
     ]
    },
    {
     "name": "stdout",
     "output_type": "stream",
     "text": [
      "[Epoch 245/250] Training Loss: 0.2441\n"
     ]
    },
    {
     "name": "stderr",
     "output_type": "stream",
     "text": [
      "Training:  98%|█████████▊| 245/250 [4:32:24<05:33, 66.72s/epoch]"
     ]
    },
    {
     "name": "stdout",
     "output_type": "stream",
     "text": [
      "  Train => MSE=0.1791, CI=0.8988, Pearson=0.8769\n",
      "  Test  => MSE=0.2840, CI=0.8753, Pearson=0.8052\n",
      "Checkpoint saved at epoch 245\n",
      "Deleted previous checkpoint: /kaggle/working/TrainingModelMul/model_epoch244.pt\n"
     ]
    },
    {
     "name": "stderr",
     "output_type": "stream",
     "text": [
      "Training:  98%|█████████▊| 245/250 [4:32:56<05:33, 66.72s/epoch]"
     ]
    },
    {
     "name": "stdout",
     "output_type": "stream",
     "text": [
      "[Epoch 246/250] Training Loss: 0.2395\n"
     ]
    },
    {
     "name": "stderr",
     "output_type": "stream",
     "text": [
      "Training:  98%|█████████▊| 246/250 [4:33:30<04:26, 66.53s/epoch]"
     ]
    },
    {
     "name": "stdout",
     "output_type": "stream",
     "text": [
      "  Train => MSE=0.1769, CI=0.8994, Pearson=0.8784\n",
      "  Test  => MSE=0.2756, CI=0.8745, Pearson=0.8122\n",
      "Checkpoint saved at epoch 246\n",
      "Deleted previous checkpoint: /kaggle/working/TrainingModelMul/model_epoch245.pt\n"
     ]
    },
    {
     "name": "stderr",
     "output_type": "stream",
     "text": [
      "Training:  98%|█████████▊| 246/250 [4:34:03<04:26, 66.53s/epoch]"
     ]
    },
    {
     "name": "stdout",
     "output_type": "stream",
     "text": [
      "[Epoch 247/250] Training Loss: 0.2351\n"
     ]
    },
    {
     "name": "stderr",
     "output_type": "stream",
     "text": [
      "Training:  99%|█████████▉| 247/250 [4:34:38<03:20, 66.97s/epoch]"
     ]
    },
    {
     "name": "stdout",
     "output_type": "stream",
     "text": [
      "  Train => MSE=0.1883, CI=0.8987, Pearson=0.8714\n",
      "  Test  => MSE=0.2885, CI=0.8776, Pearson=0.8042\n",
      "Checkpoint saved at epoch 247\n",
      "Deleted previous checkpoint: /kaggle/working/TrainingModelMul/model_epoch246.pt\n"
     ]
    },
    {
     "name": "stderr",
     "output_type": "stream",
     "text": [
      "Training:  99%|█████████▉| 247/250 [4:35:11<03:20, 66.97s/epoch]"
     ]
    },
    {
     "name": "stdout",
     "output_type": "stream",
     "text": [
      "[Epoch 248/250] Training Loss: 0.2364\n"
     ]
    },
    {
     "name": "stderr",
     "output_type": "stream",
     "text": [
      "Training:  99%|█████████▉| 248/250 [4:35:46<02:14, 67.19s/epoch]"
     ]
    },
    {
     "name": "stdout",
     "output_type": "stream",
     "text": [
      "  Train => MSE=0.1797, CI=0.8975, Pearson=0.8726\n",
      "  Test  => MSE=0.2924, CI=0.8759, Pearson=0.7991\n",
      "Checkpoint saved at epoch 248\n",
      "Deleted previous checkpoint: /kaggle/working/TrainingModelMul/model_epoch247.pt\n"
     ]
    },
    {
     "name": "stderr",
     "output_type": "stream",
     "text": [
      "Training:  99%|█████████▉| 248/250 [4:36:18<02:14, 67.19s/epoch]"
     ]
    },
    {
     "name": "stdout",
     "output_type": "stream",
     "text": [
      "[Epoch 249/250] Training Loss: 0.2440\n"
     ]
    },
    {
     "name": "stderr",
     "output_type": "stream",
     "text": [
      "Training: 100%|█████████▉| 249/250 [4:36:52<01:06, 66.85s/epoch]"
     ]
    },
    {
     "name": "stdout",
     "output_type": "stream",
     "text": [
      "  Train => MSE=0.1838, CI=0.8944, Pearson=0.8663\n",
      "  Test  => MSE=0.2957, CI=0.8718, Pearson=0.7909\n",
      "Checkpoint saved at epoch 249\n",
      "Deleted previous checkpoint: /kaggle/working/TrainingModelMul/model_epoch248.pt\n"
     ]
    },
    {
     "name": "stderr",
     "output_type": "stream",
     "text": [
      "Training: 100%|█████████▉| 249/250 [4:37:25<01:06, 66.85s/epoch]"
     ]
    },
    {
     "name": "stdout",
     "output_type": "stream",
     "text": [
      "[Epoch 250/250] Training Loss: 0.2420\n"
     ]
    },
    {
     "name": "stderr",
     "output_type": "stream",
     "text": [
      "Training: 100%|██████████| 250/250 [4:37:59<00:00, 66.72s/epoch]\n"
     ]
    },
    {
     "name": "stdout",
     "output_type": "stream",
     "text": [
      "  Train => MSE=0.2100, CI=0.8947, Pearson=0.8623\n",
      "  Test  => MSE=0.3205, CI=0.8720, Pearson=0.7886\n",
      "Checkpoint saved at epoch 250\n",
      "Deleted previous checkpoint: /kaggle/working/TrainingModelMul/model_epoch249.pt\n",
      "\n",
      "Final Train => MSE=0.2100, CI=0.8947, Pearson=0.8623\n",
      "Final Test  => MSE=0.3205, CI=0.8720, Pearson=0.7886\n",
      "Metrics saved to /kaggle/working/TrainingModelMul/training_metrics.pt\n"
     ]
    },
    {
     "data": {
      "image/png": "[encoded data removed]",
      "text/plain": [
       "<Figure size 800x600 with 1 Axes>"
      ]
     },
     "metadata": {},
     "output_type": "display_data"
    },
    {
     "data": {
      "image/png": "[encoded data removed]",
      "text/plain": [
       "<Figure size 800x600 with 1 Axes>"
      ]
     },
     "metadata": {},
     "output_type": "display_data"
    },
    {
     "data": {
      "image/png": "[encoded data removed]",
      "text/plain": [
       "<Figure size 800x600 with 1 Axes>"
      ]
     },
     "metadata": {},
     "output_type": "display_data"
    }
   ],
   "source": [
    "#model Add ! \n",
    "import os\n",
    "import warnings\n",
    "import torch\n",
    "import torch.nn as nn\n",
    "import torch.nn.functional as F\n",
    "import torch.optim as optim\n",
    "from torch.nn import MSELoss\n",
    "from torch_geometric.nn import GCNConv, global_mean_pool as gep\n",
    "from torch_geometric.data import Data, Batch\n",
    "from sklearn.model_selection import train_test_split\n",
    "from tqdm import tqdm\n",
    "import numpy as np\n",
    "\n",
    "# Optional, for plotting:\n",
    "import matplotlib.pyplot as plt\n",
    "\n",
    "##############################################################################\n",
    "#                               1. METRICS\n",
    "##############################################################################\n",
    "\n",
    "@torch.no_grad()\n",
    "def ci_vectorized(preds: torch.Tensor, targets: torch.Tensor) -> float:\n",
    "    \"\"\"\n",
    "    Naive O(N^2) Concordance Index using vectorized GPU operations.\n",
    "    preds, targets: (N,) on the same device (e.g. cuda).\n",
    "    \"\"\"\n",
    "    # (N, N) differences\n",
    "    p_diff = preds.unsqueeze(1) - preds.unsqueeze(0)\n",
    "    t_diff = targets.unsqueeze(1) - targets.unsqueeze(0)\n",
    "    # mask out pairs where targets are identical\n",
    "    mask = (t_diff != 0)\n",
    "    # sign of product => +1 (concordant), 0 (tie), -1 (discordant)\n",
    "    sign_mat = torch.sign(p_diff * t_diff)\n",
    "    # step function h(x): 1 if x>0, 0.5 if x=0, 0 if x<0\n",
    "    h = (sign_mat == 1).float() + 0.5 * (sign_mat == 0).float()\n",
    "    # apply mask\n",
    "    h_masked = h * mask.float()\n",
    "    c = h_masked.sum()\n",
    "    s = mask.sum().float()\n",
    "    return (c / s).item() if s > 0 else 0.0\n",
    "\n",
    "@torch.no_grad()\n",
    "def mse_torch(preds: torch.Tensor, targets: torch.Tensor) -> float:\n",
    "    \"\"\"\n",
    "    GPU-friendly MSE using torch's built-in mean squared error.\n",
    "    \"\"\"\n",
    "    return F.mse_loss(preds, targets, reduction='mean').item()\n",
    "\n",
    "@torch.no_grad()\n",
    "def pearson_torch(preds: torch.Tensor, targets: torch.Tensor) -> float:\n",
    "    \"\"\"\n",
    "    Pearson correlation coefficient in PyTorch (GPU-friendly).\n",
    "    preds, targets: (N,) on the same device\n",
    "    \"\"\"\n",
    "    p_centered = preds - preds.mean()\n",
    "    t_centered = targets - targets.mean()\n",
    "    cov = (p_centered * t_centered).sum()\n",
    "    denom = torch.sqrt((p_centered**2).sum()) * torch.sqrt((t_centered**2).sum())\n",
    "    eps = 1e-8\n",
    "    return (cov / (denom + eps)).item()\n",
    "\n",
    "##############################################################################\n",
    "#                       2. GNN MODEL DEFINITION\n",
    "##############################################################################\n",
    "class GNNNet(torch.nn.Module):\n",
    "    def __init__(self, n_output=1, num_features_pro=54, num_features_mol=78, output_dim=128, dropout=0.2):\n",
    "        super(GNNNet, self).__init__()\n",
    "\n",
    "        print('GNNNet Loaded')\n",
    "        self.n_output = n_output\n",
    "        self.mol_conv1 = GCNConv(num_features_mol, num_features_mol)\n",
    "        self.mol_conv2 = GCNConv(num_features_mol, num_features_mol * 2)\n",
    "        self.mol_conv3 = GCNConv(num_features_mol * 2, num_features_mol * 4)\n",
    "        self.mol_fc_g1 = torch.nn.Linear(num_features_mol * 4, 1024)\n",
    "        self.mol_fc_g2 = torch.nn.Linear(1024, output_dim)\n",
    "\n",
    "        # self.pro_conv1 = GCNConv(embed_dim, embed_dim)\n",
    "        self.pro_conv1 = GCNConv(num_features_pro, num_features_pro)\n",
    "        self.pro_conv2 = GCNConv(num_features_pro, num_features_pro * 2)\n",
    "        self.pro_conv3 = GCNConv(num_features_pro * 2, num_features_pro * 4)\n",
    "        # self.pro_conv4 = GCNConv(embed_dim * 4, embed_dim * 8)\n",
    "        self.pro_fc_g1 = torch.nn.Linear(num_features_pro * 4, 1024)\n",
    "        self.pro_fc_g2 = torch.nn.Linear(1024, output_dim)\n",
    "\n",
    "        self.relu = nn.ReLU()\n",
    "        self.dropout = nn.Dropout(dropout)\n",
    "\n",
    "        # combined layers\n",
    "        self.fc1 = nn.Linear(output_dim, 1024)\n",
    "        self.fc2 = nn.Linear(1024, 512)\n",
    "        self.out = nn.Linear(512, self.n_output)\n",
    "\n",
    "    def forward(self, data_mol, data_pro):\n",
    "        # get graph input\n",
    "        mol_x, mol_edge_index, mol_batch = data_mol.x, data_mol.edge_index, data_mol.batch\n",
    "        # get protein input\n",
    "        target_x, target_edge_index, target_batch = data_pro.x, data_pro.edge_index, data_pro.batch\n",
    "\n",
    "        # target_seq=data_pro.target\n",
    "\n",
    "        # print('size')\n",
    "        # print('mol_x', mol_x.size(), 'edge_index', mol_edge_index.size(), 'batch', mol_batch.size())\n",
    "        # print('target_x', target_x.size(), 'target_edge_index', target_batch.size(), 'batch', target_batch.size())\n",
    "\n",
    "        x = self.mol_conv1(mol_x, mol_edge_index)\n",
    "        x = self.relu(x)\n",
    "\n",
    "        # mol_edge_index, _ = dropout_adj(mol_edge_index, training=self.training)\n",
    "        x = self.mol_conv2(x, mol_edge_index)\n",
    "        x = self.relu(x)\n",
    "\n",
    "        # mol_edge_index, _ = dropout_adj(mol_edge_index, training=self.training)\n",
    "        x = self.mol_conv3(x, mol_edge_index)\n",
    "        x = self.relu(x)\n",
    "        x = gep(x, mol_batch)  # global pooling\n",
    "\n",
    "        # flatten\n",
    "        x = self.relu(self.mol_fc_g1(x))\n",
    "        x = self.dropout(x)\n",
    "        x = self.mol_fc_g2(x)\n",
    "        x = self.dropout(x)\n",
    "\n",
    "        xt = self.pro_conv1(target_x, target_edge_index)\n",
    "        xt = self.relu(xt)\n",
    "\n",
    "        # target_edge_index, _ = dropout_adj(target_edge_index, training=self.training)\n",
    "        xt = self.pro_conv2(xt, target_edge_index)\n",
    "        xt = self.relu(xt)\n",
    "\n",
    "        # target_edge_index, _ = dropout_adj(target_edge_index, training=self.training)\n",
    "        xt = self.pro_conv3(xt, target_edge_index)\n",
    "        xt = self.relu(xt)\n",
    "\n",
    "        # xt = self.pro_conv4(xt, target_edge_index)\n",
    "        # xt = self.relu(xt)\n",
    "        xt = gep(xt, target_batch)  # global pooling\n",
    "\n",
    "        # flatten\n",
    "        xt = self.relu(self.pro_fc_g1(xt))\n",
    "        xt = self.dropout(xt)\n",
    "        xt = self.pro_fc_g2(xt)\n",
    "        xt = self.dropout(xt)\n",
    "\n",
    "        # print(x.size(), xt.size())\n",
    "        #  not concat ! multiple applid\n",
    "        # xc = torch.cat((x, xt), 1)\n",
    "        xc = x * xt\n",
    "        # print(xc.size())\n",
    "        # add some dense layers\n",
    "        xc = self.fc1(xc)\n",
    "        xc = self.relu(xc)\n",
    "        xc = self.dropout(xc)\n",
    "        xc = self.fc2(xc)\n",
    "        xc = self.relu(xc)\n",
    "        xc = self.dropout(xc)\n",
    "        out = self.out(xc)\n",
    "        return out\n",
    "\n",
    "\n",
    "\n",
    "##############################################################################\n",
    "#                   3. DATA LOADING HELPERS\n",
    "##############################################################################\n",
    "\n",
    "warnings.filterwarnings('ignore', category=FutureWarning)\n",
    "\n",
    "def load_sample(path):\n",
    "    \"\"\"\n",
    "    Load a .pt sample, fix up 'x' and 'edge_index', return (mol_data, pro_data, target).\n",
    "    \"\"\"\n",
    "    sample = torch.load(path)\n",
    "    mol_data, pro_data, target = sample[0], sample[1], sample[2]\n",
    "\n",
    "    # Convert dict to Data if needed\n",
    "    if isinstance(mol_data, dict):\n",
    "        mol_data = Data(**mol_data)\n",
    "    if isinstance(pro_data, dict):\n",
    "        pro_data = Data(**pro_data)\n",
    "\n",
    "    # Fix x\n",
    "    if not hasattr(mol_data, 'x') or mol_data.x is None:\n",
    "        if hasattr(mol_data, 'features'):\n",
    "            mol_data.x = mol_data.features\n",
    "            del mol_data.features\n",
    "        else:\n",
    "            raise ValueError(\"mol_data missing 'x' or 'features'\")\n",
    "    if not hasattr(pro_data, 'x') or pro_data.x is None:\n",
    "        if hasattr(pro_data, 'features'):\n",
    "            pro_data.x = pro_data.features\n",
    "            del pro_data.features\n",
    "        else:\n",
    "            raise ValueError(\"pro_data missing 'x' or 'features'\")\n",
    "\n",
    "    mol_data.x = torch.as_tensor(mol_data.x, dtype=torch.float32)\n",
    "    pro_data.x = torch.as_tensor(pro_data.x, dtype=torch.float32)\n",
    "\n",
    "    # Fix edge_index\n",
    "    def fix_edge_index(d):\n",
    "        if not isinstance(d.edge_index, torch.Tensor):\n",
    "            d.edge_index = torch.tensor(d.edge_index, dtype=torch.long)\n",
    "        else:\n",
    "            d.edge_index = d.edge_index.long()\n",
    "        if d.edge_index.shape[0] != 2:\n",
    "            d.edge_index = d.edge_index.t()\n",
    "        d.num_nodes = d.x.size(0)\n",
    "\n",
    "    fix_edge_index(mol_data)\n",
    "    fix_edge_index(pro_data)\n",
    "\n",
    "    return (mol_data, pro_data, target)\n",
    "\n",
    "def batch_loader(file_list, sample_dir, batch_size):\n",
    "    \"\"\"\n",
    "    Yields batches of (mol_data, pro_data, target) from file_list.\n",
    "    \"\"\"\n",
    "    batch = []\n",
    "    for file_name in file_list:\n",
    "        path = os.path.join(sample_dir, file_name)\n",
    "        sample = load_sample(path)\n",
    "        batch.append(sample)\n",
    "        if len(batch) == batch_size:\n",
    "            yield batch\n",
    "            batch = []\n",
    "    if batch:\n",
    "        yield batch\n",
    "\n",
    "##############################################################################\n",
    "#              4. TRAINING / EVALUATION WITH METRICS EACH EPOCH\n",
    "##############################################################################\n",
    "\n",
    "import os\n",
    "import torch\n",
    "\n",
    "def train_and_evaluate(sample_dir, num_epochs=10, test_size=0.2, lr=0.001):\n",
    "    \"\"\"\n",
    "    Trains the GNN model, evaluates on train & test each epoch, saves metrics + checkpoints.\n",
    "    \"\"\"\n",
    "    device = torch.device('cuda' if torch.cuda.is_available() else 'cpu')\n",
    "    print(f\"Running on {device}.\")\n",
    "\n",
    "    # Gather samples\n",
    "    sample_files = [f for f in os.listdir(sample_dir) if f.endswith('.pt')]\n",
    "    assert len(sample_files) > 0, \"No .pt files found in sample_dir!\"\n",
    "\n",
    "    # Split\n",
    "    train_files, test_files = train_test_split(sample_files, test_size=test_size, random_state=42)\n",
    "\n",
    "    # Make checkpoint dir\n",
    "    training_model_dir = os.path.join(os.getcwd(), 'TrainingModelMul')\n",
    "    os.makedirs(training_model_dir, exist_ok=True)\n",
    "    print(f\"Checkpoints will be saved to: {training_model_dir}\")\n",
    "\n",
    "    metrics_path = os.path.join(training_model_dir, \"training_metrics.pt\")\n",
    "\n",
    "    # Load existing metrics if available (Ensures metrics continue from previous runs)\n",
    "    if os.path.exists(metrics_path):\n",
    "        saved_metrics = torch.load(metrics_path)\n",
    "        train_metrics = saved_metrics['train_metrics']\n",
    "        test_metrics = saved_metrics['test_metrics']\n",
    "        print(\"Loaded previous training metrics!\")\n",
    "    else:\n",
    "        train_metrics = {'epoch': [], 'mse': [], 'ci': [], 'pearson': []}\n",
    "        test_metrics = {'epoch': [], 'mse': [], 'ci': [], 'pearson': []}\n",
    "        print(\"Starting fresh metrics tracking.\")\n",
    "\n",
    "    # Infer input dims from one sample\n",
    "    sample0 = load_sample(os.path.join(sample_dir, train_files[0]))\n",
    "    mol_data0, pro_data0 = sample0[0], sample0[1]\n",
    "    num_features_mol = mol_data0.x.size(1)\n",
    "    num_features_pro = pro_data0.x.size(1)\n",
    "\n",
    "    # Initialize model\n",
    "    model = GNNNet(num_features_mol=num_features_mol,\n",
    "                   num_features_pro=num_features_pro).to(device)\n",
    "    optimizer = optim.Adam(model.parameters(), lr=lr)\n",
    "    loss_fn = MSELoss()\n",
    "\n",
    "    # Possibly resume from checkpoint\n",
    "    start_epoch = 1\n",
    "    existing_checkpoints = [\n",
    "        f for f in os.listdir(training_model_dir)\n",
    "        if f.endswith('.pt') and f.startswith('model_epoch')\n",
    "    ]\n",
    "    last_ckpt_path = None  # Track previous checkpoint for deletion\n",
    "\n",
    "    if existing_checkpoints:\n",
    "        latest_ckpt = max(existing_checkpoints, key=lambda x: int(x.split('_epoch')[1].split('.pt')[0]))\n",
    "        ckpt_path = os.path.join(training_model_dir, latest_ckpt)\n",
    "        print(f\"Loading checkpoint from {ckpt_path}\")\n",
    "        ckpt = torch.load(ckpt_path, map_location=device)\n",
    "        model.load_state_dict(ckpt['model_state_dict'])\n",
    "        optimizer.load_state_dict(ckpt['optimizer_state_dict'])\n",
    "        loaded_epoch = ckpt['epoch']\n",
    "        start_epoch = loaded_epoch + 1\n",
    "        last_ckpt_path = ckpt_path  # Store last checkpoint path for deletion\n",
    "        print(f\"Resuming from epoch {start_epoch}\")\n",
    "    else:\n",
    "        print(\"No existing checkpoint found; starting fresh.\")\n",
    "\n",
    "    @torch.no_grad()\n",
    "    def evaluate(files):\n",
    "        model.eval()\n",
    "        all_preds = []\n",
    "        all_targets = []\n",
    "        batch_eval_size = 200\n",
    "        for batch_samples in batch_loader(files, sample_dir, batch_eval_size):\n",
    "            mol_list, pro_list, tgt_list = [], [], []\n",
    "            for (md, pd, t) in batch_samples:\n",
    "                mol_list.append(md)\n",
    "                pro_list.append(pd)\n",
    "                tgt_list.append(t)\n",
    "\n",
    "            mol_batch = Batch.from_data_list(mol_list).to(device)\n",
    "            pro_batch = Batch.from_data_list(pro_list).to(device)\n",
    "            t_tensor = torch.tensor(tgt_list, dtype=torch.float32, device=device)\n",
    "\n",
    "            out = model(mol_batch, pro_batch).view(-1)\n",
    "            all_preds.append(out)\n",
    "            all_targets.append(t_tensor)\n",
    "\n",
    "        all_preds = torch.cat(all_preds, dim=0)\n",
    "        all_targets = torch.cat(all_targets, dim=0)\n",
    "\n",
    "        mse_val = mse_torch(all_preds, all_targets)\n",
    "        ci_val = ci_vectorized(all_preds, all_targets)\n",
    "        pearson_val = pearson_torch(all_preds, all_targets)\n",
    "        return mse_val, ci_val, pearson_val\n",
    "\n",
    "    # Training loop\n",
    "    batch_size = 500\n",
    "    for epoch in tqdm(range(start_epoch, num_epochs + 1), desc=\"Training\", unit=\"epoch\"):\n",
    "        model.train()\n",
    "        running_loss = 0.0\n",
    "\n",
    "        for batch_samples in batch_loader(train_files, sample_dir, batch_size):\n",
    "            mol_list, pro_list, tgt_list = [], [], []\n",
    "            for (md, pd, t) in batch_samples:\n",
    "                mol_list.append(md)\n",
    "                pro_list.append(pd)\n",
    "                tgt_list.append(t)\n",
    "\n",
    "            mol_batch = Batch.from_data_list(mol_list).to(device)\n",
    "            pro_batch = Batch.from_data_list(pro_list).to(device)\n",
    "            t_tensor = torch.tensor(tgt_list, dtype=torch.float32, device=device).view(-1)\n",
    "\n",
    "            optimizer.zero_grad()\n",
    "            out = model(mol_batch, pro_batch).view(-1)\n",
    "            loss = loss_fn(out, t_tensor)\n",
    "            loss.backward()\n",
    "            optimizer.step()\n",
    "\n",
    "            running_loss += loss.item() * len(batch_samples)\n",
    "\n",
    "        avg_loss = running_loss / len(train_files)\n",
    "        tqdm.write(f\"[Epoch {epoch}/{num_epochs}] Training Loss: {avg_loss:.4f}\")\n",
    "\n",
    "        # Evaluate on train & test\n",
    "        train_mse, train_ci, train_pearson = evaluate(train_files)\n",
    "        test_mse, test_ci, test_pearson = evaluate(test_files)\n",
    "\n",
    "        train_metrics['epoch'].append(epoch)\n",
    "        train_metrics['mse'].append(train_mse)\n",
    "        train_metrics['ci'].append(train_ci)\n",
    "        train_metrics['pearson'].append(train_pearson)\n",
    "\n",
    "        test_metrics['epoch'].append(epoch)\n",
    "        test_metrics['mse'].append(test_mse)\n",
    "        test_metrics['ci'].append(test_ci)\n",
    "        test_metrics['pearson'].append(test_pearson)\n",
    "\n",
    "        tqdm.write(f\"  Train => MSE={train_mse:.4f}, CI={train_ci:.4f}, Pearson={train_pearson:.4f}\")\n",
    "        tqdm.write(f\"  Test  => MSE={test_mse:.4f}, CI={test_ci:.4f}, Pearson={test_pearson:.4f}\")\n",
    "\n",
    "        # Save new checkpoint\n",
    "        ckpt_name = f\"model_epoch{epoch}.pt\"\n",
    "        ckpt_path = os.path.join(training_model_dir, ckpt_name)\n",
    "        torch.save({\n",
    "            'epoch': epoch,\n",
    "            'model_state_dict': model.state_dict(),\n",
    "            'optimizer_state_dict': optimizer.state_dict(),\n",
    "        }, ckpt_path)\n",
    "        tqdm.write(f\"Checkpoint saved at epoch {epoch}\")\n",
    "\n",
    "        # Delete the previous checkpoint after saving the new one\n",
    "        if last_ckpt_path and os.path.exists(last_ckpt_path):\n",
    "            os.remove(last_ckpt_path)\n",
    "            tqdm.write(f\"Deleted previous checkpoint: {last_ckpt_path}\")\n",
    "\n",
    "        # Update last checkpoint path\n",
    "        last_ckpt_path = ckpt_path\n",
    "\n",
    "        # Save/Update the metrics after each epoch\n",
    "        torch.save({\n",
    "            'train_metrics': train_metrics,\n",
    "            'test_metrics': test_metrics\n",
    "        }, metrics_path)\n",
    "\n",
    "    # Final evaluations\n",
    "    final_train_mse, final_train_ci, final_train_pearson = evaluate(train_files)\n",
    "    final_test_mse, final_test_ci, final_test_pearson = evaluate(test_files)\n",
    "    print(f\"\\nFinal Train => MSE={final_train_mse:.4f}, CI={final_train_ci:.4f}, Pearson={final_train_pearson:.4f}\")\n",
    "    print(f\"Final Test  => MSE={final_test_mse:.4f}, CI={final_test_ci:.4f}, Pearson={final_test_pearson:.4f}\")\n",
    "\n",
    "    # Save final metrics\n",
    "    torch.save({\n",
    "        'train_metrics': train_metrics,\n",
    "        'test_metrics': test_metrics\n",
    "    }, metrics_path)\n",
    "    print(f\"Metrics saved to {metrics_path}\")\n",
    "\n",
    "    return train_metrics, test_metrics\n",
    "\n",
    "\n",
    "##############################################################################\n",
    "#               5. OPTIONAL: PLOT THE SAVED METRICS\n",
    "##############################################################################\n",
    "\n",
    "def plot_metrics(checkpoint_dir='TrainingModelMul'):\n",
    "    \"\"\"\n",
    "    Load training_metrics.pt from the checkpoint_dir and plot MSE, CI, Pearson over epochs.\n",
    "    \"\"\"\n",
    "    metrics_path = os.path.join(checkpoint_dir, \"training_metrics.pt\")\n",
    "    if not os.path.exists(metrics_path):\n",
    "        print(f\"No metrics file found at {metrics_path}!\")\n",
    "        return\n",
    "\n",
    "    saved_data = torch.load(metrics_path)\n",
    "    train_metrics = saved_data['train_metrics']\n",
    "    test_metrics = saved_data['test_metrics']\n",
    "    epochs = train_metrics['epoch']\n",
    "\n",
    "    # Plot MSE\n",
    "    plt.figure(figsize=(8, 6))\n",
    "    plt.plot(epochs, train_metrics['mse'], 'o-', label='Train MSE')\n",
    "    plt.plot(epochs, test_metrics['mse'], 'o-', label='Test MSE')\n",
    "    plt.xlabel('Epoch')\n",
    "    plt.ylabel('MSE')\n",
    "    plt.title('Mean Squared Error over Epochs')\n",
    "    plt.legend()\n",
    "    plt.savefig(os.path.join(checkpoint_dir, \"MSE_plot.png\"))  \n",
    "    plt.show()\n",
    "\n",
    "    # Plot CI\n",
    "    plt.figure(figsize=(8, 6))\n",
    "    plt.plot(epochs, train_metrics['ci'], 'o-', label='Train CI')\n",
    "    plt.plot(epochs, test_metrics['ci'], 'o-', label='Test CI')\n",
    "    plt.xlabel('Epoch')\n",
    "    plt.ylabel('Concordance Index')\n",
    "    plt.title('CI over Epochs')\n",
    "    plt.savefig(os.path.join(checkpoint_dir, \"CI_plot.png\"))  \n",
    "    plt.legend()\n",
    "    plt.show()\n",
    "\n",
    "    # Plot Pearson\n",
    "    plt.figure(figsize=(8, 6))\n",
    "    plt.plot(epochs, train_metrics['pearson'], 'o-', label='Train Pearson')\n",
    "    plt.plot(epochs, test_metrics['pearson'], 'o-', label='Test Pearson')\n",
    "    plt.xlabel('Epoch')\n",
    "    plt.ylabel('Pearson Correlation')\n",
    "    plt.title('Pearson Correlation over Epochs')\n",
    "    plt.legend()\n",
    "    plt.savefig(os.path.join(checkpoint_dir, \"PEARSON_plot.png\"))  \n",
    "    plt.show()\n",
    "\n",
    "##############################################################################\n",
    "#                                 MAIN\n",
    "##############################################################################\n",
    "\n",
    "if __name__ == \"__main__\":\n",
    "    # Adjust the paths/parameters as needed\n",
    "    SAMPLE_DIR = \"prepared_samples\"   # Directory with your .pt samples\n",
    "    NUM_EPOCHS = 250\n",
    "    TEST_SPLIT = 0.2\n",
    "    LR = 0.001\n",
    "\n",
    "    # 1) Train and evaluate\n",
    "    train_metrics, test_metrics = train_and_evaluate(\n",
    "        sample_dir=SAMPLE_DIR,\n",
    "        num_epochs=NUM_EPOCHS,\n",
    "        test_size=TEST_SPLIT,\n",
    "        lr=LR\n",
    "    )\n",
    "\n",
    "    # 2) Plot the metrics\n",
    "    plot_metrics('TrainingModelMul')"
   ]
  },
  {
   "cell_type": "code",
   "execution_count": null,
   "id": "cc1e04c8",
   "metadata": {
    "papermill": {
     "duration": 0.262264,
     "end_time": "2025-02-03T01:14:35.347304",
     "exception": false,
     "start_time": "2025-02-03T01:14:35.085040",
     "status": "completed"
    },
    "tags": []
   },
   "outputs": [],
   "source": []
  },
  {
   "cell_type": "code",
   "execution_count": null,
   "id": "d2b9c758",
   "metadata": {
    "papermill": {
     "duration": 0.326519,
     "end_time": "2025-02-03T01:14:35.923815",
     "exception": false,
     "start_time": "2025-02-03T01:14:35.597296",
     "status": "completed"
    },
    "tags": []
   },
   "outputs": [],
   "source": []
  }
 ],
 "metadata": {
  "kaggle": {
   "accelerator": "gpu",
   "dataSources": [
    {
     "datasetId": 6589591,
     "sourceId": 10642609,
     "sourceType": "datasetVersion"
    }
   ],
   "dockerImageVersionId": 30840,
   "isGpuEnabled": true,
   "isInternetEnabled": true,
   "language": "python",
   "sourceType": "notebook"
  },
  "kernelspec": {
   "display_name": "Python 3",
   "language": "python",
   "name": "python3"
  },
  "language_info": {
   "codemirror_mode": {
    "name": "ipython",
    "version": 3
   },
   "file_extension": ".py",
   "mimetype": "text/x-python",
   "name": "python",
   "nbconvert_exporter": "python",
   "pygments_lexer": "ipython3",
   "version": "3.10.12"
  },
  "papermill": {
   "default_parameters": {},
   "duration": 16809.635973,
   "end_time": "2025-02-03T01:14:38.995369",
   "environment_variables": {},
   "exception": null,
   "input_path": "__notebook__.ipynb",
   "output_path": "__notebook__.ipynb",
   "parameters": {},
   "start_time": "2025-02-02T20:34:29.359396",
   "version": "2.6.0"
  }
 },
 "nbformat": 4,
 "nbformat_minor": 5
}
