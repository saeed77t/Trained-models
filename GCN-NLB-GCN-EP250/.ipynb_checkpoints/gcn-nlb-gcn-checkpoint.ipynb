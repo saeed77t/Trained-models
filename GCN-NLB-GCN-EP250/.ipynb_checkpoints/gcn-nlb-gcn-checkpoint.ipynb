{
 "cells": [
  {
   "cell_type": "code",
   "execution_count": 1,
   "id": "ae345a8b",
   "metadata": {
    "_cell_guid": "b1076dfc-b9ad-4769-8c92-a6c4dae69d19",
    "_uuid": "8f2839f25d086af736a60e9eeb907d3b93b6e0e5",
    "execution": {
     "iopub.execute_input": "2025-02-04T20:39:43.596217Z",
     "iopub.status.busy": "2025-02-04T20:39:43.595892Z",
     "iopub.status.idle": "2025-02-04T20:39:49.835030Z",
     "shell.execute_reply": "2025-02-04T20:39:49.833845Z"
    },
    "papermill": {
     "duration": 6.246916,
     "end_time": "2025-02-04T20:39:49.837156",
     "exception": false,
     "start_time": "2025-02-04T20:39:43.590240",
     "status": "completed"
    },
    "tags": []
   },
   "outputs": [
    {
     "name": "stdout",
     "output_type": "stream",
     "text": [
      "Collecting torch-geometric\r\n",
      "  Downloading torch_geometric-2.6.1-py3-none-any.whl.metadata (63 kB)\r\n",
      "\u001b[2K     \u001b[90m━━━━━━━━━━━━━━━━━━━━━━━━━━━━━━━━━━━━━━━━\u001b[0m \u001b[32m63.1/63.1 kB\u001b[0m \u001b[31m2.1 MB/s\u001b[0m eta \u001b[36m0:00:00\u001b[0m\r\n",
      "\u001b[?25hRequirement already satisfied: aiohttp in /usr/local/lib/python3.10/dist-packages (from torch-geometric) (3.11.10)\r\n",
      "Requirement already satisfied: fsspec in /usr/local/lib/python3.10/dist-packages (from torch-geometric) (2024.9.0)\r\n",
      "Requirement already satisfied: jinja2 in /usr/local/lib/python3.10/dist-packages (from torch-geometric) (3.1.4)\r\n",
      "Requirement already satisfied: numpy in /usr/local/lib/python3.10/dist-packages (from torch-geometric) (1.26.4)\r\n",
      "Requirement already satisfied: psutil>=5.8.0 in /usr/local/lib/python3.10/dist-packages (from torch-geometric) (5.9.5)\r\n",
      "Requirement already satisfied: pyparsing in /usr/local/lib/python3.10/dist-packages (from torch-geometric) (3.2.0)\r\n",
      "Requirement already satisfied: requests in /usr/local/lib/python3.10/dist-packages (from torch-geometric) (2.32.3)\r\n",
      "Requirement already satisfied: tqdm in /usr/local/lib/python3.10/dist-packages (from torch-geometric) (4.67.1)\r\n",
      "Requirement already satisfied: aiohappyeyeballs>=2.3.0 in /usr/local/lib/python3.10/dist-packages (from aiohttp->torch-geometric) (2.4.4)\r\n",
      "Requirement already satisfied: aiosignal>=1.1.2 in /usr/local/lib/python3.10/dist-packages (from aiohttp->torch-geometric) (1.3.2)\r\n",
      "Requirement already satisfied: async-timeout<6.0,>=4.0 in /usr/local/lib/python3.10/dist-packages (from aiohttp->torch-geometric) (4.0.3)\r\n",
      "Requirement already satisfied: attrs>=17.3.0 in /usr/local/lib/python3.10/dist-packages (from aiohttp->torch-geometric) (24.3.0)\r\n",
      "Requirement already satisfied: frozenlist>=1.1.1 in /usr/local/lib/python3.10/dist-packages (from aiohttp->torch-geometric) (1.5.0)\r\n",
      "Requirement already satisfied: multidict<7.0,>=4.5 in /usr/local/lib/python3.10/dist-packages (from aiohttp->torch-geometric) (6.1.0)\r\n",
      "Requirement already satisfied: propcache>=0.2.0 in /usr/local/lib/python3.10/dist-packages (from aiohttp->torch-geometric) (0.2.1)\r\n",
      "Requirement already satisfied: yarl<2.0,>=1.17.0 in /usr/local/lib/python3.10/dist-packages (from aiohttp->torch-geometric) (1.18.3)\r\n",
      "Requirement already satisfied: MarkupSafe>=2.0 in /usr/local/lib/python3.10/dist-packages (from jinja2->torch-geometric) (3.0.2)\r\n",
      "Requirement already satisfied: mkl_fft in /usr/local/lib/python3.10/dist-packages (from numpy->torch-geometric) (1.3.8)\r\n",
      "Requirement already satisfied: mkl_random in /usr/local/lib/python3.10/dist-packages (from numpy->torch-geometric) (1.2.4)\r\n",
      "Requirement already satisfied: mkl_umath in /usr/local/lib/python3.10/dist-packages (from numpy->torch-geometric) (0.1.1)\r\n",
      "Requirement already satisfied: mkl in /usr/local/lib/python3.10/dist-packages (from numpy->torch-geometric) (2025.0.1)\r\n",
      "Requirement already satisfied: tbb4py in /usr/local/lib/python3.10/dist-packages (from numpy->torch-geometric) (2022.0.0)\r\n",
      "Requirement already satisfied: mkl-service in /usr/local/lib/python3.10/dist-packages (from numpy->torch-geometric) (2.4.1)\r\n",
      "Requirement already satisfied: charset-normalizer<4,>=2 in /usr/local/lib/python3.10/dist-packages (from requests->torch-geometric) (3.4.0)\r\n",
      "Requirement already satisfied: idna<4,>=2.5 in /usr/local/lib/python3.10/dist-packages (from requests->torch-geometric) (3.10)\r\n",
      "Requirement already satisfied: urllib3<3,>=1.21.1 in /usr/local/lib/python3.10/dist-packages (from requests->torch-geometric) (2.2.3)\r\n",
      "Requirement already satisfied: certifi>=2017.4.17 in /usr/local/lib/python3.10/dist-packages (from requests->torch-geometric) (2024.12.14)\r\n",
      "Requirement already satisfied: typing-extensions>=4.1.0 in /usr/local/lib/python3.10/dist-packages (from multidict<7.0,>=4.5->aiohttp->torch-geometric) (4.12.2)\r\n",
      "Requirement already satisfied: intel-openmp>=2024 in /usr/local/lib/python3.10/dist-packages (from mkl->numpy->torch-geometric) (2024.2.0)\r\n",
      "Requirement already satisfied: tbb==2022.* in /usr/local/lib/python3.10/dist-packages (from mkl->numpy->torch-geometric) (2022.0.0)\r\n",
      "Requirement already satisfied: tcmlib==1.* in /usr/local/lib/python3.10/dist-packages (from tbb==2022.*->mkl->numpy->torch-geometric) (1.2.0)\r\n",
      "Requirement already satisfied: intel-cmplr-lib-rt in /usr/local/lib/python3.10/dist-packages (from mkl_umath->numpy->torch-geometric) (2024.2.0)\r\n",
      "Requirement already satisfied: intel-cmplr-lib-ur==2024.2.0 in /usr/local/lib/python3.10/dist-packages (from intel-openmp>=2024->mkl->numpy->torch-geometric) (2024.2.0)\r\n",
      "Downloading torch_geometric-2.6.1-py3-none-any.whl (1.1 MB)\r\n",
      "\u001b[2K   \u001b[90m━━━━━━━━━━━━━━━━━━━━━━━━━━━━━━━━━━━━━━━━\u001b[0m \u001b[32m1.1/1.1 MB\u001b[0m \u001b[31m18.9 MB/s\u001b[0m eta \u001b[36m0:00:00\u001b[0m\r\n",
      "\u001b[?25hInstalling collected packages: torch-geometric\r\n",
      "Successfully installed torch-geometric-2.6.1\r\n"
     ]
    }
   ],
   "source": [
    "!pip install torch-geometric"
   ]
  },
  {
   "cell_type": "code",
   "execution_count": 2,
   "id": "59a60d6b",
   "metadata": {
    "execution": {
     "iopub.execute_input": "2025-02-04T20:39:49.846795Z",
     "iopub.status.busy": "2025-02-04T20:39:49.846509Z",
     "iopub.status.idle": "2025-02-04T20:41:16.621706Z",
     "shell.execute_reply": "2025-02-04T20:41:16.620624Z"
    },
    "papermill": {
     "duration": 86.784817,
     "end_time": "2025-02-04T20:41:16.626465",
     "exception": false,
     "start_time": "2025-02-04T20:39:49.841648",
     "status": "completed"
    },
    "tags": []
   },
   "outputs": [
    {
     "name": "stderr",
     "output_type": "stream",
     "text": [
      "<ipython-input-2-b6d33a83e452>:16: FutureWarning: You are using `torch.load` with `weights_only=False` (the current default value), which uses the default pickle module implicitly. It is possible to construct malicious pickle data which will execute arbitrary code during unpickling (See https://github.com/pytorch/pytorch/blob/main/SECURITY.md#untrusted-models for more details). In a future release, the default value for `weights_only` will be flipped to `True`. This limits the functions that could be executed during unpickling. Arbitrary objects will no longer be allowed to be loaded via this mode unless they are explicitly allowlisted by the user via `torch.serialization.add_safe_globals`. We recommend you start setting `weights_only=True` for any use case where you don't have full control of the loaded file. Please open an issue on GitHub for any issues related to this experimental feature.\n",
      "  return torch.load(path)\n"
     ]
    },
    {
     "name": "stdout",
     "output_type": "stream",
     "text": [
      "Saved sample 0 as prepared_samples/sample_0.pt\n"
     ]
    },
    {
     "name": "stderr",
     "output_type": "stream",
     "text": [
      "<ipython-input-2-b6d33a83e452>:16: FutureWarning: You are using `torch.load` with `weights_only=False` (the current default value), which uses the default pickle module implicitly. It is possible to construct malicious pickle data which will execute arbitrary code during unpickling (See https://github.com/pytorch/pytorch/blob/main/SECURITY.md#untrusted-models for more details). In a future release, the default value for `weights_only` will be flipped to `True`. This limits the functions that could be executed during unpickling. Arbitrary objects will no longer be allowed to be loaded via this mode unless they are explicitly allowlisted by the user via `torch.serialization.add_safe_globals`. We recommend you start setting `weights_only=True` for any use case where you don't have full control of the loaded file. Please open an issue on GitHub for any issues related to this experimental feature.\n",
      "  return torch.load(path)\n"
     ]
    },
    {
     "name": "stdout",
     "output_type": "stream",
     "text": [
      "Saved sample 10000 as prepared_samples/sample_10000.pt\n",
      "Dataset preparation completed.\n"
     ]
    }
   ],
   "source": [
    "\n",
    "#create samples :\n",
    "import os\n",
    "import torch\n",
    "import pickle\n",
    "import pandas as pd\n",
    "\n",
    "def load_graph(path, is_pickle=True):\n",
    "    \"\"\"\n",
    "    Load a molecule graph (.pkl) or a protein graph (.pt).\n",
    "    If is_pickle is True, use pickle to load the file; otherwise, use torch.load.\n",
    "    \"\"\"\n",
    "    if is_pickle:\n",
    "        with open(path, 'rb') as f:\n",
    "            return pickle.load(f)\n",
    "    else:\n",
    "        return torch.load(path)\n",
    "\n",
    "def prepare_dataset_individual_save_as_pt(filtered_dataset, molecule_graph_dir, protein_graph_dir, output_dir):\n",
    "    \"\"\"\n",
    "    Incrementally prepares the dataset and saves each (molecule, protein, target) tuple as a separate .pt file.\n",
    "\n",
    "    Args:\n",
    "    - filtered_dataset: The filtered KIBA dataset (DataFrame).\n",
    "    - molecule_graph_dir: Directory where molecule graphs are stored.\n",
    "    - protein_graph_dir: Directory where protein graphs are stored.\n",
    "    - output_dir: Directory to save the prepared dataset incrementally.\n",
    "    \"\"\"\n",
    "    if not os.path.exists(output_dir):\n",
    "        os.makedirs(output_dir)\n",
    "\n",
    "    for index, row in filtered_dataset.iterrows():\n",
    "        protein_id = row['Target_ID']\n",
    "        chembl_id = row['Drug_ID']\n",
    "\n",
    "        # Load the protein graph (.pt)\n",
    "        pro_graph_path = os.path.join(protein_graph_dir, f\"{protein_id}_graph.pt\")\n",
    "        if not os.path.exists(pro_graph_path):\n",
    "            print(f\"Protein graph not found: {protein_id}\")\n",
    "            continue\n",
    "        pro_graph = load_graph(pro_graph_path, is_pickle=False)\n",
    "\n",
    "        # Load the molecule graph (.pkl)\n",
    "        mol_graph_path = os.path.join(molecule_graph_dir, f\"{chembl_id}_graph.pkl\")\n",
    "        if not os.path.exists(mol_graph_path):\n",
    "            print(f\"Molecule graph not found: {chembl_id}\")\n",
    "            continue\n",
    "        mol_graph = load_graph(mol_graph_path)\n",
    "\n",
    "        # Load target (affinity value)\n",
    "        target = torch.tensor([row['Y']], dtype=torch.float)\n",
    "\n",
    "        # Create the sample as a tuple (molecule graph, protein graph, target)\n",
    "        sample = (mol_graph, pro_graph, target)\n",
    "\n",
    "        # Save the sample as a .pt file\n",
    "        sample_path = os.path.join(output_dir, f\"sample_{index}.pt\")\n",
    "        torch.save(sample, sample_path)\n",
    "\n",
    "        if(index%10000 == 0 ):\n",
    "            print(f\"Saved sample {index} as {sample_path}\")\n",
    "\n",
    "\n",
    "\n",
    "\n",
    "# Example usage for individual saving\n",
    "molecule_graph_dir = '/kaggle/input/graphs/molecule_graphs'  # Directory where molecule graphs are stored\n",
    "protein_graph_dir = '/kaggle/input/graphs/ProteinGraphs'  # Directory where protein graphs are stored\n",
    "filtered_dataset_path = '/kaggle/input/graphs/filtered_DavisDataSet.csv'  # Path to the filtered dataset CSV\n",
    "output_dir = 'prepared_samples/'  # Directory to save individual samples\n",
    "\n",
    "# Load filtered dataset CSV\n",
    "filtered_dataset = pd.read_csv(filtered_dataset_path)\n",
    "\n",
    "# Prepare the dataset incrementally, saving each sample as a .pt file\n",
    "prepare_dataset_individual_save_as_pt(filtered_dataset, molecule_graph_dir, protein_graph_dir, output_dir)\n",
    "\n",
    "print(\"Dataset preparation completed.\")\n",
    "\n"
   ]
  },
  {
   "cell_type": "code",
   "execution_count": 3,
   "id": "b9afd03c",
   "metadata": {
    "execution": {
     "iopub.execute_input": "2025-02-04T20:41:16.637198Z",
     "iopub.status.busy": "2025-02-04T20:41:16.636626Z",
     "iopub.status.idle": "2025-02-04T20:41:16.646590Z",
     "shell.execute_reply": "2025-02-04T20:41:16.645579Z"
    },
    "papermill": {
     "duration": 0.016986,
     "end_time": "2025-02-04T20:41:16.648094",
     "exception": false,
     "start_time": "2025-02-04T20:41:16.631108",
     "status": "completed"
    },
    "tags": []
   },
   "outputs": [],
   "source": [
    "import torch\n",
    "import torch.nn as nn\n",
    "import torch.nn.functional as F\n",
    "from torch_geometric.nn import GCNConv\n",
    "class NonLocalBlock(nn.Module):\n",
    "    def __init__(self, input_dim, hidden_dim, output_dim=None, chunk_size=2048):\n",
    "        super().__init__()\n",
    "        self.output_dim = output_dim or input_dim\n",
    "\n",
    "        # GCN-based projections (Φ, Θ, Γ)\n",
    "        # Φ: H = σ(Â H W_φ + b_φ), where Â = D^{-1/2} (A + I) D^{-1/2}\n",
    "        self.W_phi = GCNConv(input_dim, hidden_dim)\n",
    "        self.W_theta = GCNConv(input_dim, hidden_dim)\n",
    "        self.W_gamma = GCNConv(input_dim, hidden_dim)\n",
    "\n",
    "        # Output projection: O = O_{agg} W_{out} + b_{out}\n",
    "        self.W_out = nn.Linear(hidden_dim, self.output_dim)\n",
    "\n",
    "        # Residual connection: V_n = O + V_m (if dimensions match)\n",
    "        self.res_proj = nn.Linear(input_dim, self.output_dim) if input_dim != self.output_dim else nn.Identity()\n",
    "\n",
    "        self.chunk_size = chunk_size\n",
    "\n",
    "    def forward(self, V_m, edge_index):\n",
    "        # Step 1: Compute Φ, Θ, Γ using GCNConv\n",
    "        # Φ = GCN(V_m, edge_index), Θ = GCN(V_m, edge_index), Γ = GCN(V_m, edge_index)\n",
    "        phi = self.W_phi(V_m, edge_index)  # Φ ∈ ℝ^{N×h}\n",
    "        theta = self.W_theta(V_m, edge_index)  # Θ ∈ ℝ^{N×h}\n",
    "        gamma = self.W_gamma(V_m, edge_index)  # Γ ∈ ℝ^{N×h}\n",
    "\n",
    "        N = phi.size(0)\n",
    "        O = torch.zeros_like(gamma)\n",
    "\n",
    "        # Step 2: Chunked attention computation\n",
    "        for i in range(0, N, self.chunk_size):\n",
    "            # For chunk i: Φ_chunk = Φ[i:i+chunk_size]\n",
    "            phi_chunk = phi[i:i + self.chunk_size]  # Φ_chunk ∈ ℝ^{C×h}\n",
    "\n",
    "            # Compute similarity scores: S = (Θ Φ_chunk^T) / √h\n",
    "            sim_chunk = torch.einsum('nh,ch->cn', theta, phi_chunk)  # S ∈ ℝ^{C×N}\n",
    "            sim_chunk = sim_chunk / (phi.size(1) ** 0.5)  # Scaling by √h\n",
    "\n",
    "            # Softmax normalization: α = softmax(S, dim=1)\n",
    "            attn_chunk = F.softmax(sim_chunk, dim=1)  # α ∈ ℝ^{C×N}\n",
    "\n",
    "            # Aggregate values: O_chunk = α Γ\n",
    "            O_chunk = torch.einsum('cn,nh->ch', attn_chunk, gamma)  # O_chunk ∈ ℝ^{C×h}\n",
    "            O[i:i + self.chunk_size] = O_chunk\n",
    "\n",
    "            del phi_chunk, sim_chunk, attn_chunk, O_chunk\n",
    "            if torch.cuda.is_available():\n",
    "                torch.cuda.empty_cache()\n",
    "\n",
    "        # Step 3: Projection and residual connection\n",
    "        O_projected = self.W_out(O)  # O_projected ∈ ℝ^{N×d_out}\n",
    "        V_n = O_projected + self.res_proj(V_m)  # V_n = O_projected + V_m (with dim alignment)\n",
    "        return V_n"
   ]
  },
  {
   "cell_type": "code",
   "execution_count": 4,
   "id": "92d75e3f",
   "metadata": {
    "execution": {
     "iopub.execute_input": "2025-02-04T20:41:16.665293Z",
     "iopub.status.busy": "2025-02-04T20:41:16.664984Z",
     "iopub.status.idle": "2025-02-04T20:41:16.668460Z",
     "shell.execute_reply": "2025-02-04T20:41:16.667671Z"
    },
    "papermill": {
     "duration": 0.017811,
     "end_time": "2025-02-04T20:41:16.670720",
     "exception": false,
     "start_time": "2025-02-04T20:41:16.652909",
     "status": "completed"
    },
    "tags": []
   },
   "outputs": [],
   "source": [
    "# !rm -rf \"TrainingModelNLB\""
   ]
  },
  {
   "cell_type": "code",
   "execution_count": 5,
   "id": "c4b78110",
   "metadata": {
    "execution": {
     "iopub.execute_input": "2025-02-04T20:41:16.681093Z",
     "iopub.status.busy": "2025-02-04T20:41:16.680778Z",
     "iopub.status.idle": "2025-02-04T20:41:16.684779Z",
     "shell.execute_reply": "2025-02-04T20:41:16.683937Z"
    },
    "papermill": {
     "duration": 0.010742,
     "end_time": "2025-02-04T20:41:16.686243",
     "exception": false,
     "start_time": "2025-02-04T20:41:16.675501",
     "status": "completed"
    },
    "tags": []
   },
   "outputs": [],
   "source": [
    "import os\n",
    "training_model_dir = os.path.join(os.getcwd(), 'TrainingModelNLB')\n",
    "os.makedirs(training_model_dir, exist_ok=True)"
   ]
  },
  {
   "cell_type": "code",
   "execution_count": 6,
   "id": "e81d44b5",
   "metadata": {
    "execution": {
     "iopub.execute_input": "2025-02-04T20:41:16.696681Z",
     "iopub.status.busy": "2025-02-04T20:41:16.696373Z",
     "iopub.status.idle": "2025-02-04T20:41:17.320929Z",
     "shell.execute_reply": "2025-02-04T20:41:17.319277Z"
    },
    "papermill": {
     "duration": 0.6319,
     "end_time": "2025-02-04T20:41:17.322974",
     "exception": false,
     "start_time": "2025-02-04T20:41:16.691074",
     "status": "completed"
    },
    "tags": []
   },
   "outputs": [],
   "source": [
    "!cp '/kaggle/input/gcn-nlb-gcn-ep240/pytorch/default/1/model_epoch240.pt'  'TrainingModelNLB/model_epoch240.pt'\n",
    "!cp '/kaggle/input/gcn-nlb-gcn-ep240/pytorch/default/1/training_metrics.pt'  'TrainingModelNLB/training_metrics.pt'"
   ]
  },
  {
   "cell_type": "code",
   "execution_count": 7,
   "id": "4091ddfe",
   "metadata": {
    "execution": {
     "iopub.execute_input": "2025-02-04T20:41:17.334250Z",
     "iopub.status.busy": "2025-02-04T20:41:17.333895Z",
     "iopub.status.idle": "2025-02-05T00:53:29.935403Z",
     "shell.execute_reply": "2025-02-05T00:53:29.934497Z"
    },
    "papermill": {
     "duration": 15132.609542,
     "end_time": "2025-02-05T00:53:29.937262",
     "exception": false,
     "start_time": "2025-02-04T20:41:17.327720",
     "status": "completed"
    },
    "scrolled": true,
    "tags": []
   },
   "outputs": [
    {
     "name": "stdout",
     "output_type": "stream",
     "text": [
      "Running on cuda.\n",
      "Checkpoints will be saved to: /kaggle/working/TrainingModelNLB\n",
      "Loaded previous training metrics!\n",
      "GNNNet Loaded\n",
      "Loading checkpoint from /kaggle/working/TrainingModelNLB/model_epoch240.pt\n",
      "Resuming from epoch 241\n"
     ]
    },
    {
     "name": "stderr",
     "output_type": "stream",
     "text": [
      "Training:   0%|          | 0/10 [08:01<?, ?epoch/s]"
     ]
    },
    {
     "name": "stdout",
     "output_type": "stream",
     "text": [
      "[Epoch 241/250] Training Loss: 0.2071\n"
     ]
    },
    {
     "name": "stderr",
     "output_type": "stream",
     "text": [
      "Training:  10%|█         | 1/10 [23:44<3:33:38, 1424.22s/epoch]"
     ]
    },
    {
     "name": "stdout",
     "output_type": "stream",
     "text": [
      "  Train => MSE=0.1313, CI=0.9048, Pearson=0.9083\n",
      "  Test  => MSE=0.1479, CI=0.9044, Pearson=0.8973\n",
      "Checkpoint saved at epoch 241\n",
      "Deleted previous checkpoint: /kaggle/working/TrainingModelNLB/model_epoch240.pt\n"
     ]
    },
    {
     "name": "stderr",
     "output_type": "stream",
     "text": [
      "Training:  10%|█         | 1/10 [31:42<3:33:38, 1424.22s/epoch]"
     ]
    },
    {
     "name": "stdout",
     "output_type": "stream",
     "text": [
      "[Epoch 242/250] Training Loss: 0.1972\n"
     ]
    },
    {
     "name": "stderr",
     "output_type": "stream",
     "text": [
      "Training:  20%|██        | 2/10 [47:22<3:09:27, 1420.92s/epoch]"
     ]
    },
    {
     "name": "stdout",
     "output_type": "stream",
     "text": [
      "  Train => MSE=0.1217, CI=0.9104, Pearson=0.9156\n",
      "  Test  => MSE=0.1459, CI=0.9059, Pearson=0.8996\n",
      "Checkpoint saved at epoch 242\n",
      "Deleted previous checkpoint: /kaggle/working/TrainingModelNLB/model_epoch241.pt\n"
     ]
    },
    {
     "name": "stderr",
     "output_type": "stream",
     "text": [
      "Training:  20%|██        | 2/10 [55:20<3:09:27, 1420.92s/epoch]"
     ]
    },
    {
     "name": "stdout",
     "output_type": "stream",
     "text": [
      "[Epoch 243/250] Training Loss: 0.1962\n"
     ]
    },
    {
     "name": "stderr",
     "output_type": "stream",
     "text": [
      "Training:  30%|███       | 3/10 [1:11:00<2:45:37, 1419.58s/epoch]"
     ]
    },
    {
     "name": "stdout",
     "output_type": "stream",
     "text": [
      "  Train => MSE=0.1257, CI=0.9076, Pearson=0.9131\n",
      "  Test  => MSE=0.1484, CI=0.9059, Pearson=0.8976\n",
      "Checkpoint saved at epoch 243\n",
      "Deleted previous checkpoint: /kaggle/working/TrainingModelNLB/model_epoch242.pt\n"
     ]
    },
    {
     "name": "stderr",
     "output_type": "stream",
     "text": [
      "Training:  30%|███       | 3/10 [1:18:59<2:45:37, 1419.58s/epoch]"
     ]
    },
    {
     "name": "stdout",
     "output_type": "stream",
     "text": [
      "[Epoch 244/250] Training Loss: 0.1890\n"
     ]
    },
    {
     "name": "stderr",
     "output_type": "stream",
     "text": [
      "Training:  40%|████      | 4/10 [1:34:39<2:21:55, 1419.19s/epoch]"
     ]
    },
    {
     "name": "stdout",
     "output_type": "stream",
     "text": [
      "  Train => MSE=0.1245, CI=0.9073, Pearson=0.9139\n",
      "  Test  => MSE=0.1556, CI=0.9009, Pearson=0.8920\n",
      "Checkpoint saved at epoch 244\n",
      "Deleted previous checkpoint: /kaggle/working/TrainingModelNLB/model_epoch243.pt\n"
     ]
    },
    {
     "name": "stderr",
     "output_type": "stream",
     "text": [
      "Training:  40%|████      | 4/10 [1:42:38<2:21:55, 1419.19s/epoch]"
     ]
    },
    {
     "name": "stdout",
     "output_type": "stream",
     "text": [
      "[Epoch 245/250] Training Loss: 0.1890\n"
     ]
    },
    {
     "name": "stderr",
     "output_type": "stream",
     "text": [
      "Training:  50%|█████     | 5/10 [1:58:18<1:58:16, 1419.25s/epoch]"
     ]
    },
    {
     "name": "stdout",
     "output_type": "stream",
     "text": [
      "  Train => MSE=0.1225, CI=0.9071, Pearson=0.9181\n",
      "  Test  => MSE=0.1594, CI=0.8944, Pearson=0.8931\n",
      "Checkpoint saved at epoch 245\n",
      "Deleted previous checkpoint: /kaggle/working/TrainingModelNLB/model_epoch244.pt\n"
     ]
    },
    {
     "name": "stderr",
     "output_type": "stream",
     "text": [
      "Training:  50%|█████     | 5/10 [2:06:17<1:58:16, 1419.25s/epoch]"
     ]
    },
    {
     "name": "stdout",
     "output_type": "stream",
     "text": [
      "[Epoch 246/250] Training Loss: 0.1938\n"
     ]
    },
    {
     "name": "stderr",
     "output_type": "stream",
     "text": [
      "Training:  60%|██████    | 6/10 [2:21:58<1:34:37, 1419.28s/epoch]"
     ]
    },
    {
     "name": "stdout",
     "output_type": "stream",
     "text": [
      "  Train => MSE=0.1230, CI=0.9129, Pearson=0.9185\n",
      "  Test  => MSE=0.1595, CI=0.9014, Pearson=0.8927\n",
      "Checkpoint saved at epoch 246\n",
      "Deleted previous checkpoint: /kaggle/working/TrainingModelNLB/model_epoch245.pt\n"
     ]
    },
    {
     "name": "stderr",
     "output_type": "stream",
     "text": [
      "Training:  60%|██████    | 6/10 [2:29:55<1:34:37, 1419.28s/epoch]"
     ]
    },
    {
     "name": "stdout",
     "output_type": "stream",
     "text": [
      "[Epoch 247/250] Training Loss: 0.1828\n"
     ]
    },
    {
     "name": "stderr",
     "output_type": "stream",
     "text": [
      "Training:  70%|███████   | 7/10 [2:45:35<1:10:55, 1418.54s/epoch]"
     ]
    },
    {
     "name": "stdout",
     "output_type": "stream",
     "text": [
      "  Train => MSE=0.1149, CI=0.9134, Pearson=0.9210\n",
      "  Test  => MSE=0.1506, CI=0.9015, Pearson=0.8964\n",
      "Checkpoint saved at epoch 247\n",
      "Deleted previous checkpoint: /kaggle/working/TrainingModelNLB/model_epoch246.pt\n"
     ]
    },
    {
     "name": "stderr",
     "output_type": "stream",
     "text": [
      "Training:  70%|███████   | 7/10 [2:53:32<1:10:55, 1418.54s/epoch]"
     ]
    },
    {
     "name": "stdout",
     "output_type": "stream",
     "text": [
      "[Epoch 248/250] Training Loss: 0.1920\n"
     ]
    },
    {
     "name": "stderr",
     "output_type": "stream",
     "text": [
      "Training:  80%|████████  | 8/10 [3:09:11<47:15, 1417.99s/epoch]  "
     ]
    },
    {
     "name": "stdout",
     "output_type": "stream",
     "text": [
      "  Train => MSE=0.1174, CI=0.9076, Pearson=0.9201\n",
      "  Test  => MSE=0.1569, CI=0.8958, Pearson=0.8935\n",
      "Checkpoint saved at epoch 248\n",
      "Deleted previous checkpoint: /kaggle/working/TrainingModelNLB/model_epoch247.pt\n"
     ]
    },
    {
     "name": "stderr",
     "output_type": "stream",
     "text": [
      "Training:  80%|████████  | 8/10 [3:17:10<47:15, 1417.99s/epoch]"
     ]
    },
    {
     "name": "stdout",
     "output_type": "stream",
     "text": [
      "[Epoch 249/250] Training Loss: 0.1889\n"
     ]
    },
    {
     "name": "stderr",
     "output_type": "stream",
     "text": [
      "Training:  90%|█████████ | 9/10 [3:32:51<23:38, 1418.43s/epoch]"
     ]
    },
    {
     "name": "stdout",
     "output_type": "stream",
     "text": [
      "  Train => MSE=0.1168, CI=0.9043, Pearson=0.9211\n",
      "  Test  => MSE=0.1589, CI=0.8896, Pearson=0.8906\n",
      "Checkpoint saved at epoch 249\n",
      "Deleted previous checkpoint: /kaggle/working/TrainingModelNLB/model_epoch248.pt\n"
     ]
    },
    {
     "name": "stderr",
     "output_type": "stream",
     "text": [
      "Training:  90%|█████████ | 9/10 [3:40:49<23:38, 1418.43s/epoch]"
     ]
    },
    {
     "name": "stdout",
     "output_type": "stream",
     "text": [
      "[Epoch 250/250] Training Loss: 0.1869\n"
     ]
    },
    {
     "name": "stderr",
     "output_type": "stream",
     "text": [
      "Training: 100%|██████████| 10/10 [3:56:29<00:00, 1418.93s/epoch]\n"
     ]
    },
    {
     "name": "stdout",
     "output_type": "stream",
     "text": [
      "  Train => MSE=0.1272, CI=0.9118, Pearson=0.9149\n",
      "  Test  => MSE=0.1796, CI=0.8984, Pearson=0.8766\n",
      "Checkpoint saved at epoch 250\n",
      "Deleted previous checkpoint: /kaggle/working/TrainingModelNLB/model_epoch249.pt\n",
      "\n",
      "Final Train => MSE=0.1272, CI=0.9118, Pearson=0.9149\n",
      "Final Test  => MSE=0.1796, CI=0.8984, Pearson=0.8766\n",
      "Metrics saved to /kaggle/working/TrainingModelNLB/training_metrics.pt\n"
     ]
    },
    {
     "data": {
      "image/png": "[encoded data removed]",
      "text/plain": [
       "<Figure size 800x600 with 1 Axes>"
      ]
     },
     "metadata": {},
     "output_type": "display_data"
    },
    {
     "data": {
      "image/png": "[encoded data removed]",
      "text/plain": [
       "<Figure size 800x600 with 1 Axes>"
      ]
     },
     "metadata": {},
     "output_type": "display_data"
    },
    {
     "data": {
      "image/png": "[encoded data removed]",
      "text/plain": [
       "<Figure size 800x600 with 1 Axes>"
      ]
     },
     "metadata": {},
     "output_type": "display_data"
    }
   ],
   "source": [
    "#model one\n",
    "import os\n",
    "import warnings\n",
    "import torch\n",
    "import torch.nn as nn\n",
    "import torch.nn.functional as F\n",
    "import torch.optim as optim\n",
    "from torch.nn import MSELoss\n",
    "from torch_geometric.nn import GCNConv, global_mean_pool as gep\n",
    "from torch_geometric.data import Data, Batch\n",
    "from sklearn.model_selection import train_test_split\n",
    "from tqdm import tqdm\n",
    "import numpy as np\n",
    "\n",
    "# Optional, for plotting:\n",
    "import matplotlib.pyplot as plt\n",
    "\n",
    "##############################################################################\n",
    "#                               1. METRICS\n",
    "##############################################################################\n",
    "\n",
    "@torch.no_grad()\n",
    "def ci_vectorized(preds: torch.Tensor, targets: torch.Tensor) -> float:\n",
    "    \"\"\"\n",
    "    Naive O(N^2) Concordance Index using vectorized GPU operations.\n",
    "    preds, targets: (N,) on the same device (e.g. cuda).\n",
    "    \"\"\"\n",
    "    # (N, N) differences\n",
    "    p_diff = preds.unsqueeze(1) - preds.unsqueeze(0)\n",
    "    t_diff = targets.unsqueeze(1) - targets.unsqueeze(0)\n",
    "    # mask out pairs where targets are identical\n",
    "    mask = (t_diff != 0)\n",
    "    # sign of product => +1 (concordant), 0 (tie), -1 (discordant)\n",
    "    sign_mat = torch.sign(p_diff * t_diff)\n",
    "    # step function h(x): 1 if x>0, 0.5 if x=0, 0 if x<0\n",
    "    h = (sign_mat == 1).float() + 0.5 * (sign_mat == 0).float()\n",
    "    # apply mask\n",
    "    h_masked = h * mask.float()\n",
    "    c = h_masked.sum()\n",
    "    s = mask.sum().float()\n",
    "    return (c / s).item() if s > 0 else 0.0\n",
    "\n",
    "@torch.no_grad()\n",
    "def mse_torch(preds: torch.Tensor, targets: torch.Tensor) -> float:\n",
    "    \"\"\"\n",
    "    GPU-friendly MSE using torch's built-in mean squared error.\n",
    "    \"\"\"\n",
    "    return F.mse_loss(preds, targets, reduction='mean').item()\n",
    "\n",
    "@torch.no_grad()\n",
    "def pearson_torch(preds: torch.Tensor, targets: torch.Tensor) -> float:\n",
    "    \"\"\"\n",
    "    Pearson correlation coefficient in PyTorch (GPU-friendly).\n",
    "    preds, targets: (N,) on the same device\n",
    "    \"\"\"\n",
    "    p_centered = preds - preds.mean()\n",
    "    t_centered = targets - targets.mean()\n",
    "    cov = (p_centered * t_centered).sum()\n",
    "    denom = torch.sqrt((p_centered**2).sum()) * torch.sqrt((t_centered**2).sum())\n",
    "    eps = 1e-8\n",
    "    return (cov / (denom + eps)).item()\n",
    "\n",
    "##############################################################################\n",
    "#                       2. GNN MODEL DEFINITION\n",
    "##############################################################################\n",
    "\n",
    "class GNNNet(torch.nn.Module):\n",
    "    def __init__(self, n_output=1, num_features_pro=54, num_features_mol=78, output_dim=128, hidden_dim=128, dropout=0.2):\n",
    "        super(GNNNet, self).__init__()\n",
    "\n",
    "        print('GNNNet Loaded')\n",
    "        self.n_output = n_output\n",
    "        self.hidden_dim = hidden_dim\n",
    "\n",
    "        # Molecular graph pipeline\n",
    "        self.mol_conv1 = GCNConv(num_features_mol, num_features_mol)\n",
    "        self.mol_nonlocal = NonLocalBlock(num_features_mol, hidden_dim, num_features_mol * 2)\n",
    "        self.mol_conv3 = GCNConv(num_features_mol * 2, num_features_mol * 4)\n",
    "        self.mol_fc_g1 = torch.nn.Linear(num_features_mol * 4, 1024)\n",
    "        self.mol_fc_g2 = torch.nn.Linear(1024, output_dim)\n",
    "\n",
    "        # Protein graph pipeline\n",
    "        self.pro_conv1 = GCNConv(num_features_pro, num_features_pro)\n",
    "        self.pro_nonlocal = NonLocalBlock(num_features_pro, hidden_dim, num_features_pro * 2)\n",
    "        self.pro_conv3 = GCNConv(num_features_pro * 2, num_features_pro * 4)\n",
    "        self.pro_fc_g1 = torch.nn.Linear(num_features_pro * 4, 1024)\n",
    "        self.pro_fc_g2 = torch.nn.Linear(1024, output_dim)\n",
    "\n",
    "        self.relu = torch.nn.ReLU()\n",
    "        self.dropout = torch.nn.Dropout(dropout)\n",
    "\n",
    "        # Combined layers\n",
    "        self.fc1 = torch.nn.Linear(2 * output_dim, 1024)\n",
    "        self.fc2 = torch.nn.Linear(1024, 512)\n",
    "        self.out = torch.nn.Linear(512, self.n_output)\n",
    "\n",
    "    def forward(self, data_mol, data_pro):\n",
    "        # Molecular graph input\n",
    "        mol_x, mol_edge_index, mol_batch = data_mol.x, data_mol.edge_index, data_mol.batch\n",
    "        mol_x = self.mol_conv1(mol_x, mol_edge_index)\n",
    "        mol_x = self.relu(mol_x)\n",
    "        mol_x = self.mol_nonlocal(mol_x ,mol_edge_index)  # Non-local block\n",
    "        mol_x = self.mol_conv3(mol_x, mol_edge_index)\n",
    "        mol_x = self.relu(mol_x)\n",
    "        mol_x = gep(mol_x, mol_batch)  # Global pooling\n",
    "        mol_x = self.relu(self.mol_fc_g1(mol_x))\n",
    "        mol_x = self.dropout(mol_x)\n",
    "        mol_x = self.mol_fc_g2(mol_x)\n",
    "        mol_x = self.dropout(mol_x)\n",
    "\n",
    "        # Protein graph input\n",
    "        pro_x, pro_edge_index, pro_batch = data_pro.x, data_pro.edge_index, data_pro.batch\n",
    "        pro_x = self.pro_conv1(pro_x, pro_edge_index)\n",
    "        pro_x = self.relu(pro_x)\n",
    "        pro_x = self.pro_nonlocal(pro_x,pro_edge_index)  # Non-local block\n",
    "        pro_x = self.pro_conv3(pro_x, pro_edge_index)\n",
    "        pro_x = self.relu(pro_x)\n",
    "        pro_x = gep(pro_x, pro_batch)  # Global pooling\n",
    "        pro_x = self.relu(self.pro_fc_g1(pro_x))\n",
    "        pro_x = self.dropout(pro_x)\n",
    "        pro_x = self.pro_fc_g2(pro_x)\n",
    "        pro_x = self.dropout(pro_x)\n",
    "\n",
    "        # Concatenate molecular and protein features\n",
    "        xc = torch.cat((mol_x, pro_x), dim=1)\n",
    "        xc = self.fc1(xc)\n",
    "        xc = self.relu(xc)\n",
    "        xc = self.dropout(xc)\n",
    "        xc = self.fc2(xc)\n",
    "        xc = self.relu(xc)\n",
    "        xc = self.dropout(xc)\n",
    "        out = self.out(xc)\n",
    "        return out\n",
    "\n",
    "\n",
    "\n",
    "##############################################################################\n",
    "#                   3. DATA LOADING HELPERS\n",
    "##############################################################################\n",
    "\n",
    "warnings.filterwarnings('ignore', category=FutureWarning)\n",
    "\n",
    "def load_sample(path):\n",
    "    \"\"\"\n",
    "    Load a .pt sample, fix up 'x' and 'edge_index', return (mol_data, pro_data, target).\n",
    "    \"\"\"\n",
    "    sample = torch.load(path)\n",
    "    mol_data, pro_data, target = sample[0], sample[1], sample[2]\n",
    "\n",
    "    # Convert dict to Data if needed\n",
    "    if isinstance(mol_data, dict):\n",
    "        mol_data = Data(**mol_data)\n",
    "    if isinstance(pro_data, dict):\n",
    "        pro_data = Data(**pro_data)\n",
    "\n",
    "    # Fix x\n",
    "    if not hasattr(mol_data, 'x') or mol_data.x is None:\n",
    "        if hasattr(mol_data, 'features'):\n",
    "            mol_data.x = mol_data.features\n",
    "            del mol_data.features\n",
    "        else:\n",
    "            raise ValueError(\"mol_data missing 'x' or 'features'\")\n",
    "    if not hasattr(pro_data, 'x') or pro_data.x is None:\n",
    "        if hasattr(pro_data, 'features'):\n",
    "            pro_data.x = pro_data.features\n",
    "            del pro_data.features\n",
    "        else:\n",
    "            raise ValueError(\"pro_data missing 'x' or 'features'\")\n",
    "\n",
    "    mol_data.x = torch.as_tensor(mol_data.x, dtype=torch.float32)\n",
    "    pro_data.x = torch.as_tensor(pro_data.x, dtype=torch.float32)\n",
    "\n",
    "    # Fix edge_index\n",
    "    def fix_edge_index(d):\n",
    "        if not isinstance(d.edge_index, torch.Tensor):\n",
    "            d.edge_index = torch.tensor(d.edge_index, dtype=torch.long)\n",
    "        else:\n",
    "            d.edge_index = d.edge_index.long()\n",
    "        if d.edge_index.shape[0] != 2:\n",
    "            d.edge_index = d.edge_index.t()\n",
    "        d.num_nodes = d.x.size(0)\n",
    "\n",
    "    fix_edge_index(mol_data)\n",
    "    fix_edge_index(pro_data)\n",
    "\n",
    "    return (mol_data, pro_data, target)\n",
    "\n",
    "def batch_loader(file_list, sample_dir, batch_size):\n",
    "    \"\"\"\n",
    "    Yields batches of (mol_data, pro_data, target) from file_list.\n",
    "    \"\"\"\n",
    "    batch = []\n",
    "    for file_name in file_list:\n",
    "        path = os.path.join(sample_dir, file_name)\n",
    "        sample = load_sample(path)\n",
    "        batch.append(sample)\n",
    "        if len(batch) == batch_size:\n",
    "            yield batch\n",
    "            batch = []\n",
    "    if batch:\n",
    "        yield batch\n",
    "\n",
    "##############################################################################\n",
    "#              4. TRAINING / EVALUATION WITH METRICS EACH EPOCH\n",
    "##############################################################################\n",
    "import os\n",
    "import torch\n",
    "\n",
    "def train_and_evaluate(sample_dir, num_epochs=10, test_size=0.2, lr=0.001):\n",
    "    \"\"\"\n",
    "    Trains the GNN model, evaluates on train & test each epoch, saves metrics + checkpoints.\n",
    "    \"\"\"\n",
    "    device = torch.device('cuda' if torch.cuda.is_available() else 'cpu')\n",
    "    print(f\"Running on {device}.\")\n",
    "\n",
    "    # Gather samples\n",
    "    sample_files = [f for f in os.listdir(sample_dir) if f.endswith('.pt')]\n",
    "    assert len(sample_files) > 0, \"No .pt files found in sample_dir!\"\n",
    "\n",
    "    # Split\n",
    "    train_files, test_files = train_test_split(sample_files, test_size=test_size, random_state=42)\n",
    "\n",
    "    # Make checkpoint dir\n",
    "    training_model_dir = os.path.join(os.getcwd(), 'TrainingModelNLB')\n",
    "    os.makedirs(training_model_dir, exist_ok=True)\n",
    "    print(f\"Checkpoints will be saved to: {training_model_dir}\")\n",
    "\n",
    "    metrics_path = os.path.join(training_model_dir, \"training_metrics.pt\")\n",
    "\n",
    "    # Load existing metrics if available (Ensures metrics continue from previous runs)\n",
    "    if os.path.exists(metrics_path):\n",
    "        saved_metrics = torch.load(metrics_path)\n",
    "        train_metrics = saved_metrics['train_metrics']\n",
    "        test_metrics = saved_metrics['test_metrics']\n",
    "        print(\"Loaded previous training metrics!\")\n",
    "    else:\n",
    "        train_metrics = {'epoch': [], 'mse': [], 'ci': [], 'pearson': []}\n",
    "        test_metrics = {'epoch': [], 'mse': [], 'ci': [], 'pearson': []}\n",
    "        print(\"Starting fresh metrics tracking.\")\n",
    "\n",
    "    # Infer input dims from one sample\n",
    "    sample0 = load_sample(os.path.join(sample_dir, train_files[0]))\n",
    "    mol_data0, pro_data0 = sample0[0], sample0[1]\n",
    "    num_features_mol = mol_data0.x.size(1)\n",
    "    num_features_pro = pro_data0.x.size(1)\n",
    "\n",
    "    # Initialize model\n",
    "    model = GNNNet(num_features_mol=num_features_mol,\n",
    "                   num_features_pro=num_features_pro).to(device)\n",
    "    optimizer = optim.Adam(model.parameters(), lr=lr)\n",
    "    loss_fn = MSELoss()\n",
    "\n",
    "    # Possibly resume from checkpoint\n",
    "    start_epoch = 1\n",
    "    existing_checkpoints = [\n",
    "        f for f in os.listdir(training_model_dir)\n",
    "        if f.endswith('.pt') and f.startswith('model_epoch')\n",
    "    ]\n",
    "    last_ckpt_path = None  # Track previous checkpoint for deletion\n",
    "\n",
    "    if existing_checkpoints:\n",
    "        latest_ckpt = max(existing_checkpoints, key=lambda x: int(x.split('_epoch')[1].split('.pt')[0]))\n",
    "        ckpt_path = os.path.join(training_model_dir, latest_ckpt)\n",
    "        print(f\"Loading checkpoint from {ckpt_path}\")\n",
    "        ckpt = torch.load(ckpt_path, map_location=device)\n",
    "        model.load_state_dict(ckpt['model_state_dict'])\n",
    "        optimizer.load_state_dict(ckpt['optimizer_state_dict'])\n",
    "        loaded_epoch = ckpt['epoch']\n",
    "        start_epoch = loaded_epoch + 1\n",
    "        last_ckpt_path = ckpt_path  # Store last checkpoint path for deletion\n",
    "        print(f\"Resuming from epoch {start_epoch}\")\n",
    "    else:\n",
    "        print(\"No existing checkpoint found; starting fresh.\")\n",
    "\n",
    "    @torch.no_grad()\n",
    "    def evaluate(files):\n",
    "        model.eval()\n",
    "        all_preds = []\n",
    "        all_targets = []\n",
    "        batch_eval_size = 200\n",
    "        for batch_samples in batch_loader(files, sample_dir, batch_eval_size):\n",
    "            mol_list, pro_list, tgt_list = [], [], []\n",
    "            for (md, pd, t) in batch_samples:\n",
    "                mol_list.append(md)\n",
    "                pro_list.append(pd)\n",
    "                tgt_list.append(t)\n",
    "\n",
    "            mol_batch = Batch.from_data_list(mol_list).to(device)\n",
    "            pro_batch = Batch.from_data_list(pro_list).to(device)\n",
    "            t_tensor = torch.tensor(tgt_list, dtype=torch.float32, device=device)\n",
    "\n",
    "            out = model(mol_batch, pro_batch).view(-1)\n",
    "            all_preds.append(out)\n",
    "            all_targets.append(t_tensor)\n",
    "\n",
    "        all_preds = torch.cat(all_preds, dim=0)\n",
    "        all_targets = torch.cat(all_targets, dim=0)\n",
    "\n",
    "        mse_val = mse_torch(all_preds, all_targets)\n",
    "        ci_val = ci_vectorized(all_preds, all_targets)\n",
    "        pearson_val = pearson_torch(all_preds, all_targets)\n",
    "        return mse_val, ci_val, pearson_val\n",
    "\n",
    "    # Training loop\n",
    "    batch_size = 61\n",
    "    for epoch in tqdm(range(start_epoch, num_epochs + 1), desc=\"Training\", unit=\"epoch\"):\n",
    "        model.train()\n",
    "        running_loss = 0.0\n",
    "\n",
    "        for batch_samples in batch_loader(train_files, sample_dir, batch_size):\n",
    "            mol_list, pro_list, tgt_list = [], [], []\n",
    "            for (md, pd, t) in batch_samples:\n",
    "                mol_list.append(md)\n",
    "                pro_list.append(pd)\n",
    "                tgt_list.append(t)\n",
    "\n",
    "            mol_batch = Batch.from_data_list(mol_list).to(device)\n",
    "            pro_batch = Batch.from_data_list(pro_list).to(device)\n",
    "            t_tensor = torch.tensor(tgt_list, dtype=torch.float32, device=device).view(-1)\n",
    "\n",
    "            optimizer.zero_grad()\n",
    "            out = model(mol_batch, pro_batch).view(-1)\n",
    "            loss = loss_fn(out, t_tensor)\n",
    "            loss.backward()\n",
    "            optimizer.step()\n",
    "\n",
    "            running_loss += loss.item() * len(batch_samples)\n",
    "\n",
    "        avg_loss = running_loss / len(train_files)\n",
    "        tqdm.write(f\"[Epoch {epoch}/{num_epochs}] Training Loss: {avg_loss:.4f}\")\n",
    "\n",
    "        # Evaluate on train & test\n",
    "        train_mse, train_ci, train_pearson = evaluate(train_files)\n",
    "        test_mse, test_ci, test_pearson = evaluate(test_files)\n",
    "\n",
    "        train_metrics['epoch'].append(epoch)\n",
    "        train_metrics['mse'].append(train_mse)\n",
    "        train_metrics['ci'].append(train_ci)\n",
    "        train_metrics['pearson'].append(train_pearson)\n",
    "\n",
    "        test_metrics['epoch'].append(epoch)\n",
    "        test_metrics['mse'].append(test_mse)\n",
    "        test_metrics['ci'].append(test_ci)\n",
    "        test_metrics['pearson'].append(test_pearson)\n",
    "\n",
    "        tqdm.write(f\"  Train => MSE={train_mse:.4f}, CI={train_ci:.4f}, Pearson={train_pearson:.4f}\")\n",
    "        tqdm.write(f\"  Test  => MSE={test_mse:.4f}, CI={test_ci:.4f}, Pearson={test_pearson:.4f}\")\n",
    "\n",
    "        # Save new checkpoint\n",
    "        ckpt_name = f\"model_epoch{epoch}.pt\"\n",
    "        ckpt_path = os.path.join(training_model_dir, ckpt_name)\n",
    "        torch.save({\n",
    "            'epoch': epoch,\n",
    "            'model_state_dict': model.state_dict(),\n",
    "            'optimizer_state_dict': optimizer.state_dict(),\n",
    "        }, ckpt_path)\n",
    "        tqdm.write(f\"Checkpoint saved at epoch {epoch}\")\n",
    "\n",
    "        # Delete the previous checkpoint after saving the new one\n",
    "        if last_ckpt_path and os.path.exists(last_ckpt_path):\n",
    "            os.remove(last_ckpt_path)\n",
    "            tqdm.write(f\"Deleted previous checkpoint: {last_ckpt_path}\")\n",
    "\n",
    "        # Update last checkpoint path\n",
    "        last_ckpt_path = ckpt_path\n",
    "\n",
    "        # Save/Update the metrics after each epoch\n",
    "        torch.save({\n",
    "            'train_metrics': train_metrics,\n",
    "            'test_metrics': test_metrics\n",
    "        }, metrics_path)\n",
    "\n",
    "    # Final evaluations\n",
    "    final_train_mse, final_train_ci, final_train_pearson = evaluate(train_files)\n",
    "    final_test_mse, final_test_ci, final_test_pearson = evaluate(test_files)\n",
    "    print(f\"\\nFinal Train => MSE={final_train_mse:.4f}, CI={final_train_ci:.4f}, Pearson={final_train_pearson:.4f}\")\n",
    "    print(f\"Final Test  => MSE={final_test_mse:.4f}, CI={final_test_ci:.4f}, Pearson={final_test_pearson:.4f}\")\n",
    "\n",
    "    # Save final metrics\n",
    "    torch.save({\n",
    "        'train_metrics': train_metrics,\n",
    "        'test_metrics': test_metrics\n",
    "    }, metrics_path)\n",
    "    print(f\"Metrics saved to {metrics_path}\")\n",
    "\n",
    "    return train_metrics, test_metrics\n",
    "\n",
    "\n",
    "##############################################################################\n",
    "#               5. OPTIONAL: PLOT THE SAVED METRICS\n",
    "##############################################################################\n",
    "\n",
    "def plot_metrics(checkpoint_dir='TrainingModelNLB'):\n",
    "    \"\"\"\n",
    "    Load training_metrics.pt from the checkpoint_dir and plot MSE, CI, Pearson over epochs.\n",
    "    \"\"\"\n",
    "    metrics_path = os.path.join(checkpoint_dir, \"training_metrics.pt\")\n",
    "    if not os.path.exists(metrics_path):\n",
    "        print(f\"No metrics file found at {metrics_path}!\")\n",
    "        return\n",
    "\n",
    "    saved_data = torch.load(metrics_path)\n",
    "    train_metrics = saved_data['train_metrics']\n",
    "    test_metrics = saved_data['test_metrics']\n",
    "    epochs = train_metrics['epoch']\n",
    "\n",
    "    # Plot MSE\n",
    "    plt.figure(figsize=(8, 6))\n",
    "    plt.plot(epochs, train_metrics['mse'], 'o-', label='Train MSE')\n",
    "    plt.plot(epochs, test_metrics['mse'], 'o-', label='Test MSE')\n",
    "    plt.xlabel('Epoch')\n",
    "    plt.ylabel('MSE')\n",
    "    plt.title('Mean Squared Error over Epochs')\n",
    "    plt.legend()\n",
    "    plt.savefig(os.path.join(checkpoint_dir, \"MSE_plot.png\"))  \n",
    "    plt.show()\n",
    "\n",
    "    # Plot CI\n",
    "    plt.figure(figsize=(8, 6))\n",
    "    plt.plot(epochs, train_metrics['ci'], 'o-', label='Train CI')\n",
    "    plt.plot(epochs, test_metrics['ci'], 'o-', label='Test CI')\n",
    "    plt.xlabel('Epoch')\n",
    "    plt.ylabel('Concordance Index')\n",
    "    plt.title('CI over Epochs')\n",
    "    plt.savefig(os.path.join(checkpoint_dir, \"CI_plot.png\"))  \n",
    "    plt.legend()\n",
    "    plt.show()\n",
    "\n",
    "    # Plot Pearson\n",
    "    plt.figure(figsize=(8, 6))\n",
    "    plt.plot(epochs, train_metrics['pearson'], 'o-', label='Train Pearson')\n",
    "    plt.plot(epochs, test_metrics['pearson'], 'o-', label='Test Pearson')\n",
    "    plt.xlabel('Epoch')\n",
    "    plt.ylabel('Pearson Correlation')\n",
    "    plt.title('Pearson Correlation over Epochs')\n",
    "    plt.legend()\n",
    "    plt.savefig(os.path.join(checkpoint_dir, \"PEARSON_plot.png\"))  \n",
    "    plt.show()\n",
    "\n",
    "##############################################################################\n",
    "#                                 MAIN\n",
    "##############################################################################\n",
    "\n",
    "if __name__ == \"__main__\":\n",
    "    # Adjust the paths/parameters as needed\n",
    "    SAMPLE_DIR = \"prepared_samples\"   # Directory with your .pt samples\n",
    "    NUM_EPOCHS = 250\n",
    "    TEST_SPLIT = 0.2\n",
    "    LR = 0.001\n",
    "\n",
    "    # 1) Train and evaluate\n",
    "    train_metrics, test_metrics = train_and_evaluate(\n",
    "        sample_dir=SAMPLE_DIR,\n",
    "        num_epochs=NUM_EPOCHS,\n",
    "        test_size=TEST_SPLIT,\n",
    "        lr=LR\n",
    "    )\n",
    "\n",
    "    # 2) Plot the metrics\n",
    "    plot_metrics('TrainingModelNLB')"
   ]
  },
  {
   "cell_type": "code",
   "execution_count": 8,
   "id": "50d15724",
   "metadata": {
    "execution": {
     "iopub.execute_input": "2025-02-05T00:53:29.971887Z",
     "iopub.status.busy": "2025-02-05T00:53:29.971591Z",
     "iopub.status.idle": "2025-02-05T00:53:29.979804Z",
     "shell.execute_reply": "2025-02-05T00:53:29.979030Z"
    },
    "papermill": {
     "duration": 0.026706,
     "end_time": "2025-02-05T00:53:29.981140",
     "exception": false,
     "start_time": "2025-02-05T00:53:29.954434",
     "status": "completed"
    },
    "tags": []
   },
   "outputs": [],
   "source": [
    "\n",
    "import os \n",
    "import matplotlib.pyplot as plt\n",
    "import torch\n",
    "def plot_metrics(checkpoint_dir='TrainingModelNLB'):\n",
    "    \"\"\"\n",
    "    Load training_metrics.pt from the checkpoint_dir and plot MSE, CI, Pearson over epochs.\n",
    "    \"\"\"\n",
    "    metrics_path = os.path.join(checkpoint_dir, \"training_metrics.pt\")\n",
    "    if not os.path.exists(metrics_path):\n",
    "        print(f\"No metrics file found at {metrics_path}!\")\n",
    "        return\n",
    "\n",
    "    saved_data = torch.load(metrics_path)\n",
    "    train_metrics = saved_data['train_metrics']\n",
    "    test_metrics = saved_data['test_metrics']\n",
    "    epochs = train_metrics['epoch']\n",
    "\n",
    "    # Plot MSE\n",
    "    plt.figure(figsize=(8, 6))\n",
    "    plt.plot(epochs, train_metrics['mse'], 'o-', label='Train MSE')\n",
    "    plt.plot(epochs, test_metrics['mse'], 'o-', label='Test MSE')\n",
    "    plt.xlabel('Epoch')\n",
    "    plt.ylabel('MSE')\n",
    "    plt.title('Mean Squared Error over Epochs')\n",
    "    plt.legend()\n",
    "    plt.savefig(os.path.join(checkpoint_dir, \"MSE_plot.png\"))  \n",
    "    plt.show()\n",
    "\n",
    "    # Plot CI\n",
    "    plt.figure(figsize=(8, 6))\n",
    "    plt.plot(epochs, train_metrics['ci'], 'o-', label='Train CI')\n",
    "    plt.plot(epochs, test_metrics['ci'], 'o-', label='Test CI')\n",
    "    plt.xlabel('Epoch')\n",
    "    plt.ylabel('Concordance Index')\n",
    "    plt.title('CI over Epochs')\n",
    "    plt.savefig(os.path.join(checkpoint_dir, \"CI_plot.png\"))  \n",
    "    plt.legend()\n",
    "    plt.show()\n",
    "\n",
    "    # Plot Pearson\n",
    "    plt.figure(figsize=(8, 6))\n",
    "    plt.plot(epochs, train_metrics['pearson'], 'o-', label='Train Pearson')\n",
    "    plt.plot(epochs, test_metrics['pearson'], 'o-', label='Test Pearson')\n",
    "    plt.xlabel('Epoch')\n",
    "    plt.ylabel('Pearson Correlation')\n",
    "    plt.title('Pearson Correlation over Epochs')\n",
    "    plt.legend()\n",
    "    plt.savefig(os.path.join(checkpoint_dir, \"PEARSON_plot.png\"))  \n",
    "    plt.show()\n"
   ]
  },
  {
   "cell_type": "code",
   "execution_count": 9,
   "id": "1310d41b",
   "metadata": {
    "execution": {
     "iopub.execute_input": "2025-02-05T00:53:30.017006Z",
     "iopub.status.busy": "2025-02-05T00:53:30.016692Z",
     "iopub.status.idle": "2025-02-05T00:53:30.021460Z",
     "shell.execute_reply": "2025-02-05T00:53:30.020630Z"
    },
    "papermill": {
     "duration": 0.024088,
     "end_time": "2025-02-05T00:53:30.022788",
     "exception": false,
     "start_time": "2025-02-05T00:53:29.998700",
     "status": "completed"
    },
    "tags": []
   },
   "outputs": [
    {
     "name": "stdout",
     "output_type": "stream",
     "text": [
      "No metrics file found at training_metrics.pt!\n"
     ]
    }
   ],
   "source": [
    "plot_metrics('')"
   ]
  },
  {
   "cell_type": "code",
   "execution_count": 10,
   "id": "05d0e5cf",
   "metadata": {
    "execution": {
     "iopub.execute_input": "2025-02-05T00:53:30.060303Z",
     "iopub.status.busy": "2025-02-05T00:53:30.059981Z",
     "iopub.status.idle": "2025-02-05T00:53:30.066366Z",
     "shell.execute_reply": "2025-02-05T00:53:30.065620Z"
    },
    "papermill": {
     "duration": 0.025718,
     "end_time": "2025-02-05T00:53:30.067745",
     "exception": false,
     "start_time": "2025-02-05T00:53:30.042027",
     "status": "completed"
    },
    "tags": []
   },
   "outputs": [],
   "source": [
    "\n",
    "# import os\n",
    "# import torch\n",
    "\n",
    "# def train_and_evaluate(sample_dir, num_epochs=10, test_size=0.2, lr=0.001):\n",
    "#     \"\"\"\n",
    "#     Trains the GNN model, evaluates on train & test each epoch, saves metrics + checkpoints.\n",
    "#     \"\"\"\n",
    "#     device = torch.device('cuda' if torch.cuda.is_available() else 'cpu')\n",
    "#     print(f\"Running on {device}.\")\n",
    "\n",
    "#     # Gather samples\n",
    "#     sample_files = [f for f in os.listdir(sample_dir) if f.endswith('.pt')]\n",
    "#     assert len(sample_files) > 0, \"No .pt files found in sample_dir!\"\n",
    "\n",
    "#     # Split\n",
    "#     train_files, test_files = train_test_split(sample_files, test_size=test_size, random_state=42)\n",
    "\n",
    "#     # Make checkpoint dir\n",
    "#     training_model_dir = os.path.join(os.getcwd(), 'TrainingModelMul')\n",
    "#     os.makedirs(training_model_dir, exist_ok=True)\n",
    "#     print(f\"Checkpoints will be saved to: {training_model_dir}\")\n",
    "\n",
    "#     metrics_path = os.path.join(training_model_dir, \"training_metrics.pt\")\n",
    "\n",
    "#     # Load existing metrics if available (Ensures metrics continue from previous runs)\n",
    "#     if os.path.exists(metrics_path):\n",
    "#         saved_metrics = torch.load(metrics_path)\n",
    "#         train_metrics = saved_metrics['train_metrics']\n",
    "#         test_metrics = saved_metrics['test_metrics']\n",
    "#         print(\"Loaded previous training metrics!\")\n",
    "#     else:\n",
    "#         train_metrics = {'epoch': [], 'mse': [], 'ci': [], 'pearson': []}\n",
    "#         test_metrics = {'epoch': [], 'mse': [], 'ci': [], 'pearson': []}\n",
    "#         print(\"Starting fresh metrics tracking.\")\n",
    "\n",
    "#     # Infer input dims from one sample\n",
    "#     sample0 = load_sample(os.path.join(sample_dir, train_files[0]))\n",
    "#     mol_data0, pro_data0 = sample0[0], sample0[1]\n",
    "#     num_features_mol = mol_data0.x.size(1)\n",
    "#     num_features_pro = pro_data0.x.size(1)\n",
    "\n",
    "#     # Initialize model\n",
    "#     model = GNNNet(num_features_mol=num_features_mol,\n",
    "#                    num_features_pro=num_features_pro).to(device)\n",
    "#     optimizer = optim.Adam(model.parameters(), lr=lr)\n",
    "#     loss_fn = MSELoss()\n",
    "\n",
    "#     # Possibly resume from checkpoint\n",
    "#     start_epoch = 1\n",
    "#     existing_checkpoints = [\n",
    "#         f for f in os.listdir(training_model_dir)\n",
    "#         if f.endswith('.pt') and f.startswith('model_epoch')\n",
    "#     ]\n",
    "#     last_ckpt_path = None  # Track previous checkpoint for deletion\n",
    "\n",
    "#     if existing_checkpoints:\n",
    "#         latest_ckpt = max(existing_checkpoints, key=lambda x: int(x.split('_epoch')[1].split('.pt')[0]))\n",
    "#         ckpt_path = os.path.join(training_model_dir, latest_ckpt)\n",
    "#         print(f\"Loading checkpoint from {ckpt_path}\")\n",
    "#         ckpt = torch.load(ckpt_path, map_location=device)\n",
    "#         model.load_state_dict(ckpt['model_state_dict'])\n",
    "#         optimizer.load_state_dict(ckpt['optimizer_state_dict'])\n",
    "#         loaded_epoch = ckpt['epoch']\n",
    "#         start_epoch = loaded_epoch + 1\n",
    "#         last_ckpt_path = ckpt_path  # Store last checkpoint path for deletion\n",
    "#         print(f\"Resuming from epoch {start_epoch}\")\n",
    "#     else:\n",
    "#         print(\"No existing checkpoint found; starting fresh.\")\n",
    "\n",
    "#     @torch.no_grad()\n",
    "#     def evaluate(files):\n",
    "#         model.eval()\n",
    "#         all_preds = []\n",
    "#         all_targets = []\n",
    "#         batch_eval_size = 200\n",
    "#         for batch_samples in batch_loader(files, sample_dir, batch_eval_size):\n",
    "#             mol_list, pro_list, tgt_list = [], [], []\n",
    "#             for (md, pd, t) in batch_samples:\n",
    "#                 mol_list.append(md)\n",
    "#                 pro_list.append(pd)\n",
    "#                 tgt_list.append(t)\n",
    "\n",
    "#             mol_batch = Batch.from_data_list(mol_list).to(device)\n",
    "#             pro_batch = Batch.from_data_list(pro_list).to(device)\n",
    "#             t_tensor = torch.tensor(tgt_list, dtype=torch.float32, device=device)\n",
    "\n",
    "#             out = model(mol_batch, pro_batch).view(-1)\n",
    "#             all_preds.append(out)\n",
    "#             all_targets.append(t_tensor)\n",
    "\n",
    "#         all_preds = torch.cat(all_preds, dim=0)\n",
    "#         all_targets = torch.cat(all_targets, dim=0)\n",
    "\n",
    "#         mse_val = mse_torch(all_preds, all_targets)\n",
    "#         ci_val = ci_vectorized(all_preds, all_targets)\n",
    "#         pearson_val = pearson_torch(all_preds, all_targets)\n",
    "#         return mse_val, ci_val, pearson_val\n",
    "\n",
    "#     # Training loop\n",
    "#     batch_size = 500\n",
    "#     for epoch in tqdm(range(start_epoch, num_epochs + 1), desc=\"Training\", unit=\"epoch\"):\n",
    "#         model.train()\n",
    "#         running_loss = 0.0\n",
    "\n",
    "#         for batch_samples in batch_loader(train_files, sample_dir, batch_size):\n",
    "#             mol_list, pro_list, tgt_list = [], [], []\n",
    "#             for (md, pd, t) in batch_samples:\n",
    "#                 mol_list.append(md)\n",
    "#                 pro_list.append(pd)\n",
    "#                 tgt_list.append(t)\n",
    "\n",
    "#             mol_batch = Batch.from_data_list(mol_list).to(device)\n",
    "#             pro_batch = Batch.from_data_list(pro_list).to(device)\n",
    "#             t_tensor = torch.tensor(tgt_list, dtype=torch.float32, device=device).view(-1)\n",
    "\n",
    "#             optimizer.zero_grad()\n",
    "#             out = model(mol_batch, pro_batch).view(-1)\n",
    "#             loss = loss_fn(out, t_tensor)\n",
    "#             loss.backward()\n",
    "#             optimizer.step()\n",
    "\n",
    "#             running_loss += loss.item() * len(batch_samples)\n",
    "\n",
    "#         avg_loss = running_loss / len(train_files)\n",
    "#         tqdm.write(f\"[Epoch {epoch}/{num_epochs}] Training Loss: {avg_loss:.4f}\")\n",
    "\n",
    "#         # Evaluate on train & test\n",
    "#         train_mse, train_ci, train_pearson = evaluate(train_files)\n",
    "#         test_mse, test_ci, test_pearson = evaluate(test_files)\n",
    "\n",
    "#         train_metrics['epoch'].append(epoch)\n",
    "#         train_metrics['mse'].append(train_mse)\n",
    "#         train_metrics['ci'].append(train_ci)\n",
    "#         train_metrics['pearson'].append(train_pearson)\n",
    "\n",
    "#         test_metrics['epoch'].append(epoch)\n",
    "#         test_metrics['mse'].append(test_mse)\n",
    "#         test_metrics['ci'].append(test_ci)\n",
    "#         test_metrics['pearson'].append(test_pearson)\n",
    "\n",
    "#         tqdm.write(f\"  Train => MSE={train_mse:.4f}, CI={train_ci:.4f}, Pearson={train_pearson:.4f}\")\n",
    "#         tqdm.write(f\"  Test  => MSE={test_mse:.4f}, CI={test_ci:.4f}, Pearson={test_pearson:.4f}\")\n",
    "\n",
    "#         # Save new checkpoint\n",
    "#         ckpt_name = f\"model_epoch{epoch}.pt\"\n",
    "#         ckpt_path = os.path.join(training_model_dir, ckpt_name)\n",
    "#         torch.save({\n",
    "#             'epoch': epoch,\n",
    "#             'model_state_dict': model.state_dict(),\n",
    "#             'optimizer_state_dict': optimizer.state_dict(),\n",
    "#         }, ckpt_path)\n",
    "#         tqdm.write(f\"Checkpoint saved at epoch {epoch}\")\n",
    "\n",
    "#         # Delete the previous checkpoint after saving the new one\n",
    "#         if last_ckpt_path and os.path.exists(last_ckpt_path):\n",
    "#             os.remove(last_ckpt_path)\n",
    "#             tqdm.write(f\"Deleted previous checkpoint: {last_ckpt_path}\")\n",
    "\n",
    "#         # Update last checkpoint path\n",
    "#         last_ckpt_path = ckpt_path\n",
    "\n",
    "#         # Save/Update the metrics after each epoch\n",
    "#         torch.save({\n",
    "#             'train_metrics': train_metrics,\n",
    "#             'test_metrics': test_metrics\n",
    "#         }, metrics_path)\n",
    "\n",
    "#     # Final evaluations\n",
    "#     final_train_mse, final_train_ci, final_train_pearson = evaluate(train_files)\n",
    "#     final_test_mse, final_test_ci, final_test_pearson = evaluate(test_files)\n",
    "#     print(f\"\\nFinal Train => MSE={final_train_mse:.4f}, CI={final_train_ci:.4f}, Pearson={final_train_pearson:.4f}\")\n",
    "#     print(f\"Final Test  => MSE={final_test_mse:.4f}, CI={final_test_ci:.4f}, Pearson={final_test_pearson:.4f}\")\n",
    "\n",
    "#     # Save final metrics\n",
    "#     torch.save({\n",
    "#         'train_metrics': train_metrics,\n",
    "#         'test_metrics': test_metrics\n",
    "#     }, metrics_path)\n",
    "#     print(f\"Metrics saved to {metrics_path}\")\n",
    "\n",
    "#     return train_metrics, test_metrics\n",
    "\n",
    "\n",
    "# ##############################################################################\n",
    "# #               5. OPTIONAL: PLOT THE SAVED METRICS\n",
    "# ##############################################################################\n",
    "\n",
    "# def plot_metrics(checkpoint_dir='TrainingModelMul'):\n",
    "#     \"\"\"\n",
    "#     Load training_metrics.pt from the checkpoint_dir and plot MSE, CI, Pearson over epochs.\n",
    "#     \"\"\"\n",
    "#     metrics_path = os.path.join(checkpoint_dir, \"training_metrics.pt\")\n",
    "#     if not os.path.exists(metrics_path):\n",
    "#         print(f\"No metrics file found at {metrics_path}!\")\n",
    "#         return\n",
    "\n",
    "#     saved_data = torch.load(metrics_path)\n",
    "#     train_metrics = saved_data['train_metrics']\n",
    "#     test_metrics = saved_data['test_metrics']\n",
    "#     epochs = train_metrics['epoch']\n",
    "\n",
    "#     # Plot MSE\n",
    "#     plt.figure(figsize=(8, 6))\n",
    "#     plt.plot(epochs, train_metrics['mse'], 'o-', label='Train MSE')\n",
    "#     plt.plot(epochs, test_metrics['mse'], 'o-', label='Test MSE')\n",
    "#     plt.xlabel('Epoch')\n",
    "#     plt.ylabel('MSE')\n",
    "#     plt.title('Mean Squared Error over Epochs')\n",
    "#     plt.legend()\n",
    "#     plt.savefig(os.path.join(checkpoint_dir, \"MSE_plot.png\"))  \n",
    "#     plt.show()\n",
    "\n",
    "#     # Plot CI\n",
    "#     plt.figure(figsize=(8, 6))\n",
    "#     plt.plot(epochs, train_metrics['ci'], 'o-', label='Train CI')\n",
    "#     plt.plot(epochs, test_metrics['ci'], 'o-', label='Test CI')\n",
    "#     plt.xlabel('Epoch')\n",
    "#     plt.ylabel('Concordance Index')\n",
    "#     plt.title('CI over Epochs')\n",
    "#     plt.savefig(os.path.join(checkpoint_dir, \"CI_plot.png\"))  \n",
    "#     plt.legend()\n",
    "#     plt.show()\n",
    "\n",
    "#     # Plot Pearson\n",
    "#     plt.figure(figsize=(8, 6))\n",
    "#     plt.plot(epochs, train_metrics['pearson'], 'o-', label='Train Pearson')\n",
    "#     plt.plot(epochs, test_metrics['pearson'], 'o-', label='Test Pearson')\n",
    "#     plt.xlabel('Epoch')\n",
    "#     plt.ylabel('Pearson Correlation')\n",
    "#     plt.title('Pearson Correlation over Epochs')\n",
    "#     plt.legend()\n",
    "#     plt.savefig(os.path.join(checkpoint_dir, \"PEARSON_plot.png\"))  \n",
    "#     plt.show()\n",
    "\n",
    "# ##############################################################################\n",
    "# #                                 MAIN\n",
    "# ##############################################################################\n",
    "\n",
    "# if __name__ == \"__main__\":\n",
    "#     # Adjust the paths/parameters as needed\n",
    "#     SAMPLE_DIR = \"prepared_samples\"   # Directory with your .pt samples\n",
    "#     NUM_EPOCHS = 250\n",
    "#     TEST_SPLIT = 0.2\n",
    "#     LR = 0.001\n",
    "\n",
    "#     # 1) Train and evaluate\n",
    "#     train_metrics, test_metrics = train_and_evaluate(\n",
    "#         sample_dir=SAMPLE_DIR,\n",
    "#         num_epochs=NUM_EPOCHS,\n",
    "#         test_size=TEST_SPLIT,\n",
    "#         lr=LR\n",
    "#     )\n",
    "\n",
    "#     # 2) Plot the metrics\n",
    "#     plot_metrics('TrainingModelMul')"
   ]
  },
  {
   "cell_type": "code",
   "execution_count": null,
   "id": "c95b225d",
   "metadata": {
    "papermill": {
     "duration": 0.015868,
     "end_time": "2025-02-05T00:53:30.100854",
     "exception": false,
     "start_time": "2025-02-05T00:53:30.084986",
     "status": "completed"
    },
    "tags": []
   },
   "outputs": [],
   "source": []
  }
 ],
 "metadata": {
  "kaggle": {
   "accelerator": "gpu",
   "dataSources": [
    {
     "datasetId": 6604534,
     "sourceId": 10664136,
     "sourceType": "datasetVersion"
    },
    {
     "isSourceIdPinned": true,
     "modelId": 235559,
     "modelInstanceId": 213898,
     "sourceId": 250253,
     "sourceType": "modelInstanceVersion"
    }
   ],
   "dockerImageVersionId": 30840,
   "isGpuEnabled": true,
   "isInternetEnabled": true,
   "language": "python",
   "sourceType": "notebook"
  },
  "kernelspec": {
   "display_name": "Python 3",
   "language": "python",
   "name": "python3"
  },
  "language_info": {
   "codemirror_mode": {
    "name": "ipython",
    "version": 3
   },
   "file_extension": ".py",
   "mimetype": "text/x-python",
   "name": "python",
   "nbconvert_exporter": "python",
   "pygments_lexer": "ipython3",
   "version": "3.10.12"
  },
  "papermill": {
   "default_parameters": {},
   "duration": 15231.915315,
   "end_time": "2025-02-05T00:53:32.529242",
   "environment_variables": {},
   "exception": null,
   "input_path": "__notebook__.ipynb",
   "output_path": "__notebook__.ipynb",
   "parameters": {},
   "start_time": "2025-02-04T20:39:40.613927",
   "version": "2.6.0"
  }
 },
 "nbformat": 4,
 "nbformat_minor": 5
}
